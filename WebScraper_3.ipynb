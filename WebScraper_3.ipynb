{
  "nbformat": 4,
  "nbformat_minor": 0,
  "metadata": {
    "colab": {
      "name": "WebScraper2018_3.ipynb",
      "provenance": [],
      "collapsed_sections": [],
      "include_colab_link": true
    },
    "kernelspec": {
      "name": "python3",
      "display_name": "Python 3"
    },
    "language_info": {
      "name": "python"
    }
  },
  "cells": [
    {
      "cell_type": "markdown",
      "metadata": {
        "id": "view-in-github",
        "colab_type": "text"
      },
      "source": [
        "<a href=\"https://colab.research.google.com/github/amya-singhal/Ice_skating_predictive_model/blob/main/WebScraper_3.ipynb\" target=\"_parent\"><img src=\"https://colab.research.google.com/assets/colab-badge.svg\" alt=\"Open In Colab\"/></a>"
      ]
    },
    {
      "cell_type": "code",
      "execution_count": 2,
      "metadata": {
        "id": "UwlxFcNrmlce"
      },
      "outputs": [],
      "source": [
        "import requests \n",
        "from bs4 import BeautifulSoup \n",
        "import os\n",
        "import time\n",
        "import json\n",
        "import re\n",
        "import pandas as pd\n",
        "from unicodedata import normalize"
      ]
    },
    {
      "cell_type": "code",
      "source": [
        "# put the url of the webpage here\n",
        "url = \"https://results.isu.org/events/gpjpn2021_Women.htm\""
      ],
      "metadata": {
        "id": "42fohVWkmubS"
      },
      "execution_count": 3,
      "outputs": []
    },
    {
      "cell_type": "code",
      "source": [
        "# google 'my user agent' and you will get a text that looks a lot like \"Mozilla/5.0 (Macintosh...\"\". Copy this and paste it below\n",
        "headers = { \"User-Agent\": \"Mozilla/5.0 (Macintosh; Intel Mac OS X 10_13_6) AppleWebKit/537.36 (KHTML, like Gecko) Chrome/97.0.4692.71 Safari/537.36\"}"
      ],
      "metadata": {
        "id": "9x6SVdEWm1kC"
      },
      "execution_count": 4,
      "outputs": []
    },
    {
      "cell_type": "code",
      "source": [
        "# this will extract the html of the page. (copy code here)\n",
        "def ParseHTML(url, printHTML = False):\n",
        "    r = requests.get(url,headers=headers)\n",
        "        \n",
        "    if r.status_code != 200:        \n",
        "        print(\"Page %s must have been blocked by eBay as the status code was %d\"%(url,r.status_code))\n",
        "        return None\n",
        "    \n",
        "    print(\"Successfully parsed page\")\n",
        "    soup = BeautifulSoup(r.content, features=\"lxml\")\n",
        "    \n",
        "    if (printHTML):\n",
        "        print(soup)\n",
        "    \n",
        "    return soup"
      ],
      "metadata": {
        "id": "t1LUnkUlnPkX"
      },
      "execution_count": 5,
      "outputs": []
    },
    {
      "cell_type": "code",
      "source": [
        "html = ParseHTML(url, False)\n",
        "#print(html)"
      ],
      "metadata": {
        "colab": {
          "base_uri": "https://localhost:8080/"
        },
        "id": "I8wl4Xw3nSgZ",
        "outputId": "dbea43d5-69df-4cb1-fc26-8bd9ab3b733d"
      },
      "execution_count": 6,
      "outputs": [
        {
          "output_type": "stream",
          "name": "stdout",
          "text": [
            "Successfully parsed page\n"
          ]
        }
      ]
    },
    {
      "cell_type": "code",
      "source": [
        "extracted_list = html.find_all(\"tr\",{\"style\":\"height:13.11pt;\"})"
      ],
      "metadata": {
        "id": "GMZtiCbdnlh9"
      },
      "execution_count": 7,
      "outputs": []
    },
    {
      "cell_type": "code",
      "source": [
        "def get_name_n_score(l1):\n",
        "  final_list = []\n",
        "  for i in range(0, len(extracted_list)):\n",
        "    score1 = extracted_list[i].find_all(\"td\")\n",
        "    name1 = extracted_list[i].find(\"a\") \n",
        "    if name1 == None:\n",
        "      pass\n",
        "    else:\n",
        "      final_list.append([name1.text, score1[3].text])\n",
        "   "
      ],
      "metadata": {
        "id": "9MpXmri8pFWj"
      },
      "execution_count": 8,
      "outputs": []
    },
    {
      "cell_type": "code",
      "source": [
        "get_name_n_score(extracted_list)"
      ],
      "metadata": {
        "id": "t32ltdj7zRJC"
      },
      "execution_count": 9,
      "outputs": []
    }
  ]
}