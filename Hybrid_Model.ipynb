{
  "cells": [
    {
      "cell_type": "markdown",
      "metadata": {
        "id": "view-in-github",
        "colab_type": "text"
      },
      "source": [
        "<a href=\"https://colab.research.google.com/github/amya-singhal/Ice_skating_predictive_model/blob/main/Hybrid_Model.ipynb\" target=\"_parent\"><img src=\"https://colab.research.google.com/assets/colab-badge.svg\" alt=\"Open In Colab\"/></a>"
      ]
    },
    {
      "cell_type": "code",
      "execution_count": 1,
      "metadata": {
        "id": "8896b738-f025-449e-9df8-ca9d24fcf052"
      },
      "outputs": [],
      "source": [
        "import csv\n",
        "import pandas as pd\n",
        "import numpy as np\n",
        "from sklearn.linear_model import LinearRegression\n",
        "from sklearn.metrics import mean_squared_error\n",
        "from itertools import combinations\n",
        "from scipy.stats import kendalltau, norm\n",
        "from math import sqrt\n",
        "import matplotlib.pyplot as plt\n",
        "from matplotlib.patches import ConnectionPatch\n",
        "from matplotlib import rc\n",
        "import matplotlib as mpl\n",
        "import seaborn as sns\n",
        "\n",
        "plt.style.use('seaborn')\n",
        "rc('text', usetex=False)\n",
        "%matplotlib inline"
      ],
      "id": "8896b738-f025-449e-9df8-ca9d24fcf052"
    },
    {
      "cell_type": "code",
      "execution_count": 2,
      "metadata": {
        "id": "91e1e9d2-6a4f-4339-ae01-c5e1f5109e00",
        "colab": {
          "base_uri": "https://localhost:8080/"
        },
        "outputId": "faffe6f4-1c08-4682-d250-be6c813dd7ee"
      },
      "outputs": [
        {
          "output_type": "stream",
          "name": "stdout",
          "text": [
            "Collecting utils\n",
            "  Downloading utils-1.0.1-py2.py3-none-any.whl (21 kB)\n",
            "Installing collected packages: utils\n",
            "Successfully installed utils-1.0.1\n"
          ]
        }
      ],
      "source": [
        "!pip install utils\n",
        "%load_ext autoreload\n",
        "%aimport utils\n",
        "%autoreload 1\n",
        "from utils import *"
      ],
      "id": "91e1e9d2-6a4f-4339-ae01-c5e1f5109e00"
    },
    {
      "cell_type": "code",
      "execution_count": 3,
      "metadata": {
        "id": "04b0d664-cd03-4c89-b144-8d53315d667d"
      },
      "outputs": [],
      "source": [
        "def add_data(skaters_list, year, comp):\n",
        "  new = []\n",
        "  for i in skaters_list:\n",
        "    new.append(i + [year, comp])\n",
        "  return new"
      ],
      "id": "04b0d664-cd03-4c89-b144-8d53315d667d"
    },
    {
      "cell_type": "code",
      "execution_count": 4,
      "metadata": {
        "id": "f61501c8-9158-4afd-9511-e0705a0c2218",
        "colab": {
          "base_uri": "https://localhost:8080/"
        },
        "outputId": "25c9da3e-4659-4be4-ce40-8a159bacd2ba"
      },
      "outputs": [
        {
          "output_type": "stream",
          "name": "stdout",
          "text": [
            "Mounted at /content/drive\n"
          ]
        }
      ],
      "source": [
        "from google.colab import drive\n",
        "drive.mount('/content/drive')"
      ],
      "id": "f61501c8-9158-4afd-9511-e0705a0c2218"
    },
    {
      "cell_type": "code",
      "execution_count": 5,
      "metadata": {
        "id": "9e2b0ffd-6318-46b4-983b-b69492fabea0"
      },
      "outputs": [],
      "source": [
        "skaters_list = ['Kailani Craine', 'Olga Mikutina', 'Ekaterina Ryabova', 'Viktoriia Safonova', 'Loena Hendrickx', 'Alexandra Feigin', 'Madeline Schizas', 'Yi Zhu', 'Eliska Brezinova', 'Eva-Lotta Kiibus', 'Jenni Saarinen', 'Anastasiia Gubanova', 'Nicole Schott', 'Natasha McKay', 'Lara Naki Gutmann*', 'Wakaba Higuchi', 'Mana Kawabe', 'Kaori Sakamoto', 'Lindsay van Zundert', 'Ekaterina Kurakova', 'Anna Shcherbakova', 'Alexandra Trusova', 'Kamila Valieva' 'Yelim Kim', 'You Young', 'Josefin Taljegard', '\tAlexia Paganini', 'Anastasiia Shabotova', 'Mariah Bell', 'Karen Chen', 'Alysa Liu']\n",
        "# changed yelim kim and eliska brezinova\n",
        "skaters_country_dict = {'Olga Mikutina': 'Austria', 'Ekaterina Ryabova': 'Azerbaijan', 'Loena Hendrickx': 'Belgium', 'Alexandra Feigin': 'Bulgaria', 'Madeline Schizas': 'Canada', 'TBD': 'Finland', 'Eliška Březinová': 'Czech Republic', 'Nicole Schott': 'Germany', 'Natasha McKay': 'Great Britain', 'Lara Naki Gutmann*': 'Italy', 'Wakaba Higuchi': 'Japan', 'Mana Kawabe': 'Japan', 'Kaori Sakamoto': 'Japan', 'Lindsay van Zundert': 'Netherlands', 'Ekaterina Kurakova': 'Poland', 'Kim Ye-lim': 'South Korea', 'You Young': 'South Korea', 'Mariah Bell': 'United States', 'Karen Chen': 'United States', 'Alysa Liu': 'United States'}"
      ],
      "id": "9e2b0ffd-6318-46b4-983b-b69492fabea0"
    },
    {
      "cell_type": "code",
      "execution_count": 6,
      "metadata": {
        "id": "979399ff-2776-4e24-be02-6e06d8261a9d"
      },
      "outputs": [],
      "source": [
        "list_1=[['Alena KOSTORNAIA', '240.81'], ['Anna SHCHERBAKOVA', '237.76'], ['Alexandra TRUSOVA', '225.34'], ['Alexia PAGANINI', '192.88'], ['Emmi PELTONEN', '181.79'], ['Ekaterina RYABOVA', '181.49'], ['Eva Lotta KIIBUS', '181.24'], ['Alessia TORNAGHI', '172.17'], ['Mae Berenice MEITE', '172.08'], ['Ekaterina KURAKOVA', '170.24'], ['Maia MAZZARA', '170.06'], ['Linnea CEDER', '166.16'], ['Nicole SCHOTT', '162.26'], ['Viktoriia SAFONOVA', '159.91'], ['Alina URUSHADZE', '154.81'], ['Lea SERNA', '154.73'], ['Alexandra FEIGIN', '154.43'], ['Anita OSTLUND', '152.91'], ['Yasmine Kimiko YAMADA', '152.62'], ['Dasa GRM', '150.90'], ['Ivett TOTH', '150.36'], ['Eliska BREZINOVA', '145.35'], ['Natasha McKAY', '142.14'], ['Olga MIKUTINA', '130.15'], ['Nelli IOFFE', '51.70'], ['Aleksandra GOLOVKINA', '50.88'], ['Anastasiya GALUSTYAN', '50.08'], ['Valentina MATOS', '49.02'], ['Ema DOBOSZOVA', '46.27'], ['Angelina KUCHVALSKA', '45.09'], ['Antonina DUBININA', '43.62'], ['Sinem KUYUCU', '43.16'], ['Jenni SAARINEN', '42.61'], ['Anastasia GOZHVA', '40.49'], ['Niki WORIES', '38.19'], ['Klara STEPANOVA', '37.83'], ['Hana CVIJANOVIC', '36.22']]"
      ],
      "id": "979399ff-2776-4e24-be02-6e06d8261a9d"
    },
    {
      "cell_type": "code",
      "execution_count": 7,
      "metadata": {
        "id": "31473ad7-a295-4f81-84dc-30b84df739c9"
      },
      "outputs": [],
      "source": [
        "list_2=[['Kaetlyn OSMOND', '223.23'], ['Wakaba HIGUCHI', '210.90'], ['Satoko MIYAHARA', '210.08'], ['Carolina KOSTNER', '208.88'], ['Alina ZAGITOVA', '207.72'], ['Bradie TENNELL', '199.89'], ['Gabrielle DALEMAN', '196.72'], ['Maria SOTSKOVA', '196.61'], ['Loena HENDRICKX', '192.31'], ['Mirai NAGASU', '187.52'], ['Elizabet TURSYNBAEVA', '186.85'], ['Mariah BELL', '174.40'], ['Nicole SCHOTT', '174.13'], ['Laurine LECAVELIER', '173.23'], ['Hanul KIM', '170.68'], ['Viveca LINDFORS', '166.23'], ['Kailani CRAINE', '154.41'], ['Eliska BREZINOVA', '153.14'], ['Stanislava KONSTANTINOVA', '153.03'], ['Alexia PAGANINI', '149.66'], ['Elisabetta LECCARDI', '149.17'], ['Dasa GRM', '144.51'], ['Ivett TOTH', '136.87']]"
      ],
      "id": "31473ad7-a295-4f81-84dc-30b84df739c9"
    },
    {
      "cell_type": "code",
      "execution_count": 8,
      "metadata": {
        "id": "35930127-eba4-41a2-97dd-9e2d59e3c37d"
      },
      "outputs": [],
      "source": [
        "list_3=[['Alina ZAGITOVA', '238.24'], ['Evgenia MEDVEDEVA', '232.86'], ['Carolina KOSTNER', '204.25'], ['Maria SOTSKOVA', '200.81'], ['Loena HENDRICKX', '176.91'], ['Nicole RAJICOVA', '171.90'], ['Alexia PAGANINI', '161.62'], ['Mae Berenice MEITE', '159.70'], ['Emmi PELTONEN', '159.48'], ['Nicole SCHOTT', '157.84'], ['Laurine LECAVELIER', '154.11'], ['Eliska BREZINOVA', '149.69'], ['Ivett TOTH', '148.98'], ['Viveca LINDFORS', '147.89'], ['Micol CRISTINI', '147.80'], ['Lea Johanna DASTICH', '146.82'], ['Anita ÖSTLUND', '145.14'], ['Anne Line GJERSEM', '142.68'], ['Giada RUSSO', '142.38'], ['Dasa GRM', '137.31'], ['Pernille SORENSEN', '133.94'], ['Elzbieta KROPA', '133.87'], ['Anna KHNYCHENKOVA', '132.70'], ['Silvia HUGEC', '123.45']]"
      ],
      "id": "35930127-eba4-41a2-97dd-9e2d59e3c37d"
    },
    {
      "cell_type": "code",
      "execution_count": 9,
      "metadata": {
        "id": "d9ddd3bd-bf01-4c40-a3d5-4e1bae0f9dc9"
      },
      "outputs": [],
      "source": [
        "list_4=[['Satoko MIYAHARA', '219.71'], ['Kaori SAKAMOTO', '213.90'], ['Sofia SAMODUROVA', '198.70'], ['Bradie TENNELL', '192.89'], ['Laurine LECAVELIER', '172.41'], ['Megan WESSENBERG', '170.33'], ['Polina TSURSKAYA', '159.45'], ['Marin HONDA', '158.04'], ['Alaine CHARTRAND', '155.49'], ['Starr ANDREWS', '150.56']]"
      ],
      "id": "d9ddd3bd-bf01-4c40-a3d5-4e1bae0f9dc9"
    },
    {
      "cell_type": "code",
      "execution_count": 10,
      "metadata": {
        "id": "fb06a422-93a3-43af-a194-0fb2e6853e54"
      },
      "outputs": [],
      "source": [
        "list_5=[['Elizaveta TUKTAMYSHEVA', '203.32'], ['Mako YAMASHITA', '203.06'], ['Evgenia MEDVEDEVA', '197.91'], ['Mariah BELL', '190.25'], ['Elizabet TURSYNBAEVA', '185.71'], ['Wakaba HIGUCHI', '181.29'], ['Starr ANDREWS', '174.72'], ['Alaine CHARTRAND', '172.17'], ['Daria PANENKOVA', '168.54'], ['Alicia PINEAULT', '158.29'], ['Yura MATSUDA', '157.59']]"
      ],
      "id": "fb06a422-93a3-43af-a194-0fb2e6853e54"
    },
    {
      "cell_type": "code",
      "execution_count": 11,
      "metadata": {
        "id": "9033c3d9-ac6b-490f-af6f-67a7fbfca8d2"
      },
      "outputs": [],
      "source": [
        "list_6=[['Alina ZAGITOVA', '215.29'], ['Stanislava KONSTANTINOVA', '197.57'], ['Kaori SAKAMOTO', '197.42'], ['Yuna SHIRAIWA', '191.46'], ['Loena HENDRICKX', '191.22'], ['Daria PANENKOVA', '161.48'], ['Hanul KIM', '160.15'], ['Viveca LINDFORS', '159.62'], ['Emmi PELTONEN', '158.72'], ['Rika HONGO', '156.59'], ['Angela WANG', '149.57']]"
      ],
      "id": "9033c3d9-ac6b-490f-af6f-67a7fbfca8d2"
    },
    {
      "cell_type": "code",
      "execution_count": 12,
      "metadata": {
        "id": "886655cc-9e9c-4857-a51b-ea619d84eaca"
      },
      "outputs": [],
      "source": [
        "list_7=[['Rika KIHIRA', '224.31'], ['Satoko MIYAHARA', '219.47'], ['Elizaveta TUKTAMYSHEVA', '219.02'], ['Mai MIHARA', '204.20'], ['Mariah BELL', '198.96'], ['Eunsoo LIM', '196.31'], ['Alena LEONOVA', '194.15'], ['Courtney HICKS', '178.07'], ['Maria SOTSKOVA', '176.99'], ['Mae Berenice MEITE', '162.58'], ['Angela WANG', '159.36'], ['Kailani CRAINE', '154.22']]"
      ],
      "id": "886655cc-9e9c-4857-a51b-ea619d84eaca"
    },
    {
      "cell_type": "code",
      "execution_count": 13,
      "metadata": {
        "id": "03848a47-cf8c-485e-8626-8f295765ddb8"
      },
      "outputs": [],
      "source": [
        "list_8=[['Alina ZAGITOVA', '222.95'], ['Sofia SAMODUROVA', '198.01'], ['Eunsoo LIM', '185.67'], ['Alexia PAGANINI', '182.50'], ['Yuna SHIRAIWA', '180.93'], ['Elizabet TURSYNBAEVA', '180.45'], ['Mako YAMASHITA', '161.22'], ['Polina TSURSKAYA', '149.45'], ['Yura MATSUDA', '137.99'], ['Gracie GOLD', '\\xa0']]"
      ],
      "id": "03848a47-cf8c-485e-8626-8f295765ddb8"
    },
    {
      "cell_type": "code",
      "execution_count": 14,
      "metadata": {
        "id": "ada4b724-8705-4523-b893-44ae3ad074eb"
      },
      "outputs": [],
      "source": [
        "list_9=[['Rika KIHIRA', '205.92'], ['Mai MIHARA', '202.81'], ['Bradie TENNELL', '197.78'], ['Evgenia MEDVEDEVA', '192.81'], ['Stanislava KONSTANTINOVA', '189.67'], ['Marin HONDA', '188.61'], ['Maria SOTSKOVA', '177.59'], ['Mae Berenice MEITE', '168.02'], ['Laurine LECAVELIER', '157.24'], ['Alexia PAGANINI', '156.51'], ['Lea SERNA', '149.49'], ['Matilda ALGOTSSON', '146.35']]"
      ],
      "id": "ada4b724-8705-4523-b893-44ae3ad074eb"
    },
    {
      "cell_type": "code",
      "execution_count": 15,
      "metadata": {
        "id": "e7e6a9fe-d75c-4dd3-847c-4b2b742b1c6f"
      },
      "outputs": [],
      "source": [
        "list_10=[['Rika KIHIRA', '233.12'], ['Alina ZAGITOVA', '226.53'], ['Elizaveta TUKTAMYSHEVA', '215.32'], ['Kaori SAKAMOTO', '211.68'], ['Sofia SAMODUROVA', '204.33'], ['Satoko MIYAHARA', '201.31']]"
      ],
      "id": "e7e6a9fe-d75c-4dd3-847c-4b2b742b1c6f"
    },
    {
      "cell_type": "code",
      "execution_count": 16,
      "metadata": {
        "id": "1b68fbbe-d606-4ddc-af61-8a4ff9884491"
      },
      "outputs": [],
      "source": [
        "list_11=[['Rika KIHIRA', '205.92'], ['Mai MIHARA', '202.81'], ['Bradie TENNELL', '197.78'], ['Evgenia MEDVEDEVA', '192.81'], ['Stanislava KONSTANTINOVA', '189.67'], ['Marin HONDA', '188.61'], ['Maria SOTSKOVA', '177.59'], ['Mae Berenice MEITE', '168.02'], ['Laurine LECAVELIER', '157.24'], ['Alexia PAGANINI', '156.51'], ['Lea SERNA', '149.49'], ['Matilda ALGOTSSON', '146.35']]"
      ],
      "id": "1b68fbbe-d606-4ddc-af61-8a4ff9884491"
    },
    {
      "cell_type": "code",
      "execution_count": 17,
      "metadata": {
        "id": "8cdf654b-9f0a-47ec-8f8e-d2ad7d382e6c"
      },
      "outputs": [],
      "source": [
        "list_12=[['Satoko MIYAHARA', '219.71'], ['Kaori SAKAMOTO', '213.90'], ['Sofia SAMODUROVA', '198.70'], ['Bradie TENNELL', '192.89'], ['Laurine LECAVELIER', '172.41'], ['Megan WESSENBERG', '170.33'], ['Polina TSURSKAYA', '159.45'], ['Marin HONDA', '158.04'], ['Alaine CHARTRAND', '155.49'], ['Starr ANDREWS', '150.56']]"
      ],
      "id": "8cdf654b-9f0a-47ec-8f8e-d2ad7d382e6c"
    },
    {
      "cell_type": "code",
      "execution_count": 18,
      "metadata": {
        "id": "39a73e5e-c621-4968-a520-75c5990f7f38"
      },
      "outputs": [],
      "source": [
        "list_13=[['Alexandra TRUSOVA', '241.02'], ['Rika KIHIRA', '230.33'], ['Young YOU', '217.49'], ['Bradie TENNELL', '211.31'], ['Evgenia MEDVEDEVA', '209.62'], ['Marin HONDA', '179.26'], ['Yelim KIM', '176.93'], ['Serafima SAKHANOVICH', '175.97'], ['Alexia PAGANINI', '166.20'], ['Gabrielle DALEMAN', '164.34'], ['Alicia PINEAULT', '161.37'], ['Veronik MALLET', '147.79']]\n"
      ],
      "id": "39a73e5e-c621-4968-a520-75c5990f7f38"
    },
    {
      "cell_type": "code",
      "execution_count": 19,
      "metadata": {
        "id": "be850e0d-e114-4a2e-9a34-c80eedb01a6f"
      },
      "outputs": [],
      "source": [
        "list_14=[['Alena KOSTORNAIA', '240.00'], ['Rika KIHIRA', '231.84'], ['Alina ZAGITOVA', '217.99'], ['Yuhana YOKOI', '189.54'], ['Mako YAMASHITA', '189.25'], ['Sofia SAMODUROVA', '183.27'], ['Eunsoo LIM', '172.47'], ['Starr ANDREWS', '166.72'], ['Karen CHEN', '165.70'], ['Kailani CRAINE', '165.46'], ['Mae Berenice MEITE', '159.98'], ['Megan WESSENBERG', '131.73']]\n"
      ],
      "id": "be850e0d-e114-4a2e-9a34-c80eedb01a6f"
    },
    {
      "cell_type": "code",
      "execution_count": 20,
      "metadata": {
        "id": "6bf81db3-d2e0-48df-8e9d-15b290e59990"
      },
      "outputs": [],
      "source": [
        "list_15=[['Alexandra TRUSOVA', '234.47'], ['Evgenia MEDVEDEVA', '225.76'], ['Mariah BELL', '205.67'], ['Satoko MIYAHARA', '192.42'], ['Ekaterina RYABOVA', '187.77'], ['Yuhana YOKOI', '182.68'], ['Alexia PAGANINI', '179.69'], ['Hongyi CHEN', '175.77'], ['Nicole SCHOTT', '172.08'], ['Yuna SHIRAIWA', '170.03'], ['Stanislava KONSTANTINOVA', '156.94'], ['Emmi PELTONEN', '152.50']]\n"
      ],
      "id": "6bf81db3-d2e0-48df-8e9d-15b290e59990"
    },
    {
      "cell_type": "code",
      "execution_count": 21,
      "metadata": {
        "id": "9fc1f35c-cb5d-47c3-bf95-20c9adb1b948"
      },
      "outputs": [],
      "source": [
        "list_16=[['Alena KOSTORNAIA', '236.00'], ['Alina ZAGITOVA', '216.06'], ['Mariah BELL', '212.89'], ['Kaori SAKAMOTO', '199.24'], ['Starr ANDREWS', '180.54'], ['Wakaba HIGUCHI', '174.12'], ['Nicole SCHOTT', '166.89'], ['Lea SERNA', '166.02'], ['Yuna SHIRAIWA', '161.71'], ['Mae Berenice MEITE', '157.45'], ['Maria SOTSKOVA', '144.89'], ['Laurine LECAVELIER', '']]\n"
      ],
      "id": "9fc1f35c-cb5d-47c3-bf95-20c9adb1b948"
    },
    {
      "cell_type": "code",
      "execution_count": 22,
      "metadata": {
        "id": "de8f6c9d-13e2-441e-b601-7c31d5a0ace3"
      },
      "outputs": [],
      "source": [
        "list_17=[['Alena KOSTORNAIA', '247.59'], ['Anna SHCHERBAKOVA', '240.92'], ['Alexandra TRUSOVA', '233.18'], ['Rika KIHIRA', '216.47'], ['Bradie TENNELL', '212.18'], ['Alina ZAGITOVA', '205.23']]\n"
      ],
      "id": "de8f6c9d-13e2-441e-b601-7c31d5a0ace3"
    },
    {
      "cell_type": "code",
      "execution_count": 23,
      "metadata": {
        "id": "aec258a4-0c92-4b3b-b851-475f4f6ebfe7"
      },
      "outputs": [],
      "source": [
        "list_18=[['Alina ZAGITOVA', '237.50'], ['Elizabet TURSYNBAEVA', '224.76'], ['Evgenia MEDVEDEVA', '223.80'], ['Rika KIHIRA', '223.49'], ['Kaori SAKAMOTO', '222.83'], ['Satoko MIYAHARA', '215.95'], ['Bradie TENNELL', '213.47'], ['Sofia SAMODUROVA', '208.58'], ['Mariah BELL', '208.07'], ['Eunsoo LIM', '205.57'], ['Gabrielle DALEMAN', '192.67'], ['Loena HENDRICKX', '186.29'], ['Ekaterina RYABOVA', '179.88'], ['Yi Christy LEUNG', '177.22'], ['Laurine LECAVELIER', '170.59'], ['Nicole SCHOTT', '170.56'], ['Alexandra FEIGIN', '165.31'], ['Dasa GRM', '161.16'], ['Hongyi CHEN', '157.59'], ['Eliska BREZINOVA', '153.45'], ['Natasha MCKAY', '151.56'], ['Eva Lotta KIIBUS', '149.99'], ['Alaine CHARTRAND', '148.97'], ['Isadora WILLIAMS', '143.22'], ['Ivett TOTH', '54.87'], ['Pernille SORENSEN', '54.36'], ['Marina PIREDDA', '53.27'], ['Emmi PELTONEN', '53.22'], ['Julia SAUTER', '53.11'], ['Anita OSTLUND', '53.07'], ['Roberta RODEGHIERO', '51.50'], ['Nicole RAJICOVA', '51.22'], ['Alexia PAGANINI', '50.51'], ['Valentina MATOS', '50.25'], ['Aurora COTOP', '48.83'], ['Kailani CRAINE', '48.82'], ['Sophia SCHALLER', '48.72'], ['Elzbieta KROPA', '47.95'], ['Anastasiya GALUSTYAN', '47.75'], ['Kyarha VAN TIEL', '41.85']]\n"
      ],
      "id": "aec258a4-0c92-4b3b-b851-475f4f6ebfe7"
    },
    {
      "cell_type": "code",
      "execution_count": 24,
      "metadata": {
        "id": "cf965d38-24c5-429d-9d80-992f9bf63ee6"
      },
      "outputs": [],
      "source": [
        "list_19=[['Rika KIHIRA', '221.99'], ['Elizabet TURSYNBAEVA', '207.46'], ['Mai MIHARA', '207.12'], ['Kaori SAKAMOTO', '206.79'], ['Bradie TENNELL', '202.07'], ['Mariah BELL', '193.94'], ['Eunsoo LIM', '191.85'], ['Yelim KIM', '187.93'], ['Veronik MALLET', '170.46'], ['Larkyn AUSTMAN', '165.21'], ['Ting CUI', '164.84'], ['Yi Christy LEUNG', '164.79'], ['Hanul KIM', '162.48'], ['Hongyi CHEN', '150.50'], ['Kailani CRAINE', '149.52'], ['Alaine CHARTRAND', '147.54'], ['Isadora WILLIAMS', '138.26'], ['Alisson Krystle PERTICHETO', '136.97'], ['Amy LIN', '134.56'], ['Andrea MONTESINOS CANTU', '124.51'], ['Joanna SO', '117.82'], ['Brooklee HAN', '\\xa0']]\n"
      ],
      "id": "cf965d38-24c5-429d-9d80-992f9bf63ee6"
    },
    {
      "cell_type": "code",
      "execution_count": 25,
      "metadata": {
        "id": "38fadd4f-eaa3-4046-9e51-38e1e4ad2938"
      },
      "outputs": [],
      "source": [
        "list_20=[['Sofia SAMODUROVA', '213.84'], ['Alina ZAGITOVA', '198.34'], ['Viveca LINDFORS', '194.40'], ['Stanislava KONSTANTINOVA', '189.72'], ['Laurine LECAVELIER', '180.05'], ['Alexia PAGANINI', '179.90'], ['Mae Berenice MEITE', '177.10'], ['Emmi PELTONEN', '170.03'], ['Nicole RAJICOVA', '169.03'], ['Eliska BREZINOVA', '166.77'], ['Alexandra FEIGIN', '164.20'], ['Ekaterina RYABOVA', '163.17'], ['Ivett TOTH', '160.83'], ['Julia SAUTER', '153.15'], ['Yasmine Kimiko YAMADA', '151.12'], ['Nicole SCHOTT', '149.26'], ['Dasa GRM', '147.29'], ['Anita ÖSTLUND', '144.66'], ['Lucrezia GENNARO', '143.10'], ['Natasha MCKAY', '140.08'], ['Nathalie WEINZIERL', '134.58'], ['Anastasiya GALUSTYAN', '132.63'], ['Pernille SORENSEN', '131.78'], ['Antonina DUBININA', '120.25'], ['Elzbieta GABRYSZAK', '45.77'], ['Sophia SCHALLER', '44.20'], ['Gerli LIINAMÄE', '44.08'], ['Kyarha VAN TIEL', '44.00'], ['Lara Naki GUTMANN', '43.96'], ['Silvia HUGEC', '43.33'], ['Valentina MATOS', '42.86'], ['Paulina RAMANAUSKAITE', '42.31'], ['Camilla GJERSEM', '39.81'], ['Hana CVIJANOVIC', '38.00'], ['Elizabete JUBKANE', '37.75'], ['Anastasia GOZHVA', '35.51']]\n",
        "\n",
        "\n",
        "list_21=[['Alena KOSTORNAIA', '240.81'], ['Anna SHCHERBAKOVA', '237.76'], ['Alexandra TRUSOVA', '225.34'], ['Alexia PAGANINI', '192.88'], ['Emmi PELTONEN', '181.79'], ['Ekaterina RYABOVA', '181.49'], ['Eva Lotta KIIBUS', '181.24'], ['Alessia TORNAGHI', '172.17'], ['Mae Berenice MEITE', '172.08'], ['Ekaterina KURAKOVA', '170.24'], ['Maia MAZZARA', '170.06'], ['Linnea CEDER', '166.16'], ['Nicole SCHOTT', '162.26'], ['Viktoriia SAFONOVA', '159.91'], ['Alina URUSHADZE', '154.81'], ['Lea SERNA', '154.73'], ['Alexandra FEIGIN', '154.43'], ['Anita OSTLUND', '152.91'], ['Yasmine Kimiko YAMADA', '152.62'], ['Dasa GRM', '150.90'], ['Ivett TOTH', '150.36'], ['Eliska BREZINOVA', '145.35'], ['Natasha McKAY', '142.14'], ['Olga MIKUTINA', '130.15'], ['Nelli IOFFE', '51.70'], ['Aleksandra GOLOVKINA', '50.88'], ['Anastasiya GALUSTYAN', '50.08'], ['Valentina MATOS', '49.02'], ['Ema DOBOSZOVA', '46.27'], ['Angelina KUCHVALSKA', '45.09'], ['Antonina DUBININA', '43.62'], ['Sinem KUYUCU', '43.16'], ['Jenni SAARINEN', '42.61'], ['Anastasia GOZHVA', '40.49'], ['Niki WORIES', '38.19'], ['Klara STEPANOVA', '37.83'], ['Hana CVIJANOVIC', '36.22']]\n",
        "\n",
        "\n",
        "list_22=[['Rika KIHIRA', '232.34'], ['Young YOU', '223.23'], ['Bradie TENNELL', '222.97'], ['Wakaba HIGUCHI', '207.46'], ['Kaori SAKAMOTO', '202.79'], ['Yelim KIM', '202.76'], ['Karen CHEN', '201.06'], ['Eunsoo LIM', '200.59'], ['Amber GLENN', '190.83'], ['Alicia PINEAULT', '173.55'], ['Hongyi CHEN', '167.26'], ['Kailani CRAINE', '161.15'], ['Yi ZHU', '155.41'], ['Alison SCHUMACHER', '150.73'], ['Emily BAUSBACK', '147.23'], ['Andrea MONTESINOS CANTU', '135.24'], ['Jenny SHYU', '134.80'], ['Alisson Krystle PERTICHETO', '129.99'], ['Cheuk Ka Kahlen CHEUNG', '121.29'], ['Amy LIN', '116.97'], ['Aiza MAMBEKOVA', '107.68']]\n",
        "\n",
        "\n",
        "list_23=[['Anna SHCHERBAKOVA', '229.69'], ['Alena KOSTORNAIA', '221.85'], ['Wakaba HIGUCHI', '204.91'], ['Kseniia SINITSYNA', '198.76'], ['Karen CHEN', '194.00'], ['Mariah BELL', '190.79'], ['Ekaterina RYABOVA', '186.65'], ['Yeonjeong PARK', '186.11'], ['Yuhana YOKOI', '176.93'], ['Haein LEE', '171.32'], ['Lea SERNA', '170.33'], ['Starr ANDREWS', '']]\n",
        "\n",
        "\n",
        "list_24=[['Kaori SAKAMOTO', '229.51'], ['Wakaba HIGUCHI', '200.98'], ['Rino MATSUIKE', '198.97'], ['Mai MIHARA', '194.73'], ['Mako YAMASHITA', '186.13'], ['Mana KAWABE', '185.70'], ['Young YOU', '181.73'], ['Yuhana YOKOI', '176.49'], ['Marin HONDA', '162.57'], ['Tomoe KAWABATA', '162.24'], ['Nana ARAKI', '162.15'], ['Chisato URAMATSU', '162.14']]\n",
        "\n",
        "\n",
        "list_25=[['Mariah BELL', '212.73'], ['Bradie TENNELL', '211.07'], ['Audrey SHIN', '206.15'], ['Karen CHEN', '204.90'], ['Amber GLENN', '190.09'], ['Shan LIN', '182.11'], ['Paige RYDBERG', '178.13'], ['Starr ANDREWS', '171.70'], ['Sierra VENETTA', '170.72'], ['Pooja KALYAN', '158.95'], ['Finley HAWK', '154.25'], ['Gracie GOLD', '127.82']]\n",
        "\n",
        "\n",
        "list_27=[['Elizaveta TUKTAMYSHEVA', '223.39'], ['Alena KOSTORNAIA', '220.78'], ['Anastasiia GULIAKOVA', '199.03'], ['Alexandra TRUSOVA', '198.93'], ['Elizaveta NUGUMANOVA', '191.52'], ['Eva-Lotta KIIBUS', '186.00'], ['Sofia SAMODUROVA', '184.81'], ['Viktoriia SAFONOVA', '184.57'], ['Ekaterina RYABOVA', '167.85'], ['Alina URUSHADZE', '150.68'], ['Anastasiya GALUSTYAN', '52.06']]\n",
        "\n",
        "list_28=[['Hongyi CHEN', '186.53'], ['Angel LI', '148.33'], ['Minzhi JIN', '135.43'], ['Siyang ZHANG', '128.20'], ['Lu ZHENG', '86.48']]\n",
        "\n",
        "\n",
        "list_29=[['Anna SHCHERBAKOVA', '229.69'], ['Alena KOSTORNAIA', '221.85'], ['Wakaba HIGUCHI', '204.91'], ['Kseniia SINITSYNA', '198.76'], ['Karen CHEN', '194.00'], ['Mariah BELL', '190.79'], ['Ekaterina RYABOVA', '186.65'], ['Yeonjeong PARK', '186.11'], ['Yuhana YOKOI', '176.93'], ['Haein LEE', '171.32'], ['Lea SERNA', '170.33'], ['Starr ANDREWS', '']]\n",
        "\n",
        "\n",
        "list_30=[['Anna SHCHERBAKOVA', '233.17'], ['Elizaveta TUKTAMYSHEVA', '220.46'], ['Alexandra TRUSOVA', '217.20'], ['Karen CHEN', '208.63'], ['Loena HENDRICKX', '208.44'], ['Kaori SAKAMOTO', '207.80'], ['Rika KIHIRA', '205.70'], ['Olga MIKUTINA', '198.77'], ['Bradie TENNELL', '197.81'], ['Haein LEE', '193.44'], ['Yelim KIM', '191.78'], ['Ekaterina RYABOVA', '189.46'], ['Madeline SCHIZAS', '185.78'], ['Eva-Lotta KIIBUS', '181.47'], ['Josefin TALJEGARD', '178.10'], ['Lindsay van ZUNDERT', '174.50'], ['Alexandra FEIGIN', '173.52'], ['Nicole SCHOTT', '172.80'], ['Satoko MIYAHARA', '172.30'], ['Alina URUSHADZE', '169.01'], ['Hongyi CHEN', '162.79'], ['Eliska BREZINOVA', '155.14'], ['Natasha McKAY', '153.46'], ['Jenni SAARINEN', '146.54'], ['Alexia PAGANINI', '57.23'], ['Kailani CRAINE', '56.86'], ['Emily BAUSBACK', '55.74'], ['Lara Naki GUTMANN', '55.64'], ['Emmy MA', '55.63'], ['Julia LANG', '54.20'], ['Nelli IOFFE', '52.43'], ['Ekaterina KURAKOVA', '52.28'], ['Angelina KUCHVALSKA', '47.94'], ['Dasa GRM', '47.76'], ['Anastasiia ARKHIPOVA', '45.07'], ['Emilea ZINGAS', '43.20'], ['Elzbieta KROPA', '41.31'], ['Mae Berenice MEITE', ''], ['Yi Christy LEUNG', '']]\n",
        "\n",
        "\n",
        "list_31=[['Kaori SAKAMOTO', '223.34'], ['Mana KAWABE', '205.44'], ['Young YOU', '203.60'], ['Alysa LIU', '202.90'], ['Eunsoo LIM', '186.68'], ['Rino MATSUIKE', '186.17'], ['Amber GLENN', '175.83'], ['Nicole SCHOTT', '172.37'], ['Seoyeong WI', '170.54'], ['Daria USACHEVA', '']]\n",
        "\n",
        "\n",
        "list_32=[['Alexandra TRUSOVA', '232.37'], ['Daria USACHEVA', '217.31'], ['Young YOU', '216.97'], ['Kaori SAKAMOTO', '215.93'], ['Kseniia SINITSYNA', '205.76'], ['Amber GLENN', '201.02'], ['Satoko MIYAHARA', '200.51'], ['Yelim KIM', '199.34'], ['Ekaterina KURAKOVA', '188.60'], ['Starr ANDREWS', '177.63'], ['Yuhana YOKOI', '174.07'], ['Audrey SHIN', '160.78']]\n",
        "\n",
        "\n",
        "list_33=[['Kamila VALIEVA', '265.08'], ['Elizaveta TUKTAMYSHEVA', '232.88'], ['Alena KOSTORNAIA', '214.54'], ['Mai MIHARA', '210.01'], ['Alysa LIU', '206.53'], ['Wakaba HIGUCHI', '205.27'], ['Haein LEE', '190.00'], ['Madeline SCHIZAS', '186.56'], ['Mana KAWABE', '186.52'], ['Karen CHEN', '183.41'], ['Emily BAUSBACK', '159.88'], ['Alison SCHUMACHER', '151.19']]\n",
        "\n",
        "\n",
        "list_34=[['Anna SHCHERBAKOVA', '229.69'], ['Alena KOSTORNAIA', '221.85'], ['Wakaba HIGUCHI', '204.91'], ['Kseniia SINITSYNA', '198.76'], ['Karen CHEN', '194.00'], ['Mariah BELL', '190.79'], ['Ekaterina RYABOVA', '186.65'], ['Yeonjeong PARK', '186.11'], ['Yuhana YOKOI', '176.93'], ['Haein LEE', '171.32'], ['Lea SERNA', '170.33'], ['Starr ANDREWS', '']]\n",
        "\n",
        "\n",
        "list_35=[['Kamila VALIEVA', '272.71'], ['Elizaveta TUKTAMYSHEVA', '229.23'], ['Maiia KHROMYKH', '219.69'], ['Mariah BELL', '210.35'], ['Loena HENDRICKX', '203.69'], ['Madeline SCHIZAS', '192.14'], ['Viktoriia SAFONOVA', '185.64'], ['Rino MATSUIKE', '184.36'], ['Ekaterina KURAKOVA', '175.64'], ['Ekaterina RYABOVA', '175.24'], ['Eva-Lotta KIIBUS', '163.11'], ['Olga MIKUTINA', '161.09']]\n",
        "\n",
        "\n",
        "list_36=[['Anna SHCHERBAKOVA', '236.78'], ['Maiia KHROMYKH', '226.35'], ['Loena HENDRICKX', '219.05'], ['Mai MIHARA', '214.95'], ['Satoko MIYAHARA', '209.57'], ['Yelim KIM', '193.50'], ['Sofia SAMODUROVA', '180.59'], ['Eunsoo LIM', '179.58'], ['Yi ZHU', '171.25'], ['Nicole SCHOTT', '167.20'], ['Lara Naki GUTMANN', '158.57'], ['Lucrezia BECCARI', '148.29']]\n"
      ],
      "id": "38fadd4f-eaa3-4046-9e51-38e1e4ad2938"
    },
    {
      "cell_type": "code",
      "execution_count": 26,
      "metadata": {
        "id": "2491939b-9c9b-436f-8efd-c61d2b280ee4"
      },
      "outputs": [],
      "source": [
        "list_1 = add_data(list_1, '2020', 'EC')\n",
        "list_2 = add_data(list_2, '2018', 'WC')\n",
        "list_3 = add_data(list_3, '2018', 'EC')\n",
        "list_4 = add_data(list_4, '2018', 'SA')\n",
        "list_5 = add_data(list_5, '2018', 'SC')\n",
        "list_6 = add_data(list_6, '2018', 'HC')\n",
        "list_7 = add_data(list_7, '2018', 'NHK')\n",
        "list_8 = add_data(list_8, '2018', 'RC')\n",
        "list_9 = add_data(list_9, '2018', 'F')\n",
        "list_10 = add_data(list_10, '2018', 'GP')\n",
        "list_11 = add_data(list_11, '2019', 'F')\n",
        "list_12 = add_data(list_12, '2019', 'SA')\n",
        "list_13 = add_data(list_13,\"2019\",\"SC\")\n",
        "list_14 = add_data(list_14,\"2019\",\"NHK\")\n",
        "list_15 = add_data(list_15,\"2019\",\"RC\")\n",
        "list_16 = add_data(list_16,\"2019\",\"F\")\n",
        "list_17 = add_data(list_17,\"2019\",\"GP\")\n",
        "list_18 = add_data(list_18,\"2019\",\"WC\")\n",
        "list_19 = add_data(list_19,\"2019\",\"4C\")\n",
        "list_20 = add_data(list_20,\"2019\",\"EC\")\n",
        "list_21 = add_data(list_21,\"2020\",\"EC\")\n",
        "list_22 = add_data(list_22,\"2020\",\"4C\")\n",
        "list_23 = add_data(list_23,\"2021\",\"F\")\n",
        "list_24 = add_data(list_24,\"2020\",\"NHK\")\n",
        "list_25 = add_data(list_25, \"2020\", \"SA\")\n",
        "list_27 = add_data(list_27, \"2020\", \"RC\")\n",
        "list_28 = add_data(list_28, \"2020\", \"CC\")\n",
        "list_29 = add_data(list_29, \"2020\", \"F\")\n",
        "list_30 = add_data(list_30, \"2021\", \"WC\")\n",
        "list_31 = add_data(list_31, \"2021\", \"NHK\")\n",
        "list_32 = add_data(list_32, \"2021\", \"SA\")\n",
        "list_33 = add_data(list_33, \"2021\", \"SC\")\n",
        "list_34 = add_data(list_34, \"2021\", \"F\")\n",
        "list_35 = add_data(list_35, \"2021\", \"SC\")\n",
        "list_36 = add_data(list_36, \"2021\", \"I\")"
      ],
      "id": "2491939b-9c9b-436f-8efd-c61d2b280ee4"
    },
    {
      "cell_type": "code",
      "execution_count": 27,
      "metadata": {
        "id": "3a839a34-dcc4-4fc9-8795-d5f32fe79eec"
      },
      "outputs": [],
      "source": [
        "final_list= list_1+list_2+list_3+list_4+list_5+list_6+list_7+list_8+list_9+list_10+list_11+list_12+list_13+list_14+list_15+list_16+list_17+list_18+list_19+list_20+list_21+list_22+list_23+list_24+list_25+list_27+list_28+list_29+list_30+list_31+list_32+list_33+list_34+list_35+list_36\n"
      ],
      "id": "3a839a34-dcc4-4fc9-8795-d5f32fe79eec"
    },
    {
      "cell_type": "code",
      "execution_count": 28,
      "metadata": {
        "id": "7f2f255b-86de-4794-b8de-93dcb8a7d440"
      },
      "outputs": [],
      "source": [
        "with open('ice_skating.csv','w') as f:\n",
        "    for row in final_list:\n",
        "        for x in row:\n",
        "          if x == row[-1]:\n",
        "            f.write(str(x))\n",
        "          else:\n",
        "            f.write(str(x) + ',')\n",
        "        f.write('\\n')"
      ],
      "id": "7f2f255b-86de-4794-b8de-93dcb8a7d440"
    },
    {
      "cell_type": "code",
      "execution_count": 29,
      "metadata": {
        "id": "d2300d60-69e6-4c99-8e0d-625b8b62e1e2"
      },
      "outputs": [],
      "source": [
        "trimmed_list = []\n",
        "with open('ice_skating.csv', 'r') as file:\n",
        "    reader = csv.reader(file)\n",
        "    for row in reader:\n",
        "      if row[0].title() in skaters_list:\n",
        "        trimmed_list.append(row) "
      ],
      "id": "d2300d60-69e6-4c99-8e0d-625b8b62e1e2"
    },
    {
      "cell_type": "code",
      "execution_count": 30,
      "metadata": {
        "id": "2ffabccb-9998-4f22-9bf3-4ef2e9e794e3"
      },
      "outputs": [],
      "source": [
        "with open('trimmed_ice_skating.csv','w') as f:\n",
        "  csvwriter = csv.writer(f, delimiter=',')\n",
        "  csvwriter.writerow(['name','score','year','event'])\n",
        "  csvwriter.writerows(trimmed_list)\n",
        "  \n",
        "  for row in trimmed_list:\n",
        "      for x in row:\n",
        "        if x == row[-1]:\n",
        "          f.write(str(x))\n",
        "        else :\n",
        "          f.write(str(x) + ',')\n",
        "      f.write('\\n')      "
      ],
      "id": "2ffabccb-9998-4f22-9bf3-4ef2e9e794e3"
    },
    {
      "cell_type": "code",
      "execution_count": 31,
      "metadata": {
        "id": "5b482b8d-3cd5-4e84-aadc-0978180d2f00"
      },
      "outputs": [],
      "source": [
        "with open('trimmed_ice_skating.csv','r') as f:\n",
        "  data = f.read()"
      ],
      "id": "5b482b8d-3cd5-4e84-aadc-0978180d2f00"
    },
    {
      "cell_type": "code",
      "execution_count": 32,
      "metadata": {
        "id": "c71e004f-42b1-45f5-8ba4-ab1fdc853f53"
      },
      "outputs": [],
      "source": [
        "ice_skating_final = pd.read_csv('trimmed_ice_skating.csv')\n",
        "ice_skating_final[\"score\"] = pd.to_numeric(ice_skating_final[\"score\"], downcast=\"float\")"
      ],
      "id": "c71e004f-42b1-45f5-8ba4-ab1fdc853f53"
    },
    {
      "cell_type": "code",
      "execution_count": 33,
      "metadata": {
        "colab": {
          "base_uri": "https://localhost:8080/"
        },
        "id": "9e16b8db-d198-4c5c-9e88-3ce4fa84a458",
        "outputId": "7a4687ab-7301-4a4b-e522-44645d441cd3"
      },
      "outputs": [
        {
          "output_type": "execute_result",
          "data": {
            "text/plain": [
              "([2018, 2019, 2020], [2021])"
            ]
          },
          "metadata": {},
          "execution_count": 33
        }
      ],
      "source": [
        "years_before_last = range(2018, 2021)\n",
        "# year_seed = np.random.RandomState(seed=42)\n",
        "train_years = [2018,2019,2020]\n",
        "test_years = [2021]\n",
        "train_years, test_years"
      ],
      "id": "9e16b8db-d198-4c5c-9e88-3ce4fa84a458"
    },
    {
      "cell_type": "code",
      "execution_count": 34,
      "metadata": {
        "id": "LSFVQcDa-eXt"
      },
      "outputs": [],
      "source": [
        "def train_test_split(scores, train_years, test_years):\n",
        "    ''' Take all scores (for either male and female) \n",
        "    and split them into 4 different tables: \n",
        "    1. Season scores for training years\n",
        "    2. World scores for training years\n",
        "    3. Season scores for testing years\n",
        "    4. World scores for testing years\n",
        "    '''\n",
        "    season_scores = scores.loc[scores['event']!='WC']\n",
        "    world_scores = scores.loc[scores['event']=='WC']\n",
        "    \n",
        "    season_train = season_scores.loc[season_scores['year'].isin(train_years)]\n",
        "    world_train = world_scores.loc[world_scores['year'].isin(train_years)]\n",
        "    season_test = season_scores.loc[season_scores['year'].isin(test_years)]\n",
        "    world_test = world_scores.loc[world_scores['year'].isin(test_years)]    \n",
        "    \n",
        "    return season_scores, world_scores, season_train, world_train, season_test, world_test"
      ],
      "id": "LSFVQcDa-eXt"
    },
    {
      "cell_type": "code",
      "source": [
        "def return_ranking(skater_scores, world_scores):\n",
        "    '''\n",
        "    Return predicted ranking and world rankings (as lists)\n",
        "    from Series of corresponding scores.\n",
        "    The reason why both rankings are returned at once is because\n",
        "    not all skaters in the season will participate in the world championship,\n",
        "    and vice versa. Therefore, only skaters who participated in both\n",
        "    will be of interest.    \n",
        "    '''\n",
        "    skater_scores= skater_scores.sort_values('score',ascending= False)\n",
        "    world_scores = world_scores.sort_values('score',ascending= False)\n",
        "    skater_ranking = list(skater_scores.index.intersection(world_scores.index))\n",
        "    print (skater_ranking)\n",
        "    world_ranking = list(world_scores.index.intersection(skater_scores.index))\n",
        "    print (world_ranking)\n",
        "    return skater_ranking, world_ranking"
      ],
      "metadata": {
        "id": "pTCU4ABeGcr-"
      },
      "id": "pTCU4ABeGcr-",
      "execution_count": 35,
      "outputs": []
    },
    {
      "cell_type": "code",
      "source": [
        "def calculate_kendall_tau(skater_ranking, world_ranking, verbose=True):\n",
        "    '''\n",
        "    Caluculate kendall's tau from two ranking lists of the same size\n",
        "    '''\n",
        "    # Generate set of ordered pairs from each ranking\n",
        "    skater_pairs = set(combinations(skater_ranking, 2))\n",
        "    print(skater_pairs)\n",
        "    world_pairs = set(combinations(world_ranking, 2))\n",
        "    print(world_pairs)\n",
        "    # Calculate number of total, concordant & discordant pairs and tau\n",
        "    n_pairs = len(skater_pairs)\n",
        "    n_concordant_pairs = len(skater_pairs & world_pairs)\n",
        "    \n",
        "    if verbose:\n",
        "        print(f'There are {n_concordant_pairs} concordant_pairs out of {n_pairs} pairs')\n",
        "        \n",
        "    # Calculate Kendall's tau from pair counts\n",
        "    tau = (2 * n_concordant_pairs - n_pairs) / n_pairs\n",
        "    return tau, n_concordant_pairs"
      ],
      "metadata": {
        "id": "BmHgJ5rjJLk3"
      },
      "id": "BmHgJ5rjJLk3",
      "execution_count": 62,
      "outputs": []
    },
    {
      "cell_type": "code",
      "execution_count": 37,
      "metadata": {
        "colab": {
          "base_uri": "https://localhost:8080/"
        },
        "id": "9wKokw2I9o0I",
        "outputId": "3d95f4fa-6330-4a9e-96f3-24c486594e7b"
      },
      "outputs": [
        {
          "output_type": "execute_result",
          "data": {
            "text/plain": [
              "((142, 4), (28, 4), (68, 4), (32, 4))"
            ]
          },
          "metadata": {},
          "execution_count": 37
        }
      ],
      "source": [
        "# Create train and test score tables for male skaters\n",
        "season_scores, world_scores, season_train, world_train, season_test, world_test = train_test_split(ice_skating_final,train_years, test_years)\n",
        "season_train.shape, world_train.shape, season_test.shape, world_test.shape\n"
      ],
      "id": "9wKokw2I9o0I"
    },
    {
      "cell_type": "code",
      "execution_count": 38,
      "metadata": {
        "id": "j2t0ugReAhap",
        "colab": {
          "base_uri": "https://localhost:8080/",
          "height": 70
        },
        "outputId": "603a6440-1a4a-4926-c8ee-3861b3640227"
      },
      "outputs": [
        {
          "output_type": "execute_result",
          "data": {
            "application/vnd.google.colaboratory.intrinsic+json": {
              "type": "string"
            },
            "text/plain": [
              "\"with open ('sample_season_scores.csv', 'w') as f:\\n  w = csv.writer(f)\\n  with open ('trimmed_ice_skating.csv', 'r') as c:\\n    r = csv.reader(c)\\n    i = 0\\n    w.writerow(['name', 'score', 'year', 'event'])\\n    for row in r:\\n      if i in [210,211,212,213,214,215,216]:\\n        w.writerow(row)\\n      i += 1\""
            ]
          },
          "metadata": {},
          "execution_count": 38
        }
      ],
      "source": [
        "'''with open ('sample_season_scores.csv', 'w') as f:\n",
        "  w = csv.writer(f)\n",
        "  with open ('trimmed_ice_skating.csv', 'r') as c:\n",
        "    r = csv.reader(c)\n",
        "    i = 0\n",
        "    w.writerow(['name', 'score', 'year', 'event'])\n",
        "    for row in r:\n",
        "      if i in [210,211,212,213,214,215,216]:\n",
        "        w.writerow(row)\n",
        "      i += 1'''"
      ],
      "id": "j2t0ugReAhap"
    },
    {
      "cell_type": "code",
      "execution_count": 39,
      "metadata": {
        "id": "7USpJIRK-919"
      },
      "outputs": [],
      "source": [
        "# Select relevant rows from male season scores in 2017 for toy example\n",
        "sample_season_scores = season_scores.loc[[210,211,212,213,214,215,216]]\n",
        "sample_season_scores.to_csv('sample_season_scores.csv') # Save for Google sheets"
      ],
      "id": "7USpJIRK-919"
    },
    {
      "cell_type": "code",
      "execution_count": 40,
      "metadata": {
        "id": "_WPtTn5TAHeE"
      },
      "outputs": [],
      "source": [
        "season_pivot = pd.pivot_table(sample_season_scores[['name', 'event', 'score']], values='score', index='name', columns='event')\n",
        "season_pivot.to_csv('season_pivot.csv') # Save for Google sheets"
      ],
      "id": "_WPtTn5TAHeE"
    },
    {
      "cell_type": "code",
      "source": [
        "skater_names = list(season_pivot.index) \n",
        "event_names = list(season_pivot.columns) \n",
        "\n",
        "# Convert pivot table to numpy array\n",
        "true_scores = season_pivot.values \n"
      ],
      "metadata": {
        "id": "N8FufijPFYVw"
      },
      "id": "N8FufijPFYVw",
      "execution_count": 41,
      "outputs": []
    },
    {
      "cell_type": "code",
      "source": [
        "random_state = np.random.RandomState(seed=42)\n",
        "baseline = random_state.random_sample()\n",
        "skater_scores = random_state.random_sample((len(skater_names), 1))\n",
        "event_scores = random_state.random_sample((1, len(event_names)))\n",
        "\n",
        "pd.Series(skater_scores.ravel(), index=skater_names).to_csv('skater_scores.csv') # Save for Google sheets\n",
        "pd.Series(event_scores.ravel(), index=event_names).to_csv('event_scores.csv') # Save for Google sheets"
      ],
      "metadata": {
        "id": "Tesd-ukwFfzk"
      },
      "id": "Tesd-ukwFfzk",
      "execution_count": 42,
      "outputs": []
    },
    {
      "cell_type": "code",
      "source": [
        "alpha = 0.0005\n",
        "\n",
        "for i in range(1000):\n",
        "    # 2a. Calculate gradients\n",
        "    predicted_scores = skater_scores @ event_scores + baseline\n",
        "    residuals = predicted_scores - true_scores\n",
        "    \n",
        "    baseline_gradient = np.nansum(residuals)\n",
        "    event_gradients = np.nansum(residuals * skater_scores, axis=0, keepdims=True)\n",
        "    skater_gradients = np.nansum(residuals * event_scores, axis=1, keepdims=True)\n",
        "    \n",
        "    ### 2b. Update latent scores using gradients\n",
        "    baseline = baseline - alpha * baseline_gradient\n",
        "    event_scores = event_scores - alpha * event_gradients\n",
        "    skater_scores = skater_scores - alpha * skater_gradients\n",
        "    \n",
        "    # Print RMSE for last two iterations\n",
        "    if i in [998, 999]:\n",
        "        print(i, np.sqrt(np.nanmean(residuals**2)))"
      ],
      "metadata": {
        "id": "WPcdP2YpFllN",
        "colab": {
          "base_uri": "https://localhost:8080/"
        },
        "outputId": "38eb4cdb-cfae-4219-99f4-e55c5ef3609d"
      },
      "id": "WPcdP2YpFllN",
      "execution_count": 43,
      "outputs": [
        {
          "output_type": "stream",
          "name": "stdout",
          "text": [
            "998 8.660796882794046e-14\n",
            "999 8.660796882794046e-14\n"
          ]
        }
      ]
    },
    {
      "cell_type": "code",
      "source": [
        "residuals"
      ],
      "metadata": {
        "id": "3ZOXPSghFout",
        "colab": {
          "base_uri": "https://localhost:8080/"
        },
        "outputId": "df0d34c0-85c1-40a0-b491-5bb71f6a09e8"
      },
      "id": "3ZOXPSghFout",
      "execution_count": 44,
      "outputs": [
        {
          "output_type": "execute_result",
          "data": {
            "text/plain": [
              "array([[            nan,             nan, -1.13686838e-13,\n",
              "                    nan],\n",
              "       [-8.52651283e-14,             nan,             nan,\n",
              "                    nan],\n",
              "       [            nan, -5.68434189e-14,             nan,\n",
              "                    nan],\n",
              "       [            nan,             nan,             nan,\n",
              "         8.52651283e-14],\n",
              "       [            nan,  8.52651283e-14,             nan,\n",
              "                    nan],\n",
              "       [            nan,             nan,             nan,\n",
              "        -8.52651283e-14],\n",
              "       [            nan,  8.52651283e-14,             nan,\n",
              "                    nan]])"
            ]
          },
          "metadata": {},
          "execution_count": 44
        }
      ]
    },
    {
      "cell_type": "code",
      "source": [
        "pd.DataFrame(residuals).to_csv('single_factor_residuals.csv')\n"
      ],
      "metadata": {
        "id": "SwtYM3DhFsUz"
      },
      "id": "SwtYM3DhFsUz",
      "execution_count": 45,
      "outputs": []
    },
    {
      "cell_type": "code",
      "source": [
        "pd.Series(skater_scores.ravel(), index=skater_names).sort_values(ascending=False)"
      ],
      "metadata": {
        "id": "4L3UpVkTFz-9",
        "colab": {
          "base_uri": "https://localhost:8080/"
        },
        "outputId": "fa5ecbdf-d4f0-409f-e1a1-ee3926dc6e91"
      },
      "id": "4L3UpVkTFz-9",
      "execution_count": 46,
      "outputs": [
        {
          "output_type": "execute_result",
          "data": {
            "text/plain": [
              "Alexandra TRUSOVA    13.475735\n",
              "Ekaterina RYABOVA    13.001679\n",
              "Mariah BELL          11.856158\n",
              "Kaori SAKAMOTO       11.724967\n",
              "Karen CHEN           11.380220\n",
              "Wakaba HIGUCHI       10.145840\n",
              "Mana KAWABE           9.300097\n",
              "dtype: float64"
            ]
          },
          "metadata": {},
          "execution_count": 46
        }
      ]
    },
    {
      "cell_type": "code",
      "source": [
        "def batch_gd(season_scores, skater_order=None, init_seed=42,\n",
        "             alpha=0.0005, n_iter=1000,\n",
        "             log_iter=False, log_every=10, additional_iter=range(1, 10),\n",
        "             return_rmse=False):\n",
        "    '''\n",
        "    Run gradient descent on some season scores table (long format)\n",
        "    Return skater and event scores (along with final RMSE and other intermediate values if needed)'''\n",
        "    \n",
        "    # Convert long table to pivot table\n",
        "    season_pivot = pd.pivot_table(season_scores[['name', 'event', 'score']], values='score', index='name', columns='event')\n",
        "    \n",
        "    # Modify skater position in pivot table (for aesthetic value only)\n",
        "    if skater_order is not None:\n",
        "        season_pivot = season_pivot.loc[skater_order]\n",
        "        \n",
        "    # Store skater and event names to retrieve later\n",
        "    skater_names = list(season_pivot.index)\n",
        "    event_names = list(season_pivot.columns)\n",
        "    \n",
        "    # Convert pivot table to numpy array\n",
        "    true_scores = season_pivot.values\n",
        "\n",
        "    # Initialize baseline, event, and skater scores (random number between 0 and 1 given some seed)\n",
        "    random_state = np.random.RandomState(init_seed)\n",
        "    skater_scores = random_state.random_sample((len(skater_names), 1))\n",
        "    event_scores = random_state.random_sample((1, len(event_names)))\n",
        "    baseline = random_state.random_sample()\n",
        "    \n",
        "    # Different lists to contain intermediate values if logging is enabled\n",
        "    skater_scores_log = []\n",
        "    event_scores_log = []\n",
        "    baseline_log = []\n",
        "    rmse_log = []\n",
        "    residual_log = []\n",
        "    iter_log = []\n",
        "    \n",
        "    # Run gradient descent\n",
        "    for i in range(n_iter):\n",
        "        # Calculate predicted scores and residuals\n",
        "        predicted_scores = skater_scores @ event_scores + baseline\n",
        "        residuals = predicted_scores - true_scores\n",
        "        \n",
        "        # Log intermediate values at certain iterations if logging is enabled\n",
        "        if log_iter and (i%log_every==0 or (i in additional_iter)):            \n",
        "            iter_log.append(i)\n",
        "            skater_scores_log.append(pd.Series(skater_scores.ravel(), index=skater_names))\n",
        "            event_scores_log.append(pd.Series(event_scores.ravel(), index=event_names))\n",
        "            baseline_log.append(baseline)\n",
        "            residual_log.append(residuals)\n",
        "            rmse = np.sqrt(np.nanmean(residuals**2))\n",
        "            rmse_log.append(rmse)\n",
        "        \n",
        "        # Calculate parameter gradients\n",
        "        skater_gradients = np.nansum(residuals * event_scores, axis=1, keepdims=True)\n",
        "        event_gradients = np.nansum(residuals * skater_scores, axis=0, keepdims=True)\n",
        "        baseline_gradient = np.nansum(residuals)\n",
        "        \n",
        "        # Update parameters\n",
        "        event_scores = event_scores - alpha * event_gradients\n",
        "        skater_scores = skater_scores - alpha * skater_gradients\n",
        "        baseline = baseline - alpha * baseline_gradient\n",
        "        \n",
        "        # Print difference in RMSE for last two iterations\n",
        "        if i == (n_iter-1):\n",
        "            rmse_old = np.sqrt(np.nanmean(residuals**2))\n",
        "            residuals = skater_scores @ event_scores + baseline - true_scores\n",
        "            rmse_new = np.sqrt(np.nanmean(residuals**2))\n",
        "            print(f'Alpha: {alpha}, Iter: {n_iter}, Last RMSE: {round(rmse_new, 2)}, Delta RMSE: {round(rmse_new - rmse_old, 10)}')\n",
        "    \n",
        "    # Collect logs together in one list\n",
        "    log = [iter_log, true_scores, skater_names, event_names, skater_scores_log, event_scores_log, baseline_log, residual_log, rmse_log]\n",
        "    \n",
        "    # Put event and skater scores back into Series form with names added\n",
        "    skater_scores = pd.Series(skater_scores.ravel(), index=skater_names).sort_values(ascending=False)\n",
        "    event_scores = pd.Series(event_scores.ravel(), index=event_names).sort_values(ascending=False)\n",
        "    \n",
        "    if log_iter:\n",
        "        return baseline, event_scores, skater_scores, log\n",
        "    elif return_rmse:\n",
        "        return baseline, event_scores, skater_scores, rmse_new\n",
        "    else:\n",
        "        return baseline, event_scores, skater_scores"
      ],
      "metadata": {
        "id": "pdh1muAoF6t9"
      },
      "id": "pdh1muAoF6t9",
      "execution_count": 47,
      "outputs": []
    },
    {
      "cell_type": "code",
      "source": [
        "# Final results after 151 iterations\n",
        "final_baseline, final_event_scores, final_skater_scores = batch_gd(season_scores, alpha=0.0005, n_iter=151)\n",
        "\n",
        "# Store final skater order to be used in heatmap later\n",
        "example_skater_order = final_skater_scores.index[::-1]\n",
        "np.save('example_skater_order', example_skater_order)"
      ],
      "metadata": {
        "id": "XTVqQjC5GAdW",
        "colab": {
          "base_uri": "https://localhost:8080/"
        },
        "outputId": "94f579d4-14e1-48f5-e22e-c2d9ca63f2e9"
      },
      "id": "XTVqQjC5GAdW",
      "execution_count": 48,
      "outputs": [
        {
          "output_type": "stream",
          "name": "stdout",
          "text": [
            "Alpha: 0.0005, Iter: 151, Last RMSE: 7.3, Delta RMSE: -9.285e-07\n"
          ]
        }
      ]
    },
    {
      "cell_type": "code",
      "source": [
        "world_scores = world_scores.set_index('name')\n",
        "world_scores"
      ],
      "metadata": {
        "id": "rYunki0PG7dq"
      },
      "id": "rYunki0PG7dq",
      "execution_count": null,
      "outputs": []
    },
    {
      "cell_type": "code",
      "source": [
        "# Logged results during 151 iterations, using skater ranking from the final 150th iteration (only for asthetic reason)\n",
        "baseline, event_scores, skater_scores, [iter_log, true_scores, skater_names, event_names, skater_scores_log, event_scores_log, baseline_log, residual_log, rmse_log] = batch_gd(season_scores, \n",
        "skater_order=example_skater_order, alpha=0.0005, n_iter=151,\n",
        "log_iter=True, log_every=10,\n",
        "additional_iter=list(range(10)) + list(range(10, 51, 5)),\n",
        ")\n",
        "\n",
        "#rankings_log = [return_ranking(skater_scores, world_scores)[0] for skater_scores in skater_scores_log]\n",
        "rankings_log = []\n",
        "for skater_scores in skater_scores_log:\n",
        "  skater_scores = pd.DataFrame(skater_scores)\n",
        "  skater_scores.columns = ['score']\n",
        "  #print(skater_scores)\n",
        "  temp = return_ranking(skater_scores, world_scores)\n",
        "  #print(temp)\n",
        "  rankings_log.append(return_ranking(skater_scores, world_scores)[0])\n",
        "\n",
        "first_block_ssl = skater_scores_log[0]\n",
        "first_block_ssl = pd.DataFrame(first_block_ssl)\n",
        "first_block_ssl.columns = ['score']\n",
        "world_ranking = return_ranking(first_block_ssl, world_scores)[1]\n",
        "\n",
        "\n",
        "'''\n",
        "print('world:')\n",
        "print(world_ranking)\n",
        "print('season:')\n",
        "print(season_ranking)\n",
        "'''\n",
        "\n",
        "taus_log = [calculate_kendall_tau(season_ranking, world_ranking, verbose=False) for season_ranking in rankings_log]"
      ],
      "metadata": {
        "id": "wzovkRbzGL8l"
      },
      "id": "wzovkRbzGL8l",
      "execution_count": null,
      "outputs": []
    },
    {
      "cell_type": "code",
      "source": [
        "# Rerun hybrid model with large number of iterations (10000)\n",
        "baseline, event_scores, skater_scores = batch_gd(season_scores, alpha=0.0005, n_iter=10000)"
      ],
      "metadata": {
        "colab": {
          "base_uri": "https://localhost:8080/"
        },
        "id": "7w1atrSCjfoH",
        "outputId": "904a2fbd-9973-43d9-ffc2-ca2369c2f4ec"
      },
      "id": "7w1atrSCjfoH",
      "execution_count": 51,
      "outputs": [
        {
          "output_type": "stream",
          "name": "stdout",
          "text": [
            "Alpha: 0.0005, Iter: 10000, Last RMSE: 7.3, Delta RMSE: -8.247e-07\n"
          ]
        }
      ]
    },
    {
      "cell_type": "code",
      "source": [
        "baseline"
      ],
      "metadata": {
        "colab": {
          "base_uri": "https://localhost:8080/"
        },
        "id": "dID4TRJKjj31",
        "outputId": "d51ca6d9-7f58-4352-9189-d5d6c19fc364"
      },
      "id": "dID4TRJKjj31",
      "execution_count": 52,
      "outputs": [
        {
          "output_type": "execute_result",
          "data": {
            "text/plain": [
              "44.66484727210831"
            ]
          },
          "metadata": {},
          "execution_count": 52
        }
      ]
    },
    {
      "cell_type": "code",
      "source": [
        "skater_scores.head()"
      ],
      "metadata": {
        "colab": {
          "base_uri": "https://localhost:8080/"
        },
        "id": "Ug5c4as2jmzT",
        "outputId": "59add32b-4e90-49f2-ad6a-e8d45c21bb19"
      },
      "id": "Ug5c4as2jmzT",
      "execution_count": 53,
      "outputs": [
        {
          "output_type": "execute_result",
          "data": {
            "text/plain": [
              "Anna SHCHERBAKOVA    13.509276\n",
              "Alexandra TRUSOVA    12.933258\n",
              "Kaori SAKAMOTO       11.523581\n",
              "Alysa LIU            11.201159\n",
              "Loena HENDRICKX      11.038469\n",
              "dtype: float64"
            ]
          },
          "metadata": {},
          "execution_count": 53
        }
      ]
    },
    {
      "cell_type": "code",
      "source": [
        "event_scores"
      ],
      "metadata": {
        "colab": {
          "base_uri": "https://localhost:8080/"
        },
        "id": "oQ9tQkHVjnMj",
        "outputId": "c94b3c8c-594d-4232-a5b5-e3f27d9c7cfe"
      },
      "id": "oQ9tQkHVjnMj",
      "execution_count": 54,
      "outputs": [
        {
          "output_type": "execute_result",
          "data": {
            "text/plain": [
              "SA     15.088406\n",
              "I      14.836066\n",
              "GP     14.534799\n",
              "RC     14.341082\n",
              "NHK    14.334084\n",
              "4C     14.321145\n",
              "SC     14.241826\n",
              "F      14.027340\n",
              "HC     13.265695\n",
              "EC     13.245664\n",
              "dtype: float64"
            ]
          },
          "metadata": {},
          "execution_count": 54
        }
      ]
    },
    {
      "cell_type": "code",
      "source": [
        "df_compare_hyb = pd.merge(season_scores, event_scores.to_frame(name='event_score'), how='left', left_on='event', right_index=True)\n",
        "df_compare_hyb = pd.merge(df_compare_hyb, skater_scores.to_frame(name='skater_score'), how='left', left_on='name', right_index=True)\n",
        "df_compare_hyb['predicted'] = baseline + df_compare_hyb['event_score'] * df_compare_hyb['skater_score']\n",
        "df_compare_hyb['residual'] = df_compare_hyb['predicted'] - df_compare_hyb['score']\n",
        "df_compare_hyb.head()"
      ],
      "metadata": {
        "colab": {
          "base_uri": "https://localhost:8080/",
          "height": 206
        },
        "id": "1VkPGpVUjqKT",
        "outputId": "0313dc08-f582-45e1-e725-53ed1af27fd6"
      },
      "id": "1VkPGpVUjqKT",
      "execution_count": 55,
      "outputs": [
        {
          "output_type": "execute_result",
          "data": {
            "text/html": [
              "\n",
              "  <div id=\"df-1e11c724-b4b9-4ba0-962c-84192eb7d5ad\">\n",
              "    <div class=\"colab-df-container\">\n",
              "      <div>\n",
              "<style scoped>\n",
              "    .dataframe tbody tr th:only-of-type {\n",
              "        vertical-align: middle;\n",
              "    }\n",
              "\n",
              "    .dataframe tbody tr th {\n",
              "        vertical-align: top;\n",
              "    }\n",
              "\n",
              "    .dataframe thead th {\n",
              "        text-align: right;\n",
              "    }\n",
              "</style>\n",
              "<table border=\"1\" class=\"dataframe\">\n",
              "  <thead>\n",
              "    <tr style=\"text-align: right;\">\n",
              "      <th></th>\n",
              "      <th>name</th>\n",
              "      <th>score</th>\n",
              "      <th>year</th>\n",
              "      <th>event</th>\n",
              "      <th>event_score</th>\n",
              "      <th>skater_score</th>\n",
              "      <th>predicted</th>\n",
              "      <th>residual</th>\n",
              "    </tr>\n",
              "  </thead>\n",
              "  <tbody>\n",
              "    <tr>\n",
              "      <th>0</th>\n",
              "      <td>Anna SHCHERBAKOVA</td>\n",
              "      <td>237.759995</td>\n",
              "      <td>2020</td>\n",
              "      <td>EC</td>\n",
              "      <td>13.245664</td>\n",
              "      <td>13.509276</td>\n",
              "      <td>223.604182</td>\n",
              "      <td>-14.155812</td>\n",
              "    </tr>\n",
              "    <tr>\n",
              "      <th>1</th>\n",
              "      <td>Alexandra TRUSOVA</td>\n",
              "      <td>225.339996</td>\n",
              "      <td>2020</td>\n",
              "      <td>EC</td>\n",
              "      <td>13.245664</td>\n",
              "      <td>12.933258</td>\n",
              "      <td>215.974447</td>\n",
              "      <td>-9.365549</td>\n",
              "    </tr>\n",
              "    <tr>\n",
              "      <th>2</th>\n",
              "      <td>Ekaterina RYABOVA</td>\n",
              "      <td>181.490005</td>\n",
              "      <td>2020</td>\n",
              "      <td>EC</td>\n",
              "      <td>13.245664</td>\n",
              "      <td>9.596608</td>\n",
              "      <td>171.778297</td>\n",
              "      <td>-9.711708</td>\n",
              "    </tr>\n",
              "    <tr>\n",
              "      <th>3</th>\n",
              "      <td>Ekaterina KURAKOVA</td>\n",
              "      <td>170.240005</td>\n",
              "      <td>2020</td>\n",
              "      <td>EC</td>\n",
              "      <td>13.245664</td>\n",
              "      <td>9.407527</td>\n",
              "      <td>169.273800</td>\n",
              "      <td>-0.966206</td>\n",
              "    </tr>\n",
              "    <tr>\n",
              "      <th>4</th>\n",
              "      <td>Nicole SCHOTT</td>\n",
              "      <td>162.259995</td>\n",
              "      <td>2020</td>\n",
              "      <td>EC</td>\n",
              "      <td>13.245664</td>\n",
              "      <td>8.660223</td>\n",
              "      <td>159.375256</td>\n",
              "      <td>-2.884738</td>\n",
              "    </tr>\n",
              "  </tbody>\n",
              "</table>\n",
              "</div>\n",
              "      <button class=\"colab-df-convert\" onclick=\"convertToInteractive('df-1e11c724-b4b9-4ba0-962c-84192eb7d5ad')\"\n",
              "              title=\"Convert this dataframe to an interactive table.\"\n",
              "              style=\"display:none;\">\n",
              "        \n",
              "  <svg xmlns=\"http://www.w3.org/2000/svg\" height=\"24px\"viewBox=\"0 0 24 24\"\n",
              "       width=\"24px\">\n",
              "    <path d=\"M0 0h24v24H0V0z\" fill=\"none\"/>\n",
              "    <path d=\"M18.56 5.44l.94 2.06.94-2.06 2.06-.94-2.06-.94-.94-2.06-.94 2.06-2.06.94zm-11 1L8.5 8.5l.94-2.06 2.06-.94-2.06-.94L8.5 2.5l-.94 2.06-2.06.94zm10 10l.94 2.06.94-2.06 2.06-.94-2.06-.94-.94-2.06-.94 2.06-2.06.94z\"/><path d=\"M17.41 7.96l-1.37-1.37c-.4-.4-.92-.59-1.43-.59-.52 0-1.04.2-1.43.59L10.3 9.45l-7.72 7.72c-.78.78-.78 2.05 0 2.83L4 21.41c.39.39.9.59 1.41.59.51 0 1.02-.2 1.41-.59l7.78-7.78 2.81-2.81c.8-.78.8-2.07 0-2.86zM5.41 20L4 18.59l7.72-7.72 1.47 1.35L5.41 20z\"/>\n",
              "  </svg>\n",
              "      </button>\n",
              "      \n",
              "  <style>\n",
              "    .colab-df-container {\n",
              "      display:flex;\n",
              "      flex-wrap:wrap;\n",
              "      gap: 12px;\n",
              "    }\n",
              "\n",
              "    .colab-df-convert {\n",
              "      background-color: #E8F0FE;\n",
              "      border: none;\n",
              "      border-radius: 50%;\n",
              "      cursor: pointer;\n",
              "      display: none;\n",
              "      fill: #1967D2;\n",
              "      height: 32px;\n",
              "      padding: 0 0 0 0;\n",
              "      width: 32px;\n",
              "    }\n",
              "\n",
              "    .colab-df-convert:hover {\n",
              "      background-color: #E2EBFA;\n",
              "      box-shadow: 0px 1px 2px rgba(60, 64, 67, 0.3), 0px 1px 3px 1px rgba(60, 64, 67, 0.15);\n",
              "      fill: #174EA6;\n",
              "    }\n",
              "\n",
              "    [theme=dark] .colab-df-convert {\n",
              "      background-color: #3B4455;\n",
              "      fill: #D2E3FC;\n",
              "    }\n",
              "\n",
              "    [theme=dark] .colab-df-convert:hover {\n",
              "      background-color: #434B5C;\n",
              "      box-shadow: 0px 1px 3px 1px rgba(0, 0, 0, 0.15);\n",
              "      filter: drop-shadow(0px 1px 2px rgba(0, 0, 0, 0.3));\n",
              "      fill: #FFFFFF;\n",
              "    }\n",
              "  </style>\n",
              "\n",
              "      <script>\n",
              "        const buttonEl =\n",
              "          document.querySelector('#df-1e11c724-b4b9-4ba0-962c-84192eb7d5ad button.colab-df-convert');\n",
              "        buttonEl.style.display =\n",
              "          google.colab.kernel.accessAllowed ? 'block' : 'none';\n",
              "\n",
              "        async function convertToInteractive(key) {\n",
              "          const element = document.querySelector('#df-1e11c724-b4b9-4ba0-962c-84192eb7d5ad');\n",
              "          const dataTable =\n",
              "            await google.colab.kernel.invokeFunction('convertToInteractive',\n",
              "                                                     [key], {});\n",
              "          if (!dataTable) return;\n",
              "\n",
              "          const docLinkHtml = 'Like what you see? Visit the ' +\n",
              "            '<a target=\"_blank\" href=https://colab.research.google.com/notebooks/data_table.ipynb>data table notebook</a>'\n",
              "            + ' to learn more about interactive tables.';\n",
              "          element.innerHTML = '';\n",
              "          dataTable['output_type'] = 'display_data';\n",
              "          await google.colab.output.renderOutput(dataTable, element);\n",
              "          const docLink = document.createElement('div');\n",
              "          docLink.innerHTML = docLinkHtml;\n",
              "          element.appendChild(docLink);\n",
              "        }\n",
              "      </script>\n",
              "    </div>\n",
              "  </div>\n",
              "  "
            ],
            "text/plain": [
              "                 name       score  year  ... skater_score   predicted   residual\n",
              "0   Anna SHCHERBAKOVA  237.759995  2020  ...    13.509276  223.604182 -14.155812\n",
              "1   Alexandra TRUSOVA  225.339996  2020  ...    12.933258  215.974447  -9.365549\n",
              "2   Ekaterina RYABOVA  181.490005  2020  ...     9.596608  171.778297  -9.711708\n",
              "3  Ekaterina KURAKOVA  170.240005  2020  ...     9.407527  169.273800  -0.966206\n",
              "4       Nicole SCHOTT  162.259995  2020  ...     8.660223  159.375256  -2.884738\n",
              "\n",
              "[5 rows x 8 columns]"
            ]
          },
          "metadata": {},
          "execution_count": 55
        }
      ]
    },
    {
      "cell_type": "code",
      "source": [
        "df_compare_hyb.loc[df_compare_hyb['name']=='Anna SHCHERBAKOVA']"
      ],
      "metadata": {
        "colab": {
          "base_uri": "https://localhost:8080/",
          "height": 488
        },
        "id": "SJuHJKmrkIqD",
        "outputId": "2d8be5f0-8f59-4d68-d1cd-f84682909b96"
      },
      "id": "SJuHJKmrkIqD",
      "execution_count": 56,
      "outputs": [
        {
          "output_type": "execute_result",
          "data": {
            "text/html": [
              "\n",
              "  <div id=\"df-ab93a86d-cc20-4a2a-80a4-93c70aa4d63a\">\n",
              "    <div class=\"colab-df-container\">\n",
              "      <div>\n",
              "<style scoped>\n",
              "    .dataframe tbody tr th:only-of-type {\n",
              "        vertical-align: middle;\n",
              "    }\n",
              "\n",
              "    .dataframe tbody tr th {\n",
              "        vertical-align: top;\n",
              "    }\n",
              "\n",
              "    .dataframe thead th {\n",
              "        text-align: right;\n",
              "    }\n",
              "</style>\n",
              "<table border=\"1\" class=\"dataframe\">\n",
              "  <thead>\n",
              "    <tr style=\"text-align: right;\">\n",
              "      <th></th>\n",
              "      <th>name</th>\n",
              "      <th>score</th>\n",
              "      <th>year</th>\n",
              "      <th>event</th>\n",
              "      <th>event_score</th>\n",
              "      <th>skater_score</th>\n",
              "      <th>predicted</th>\n",
              "      <th>residual</th>\n",
              "    </tr>\n",
              "  </thead>\n",
              "  <tbody>\n",
              "    <tr>\n",
              "      <th>0</th>\n",
              "      <td>Anna SHCHERBAKOVA</td>\n",
              "      <td>237.759995</td>\n",
              "      <td>2020</td>\n",
              "      <td>EC</td>\n",
              "      <td>13.245664</td>\n",
              "      <td>13.509276</td>\n",
              "      <td>223.604182</td>\n",
              "      <td>-14.155812</td>\n",
              "    </tr>\n",
              "    <tr>\n",
              "      <th>39</th>\n",
              "      <td>Anna SHCHERBAKOVA</td>\n",
              "      <td>240.919998</td>\n",
              "      <td>2019</td>\n",
              "      <td>GP</td>\n",
              "      <td>14.534799</td>\n",
              "      <td>13.509276</td>\n",
              "      <td>241.019461</td>\n",
              "      <td>0.099463</td>\n",
              "    </tr>\n",
              "    <tr>\n",
              "      <th>56</th>\n",
              "      <td>Anna SHCHERBAKOVA</td>\n",
              "      <td>237.759995</td>\n",
              "      <td>2020</td>\n",
              "      <td>EC</td>\n",
              "      <td>13.245664</td>\n",
              "      <td>13.509276</td>\n",
              "      <td>223.604182</td>\n",
              "      <td>-14.155812</td>\n",
              "    </tr>\n",
              "    <tr>\n",
              "      <th>71</th>\n",
              "      <td>Anna SHCHERBAKOVA</td>\n",
              "      <td>229.690002</td>\n",
              "      <td>2021</td>\n",
              "      <td>F</td>\n",
              "      <td>14.027340</td>\n",
              "      <td>13.509276</td>\n",
              "      <td>234.164047</td>\n",
              "      <td>4.474044</td>\n",
              "    </tr>\n",
              "    <tr>\n",
              "      <th>85</th>\n",
              "      <td>Anna SHCHERBAKOVA</td>\n",
              "      <td>229.690002</td>\n",
              "      <td>2020</td>\n",
              "      <td>F</td>\n",
              "      <td>14.027340</td>\n",
              "      <td>13.509276</td>\n",
              "      <td>234.164047</td>\n",
              "      <td>4.474044</td>\n",
              "    </tr>\n",
              "    <tr>\n",
              "      <th>118</th>\n",
              "      <td>Anna SHCHERBAKOVA</td>\n",
              "      <td>229.690002</td>\n",
              "      <td>2021</td>\n",
              "      <td>F</td>\n",
              "      <td>14.027340</td>\n",
              "      <td>13.509276</td>\n",
              "      <td>234.164047</td>\n",
              "      <td>4.474044</td>\n",
              "    </tr>\n",
              "    <tr>\n",
              "      <th>131</th>\n",
              "      <td>Anna SHCHERBAKOVA</td>\n",
              "      <td>236.779999</td>\n",
              "      <td>2021</td>\n",
              "      <td>I</td>\n",
              "      <td>14.836066</td>\n",
              "      <td>13.509276</td>\n",
              "      <td>245.089356</td>\n",
              "      <td>8.309358</td>\n",
              "    </tr>\n",
              "    <tr>\n",
              "      <th>135</th>\n",
              "      <td>Anna SHCHERBAKOVA</td>\n",
              "      <td>237.759995</td>\n",
              "      <td>2020</td>\n",
              "      <td>EC</td>\n",
              "      <td>13.245664</td>\n",
              "      <td>13.509276</td>\n",
              "      <td>223.604182</td>\n",
              "      <td>-14.155812</td>\n",
              "    </tr>\n",
              "    <tr>\n",
              "      <th>174</th>\n",
              "      <td>Anna SHCHERBAKOVA</td>\n",
              "      <td>240.919998</td>\n",
              "      <td>2019</td>\n",
              "      <td>GP</td>\n",
              "      <td>14.534799</td>\n",
              "      <td>13.509276</td>\n",
              "      <td>241.019461</td>\n",
              "      <td>0.099463</td>\n",
              "    </tr>\n",
              "    <tr>\n",
              "      <th>191</th>\n",
              "      <td>Anna SHCHERBAKOVA</td>\n",
              "      <td>237.759995</td>\n",
              "      <td>2020</td>\n",
              "      <td>EC</td>\n",
              "      <td>13.245664</td>\n",
              "      <td>13.509276</td>\n",
              "      <td>223.604182</td>\n",
              "      <td>-14.155812</td>\n",
              "    </tr>\n",
              "    <tr>\n",
              "      <th>206</th>\n",
              "      <td>Anna SHCHERBAKOVA</td>\n",
              "      <td>229.690002</td>\n",
              "      <td>2021</td>\n",
              "      <td>F</td>\n",
              "      <td>14.027340</td>\n",
              "      <td>13.509276</td>\n",
              "      <td>234.164047</td>\n",
              "      <td>4.474044</td>\n",
              "    </tr>\n",
              "    <tr>\n",
              "      <th>220</th>\n",
              "      <td>Anna SHCHERBAKOVA</td>\n",
              "      <td>229.690002</td>\n",
              "      <td>2020</td>\n",
              "      <td>F</td>\n",
              "      <td>14.027340</td>\n",
              "      <td>13.509276</td>\n",
              "      <td>234.164047</td>\n",
              "      <td>4.474044</td>\n",
              "    </tr>\n",
              "    <tr>\n",
              "      <th>253</th>\n",
              "      <td>Anna SHCHERBAKOVA</td>\n",
              "      <td>229.690002</td>\n",
              "      <td>2021</td>\n",
              "      <td>F</td>\n",
              "      <td>14.027340</td>\n",
              "      <td>13.509276</td>\n",
              "      <td>234.164047</td>\n",
              "      <td>4.474044</td>\n",
              "    </tr>\n",
              "    <tr>\n",
              "      <th>266</th>\n",
              "      <td>Anna SHCHERBAKOVA</td>\n",
              "      <td>236.779999</td>\n",
              "      <td>2021</td>\n",
              "      <td>I</td>\n",
              "      <td>14.836066</td>\n",
              "      <td>13.509276</td>\n",
              "      <td>245.089356</td>\n",
              "      <td>8.309358</td>\n",
              "    </tr>\n",
              "  </tbody>\n",
              "</table>\n",
              "</div>\n",
              "      <button class=\"colab-df-convert\" onclick=\"convertToInteractive('df-ab93a86d-cc20-4a2a-80a4-93c70aa4d63a')\"\n",
              "              title=\"Convert this dataframe to an interactive table.\"\n",
              "              style=\"display:none;\">\n",
              "        \n",
              "  <svg xmlns=\"http://www.w3.org/2000/svg\" height=\"24px\"viewBox=\"0 0 24 24\"\n",
              "       width=\"24px\">\n",
              "    <path d=\"M0 0h24v24H0V0z\" fill=\"none\"/>\n",
              "    <path d=\"M18.56 5.44l.94 2.06.94-2.06 2.06-.94-2.06-.94-.94-2.06-.94 2.06-2.06.94zm-11 1L8.5 8.5l.94-2.06 2.06-.94-2.06-.94L8.5 2.5l-.94 2.06-2.06.94zm10 10l.94 2.06.94-2.06 2.06-.94-2.06-.94-.94-2.06-.94 2.06-2.06.94z\"/><path d=\"M17.41 7.96l-1.37-1.37c-.4-.4-.92-.59-1.43-.59-.52 0-1.04.2-1.43.59L10.3 9.45l-7.72 7.72c-.78.78-.78 2.05 0 2.83L4 21.41c.39.39.9.59 1.41.59.51 0 1.02-.2 1.41-.59l7.78-7.78 2.81-2.81c.8-.78.8-2.07 0-2.86zM5.41 20L4 18.59l7.72-7.72 1.47 1.35L5.41 20z\"/>\n",
              "  </svg>\n",
              "      </button>\n",
              "      \n",
              "  <style>\n",
              "    .colab-df-container {\n",
              "      display:flex;\n",
              "      flex-wrap:wrap;\n",
              "      gap: 12px;\n",
              "    }\n",
              "\n",
              "    .colab-df-convert {\n",
              "      background-color: #E8F0FE;\n",
              "      border: none;\n",
              "      border-radius: 50%;\n",
              "      cursor: pointer;\n",
              "      display: none;\n",
              "      fill: #1967D2;\n",
              "      height: 32px;\n",
              "      padding: 0 0 0 0;\n",
              "      width: 32px;\n",
              "    }\n",
              "\n",
              "    .colab-df-convert:hover {\n",
              "      background-color: #E2EBFA;\n",
              "      box-shadow: 0px 1px 2px rgba(60, 64, 67, 0.3), 0px 1px 3px 1px rgba(60, 64, 67, 0.15);\n",
              "      fill: #174EA6;\n",
              "    }\n",
              "\n",
              "    [theme=dark] .colab-df-convert {\n",
              "      background-color: #3B4455;\n",
              "      fill: #D2E3FC;\n",
              "    }\n",
              "\n",
              "    [theme=dark] .colab-df-convert:hover {\n",
              "      background-color: #434B5C;\n",
              "      box-shadow: 0px 1px 3px 1px rgba(0, 0, 0, 0.15);\n",
              "      filter: drop-shadow(0px 1px 2px rgba(0, 0, 0, 0.3));\n",
              "      fill: #FFFFFF;\n",
              "    }\n",
              "  </style>\n",
              "\n",
              "      <script>\n",
              "        const buttonEl =\n",
              "          document.querySelector('#df-ab93a86d-cc20-4a2a-80a4-93c70aa4d63a button.colab-df-convert');\n",
              "        buttonEl.style.display =\n",
              "          google.colab.kernel.accessAllowed ? 'block' : 'none';\n",
              "\n",
              "        async function convertToInteractive(key) {\n",
              "          const element = document.querySelector('#df-ab93a86d-cc20-4a2a-80a4-93c70aa4d63a');\n",
              "          const dataTable =\n",
              "            await google.colab.kernel.invokeFunction('convertToInteractive',\n",
              "                                                     [key], {});\n",
              "          if (!dataTable) return;\n",
              "\n",
              "          const docLinkHtml = 'Like what you see? Visit the ' +\n",
              "            '<a target=\"_blank\" href=https://colab.research.google.com/notebooks/data_table.ipynb>data table notebook</a>'\n",
              "            + ' to learn more about interactive tables.';\n",
              "          element.innerHTML = '';\n",
              "          dataTable['output_type'] = 'display_data';\n",
              "          await google.colab.output.renderOutput(dataTable, element);\n",
              "          const docLink = document.createElement('div');\n",
              "          docLink.innerHTML = docLinkHtml;\n",
              "          element.appendChild(docLink);\n",
              "        }\n",
              "      </script>\n",
              "    </div>\n",
              "  </div>\n",
              "  "
            ],
            "text/plain": [
              "                  name       score  year  ... skater_score   predicted   residual\n",
              "0    Anna SHCHERBAKOVA  237.759995  2020  ...    13.509276  223.604182 -14.155812\n",
              "39   Anna SHCHERBAKOVA  240.919998  2019  ...    13.509276  241.019461   0.099463\n",
              "56   Anna SHCHERBAKOVA  237.759995  2020  ...    13.509276  223.604182 -14.155812\n",
              "71   Anna SHCHERBAKOVA  229.690002  2021  ...    13.509276  234.164047   4.474044\n",
              "85   Anna SHCHERBAKOVA  229.690002  2020  ...    13.509276  234.164047   4.474044\n",
              "118  Anna SHCHERBAKOVA  229.690002  2021  ...    13.509276  234.164047   4.474044\n",
              "131  Anna SHCHERBAKOVA  236.779999  2021  ...    13.509276  245.089356   8.309358\n",
              "135  Anna SHCHERBAKOVA  237.759995  2020  ...    13.509276  223.604182 -14.155812\n",
              "174  Anna SHCHERBAKOVA  240.919998  2019  ...    13.509276  241.019461   0.099463\n",
              "191  Anna SHCHERBAKOVA  237.759995  2020  ...    13.509276  223.604182 -14.155812\n",
              "206  Anna SHCHERBAKOVA  229.690002  2021  ...    13.509276  234.164047   4.474044\n",
              "220  Anna SHCHERBAKOVA  229.690002  2020  ...    13.509276  234.164047   4.474044\n",
              "253  Anna SHCHERBAKOVA  229.690002  2021  ...    13.509276  234.164047   4.474044\n",
              "266  Anna SHCHERBAKOVA  236.779999  2021  ...    13.509276  245.089356   8.309358\n",
              "\n",
              "[14 rows x 8 columns]"
            ]
          },
          "metadata": {},
          "execution_count": 56
        }
      ]
    },
    {
      "cell_type": "code",
      "source": [
        "skater_scores = pd.DataFrame(skater_scores)\n",
        "skater_scores.columns = ['score']\n",
        "print(world_scores)\n",
        "print(skater_scores)"
      ],
      "metadata": {
        "colab": {
          "base_uri": "https://localhost:8080/"
        },
        "id": "Z3KtRXoTkgd2",
        "outputId": "d036aa7a-295f-44bd-c462-86df435ba1cb"
      },
      "id": "Z3KtRXoTkgd2",
      "execution_count": 57,
      "outputs": [
        {
          "output_type": "stream",
          "name": "stdout",
          "text": [
            "                         score  year event\n",
            "name                                      \n",
            "Wakaba HIGUCHI      210.899994  2018    WC\n",
            "Loena HENDRICKX     192.309998  2018    WC\n",
            "Mariah BELL         174.399994  2018    WC\n",
            "Nicole SCHOTT       174.130005  2018    WC\n",
            "Kailani CRAINE      154.410004  2018    WC\n",
            "Eliska BREZINOVA    153.139999  2018    WC\n",
            "Kaori SAKAMOTO      222.830002  2019    WC\n",
            "Mariah BELL         208.070007  2019    WC\n",
            "Loena HENDRICKX     186.289993  2019    WC\n",
            "Ekaterina RYABOVA   179.880005  2019    WC\n",
            "Nicole SCHOTT       170.559998  2019    WC\n",
            "Alexandra FEIGIN    165.309998  2019    WC\n",
            "Eliska BREZINOVA    153.449997  2019    WC\n",
            "Kailani CRAINE       48.820000  2019    WC\n",
            "Anna SHCHERBAKOVA   233.169998  2021    WC\n",
            "Alexandra TRUSOVA   217.199997  2021    WC\n",
            "Karen CHEN          208.630005  2021    WC\n",
            "Loena HENDRICKX     208.440002  2021    WC\n",
            "Kaori SAKAMOTO      207.800003  2021    WC\n",
            "Olga MIKUTINA       198.770004  2021    WC\n",
            "Ekaterina RYABOVA   189.460007  2021    WC\n",
            "Madeline SCHIZAS    185.779999  2021    WC\n",
            "Eva-Lotta KIIBUS    181.470001  2021    WC\n",
            "Josefin TALJEGARD   178.100006  2021    WC\n",
            "Alexandra FEIGIN    173.520004  2021    WC\n",
            "Nicole SCHOTT       172.800003  2021    WC\n",
            "Eliska BREZINOVA    155.139999  2021    WC\n",
            "Jenni SAARINEN      146.539993  2021    WC\n",
            "Kailani CRAINE       56.860001  2021    WC\n",
            "Ekaterina KURAKOVA   52.279999  2021    WC\n",
            "Wakaba HIGUCHI      210.899994  2018    WC\n",
            "Loena HENDRICKX     192.309998  2018    WC\n",
            "Mariah BELL         174.399994  2018    WC\n",
            "Nicole SCHOTT       174.130005  2018    WC\n",
            "Kailani CRAINE      154.410004  2018    WC\n",
            "Eliska BREZINOVA    153.139999  2018    WC\n",
            "Kaori SAKAMOTO      222.830002  2019    WC\n",
            "Mariah BELL         208.070007  2019    WC\n",
            "Loena HENDRICKX     186.289993  2019    WC\n",
            "Ekaterina RYABOVA   179.880005  2019    WC\n",
            "Nicole SCHOTT       170.559998  2019    WC\n",
            "Alexandra FEIGIN    165.309998  2019    WC\n",
            "Eliska BREZINOVA    153.449997  2019    WC\n",
            "Kailani CRAINE       48.820000  2019    WC\n",
            "Anna SHCHERBAKOVA   233.169998  2021    WC\n",
            "Alexandra TRUSOVA   217.199997  2021    WC\n",
            "Karen CHEN          208.630005  2021    WC\n",
            "Loena HENDRICKX     208.440002  2021    WC\n",
            "Kaori SAKAMOTO      207.800003  2021    WC\n",
            "Olga MIKUTINA       198.770004  2021    WC\n",
            "Ekaterina RYABOVA   189.460007  2021    WC\n",
            "Madeline SCHIZAS    185.779999  2021    WC\n",
            "Eva-Lotta KIIBUS    181.470001  2021    WC\n",
            "Josefin TALJEGARD   178.100006  2021    WC\n",
            "Alexandra FEIGIN    173.520004  2021    WC\n",
            "Nicole SCHOTT       172.800003  2021    WC\n",
            "Eliska BREZINOVA    155.139999  2021    WC\n",
            "Jenni SAARINEN      146.539993  2021    WC\n",
            "Kailani CRAINE       56.860001  2021    WC\n",
            "Ekaterina KURAKOVA   52.279999  2021    WC\n",
            "                        score\n",
            "Anna SHCHERBAKOVA   13.509276\n",
            "Alexandra TRUSOVA   12.933258\n",
            "Kaori SAKAMOTO      11.523581\n",
            "Alysa LIU           11.201159\n",
            "Loena HENDRICKX     11.038469\n",
            "Wakaba HIGUCHI      10.897157\n",
            "Mariah BELL         10.887190\n",
            "Mana KAWABE         10.245846\n",
            "Madeline SCHIZAS    10.159022\n",
            "Karen CHEN          10.081842\n",
            "Ekaterina RYABOVA    9.596608\n",
            "Viktoriia SAFONOVA   9.488243\n",
            "Ekaterina KURAKOVA   9.407527\n",
            "Eva-Lotta KIIBUS     9.091249\n",
            "Nicole SCHOTT        8.660223\n",
            "Alexandra FEIGIN     8.532532\n",
            "Yi ZHU               8.146647\n",
            "Eliska BREZINOVA     8.087347\n",
            "Kailani CRAINE       7.881448\n",
            "Olga MIKUTINA        7.376534\n",
            "Jenni SAARINEN      -0.155507\n"
          ]
        }
      ]
    },
    {
      "cell_type": "code",
      "source": [
        "season_ranking, world_ranking = return_ranking(skater_scores, world_scores)\n",
        "print (\"world:\",world_ranking)\n",
        "print (\"seas:\",season_ranking)\n",
        "hyb_tau, hyb_concord = calculate_kendall_tau(season_ranking, world_ranking, verbose=False)\n",
        "hyb_tau, hyb_concord"
      ],
      "metadata": {
        "colab": {
          "base_uri": "https://localhost:8080/"
        },
        "id": "YzLJW1rKj6AU",
        "outputId": "e6ba6cb1-a2cb-4a9d-801a-f46ed2ef9b8b"
      },
      "id": "YzLJW1rKj6AU",
      "execution_count": 64,
      "outputs": [
        {
          "output_type": "stream",
          "name": "stdout",
          "text": [
            "['Anna SHCHERBAKOVA', 'Alexandra TRUSOVA', 'Kaori SAKAMOTO', 'Loena HENDRICKX', 'Wakaba HIGUCHI', 'Mariah BELL', 'Madeline SCHIZAS', 'Karen CHEN', 'Ekaterina RYABOVA', 'Ekaterina KURAKOVA', 'Eva-Lotta KIIBUS', 'Nicole SCHOTT', 'Alexandra FEIGIN', 'Eliska BREZINOVA', 'Kailani CRAINE', 'Olga MIKUTINA', 'Jenni SAARINEN']\n",
            "['Anna SHCHERBAKOVA', 'Kaori SAKAMOTO', 'Alexandra TRUSOVA', 'Wakaba HIGUCHI', 'Karen CHEN', 'Loena HENDRICKX', 'Mariah BELL', 'Olga MIKUTINA', 'Ekaterina RYABOVA', 'Madeline SCHIZAS', 'Eva-Lotta KIIBUS', 'Nicole SCHOTT', 'Alexandra FEIGIN', 'Eliska BREZINOVA', 'Kailani CRAINE', 'Jenni SAARINEN', 'Ekaterina KURAKOVA']\n",
            "world: ['Anna SHCHERBAKOVA', 'Kaori SAKAMOTO', 'Alexandra TRUSOVA', 'Wakaba HIGUCHI', 'Karen CHEN', 'Loena HENDRICKX', 'Mariah BELL', 'Olga MIKUTINA', 'Ekaterina RYABOVA', 'Madeline SCHIZAS', 'Eva-Lotta KIIBUS', 'Nicole SCHOTT', 'Alexandra FEIGIN', 'Eliska BREZINOVA', 'Kailani CRAINE', 'Jenni SAARINEN', 'Ekaterina KURAKOVA']\n",
            "seas: ['Anna SHCHERBAKOVA', 'Alexandra TRUSOVA', 'Kaori SAKAMOTO', 'Loena HENDRICKX', 'Wakaba HIGUCHI', 'Mariah BELL', 'Madeline SCHIZAS', 'Karen CHEN', 'Ekaterina RYABOVA', 'Ekaterina KURAKOVA', 'Eva-Lotta KIIBUS', 'Nicole SCHOTT', 'Alexandra FEIGIN', 'Eliska BREZINOVA', 'Kailani CRAINE', 'Olga MIKUTINA', 'Jenni SAARINEN']\n",
            "{('Anna SHCHERBAKOVA', 'Kailani CRAINE'), ('Madeline SCHIZAS', 'Eva-Lotta KIIBUS'), ('Ekaterina RYABOVA', 'Kailani CRAINE'), ('Alexandra FEIGIN', 'Olga MIKUTINA'), ('Mariah BELL', 'Kailani CRAINE'), ('Olga MIKUTINA', 'Jenni SAARINEN'), ('Alexandra TRUSOVA', 'Loena HENDRICKX'), ('Madeline SCHIZAS', 'Olga MIKUTINA'), ('Wakaba HIGUCHI', 'Madeline SCHIZAS'), ('Karen CHEN', 'Kailani CRAINE'), ('Wakaba HIGUCHI', 'Nicole SCHOTT'), ('Kaori SAKAMOTO', 'Olga MIKUTINA'), ('Mariah BELL', 'Karen CHEN'), ('Alexandra TRUSOVA', 'Ekaterina RYABOVA'), ('Madeline SCHIZAS', 'Eliska BREZINOVA'), ('Eliska BREZINOVA', 'Kailani CRAINE'), ('Wakaba HIGUCHI', 'Mariah BELL'), ('Anna SHCHERBAKOVA', 'Kaori SAKAMOTO'), ('Karen CHEN', 'Ekaterina KURAKOVA'), ('Anna SHCHERBAKOVA', 'Wakaba HIGUCHI'), ('Anna SHCHERBAKOVA', 'Alexandra FEIGIN'), ('Madeline SCHIZAS', 'Karen CHEN'), ('Ekaterina KURAKOVA', 'Alexandra FEIGIN'), ('Anna SHCHERBAKOVA', 'Ekaterina RYABOVA'), ('Karen CHEN', 'Ekaterina RYABOVA'), ('Anna SHCHERBAKOVA', 'Loena HENDRICKX'), ('Loena HENDRICKX', 'Alexandra FEIGIN'), ('Wakaba HIGUCHI', 'Eliska BREZINOVA'), ('Nicole SCHOTT', 'Jenni SAARINEN'), ('Anna SHCHERBAKOVA', 'Ekaterina KURAKOVA'), ('Eva-Lotta KIIBUS', 'Alexandra FEIGIN'), ('Loena HENDRICKX', 'Mariah BELL'), ('Loena HENDRICKX', 'Karen CHEN'), ('Ekaterina RYABOVA', 'Ekaterina KURAKOVA'), ('Karen CHEN', 'Jenni SAARINEN'), ('Kaori SAKAMOTO', 'Mariah BELL'), ('Kaori SAKAMOTO', 'Ekaterina KURAKOVA'), ('Karen CHEN', 'Eva-Lotta KIIBUS'), ('Loena HENDRICKX', 'Ekaterina KURAKOVA'), ('Anna SHCHERBAKOVA', 'Mariah BELL'), ('Alexandra TRUSOVA', 'Eliska BREZINOVA'), ('Madeline SCHIZAS', 'Alexandra FEIGIN'), ('Nicole SCHOTT', 'Alexandra FEIGIN'), ('Kaori SAKAMOTO', 'Ekaterina RYABOVA'), ('Loena HENDRICKX', 'Jenni SAARINEN'), ('Ekaterina RYABOVA', 'Alexandra FEIGIN'), ('Eliska BREZINOVA', 'Olga MIKUTINA'), ('Loena HENDRICKX', 'Eliska BREZINOVA'), ('Nicole SCHOTT', 'Eliska BREZINOVA'), ('Karen CHEN', 'Nicole SCHOTT'), ('Kaori SAKAMOTO', 'Eva-Lotta KIIBUS'), ('Mariah BELL', 'Alexandra FEIGIN'), ('Kaori SAKAMOTO', 'Loena HENDRICKX'), ('Eva-Lotta KIIBUS', 'Jenni SAARINEN'), ('Anna SHCHERBAKOVA', 'Eva-Lotta KIIBUS'), ('Wakaba HIGUCHI', 'Karen CHEN'), ('Eva-Lotta KIIBUS', 'Eliska BREZINOVA'), ('Alexandra TRUSOVA', 'Madeline SCHIZAS'), ('Ekaterina RYABOVA', 'Eva-Lotta KIIBUS'), ('Mariah BELL', 'Madeline SCHIZAS'), ('Wakaba HIGUCHI', 'Alexandra FEIGIN'), ('Kaori SAKAMOTO', 'Alexandra FEIGIN'), ('Wakaba HIGUCHI', 'Ekaterina KURAKOVA'), ('Kaori SAKAMOTO', 'Wakaba HIGUCHI'), ('Alexandra TRUSOVA', 'Jenni SAARINEN'), ('Alexandra TRUSOVA', 'Alexandra FEIGIN'), ('Kailani CRAINE', 'Olga MIKUTINA'), ('Kaori SAKAMOTO', 'Madeline SCHIZAS'), ('Ekaterina RYABOVA', 'Olga MIKUTINA'), ('Karen CHEN', 'Eliska BREZINOVA'), ('Mariah BELL', 'Eliska BREZINOVA'), ('Alexandra TRUSOVA', 'Eva-Lotta KIIBUS'), ('Ekaterina KURAKOVA', 'Nicole SCHOTT'), ('Kailani CRAINE', 'Jenni SAARINEN'), ('Anna SHCHERBAKOVA', 'Alexandra TRUSOVA'), ('Alexandra TRUSOVA', 'Karen CHEN'), ('Ekaterina RYABOVA', 'Jenni SAARINEN'), ('Kaori SAKAMOTO', 'Kailani CRAINE'), ('Wakaba HIGUCHI', 'Jenni SAARINEN'), ('Karen CHEN', 'Olga MIKUTINA'), ('Wakaba HIGUCHI', 'Eva-Lotta KIIBUS'), ('Kaori SAKAMOTO', 'Eliska BREZINOVA'), ('Ekaterina KURAKOVA', 'Eva-Lotta KIIBUS'), ('Madeline SCHIZAS', 'Jenni SAARINEN'), ('Madeline SCHIZAS', 'Kailani CRAINE'), ('Alexandra TRUSOVA', 'Olga MIKUTINA'), ('Mariah BELL', 'Olga MIKUTINA'), ('Kaori SAKAMOTO', 'Karen CHEN'), ('Alexandra TRUSOVA', 'Ekaterina KURAKOVA'), ('Alexandra FEIGIN', 'Kailani CRAINE'), ('Alexandra FEIGIN', 'Eliska BREZINOVA'), ('Ekaterina KURAKOVA', 'Olga MIKUTINA'), ('Loena HENDRICKX', 'Wakaba HIGUCHI'), ('Anna SHCHERBAKOVA', 'Karen CHEN'), ('Madeline SCHIZAS', 'Nicole SCHOTT'), ('Anna SHCHERBAKOVA', 'Olga MIKUTINA'), ('Eva-Lotta KIIBUS', 'Olga MIKUTINA'), ('Alexandra TRUSOVA', 'Kaori SAKAMOTO'), ('Eliska BREZINOVA', 'Jenni SAARINEN'), ('Ekaterina RYABOVA', 'Nicole SCHOTT'), ('Kaori SAKAMOTO', 'Jenni SAARINEN'), ('Loena HENDRICKX', 'Ekaterina RYABOVA'), ('Wakaba HIGUCHI', 'Kailani CRAINE'), ('Alexandra TRUSOVA', 'Wakaba HIGUCHI'), ('Ekaterina KURAKOVA', 'Eliska BREZINOVA'), ('Karen CHEN', 'Alexandra FEIGIN'), ('Anna SHCHERBAKOVA', 'Nicole SCHOTT'), ('Loena HENDRICKX', 'Olga MIKUTINA'), ('Ekaterina KURAKOVA', 'Jenni SAARINEN'), ('Mariah BELL', 'Nicole SCHOTT'), ('Ekaterina KURAKOVA', 'Kailani CRAINE'), ('Mariah BELL', 'Ekaterina RYABOVA'), ('Anna SHCHERBAKOVA', 'Jenni SAARINEN'), ('Madeline SCHIZAS', 'Ekaterina KURAKOVA'), ('Mariah BELL', 'Jenni SAARINEN'), ('Nicole SCHOTT', 'Olga MIKUTINA'), ('Loena HENDRICKX', 'Nicole SCHOTT'), ('Alexandra FEIGIN', 'Jenni SAARINEN'), ('Kaori SAKAMOTO', 'Nicole SCHOTT'), ('Alexandra TRUSOVA', 'Kailani CRAINE'), ('Anna SHCHERBAKOVA', 'Madeline SCHIZAS'), ('Nicole SCHOTT', 'Kailani CRAINE'), ('Mariah BELL', 'Ekaterina KURAKOVA'), ('Loena HENDRICKX', 'Eva-Lotta KIIBUS'), ('Madeline SCHIZAS', 'Ekaterina RYABOVA'), ('Eva-Lotta KIIBUS', 'Nicole SCHOTT'), ('Alexandra TRUSOVA', 'Nicole SCHOTT'), ('Loena HENDRICKX', 'Kailani CRAINE'), ('Wakaba HIGUCHI', 'Ekaterina RYABOVA'), ('Loena HENDRICKX', 'Madeline SCHIZAS'), ('Wakaba HIGUCHI', 'Olga MIKUTINA'), ('Anna SHCHERBAKOVA', 'Eliska BREZINOVA'), ('Alexandra TRUSOVA', 'Mariah BELL'), ('Eva-Lotta KIIBUS', 'Kailani CRAINE'), ('Mariah BELL', 'Eva-Lotta KIIBUS'), ('Ekaterina RYABOVA', 'Eliska BREZINOVA')}\n",
            "{('Anna SHCHERBAKOVA', 'Kailani CRAINE'), ('Madeline SCHIZAS', 'Eva-Lotta KIIBUS'), ('Ekaterina RYABOVA', 'Kailani CRAINE'), ('Wakaba HIGUCHI', 'Loena HENDRICKX'), ('Mariah BELL', 'Kailani CRAINE'), ('Olga MIKUTINA', 'Jenni SAARINEN'), ('Alexandra TRUSOVA', 'Loena HENDRICKX'), ('Wakaba HIGUCHI', 'Madeline SCHIZAS'), ('Ekaterina RYABOVA', 'Madeline SCHIZAS'), ('Nicole SCHOTT', 'Ekaterina KURAKOVA'), ('Karen CHEN', 'Kailani CRAINE'), ('Wakaba HIGUCHI', 'Nicole SCHOTT'), ('Olga MIKUTINA', 'Nicole SCHOTT'), ('Kaori SAKAMOTO', 'Olga MIKUTINA'), ('Alexandra TRUSOVA', 'Ekaterina RYABOVA'), ('Madeline SCHIZAS', 'Eliska BREZINOVA'), ('Eliska BREZINOVA', 'Kailani CRAINE'), ('Wakaba HIGUCHI', 'Mariah BELL'), ('Anna SHCHERBAKOVA', 'Kaori SAKAMOTO'), ('Karen CHEN', 'Ekaterina KURAKOVA'), ('Anna SHCHERBAKOVA', 'Wakaba HIGUCHI'), ('Anna SHCHERBAKOVA', 'Alexandra FEIGIN'), ('Anna SHCHERBAKOVA', 'Ekaterina RYABOVA'), ('Karen CHEN', 'Ekaterina RYABOVA'), ('Anna SHCHERBAKOVA', 'Loena HENDRICKX'), ('Loena HENDRICKX', 'Alexandra FEIGIN'), ('Wakaba HIGUCHI', 'Eliska BREZINOVA'), ('Kaori SAKAMOTO', 'Alexandra TRUSOVA'), ('Nicole SCHOTT', 'Jenni SAARINEN'), ('Anna SHCHERBAKOVA', 'Ekaterina KURAKOVA'), ('Eva-Lotta KIIBUS', 'Alexandra FEIGIN'), ('Eva-Lotta KIIBUS', 'Ekaterina KURAKOVA'), ('Loena HENDRICKX', 'Mariah BELL'), ('Olga MIKUTINA', 'Kailani CRAINE'), ('Ekaterina RYABOVA', 'Ekaterina KURAKOVA'), ('Karen CHEN', 'Jenni SAARINEN'), ('Kaori SAKAMOTO', 'Mariah BELL'), ('Kaori SAKAMOTO', 'Ekaterina KURAKOVA'), ('Olga MIKUTINA', 'Eliska BREZINOVA'), ('Karen CHEN', 'Eva-Lotta KIIBUS'), ('Loena HENDRICKX', 'Ekaterina KURAKOVA'), ('Karen CHEN', 'Loena HENDRICKX'), ('Anna SHCHERBAKOVA', 'Mariah BELL'), ('Alexandra TRUSOVA', 'Eliska BREZINOVA'), ('Madeline SCHIZAS', 'Alexandra FEIGIN'), ('Jenni SAARINEN', 'Ekaterina KURAKOVA'), ('Nicole SCHOTT', 'Alexandra FEIGIN'), ('Kaori SAKAMOTO', 'Ekaterina RYABOVA'), ('Loena HENDRICKX', 'Jenni SAARINEN'), ('Ekaterina RYABOVA', 'Alexandra FEIGIN'), ('Karen CHEN', 'Madeline SCHIZAS'), ('Loena HENDRICKX', 'Eliska BREZINOVA'), ('Nicole SCHOTT', 'Eliska BREZINOVA'), ('Karen CHEN', 'Nicole SCHOTT'), ('Kaori SAKAMOTO', 'Eva-Lotta KIIBUS'), ('Mariah BELL', 'Alexandra FEIGIN'), ('Kaori SAKAMOTO', 'Loena HENDRICKX'), ('Eva-Lotta KIIBUS', 'Jenni SAARINEN'), ('Anna SHCHERBAKOVA', 'Eva-Lotta KIIBUS'), ('Wakaba HIGUCHI', 'Karen CHEN'), ('Eva-Lotta KIIBUS', 'Eliska BREZINOVA'), ('Alexandra TRUSOVA', 'Madeline SCHIZAS'), ('Karen CHEN', 'Mariah BELL'), ('Ekaterina RYABOVA', 'Eva-Lotta KIIBUS'), ('Mariah BELL', 'Madeline SCHIZAS'), ('Wakaba HIGUCHI', 'Alexandra FEIGIN'), ('Olga MIKUTINA', 'Ekaterina KURAKOVA'), ('Kaori SAKAMOTO', 'Alexandra FEIGIN'), ('Wakaba HIGUCHI', 'Ekaterina KURAKOVA'), ('Kaori SAKAMOTO', 'Wakaba HIGUCHI'), ('Olga MIKUTINA', 'Alexandra FEIGIN'), ('Alexandra TRUSOVA', 'Jenni SAARINEN'), ('Alexandra FEIGIN', 'Ekaterina KURAKOVA'), ('Kailani CRAINE', 'Ekaterina KURAKOVA'), ('Alexandra TRUSOVA', 'Alexandra FEIGIN'), ('Kaori SAKAMOTO', 'Madeline SCHIZAS'), ('Olga MIKUTINA', 'Ekaterina RYABOVA'), ('Karen CHEN', 'Eliska BREZINOVA'), ('Mariah BELL', 'Eliska BREZINOVA'), ('Alexandra TRUSOVA', 'Eva-Lotta KIIBUS'), ('Kailani CRAINE', 'Jenni SAARINEN'), ('Anna SHCHERBAKOVA', 'Alexandra TRUSOVA'), ('Alexandra TRUSOVA', 'Karen CHEN'), ('Ekaterina RYABOVA', 'Jenni SAARINEN'), ('Kaori SAKAMOTO', 'Kailani CRAINE'), ('Wakaba HIGUCHI', 'Jenni SAARINEN'), ('Karen CHEN', 'Olga MIKUTINA'), ('Wakaba HIGUCHI', 'Eva-Lotta KIIBUS'), ('Kaori SAKAMOTO', 'Eliska BREZINOVA'), ('Madeline SCHIZAS', 'Jenni SAARINEN'), ('Madeline SCHIZAS', 'Kailani CRAINE'), ('Alexandra TRUSOVA', 'Olga MIKUTINA'), ('Mariah BELL', 'Olga MIKUTINA'), ('Kaori SAKAMOTO', 'Karen CHEN'), ('Alexandra TRUSOVA', 'Ekaterina KURAKOVA'), ('Alexandra FEIGIN', 'Kailani CRAINE'), ('Alexandra FEIGIN', 'Eliska BREZINOVA'), ('Anna SHCHERBAKOVA', 'Karen CHEN'), ('Madeline SCHIZAS', 'Nicole SCHOTT'), ('Anna SHCHERBAKOVA', 'Olga MIKUTINA'), ('Eliska BREZINOVA', 'Jenni SAARINEN'), ('Ekaterina RYABOVA', 'Nicole SCHOTT'), ('Kaori SAKAMOTO', 'Jenni SAARINEN'), ('Wakaba HIGUCHI', 'Kailani CRAINE'), ('Loena HENDRICKX', 'Ekaterina RYABOVA'), ('Alexandra TRUSOVA', 'Wakaba HIGUCHI'), ('Karen CHEN', 'Alexandra FEIGIN'), ('Anna SHCHERBAKOVA', 'Nicole SCHOTT'), ('Loena HENDRICKX', 'Olga MIKUTINA'), ('Mariah BELL', 'Nicole SCHOTT'), ('Mariah BELL', 'Ekaterina RYABOVA'), ('Anna SHCHERBAKOVA', 'Jenni SAARINEN'), ('Madeline SCHIZAS', 'Ekaterina KURAKOVA'), ('Mariah BELL', 'Jenni SAARINEN'), ('Loena HENDRICKX', 'Nicole SCHOTT'), ('Alexandra FEIGIN', 'Jenni SAARINEN'), ('Kaori SAKAMOTO', 'Nicole SCHOTT'), ('Alexandra TRUSOVA', 'Kailani CRAINE'), ('Anna SHCHERBAKOVA', 'Madeline SCHIZAS'), ('Nicole SCHOTT', 'Kailani CRAINE'), ('Mariah BELL', 'Ekaterina KURAKOVA'), ('Loena HENDRICKX', 'Eva-Lotta KIIBUS'), ('Olga MIKUTINA', 'Madeline SCHIZAS'), ('Eva-Lotta KIIBUS', 'Nicole SCHOTT'), ('Alexandra TRUSOVA', 'Nicole SCHOTT'), ('Wakaba HIGUCHI', 'Ekaterina RYABOVA'), ('Loena HENDRICKX', 'Kailani CRAINE'), ('Loena HENDRICKX', 'Madeline SCHIZAS'), ('Olga MIKUTINA', 'Eva-Lotta KIIBUS'), ('Eliska BREZINOVA', 'Ekaterina KURAKOVA'), ('Wakaba HIGUCHI', 'Olga MIKUTINA'), ('Anna SHCHERBAKOVA', 'Eliska BREZINOVA'), ('Alexandra TRUSOVA', 'Mariah BELL'), ('Eva-Lotta KIIBUS', 'Kailani CRAINE'), ('Mariah BELL', 'Eva-Lotta KIIBUS'), ('Ekaterina RYABOVA', 'Eliska BREZINOVA')}\n"
          ]
        },
        {
          "output_type": "execute_result",
          "data": {
            "text/plain": [
              "(0.7058823529411765, 116)"
            ]
          },
          "metadata": {},
          "execution_count": 64
        }
      ]
    }
  ],
  "metadata": {
    "colab": {
      "name": "Hybrid Model.ipynb",
      "provenance": [],
      "collapsed_sections": [],
      "include_colab_link": true
    },
    "kernelspec": {
      "display_name": "Python 3 (ipykernel)",
      "language": "python",
      "name": "python3"
    },
    "language_info": {
      "codemirror_mode": {
        "name": "ipython",
        "version": 3
      },
      "file_extension": ".py",
      "mimetype": "text/x-python",
      "name": "python",
      "nbconvert_exporter": "python",
      "pygments_lexer": "ipython3",
      "version": "3.10.1"
    }
  },
  "nbformat": 4,
  "nbformat_minor": 5
}