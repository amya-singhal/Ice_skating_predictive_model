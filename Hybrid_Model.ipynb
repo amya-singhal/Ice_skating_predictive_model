{
  "cells": [
    {
      "cell_type": "markdown",
      "metadata": {
        "id": "view-in-github",
        "colab_type": "text"
      },
      "source": [
        "<a href=\"https://colab.research.google.com/github/amya-singhal/Ice_skating_predictive_model/blob/main/Hybrid_Model.ipynb\" target=\"_parent\"><img src=\"https://colab.research.google.com/assets/colab-badge.svg\" alt=\"Open In Colab\"/></a>"
      ]
    },
    {
      "cell_type": "code",
      "execution_count": 74,
      "metadata": {
        "id": "8896b738-f025-449e-9df8-ca9d24fcf052"
      },
      "outputs": [],
      "source": [
        "import csv\n",
        "import pandas as pd\n",
        "import numpy as np\n",
        "from sklearn.linear_model import LinearRegression\n",
        "from sklearn.metrics import mean_squared_error\n",
        "from itertools import combinations\n",
        "from scipy.stats import kendalltau, norm\n",
        "from math import sqrt\n",
        "import matplotlib.pyplot as plt\n",
        "from matplotlib.animation import FuncAnimation\n",
        "from matplotlib.patches import ConnectionPatch\n",
        "from matplotlib import rc\n",
        "import matplotlib as mpl\n",
        "import seaborn as sns\n",
        "\n",
        "plt.style.use('seaborn')\n",
        "rc('text', usetex=False)\n",
        "%matplotlib inline"
      ],
      "id": "8896b738-f025-449e-9df8-ca9d24fcf052"
    },
    {
      "cell_type": "code",
      "execution_count": 75,
      "metadata": {
        "id": "91e1e9d2-6a4f-4339-ae01-c5e1f5109e00",
        "colab": {
          "base_uri": "https://localhost:8080/"
        },
        "outputId": "2a5e3886-ffbf-4533-fc7a-4dc5a72946aa"
      },
      "outputs": [
        {
          "output_type": "stream",
          "name": "stdout",
          "text": [
            "Requirement already satisfied: utils in /usr/local/lib/python3.7/dist-packages (1.0.1)\n",
            "The autoreload extension is already loaded. To reload it, use:\n",
            "  %reload_ext autoreload\n"
          ]
        }
      ],
      "source": [
        "!pip install utils\n",
        "%load_ext autoreload\n",
        "%aimport utils\n",
        "%autoreload 1\n",
        "from utils import *"
      ],
      "id": "91e1e9d2-6a4f-4339-ae01-c5e1f5109e00"
    },
    {
      "cell_type": "code",
      "execution_count": 76,
      "metadata": {
        "id": "04b0d664-cd03-4c89-b144-8d53315d667d"
      },
      "outputs": [],
      "source": [
        "def add_data(skaters_list, year, comp):\n",
        "  new = []\n",
        "  for i in skaters_list:\n",
        "    new.append(i + [year, comp])\n",
        "  return new"
      ],
      "id": "04b0d664-cd03-4c89-b144-8d53315d667d"
    },
    {
      "cell_type": "code",
      "execution_count": 77,
      "metadata": {
        "id": "f61501c8-9158-4afd-9511-e0705a0c2218",
        "colab": {
          "base_uri": "https://localhost:8080/"
        },
        "outputId": "b5081fe6-df86-46ed-e725-fdff4900947c"
      },
      "outputs": [
        {
          "output_type": "stream",
          "name": "stdout",
          "text": [
            "Drive already mounted at /content/drive; to attempt to forcibly remount, call drive.mount(\"/content/drive\", force_remount=True).\n"
          ]
        }
      ],
      "source": [
        "from google.colab import drive\n",
        "drive.mount('/content/drive')"
      ],
      "id": "f61501c8-9158-4afd-9511-e0705a0c2218"
    },
    {
      "cell_type": "code",
      "execution_count": 78,
      "metadata": {
        "id": "9e2b0ffd-6318-46b4-983b-b69492fabea0"
      },
      "outputs": [],
      "source": [
        "skaters_list = ['Kailani Craine', 'Olga Mikutina', 'Ekaterina Ryabova', 'Viktoriia Safonova', 'Loena Hendrickx', 'Alexandra Feigin', 'Madeline Schizas', 'Yi Zhu', 'Eliska Brezinova', 'Eva-Lotta Kiibus', 'Jenni Saarinen', 'Anastasiia Gubanova', 'Nicole Schott', 'Natasha McKay', 'Lara Naki Gutmann*', 'Wakaba Higuchi', 'Mana Kawabe', 'Kaori Sakamoto', 'Lindsay van Zundert', 'Ekaterina Kurakova', 'Anna Shcherbakova', 'Alexandra Trusova', 'Kamila Valieva' 'Yelim Kim', 'You Young', 'Josefin Taljegard', '\tAlexia Paganini', 'Anastasiia Shabotova', 'Mariah Bell', 'Karen Chen', 'Alysa Liu']\n",
        "# changed yelim kim and eliska brezinova\n",
        "skaters_country_dict = {'Olga Mikutina': 'Austria', 'Ekaterina Ryabova': 'Azerbaijan', 'Loena Hendrickx': 'Belgium', 'Alexandra Feigin': 'Bulgaria', 'Madeline Schizas': 'Canada', 'TBD': 'Finland', 'Eliška Březinová': 'Czech Republic', 'Nicole Schott': 'Germany', 'Natasha McKay': 'Great Britain', 'Lara Naki Gutmann*': 'Italy', 'Wakaba Higuchi': 'Japan', 'Mana Kawabe': 'Japan', 'Kaori Sakamoto': 'Japan', 'Lindsay van Zundert': 'Netherlands', 'Ekaterina Kurakova': 'Poland', 'Kim Ye-lim': 'South Korea', 'You Young': 'South Korea', 'Mariah Bell': 'United States', 'Karen Chen': 'United States', 'Alysa Liu': 'United States'}"
      ],
      "id": "9e2b0ffd-6318-46b4-983b-b69492fabea0"
    },
    {
      "cell_type": "code",
      "execution_count": 79,
      "metadata": {
        "id": "979399ff-2776-4e24-be02-6e06d8261a9d"
      },
      "outputs": [],
      "source": [
        "list_1=[['Alena KOSTORNAIA', '240.81'], ['Anna SHCHERBAKOVA', '237.76'], ['Alexandra TRUSOVA', '225.34'], ['Alexia PAGANINI', '192.88'], ['Emmi PELTONEN', '181.79'], ['Ekaterina RYABOVA', '181.49'], ['Eva Lotta KIIBUS', '181.24'], ['Alessia TORNAGHI', '172.17'], ['Mae Berenice MEITE', '172.08'], ['Ekaterina KURAKOVA', '170.24'], ['Maia MAZZARA', '170.06'], ['Linnea CEDER', '166.16'], ['Nicole SCHOTT', '162.26'], ['Viktoriia SAFONOVA', '159.91'], ['Alina URUSHADZE', '154.81'], ['Lea SERNA', '154.73'], ['Alexandra FEIGIN', '154.43'], ['Anita OSTLUND', '152.91'], ['Yasmine Kimiko YAMADA', '152.62'], ['Dasa GRM', '150.90'], ['Ivett TOTH', '150.36'], ['Eliska BREZINOVA', '145.35'], ['Natasha McKAY', '142.14'], ['Olga MIKUTINA', '130.15'], ['Nelli IOFFE', '51.70'], ['Aleksandra GOLOVKINA', '50.88'], ['Anastasiya GALUSTYAN', '50.08'], ['Valentina MATOS', '49.02'], ['Ema DOBOSZOVA', '46.27'], ['Angelina KUCHVALSKA', '45.09'], ['Antonina DUBININA', '43.62'], ['Sinem KUYUCU', '43.16'], ['Jenni SAARINEN', '42.61'], ['Anastasia GOZHVA', '40.49'], ['Niki WORIES', '38.19'], ['Klara STEPANOVA', '37.83'], ['Hana CVIJANOVIC', '36.22']]"
      ],
      "id": "979399ff-2776-4e24-be02-6e06d8261a9d"
    },
    {
      "cell_type": "code",
      "execution_count": 80,
      "metadata": {
        "id": "31473ad7-a295-4f81-84dc-30b84df739c9"
      },
      "outputs": [],
      "source": [
        "list_2=[['Kaetlyn OSMOND', '223.23'], ['Wakaba HIGUCHI', '210.90'], ['Satoko MIYAHARA', '210.08'], ['Carolina KOSTNER', '208.88'], ['Alina ZAGITOVA', '207.72'], ['Bradie TENNELL', '199.89'], ['Gabrielle DALEMAN', '196.72'], ['Maria SOTSKOVA', '196.61'], ['Loena HENDRICKX', '192.31'], ['Mirai NAGASU', '187.52'], ['Elizabet TURSYNBAEVA', '186.85'], ['Mariah BELL', '174.40'], ['Nicole SCHOTT', '174.13'], ['Laurine LECAVELIER', '173.23'], ['Hanul KIM', '170.68'], ['Viveca LINDFORS', '166.23'], ['Kailani CRAINE', '154.41'], ['Eliska BREZINOVA', '153.14'], ['Stanislava KONSTANTINOVA', '153.03'], ['Alexia PAGANINI', '149.66'], ['Elisabetta LECCARDI', '149.17'], ['Dasa GRM', '144.51'], ['Ivett TOTH', '136.87']]"
      ],
      "id": "31473ad7-a295-4f81-84dc-30b84df739c9"
    },
    {
      "cell_type": "code",
      "execution_count": 81,
      "metadata": {
        "id": "35930127-eba4-41a2-97dd-9e2d59e3c37d"
      },
      "outputs": [],
      "source": [
        "list_3=[['Alina ZAGITOVA', '238.24'], ['Evgenia MEDVEDEVA', '232.86'], ['Carolina KOSTNER', '204.25'], ['Maria SOTSKOVA', '200.81'], ['Loena HENDRICKX', '176.91'], ['Nicole RAJICOVA', '171.90'], ['Alexia PAGANINI', '161.62'], ['Mae Berenice MEITE', '159.70'], ['Emmi PELTONEN', '159.48'], ['Nicole SCHOTT', '157.84'], ['Laurine LECAVELIER', '154.11'], ['Eliska BREZINOVA', '149.69'], ['Ivett TOTH', '148.98'], ['Viveca LINDFORS', '147.89'], ['Micol CRISTINI', '147.80'], ['Lea Johanna DASTICH', '146.82'], ['Anita ÖSTLUND', '145.14'], ['Anne Line GJERSEM', '142.68'], ['Giada RUSSO', '142.38'], ['Dasa GRM', '137.31'], ['Pernille SORENSEN', '133.94'], ['Elzbieta KROPA', '133.87'], ['Anna KHNYCHENKOVA', '132.70'], ['Silvia HUGEC', '123.45']]"
      ],
      "id": "35930127-eba4-41a2-97dd-9e2d59e3c37d"
    },
    {
      "cell_type": "code",
      "execution_count": 82,
      "metadata": {
        "id": "d9ddd3bd-bf01-4c40-a3d5-4e1bae0f9dc9"
      },
      "outputs": [],
      "source": [
        "list_4=[['Satoko MIYAHARA', '219.71'], ['Kaori SAKAMOTO', '213.90'], ['Sofia SAMODUROVA', '198.70'], ['Bradie TENNELL', '192.89'], ['Laurine LECAVELIER', '172.41'], ['Megan WESSENBERG', '170.33'], ['Polina TSURSKAYA', '159.45'], ['Marin HONDA', '158.04'], ['Alaine CHARTRAND', '155.49'], ['Starr ANDREWS', '150.56']]"
      ],
      "id": "d9ddd3bd-bf01-4c40-a3d5-4e1bae0f9dc9"
    },
    {
      "cell_type": "code",
      "execution_count": 83,
      "metadata": {
        "id": "fb06a422-93a3-43af-a194-0fb2e6853e54"
      },
      "outputs": [],
      "source": [
        "list_5=[['Elizaveta TUKTAMYSHEVA', '203.32'], ['Mako YAMASHITA', '203.06'], ['Evgenia MEDVEDEVA', '197.91'], ['Mariah BELL', '190.25'], ['Elizabet TURSYNBAEVA', '185.71'], ['Wakaba HIGUCHI', '181.29'], ['Starr ANDREWS', '174.72'], ['Alaine CHARTRAND', '172.17'], ['Daria PANENKOVA', '168.54'], ['Alicia PINEAULT', '158.29'], ['Yura MATSUDA', '157.59']]"
      ],
      "id": "fb06a422-93a3-43af-a194-0fb2e6853e54"
    },
    {
      "cell_type": "code",
      "execution_count": 84,
      "metadata": {
        "id": "9033c3d9-ac6b-490f-af6f-67a7fbfca8d2"
      },
      "outputs": [],
      "source": [
        "list_6=[['Alina ZAGITOVA', '215.29'], ['Stanislava KONSTANTINOVA', '197.57'], ['Kaori SAKAMOTO', '197.42'], ['Yuna SHIRAIWA', '191.46'], ['Loena HENDRICKX', '191.22'], ['Daria PANENKOVA', '161.48'], ['Hanul KIM', '160.15'], ['Viveca LINDFORS', '159.62'], ['Emmi PELTONEN', '158.72'], ['Rika HONGO', '156.59'], ['Angela WANG', '149.57']]"
      ],
      "id": "9033c3d9-ac6b-490f-af6f-67a7fbfca8d2"
    },
    {
      "cell_type": "code",
      "execution_count": 85,
      "metadata": {
        "id": "886655cc-9e9c-4857-a51b-ea619d84eaca"
      },
      "outputs": [],
      "source": [
        "list_7=[['Rika KIHIRA', '224.31'], ['Satoko MIYAHARA', '219.47'], ['Elizaveta TUKTAMYSHEVA', '219.02'], ['Mai MIHARA', '204.20'], ['Mariah BELL', '198.96'], ['Eunsoo LIM', '196.31'], ['Alena LEONOVA', '194.15'], ['Courtney HICKS', '178.07'], ['Maria SOTSKOVA', '176.99'], ['Mae Berenice MEITE', '162.58'], ['Angela WANG', '159.36'], ['Kailani CRAINE', '154.22']]"
      ],
      "id": "886655cc-9e9c-4857-a51b-ea619d84eaca"
    },
    {
      "cell_type": "code",
      "execution_count": 86,
      "metadata": {
        "id": "03848a47-cf8c-485e-8626-8f295765ddb8"
      },
      "outputs": [],
      "source": [
        "list_8=[['Alina ZAGITOVA', '222.95'], ['Sofia SAMODUROVA', '198.01'], ['Eunsoo LIM', '185.67'], ['Alexia PAGANINI', '182.50'], ['Yuna SHIRAIWA', '180.93'], ['Elizabet TURSYNBAEVA', '180.45'], ['Mako YAMASHITA', '161.22'], ['Polina TSURSKAYA', '149.45'], ['Yura MATSUDA', '137.99'], ['Gracie GOLD', '\\xa0']]"
      ],
      "id": "03848a47-cf8c-485e-8626-8f295765ddb8"
    },
    {
      "cell_type": "code",
      "execution_count": 87,
      "metadata": {
        "id": "ada4b724-8705-4523-b893-44ae3ad074eb"
      },
      "outputs": [],
      "source": [
        "list_9=[['Rika KIHIRA', '205.92'], ['Mai MIHARA', '202.81'], ['Bradie TENNELL', '197.78'], ['Evgenia MEDVEDEVA', '192.81'], ['Stanislava KONSTANTINOVA', '189.67'], ['Marin HONDA', '188.61'], ['Maria SOTSKOVA', '177.59'], ['Mae Berenice MEITE', '168.02'], ['Laurine LECAVELIER', '157.24'], ['Alexia PAGANINI', '156.51'], ['Lea SERNA', '149.49'], ['Matilda ALGOTSSON', '146.35']]"
      ],
      "id": "ada4b724-8705-4523-b893-44ae3ad074eb"
    },
    {
      "cell_type": "code",
      "execution_count": 88,
      "metadata": {
        "id": "e7e6a9fe-d75c-4dd3-847c-4b2b742b1c6f"
      },
      "outputs": [],
      "source": [
        "list_10=[['Rika KIHIRA', '233.12'], ['Alina ZAGITOVA', '226.53'], ['Elizaveta TUKTAMYSHEVA', '215.32'], ['Kaori SAKAMOTO', '211.68'], ['Sofia SAMODUROVA', '204.33'], ['Satoko MIYAHARA', '201.31']]"
      ],
      "id": "e7e6a9fe-d75c-4dd3-847c-4b2b742b1c6f"
    },
    {
      "cell_type": "code",
      "execution_count": 89,
      "metadata": {
        "id": "1b68fbbe-d606-4ddc-af61-8a4ff9884491"
      },
      "outputs": [],
      "source": [
        "list_11=[['Rika KIHIRA', '205.92'], ['Mai MIHARA', '202.81'], ['Bradie TENNELL', '197.78'], ['Evgenia MEDVEDEVA', '192.81'], ['Stanislava KONSTANTINOVA', '189.67'], ['Marin HONDA', '188.61'], ['Maria SOTSKOVA', '177.59'], ['Mae Berenice MEITE', '168.02'], ['Laurine LECAVELIER', '157.24'], ['Alexia PAGANINI', '156.51'], ['Lea SERNA', '149.49'], ['Matilda ALGOTSSON', '146.35']]"
      ],
      "id": "1b68fbbe-d606-4ddc-af61-8a4ff9884491"
    },
    {
      "cell_type": "code",
      "execution_count": 90,
      "metadata": {
        "id": "8cdf654b-9f0a-47ec-8f8e-d2ad7d382e6c"
      },
      "outputs": [],
      "source": [
        "list_12=[['Satoko MIYAHARA', '219.71'], ['Kaori SAKAMOTO', '213.90'], ['Sofia SAMODUROVA', '198.70'], ['Bradie TENNELL', '192.89'], ['Laurine LECAVELIER', '172.41'], ['Megan WESSENBERG', '170.33'], ['Polina TSURSKAYA', '159.45'], ['Marin HONDA', '158.04'], ['Alaine CHARTRAND', '155.49'], ['Starr ANDREWS', '150.56']]"
      ],
      "id": "8cdf654b-9f0a-47ec-8f8e-d2ad7d382e6c"
    },
    {
      "cell_type": "code",
      "execution_count": 91,
      "metadata": {
        "id": "39a73e5e-c621-4968-a520-75c5990f7f38"
      },
      "outputs": [],
      "source": [
        "list_13=[['Alexandra TRUSOVA', '241.02'], ['Rika KIHIRA', '230.33'], ['Young YOU', '217.49'], ['Bradie TENNELL', '211.31'], ['Evgenia MEDVEDEVA', '209.62'], ['Marin HONDA', '179.26'], ['Yelim KIM', '176.93'], ['Serafima SAKHANOVICH', '175.97'], ['Alexia PAGANINI', '166.20'], ['Gabrielle DALEMAN', '164.34'], ['Alicia PINEAULT', '161.37'], ['Veronik MALLET', '147.79']]\n"
      ],
      "id": "39a73e5e-c621-4968-a520-75c5990f7f38"
    },
    {
      "cell_type": "code",
      "execution_count": 92,
      "metadata": {
        "id": "be850e0d-e114-4a2e-9a34-c80eedb01a6f"
      },
      "outputs": [],
      "source": [
        "list_14=[['Alena KOSTORNAIA', '240.00'], ['Rika KIHIRA', '231.84'], ['Alina ZAGITOVA', '217.99'], ['Yuhana YOKOI', '189.54'], ['Mako YAMASHITA', '189.25'], ['Sofia SAMODUROVA', '183.27'], ['Eunsoo LIM', '172.47'], ['Starr ANDREWS', '166.72'], ['Karen CHEN', '165.70'], ['Kailani CRAINE', '165.46'], ['Mae Berenice MEITE', '159.98'], ['Megan WESSENBERG', '131.73']]\n"
      ],
      "id": "be850e0d-e114-4a2e-9a34-c80eedb01a6f"
    },
    {
      "cell_type": "code",
      "execution_count": 93,
      "metadata": {
        "id": "6bf81db3-d2e0-48df-8e9d-15b290e59990"
      },
      "outputs": [],
      "source": [
        "list_15=[['Alexandra TRUSOVA', '234.47'], ['Evgenia MEDVEDEVA', '225.76'], ['Mariah BELL', '205.67'], ['Satoko MIYAHARA', '192.42'], ['Ekaterina RYABOVA', '187.77'], ['Yuhana YOKOI', '182.68'], ['Alexia PAGANINI', '179.69'], ['Hongyi CHEN', '175.77'], ['Nicole SCHOTT', '172.08'], ['Yuna SHIRAIWA', '170.03'], ['Stanislava KONSTANTINOVA', '156.94'], ['Emmi PELTONEN', '152.50']]\n"
      ],
      "id": "6bf81db3-d2e0-48df-8e9d-15b290e59990"
    },
    {
      "cell_type": "code",
      "execution_count": 94,
      "metadata": {
        "id": "9fc1f35c-cb5d-47c3-bf95-20c9adb1b948"
      },
      "outputs": [],
      "source": [
        "list_16=[['Alena KOSTORNAIA', '236.00'], ['Alina ZAGITOVA', '216.06'], ['Mariah BELL', '212.89'], ['Kaori SAKAMOTO', '199.24'], ['Starr ANDREWS', '180.54'], ['Wakaba HIGUCHI', '174.12'], ['Nicole SCHOTT', '166.89'], ['Lea SERNA', '166.02'], ['Yuna SHIRAIWA', '161.71'], ['Mae Berenice MEITE', '157.45'], ['Maria SOTSKOVA', '144.89'], ['Laurine LECAVELIER', '']]\n"
      ],
      "id": "9fc1f35c-cb5d-47c3-bf95-20c9adb1b948"
    },
    {
      "cell_type": "code",
      "execution_count": 95,
      "metadata": {
        "id": "de8f6c9d-13e2-441e-b601-7c31d5a0ace3"
      },
      "outputs": [],
      "source": [
        "list_17=[['Alena KOSTORNAIA', '247.59'], ['Anna SHCHERBAKOVA', '240.92'], ['Alexandra TRUSOVA', '233.18'], ['Rika KIHIRA', '216.47'], ['Bradie TENNELL', '212.18'], ['Alina ZAGITOVA', '205.23']]\n"
      ],
      "id": "de8f6c9d-13e2-441e-b601-7c31d5a0ace3"
    },
    {
      "cell_type": "code",
      "execution_count": 96,
      "metadata": {
        "id": "aec258a4-0c92-4b3b-b851-475f4f6ebfe7"
      },
      "outputs": [],
      "source": [
        "list_18=[['Alina ZAGITOVA', '237.50'], ['Elizabet TURSYNBAEVA', '224.76'], ['Evgenia MEDVEDEVA', '223.80'], ['Rika KIHIRA', '223.49'], ['Kaori SAKAMOTO', '222.83'], ['Satoko MIYAHARA', '215.95'], ['Bradie TENNELL', '213.47'], ['Sofia SAMODUROVA', '208.58'], ['Mariah BELL', '208.07'], ['Eunsoo LIM', '205.57'], ['Gabrielle DALEMAN', '192.67'], ['Loena HENDRICKX', '186.29'], ['Ekaterina RYABOVA', '179.88'], ['Yi Christy LEUNG', '177.22'], ['Laurine LECAVELIER', '170.59'], ['Nicole SCHOTT', '170.56'], ['Alexandra FEIGIN', '165.31'], ['Dasa GRM', '161.16'], ['Hongyi CHEN', '157.59'], ['Eliska BREZINOVA', '153.45'], ['Natasha MCKAY', '151.56'], ['Eva Lotta KIIBUS', '149.99'], ['Alaine CHARTRAND', '148.97'], ['Isadora WILLIAMS', '143.22'], ['Ivett TOTH', '54.87'], ['Pernille SORENSEN', '54.36'], ['Marina PIREDDA', '53.27'], ['Emmi PELTONEN', '53.22'], ['Julia SAUTER', '53.11'], ['Anita OSTLUND', '53.07'], ['Roberta RODEGHIERO', '51.50'], ['Nicole RAJICOVA', '51.22'], ['Alexia PAGANINI', '50.51'], ['Valentina MATOS', '50.25'], ['Aurora COTOP', '48.83'], ['Kailani CRAINE', '48.82'], ['Sophia SCHALLER', '48.72'], ['Elzbieta KROPA', '47.95'], ['Anastasiya GALUSTYAN', '47.75'], ['Kyarha VAN TIEL', '41.85']]\n"
      ],
      "id": "aec258a4-0c92-4b3b-b851-475f4f6ebfe7"
    },
    {
      "cell_type": "code",
      "execution_count": 97,
      "metadata": {
        "id": "cf965d38-24c5-429d-9d80-992f9bf63ee6"
      },
      "outputs": [],
      "source": [
        "list_19=[['Rika KIHIRA', '221.99'], ['Elizabet TURSYNBAEVA', '207.46'], ['Mai MIHARA', '207.12'], ['Kaori SAKAMOTO', '206.79'], ['Bradie TENNELL', '202.07'], ['Mariah BELL', '193.94'], ['Eunsoo LIM', '191.85'], ['Yelim KIM', '187.93'], ['Veronik MALLET', '170.46'], ['Larkyn AUSTMAN', '165.21'], ['Ting CUI', '164.84'], ['Yi Christy LEUNG', '164.79'], ['Hanul KIM', '162.48'], ['Hongyi CHEN', '150.50'], ['Kailani CRAINE', '149.52'], ['Alaine CHARTRAND', '147.54'], ['Isadora WILLIAMS', '138.26'], ['Alisson Krystle PERTICHETO', '136.97'], ['Amy LIN', '134.56'], ['Andrea MONTESINOS CANTU', '124.51'], ['Joanna SO', '117.82'], ['Brooklee HAN', '\\xa0']]\n"
      ],
      "id": "cf965d38-24c5-429d-9d80-992f9bf63ee6"
    },
    {
      "cell_type": "code",
      "execution_count": 98,
      "metadata": {
        "id": "38fadd4f-eaa3-4046-9e51-38e1e4ad2938"
      },
      "outputs": [],
      "source": [
        "list_20=[['Sofia SAMODUROVA', '213.84'], ['Alina ZAGITOVA', '198.34'], ['Viveca LINDFORS', '194.40'], ['Stanislava KONSTANTINOVA', '189.72'], ['Laurine LECAVELIER', '180.05'], ['Alexia PAGANINI', '179.90'], ['Mae Berenice MEITE', '177.10'], ['Emmi PELTONEN', '170.03'], ['Nicole RAJICOVA', '169.03'], ['Eliska BREZINOVA', '166.77'], ['Alexandra FEIGIN', '164.20'], ['Ekaterina RYABOVA', '163.17'], ['Ivett TOTH', '160.83'], ['Julia SAUTER', '153.15'], ['Yasmine Kimiko YAMADA', '151.12'], ['Nicole SCHOTT', '149.26'], ['Dasa GRM', '147.29'], ['Anita ÖSTLUND', '144.66'], ['Lucrezia GENNARO', '143.10'], ['Natasha MCKAY', '140.08'], ['Nathalie WEINZIERL', '134.58'], ['Anastasiya GALUSTYAN', '132.63'], ['Pernille SORENSEN', '131.78'], ['Antonina DUBININA', '120.25'], ['Elzbieta GABRYSZAK', '45.77'], ['Sophia SCHALLER', '44.20'], ['Gerli LIINAMÄE', '44.08'], ['Kyarha VAN TIEL', '44.00'], ['Lara Naki GUTMANN', '43.96'], ['Silvia HUGEC', '43.33'], ['Valentina MATOS', '42.86'], ['Paulina RAMANAUSKAITE', '42.31'], ['Camilla GJERSEM', '39.81'], ['Hana CVIJANOVIC', '38.00'], ['Elizabete JUBKANE', '37.75'], ['Anastasia GOZHVA', '35.51']]\n",
        "\n",
        "\n",
        "list_21=[['Alena KOSTORNAIA', '240.81'], ['Anna SHCHERBAKOVA', '237.76'], ['Alexandra TRUSOVA', '225.34'], ['Alexia PAGANINI', '192.88'], ['Emmi PELTONEN', '181.79'], ['Ekaterina RYABOVA', '181.49'], ['Eva Lotta KIIBUS', '181.24'], ['Alessia TORNAGHI', '172.17'], ['Mae Berenice MEITE', '172.08'], ['Ekaterina KURAKOVA', '170.24'], ['Maia MAZZARA', '170.06'], ['Linnea CEDER', '166.16'], ['Nicole SCHOTT', '162.26'], ['Viktoriia SAFONOVA', '159.91'], ['Alina URUSHADZE', '154.81'], ['Lea SERNA', '154.73'], ['Alexandra FEIGIN', '154.43'], ['Anita OSTLUND', '152.91'], ['Yasmine Kimiko YAMADA', '152.62'], ['Dasa GRM', '150.90'], ['Ivett TOTH', '150.36'], ['Eliska BREZINOVA', '145.35'], ['Natasha McKAY', '142.14'], ['Olga MIKUTINA', '130.15'], ['Nelli IOFFE', '51.70'], ['Aleksandra GOLOVKINA', '50.88'], ['Anastasiya GALUSTYAN', '50.08'], ['Valentina MATOS', '49.02'], ['Ema DOBOSZOVA', '46.27'], ['Angelina KUCHVALSKA', '45.09'], ['Antonina DUBININA', '43.62'], ['Sinem KUYUCU', '43.16'], ['Jenni SAARINEN', '42.61'], ['Anastasia GOZHVA', '40.49'], ['Niki WORIES', '38.19'], ['Klara STEPANOVA', '37.83'], ['Hana CVIJANOVIC', '36.22']]\n",
        "\n",
        "\n",
        "list_22=[['Rika KIHIRA', '232.34'], ['Young YOU', '223.23'], ['Bradie TENNELL', '222.97'], ['Wakaba HIGUCHI', '207.46'], ['Kaori SAKAMOTO', '202.79'], ['Yelim KIM', '202.76'], ['Karen CHEN', '201.06'], ['Eunsoo LIM', '200.59'], ['Amber GLENN', '190.83'], ['Alicia PINEAULT', '173.55'], ['Hongyi CHEN', '167.26'], ['Kailani CRAINE', '161.15'], ['Yi ZHU', '155.41'], ['Alison SCHUMACHER', '150.73'], ['Emily BAUSBACK', '147.23'], ['Andrea MONTESINOS CANTU', '135.24'], ['Jenny SHYU', '134.80'], ['Alisson Krystle PERTICHETO', '129.99'], ['Cheuk Ka Kahlen CHEUNG', '121.29'], ['Amy LIN', '116.97'], ['Aiza MAMBEKOVA', '107.68']]\n",
        "\n",
        "\n",
        "list_23=[['Anna SHCHERBAKOVA', '229.69'], ['Alena KOSTORNAIA', '221.85'], ['Wakaba HIGUCHI', '204.91'], ['Kseniia SINITSYNA', '198.76'], ['Karen CHEN', '194.00'], ['Mariah BELL', '190.79'], ['Ekaterina RYABOVA', '186.65'], ['Yeonjeong PARK', '186.11'], ['Yuhana YOKOI', '176.93'], ['Haein LEE', '171.32'], ['Lea SERNA', '170.33'], ['Starr ANDREWS', '']]\n",
        "\n",
        "\n",
        "list_24=[['Kaori SAKAMOTO', '229.51'], ['Wakaba HIGUCHI', '200.98'], ['Rino MATSUIKE', '198.97'], ['Mai MIHARA', '194.73'], ['Mako YAMASHITA', '186.13'], ['Mana KAWABE', '185.70'], ['Young YOU', '181.73'], ['Yuhana YOKOI', '176.49'], ['Marin HONDA', '162.57'], ['Tomoe KAWABATA', '162.24'], ['Nana ARAKI', '162.15'], ['Chisato URAMATSU', '162.14']]\n",
        "\n",
        "\n",
        "list_25=[['Mariah BELL', '212.73'], ['Bradie TENNELL', '211.07'], ['Audrey SHIN', '206.15'], ['Karen CHEN', '204.90'], ['Amber GLENN', '190.09'], ['Shan LIN', '182.11'], ['Paige RYDBERG', '178.13'], ['Starr ANDREWS', '171.70'], ['Sierra VENETTA', '170.72'], ['Pooja KALYAN', '158.95'], ['Finley HAWK', '154.25'], ['Gracie GOLD', '127.82']]\n",
        "\n",
        "\n",
        "list_27=[['Elizaveta TUKTAMYSHEVA', '223.39'], ['Alena KOSTORNAIA', '220.78'], ['Anastasiia GULIAKOVA', '199.03'], ['Alexandra TRUSOVA', '198.93'], ['Elizaveta NUGUMANOVA', '191.52'], ['Eva-Lotta KIIBUS', '186.00'], ['Sofia SAMODUROVA', '184.81'], ['Viktoriia SAFONOVA', '184.57'], ['Ekaterina RYABOVA', '167.85'], ['Alina URUSHADZE', '150.68'], ['Anastasiya GALUSTYAN', '52.06']]\n",
        "\n",
        "\n",
        "list_28=[['Hongyi CHEN', '186.53'], ['Angel LI', '148.33'], ['Minzhi JIN', '135.43'], ['Siyang ZHANG', '128.20'], ['Lu ZHENG', '86.48']]\n",
        "\n",
        "\n",
        "list_29=[['Anna SHCHERBAKOVA', '229.69'], ['Alena KOSTORNAIA', '221.85'], ['Wakaba HIGUCHI', '204.91'], ['Kseniia SINITSYNA', '198.76'], ['Karen CHEN', '194.00'], ['Mariah BELL', '190.79'], ['Ekaterina RYABOVA', '186.65'], ['Yeonjeong PARK', '186.11'], ['Yuhana YOKOI', '176.93'], ['Haein LEE', '171.32'], ['Lea SERNA', '170.33'], ['Starr ANDREWS', '']]\n",
        "\n",
        "\n",
        "list_30=[['Anna SHCHERBAKOVA', '233.17'], ['Elizaveta TUKTAMYSHEVA', '220.46'], ['Alexandra TRUSOVA', '217.20'], ['Karen CHEN', '208.63'], ['Loena HENDRICKX', '208.44'], ['Kaori SAKAMOTO', '207.80'], ['Rika KIHIRA', '205.70'], ['Olga MIKUTINA', '198.77'], ['Bradie TENNELL', '197.81'], ['Haein LEE', '193.44'], ['Yelim KIM', '191.78'], ['Ekaterina RYABOVA', '189.46'], ['Madeline SCHIZAS', '185.78'], ['Eva-Lotta KIIBUS', '181.47'], ['Josefin TALJEGARD', '178.10'], ['Lindsay van ZUNDERT', '174.50'], ['Alexandra FEIGIN', '173.52'], ['Nicole SCHOTT', '172.80'], ['Satoko MIYAHARA', '172.30'], ['Alina URUSHADZE', '169.01'], ['Hongyi CHEN', '162.79'], ['Eliska BREZINOVA', '155.14'], ['Natasha McKAY', '153.46'], ['Jenni SAARINEN', '146.54'], ['Alexia PAGANINI', '57.23'], ['Kailani CRAINE', '56.86'], ['Emily BAUSBACK', '55.74'], ['Lara Naki GUTMANN', '55.64'], ['Emmy MA', '55.63'], ['Julia LANG', '54.20'], ['Nelli IOFFE', '52.43'], ['Ekaterina KURAKOVA', '52.28'], ['Angelina KUCHVALSKA', '47.94'], ['Dasa GRM', '47.76'], ['Anastasiia ARKHIPOVA', '45.07'], ['Emilea ZINGAS', '43.20'], ['Elzbieta KROPA', '41.31'], ['Mae Berenice MEITE', ''], ['Yi Christy LEUNG', '']]\n",
        "\n",
        "\n",
        "list_31=[['Kaori SAKAMOTO', '223.34'], ['Mana KAWABE', '205.44'], ['Young YOU', '203.60'], ['Alysa LIU', '202.90'], ['Eunsoo LIM', '186.68'], ['Rino MATSUIKE', '186.17'], ['Amber GLENN', '175.83'], ['Nicole SCHOTT', '172.37'], ['Seoyeong WI', '170.54'], ['Daria USACHEVA', '']]\n",
        "\n",
        "\n",
        "list_32=[['Alexandra TRUSOVA', '232.37'], ['Daria USACHEVA', '217.31'], ['Young YOU', '216.97'], ['Kaori SAKAMOTO', '215.93'], ['Kseniia SINITSYNA', '205.76'], ['Amber GLENN', '201.02'], ['Satoko MIYAHARA', '200.51'], ['Yelim KIM', '199.34'], ['Ekaterina KURAKOVA', '188.60'], ['Starr ANDREWS', '177.63'], ['Yuhana YOKOI', '174.07'], ['Audrey SHIN', '160.78']]\n",
        "\n",
        "\n",
        "list_33=[['Kamila VALIEVA', '265.08'], ['Elizaveta TUKTAMYSHEVA', '232.88'], ['Alena KOSTORNAIA', '214.54'], ['Mai MIHARA', '210.01'], ['Alysa LIU', '206.53'], ['Wakaba HIGUCHI', '205.27'], ['Haein LEE', '190.00'], ['Madeline SCHIZAS', '186.56'], ['Mana KAWABE', '186.52'], ['Karen CHEN', '183.41'], ['Emily BAUSBACK', '159.88'], ['Alison SCHUMACHER', '151.19']]\n",
        "\n",
        "\n",
        "list_34=[['Anna SHCHERBAKOVA', '229.69'], ['Alena KOSTORNAIA', '221.85'], ['Wakaba HIGUCHI', '204.91'], ['Kseniia SINITSYNA', '198.76'], ['Karen CHEN', '194.00'], ['Mariah BELL', '190.79'], ['Ekaterina RYABOVA', '186.65'], ['Yeonjeong PARK', '186.11'], ['Yuhana YOKOI', '176.93'], ['Haein LEE', '171.32'], ['Lea SERNA', '170.33'], ['Starr ANDREWS', '']]\n",
        "\n",
        "\n",
        "list_35=[['Kamila VALIEVA', '272.71'], ['Elizaveta TUKTAMYSHEVA', '229.23'], ['Maiia KHROMYKH', '219.69'], ['Mariah BELL', '210.35'], ['Loena HENDRICKX', '203.69'], ['Madeline SCHIZAS', '192.14'], ['Viktoriia SAFONOVA', '185.64'], ['Rino MATSUIKE', '184.36'], ['Ekaterina KURAKOVA', '175.64'], ['Ekaterina RYABOVA', '175.24'], ['Eva-Lotta KIIBUS', '163.11'], ['Olga MIKUTINA', '161.09']]\n",
        "\n",
        "\n",
        "list_36=[['Anna SHCHERBAKOVA', '236.78'], ['Maiia KHROMYKH', '226.35'], ['Loena HENDRICKX', '219.05'], ['Mai MIHARA', '214.95'], ['Satoko MIYAHARA', '209.57'], ['Yelim KIM', '193.50'], ['Sofia SAMODUROVA', '180.59'], ['Eunsoo LIM', '179.58'], ['Yi ZHU', '171.25'], ['Nicole SCHOTT', '167.20'], ['Lara Naki GUTMANN', '158.57'], ['Lucrezia BECCARI', '148.29']]\n"
      ],
      "id": "38fadd4f-eaa3-4046-9e51-38e1e4ad2938"
    },
    {
      "cell_type": "code",
      "execution_count": 99,
      "metadata": {
        "id": "2491939b-9c9b-436f-8efd-c61d2b280ee4"
      },
      "outputs": [],
      "source": [
        "list_1 = add_data(list_1, '2020', 'EC')\n",
        "list_2 = add_data(list_2, '2018', 'WC')\n",
        "list_3 = add_data(list_3, '2018', 'EC')\n",
        "list_4 = add_data(list_4, '2018', 'SA')\n",
        "list_5 = add_data(list_5, '2018', 'SC')\n",
        "list_6 = add_data(list_6, '2018', 'HC')\n",
        "list_7 = add_data(list_7, '2018', 'NHK')\n",
        "list_8 = add_data(list_8, '2018', 'RC')\n",
        "list_9 = add_data(list_9, '2018', 'F')\n",
        "list_10 = add_data(list_10, '2018', 'GP')\n",
        "list_11 = add_data(list_11, '2019', 'F')\n",
        "list_12 = add_data(list_12, '2019', 'SA')\n",
        "list_13 = add_data(list_13,\"2019\",\"SC\")\n",
        "list_14 = add_data(list_14,\"2019\",\"NHK\")\n",
        "list_15 = add_data(list_15,\"2019\",\"RC\")\n",
        "list_16 = add_data(list_16,\"2019\",\"F\")\n",
        "list_17 = add_data(list_17,\"2019\",\"GP\")\n",
        "list_18 = add_data(list_18,\"2019\",\"WC\")\n",
        "list_19 = add_data(list_19,\"2019\",\"4C\")\n",
        "list_20 = add_data(list_20,\"2019\",\"EC\")\n",
        "list_21 = add_data(list_21,\"2020\",\"EC\")\n",
        "list_22 = add_data(list_22,\"2020\",\"4C\")\n",
        "list_23 = add_data(list_23,\"2021\",\"F\")\n",
        "list_24 = add_data(list_24,\"2020\",\"NHK\")\n",
        "list_25 = add_data(list_25, \"2020\", \"SA\")\n",
        "list_27 = add_data(list_27, \"2020\", \"RC\")\n",
        "list_28 = add_data(list_28, \"2020\", \"CC\")\n",
        "list_29 = add_data(list_29, \"2020\", \"F\")\n",
        "list_30 = add_data(list_30, \"2021\", \"WC\")\n",
        "list_31 = add_data(list_31, \"2021\", \"NHK\")\n",
        "list_32 = add_data(list_32, \"2021\", \"SA\")\n",
        "list_33 = add_data(list_33, \"2021\", \"SC\")\n",
        "list_34 = add_data(list_34, \"2021\", \"F\")\n",
        "list_35 = add_data(list_35, \"2021\", \"SC\")\n",
        "list_36 = add_data(list_36, \"2021\", \"I\")"
      ],
      "id": "2491939b-9c9b-436f-8efd-c61d2b280ee4"
    },
    {
      "cell_type": "code",
      "execution_count": 100,
      "metadata": {
        "id": "3a839a34-dcc4-4fc9-8795-d5f32fe79eec"
      },
      "outputs": [],
      "source": [
        "final_list= list_1+list_2+list_3+list_4+list_5+list_6+list_7+list_8+list_9+list_10+list_11+list_12+list_13+list_14+list_15+list_16+list_17+list_18+list_19+list_20+list_21+list_22+list_23+list_24+list_25+list_27+list_28+list_29+list_30+list_31+list_32+list_33+list_34+list_35+list_36\n"
      ],
      "id": "3a839a34-dcc4-4fc9-8795-d5f32fe79eec"
    },
    {
      "cell_type": "code",
      "execution_count": 101,
      "metadata": {
        "id": "7f2f255b-86de-4794-b8de-93dcb8a7d440"
      },
      "outputs": [],
      "source": [
        "with open('ice_skating.csv','w') as f:\n",
        "    for row in final_list:\n",
        "        for x in row:\n",
        "          if x == row[-1]:\n",
        "            f.write(str(x))\n",
        "          else:\n",
        "            f.write(str(x) + ',')\n",
        "        f.write('\\n')"
      ],
      "id": "7f2f255b-86de-4794-b8de-93dcb8a7d440"
    },
    {
      "cell_type": "code",
      "execution_count": 102,
      "metadata": {
        "id": "d2300d60-69e6-4c99-8e0d-625b8b62e1e2"
      },
      "outputs": [],
      "source": [
        "trimmed_list = []\n",
        "with open('ice_skating.csv', 'r') as file:\n",
        "    reader = csv.reader(file)\n",
        "    for row in reader:\n",
        "      if row[0].title() in skaters_list:\n",
        "        trimmed_list.append(row) "
      ],
      "id": "d2300d60-69e6-4c99-8e0d-625b8b62e1e2"
    },
    {
      "cell_type": "code",
      "execution_count": 103,
      "metadata": {
        "id": "2ffabccb-9998-4f22-9bf3-4ef2e9e794e3"
      },
      "outputs": [],
      "source": [
        "with open('trimmed_ice_skating.csv','w') as f:\n",
        "  csvwriter = csv.writer(f, delimiter=',')\n",
        "  csvwriter.writerow(['name','score','year','event'])\n",
        "  csvwriter.writerows(trimmed_list)\n",
        "  \n",
        "  for row in trimmed_list:\n",
        "      for x in row:\n",
        "        if x == row[-1]:\n",
        "          f.write(str(x))\n",
        "        else :\n",
        "          f.write(str(x) + ',')\n",
        "      f.write('\\n')      "
      ],
      "id": "2ffabccb-9998-4f22-9bf3-4ef2e9e794e3"
    },
    {
      "cell_type": "code",
      "execution_count": 132,
      "metadata": {
        "id": "5b482b8d-3cd5-4e84-aadc-0978180d2f00"
      },
      "outputs": [],
      "source": [
        "with open('trimmed_ice_skating.csv','r') as f:\n",
        "  data = f.read()"
      ],
      "id": "5b482b8d-3cd5-4e84-aadc-0978180d2f00"
    },
    {
      "cell_type": "code",
      "execution_count": 105,
      "metadata": {
        "id": "c71e004f-42b1-45f5-8ba4-ab1fdc853f53"
      },
      "outputs": [],
      "source": [
        "ice_skating_final = pd.read_csv('trimmed_ice_skating.csv')\n",
        "ice_skating_final[\"score\"] = pd.to_numeric(ice_skating_final[\"score\"], downcast=\"float\")"
      ],
      "id": "c71e004f-42b1-45f5-8ba4-ab1fdc853f53"
    },
    {
      "cell_type": "code",
      "execution_count": 106,
      "metadata": {
        "colab": {
          "base_uri": "https://localhost:8080/"
        },
        "id": "9e16b8db-d198-4c5c-9e88-3ce4fa84a458",
        "outputId": "5ff58371-0daf-4bc3-d9bc-bb4bf4f811dc"
      },
      "outputs": [
        {
          "output_type": "execute_result",
          "data": {
            "text/plain": [
              "([2018, 2019, 2020], [2021])"
            ]
          },
          "metadata": {},
          "execution_count": 106
        }
      ],
      "source": [
        "years_before_last = range(2018, 2021)\n",
        "# year_seed = np.random.RandomState(seed=42)\n",
        "train_years = [2018,2019,2020]\n",
        "test_years = [2021]\n",
        "train_years, test_years"
      ],
      "id": "9e16b8db-d198-4c5c-9e88-3ce4fa84a458"
    },
    {
      "cell_type": "code",
      "execution_count": 107,
      "metadata": {
        "id": "LSFVQcDa-eXt"
      },
      "outputs": [],
      "source": [
        "def train_test_split(scores, train_years, test_years):\n",
        "    ''' Take all scores (for either male and female) \n",
        "    and split them into 4 different tables: \n",
        "    1. Season scores for training years\n",
        "    2. World scores for training years\n",
        "    3. Season scores for testing years\n",
        "    4. World scores for testing years\n",
        "    '''\n",
        "    season_scores = scores.loc[scores['event']!='WC']\n",
        "    world_scores = scores.loc[scores['event']=='WC']\n",
        "    \n",
        "    season_train = season_scores.loc[season_scores['year'].isin(train_years)]\n",
        "    world_train = world_scores.loc[world_scores['year'].isin(train_years)]\n",
        "    season_test = season_scores.loc[season_scores['year'].isin(test_years)]\n",
        "    world_test = world_scores.loc[world_scores['year'].isin(test_years)]    \n",
        "    \n",
        "    return season_scores, world_scores, season_train, world_train, season_test, world_test"
      ],
      "id": "LSFVQcDa-eXt"
    },
    {
      "cell_type": "code",
      "source": [
        "def return_ranking(skater_scores, world_scores):\n",
        "    '''\n",
        "    Return predicted ranking and world rankings (as lists)\n",
        "    from Series of corresponding scores.\n",
        "    The reason why both rankings are returned at once is because\n",
        "    not all skaters in the season will participate in the world championship,\n",
        "    and vice versa. Therefore, only skaters who participated in both\n",
        "    will be of interest.    \n",
        "    '''\n",
        "    skater_scores= skater_scores.sort_values('score',ascending= False)\n",
        "    world_scores = world_scores.sort_values('score',ascending= False)\n",
        "    skater_ranking = list(skater_scores.index.intersection(world_scores.index))\n",
        "    world_ranking = list(world_scores.index.intersection(skater_scores.index))\n",
        "    return skater_ranking, world_ranking"
      ],
      "metadata": {
        "id": "pTCU4ABeGcr-"
      },
      "id": "pTCU4ABeGcr-",
      "execution_count": 136,
      "outputs": []
    },
    {
      "cell_type": "code",
      "source": [
        "def calculate_kendall_tau(skater_ranking, world_ranking, verbose=True):\n",
        "    '''\n",
        "    Caluculate kendall's tau from two ranking lists of the same size\n",
        "    '''\n",
        "    # Generate set of ordered pairs from each ranking\n",
        "    skater_pairs = set(combinations(skater_ranking, 2))\n",
        "    print(skater_pairs)\n",
        "    world_pairs = set(combinations(world_ranking, 2))\n",
        "    print(world_pairs)\n",
        "    # Calculate number of total, concordant & discordant pairs and tau\n",
        "    n_pairs = len(skater_pairs)\n",
        "    n_concordant_pairs = len(skater_pairs & world_pairs)\n",
        "    \n",
        "    if verbose:\n",
        "        print(f'There are {n_concordant_pairs} concordant_pairs out of {n_pairs} pairs')\n",
        "        \n",
        "    # Calculate Kendall's tau from pair counts\n",
        "    tau = (2 * n_concordant_pairs - n_pairs) / n_pairs\n",
        "    return tau, n_concordant_pairs"
      ],
      "metadata": {
        "id": "BmHgJ5rjJLk3"
      },
      "id": "BmHgJ5rjJLk3",
      "execution_count": 109,
      "outputs": []
    },
    {
      "cell_type": "code",
      "execution_count": 110,
      "metadata": {
        "colab": {
          "base_uri": "https://localhost:8080/"
        },
        "id": "9wKokw2I9o0I",
        "outputId": "9ba525c1-2502-418e-f282-5df282a6a9f4"
      },
      "outputs": [
        {
          "output_type": "execute_result",
          "data": {
            "text/plain": [
              "((142, 4), (28, 4), (68, 4), (32, 4))"
            ]
          },
          "metadata": {},
          "execution_count": 110
        }
      ],
      "source": [
        "# Create train and test score tables for male skaters\n",
        "season_scores, world_scores, season_train, world_train, season_test, world_test = train_test_split(ice_skating_final,train_years, test_years)\n",
        "season_train.shape, world_train.shape, season_test.shape, world_test.shape\n"
      ],
      "id": "9wKokw2I9o0I"
    },
    {
      "cell_type": "code",
      "execution_count": 112,
      "metadata": {
        "id": "7USpJIRK-919"
      },
      "outputs": [],
      "source": [
        "# Select relevant rows from male season scores in 2017 for toy example\n",
        "sample_season_scores = season_scores.loc[[210,211,212,213,214,215,216]]\n",
        "sample_season_scores.to_csv('sample_season_scores.csv') # Save for Google sheets"
      ],
      "id": "7USpJIRK-919"
    },
    {
      "cell_type": "code",
      "execution_count": 113,
      "metadata": {
        "id": "_WPtTn5TAHeE"
      },
      "outputs": [],
      "source": [
        "season_pivot = pd.pivot_table(sample_season_scores[['name', 'event', 'score']], values='score', index='name', columns='event')\n",
        "season_pivot.to_csv('season_pivot.csv') # Save for Google sheets"
      ],
      "id": "_WPtTn5TAHeE"
    },
    {
      "cell_type": "code",
      "source": [
        "skater_names = list(season_pivot.index) \n",
        "event_names = list(season_pivot.columns) \n",
        "\n",
        "# Convert pivot table to numpy array\n",
        "true_scores = season_pivot.values \n"
      ],
      "metadata": {
        "id": "N8FufijPFYVw"
      },
      "id": "N8FufijPFYVw",
      "execution_count": 114,
      "outputs": []
    },
    {
      "cell_type": "code",
      "source": [
        "random_state = np.random.RandomState(seed=42)\n",
        "baseline = random_state.random_sample()\n",
        "skater_scores = random_state.random_sample((len(skater_names), 1))\n",
        "event_scores = random_state.random_sample((1, len(event_names)))\n",
        "\n",
        "pd.Series(skater_scores.ravel(), index=skater_names).to_csv('skater_scores.csv') # Save for Google sheets\n",
        "pd.Series(event_scores.ravel(), index=event_names).to_csv('event_scores.csv') # Save for Google sheets"
      ],
      "metadata": {
        "id": "Tesd-ukwFfzk"
      },
      "id": "Tesd-ukwFfzk",
      "execution_count": 115,
      "outputs": []
    },
    {
      "cell_type": "code",
      "source": [
        "alpha = 0.0005\n",
        "\n",
        "for i in range(1000):\n",
        "    # 2a. Calculate gradients\n",
        "    predicted_scores = skater_scores @ event_scores + baseline\n",
        "    residuals = predicted_scores - true_scores\n",
        "    \n",
        "    baseline_gradient = np.nansum(residuals)\n",
        "    event_gradients = np.nansum(residuals * skater_scores, axis=0, keepdims=True)\n",
        "    skater_gradients = np.nansum(residuals * event_scores, axis=1, keepdims=True)\n",
        "    \n",
        "    ### 2b. Update latent scores using gradients\n",
        "    baseline = baseline - alpha * baseline_gradient\n",
        "    event_scores = event_scores - alpha * event_gradients\n",
        "    skater_scores = skater_scores - alpha * skater_gradients\n",
        "    \n",
        "    # Print RMSE for last two iterations\n",
        "    if i in [998, 999]:\n",
        "        print(i, np.sqrt(np.nanmean(residuals**2)))"
      ],
      "metadata": {
        "id": "WPcdP2YpFllN",
        "colab": {
          "base_uri": "https://localhost:8080/"
        },
        "outputId": "01eb40fb-c600-4c33-9633-4b7fed7dc99b"
      },
      "id": "WPcdP2YpFllN",
      "execution_count": 116,
      "outputs": [
        {
          "output_type": "stream",
          "name": "stdout",
          "text": [
            "998 8.660796882794046e-14\n",
            "999 8.660796882794046e-14\n"
          ]
        }
      ]
    },
    {
      "cell_type": "code",
      "source": [
        "residuals"
      ],
      "metadata": {
        "id": "3ZOXPSghFout",
        "colab": {
          "base_uri": "https://localhost:8080/"
        },
        "outputId": "0e958c0b-997b-425d-ff7d-d6b1fb81ab94"
      },
      "id": "3ZOXPSghFout",
      "execution_count": 117,
      "outputs": [
        {
          "output_type": "execute_result",
          "data": {
            "text/plain": [
              "array([[            nan,             nan, -1.13686838e-13,\n",
              "                    nan],\n",
              "       [-8.52651283e-14,             nan,             nan,\n",
              "                    nan],\n",
              "       [            nan, -5.68434189e-14,             nan,\n",
              "                    nan],\n",
              "       [            nan,             nan,             nan,\n",
              "         8.52651283e-14],\n",
              "       [            nan,  8.52651283e-14,             nan,\n",
              "                    nan],\n",
              "       [            nan,             nan,             nan,\n",
              "        -8.52651283e-14],\n",
              "       [            nan,  8.52651283e-14,             nan,\n",
              "                    nan]])"
            ]
          },
          "metadata": {},
          "execution_count": 117
        }
      ]
    },
    {
      "cell_type": "code",
      "source": [
        "pd.DataFrame(residuals).to_csv('single_factor_residuals.csv')\n"
      ],
      "metadata": {
        "id": "SwtYM3DhFsUz"
      },
      "id": "SwtYM3DhFsUz",
      "execution_count": 118,
      "outputs": []
    },
    {
      "cell_type": "code",
      "source": [
        "pd.Series(skater_scores.ravel(), index=skater_names).sort_values(ascending=False)"
      ],
      "metadata": {
        "id": "4L3UpVkTFz-9",
        "colab": {
          "base_uri": "https://localhost:8080/"
        },
        "outputId": "06f67bb9-51f1-4f19-f3b7-e557b10eae6b"
      },
      "id": "4L3UpVkTFz-9",
      "execution_count": 119,
      "outputs": [
        {
          "output_type": "execute_result",
          "data": {
            "text/plain": [
              "Alexandra TRUSOVA    13.475735\n",
              "Ekaterina RYABOVA    13.001679\n",
              "Mariah BELL          11.856158\n",
              "Kaori SAKAMOTO       11.724967\n",
              "Karen CHEN           11.380220\n",
              "Wakaba HIGUCHI       10.145840\n",
              "Mana KAWABE           9.300097\n",
              "dtype: float64"
            ]
          },
          "metadata": {},
          "execution_count": 119
        }
      ]
    },
    {
      "cell_type": "code",
      "source": [
        "def batch_gd(season_scores, skater_order=None, init_seed=42,\n",
        "             alpha=0.0005, n_iter=1000,\n",
        "             log_iter=False, log_every=10, additional_iter=range(1, 10),\n",
        "             return_rmse=False):\n",
        "    '''\n",
        "    Run gradient descent on some season scores table (long format)\n",
        "    Return skater and event scores (along with final RMSE and other intermediate values if needed)'''\n",
        "    \n",
        "    # Convert long table to pivot table\n",
        "    season_pivot = pd.pivot_table(season_scores[['name', 'event', 'score']], values='score', index='name', columns='event')\n",
        "    \n",
        "    # Modify skater position in pivot table (for aesthetic value only)\n",
        "    if skater_order is not None:\n",
        "        season_pivot = season_pivot.loc[skater_order]\n",
        "        \n",
        "    # Store skater and event names to retrieve later\n",
        "    skater_names = list(season_pivot.index)\n",
        "    event_names = list(season_pivot.columns)\n",
        "    \n",
        "    # Convert pivot table to numpy array\n",
        "    true_scores = season_pivot.values\n",
        "\n",
        "    # Initialize baseline, event, and skater scores (random number between 0 and 1 given some seed)\n",
        "    random_state = np.random.RandomState(init_seed)\n",
        "    skater_scores = random_state.random_sample((len(skater_names), 1))\n",
        "    event_scores = random_state.random_sample((1, len(event_names)))\n",
        "    baseline = random_state.random_sample()\n",
        "    \n",
        "    # Different lists to contain intermediate values if logging is enabled\n",
        "    skater_scores_log = []\n",
        "    event_scores_log = []\n",
        "    baseline_log = []\n",
        "    rmse_log = []\n",
        "    residual_log = []\n",
        "    iter_log = []\n",
        "    \n",
        "    # Run gradient descent\n",
        "    for i in range(n_iter):\n",
        "        # Calculate predicted scores and residuals\n",
        "        predicted_scores = skater_scores @ event_scores + baseline\n",
        "        residuals = predicted_scores - true_scores\n",
        "        \n",
        "        # Log intermediate values at certain iterations if logging is enabled\n",
        "        if log_iter and (i%log_every==0 or (i in additional_iter)):            \n",
        "            iter_log.append(i)\n",
        "            skater_scores_log.append(pd.Series(skater_scores.ravel(), index=skater_names))\n",
        "            event_scores_log.append(pd.Series(event_scores.ravel(), index=event_names))\n",
        "            baseline_log.append(baseline)\n",
        "            residual_log.append(residuals)\n",
        "            rmse = np.sqrt(np.nanmean(residuals**2))\n",
        "            rmse_log.append(rmse)\n",
        "        \n",
        "        # Calculate parameter gradients\n",
        "        skater_gradients = np.nansum(residuals * event_scores, axis=1, keepdims=True)\n",
        "        event_gradients = np.nansum(residuals * skater_scores, axis=0, keepdims=True)\n",
        "        baseline_gradient = np.nansum(residuals)\n",
        "        \n",
        "        # Update parameters\n",
        "        event_scores = event_scores - alpha * event_gradients\n",
        "        skater_scores = skater_scores - alpha * skater_gradients\n",
        "        baseline = baseline - alpha * baseline_gradient\n",
        "        \n",
        "        # Print difference in RMSE for last two iterations\n",
        "        if i == (n_iter-1):\n",
        "            rmse_old = np.sqrt(np.nanmean(residuals**2))\n",
        "            residuals = skater_scores @ event_scores + baseline - true_scores\n",
        "            rmse_new = np.sqrt(np.nanmean(residuals**2))\n",
        "            print(f'Alpha: {alpha}, Iter: {n_iter}, Last RMSE: {round(rmse_new, 2)}, Delta RMSE: {round(rmse_new - rmse_old, 10)}')\n",
        "    \n",
        "    # Collect logs together in one list\n",
        "    log = [iter_log, true_scores, skater_names, event_names, skater_scores_log, event_scores_log, baseline_log, residual_log, rmse_log]\n",
        "    \n",
        "    # Put event and skater scores back into Series form with names added\n",
        "    skater_scores = pd.Series(skater_scores.ravel(), index=skater_names).sort_values(ascending=False)\n",
        "    event_scores = pd.Series(event_scores.ravel(), index=event_names).sort_values(ascending=False)\n",
        "    \n",
        "    if log_iter:\n",
        "        return baseline, event_scores, skater_scores, log\n",
        "    elif return_rmse:\n",
        "        return baseline, event_scores, skater_scores, rmse_new\n",
        "    else:\n",
        "        return baseline, event_scores, skater_scores"
      ],
      "metadata": {
        "id": "pdh1muAoF6t9"
      },
      "id": "pdh1muAoF6t9",
      "execution_count": 120,
      "outputs": []
    },
    {
      "cell_type": "code",
      "source": [
        "# Final results after 151 iterations\n",
        "final_baseline, final_event_scores, final_skater_scores = batch_gd(season_scores, alpha=0.0005, n_iter=151)\n",
        "\n",
        "# Store final skater order to be used in heatmap later\n",
        "example_skater_order = final_skater_scores.index[::-1]\n",
        "np.save('example_skater_order', example_skater_order)"
      ],
      "metadata": {
        "id": "XTVqQjC5GAdW",
        "colab": {
          "base_uri": "https://localhost:8080/"
        },
        "outputId": "cf664996-66c9-49b0-fead-21e0944a1da9"
      },
      "id": "XTVqQjC5GAdW",
      "execution_count": 121,
      "outputs": [
        {
          "output_type": "stream",
          "name": "stdout",
          "text": [
            "Alpha: 0.0005, Iter: 151, Last RMSE: 7.3, Delta RMSE: -9.285e-07\n"
          ]
        }
      ]
    },
    {
      "cell_type": "code",
      "source": [
        "world_scores = world_scores.set_index('name')"
      ],
      "metadata": {
        "id": "rYunki0PG7dq",
        "colab": {
          "base_uri": "https://localhost:8080/",
          "height": 1000
        },
        "outputId": "047f20af-c84f-44d8-9482-0eb987f7400b"
      },
      "id": "rYunki0PG7dq",
      "execution_count": 122,
      "outputs": [
        {
          "output_type": "execute_result",
          "data": {
            "text/html": [
              "\n",
              "  <div id=\"df-41bd2823-c2dd-43ab-9a77-873d73a091e7\">\n",
              "    <div class=\"colab-df-container\">\n",
              "      <div>\n",
              "<style scoped>\n",
              "    .dataframe tbody tr th:only-of-type {\n",
              "        vertical-align: middle;\n",
              "    }\n",
              "\n",
              "    .dataframe tbody tr th {\n",
              "        vertical-align: top;\n",
              "    }\n",
              "\n",
              "    .dataframe thead th {\n",
              "        text-align: right;\n",
              "    }\n",
              "</style>\n",
              "<table border=\"1\" class=\"dataframe\">\n",
              "  <thead>\n",
              "    <tr style=\"text-align: right;\">\n",
              "      <th></th>\n",
              "      <th>score</th>\n",
              "      <th>year</th>\n",
              "      <th>event</th>\n",
              "    </tr>\n",
              "    <tr>\n",
              "      <th>name</th>\n",
              "      <th></th>\n",
              "      <th></th>\n",
              "      <th></th>\n",
              "    </tr>\n",
              "  </thead>\n",
              "  <tbody>\n",
              "    <tr>\n",
              "      <th>Wakaba HIGUCHI</th>\n",
              "      <td>210.899994</td>\n",
              "      <td>2018</td>\n",
              "      <td>WC</td>\n",
              "    </tr>\n",
              "    <tr>\n",
              "      <th>Loena HENDRICKX</th>\n",
              "      <td>192.309998</td>\n",
              "      <td>2018</td>\n",
              "      <td>WC</td>\n",
              "    </tr>\n",
              "    <tr>\n",
              "      <th>Mariah BELL</th>\n",
              "      <td>174.399994</td>\n",
              "      <td>2018</td>\n",
              "      <td>WC</td>\n",
              "    </tr>\n",
              "    <tr>\n",
              "      <th>Nicole SCHOTT</th>\n",
              "      <td>174.130005</td>\n",
              "      <td>2018</td>\n",
              "      <td>WC</td>\n",
              "    </tr>\n",
              "    <tr>\n",
              "      <th>Kailani CRAINE</th>\n",
              "      <td>154.410004</td>\n",
              "      <td>2018</td>\n",
              "      <td>WC</td>\n",
              "    </tr>\n",
              "    <tr>\n",
              "      <th>Eliska BREZINOVA</th>\n",
              "      <td>153.139999</td>\n",
              "      <td>2018</td>\n",
              "      <td>WC</td>\n",
              "    </tr>\n",
              "    <tr>\n",
              "      <th>Kaori SAKAMOTO</th>\n",
              "      <td>222.830002</td>\n",
              "      <td>2019</td>\n",
              "      <td>WC</td>\n",
              "    </tr>\n",
              "    <tr>\n",
              "      <th>Mariah BELL</th>\n",
              "      <td>208.070007</td>\n",
              "      <td>2019</td>\n",
              "      <td>WC</td>\n",
              "    </tr>\n",
              "    <tr>\n",
              "      <th>Loena HENDRICKX</th>\n",
              "      <td>186.289993</td>\n",
              "      <td>2019</td>\n",
              "      <td>WC</td>\n",
              "    </tr>\n",
              "    <tr>\n",
              "      <th>Ekaterina RYABOVA</th>\n",
              "      <td>179.880005</td>\n",
              "      <td>2019</td>\n",
              "      <td>WC</td>\n",
              "    </tr>\n",
              "    <tr>\n",
              "      <th>Nicole SCHOTT</th>\n",
              "      <td>170.559998</td>\n",
              "      <td>2019</td>\n",
              "      <td>WC</td>\n",
              "    </tr>\n",
              "    <tr>\n",
              "      <th>Alexandra FEIGIN</th>\n",
              "      <td>165.309998</td>\n",
              "      <td>2019</td>\n",
              "      <td>WC</td>\n",
              "    </tr>\n",
              "    <tr>\n",
              "      <th>Eliska BREZINOVA</th>\n",
              "      <td>153.449997</td>\n",
              "      <td>2019</td>\n",
              "      <td>WC</td>\n",
              "    </tr>\n",
              "    <tr>\n",
              "      <th>Kailani CRAINE</th>\n",
              "      <td>48.820000</td>\n",
              "      <td>2019</td>\n",
              "      <td>WC</td>\n",
              "    </tr>\n",
              "    <tr>\n",
              "      <th>Anna SHCHERBAKOVA</th>\n",
              "      <td>233.169998</td>\n",
              "      <td>2021</td>\n",
              "      <td>WC</td>\n",
              "    </tr>\n",
              "    <tr>\n",
              "      <th>Alexandra TRUSOVA</th>\n",
              "      <td>217.199997</td>\n",
              "      <td>2021</td>\n",
              "      <td>WC</td>\n",
              "    </tr>\n",
              "    <tr>\n",
              "      <th>Karen CHEN</th>\n",
              "      <td>208.630005</td>\n",
              "      <td>2021</td>\n",
              "      <td>WC</td>\n",
              "    </tr>\n",
              "    <tr>\n",
              "      <th>Loena HENDRICKX</th>\n",
              "      <td>208.440002</td>\n",
              "      <td>2021</td>\n",
              "      <td>WC</td>\n",
              "    </tr>\n",
              "    <tr>\n",
              "      <th>Kaori SAKAMOTO</th>\n",
              "      <td>207.800003</td>\n",
              "      <td>2021</td>\n",
              "      <td>WC</td>\n",
              "    </tr>\n",
              "    <tr>\n",
              "      <th>Olga MIKUTINA</th>\n",
              "      <td>198.770004</td>\n",
              "      <td>2021</td>\n",
              "      <td>WC</td>\n",
              "    </tr>\n",
              "    <tr>\n",
              "      <th>Ekaterina RYABOVA</th>\n",
              "      <td>189.460007</td>\n",
              "      <td>2021</td>\n",
              "      <td>WC</td>\n",
              "    </tr>\n",
              "    <tr>\n",
              "      <th>Madeline SCHIZAS</th>\n",
              "      <td>185.779999</td>\n",
              "      <td>2021</td>\n",
              "      <td>WC</td>\n",
              "    </tr>\n",
              "    <tr>\n",
              "      <th>Eva-Lotta KIIBUS</th>\n",
              "      <td>181.470001</td>\n",
              "      <td>2021</td>\n",
              "      <td>WC</td>\n",
              "    </tr>\n",
              "    <tr>\n",
              "      <th>Josefin TALJEGARD</th>\n",
              "      <td>178.100006</td>\n",
              "      <td>2021</td>\n",
              "      <td>WC</td>\n",
              "    </tr>\n",
              "    <tr>\n",
              "      <th>Alexandra FEIGIN</th>\n",
              "      <td>173.520004</td>\n",
              "      <td>2021</td>\n",
              "      <td>WC</td>\n",
              "    </tr>\n",
              "    <tr>\n",
              "      <th>Nicole SCHOTT</th>\n",
              "      <td>172.800003</td>\n",
              "      <td>2021</td>\n",
              "      <td>WC</td>\n",
              "    </tr>\n",
              "    <tr>\n",
              "      <th>Eliska BREZINOVA</th>\n",
              "      <td>155.139999</td>\n",
              "      <td>2021</td>\n",
              "      <td>WC</td>\n",
              "    </tr>\n",
              "    <tr>\n",
              "      <th>Jenni SAARINEN</th>\n",
              "      <td>146.539993</td>\n",
              "      <td>2021</td>\n",
              "      <td>WC</td>\n",
              "    </tr>\n",
              "    <tr>\n",
              "      <th>Kailani CRAINE</th>\n",
              "      <td>56.860001</td>\n",
              "      <td>2021</td>\n",
              "      <td>WC</td>\n",
              "    </tr>\n",
              "    <tr>\n",
              "      <th>Ekaterina KURAKOVA</th>\n",
              "      <td>52.279999</td>\n",
              "      <td>2021</td>\n",
              "      <td>WC</td>\n",
              "    </tr>\n",
              "    <tr>\n",
              "      <th>Wakaba HIGUCHI</th>\n",
              "      <td>210.899994</td>\n",
              "      <td>2018</td>\n",
              "      <td>WC</td>\n",
              "    </tr>\n",
              "    <tr>\n",
              "      <th>Loena HENDRICKX</th>\n",
              "      <td>192.309998</td>\n",
              "      <td>2018</td>\n",
              "      <td>WC</td>\n",
              "    </tr>\n",
              "    <tr>\n",
              "      <th>Mariah BELL</th>\n",
              "      <td>174.399994</td>\n",
              "      <td>2018</td>\n",
              "      <td>WC</td>\n",
              "    </tr>\n",
              "    <tr>\n",
              "      <th>Nicole SCHOTT</th>\n",
              "      <td>174.130005</td>\n",
              "      <td>2018</td>\n",
              "      <td>WC</td>\n",
              "    </tr>\n",
              "    <tr>\n",
              "      <th>Kailani CRAINE</th>\n",
              "      <td>154.410004</td>\n",
              "      <td>2018</td>\n",
              "      <td>WC</td>\n",
              "    </tr>\n",
              "    <tr>\n",
              "      <th>Eliska BREZINOVA</th>\n",
              "      <td>153.139999</td>\n",
              "      <td>2018</td>\n",
              "      <td>WC</td>\n",
              "    </tr>\n",
              "    <tr>\n",
              "      <th>Kaori SAKAMOTO</th>\n",
              "      <td>222.830002</td>\n",
              "      <td>2019</td>\n",
              "      <td>WC</td>\n",
              "    </tr>\n",
              "    <tr>\n",
              "      <th>Mariah BELL</th>\n",
              "      <td>208.070007</td>\n",
              "      <td>2019</td>\n",
              "      <td>WC</td>\n",
              "    </tr>\n",
              "    <tr>\n",
              "      <th>Loena HENDRICKX</th>\n",
              "      <td>186.289993</td>\n",
              "      <td>2019</td>\n",
              "      <td>WC</td>\n",
              "    </tr>\n",
              "    <tr>\n",
              "      <th>Ekaterina RYABOVA</th>\n",
              "      <td>179.880005</td>\n",
              "      <td>2019</td>\n",
              "      <td>WC</td>\n",
              "    </tr>\n",
              "    <tr>\n",
              "      <th>Nicole SCHOTT</th>\n",
              "      <td>170.559998</td>\n",
              "      <td>2019</td>\n",
              "      <td>WC</td>\n",
              "    </tr>\n",
              "    <tr>\n",
              "      <th>Alexandra FEIGIN</th>\n",
              "      <td>165.309998</td>\n",
              "      <td>2019</td>\n",
              "      <td>WC</td>\n",
              "    </tr>\n",
              "    <tr>\n",
              "      <th>Eliska BREZINOVA</th>\n",
              "      <td>153.449997</td>\n",
              "      <td>2019</td>\n",
              "      <td>WC</td>\n",
              "    </tr>\n",
              "    <tr>\n",
              "      <th>Kailani CRAINE</th>\n",
              "      <td>48.820000</td>\n",
              "      <td>2019</td>\n",
              "      <td>WC</td>\n",
              "    </tr>\n",
              "    <tr>\n",
              "      <th>Anna SHCHERBAKOVA</th>\n",
              "      <td>233.169998</td>\n",
              "      <td>2021</td>\n",
              "      <td>WC</td>\n",
              "    </tr>\n",
              "    <tr>\n",
              "      <th>Alexandra TRUSOVA</th>\n",
              "      <td>217.199997</td>\n",
              "      <td>2021</td>\n",
              "      <td>WC</td>\n",
              "    </tr>\n",
              "    <tr>\n",
              "      <th>Karen CHEN</th>\n",
              "      <td>208.630005</td>\n",
              "      <td>2021</td>\n",
              "      <td>WC</td>\n",
              "    </tr>\n",
              "    <tr>\n",
              "      <th>Loena HENDRICKX</th>\n",
              "      <td>208.440002</td>\n",
              "      <td>2021</td>\n",
              "      <td>WC</td>\n",
              "    </tr>\n",
              "    <tr>\n",
              "      <th>Kaori SAKAMOTO</th>\n",
              "      <td>207.800003</td>\n",
              "      <td>2021</td>\n",
              "      <td>WC</td>\n",
              "    </tr>\n",
              "    <tr>\n",
              "      <th>Olga MIKUTINA</th>\n",
              "      <td>198.770004</td>\n",
              "      <td>2021</td>\n",
              "      <td>WC</td>\n",
              "    </tr>\n",
              "    <tr>\n",
              "      <th>Ekaterina RYABOVA</th>\n",
              "      <td>189.460007</td>\n",
              "      <td>2021</td>\n",
              "      <td>WC</td>\n",
              "    </tr>\n",
              "    <tr>\n",
              "      <th>Madeline SCHIZAS</th>\n",
              "      <td>185.779999</td>\n",
              "      <td>2021</td>\n",
              "      <td>WC</td>\n",
              "    </tr>\n",
              "    <tr>\n",
              "      <th>Eva-Lotta KIIBUS</th>\n",
              "      <td>181.470001</td>\n",
              "      <td>2021</td>\n",
              "      <td>WC</td>\n",
              "    </tr>\n",
              "    <tr>\n",
              "      <th>Josefin TALJEGARD</th>\n",
              "      <td>178.100006</td>\n",
              "      <td>2021</td>\n",
              "      <td>WC</td>\n",
              "    </tr>\n",
              "    <tr>\n",
              "      <th>Alexandra FEIGIN</th>\n",
              "      <td>173.520004</td>\n",
              "      <td>2021</td>\n",
              "      <td>WC</td>\n",
              "    </tr>\n",
              "    <tr>\n",
              "      <th>Nicole SCHOTT</th>\n",
              "      <td>172.800003</td>\n",
              "      <td>2021</td>\n",
              "      <td>WC</td>\n",
              "    </tr>\n",
              "    <tr>\n",
              "      <th>Eliska BREZINOVA</th>\n",
              "      <td>155.139999</td>\n",
              "      <td>2021</td>\n",
              "      <td>WC</td>\n",
              "    </tr>\n",
              "    <tr>\n",
              "      <th>Jenni SAARINEN</th>\n",
              "      <td>146.539993</td>\n",
              "      <td>2021</td>\n",
              "      <td>WC</td>\n",
              "    </tr>\n",
              "    <tr>\n",
              "      <th>Kailani CRAINE</th>\n",
              "      <td>56.860001</td>\n",
              "      <td>2021</td>\n",
              "      <td>WC</td>\n",
              "    </tr>\n",
              "    <tr>\n",
              "      <th>Ekaterina KURAKOVA</th>\n",
              "      <td>52.279999</td>\n",
              "      <td>2021</td>\n",
              "      <td>WC</td>\n",
              "    </tr>\n",
              "  </tbody>\n",
              "</table>\n",
              "</div>\n",
              "      <button class=\"colab-df-convert\" onclick=\"convertToInteractive('df-41bd2823-c2dd-43ab-9a77-873d73a091e7')\"\n",
              "              title=\"Convert this dataframe to an interactive table.\"\n",
              "              style=\"display:none;\">\n",
              "        \n",
              "  <svg xmlns=\"http://www.w3.org/2000/svg\" height=\"24px\"viewBox=\"0 0 24 24\"\n",
              "       width=\"24px\">\n",
              "    <path d=\"M0 0h24v24H0V0z\" fill=\"none\"/>\n",
              "    <path d=\"M18.56 5.44l.94 2.06.94-2.06 2.06-.94-2.06-.94-.94-2.06-.94 2.06-2.06.94zm-11 1L8.5 8.5l.94-2.06 2.06-.94-2.06-.94L8.5 2.5l-.94 2.06-2.06.94zm10 10l.94 2.06.94-2.06 2.06-.94-2.06-.94-.94-2.06-.94 2.06-2.06.94z\"/><path d=\"M17.41 7.96l-1.37-1.37c-.4-.4-.92-.59-1.43-.59-.52 0-1.04.2-1.43.59L10.3 9.45l-7.72 7.72c-.78.78-.78 2.05 0 2.83L4 21.41c.39.39.9.59 1.41.59.51 0 1.02-.2 1.41-.59l7.78-7.78 2.81-2.81c.8-.78.8-2.07 0-2.86zM5.41 20L4 18.59l7.72-7.72 1.47 1.35L5.41 20z\"/>\n",
              "  </svg>\n",
              "      </button>\n",
              "      \n",
              "  <style>\n",
              "    .colab-df-container {\n",
              "      display:flex;\n",
              "      flex-wrap:wrap;\n",
              "      gap: 12px;\n",
              "    }\n",
              "\n",
              "    .colab-df-convert {\n",
              "      background-color: #E8F0FE;\n",
              "      border: none;\n",
              "      border-radius: 50%;\n",
              "      cursor: pointer;\n",
              "      display: none;\n",
              "      fill: #1967D2;\n",
              "      height: 32px;\n",
              "      padding: 0 0 0 0;\n",
              "      width: 32px;\n",
              "    }\n",
              "\n",
              "    .colab-df-convert:hover {\n",
              "      background-color: #E2EBFA;\n",
              "      box-shadow: 0px 1px 2px rgba(60, 64, 67, 0.3), 0px 1px 3px 1px rgba(60, 64, 67, 0.15);\n",
              "      fill: #174EA6;\n",
              "    }\n",
              "\n",
              "    [theme=dark] .colab-df-convert {\n",
              "      background-color: #3B4455;\n",
              "      fill: #D2E3FC;\n",
              "    }\n",
              "\n",
              "    [theme=dark] .colab-df-convert:hover {\n",
              "      background-color: #434B5C;\n",
              "      box-shadow: 0px 1px 3px 1px rgba(0, 0, 0, 0.15);\n",
              "      filter: drop-shadow(0px 1px 2px rgba(0, 0, 0, 0.3));\n",
              "      fill: #FFFFFF;\n",
              "    }\n",
              "  </style>\n",
              "\n",
              "      <script>\n",
              "        const buttonEl =\n",
              "          document.querySelector('#df-41bd2823-c2dd-43ab-9a77-873d73a091e7 button.colab-df-convert');\n",
              "        buttonEl.style.display =\n",
              "          google.colab.kernel.accessAllowed ? 'block' : 'none';\n",
              "\n",
              "        async function convertToInteractive(key) {\n",
              "          const element = document.querySelector('#df-41bd2823-c2dd-43ab-9a77-873d73a091e7');\n",
              "          const dataTable =\n",
              "            await google.colab.kernel.invokeFunction('convertToInteractive',\n",
              "                                                     [key], {});\n",
              "          if (!dataTable) return;\n",
              "\n",
              "          const docLinkHtml = 'Like what you see? Visit the ' +\n",
              "            '<a target=\"_blank\" href=https://colab.research.google.com/notebooks/data_table.ipynb>data table notebook</a>'\n",
              "            + ' to learn more about interactive tables.';\n",
              "          element.innerHTML = '';\n",
              "          dataTable['output_type'] = 'display_data';\n",
              "          await google.colab.output.renderOutput(dataTable, element);\n",
              "          const docLink = document.createElement('div');\n",
              "          docLink.innerHTML = docLinkHtml;\n",
              "          element.appendChild(docLink);\n",
              "        }\n",
              "      </script>\n",
              "    </div>\n",
              "  </div>\n",
              "  "
            ],
            "text/plain": [
              "                         score  year event\n",
              "name                                      \n",
              "Wakaba HIGUCHI      210.899994  2018    WC\n",
              "Loena HENDRICKX     192.309998  2018    WC\n",
              "Mariah BELL         174.399994  2018    WC\n",
              "Nicole SCHOTT       174.130005  2018    WC\n",
              "Kailani CRAINE      154.410004  2018    WC\n",
              "Eliska BREZINOVA    153.139999  2018    WC\n",
              "Kaori SAKAMOTO      222.830002  2019    WC\n",
              "Mariah BELL         208.070007  2019    WC\n",
              "Loena HENDRICKX     186.289993  2019    WC\n",
              "Ekaterina RYABOVA   179.880005  2019    WC\n",
              "Nicole SCHOTT       170.559998  2019    WC\n",
              "Alexandra FEIGIN    165.309998  2019    WC\n",
              "Eliska BREZINOVA    153.449997  2019    WC\n",
              "Kailani CRAINE       48.820000  2019    WC\n",
              "Anna SHCHERBAKOVA   233.169998  2021    WC\n",
              "Alexandra TRUSOVA   217.199997  2021    WC\n",
              "Karen CHEN          208.630005  2021    WC\n",
              "Loena HENDRICKX     208.440002  2021    WC\n",
              "Kaori SAKAMOTO      207.800003  2021    WC\n",
              "Olga MIKUTINA       198.770004  2021    WC\n",
              "Ekaterina RYABOVA   189.460007  2021    WC\n",
              "Madeline SCHIZAS    185.779999  2021    WC\n",
              "Eva-Lotta KIIBUS    181.470001  2021    WC\n",
              "Josefin TALJEGARD   178.100006  2021    WC\n",
              "Alexandra FEIGIN    173.520004  2021    WC\n",
              "Nicole SCHOTT       172.800003  2021    WC\n",
              "Eliska BREZINOVA    155.139999  2021    WC\n",
              "Jenni SAARINEN      146.539993  2021    WC\n",
              "Kailani CRAINE       56.860001  2021    WC\n",
              "Ekaterina KURAKOVA   52.279999  2021    WC\n",
              "Wakaba HIGUCHI      210.899994  2018    WC\n",
              "Loena HENDRICKX     192.309998  2018    WC\n",
              "Mariah BELL         174.399994  2018    WC\n",
              "Nicole SCHOTT       174.130005  2018    WC\n",
              "Kailani CRAINE      154.410004  2018    WC\n",
              "Eliska BREZINOVA    153.139999  2018    WC\n",
              "Kaori SAKAMOTO      222.830002  2019    WC\n",
              "Mariah BELL         208.070007  2019    WC\n",
              "Loena HENDRICKX     186.289993  2019    WC\n",
              "Ekaterina RYABOVA   179.880005  2019    WC\n",
              "Nicole SCHOTT       170.559998  2019    WC\n",
              "Alexandra FEIGIN    165.309998  2019    WC\n",
              "Eliska BREZINOVA    153.449997  2019    WC\n",
              "Kailani CRAINE       48.820000  2019    WC\n",
              "Anna SHCHERBAKOVA   233.169998  2021    WC\n",
              "Alexandra TRUSOVA   217.199997  2021    WC\n",
              "Karen CHEN          208.630005  2021    WC\n",
              "Loena HENDRICKX     208.440002  2021    WC\n",
              "Kaori SAKAMOTO      207.800003  2021    WC\n",
              "Olga MIKUTINA       198.770004  2021    WC\n",
              "Ekaterina RYABOVA   189.460007  2021    WC\n",
              "Madeline SCHIZAS    185.779999  2021    WC\n",
              "Eva-Lotta KIIBUS    181.470001  2021    WC\n",
              "Josefin TALJEGARD   178.100006  2021    WC\n",
              "Alexandra FEIGIN    173.520004  2021    WC\n",
              "Nicole SCHOTT       172.800003  2021    WC\n",
              "Eliska BREZINOVA    155.139999  2021    WC\n",
              "Jenni SAARINEN      146.539993  2021    WC\n",
              "Kailani CRAINE       56.860001  2021    WC\n",
              "Ekaterina KURAKOVA   52.279999  2021    WC"
            ]
          },
          "metadata": {},
          "execution_count": 122
        }
      ]
    },
    {
      "cell_type": "code",
      "source": [
        "# Logged results during 151 iterations, using skater ranking from the final 150th iteration (only for asthetic reason)\n",
        "baseline, event_scores, skater_scores, [iter_log, true_scores, skater_names, event_names, skater_scores_log, event_scores_log, baseline_log, residual_log, rmse_log] = batch_gd(season_scores, \n",
        "skater_order=example_skater_order, alpha=0.0005, n_iter=151,\n",
        "log_iter=True, log_every=10,\n",
        "additional_iter=list(range(10)) + list(range(10, 51, 5)),\n",
        ")\n",
        "\n",
        "#rankings_log = [return_ranking(skater_scores, world_scores)[0] for skater_scores in skater_scores_log]\n",
        "rankings_log = []\n",
        "for skater_scores in skater_scores_log:\n",
        "  skater_scores = pd.DataFrame(skater_scores)\n",
        "  skater_scores.columns = ['score']\n",
        "  temp = return_ranking(skater_scores, world_scores)\n",
        "  rankings_log.append(return_ranking(skater_scores, world_scores)[0])\n",
        "\n",
        "first_block_ssl = skater_scores_log[0]\n",
        "first_block_ssl = pd.DataFrame(first_block_ssl)\n",
        "first_block_ssl.columns = ['score']\n",
        "world_ranking = return_ranking(first_block_ssl, world_scores)[1]\n",
        "\n",
        "\n",
        "taus_log = [calculate_kendall_tau(season_ranking, world_ranking, verbose=False) for season_ranking in rankings_log]"
      ],
      "metadata": {
        "id": "wzovkRbzGL8l",
        "colab": {
          "base_uri": "https://localhost:8080/"
        },
        "outputId": "5cb7f5ad-2c91-4f47-f6c2-2c01f5f5a8a3"
      },
      "id": "wzovkRbzGL8l",
      "execution_count": 137,
      "outputs": [
        {
          "output_type": "stream",
          "name": "stdout",
          "text": [
            "Alpha: 0.0005, Iter: 151, Last RMSE: 7.31, Delta RMSE: -9.461e-07\n",
            "{('Madeline SCHIZAS', 'Kaori SAKAMOTO'), ('Eliska BREZINOVA', 'Ekaterina RYABOVA'), ('Madeline SCHIZAS', 'Wakaba HIGUCHI'), ('Kailani CRAINE', 'Loena HENDRICKX'), ('Nicole SCHOTT', 'Ekaterina RYABOVA'), ('Olga MIKUTINA', 'Loena HENDRICKX'), ('Ekaterina KURAKOVA', 'Ekaterina RYABOVA'), ('Kailani CRAINE', 'Ekaterina RYABOVA'), ('Olga MIKUTINA', 'Jenni SAARINEN'), ('Alexandra FEIGIN', 'Nicole SCHOTT'), ('Karen CHEN', 'Anna SHCHERBAKOVA'), ('Karen CHEN', 'Kailani CRAINE'), ('Wakaba HIGUCHI', 'Nicole SCHOTT'), ('Jenni SAARINEN', 'Alexandra FEIGIN'), ('Olga MIKUTINA', 'Nicole SCHOTT'), ('Karen CHEN', 'Alexandra TRUSOVA'), ('Alexandra TRUSOVA', 'Ekaterina RYABOVA'), ('Kailani CRAINE', 'Mariah BELL'), ('Madeline SCHIZAS', 'Eliska BREZINOVA'), ('Ekaterina KURAKOVA', 'Mariah BELL'), ('Wakaba HIGUCHI', 'Mariah BELL'), ('Jenni SAARINEN', 'Loena HENDRICKX'), ('Eva-Lotta KIIBUS', 'Kaori SAKAMOTO'), ('Olga MIKUTINA', 'Mariah BELL'), ('Anna SHCHERBAKOVA', 'Kaori SAKAMOTO'), ('Olga MIKUTINA', 'Alexandra TRUSOVA'), ('Karen CHEN', 'Ekaterina KURAKOVA'), ('Anna SHCHERBAKOVA', 'Wakaba HIGUCHI'), ('Anna SHCHERBAKOVA', 'Alexandra FEIGIN'), ('Kailani CRAINE', 'Nicole SCHOTT'), ('Ekaterina KURAKOVA', 'Alexandra FEIGIN'), ('Eva-Lotta KIIBUS', 'Anna SHCHERBAKOVA'), ('Anna SHCHERBAKOVA', 'Ekaterina RYABOVA'), ('Eva-Lotta KIIBUS', 'Loena HENDRICKX'), ('Karen CHEN', 'Ekaterina RYABOVA'), ('Anna SHCHERBAKOVA', 'Loena HENDRICKX'), ('Loena HENDRICKX', 'Alexandra FEIGIN'), ('Ekaterina KURAKOVA', 'Loena HENDRICKX'), ('Eliska BREZINOVA', 'Nicole SCHOTT'), ('Kaori SAKAMOTO', 'Alexandra TRUSOVA'), ('Jenni SAARINEN', 'Mariah BELL'), ('Anna SHCHERBAKOVA', 'Ekaterina KURAKOVA'), ('Eva-Lotta KIIBUS', 'Alexandra FEIGIN'), ('Eva-Lotta KIIBUS', 'Ekaterina KURAKOVA'), ('Olga MIKUTINA', 'Anna SHCHERBAKOVA'), ('Loena HENDRICKX', 'Mariah BELL'), ('Olga MIKUTINA', 'Kailani CRAINE'), ('Jenni SAARINEN', 'Ekaterina RYABOVA'), ('Karen CHEN', 'Jenni SAARINEN'), ('Kaori SAKAMOTO', 'Mariah BELL'), ('Kailani CRAINE', 'Kaori SAKAMOTO'), ('Olga MIKUTINA', 'Eliska BREZINOVA'), ('Karen CHEN', 'Eva-Lotta KIIBUS'), ('Ekaterina KURAKOVA', 'Kaori SAKAMOTO'), ('Eva-Lotta KIIBUS', 'Mariah BELL'), ('Olga MIKUTINA', 'Kaori SAKAMOTO'), ('Ekaterina KURAKOVA', 'Wakaba HIGUCHI'), ('Karen CHEN', 'Loena HENDRICKX'), ('Anna SHCHERBAKOVA', 'Mariah BELL'), ('Madeline SCHIZAS', 'Alexandra FEIGIN'), ('Kaori SAKAMOTO', 'Ekaterina RYABOVA'), ('Karen CHEN', 'Madeline SCHIZAS'), ('Kailani CRAINE', 'Wakaba HIGUCHI'), ('Karen CHEN', 'Nicole SCHOTT'), ('Mariah BELL', 'Alexandra FEIGIN'), ('Madeline SCHIZAS', 'Anna SHCHERBAKOVA'), ('Ekaterina KURAKOVA', 'Alexandra TRUSOVA'), ('Eva-Lotta KIIBUS', 'Jenni SAARINEN'), ('Kaori SAKAMOTO', 'Loena HENDRICKX'), ('Kailani CRAINE', 'Alexandra TRUSOVA'), ('Eva-Lotta KIIBUS', 'Eliska BREZINOVA'), ('Jenni SAARINEN', 'Wakaba HIGUCHI'), ('Karen CHEN', 'Mariah BELL'), ('Olga MIKUTINA', 'Ekaterina KURAKOVA'), ('Wakaba HIGUCHI', 'Alexandra FEIGIN'), ('Kaori SAKAMOTO', 'Alexandra FEIGIN'), ('Olga MIKUTINA', 'Alexandra FEIGIN'), ('Kaori SAKAMOTO', 'Wakaba HIGUCHI'), ('Kailani CRAINE', 'Ekaterina KURAKOVA'), ('Alexandra TRUSOVA', 'Alexandra FEIGIN'), ('Eliska BREZINOVA', 'Wakaba HIGUCHI'), ('Olga MIKUTINA', 'Ekaterina RYABOVA'), ('Karen CHEN', 'Eliska BREZINOVA'), ('Karen CHEN', 'Wakaba HIGUCHI'), ('Kailani CRAINE', 'Alexandra FEIGIN'), ('Ekaterina KURAKOVA', 'Nicole SCHOTT'), ('Eliska BREZINOVA', 'Loena HENDRICKX'), ('Kailani CRAINE', 'Jenni SAARINEN'), ('Anna SHCHERBAKOVA', 'Alexandra TRUSOVA'), ('Eva-Lotta KIIBUS', 'Alexandra TRUSOVA'), ('Karen CHEN', 'Olga MIKUTINA'), ('Eliska BREZINOVA', 'Alexandra FEIGIN'), ('Karen CHEN', 'Kaori SAKAMOTO'), ('Madeline SCHIZAS', 'Jenni SAARINEN'), ('Loena HENDRICKX', 'Alexandra TRUSOVA'), ('Madeline SCHIZAS', 'Kailani CRAINE'), ('Jenni SAARINEN', 'Alexandra TRUSOVA'), ('Eva-Lotta KIIBUS', 'Wakaba HIGUCHI'), ('Eliska BREZINOVA', 'Mariah BELL'), ('Jenni SAARINEN', 'Nicole SCHOTT'), ('Eva-Lotta KIIBUS', 'Ekaterina RYABOVA'), ('Loena HENDRICKX', 'Wakaba HIGUCHI'), ('Kailani CRAINE', 'Eliska BREZINOVA'), ('Madeline SCHIZAS', 'Nicole SCHOTT'), ('Madeline SCHIZAS', 'Alexandra TRUSOVA'), ('Kaori SAKAMOTO', 'Jenni SAARINEN'), ('Loena HENDRICKX', 'Ekaterina RYABOVA'), ('Alexandra TRUSOVA', 'Wakaba HIGUCHI'), ('Ekaterina KURAKOVA', 'Eliska BREZINOVA'), ('Karen CHEN', 'Alexandra FEIGIN'), ('Anna SHCHERBAKOVA', 'Nicole SCHOTT'), ('Madeline SCHIZAS', 'Mariah BELL'), ('Ekaterina KURAKOVA', 'Jenni SAARINEN'), ('Mariah BELL', 'Nicole SCHOTT'), ('Olga MIKUTINA', 'Wakaba HIGUCHI'), ('Kailani CRAINE', 'Anna SHCHERBAKOVA'), ('Mariah BELL', 'Ekaterina RYABOVA'), ('Anna SHCHERBAKOVA', 'Jenni SAARINEN'), ('Madeline SCHIZAS', 'Ekaterina KURAKOVA'), ('Loena HENDRICKX', 'Nicole SCHOTT'), ('Eliska BREZINOVA', 'Alexandra TRUSOVA'), ('Kaori SAKAMOTO', 'Nicole SCHOTT'), ('Olga MIKUTINA', 'Madeline SCHIZAS'), ('Eva-Lotta KIIBUS', 'Madeline SCHIZAS'), ('Eliska BREZINOVA', 'Kaori SAKAMOTO'), ('Madeline SCHIZAS', 'Ekaterina RYABOVA'), ('Eva-Lotta KIIBUS', 'Nicole SCHOTT'), ('Alexandra TRUSOVA', 'Nicole SCHOTT'), ('Madeline SCHIZAS', 'Loena HENDRICKX'), ('Wakaba HIGUCHI', 'Ekaterina RYABOVA'), ('Olga MIKUTINA', 'Eva-Lotta KIIBUS'), ('Alexandra FEIGIN', 'Ekaterina RYABOVA'), ('Anna SHCHERBAKOVA', 'Eliska BREZINOVA'), ('Alexandra TRUSOVA', 'Mariah BELL'), ('Eva-Lotta KIIBUS', 'Kailani CRAINE'), ('Eliska BREZINOVA', 'Jenni SAARINEN')}\n",
            "{('Anna SHCHERBAKOVA', 'Kailani CRAINE'), ('Madeline SCHIZAS', 'Eva-Lotta KIIBUS'), ('Ekaterina RYABOVA', 'Kailani CRAINE'), ('Wakaba HIGUCHI', 'Loena HENDRICKX'), ('Mariah BELL', 'Kailani CRAINE'), ('Olga MIKUTINA', 'Jenni SAARINEN'), ('Alexandra TRUSOVA', 'Loena HENDRICKX'), ('Wakaba HIGUCHI', 'Madeline SCHIZAS'), ('Ekaterina RYABOVA', 'Madeline SCHIZAS'), ('Nicole SCHOTT', 'Ekaterina KURAKOVA'), ('Karen CHEN', 'Kailani CRAINE'), ('Wakaba HIGUCHI', 'Nicole SCHOTT'), ('Olga MIKUTINA', 'Nicole SCHOTT'), ('Kaori SAKAMOTO', 'Olga MIKUTINA'), ('Alexandra TRUSOVA', 'Ekaterina RYABOVA'), ('Madeline SCHIZAS', 'Eliska BREZINOVA'), ('Eliska BREZINOVA', 'Kailani CRAINE'), ('Wakaba HIGUCHI', 'Mariah BELL'), ('Anna SHCHERBAKOVA', 'Kaori SAKAMOTO'), ('Karen CHEN', 'Ekaterina KURAKOVA'), ('Anna SHCHERBAKOVA', 'Wakaba HIGUCHI'), ('Anna SHCHERBAKOVA', 'Alexandra FEIGIN'), ('Anna SHCHERBAKOVA', 'Ekaterina RYABOVA'), ('Karen CHEN', 'Ekaterina RYABOVA'), ('Anna SHCHERBAKOVA', 'Loena HENDRICKX'), ('Loena HENDRICKX', 'Alexandra FEIGIN'), ('Wakaba HIGUCHI', 'Eliska BREZINOVA'), ('Kaori SAKAMOTO', 'Alexandra TRUSOVA'), ('Nicole SCHOTT', 'Jenni SAARINEN'), ('Anna SHCHERBAKOVA', 'Ekaterina KURAKOVA'), ('Eva-Lotta KIIBUS', 'Alexandra FEIGIN'), ('Eva-Lotta KIIBUS', 'Ekaterina KURAKOVA'), ('Loena HENDRICKX', 'Mariah BELL'), ('Olga MIKUTINA', 'Kailani CRAINE'), ('Ekaterina RYABOVA', 'Ekaterina KURAKOVA'), ('Karen CHEN', 'Jenni SAARINEN'), ('Kaori SAKAMOTO', 'Mariah BELL'), ('Kaori SAKAMOTO', 'Ekaterina KURAKOVA'), ('Olga MIKUTINA', 'Eliska BREZINOVA'), ('Karen CHEN', 'Eva-Lotta KIIBUS'), ('Loena HENDRICKX', 'Ekaterina KURAKOVA'), ('Karen CHEN', 'Loena HENDRICKX'), ('Anna SHCHERBAKOVA', 'Mariah BELL'), ('Alexandra TRUSOVA', 'Eliska BREZINOVA'), ('Madeline SCHIZAS', 'Alexandra FEIGIN'), ('Jenni SAARINEN', 'Ekaterina KURAKOVA'), ('Nicole SCHOTT', 'Alexandra FEIGIN'), ('Kaori SAKAMOTO', 'Ekaterina RYABOVA'), ('Loena HENDRICKX', 'Jenni SAARINEN'), ('Ekaterina RYABOVA', 'Alexandra FEIGIN'), ('Karen CHEN', 'Madeline SCHIZAS'), ('Loena HENDRICKX', 'Eliska BREZINOVA'), ('Nicole SCHOTT', 'Eliska BREZINOVA'), ('Karen CHEN', 'Nicole SCHOTT'), ('Kaori SAKAMOTO', 'Eva-Lotta KIIBUS'), ('Mariah BELL', 'Alexandra FEIGIN'), ('Kaori SAKAMOTO', 'Loena HENDRICKX'), ('Eva-Lotta KIIBUS', 'Jenni SAARINEN'), ('Anna SHCHERBAKOVA', 'Eva-Lotta KIIBUS'), ('Wakaba HIGUCHI', 'Karen CHEN'), ('Eva-Lotta KIIBUS', 'Eliska BREZINOVA'), ('Alexandra TRUSOVA', 'Madeline SCHIZAS'), ('Karen CHEN', 'Mariah BELL'), ('Ekaterina RYABOVA', 'Eva-Lotta KIIBUS'), ('Mariah BELL', 'Madeline SCHIZAS'), ('Wakaba HIGUCHI', 'Alexandra FEIGIN'), ('Olga MIKUTINA', 'Ekaterina KURAKOVA'), ('Kaori SAKAMOTO', 'Alexandra FEIGIN'), ('Wakaba HIGUCHI', 'Ekaterina KURAKOVA'), ('Kaori SAKAMOTO', 'Wakaba HIGUCHI'), ('Olga MIKUTINA', 'Alexandra FEIGIN'), ('Alexandra TRUSOVA', 'Jenni SAARINEN'), ('Alexandra FEIGIN', 'Ekaterina KURAKOVA'), ('Kailani CRAINE', 'Ekaterina KURAKOVA'), ('Alexandra TRUSOVA', 'Alexandra FEIGIN'), ('Kaori SAKAMOTO', 'Madeline SCHIZAS'), ('Olga MIKUTINA', 'Ekaterina RYABOVA'), ('Karen CHEN', 'Eliska BREZINOVA'), ('Mariah BELL', 'Eliska BREZINOVA'), ('Alexandra TRUSOVA', 'Eva-Lotta KIIBUS'), ('Kailani CRAINE', 'Jenni SAARINEN'), ('Anna SHCHERBAKOVA', 'Alexandra TRUSOVA'), ('Alexandra TRUSOVA', 'Karen CHEN'), ('Ekaterina RYABOVA', 'Jenni SAARINEN'), ('Kaori SAKAMOTO', 'Kailani CRAINE'), ('Wakaba HIGUCHI', 'Jenni SAARINEN'), ('Karen CHEN', 'Olga MIKUTINA'), ('Wakaba HIGUCHI', 'Eva-Lotta KIIBUS'), ('Kaori SAKAMOTO', 'Eliska BREZINOVA'), ('Madeline SCHIZAS', 'Jenni SAARINEN'), ('Madeline SCHIZAS', 'Kailani CRAINE'), ('Alexandra TRUSOVA', 'Olga MIKUTINA'), ('Mariah BELL', 'Olga MIKUTINA'), ('Kaori SAKAMOTO', 'Karen CHEN'), ('Alexandra TRUSOVA', 'Ekaterina KURAKOVA'), ('Alexandra FEIGIN', 'Kailani CRAINE'), ('Alexandra FEIGIN', 'Eliska BREZINOVA'), ('Anna SHCHERBAKOVA', 'Karen CHEN'), ('Madeline SCHIZAS', 'Nicole SCHOTT'), ('Anna SHCHERBAKOVA', 'Olga MIKUTINA'), ('Eliska BREZINOVA', 'Jenni SAARINEN'), ('Ekaterina RYABOVA', 'Nicole SCHOTT'), ('Kaori SAKAMOTO', 'Jenni SAARINEN'), ('Wakaba HIGUCHI', 'Kailani CRAINE'), ('Loena HENDRICKX', 'Ekaterina RYABOVA'), ('Alexandra TRUSOVA', 'Wakaba HIGUCHI'), ('Karen CHEN', 'Alexandra FEIGIN'), ('Anna SHCHERBAKOVA', 'Nicole SCHOTT'), ('Loena HENDRICKX', 'Olga MIKUTINA'), ('Mariah BELL', 'Nicole SCHOTT'), ('Mariah BELL', 'Ekaterina RYABOVA'), ('Anna SHCHERBAKOVA', 'Jenni SAARINEN'), ('Madeline SCHIZAS', 'Ekaterina KURAKOVA'), ('Mariah BELL', 'Jenni SAARINEN'), ('Loena HENDRICKX', 'Nicole SCHOTT'), ('Alexandra FEIGIN', 'Jenni SAARINEN'), ('Kaori SAKAMOTO', 'Nicole SCHOTT'), ('Alexandra TRUSOVA', 'Kailani CRAINE'), ('Anna SHCHERBAKOVA', 'Madeline SCHIZAS'), ('Nicole SCHOTT', 'Kailani CRAINE'), ('Mariah BELL', 'Ekaterina KURAKOVA'), ('Loena HENDRICKX', 'Eva-Lotta KIIBUS'), ('Olga MIKUTINA', 'Madeline SCHIZAS'), ('Eva-Lotta KIIBUS', 'Nicole SCHOTT'), ('Alexandra TRUSOVA', 'Nicole SCHOTT'), ('Wakaba HIGUCHI', 'Ekaterina RYABOVA'), ('Loena HENDRICKX', 'Kailani CRAINE'), ('Loena HENDRICKX', 'Madeline SCHIZAS'), ('Olga MIKUTINA', 'Eva-Lotta KIIBUS'), ('Eliska BREZINOVA', 'Ekaterina KURAKOVA'), ('Wakaba HIGUCHI', 'Olga MIKUTINA'), ('Anna SHCHERBAKOVA', 'Eliska BREZINOVA'), ('Alexandra TRUSOVA', 'Mariah BELL'), ('Eva-Lotta KIIBUS', 'Kailani CRAINE'), ('Mariah BELL', 'Eva-Lotta KIIBUS'), ('Ekaterina RYABOVA', 'Eliska BREZINOVA')}\n",
            "{('Madeline SCHIZAS', 'Kaori SAKAMOTO'), ('Eliska BREZINOVA', 'Ekaterina RYABOVA'), ('Madeline SCHIZAS', 'Wakaba HIGUCHI'), ('Kailani CRAINE', 'Loena HENDRICKX'), ('Nicole SCHOTT', 'Ekaterina RYABOVA'), ('Olga MIKUTINA', 'Loena HENDRICKX'), ('Ekaterina KURAKOVA', 'Ekaterina RYABOVA'), ('Kailani CRAINE', 'Ekaterina RYABOVA'), ('Olga MIKUTINA', 'Jenni SAARINEN'), ('Alexandra TRUSOVA', 'Loena HENDRICKX'), ('Karen CHEN', 'Anna SHCHERBAKOVA'), ('Karen CHEN', 'Kailani CRAINE'), ('Wakaba HIGUCHI', 'Nicole SCHOTT'), ('Jenni SAARINEN', 'Alexandra FEIGIN'), ('Olga MIKUTINA', 'Nicole SCHOTT'), ('Karen CHEN', 'Alexandra TRUSOVA'), ('Alexandra TRUSOVA', 'Ekaterina RYABOVA'), ('Kailani CRAINE', 'Mariah BELL'), ('Madeline SCHIZAS', 'Eliska BREZINOVA'), ('Ekaterina KURAKOVA', 'Mariah BELL'), ('Eva-Lotta KIIBUS', 'Kaori SAKAMOTO'), ('Olga MIKUTINA', 'Mariah BELL'), ('Anna SHCHERBAKOVA', 'Kaori SAKAMOTO'), ('Olga MIKUTINA', 'Alexandra TRUSOVA'), ('Karen CHEN', 'Ekaterina KURAKOVA'), ('Anna SHCHERBAKOVA', 'Wakaba HIGUCHI'), ('Anna SHCHERBAKOVA', 'Alexandra FEIGIN'), ('Kailani CRAINE', 'Nicole SCHOTT'), ('Ekaterina KURAKOVA', 'Alexandra FEIGIN'), ('Eva-Lotta KIIBUS', 'Anna SHCHERBAKOVA'), ('Anna SHCHERBAKOVA', 'Ekaterina RYABOVA'), ('Eva-Lotta KIIBUS', 'Loena HENDRICKX'), ('Karen CHEN', 'Ekaterina RYABOVA'), ('Anna SHCHERBAKOVA', 'Loena HENDRICKX'), ('Loena HENDRICKX', 'Alexandra FEIGIN'), ('Ekaterina KURAKOVA', 'Loena HENDRICKX'), ('Kaori SAKAMOTO', 'Alexandra TRUSOVA'), ('Eliska BREZINOVA', 'Nicole SCHOTT'), ('Anna SHCHERBAKOVA', 'Ekaterina KURAKOVA'), ('Eva-Lotta KIIBUS', 'Alexandra FEIGIN'), ('Eva-Lotta KIIBUS', 'Ekaterina KURAKOVA'), ('Olga MIKUTINA', 'Anna SHCHERBAKOVA'), ('Loena HENDRICKX', 'Mariah BELL'), ('Olga MIKUTINA', 'Kailani CRAINE'), ('Jenni SAARINEN', 'Ekaterina RYABOVA'), ('Karen CHEN', 'Jenni SAARINEN'), ('Kaori SAKAMOTO', 'Mariah BELL'), ('Kailani CRAINE', 'Kaori SAKAMOTO'), ('Olga MIKUTINA', 'Eliska BREZINOVA'), ('Karen CHEN', 'Eva-Lotta KIIBUS'), ('Ekaterina KURAKOVA', 'Kaori SAKAMOTO'), ('Eva-Lotta KIIBUS', 'Mariah BELL'), ('Olga MIKUTINA', 'Kaori SAKAMOTO'), ('Ekaterina KURAKOVA', 'Wakaba HIGUCHI'), ('Karen CHEN', 'Loena HENDRICKX'), ('Anna SHCHERBAKOVA', 'Mariah BELL'), ('Madeline SCHIZAS', 'Alexandra FEIGIN'), ('Nicole SCHOTT', 'Alexandra FEIGIN'), ('Kaori SAKAMOTO', 'Ekaterina RYABOVA'), ('Loena HENDRICKX', 'Jenni SAARINEN'), ('Ekaterina RYABOVA', 'Alexandra FEIGIN'), ('Karen CHEN', 'Madeline SCHIZAS'), ('Kailani CRAINE', 'Wakaba HIGUCHI'), ('Karen CHEN', 'Nicole SCHOTT'), ('Mariah BELL', 'Alexandra FEIGIN'), ('Madeline SCHIZAS', 'Anna SHCHERBAKOVA'), ('Ekaterina KURAKOVA', 'Alexandra TRUSOVA'), ('Eva-Lotta KIIBUS', 'Jenni SAARINEN'), ('Kaori SAKAMOTO', 'Loena HENDRICKX'), ('Kailani CRAINE', 'Alexandra TRUSOVA'), ('Eva-Lotta KIIBUS', 'Eliska BREZINOVA'), ('Jenni SAARINEN', 'Wakaba HIGUCHI'), ('Karen CHEN', 'Mariah BELL'), ('Olga MIKUTINA', 'Ekaterina KURAKOVA'), ('Wakaba HIGUCHI', 'Alexandra FEIGIN'), ('Kaori SAKAMOTO', 'Alexandra FEIGIN'), ('Olga MIKUTINA', 'Alexandra FEIGIN'), ('Kaori SAKAMOTO', 'Wakaba HIGUCHI'), ('Alexandra TRUSOVA', 'Jenni SAARINEN'), ('Kailani CRAINE', 'Ekaterina KURAKOVA'), ('Alexandra TRUSOVA', 'Alexandra FEIGIN'), ('Eliska BREZINOVA', 'Wakaba HIGUCHI'), ('Olga MIKUTINA', 'Ekaterina RYABOVA'), ('Mariah BELL', 'Wakaba HIGUCHI'), ('Karen CHEN', 'Eliska BREZINOVA'), ('Karen CHEN', 'Wakaba HIGUCHI'), ('Kailani CRAINE', 'Alexandra FEIGIN'), ('Ekaterina KURAKOVA', 'Nicole SCHOTT'), ('Eliska BREZINOVA', 'Loena HENDRICKX'), ('Kailani CRAINE', 'Jenni SAARINEN'), ('Anna SHCHERBAKOVA', 'Alexandra TRUSOVA'), ('Eva-Lotta KIIBUS', 'Alexandra TRUSOVA'), ('Karen CHEN', 'Olga MIKUTINA'), ('Eliska BREZINOVA', 'Alexandra FEIGIN'), ('Kaori SAKAMOTO', 'Eliska BREZINOVA'), ('Karen CHEN', 'Kaori SAKAMOTO'), ('Madeline SCHIZAS', 'Jenni SAARINEN'), ('Madeline SCHIZAS', 'Kailani CRAINE'), ('Eva-Lotta KIIBUS', 'Wakaba HIGUCHI'), ('Eliska BREZINOVA', 'Mariah BELL'), ('Jenni SAARINEN', 'Nicole SCHOTT'), ('Eva-Lotta KIIBUS', 'Ekaterina RYABOVA'), ('Loena HENDRICKX', 'Wakaba HIGUCHI'), ('Kailani CRAINE', 'Eliska BREZINOVA'), ('Madeline SCHIZAS', 'Nicole SCHOTT'), ('Madeline SCHIZAS', 'Alexandra TRUSOVA'), ('Kaori SAKAMOTO', 'Jenni SAARINEN'), ('Loena HENDRICKX', 'Ekaterina RYABOVA'), ('Alexandra TRUSOVA', 'Wakaba HIGUCHI'), ('Ekaterina KURAKOVA', 'Eliska BREZINOVA'), ('Karen CHEN', 'Alexandra FEIGIN'), ('Anna SHCHERBAKOVA', 'Nicole SCHOTT'), ('Madeline SCHIZAS', 'Mariah BELL'), ('Ekaterina KURAKOVA', 'Jenni SAARINEN'), ('Mariah BELL', 'Nicole SCHOTT'), ('Olga MIKUTINA', 'Wakaba HIGUCHI'), ('Kailani CRAINE', 'Anna SHCHERBAKOVA'), ('Mariah BELL', 'Ekaterina RYABOVA'), ('Anna SHCHERBAKOVA', 'Jenni SAARINEN'), ('Madeline SCHIZAS', 'Ekaterina KURAKOVA'), ('Mariah BELL', 'Jenni SAARINEN'), ('Loena HENDRICKX', 'Nicole SCHOTT'), ('Kaori SAKAMOTO', 'Nicole SCHOTT'), ('Eliska BREZINOVA', 'Alexandra TRUSOVA'), ('Olga MIKUTINA', 'Madeline SCHIZAS'), ('Eva-Lotta KIIBUS', 'Madeline SCHIZAS'), ('Madeline SCHIZAS', 'Ekaterina RYABOVA'), ('Eva-Lotta KIIBUS', 'Nicole SCHOTT'), ('Alexandra TRUSOVA', 'Nicole SCHOTT'), ('Madeline SCHIZAS', 'Loena HENDRICKX'), ('Wakaba HIGUCHI', 'Ekaterina RYABOVA'), ('Olga MIKUTINA', 'Eva-Lotta KIIBUS'), ('Anna SHCHERBAKOVA', 'Eliska BREZINOVA'), ('Alexandra TRUSOVA', 'Mariah BELL'), ('Eva-Lotta KIIBUS', 'Kailani CRAINE'), ('Eliska BREZINOVA', 'Jenni SAARINEN')}\n",
            "{('Anna SHCHERBAKOVA', 'Kailani CRAINE'), ('Madeline SCHIZAS', 'Eva-Lotta KIIBUS'), ('Ekaterina RYABOVA', 'Kailani CRAINE'), ('Wakaba HIGUCHI', 'Loena HENDRICKX'), ('Mariah BELL', 'Kailani CRAINE'), ('Olga MIKUTINA', 'Jenni SAARINEN'), ('Alexandra TRUSOVA', 'Loena HENDRICKX'), ('Wakaba HIGUCHI', 'Madeline SCHIZAS'), ('Ekaterina RYABOVA', 'Madeline SCHIZAS'), ('Nicole SCHOTT', 'Ekaterina KURAKOVA'), ('Karen CHEN', 'Kailani CRAINE'), ('Wakaba HIGUCHI', 'Nicole SCHOTT'), ('Olga MIKUTINA', 'Nicole SCHOTT'), ('Kaori SAKAMOTO', 'Olga MIKUTINA'), ('Alexandra TRUSOVA', 'Ekaterina RYABOVA'), ('Madeline SCHIZAS', 'Eliska BREZINOVA'), ('Eliska BREZINOVA', 'Kailani CRAINE'), ('Wakaba HIGUCHI', 'Mariah BELL'), ('Anna SHCHERBAKOVA', 'Kaori SAKAMOTO'), ('Karen CHEN', 'Ekaterina KURAKOVA'), ('Anna SHCHERBAKOVA', 'Wakaba HIGUCHI'), ('Anna SHCHERBAKOVA', 'Alexandra FEIGIN'), ('Anna SHCHERBAKOVA', 'Ekaterina RYABOVA'), ('Karen CHEN', 'Ekaterina RYABOVA'), ('Anna SHCHERBAKOVA', 'Loena HENDRICKX'), ('Loena HENDRICKX', 'Alexandra FEIGIN'), ('Wakaba HIGUCHI', 'Eliska BREZINOVA'), ('Kaori SAKAMOTO', 'Alexandra TRUSOVA'), ('Nicole SCHOTT', 'Jenni SAARINEN'), ('Anna SHCHERBAKOVA', 'Ekaterina KURAKOVA'), ('Eva-Lotta KIIBUS', 'Alexandra FEIGIN'), ('Eva-Lotta KIIBUS', 'Ekaterina KURAKOVA'), ('Loena HENDRICKX', 'Mariah BELL'), ('Olga MIKUTINA', 'Kailani CRAINE'), ('Ekaterina RYABOVA', 'Ekaterina KURAKOVA'), ('Karen CHEN', 'Jenni SAARINEN'), ('Kaori SAKAMOTO', 'Mariah BELL'), ('Kaori SAKAMOTO', 'Ekaterina KURAKOVA'), ('Olga MIKUTINA', 'Eliska BREZINOVA'), ('Karen CHEN', 'Eva-Lotta KIIBUS'), ('Loena HENDRICKX', 'Ekaterina KURAKOVA'), ('Karen CHEN', 'Loena HENDRICKX'), ('Anna SHCHERBAKOVA', 'Mariah BELL'), ('Alexandra TRUSOVA', 'Eliska BREZINOVA'), ('Madeline SCHIZAS', 'Alexandra FEIGIN'), ('Jenni SAARINEN', 'Ekaterina KURAKOVA'), ('Nicole SCHOTT', 'Alexandra FEIGIN'), ('Kaori SAKAMOTO', 'Ekaterina RYABOVA'), ('Loena HENDRICKX', 'Jenni SAARINEN'), ('Ekaterina RYABOVA', 'Alexandra FEIGIN'), ('Karen CHEN', 'Madeline SCHIZAS'), ('Loena HENDRICKX', 'Eliska BREZINOVA'), ('Nicole SCHOTT', 'Eliska BREZINOVA'), ('Karen CHEN', 'Nicole SCHOTT'), ('Kaori SAKAMOTO', 'Eva-Lotta KIIBUS'), ('Mariah BELL', 'Alexandra FEIGIN'), ('Kaori SAKAMOTO', 'Loena HENDRICKX'), ('Eva-Lotta KIIBUS', 'Jenni SAARINEN'), ('Anna SHCHERBAKOVA', 'Eva-Lotta KIIBUS'), ('Wakaba HIGUCHI', 'Karen CHEN'), ('Eva-Lotta KIIBUS', 'Eliska BREZINOVA'), ('Alexandra TRUSOVA', 'Madeline SCHIZAS'), ('Karen CHEN', 'Mariah BELL'), ('Ekaterina RYABOVA', 'Eva-Lotta KIIBUS'), ('Mariah BELL', 'Madeline SCHIZAS'), ('Wakaba HIGUCHI', 'Alexandra FEIGIN'), ('Olga MIKUTINA', 'Ekaterina KURAKOVA'), ('Kaori SAKAMOTO', 'Alexandra FEIGIN'), ('Wakaba HIGUCHI', 'Ekaterina KURAKOVA'), ('Kaori SAKAMOTO', 'Wakaba HIGUCHI'), ('Olga MIKUTINA', 'Alexandra FEIGIN'), ('Alexandra TRUSOVA', 'Jenni SAARINEN'), ('Alexandra FEIGIN', 'Ekaterina KURAKOVA'), ('Kailani CRAINE', 'Ekaterina KURAKOVA'), ('Alexandra TRUSOVA', 'Alexandra FEIGIN'), ('Kaori SAKAMOTO', 'Madeline SCHIZAS'), ('Olga MIKUTINA', 'Ekaterina RYABOVA'), ('Karen CHEN', 'Eliska BREZINOVA'), ('Mariah BELL', 'Eliska BREZINOVA'), ('Alexandra TRUSOVA', 'Eva-Lotta KIIBUS'), ('Kailani CRAINE', 'Jenni SAARINEN'), ('Anna SHCHERBAKOVA', 'Alexandra TRUSOVA'), ('Alexandra TRUSOVA', 'Karen CHEN'), ('Ekaterina RYABOVA', 'Jenni SAARINEN'), ('Kaori SAKAMOTO', 'Kailani CRAINE'), ('Wakaba HIGUCHI', 'Jenni SAARINEN'), ('Karen CHEN', 'Olga MIKUTINA'), ('Wakaba HIGUCHI', 'Eva-Lotta KIIBUS'), ('Kaori SAKAMOTO', 'Eliska BREZINOVA'), ('Madeline SCHIZAS', 'Jenni SAARINEN'), ('Madeline SCHIZAS', 'Kailani CRAINE'), ('Alexandra TRUSOVA', 'Olga MIKUTINA'), ('Mariah BELL', 'Olga MIKUTINA'), ('Kaori SAKAMOTO', 'Karen CHEN'), ('Alexandra TRUSOVA', 'Ekaterina KURAKOVA'), ('Alexandra FEIGIN', 'Kailani CRAINE'), ('Alexandra FEIGIN', 'Eliska BREZINOVA'), ('Anna SHCHERBAKOVA', 'Karen CHEN'), ('Madeline SCHIZAS', 'Nicole SCHOTT'), ('Anna SHCHERBAKOVA', 'Olga MIKUTINA'), ('Eliska BREZINOVA', 'Jenni SAARINEN'), ('Ekaterina RYABOVA', 'Nicole SCHOTT'), ('Kaori SAKAMOTO', 'Jenni SAARINEN'), ('Wakaba HIGUCHI', 'Kailani CRAINE'), ('Loena HENDRICKX', 'Ekaterina RYABOVA'), ('Alexandra TRUSOVA', 'Wakaba HIGUCHI'), ('Karen CHEN', 'Alexandra FEIGIN'), ('Anna SHCHERBAKOVA', 'Nicole SCHOTT'), ('Loena HENDRICKX', 'Olga MIKUTINA'), ('Mariah BELL', 'Nicole SCHOTT'), ('Mariah BELL', 'Ekaterina RYABOVA'), ('Anna SHCHERBAKOVA', 'Jenni SAARINEN'), ('Madeline SCHIZAS', 'Ekaterina KURAKOVA'), ('Mariah BELL', 'Jenni SAARINEN'), ('Loena HENDRICKX', 'Nicole SCHOTT'), ('Alexandra FEIGIN', 'Jenni SAARINEN'), ('Kaori SAKAMOTO', 'Nicole SCHOTT'), ('Alexandra TRUSOVA', 'Kailani CRAINE'), ('Anna SHCHERBAKOVA', 'Madeline SCHIZAS'), ('Nicole SCHOTT', 'Kailani CRAINE'), ('Mariah BELL', 'Ekaterina KURAKOVA'), ('Loena HENDRICKX', 'Eva-Lotta KIIBUS'), ('Olga MIKUTINA', 'Madeline SCHIZAS'), ('Eva-Lotta KIIBUS', 'Nicole SCHOTT'), ('Alexandra TRUSOVA', 'Nicole SCHOTT'), ('Wakaba HIGUCHI', 'Ekaterina RYABOVA'), ('Loena HENDRICKX', 'Kailani CRAINE'), ('Loena HENDRICKX', 'Madeline SCHIZAS'), ('Olga MIKUTINA', 'Eva-Lotta KIIBUS'), ('Eliska BREZINOVA', 'Ekaterina KURAKOVA'), ('Wakaba HIGUCHI', 'Olga MIKUTINA'), ('Anna SHCHERBAKOVA', 'Eliska BREZINOVA'), ('Alexandra TRUSOVA', 'Mariah BELL'), ('Eva-Lotta KIIBUS', 'Kailani CRAINE'), ('Mariah BELL', 'Eva-Lotta KIIBUS'), ('Ekaterina RYABOVA', 'Eliska BREZINOVA')}\n",
            "{('Anna SHCHERBAKOVA', 'Kailani CRAINE'), ('Eliska BREZINOVA', 'Ekaterina RYABOVA'), ('Madeline SCHIZAS', 'Wakaba HIGUCHI'), ('Kaori SAKAMOTO', 'Anna SHCHERBAKOVA'), ('Kailani CRAINE', 'Loena HENDRICKX'), ('Nicole SCHOTT', 'Ekaterina RYABOVA'), ('Olga MIKUTINA', 'Loena HENDRICKX'), ('Ekaterina KURAKOVA', 'Ekaterina RYABOVA'), ('Kailani CRAINE', 'Ekaterina RYABOVA'), ('Olga MIKUTINA', 'Jenni SAARINEN'), ('Alexandra TRUSOVA', 'Loena HENDRICKX'), ('Karen CHEN', 'Anna SHCHERBAKOVA'), ('Karen CHEN', 'Kailani CRAINE'), ('Wakaba HIGUCHI', 'Nicole SCHOTT'), ('Jenni SAARINEN', 'Alexandra FEIGIN'), ('Olga MIKUTINA', 'Nicole SCHOTT'), ('Karen CHEN', 'Alexandra TRUSOVA'), ('Alexandra TRUSOVA', 'Ekaterina RYABOVA'), ('Kailani CRAINE', 'Mariah BELL'), ('Madeline SCHIZAS', 'Eliska BREZINOVA'), ('Ekaterina KURAKOVA', 'Mariah BELL'), ('Eva-Lotta KIIBUS', 'Kaori SAKAMOTO'), ('Olga MIKUTINA', 'Mariah BELL'), ('Olga MIKUTINA', 'Alexandra TRUSOVA'), ('Karen CHEN', 'Ekaterina KURAKOVA'), ('Anna SHCHERBAKOVA', 'Wakaba HIGUCHI'), ('Anna SHCHERBAKOVA', 'Alexandra FEIGIN'), ('Kailani CRAINE', 'Nicole SCHOTT'), ('Ekaterina KURAKOVA', 'Alexandra FEIGIN'), ('Eva-Lotta KIIBUS', 'Anna SHCHERBAKOVA'), ('Anna SHCHERBAKOVA', 'Ekaterina RYABOVA'), ('Eva-Lotta KIIBUS', 'Loena HENDRICKX'), ('Karen CHEN', 'Ekaterina RYABOVA'), ('Anna SHCHERBAKOVA', 'Loena HENDRICKX'), ('Loena HENDRICKX', 'Alexandra FEIGIN'), ('Kaori SAKAMOTO', 'Alexandra TRUSOVA'), ('Ekaterina KURAKOVA', 'Loena HENDRICKX'), ('Eliska BREZINOVA', 'Nicole SCHOTT'), ('Nicole SCHOTT', 'Jenni SAARINEN'), ('Anna SHCHERBAKOVA', 'Ekaterina KURAKOVA'), ('Eva-Lotta KIIBUS', 'Alexandra FEIGIN'), ('Eva-Lotta KIIBUS', 'Ekaterina KURAKOVA'), ('Olga MIKUTINA', 'Anna SHCHERBAKOVA'), ('Olga MIKUTINA', 'Kailani CRAINE'), ('Karen CHEN', 'Jenni SAARINEN'), ('Kaori SAKAMOTO', 'Mariah BELL'), ('Kaori SAKAMOTO', 'Ekaterina KURAKOVA'), ('Olga MIKUTINA', 'Eliska BREZINOVA'), ('Karen CHEN', 'Eva-Lotta KIIBUS'), ('Eva-Lotta KIIBUS', 'Mariah BELL'), ('Olga MIKUTINA', 'Kaori SAKAMOTO'), ('Ekaterina KURAKOVA', 'Wakaba HIGUCHI'), ('Karen CHEN', 'Loena HENDRICKX'), ('Anna SHCHERBAKOVA', 'Mariah BELL'), ('Alexandra TRUSOVA', 'Eliska BREZINOVA'), ('Madeline SCHIZAS', 'Alexandra FEIGIN'), ('Nicole SCHOTT', 'Alexandra FEIGIN'), ('Kaori SAKAMOTO', 'Ekaterina RYABOVA'), ('Loena HENDRICKX', 'Jenni SAARINEN'), ('Ekaterina RYABOVA', 'Alexandra FEIGIN'), ('Karen CHEN', 'Madeline SCHIZAS'), ('Kailani CRAINE', 'Wakaba HIGUCHI'), ('Loena HENDRICKX', 'Eliska BREZINOVA'), ('Karen CHEN', 'Nicole SCHOTT'), ('Mariah BELL', 'Alexandra FEIGIN'), ('Kaori SAKAMOTO', 'Loena HENDRICKX'), ('Eva-Lotta KIIBUS', 'Jenni SAARINEN'), ('Eva-Lotta KIIBUS', 'Eliska BREZINOVA'), ('Karen CHEN', 'Mariah BELL'), ('Olga MIKUTINA', 'Ekaterina KURAKOVA'), ('Wakaba HIGUCHI', 'Alexandra FEIGIN'), ('Kaori SAKAMOTO', 'Alexandra FEIGIN'), ('Olga MIKUTINA', 'Alexandra FEIGIN'), ('Kaori SAKAMOTO', 'Wakaba HIGUCHI'), ('Alexandra TRUSOVA', 'Jenni SAARINEN'), ('Kailani CRAINE', 'Ekaterina KURAKOVA'), ('Alexandra TRUSOVA', 'Alexandra FEIGIN'), ('Eliska BREZINOVA', 'Wakaba HIGUCHI'), ('Kaori SAKAMOTO', 'Madeline SCHIZAS'), ('Olga MIKUTINA', 'Ekaterina RYABOVA'), ('Mariah BELL', 'Wakaba HIGUCHI'), ('Karen CHEN', 'Eliska BREZINOVA'), ('Karen CHEN', 'Wakaba HIGUCHI'), ('Kailani CRAINE', 'Alexandra FEIGIN'), ('Mariah BELL', 'Eliska BREZINOVA'), ('Ekaterina KURAKOVA', 'Nicole SCHOTT'), ('Kailani CRAINE', 'Jenni SAARINEN'), ('Anna SHCHERBAKOVA', 'Alexandra TRUSOVA'), ('Eva-Lotta KIIBUS', 'Alexandra TRUSOVA'), ('Ekaterina RYABOVA', 'Jenni SAARINEN'), ('Kaori SAKAMOTO', 'Kailani CRAINE'), ('Wakaba HIGUCHI', 'Jenni SAARINEN'), ('Karen CHEN', 'Olga MIKUTINA'), ('Eliska BREZINOVA', 'Alexandra FEIGIN'), ('Kaori SAKAMOTO', 'Eliska BREZINOVA'), ('Karen CHEN', 'Kaori SAKAMOTO'), ('Madeline SCHIZAS', 'Jenni SAARINEN'), ('Madeline SCHIZAS', 'Kailani CRAINE'), ('Alexandra TRUSOVA', 'Ekaterina KURAKOVA'), ('Eva-Lotta KIIBUS', 'Wakaba HIGUCHI'), ('Eva-Lotta KIIBUS', 'Ekaterina RYABOVA'), ('Loena HENDRICKX', 'Wakaba HIGUCHI'), ('Kailani CRAINE', 'Eliska BREZINOVA'), ('Madeline SCHIZAS', 'Nicole SCHOTT'), ('Madeline SCHIZAS', 'Alexandra TRUSOVA'), ('Kaori SAKAMOTO', 'Jenni SAARINEN'), ('Loena HENDRICKX', 'Ekaterina RYABOVA'), ('Alexandra TRUSOVA', 'Wakaba HIGUCHI'), ('Ekaterina KURAKOVA', 'Eliska BREZINOVA'), ('Karen CHEN', 'Alexandra FEIGIN'), ('Anna SHCHERBAKOVA', 'Nicole SCHOTT'), ('Madeline SCHIZAS', 'Mariah BELL'), ('Ekaterina KURAKOVA', 'Jenni SAARINEN'), ('Mariah BELL', 'Nicole SCHOTT'), ('Olga MIKUTINA', 'Wakaba HIGUCHI'), ('Mariah BELL', 'Ekaterina RYABOVA'), ('Anna SHCHERBAKOVA', 'Jenni SAARINEN'), ('Madeline SCHIZAS', 'Ekaterina KURAKOVA'), ('Mariah BELL', 'Jenni SAARINEN'), ('Loena HENDRICKX', 'Nicole SCHOTT'), ('Mariah BELL', 'Loena HENDRICKX'), ('Kaori SAKAMOTO', 'Nicole SCHOTT'), ('Alexandra TRUSOVA', 'Kailani CRAINE'), ('Anna SHCHERBAKOVA', 'Madeline SCHIZAS'), ('Olga MIKUTINA', 'Madeline SCHIZAS'), ('Eva-Lotta KIIBUS', 'Madeline SCHIZAS'), ('Madeline SCHIZAS', 'Ekaterina RYABOVA'), ('Eva-Lotta KIIBUS', 'Nicole SCHOTT'), ('Alexandra TRUSOVA', 'Nicole SCHOTT'), ('Madeline SCHIZAS', 'Loena HENDRICKX'), ('Wakaba HIGUCHI', 'Ekaterina RYABOVA'), ('Olga MIKUTINA', 'Eva-Lotta KIIBUS'), ('Anna SHCHERBAKOVA', 'Eliska BREZINOVA'), ('Alexandra TRUSOVA', 'Mariah BELL'), ('Eva-Lotta KIIBUS', 'Kailani CRAINE'), ('Eliska BREZINOVA', 'Jenni SAARINEN')}\n",
            "{('Anna SHCHERBAKOVA', 'Kailani CRAINE'), ('Madeline SCHIZAS', 'Eva-Lotta KIIBUS'), ('Ekaterina RYABOVA', 'Kailani CRAINE'), ('Wakaba HIGUCHI', 'Loena HENDRICKX'), ('Mariah BELL', 'Kailani CRAINE'), ('Olga MIKUTINA', 'Jenni SAARINEN'), ('Alexandra TRUSOVA', 'Loena HENDRICKX'), ('Wakaba HIGUCHI', 'Madeline SCHIZAS'), ('Ekaterina RYABOVA', 'Madeline SCHIZAS'), ('Nicole SCHOTT', 'Ekaterina KURAKOVA'), ('Karen CHEN', 'Kailani CRAINE'), ('Wakaba HIGUCHI', 'Nicole SCHOTT'), ('Olga MIKUTINA', 'Nicole SCHOTT'), ('Kaori SAKAMOTO', 'Olga MIKUTINA'), ('Alexandra TRUSOVA', 'Ekaterina RYABOVA'), ('Madeline SCHIZAS', 'Eliska BREZINOVA'), ('Eliska BREZINOVA', 'Kailani CRAINE'), ('Wakaba HIGUCHI', 'Mariah BELL'), ('Anna SHCHERBAKOVA', 'Kaori SAKAMOTO'), ('Karen CHEN', 'Ekaterina KURAKOVA'), ('Anna SHCHERBAKOVA', 'Wakaba HIGUCHI'), ('Anna SHCHERBAKOVA', 'Alexandra FEIGIN'), ('Anna SHCHERBAKOVA', 'Ekaterina RYABOVA'), ('Karen CHEN', 'Ekaterina RYABOVA'), ('Anna SHCHERBAKOVA', 'Loena HENDRICKX'), ('Loena HENDRICKX', 'Alexandra FEIGIN'), ('Wakaba HIGUCHI', 'Eliska BREZINOVA'), ('Kaori SAKAMOTO', 'Alexandra TRUSOVA'), ('Nicole SCHOTT', 'Jenni SAARINEN'), ('Anna SHCHERBAKOVA', 'Ekaterina KURAKOVA'), ('Eva-Lotta KIIBUS', 'Alexandra FEIGIN'), ('Eva-Lotta KIIBUS', 'Ekaterina KURAKOVA'), ('Loena HENDRICKX', 'Mariah BELL'), ('Olga MIKUTINA', 'Kailani CRAINE'), ('Ekaterina RYABOVA', 'Ekaterina KURAKOVA'), ('Karen CHEN', 'Jenni SAARINEN'), ('Kaori SAKAMOTO', 'Mariah BELL'), ('Kaori SAKAMOTO', 'Ekaterina KURAKOVA'), ('Olga MIKUTINA', 'Eliska BREZINOVA'), ('Karen CHEN', 'Eva-Lotta KIIBUS'), ('Loena HENDRICKX', 'Ekaterina KURAKOVA'), ('Karen CHEN', 'Loena HENDRICKX'), ('Anna SHCHERBAKOVA', 'Mariah BELL'), ('Alexandra TRUSOVA', 'Eliska BREZINOVA'), ('Madeline SCHIZAS', 'Alexandra FEIGIN'), ('Jenni SAARINEN', 'Ekaterina KURAKOVA'), ('Nicole SCHOTT', 'Alexandra FEIGIN'), ('Kaori SAKAMOTO', 'Ekaterina RYABOVA'), ('Loena HENDRICKX', 'Jenni SAARINEN'), ('Ekaterina RYABOVA', 'Alexandra FEIGIN'), ('Karen CHEN', 'Madeline SCHIZAS'), ('Loena HENDRICKX', 'Eliska BREZINOVA'), ('Nicole SCHOTT', 'Eliska BREZINOVA'), ('Karen CHEN', 'Nicole SCHOTT'), ('Kaori SAKAMOTO', 'Eva-Lotta KIIBUS'), ('Mariah BELL', 'Alexandra FEIGIN'), ('Kaori SAKAMOTO', 'Loena HENDRICKX'), ('Eva-Lotta KIIBUS', 'Jenni SAARINEN'), ('Anna SHCHERBAKOVA', 'Eva-Lotta KIIBUS'), ('Wakaba HIGUCHI', 'Karen CHEN'), ('Eva-Lotta KIIBUS', 'Eliska BREZINOVA'), ('Alexandra TRUSOVA', 'Madeline SCHIZAS'), ('Karen CHEN', 'Mariah BELL'), ('Ekaterina RYABOVA', 'Eva-Lotta KIIBUS'), ('Mariah BELL', 'Madeline SCHIZAS'), ('Wakaba HIGUCHI', 'Alexandra FEIGIN'), ('Olga MIKUTINA', 'Ekaterina KURAKOVA'), ('Kaori SAKAMOTO', 'Alexandra FEIGIN'), ('Wakaba HIGUCHI', 'Ekaterina KURAKOVA'), ('Kaori SAKAMOTO', 'Wakaba HIGUCHI'), ('Olga MIKUTINA', 'Alexandra FEIGIN'), ('Alexandra TRUSOVA', 'Jenni SAARINEN'), ('Alexandra FEIGIN', 'Ekaterina KURAKOVA'), ('Kailani CRAINE', 'Ekaterina KURAKOVA'), ('Alexandra TRUSOVA', 'Alexandra FEIGIN'), ('Kaori SAKAMOTO', 'Madeline SCHIZAS'), ('Olga MIKUTINA', 'Ekaterina RYABOVA'), ('Karen CHEN', 'Eliska BREZINOVA'), ('Mariah BELL', 'Eliska BREZINOVA'), ('Alexandra TRUSOVA', 'Eva-Lotta KIIBUS'), ('Kailani CRAINE', 'Jenni SAARINEN'), ('Anna SHCHERBAKOVA', 'Alexandra TRUSOVA'), ('Alexandra TRUSOVA', 'Karen CHEN'), ('Ekaterina RYABOVA', 'Jenni SAARINEN'), ('Kaori SAKAMOTO', 'Kailani CRAINE'), ('Wakaba HIGUCHI', 'Jenni SAARINEN'), ('Karen CHEN', 'Olga MIKUTINA'), ('Wakaba HIGUCHI', 'Eva-Lotta KIIBUS'), ('Kaori SAKAMOTO', 'Eliska BREZINOVA'), ('Madeline SCHIZAS', 'Jenni SAARINEN'), ('Madeline SCHIZAS', 'Kailani CRAINE'), ('Alexandra TRUSOVA', 'Olga MIKUTINA'), ('Mariah BELL', 'Olga MIKUTINA'), ('Kaori SAKAMOTO', 'Karen CHEN'), ('Alexandra TRUSOVA', 'Ekaterina KURAKOVA'), ('Alexandra FEIGIN', 'Kailani CRAINE'), ('Alexandra FEIGIN', 'Eliska BREZINOVA'), ('Anna SHCHERBAKOVA', 'Karen CHEN'), ('Madeline SCHIZAS', 'Nicole SCHOTT'), ('Anna SHCHERBAKOVA', 'Olga MIKUTINA'), ('Eliska BREZINOVA', 'Jenni SAARINEN'), ('Ekaterina RYABOVA', 'Nicole SCHOTT'), ('Kaori SAKAMOTO', 'Jenni SAARINEN'), ('Wakaba HIGUCHI', 'Kailani CRAINE'), ('Loena HENDRICKX', 'Ekaterina RYABOVA'), ('Alexandra TRUSOVA', 'Wakaba HIGUCHI'), ('Karen CHEN', 'Alexandra FEIGIN'), ('Anna SHCHERBAKOVA', 'Nicole SCHOTT'), ('Loena HENDRICKX', 'Olga MIKUTINA'), ('Mariah BELL', 'Nicole SCHOTT'), ('Mariah BELL', 'Ekaterina RYABOVA'), ('Anna SHCHERBAKOVA', 'Jenni SAARINEN'), ('Madeline SCHIZAS', 'Ekaterina KURAKOVA'), ('Mariah BELL', 'Jenni SAARINEN'), ('Loena HENDRICKX', 'Nicole SCHOTT'), ('Alexandra FEIGIN', 'Jenni SAARINEN'), ('Kaori SAKAMOTO', 'Nicole SCHOTT'), ('Alexandra TRUSOVA', 'Kailani CRAINE'), ('Anna SHCHERBAKOVA', 'Madeline SCHIZAS'), ('Nicole SCHOTT', 'Kailani CRAINE'), ('Mariah BELL', 'Ekaterina KURAKOVA'), ('Loena HENDRICKX', 'Eva-Lotta KIIBUS'), ('Olga MIKUTINA', 'Madeline SCHIZAS'), ('Eva-Lotta KIIBUS', 'Nicole SCHOTT'), ('Alexandra TRUSOVA', 'Nicole SCHOTT'), ('Wakaba HIGUCHI', 'Ekaterina RYABOVA'), ('Loena HENDRICKX', 'Kailani CRAINE'), ('Loena HENDRICKX', 'Madeline SCHIZAS'), ('Olga MIKUTINA', 'Eva-Lotta KIIBUS'), ('Eliska BREZINOVA', 'Ekaterina KURAKOVA'), ('Wakaba HIGUCHI', 'Olga MIKUTINA'), ('Anna SHCHERBAKOVA', 'Eliska BREZINOVA'), ('Alexandra TRUSOVA', 'Mariah BELL'), ('Eva-Lotta KIIBUS', 'Kailani CRAINE'), ('Mariah BELL', 'Eva-Lotta KIIBUS'), ('Ekaterina RYABOVA', 'Eliska BREZINOVA')}\n",
            "{('Anna SHCHERBAKOVA', 'Kailani CRAINE'), ('Madeline SCHIZAS', 'Wakaba HIGUCHI'), ('Kaori SAKAMOTO', 'Anna SHCHERBAKOVA'), ('Olga MIKUTINA', 'Loena HENDRICKX'), ('Ekaterina KURAKOVA', 'Ekaterina RYABOVA'), ('Mariah BELL', 'Kailani CRAINE'), ('Mariah BELL', 'Anna SHCHERBAKOVA'), ('Olga MIKUTINA', 'Jenni SAARINEN'), ('Alexandra TRUSOVA', 'Loena HENDRICKX'), ('Kailani CRAINE', 'Ekaterina RYABOVA'), ('Karen CHEN', 'Anna SHCHERBAKOVA'), ('Karen CHEN', 'Kailani CRAINE'), ('Wakaba HIGUCHI', 'Nicole SCHOTT'), ('Jenni SAARINEN', 'Alexandra FEIGIN'), ('Olga MIKUTINA', 'Nicole SCHOTT'), ('Kaori SAKAMOTO', 'Olga MIKUTINA'), ('Karen CHEN', 'Alexandra TRUSOVA'), ('Alexandra TRUSOVA', 'Ekaterina RYABOVA'), ('Madeline SCHIZAS', 'Eliska BREZINOVA'), ('Karen CHEN', 'Ekaterina KURAKOVA'), ('Anna SHCHERBAKOVA', 'Wakaba HIGUCHI'), ('Anna SHCHERBAKOVA', 'Alexandra FEIGIN'), ('Kailani CRAINE', 'Nicole SCHOTT'), ('Ekaterina KURAKOVA', 'Alexandra FEIGIN'), ('Anna SHCHERBAKOVA', 'Ekaterina RYABOVA'), ('Eva-Lotta KIIBUS', 'Loena HENDRICKX'), ('Karen CHEN', 'Ekaterina RYABOVA'), ('Anna SHCHERBAKOVA', 'Loena HENDRICKX'), ('Loena HENDRICKX', 'Alexandra FEIGIN'), ('Wakaba HIGUCHI', 'Eliska BREZINOVA'), ('Kaori SAKAMOTO', 'Alexandra TRUSOVA'), ('Alexandra TRUSOVA', 'Anna SHCHERBAKOVA'), ('Nicole SCHOTT', 'Jenni SAARINEN'), ('Anna SHCHERBAKOVA', 'Ekaterina KURAKOVA'), ('Eva-Lotta KIIBUS', 'Alexandra FEIGIN'), ('Eva-Lotta KIIBUS', 'Ekaterina KURAKOVA'), ('Olga MIKUTINA', 'Kailani CRAINE'), ('Karen CHEN', 'Jenni SAARINEN'), ('Kaori SAKAMOTO', 'Mariah BELL'), ('Kaori SAKAMOTO', 'Ekaterina KURAKOVA'), ('Olga MIKUTINA', 'Eliska BREZINOVA'), ('Karen CHEN', 'Eva-Lotta KIIBUS'), ('Loena HENDRICKX', 'Ekaterina KURAKOVA'), ('Ekaterina KURAKOVA', 'Wakaba HIGUCHI'), ('Karen CHEN', 'Loena HENDRICKX'), ('Alexandra TRUSOVA', 'Eliska BREZINOVA'), ('Madeline SCHIZAS', 'Alexandra FEIGIN'), ('Nicole SCHOTT', 'Alexandra FEIGIN'), ('Kaori SAKAMOTO', 'Ekaterina RYABOVA'), ('Loena HENDRICKX', 'Jenni SAARINEN'), ('Ekaterina RYABOVA', 'Alexandra FEIGIN'), ('Karen CHEN', 'Madeline SCHIZAS'), ('Loena HENDRICKX', 'Eliska BREZINOVA'), ('Nicole SCHOTT', 'Eliska BREZINOVA'), ('Karen CHEN', 'Nicole SCHOTT'), ('Kaori SAKAMOTO', 'Eva-Lotta KIIBUS'), ('Mariah BELL', 'Alexandra FEIGIN'), ('Kaori SAKAMOTO', 'Loena HENDRICKX'), ('Eva-Lotta KIIBUS', 'Jenni SAARINEN'), ('Anna SHCHERBAKOVA', 'Eva-Lotta KIIBUS'), ('Eva-Lotta KIIBUS', 'Eliska BREZINOVA'), ('Alexandra TRUSOVA', 'Madeline SCHIZAS'), ('Karen CHEN', 'Mariah BELL'), ('Mariah BELL', 'Madeline SCHIZAS'), ('Olga MIKUTINA', 'Ekaterina KURAKOVA'), ('Wakaba HIGUCHI', 'Alexandra FEIGIN'), ('Kaori SAKAMOTO', 'Alexandra FEIGIN'), ('Olga MIKUTINA', 'Alexandra FEIGIN'), ('Kaori SAKAMOTO', 'Wakaba HIGUCHI'), ('Alexandra TRUSOVA', 'Jenni SAARINEN'), ('Alexandra TRUSOVA', 'Alexandra FEIGIN'), ('Kaori SAKAMOTO', 'Madeline SCHIZAS'), ('Olga MIKUTINA', 'Ekaterina RYABOVA'), ('Mariah BELL', 'Wakaba HIGUCHI'), ('Karen CHEN', 'Eliska BREZINOVA'), ('Karen CHEN', 'Wakaba HIGUCHI'), ('Kailani CRAINE', 'Alexandra FEIGIN'), ('Mariah BELL', 'Eliska BREZINOVA'), ('Alexandra TRUSOVA', 'Eva-Lotta KIIBUS'), ('Ekaterina KURAKOVA', 'Nicole SCHOTT'), ('Kailani CRAINE', 'Jenni SAARINEN'), ('Ekaterina RYABOVA', 'Jenni SAARINEN'), ('Kaori SAKAMOTO', 'Kailani CRAINE'), ('Wakaba HIGUCHI', 'Jenni SAARINEN'), ('Karen CHEN', 'Olga MIKUTINA'), ('Eliska BREZINOVA', 'Alexandra FEIGIN'), ('Kaori SAKAMOTO', 'Eliska BREZINOVA'), ('Karen CHEN', 'Kaori SAKAMOTO'), ('Madeline SCHIZAS', 'Jenni SAARINEN'), ('Madeline SCHIZAS', 'Kailani CRAINE'), ('Alexandra TRUSOVA', 'Olga MIKUTINA'), ('Mariah BELL', 'Olga MIKUTINA'), ('Alexandra TRUSOVA', 'Ekaterina KURAKOVA'), ('Eva-Lotta KIIBUS', 'Wakaba HIGUCHI'), ('Eva-Lotta KIIBUS', 'Ekaterina RYABOVA'), ('Loena HENDRICKX', 'Wakaba HIGUCHI'), ('Kailani CRAINE', 'Eliska BREZINOVA'), ('Madeline SCHIZAS', 'Nicole SCHOTT'), ('Anna SHCHERBAKOVA', 'Olga MIKUTINA'), ('Eva-Lotta KIIBUS', 'Olga MIKUTINA'), ('Eliska BREZINOVA', 'Jenni SAARINEN'), ('Ekaterina RYABOVA', 'Nicole SCHOTT'), ('Kaori SAKAMOTO', 'Jenni SAARINEN'), ('Loena HENDRICKX', 'Ekaterina RYABOVA'), ('Wakaba HIGUCHI', 'Kailani CRAINE'), ('Alexandra TRUSOVA', 'Wakaba HIGUCHI'), ('Ekaterina KURAKOVA', 'Eliska BREZINOVA'), ('Karen CHEN', 'Alexandra FEIGIN'), ('Anna SHCHERBAKOVA', 'Nicole SCHOTT'), ('Ekaterina KURAKOVA', 'Jenni SAARINEN'), ('Mariah BELL', 'Nicole SCHOTT'), ('Olga MIKUTINA', 'Wakaba HIGUCHI'), ('Ekaterina KURAKOVA', 'Kailani CRAINE'), ('Mariah BELL', 'Ekaterina RYABOVA'), ('Anna SHCHERBAKOVA', 'Jenni SAARINEN'), ('Madeline SCHIZAS', 'Ekaterina KURAKOVA'), ('Mariah BELL', 'Jenni SAARINEN'), ('Loena HENDRICKX', 'Nicole SCHOTT'), ('Mariah BELL', 'Loena HENDRICKX'), ('Kaori SAKAMOTO', 'Nicole SCHOTT'), ('Alexandra TRUSOVA', 'Kailani CRAINE'), ('Anna SHCHERBAKOVA', 'Madeline SCHIZAS'), ('Mariah BELL', 'Ekaterina KURAKOVA'), ('Olga MIKUTINA', 'Madeline SCHIZAS'), ('Eva-Lotta KIIBUS', 'Madeline SCHIZAS'), ('Madeline SCHIZAS', 'Ekaterina RYABOVA'), ('Eva-Lotta KIIBUS', 'Nicole SCHOTT'), ('Alexandra TRUSOVA', 'Nicole SCHOTT'), ('Loena HENDRICKX', 'Kailani CRAINE'), ('Wakaba HIGUCHI', 'Ekaterina RYABOVA'), ('Loena HENDRICKX', 'Madeline SCHIZAS'), ('Alexandra TRUSOVA', 'Mariah BELL'), ('Anna SHCHERBAKOVA', 'Eliska BREZINOVA'), ('Eva-Lotta KIIBUS', 'Kailani CRAINE'), ('Mariah BELL', 'Eva-Lotta KIIBUS'), ('Ekaterina RYABOVA', 'Eliska BREZINOVA')}\n",
            "{('Anna SHCHERBAKOVA', 'Kailani CRAINE'), ('Madeline SCHIZAS', 'Eva-Lotta KIIBUS'), ('Ekaterina RYABOVA', 'Kailani CRAINE'), ('Wakaba HIGUCHI', 'Loena HENDRICKX'), ('Mariah BELL', 'Kailani CRAINE'), ('Olga MIKUTINA', 'Jenni SAARINEN'), ('Alexandra TRUSOVA', 'Loena HENDRICKX'), ('Wakaba HIGUCHI', 'Madeline SCHIZAS'), ('Ekaterina RYABOVA', 'Madeline SCHIZAS'), ('Nicole SCHOTT', 'Ekaterina KURAKOVA'), ('Karen CHEN', 'Kailani CRAINE'), ('Wakaba HIGUCHI', 'Nicole SCHOTT'), ('Olga MIKUTINA', 'Nicole SCHOTT'), ('Kaori SAKAMOTO', 'Olga MIKUTINA'), ('Alexandra TRUSOVA', 'Ekaterina RYABOVA'), ('Madeline SCHIZAS', 'Eliska BREZINOVA'), ('Eliska BREZINOVA', 'Kailani CRAINE'), ('Wakaba HIGUCHI', 'Mariah BELL'), ('Anna SHCHERBAKOVA', 'Kaori SAKAMOTO'), ('Karen CHEN', 'Ekaterina KURAKOVA'), ('Anna SHCHERBAKOVA', 'Wakaba HIGUCHI'), ('Anna SHCHERBAKOVA', 'Alexandra FEIGIN'), ('Anna SHCHERBAKOVA', 'Ekaterina RYABOVA'), ('Karen CHEN', 'Ekaterina RYABOVA'), ('Anna SHCHERBAKOVA', 'Loena HENDRICKX'), ('Loena HENDRICKX', 'Alexandra FEIGIN'), ('Wakaba HIGUCHI', 'Eliska BREZINOVA'), ('Kaori SAKAMOTO', 'Alexandra TRUSOVA'), ('Nicole SCHOTT', 'Jenni SAARINEN'), ('Anna SHCHERBAKOVA', 'Ekaterina KURAKOVA'), ('Eva-Lotta KIIBUS', 'Alexandra FEIGIN'), ('Eva-Lotta KIIBUS', 'Ekaterina KURAKOVA'), ('Loena HENDRICKX', 'Mariah BELL'), ('Olga MIKUTINA', 'Kailani CRAINE'), ('Ekaterina RYABOVA', 'Ekaterina KURAKOVA'), ('Karen CHEN', 'Jenni SAARINEN'), ('Kaori SAKAMOTO', 'Mariah BELL'), ('Kaori SAKAMOTO', 'Ekaterina KURAKOVA'), ('Olga MIKUTINA', 'Eliska BREZINOVA'), ('Karen CHEN', 'Eva-Lotta KIIBUS'), ('Loena HENDRICKX', 'Ekaterina KURAKOVA'), ('Karen CHEN', 'Loena HENDRICKX'), ('Anna SHCHERBAKOVA', 'Mariah BELL'), ('Alexandra TRUSOVA', 'Eliska BREZINOVA'), ('Madeline SCHIZAS', 'Alexandra FEIGIN'), ('Jenni SAARINEN', 'Ekaterina KURAKOVA'), ('Nicole SCHOTT', 'Alexandra FEIGIN'), ('Kaori SAKAMOTO', 'Ekaterina RYABOVA'), ('Loena HENDRICKX', 'Jenni SAARINEN'), ('Ekaterina RYABOVA', 'Alexandra FEIGIN'), ('Karen CHEN', 'Madeline SCHIZAS'), ('Loena HENDRICKX', 'Eliska BREZINOVA'), ('Nicole SCHOTT', 'Eliska BREZINOVA'), ('Karen CHEN', 'Nicole SCHOTT'), ('Kaori SAKAMOTO', 'Eva-Lotta KIIBUS'), ('Mariah BELL', 'Alexandra FEIGIN'), ('Kaori SAKAMOTO', 'Loena HENDRICKX'), ('Eva-Lotta KIIBUS', 'Jenni SAARINEN'), ('Anna SHCHERBAKOVA', 'Eva-Lotta KIIBUS'), ('Wakaba HIGUCHI', 'Karen CHEN'), ('Eva-Lotta KIIBUS', 'Eliska BREZINOVA'), ('Alexandra TRUSOVA', 'Madeline SCHIZAS'), ('Karen CHEN', 'Mariah BELL'), ('Ekaterina RYABOVA', 'Eva-Lotta KIIBUS'), ('Mariah BELL', 'Madeline SCHIZAS'), ('Wakaba HIGUCHI', 'Alexandra FEIGIN'), ('Olga MIKUTINA', 'Ekaterina KURAKOVA'), ('Kaori SAKAMOTO', 'Alexandra FEIGIN'), ('Wakaba HIGUCHI', 'Ekaterina KURAKOVA'), ('Kaori SAKAMOTO', 'Wakaba HIGUCHI'), ('Olga MIKUTINA', 'Alexandra FEIGIN'), ('Alexandra TRUSOVA', 'Jenni SAARINEN'), ('Alexandra FEIGIN', 'Ekaterina KURAKOVA'), ('Kailani CRAINE', 'Ekaterina KURAKOVA'), ('Alexandra TRUSOVA', 'Alexandra FEIGIN'), ('Kaori SAKAMOTO', 'Madeline SCHIZAS'), ('Olga MIKUTINA', 'Ekaterina RYABOVA'), ('Karen CHEN', 'Eliska BREZINOVA'), ('Mariah BELL', 'Eliska BREZINOVA'), ('Alexandra TRUSOVA', 'Eva-Lotta KIIBUS'), ('Kailani CRAINE', 'Jenni SAARINEN'), ('Anna SHCHERBAKOVA', 'Alexandra TRUSOVA'), ('Alexandra TRUSOVA', 'Karen CHEN'), ('Ekaterina RYABOVA', 'Jenni SAARINEN'), ('Kaori SAKAMOTO', 'Kailani CRAINE'), ('Wakaba HIGUCHI', 'Jenni SAARINEN'), ('Karen CHEN', 'Olga MIKUTINA'), ('Wakaba HIGUCHI', 'Eva-Lotta KIIBUS'), ('Kaori SAKAMOTO', 'Eliska BREZINOVA'), ('Madeline SCHIZAS', 'Jenni SAARINEN'), ('Madeline SCHIZAS', 'Kailani CRAINE'), ('Alexandra TRUSOVA', 'Olga MIKUTINA'), ('Mariah BELL', 'Olga MIKUTINA'), ('Kaori SAKAMOTO', 'Karen CHEN'), ('Alexandra TRUSOVA', 'Ekaterina KURAKOVA'), ('Alexandra FEIGIN', 'Kailani CRAINE'), ('Alexandra FEIGIN', 'Eliska BREZINOVA'), ('Anna SHCHERBAKOVA', 'Karen CHEN'), ('Madeline SCHIZAS', 'Nicole SCHOTT'), ('Anna SHCHERBAKOVA', 'Olga MIKUTINA'), ('Eliska BREZINOVA', 'Jenni SAARINEN'), ('Ekaterina RYABOVA', 'Nicole SCHOTT'), ('Kaori SAKAMOTO', 'Jenni SAARINEN'), ('Wakaba HIGUCHI', 'Kailani CRAINE'), ('Loena HENDRICKX', 'Ekaterina RYABOVA'), ('Alexandra TRUSOVA', 'Wakaba HIGUCHI'), ('Karen CHEN', 'Alexandra FEIGIN'), ('Anna SHCHERBAKOVA', 'Nicole SCHOTT'), ('Loena HENDRICKX', 'Olga MIKUTINA'), ('Mariah BELL', 'Nicole SCHOTT'), ('Mariah BELL', 'Ekaterina RYABOVA'), ('Anna SHCHERBAKOVA', 'Jenni SAARINEN'), ('Madeline SCHIZAS', 'Ekaterina KURAKOVA'), ('Mariah BELL', 'Jenni SAARINEN'), ('Loena HENDRICKX', 'Nicole SCHOTT'), ('Alexandra FEIGIN', 'Jenni SAARINEN'), ('Kaori SAKAMOTO', 'Nicole SCHOTT'), ('Alexandra TRUSOVA', 'Kailani CRAINE'), ('Anna SHCHERBAKOVA', 'Madeline SCHIZAS'), ('Nicole SCHOTT', 'Kailani CRAINE'), ('Mariah BELL', 'Ekaterina KURAKOVA'), ('Loena HENDRICKX', 'Eva-Lotta KIIBUS'), ('Olga MIKUTINA', 'Madeline SCHIZAS'), ('Eva-Lotta KIIBUS', 'Nicole SCHOTT'), ('Alexandra TRUSOVA', 'Nicole SCHOTT'), ('Wakaba HIGUCHI', 'Ekaterina RYABOVA'), ('Loena HENDRICKX', 'Kailani CRAINE'), ('Loena HENDRICKX', 'Madeline SCHIZAS'), ('Olga MIKUTINA', 'Eva-Lotta KIIBUS'), ('Eliska BREZINOVA', 'Ekaterina KURAKOVA'), ('Wakaba HIGUCHI', 'Olga MIKUTINA'), ('Anna SHCHERBAKOVA', 'Eliska BREZINOVA'), ('Alexandra TRUSOVA', 'Mariah BELL'), ('Eva-Lotta KIIBUS', 'Kailani CRAINE'), ('Mariah BELL', 'Eva-Lotta KIIBUS'), ('Ekaterina RYABOVA', 'Eliska BREZINOVA')}\n",
            "{('Anna SHCHERBAKOVA', 'Kailani CRAINE'), ('Ekaterina RYABOVA', 'Kailani CRAINE'), ('Kaori SAKAMOTO', 'Anna SHCHERBAKOVA'), ('Ekaterina KURAKOVA', 'Ekaterina RYABOVA'), ('Mariah BELL', 'Kailani CRAINE'), ('Mariah BELL', 'Anna SHCHERBAKOVA'), ('Olga MIKUTINA', 'Jenni SAARINEN'), ('Alexandra TRUSOVA', 'Loena HENDRICKX'), ('Wakaba HIGUCHI', 'Madeline SCHIZAS'), ('Karen CHEN', 'Anna SHCHERBAKOVA'), ('Ekaterina RYABOVA', 'Madeline SCHIZAS'), ('Karen CHEN', 'Kailani CRAINE'), ('Wakaba HIGUCHI', 'Nicole SCHOTT'), ('Olga MIKUTINA', 'Nicole SCHOTT'), ('Kaori SAKAMOTO', 'Olga MIKUTINA'), ('Karen CHEN', 'Alexandra TRUSOVA'), ('Alexandra TRUSOVA', 'Ekaterina RYABOVA'), ('Madeline SCHIZAS', 'Eliska BREZINOVA'), ('Karen CHEN', 'Ekaterina KURAKOVA'), ('Anna SHCHERBAKOVA', 'Wakaba HIGUCHI'), ('Anna SHCHERBAKOVA', 'Alexandra FEIGIN'), ('Ekaterina KURAKOVA', 'Alexandra FEIGIN'), ('Anna SHCHERBAKOVA', 'Ekaterina RYABOVA'), ('Karen CHEN', 'Ekaterina RYABOVA'), ('Anna SHCHERBAKOVA', 'Loena HENDRICKX'), ('Loena HENDRICKX', 'Alexandra FEIGIN'), ('Wakaba HIGUCHI', 'Eliska BREZINOVA'), ('Alexandra TRUSOVA', 'Anna SHCHERBAKOVA'), ('Nicole SCHOTT', 'Jenni SAARINEN'), ('Anna SHCHERBAKOVA', 'Ekaterina KURAKOVA'), ('Eva-Lotta KIIBUS', 'Alexandra FEIGIN'), ('Eva-Lotta KIIBUS', 'Ekaterina KURAKOVA'), ('Olga MIKUTINA', 'Kailani CRAINE'), ('Karen CHEN', 'Jenni SAARINEN'), ('Kaori SAKAMOTO', 'Ekaterina KURAKOVA'), ('Olga MIKUTINA', 'Eliska BREZINOVA'), ('Karen CHEN', 'Eva-Lotta KIIBUS'), ('Loena HENDRICKX', 'Ekaterina KURAKOVA'), ('Karen CHEN', 'Loena HENDRICKX'), ('Alexandra TRUSOVA', 'Eliska BREZINOVA'), ('Madeline SCHIZAS', 'Alexandra FEIGIN'), ('Nicole SCHOTT', 'Alexandra FEIGIN'), ('Kaori SAKAMOTO', 'Ekaterina RYABOVA'), ('Loena HENDRICKX', 'Jenni SAARINEN'), ('Ekaterina RYABOVA', 'Alexandra FEIGIN'), ('Karen CHEN', 'Madeline SCHIZAS'), ('Loena HENDRICKX', 'Eliska BREZINOVA'), ('Nicole SCHOTT', 'Eliska BREZINOVA'), ('Karen CHEN', 'Nicole SCHOTT'), ('Kaori SAKAMOTO', 'Eva-Lotta KIIBUS'), ('Mariah BELL', 'Alexandra FEIGIN'), ('Kaori SAKAMOTO', 'Loena HENDRICKX'), ('Eva-Lotta KIIBUS', 'Jenni SAARINEN'), ('Anna SHCHERBAKOVA', 'Eva-Lotta KIIBUS'), ('Eva-Lotta KIIBUS', 'Eliska BREZINOVA'), ('Alexandra TRUSOVA', 'Madeline SCHIZAS'), ('Karen CHEN', 'Mariah BELL'), ('Mariah BELL', 'Madeline SCHIZAS'), ('Wakaba HIGUCHI', 'Alexandra FEIGIN'), ('Olga MIKUTINA', 'Ekaterina KURAKOVA'), ('Kaori SAKAMOTO', 'Alexandra FEIGIN'), ('Wakaba HIGUCHI', 'Ekaterina KURAKOVA'), ('Kaori SAKAMOTO', 'Wakaba HIGUCHI'), ('Olga MIKUTINA', 'Alexandra FEIGIN'), ('Alexandra TRUSOVA', 'Jenni SAARINEN'), ('Alexandra TRUSOVA', 'Alexandra FEIGIN'), ('Kaori SAKAMOTO', 'Madeline SCHIZAS'), ('Olga MIKUTINA', 'Ekaterina RYABOVA'), ('Mariah BELL', 'Wakaba HIGUCHI'), ('Mariah BELL', 'Kaori SAKAMOTO'), ('Karen CHEN', 'Eliska BREZINOVA'), ('Karen CHEN', 'Wakaba HIGUCHI'), ('Kailani CRAINE', 'Alexandra FEIGIN'), ('Mariah BELL', 'Eliska BREZINOVA'), ('Alexandra TRUSOVA', 'Eva-Lotta KIIBUS'), ('Ekaterina KURAKOVA', 'Nicole SCHOTT'), ('Kailani CRAINE', 'Jenni SAARINEN'), ('Ekaterina RYABOVA', 'Jenni SAARINEN'), ('Kaori SAKAMOTO', 'Kailani CRAINE'), ('Wakaba HIGUCHI', 'Jenni SAARINEN'), ('Karen CHEN', 'Olga MIKUTINA'), ('Wakaba HIGUCHI', 'Eva-Lotta KIIBUS'), ('Kaori SAKAMOTO', 'Eliska BREZINOVA'), ('Karen CHEN', 'Kaori SAKAMOTO'), ('Madeline SCHIZAS', 'Jenni SAARINEN'), ('Eliska BREZINOVA', 'Alexandra FEIGIN'), ('Madeline SCHIZAS', 'Kailani CRAINE'), ('Alexandra TRUSOVA', 'Olga MIKUTINA'), ('Mariah BELL', 'Olga MIKUTINA'), ('Alexandra TRUSOVA', 'Ekaterina KURAKOVA'), ('Eva-Lotta KIIBUS', 'Ekaterina RYABOVA'), ('Loena HENDRICKX', 'Wakaba HIGUCHI'), ('Kailani CRAINE', 'Eliska BREZINOVA'), ('Madeline SCHIZAS', 'Nicole SCHOTT'), ('Anna SHCHERBAKOVA', 'Olga MIKUTINA'), ('Eva-Lotta KIIBUS', 'Olga MIKUTINA'), ('Alexandra TRUSOVA', 'Kaori SAKAMOTO'), ('Eliska BREZINOVA', 'Jenni SAARINEN'), ('Ekaterina RYABOVA', 'Nicole SCHOTT'), ('Kaori SAKAMOTO', 'Jenni SAARINEN'), ('Loena HENDRICKX', 'Ekaterina RYABOVA'), ('Wakaba HIGUCHI', 'Kailani CRAINE'), ('Alexandra TRUSOVA', 'Wakaba HIGUCHI'), ('Ekaterina KURAKOVA', 'Eliska BREZINOVA'), ('Karen CHEN', 'Alexandra FEIGIN'), ('Anna SHCHERBAKOVA', 'Nicole SCHOTT'), ('Loena HENDRICKX', 'Olga MIKUTINA'), ('Ekaterina KURAKOVA', 'Jenni SAARINEN'), ('Mariah BELL', 'Nicole SCHOTT'), ('Ekaterina KURAKOVA', 'Kailani CRAINE'), ('Mariah BELL', 'Ekaterina RYABOVA'), ('Anna SHCHERBAKOVA', 'Jenni SAARINEN'), ('Mariah BELL', 'Jenni SAARINEN'), ('Loena HENDRICKX', 'Nicole SCHOTT'), ('Alexandra FEIGIN', 'Jenni SAARINEN'), ('Mariah BELL', 'Loena HENDRICKX'), ('Kaori SAKAMOTO', 'Nicole SCHOTT'), ('Alexandra TRUSOVA', 'Kailani CRAINE'), ('Anna SHCHERBAKOVA', 'Madeline SCHIZAS'), ('Nicole SCHOTT', 'Kailani CRAINE'), ('Mariah BELL', 'Ekaterina KURAKOVA'), ('Loena HENDRICKX', 'Eva-Lotta KIIBUS'), ('Eva-Lotta KIIBUS', 'Madeline SCHIZAS'), ('Olga MIKUTINA', 'Madeline SCHIZAS'), ('Ekaterina KURAKOVA', 'Madeline SCHIZAS'), ('Eva-Lotta KIIBUS', 'Nicole SCHOTT'), ('Alexandra TRUSOVA', 'Nicole SCHOTT'), ('Loena HENDRICKX', 'Kailani CRAINE'), ('Wakaba HIGUCHI', 'Ekaterina RYABOVA'), ('Loena HENDRICKX', 'Madeline SCHIZAS'), ('Wakaba HIGUCHI', 'Olga MIKUTINA'), ('Alexandra TRUSOVA', 'Mariah BELL'), ('Anna SHCHERBAKOVA', 'Eliska BREZINOVA'), ('Eva-Lotta KIIBUS', 'Kailani CRAINE'), ('Mariah BELL', 'Eva-Lotta KIIBUS'), ('Ekaterina RYABOVA', 'Eliska BREZINOVA')}\n",
            "{('Anna SHCHERBAKOVA', 'Kailani CRAINE'), ('Madeline SCHIZAS', 'Eva-Lotta KIIBUS'), ('Ekaterina RYABOVA', 'Kailani CRAINE'), ('Wakaba HIGUCHI', 'Loena HENDRICKX'), ('Mariah BELL', 'Kailani CRAINE'), ('Olga MIKUTINA', 'Jenni SAARINEN'), ('Alexandra TRUSOVA', 'Loena HENDRICKX'), ('Wakaba HIGUCHI', 'Madeline SCHIZAS'), ('Ekaterina RYABOVA', 'Madeline SCHIZAS'), ('Nicole SCHOTT', 'Ekaterina KURAKOVA'), ('Karen CHEN', 'Kailani CRAINE'), ('Wakaba HIGUCHI', 'Nicole SCHOTT'), ('Olga MIKUTINA', 'Nicole SCHOTT'), ('Kaori SAKAMOTO', 'Olga MIKUTINA'), ('Alexandra TRUSOVA', 'Ekaterina RYABOVA'), ('Madeline SCHIZAS', 'Eliska BREZINOVA'), ('Eliska BREZINOVA', 'Kailani CRAINE'), ('Wakaba HIGUCHI', 'Mariah BELL'), ('Anna SHCHERBAKOVA', 'Kaori SAKAMOTO'), ('Karen CHEN', 'Ekaterina KURAKOVA'), ('Anna SHCHERBAKOVA', 'Wakaba HIGUCHI'), ('Anna SHCHERBAKOVA', 'Alexandra FEIGIN'), ('Anna SHCHERBAKOVA', 'Ekaterina RYABOVA'), ('Karen CHEN', 'Ekaterina RYABOVA'), ('Anna SHCHERBAKOVA', 'Loena HENDRICKX'), ('Loena HENDRICKX', 'Alexandra FEIGIN'), ('Wakaba HIGUCHI', 'Eliska BREZINOVA'), ('Kaori SAKAMOTO', 'Alexandra TRUSOVA'), ('Nicole SCHOTT', 'Jenni SAARINEN'), ('Anna SHCHERBAKOVA', 'Ekaterina KURAKOVA'), ('Eva-Lotta KIIBUS', 'Alexandra FEIGIN'), ('Eva-Lotta KIIBUS', 'Ekaterina KURAKOVA'), ('Loena HENDRICKX', 'Mariah BELL'), ('Olga MIKUTINA', 'Kailani CRAINE'), ('Ekaterina RYABOVA', 'Ekaterina KURAKOVA'), ('Karen CHEN', 'Jenni SAARINEN'), ('Kaori SAKAMOTO', 'Mariah BELL'), ('Kaori SAKAMOTO', 'Ekaterina KURAKOVA'), ('Olga MIKUTINA', 'Eliska BREZINOVA'), ('Karen CHEN', 'Eva-Lotta KIIBUS'), ('Loena HENDRICKX', 'Ekaterina KURAKOVA'), ('Karen CHEN', 'Loena HENDRICKX'), ('Anna SHCHERBAKOVA', 'Mariah BELL'), ('Alexandra TRUSOVA', 'Eliska BREZINOVA'), ('Madeline SCHIZAS', 'Alexandra FEIGIN'), ('Jenni SAARINEN', 'Ekaterina KURAKOVA'), ('Nicole SCHOTT', 'Alexandra FEIGIN'), ('Kaori SAKAMOTO', 'Ekaterina RYABOVA'), ('Loena HENDRICKX', 'Jenni SAARINEN'), ('Ekaterina RYABOVA', 'Alexandra FEIGIN'), ('Karen CHEN', 'Madeline SCHIZAS'), ('Loena HENDRICKX', 'Eliska BREZINOVA'), ('Nicole SCHOTT', 'Eliska BREZINOVA'), ('Karen CHEN', 'Nicole SCHOTT'), ('Kaori SAKAMOTO', 'Eva-Lotta KIIBUS'), ('Mariah BELL', 'Alexandra FEIGIN'), ('Kaori SAKAMOTO', 'Loena HENDRICKX'), ('Eva-Lotta KIIBUS', 'Jenni SAARINEN'), ('Anna SHCHERBAKOVA', 'Eva-Lotta KIIBUS'), ('Wakaba HIGUCHI', 'Karen CHEN'), ('Eva-Lotta KIIBUS', 'Eliska BREZINOVA'), ('Alexandra TRUSOVA', 'Madeline SCHIZAS'), ('Karen CHEN', 'Mariah BELL'), ('Ekaterina RYABOVA', 'Eva-Lotta KIIBUS'), ('Mariah BELL', 'Madeline SCHIZAS'), ('Wakaba HIGUCHI', 'Alexandra FEIGIN'), ('Olga MIKUTINA', 'Ekaterina KURAKOVA'), ('Kaori SAKAMOTO', 'Alexandra FEIGIN'), ('Wakaba HIGUCHI', 'Ekaterina KURAKOVA'), ('Kaori SAKAMOTO', 'Wakaba HIGUCHI'), ('Olga MIKUTINA', 'Alexandra FEIGIN'), ('Alexandra TRUSOVA', 'Jenni SAARINEN'), ('Alexandra FEIGIN', 'Ekaterina KURAKOVA'), ('Kailani CRAINE', 'Ekaterina KURAKOVA'), ('Alexandra TRUSOVA', 'Alexandra FEIGIN'), ('Kaori SAKAMOTO', 'Madeline SCHIZAS'), ('Olga MIKUTINA', 'Ekaterina RYABOVA'), ('Karen CHEN', 'Eliska BREZINOVA'), ('Mariah BELL', 'Eliska BREZINOVA'), ('Alexandra TRUSOVA', 'Eva-Lotta KIIBUS'), ('Kailani CRAINE', 'Jenni SAARINEN'), ('Anna SHCHERBAKOVA', 'Alexandra TRUSOVA'), ('Alexandra TRUSOVA', 'Karen CHEN'), ('Ekaterina RYABOVA', 'Jenni SAARINEN'), ('Kaori SAKAMOTO', 'Kailani CRAINE'), ('Wakaba HIGUCHI', 'Jenni SAARINEN'), ('Karen CHEN', 'Olga MIKUTINA'), ('Wakaba HIGUCHI', 'Eva-Lotta KIIBUS'), ('Kaori SAKAMOTO', 'Eliska BREZINOVA'), ('Madeline SCHIZAS', 'Jenni SAARINEN'), ('Madeline SCHIZAS', 'Kailani CRAINE'), ('Alexandra TRUSOVA', 'Olga MIKUTINA'), ('Mariah BELL', 'Olga MIKUTINA'), ('Kaori SAKAMOTO', 'Karen CHEN'), ('Alexandra TRUSOVA', 'Ekaterina KURAKOVA'), ('Alexandra FEIGIN', 'Kailani CRAINE'), ('Alexandra FEIGIN', 'Eliska BREZINOVA'), ('Anna SHCHERBAKOVA', 'Karen CHEN'), ('Madeline SCHIZAS', 'Nicole SCHOTT'), ('Anna SHCHERBAKOVA', 'Olga MIKUTINA'), ('Eliska BREZINOVA', 'Jenni SAARINEN'), ('Ekaterina RYABOVA', 'Nicole SCHOTT'), ('Kaori SAKAMOTO', 'Jenni SAARINEN'), ('Wakaba HIGUCHI', 'Kailani CRAINE'), ('Loena HENDRICKX', 'Ekaterina RYABOVA'), ('Alexandra TRUSOVA', 'Wakaba HIGUCHI'), ('Karen CHEN', 'Alexandra FEIGIN'), ('Anna SHCHERBAKOVA', 'Nicole SCHOTT'), ('Loena HENDRICKX', 'Olga MIKUTINA'), ('Mariah BELL', 'Nicole SCHOTT'), ('Mariah BELL', 'Ekaterina RYABOVA'), ('Anna SHCHERBAKOVA', 'Jenni SAARINEN'), ('Madeline SCHIZAS', 'Ekaterina KURAKOVA'), ('Mariah BELL', 'Jenni SAARINEN'), ('Loena HENDRICKX', 'Nicole SCHOTT'), ('Alexandra FEIGIN', 'Jenni SAARINEN'), ('Kaori SAKAMOTO', 'Nicole SCHOTT'), ('Alexandra TRUSOVA', 'Kailani CRAINE'), ('Anna SHCHERBAKOVA', 'Madeline SCHIZAS'), ('Nicole SCHOTT', 'Kailani CRAINE'), ('Mariah BELL', 'Ekaterina KURAKOVA'), ('Loena HENDRICKX', 'Eva-Lotta KIIBUS'), ('Olga MIKUTINA', 'Madeline SCHIZAS'), ('Eva-Lotta KIIBUS', 'Nicole SCHOTT'), ('Alexandra TRUSOVA', 'Nicole SCHOTT'), ('Wakaba HIGUCHI', 'Ekaterina RYABOVA'), ('Loena HENDRICKX', 'Kailani CRAINE'), ('Loena HENDRICKX', 'Madeline SCHIZAS'), ('Olga MIKUTINA', 'Eva-Lotta KIIBUS'), ('Eliska BREZINOVA', 'Ekaterina KURAKOVA'), ('Wakaba HIGUCHI', 'Olga MIKUTINA'), ('Anna SHCHERBAKOVA', 'Eliska BREZINOVA'), ('Alexandra TRUSOVA', 'Mariah BELL'), ('Eva-Lotta KIIBUS', 'Kailani CRAINE'), ('Mariah BELL', 'Eva-Lotta KIIBUS'), ('Ekaterina RYABOVA', 'Eliska BREZINOVA')}\n",
            "{('Anna SHCHERBAKOVA', 'Kailani CRAINE'), ('Ekaterina RYABOVA', 'Kailani CRAINE'), ('Kaori SAKAMOTO', 'Anna SHCHERBAKOVA'), ('Wakaba HIGUCHI', 'Loena HENDRICKX'), ('Mariah BELL', 'Kailani CRAINE'), ('Mariah BELL', 'Anna SHCHERBAKOVA'), ('Olga MIKUTINA', 'Jenni SAARINEN'), ('Alexandra TRUSOVA', 'Loena HENDRICKX'), ('Wakaba HIGUCHI', 'Madeline SCHIZAS'), ('Karen CHEN', 'Anna SHCHERBAKOVA'), ('Ekaterina RYABOVA', 'Madeline SCHIZAS'), ('Karen CHEN', 'Kailani CRAINE'), ('Wakaba HIGUCHI', 'Nicole SCHOTT'), ('Kaori SAKAMOTO', 'Olga MIKUTINA'), ('Mariah BELL', 'Karen CHEN'), ('Alexandra TRUSOVA', 'Ekaterina RYABOVA'), ('Madeline SCHIZAS', 'Eliska BREZINOVA'), ('Karen CHEN', 'Ekaterina KURAKOVA'), ('Anna SHCHERBAKOVA', 'Wakaba HIGUCHI'), ('Anna SHCHERBAKOVA', 'Alexandra FEIGIN'), ('Ekaterina KURAKOVA', 'Alexandra FEIGIN'), ('Anna SHCHERBAKOVA', 'Ekaterina RYABOVA'), ('Karen CHEN', 'Ekaterina RYABOVA'), ('Anna SHCHERBAKOVA', 'Loena HENDRICKX'), ('Loena HENDRICKX', 'Alexandra FEIGIN'), ('Wakaba HIGUCHI', 'Eliska BREZINOVA'), ('Alexandra TRUSOVA', 'Anna SHCHERBAKOVA'), ('Nicole SCHOTT', 'Jenni SAARINEN'), ('Anna SHCHERBAKOVA', 'Ekaterina KURAKOVA'), ('Eva-Lotta KIIBUS', 'Alexandra FEIGIN'), ('Olga MIKUTINA', 'Kailani CRAINE'), ('Ekaterina RYABOVA', 'Ekaterina KURAKOVA'), ('Karen CHEN', 'Jenni SAARINEN'), ('Kaori SAKAMOTO', 'Ekaterina KURAKOVA'), ('Olga MIKUTINA', 'Eliska BREZINOVA'), ('Karen CHEN', 'Eva-Lotta KIIBUS'), ('Loena HENDRICKX', 'Ekaterina KURAKOVA'), ('Karen CHEN', 'Loena HENDRICKX'), ('Alexandra TRUSOVA', 'Eliska BREZINOVA'), ('Madeline SCHIZAS', 'Alexandra FEIGIN'), ('Nicole SCHOTT', 'Alexandra FEIGIN'), ('Kaori SAKAMOTO', 'Ekaterina RYABOVA'), ('Loena HENDRICKX', 'Jenni SAARINEN'), ('Ekaterina RYABOVA', 'Alexandra FEIGIN'), ('Karen CHEN', 'Madeline SCHIZAS'), ('Loena HENDRICKX', 'Eliska BREZINOVA'), ('Nicole SCHOTT', 'Eliska BREZINOVA'), ('Karen CHEN', 'Nicole SCHOTT'), ('Kaori SAKAMOTO', 'Eva-Lotta KIIBUS'), ('Mariah BELL', 'Alexandra FEIGIN'), ('Kaori SAKAMOTO', 'Loena HENDRICKX'), ('Eva-Lotta KIIBUS', 'Jenni SAARINEN'), ('Anna SHCHERBAKOVA', 'Eva-Lotta KIIBUS'), ('Eva-Lotta KIIBUS', 'Eliska BREZINOVA'), ('Alexandra TRUSOVA', 'Madeline SCHIZAS'), ('Ekaterina RYABOVA', 'Eva-Lotta KIIBUS'), ('Mariah BELL', 'Madeline SCHIZAS'), ('Wakaba HIGUCHI', 'Alexandra FEIGIN'), ('Kaori SAKAMOTO', 'Alexandra FEIGIN'), ('Wakaba HIGUCHI', 'Ekaterina KURAKOVA'), ('Kaori SAKAMOTO', 'Wakaba HIGUCHI'), ('Olga MIKUTINA', 'Alexandra FEIGIN'), ('Alexandra TRUSOVA', 'Jenni SAARINEN'), ('Alexandra TRUSOVA', 'Alexandra FEIGIN'), ('Kaori SAKAMOTO', 'Madeline SCHIZAS'), ('Ekaterina RYABOVA', 'Olga MIKUTINA'), ('Mariah BELL', 'Wakaba HIGUCHI'), ('Mariah BELL', 'Kaori SAKAMOTO'), ('Karen CHEN', 'Eliska BREZINOVA'), ('Karen CHEN', 'Wakaba HIGUCHI'), ('Kailani CRAINE', 'Alexandra FEIGIN'), ('Mariah BELL', 'Eliska BREZINOVA'), ('Alexandra TRUSOVA', 'Eva-Lotta KIIBUS'), ('Ekaterina KURAKOVA', 'Nicole SCHOTT'), ('Kailani CRAINE', 'Jenni SAARINEN'), ('Alexandra TRUSOVA', 'Karen CHEN'), ('Ekaterina RYABOVA', 'Jenni SAARINEN'), ('Kaori SAKAMOTO', 'Kailani CRAINE'), ('Wakaba HIGUCHI', 'Jenni SAARINEN'), ('Karen CHEN', 'Olga MIKUTINA'), ('Wakaba HIGUCHI', 'Eva-Lotta KIIBUS'), ('Kaori SAKAMOTO', 'Eliska BREZINOVA'), ('Karen CHEN', 'Kaori SAKAMOTO'), ('Ekaterina KURAKOVA', 'Eva-Lotta KIIBUS'), ('Madeline SCHIZAS', 'Jenni SAARINEN'), ('Eliska BREZINOVA', 'Alexandra FEIGIN'), ('Madeline SCHIZAS', 'Kailani CRAINE'), ('Alexandra TRUSOVA', 'Olga MIKUTINA'), ('Mariah BELL', 'Olga MIKUTINA'), ('Alexandra TRUSOVA', 'Ekaterina KURAKOVA'), ('Nicole SCHOTT', 'Madeline SCHIZAS'), ('Ekaterina KURAKOVA', 'Olga MIKUTINA'), ('Kailani CRAINE', 'Eliska BREZINOVA'), ('Anna SHCHERBAKOVA', 'Olga MIKUTINA'), ('Eva-Lotta KIIBUS', 'Olga MIKUTINA'), ('Alexandra TRUSOVA', 'Kaori SAKAMOTO'), ('Eliska BREZINOVA', 'Jenni SAARINEN'), ('Ekaterina RYABOVA', 'Nicole SCHOTT'), ('Kaori SAKAMOTO', 'Jenni SAARINEN'), ('Wakaba HIGUCHI', 'Kailani CRAINE'), ('Loena HENDRICKX', 'Ekaterina RYABOVA'), ('Alexandra TRUSOVA', 'Wakaba HIGUCHI'), ('Ekaterina KURAKOVA', 'Eliska BREZINOVA'), ('Karen CHEN', 'Alexandra FEIGIN'), ('Anna SHCHERBAKOVA', 'Nicole SCHOTT'), ('Loena HENDRICKX', 'Olga MIKUTINA'), ('Ekaterina KURAKOVA', 'Jenni SAARINEN'), ('Mariah BELL', 'Nicole SCHOTT'), ('Ekaterina KURAKOVA', 'Kailani CRAINE'), ('Mariah BELL', 'Ekaterina RYABOVA'), ('Anna SHCHERBAKOVA', 'Jenni SAARINEN'), ('Mariah BELL', 'Jenni SAARINEN'), ('Nicole SCHOTT', 'Olga MIKUTINA'), ('Loena HENDRICKX', 'Nicole SCHOTT'), ('Alexandra FEIGIN', 'Jenni SAARINEN'), ('Mariah BELL', 'Loena HENDRICKX'), ('Kaori SAKAMOTO', 'Nicole SCHOTT'), ('Alexandra TRUSOVA', 'Kailani CRAINE'), ('Anna SHCHERBAKOVA', 'Madeline SCHIZAS'), ('Nicole SCHOTT', 'Kailani CRAINE'), ('Mariah BELL', 'Ekaterina KURAKOVA'), ('Loena HENDRICKX', 'Eva-Lotta KIIBUS'), ('Eva-Lotta KIIBUS', 'Madeline SCHIZAS'), ('Olga MIKUTINA', 'Madeline SCHIZAS'), ('Ekaterina KURAKOVA', 'Madeline SCHIZAS'), ('Eva-Lotta KIIBUS', 'Nicole SCHOTT'), ('Alexandra TRUSOVA', 'Nicole SCHOTT'), ('Wakaba HIGUCHI', 'Ekaterina RYABOVA'), ('Loena HENDRICKX', 'Kailani CRAINE'), ('Loena HENDRICKX', 'Madeline SCHIZAS'), ('Wakaba HIGUCHI', 'Olga MIKUTINA'), ('Alexandra TRUSOVA', 'Mariah BELL'), ('Anna SHCHERBAKOVA', 'Eliska BREZINOVA'), ('Eva-Lotta KIIBUS', 'Kailani CRAINE'), ('Mariah BELL', 'Eva-Lotta KIIBUS'), ('Ekaterina RYABOVA', 'Eliska BREZINOVA')}\n",
            "{('Anna SHCHERBAKOVA', 'Kailani CRAINE'), ('Madeline SCHIZAS', 'Eva-Lotta KIIBUS'), ('Ekaterina RYABOVA', 'Kailani CRAINE'), ('Wakaba HIGUCHI', 'Loena HENDRICKX'), ('Mariah BELL', 'Kailani CRAINE'), ('Olga MIKUTINA', 'Jenni SAARINEN'), ('Alexandra TRUSOVA', 'Loena HENDRICKX'), ('Wakaba HIGUCHI', 'Madeline SCHIZAS'), ('Ekaterina RYABOVA', 'Madeline SCHIZAS'), ('Nicole SCHOTT', 'Ekaterina KURAKOVA'), ('Karen CHEN', 'Kailani CRAINE'), ('Wakaba HIGUCHI', 'Nicole SCHOTT'), ('Olga MIKUTINA', 'Nicole SCHOTT'), ('Kaori SAKAMOTO', 'Olga MIKUTINA'), ('Alexandra TRUSOVA', 'Ekaterina RYABOVA'), ('Madeline SCHIZAS', 'Eliska BREZINOVA'), ('Eliska BREZINOVA', 'Kailani CRAINE'), ('Wakaba HIGUCHI', 'Mariah BELL'), ('Anna SHCHERBAKOVA', 'Kaori SAKAMOTO'), ('Karen CHEN', 'Ekaterina KURAKOVA'), ('Anna SHCHERBAKOVA', 'Wakaba HIGUCHI'), ('Anna SHCHERBAKOVA', 'Alexandra FEIGIN'), ('Anna SHCHERBAKOVA', 'Ekaterina RYABOVA'), ('Karen CHEN', 'Ekaterina RYABOVA'), ('Anna SHCHERBAKOVA', 'Loena HENDRICKX'), ('Loena HENDRICKX', 'Alexandra FEIGIN'), ('Wakaba HIGUCHI', 'Eliska BREZINOVA'), ('Kaori SAKAMOTO', 'Alexandra TRUSOVA'), ('Nicole SCHOTT', 'Jenni SAARINEN'), ('Anna SHCHERBAKOVA', 'Ekaterina KURAKOVA'), ('Eva-Lotta KIIBUS', 'Alexandra FEIGIN'), ('Eva-Lotta KIIBUS', 'Ekaterina KURAKOVA'), ('Loena HENDRICKX', 'Mariah BELL'), ('Olga MIKUTINA', 'Kailani CRAINE'), ('Ekaterina RYABOVA', 'Ekaterina KURAKOVA'), ('Karen CHEN', 'Jenni SAARINEN'), ('Kaori SAKAMOTO', 'Mariah BELL'), ('Kaori SAKAMOTO', 'Ekaterina KURAKOVA'), ('Olga MIKUTINA', 'Eliska BREZINOVA'), ('Karen CHEN', 'Eva-Lotta KIIBUS'), ('Loena HENDRICKX', 'Ekaterina KURAKOVA'), ('Karen CHEN', 'Loena HENDRICKX'), ('Anna SHCHERBAKOVA', 'Mariah BELL'), ('Alexandra TRUSOVA', 'Eliska BREZINOVA'), ('Madeline SCHIZAS', 'Alexandra FEIGIN'), ('Jenni SAARINEN', 'Ekaterina KURAKOVA'), ('Nicole SCHOTT', 'Alexandra FEIGIN'), ('Kaori SAKAMOTO', 'Ekaterina RYABOVA'), ('Loena HENDRICKX', 'Jenni SAARINEN'), ('Ekaterina RYABOVA', 'Alexandra FEIGIN'), ('Karen CHEN', 'Madeline SCHIZAS'), ('Loena HENDRICKX', 'Eliska BREZINOVA'), ('Nicole SCHOTT', 'Eliska BREZINOVA'), ('Karen CHEN', 'Nicole SCHOTT'), ('Kaori SAKAMOTO', 'Eva-Lotta KIIBUS'), ('Mariah BELL', 'Alexandra FEIGIN'), ('Kaori SAKAMOTO', 'Loena HENDRICKX'), ('Eva-Lotta KIIBUS', 'Jenni SAARINEN'), ('Anna SHCHERBAKOVA', 'Eva-Lotta KIIBUS'), ('Wakaba HIGUCHI', 'Karen CHEN'), ('Eva-Lotta KIIBUS', 'Eliska BREZINOVA'), ('Alexandra TRUSOVA', 'Madeline SCHIZAS'), ('Karen CHEN', 'Mariah BELL'), ('Ekaterina RYABOVA', 'Eva-Lotta KIIBUS'), ('Mariah BELL', 'Madeline SCHIZAS'), ('Wakaba HIGUCHI', 'Alexandra FEIGIN'), ('Olga MIKUTINA', 'Ekaterina KURAKOVA'), ('Kaori SAKAMOTO', 'Alexandra FEIGIN'), ('Wakaba HIGUCHI', 'Ekaterina KURAKOVA'), ('Kaori SAKAMOTO', 'Wakaba HIGUCHI'), ('Olga MIKUTINA', 'Alexandra FEIGIN'), ('Alexandra TRUSOVA', 'Jenni SAARINEN'), ('Alexandra FEIGIN', 'Ekaterina KURAKOVA'), ('Kailani CRAINE', 'Ekaterina KURAKOVA'), ('Alexandra TRUSOVA', 'Alexandra FEIGIN'), ('Kaori SAKAMOTO', 'Madeline SCHIZAS'), ('Olga MIKUTINA', 'Ekaterina RYABOVA'), ('Karen CHEN', 'Eliska BREZINOVA'), ('Mariah BELL', 'Eliska BREZINOVA'), ('Alexandra TRUSOVA', 'Eva-Lotta KIIBUS'), ('Kailani CRAINE', 'Jenni SAARINEN'), ('Anna SHCHERBAKOVA', 'Alexandra TRUSOVA'), ('Alexandra TRUSOVA', 'Karen CHEN'), ('Ekaterina RYABOVA', 'Jenni SAARINEN'), ('Kaori SAKAMOTO', 'Kailani CRAINE'), ('Wakaba HIGUCHI', 'Jenni SAARINEN'), ('Karen CHEN', 'Olga MIKUTINA'), ('Wakaba HIGUCHI', 'Eva-Lotta KIIBUS'), ('Kaori SAKAMOTO', 'Eliska BREZINOVA'), ('Madeline SCHIZAS', 'Jenni SAARINEN'), ('Madeline SCHIZAS', 'Kailani CRAINE'), ('Alexandra TRUSOVA', 'Olga MIKUTINA'), ('Mariah BELL', 'Olga MIKUTINA'), ('Kaori SAKAMOTO', 'Karen CHEN'), ('Alexandra TRUSOVA', 'Ekaterina KURAKOVA'), ('Alexandra FEIGIN', 'Kailani CRAINE'), ('Alexandra FEIGIN', 'Eliska BREZINOVA'), ('Anna SHCHERBAKOVA', 'Karen CHEN'), ('Madeline SCHIZAS', 'Nicole SCHOTT'), ('Anna SHCHERBAKOVA', 'Olga MIKUTINA'), ('Eliska BREZINOVA', 'Jenni SAARINEN'), ('Ekaterina RYABOVA', 'Nicole SCHOTT'), ('Kaori SAKAMOTO', 'Jenni SAARINEN'), ('Wakaba HIGUCHI', 'Kailani CRAINE'), ('Loena HENDRICKX', 'Ekaterina RYABOVA'), ('Alexandra TRUSOVA', 'Wakaba HIGUCHI'), ('Karen CHEN', 'Alexandra FEIGIN'), ('Anna SHCHERBAKOVA', 'Nicole SCHOTT'), ('Loena HENDRICKX', 'Olga MIKUTINA'), ('Mariah BELL', 'Nicole SCHOTT'), ('Mariah BELL', 'Ekaterina RYABOVA'), ('Anna SHCHERBAKOVA', 'Jenni SAARINEN'), ('Madeline SCHIZAS', 'Ekaterina KURAKOVA'), ('Mariah BELL', 'Jenni SAARINEN'), ('Loena HENDRICKX', 'Nicole SCHOTT'), ('Alexandra FEIGIN', 'Jenni SAARINEN'), ('Kaori SAKAMOTO', 'Nicole SCHOTT'), ('Alexandra TRUSOVA', 'Kailani CRAINE'), ('Anna SHCHERBAKOVA', 'Madeline SCHIZAS'), ('Nicole SCHOTT', 'Kailani CRAINE'), ('Mariah BELL', 'Ekaterina KURAKOVA'), ('Loena HENDRICKX', 'Eva-Lotta KIIBUS'), ('Olga MIKUTINA', 'Madeline SCHIZAS'), ('Eva-Lotta KIIBUS', 'Nicole SCHOTT'), ('Alexandra TRUSOVA', 'Nicole SCHOTT'), ('Wakaba HIGUCHI', 'Ekaterina RYABOVA'), ('Loena HENDRICKX', 'Kailani CRAINE'), ('Loena HENDRICKX', 'Madeline SCHIZAS'), ('Olga MIKUTINA', 'Eva-Lotta KIIBUS'), ('Eliska BREZINOVA', 'Ekaterina KURAKOVA'), ('Wakaba HIGUCHI', 'Olga MIKUTINA'), ('Anna SHCHERBAKOVA', 'Eliska BREZINOVA'), ('Alexandra TRUSOVA', 'Mariah BELL'), ('Eva-Lotta KIIBUS', 'Kailani CRAINE'), ('Mariah BELL', 'Eva-Lotta KIIBUS'), ('Ekaterina RYABOVA', 'Eliska BREZINOVA')}\n",
            "{('Anna SHCHERBAKOVA', 'Kailani CRAINE'), ('Ekaterina RYABOVA', 'Kailani CRAINE'), ('Kaori SAKAMOTO', 'Anna SHCHERBAKOVA'), ('Wakaba HIGUCHI', 'Loena HENDRICKX'), ('Mariah BELL', 'Kailani CRAINE'), ('Mariah BELL', 'Anna SHCHERBAKOVA'), ('Olga MIKUTINA', 'Jenni SAARINEN'), ('Alexandra TRUSOVA', 'Loena HENDRICKX'), ('Wakaba HIGUCHI', 'Madeline SCHIZAS'), ('Karen CHEN', 'Anna SHCHERBAKOVA'), ('Ekaterina RYABOVA', 'Madeline SCHIZAS'), ('Nicole SCHOTT', 'Ekaterina KURAKOVA'), ('Karen CHEN', 'Kailani CRAINE'), ('Wakaba HIGUCHI', 'Nicole SCHOTT'), ('Kaori SAKAMOTO', 'Olga MIKUTINA'), ('Mariah BELL', 'Karen CHEN'), ('Alexandra TRUSOVA', 'Ekaterina RYABOVA'), ('Madeline SCHIZAS', 'Eliska BREZINOVA'), ('Karen CHEN', 'Ekaterina KURAKOVA'), ('Anna SHCHERBAKOVA', 'Alexandra FEIGIN'), ('Ekaterina KURAKOVA', 'Alexandra FEIGIN'), ('Anna SHCHERBAKOVA', 'Ekaterina RYABOVA'), ('Karen CHEN', 'Ekaterina RYABOVA'), ('Anna SHCHERBAKOVA', 'Loena HENDRICKX'), ('Loena HENDRICKX', 'Alexandra FEIGIN'), ('Wakaba HIGUCHI', 'Eliska BREZINOVA'), ('Alexandra TRUSOVA', 'Anna SHCHERBAKOVA'), ('Nicole SCHOTT', 'Jenni SAARINEN'), ('Anna SHCHERBAKOVA', 'Ekaterina KURAKOVA'), ('Eva-Lotta KIIBUS', 'Alexandra FEIGIN'), ('Olga MIKUTINA', 'Kailani CRAINE'), ('Ekaterina RYABOVA', 'Ekaterina KURAKOVA'), ('Karen CHEN', 'Jenni SAARINEN'), ('Kaori SAKAMOTO', 'Ekaterina KURAKOVA'), ('Olga MIKUTINA', 'Eliska BREZINOVA'), ('Karen CHEN', 'Eva-Lotta KIIBUS'), ('Loena HENDRICKX', 'Ekaterina KURAKOVA'), ('Karen CHEN', 'Loena HENDRICKX'), ('Alexandra TRUSOVA', 'Eliska BREZINOVA'), ('Madeline SCHIZAS', 'Alexandra FEIGIN'), ('Nicole SCHOTT', 'Alexandra FEIGIN'), ('Kaori SAKAMOTO', 'Ekaterina RYABOVA'), ('Loena HENDRICKX', 'Jenni SAARINEN'), ('Ekaterina RYABOVA', 'Alexandra FEIGIN'), ('Karen CHEN', 'Madeline SCHIZAS'), ('Wakaba HIGUCHI', 'Anna SHCHERBAKOVA'), ('Loena HENDRICKX', 'Eliska BREZINOVA'), ('Nicole SCHOTT', 'Eliska BREZINOVA'), ('Karen CHEN', 'Nicole SCHOTT'), ('Kaori SAKAMOTO', 'Eva-Lotta KIIBUS'), ('Mariah BELL', 'Alexandra FEIGIN'), ('Kaori SAKAMOTO', 'Loena HENDRICKX'), ('Eva-Lotta KIIBUS', 'Jenni SAARINEN'), ('Anna SHCHERBAKOVA', 'Eva-Lotta KIIBUS'), ('Eva-Lotta KIIBUS', 'Eliska BREZINOVA'), ('Alexandra TRUSOVA', 'Madeline SCHIZAS'), ('Ekaterina RYABOVA', 'Eva-Lotta KIIBUS'), ('Mariah BELL', 'Madeline SCHIZAS'), ('Wakaba HIGUCHI', 'Alexandra FEIGIN'), ('Kaori SAKAMOTO', 'Alexandra FEIGIN'), ('Wakaba HIGUCHI', 'Ekaterina KURAKOVA'), ('Kaori SAKAMOTO', 'Wakaba HIGUCHI'), ('Olga MIKUTINA', 'Alexandra FEIGIN'), ('Alexandra TRUSOVA', 'Jenni SAARINEN'), ('Alexandra TRUSOVA', 'Alexandra FEIGIN'), ('Kaori SAKAMOTO', 'Madeline SCHIZAS'), ('Ekaterina RYABOVA', 'Olga MIKUTINA'), ('Nicole SCHOTT', 'Eva-Lotta KIIBUS'), ('Mariah BELL', 'Wakaba HIGUCHI'), ('Mariah BELL', 'Kaori SAKAMOTO'), ('Karen CHEN', 'Eliska BREZINOVA'), ('Karen CHEN', 'Wakaba HIGUCHI'), ('Kailani CRAINE', 'Alexandra FEIGIN'), ('Mariah BELL', 'Eliska BREZINOVA'), ('Alexandra TRUSOVA', 'Eva-Lotta KIIBUS'), ('Kailani CRAINE', 'Jenni SAARINEN'), ('Alexandra TRUSOVA', 'Karen CHEN'), ('Ekaterina RYABOVA', 'Jenni SAARINEN'), ('Kaori SAKAMOTO', 'Kailani CRAINE'), ('Wakaba HIGUCHI', 'Jenni SAARINEN'), ('Karen CHEN', 'Olga MIKUTINA'), ('Wakaba HIGUCHI', 'Eva-Lotta KIIBUS'), ('Kaori SAKAMOTO', 'Eliska BREZINOVA'), ('Karen CHEN', 'Kaori SAKAMOTO'), ('Ekaterina KURAKOVA', 'Eva-Lotta KIIBUS'), ('Madeline SCHIZAS', 'Jenni SAARINEN'), ('Eliska BREZINOVA', 'Alexandra FEIGIN'), ('Madeline SCHIZAS', 'Kailani CRAINE'), ('Alexandra TRUSOVA', 'Olga MIKUTINA'), ('Mariah BELL', 'Olga MIKUTINA'), ('Alexandra TRUSOVA', 'Ekaterina KURAKOVA'), ('Nicole SCHOTT', 'Madeline SCHIZAS'), ('Ekaterina KURAKOVA', 'Olga MIKUTINA'), ('Kailani CRAINE', 'Eliska BREZINOVA'), ('Anna SHCHERBAKOVA', 'Olga MIKUTINA'), ('Eva-Lotta KIIBUS', 'Olga MIKUTINA'), ('Alexandra TRUSOVA', 'Kaori SAKAMOTO'), ('Eliska BREZINOVA', 'Jenni SAARINEN'), ('Ekaterina RYABOVA', 'Nicole SCHOTT'), ('Kaori SAKAMOTO', 'Jenni SAARINEN'), ('Wakaba HIGUCHI', 'Kailani CRAINE'), ('Loena HENDRICKX', 'Ekaterina RYABOVA'), ('Alexandra TRUSOVA', 'Wakaba HIGUCHI'), ('Ekaterina KURAKOVA', 'Eliska BREZINOVA'), ('Karen CHEN', 'Alexandra FEIGIN'), ('Anna SHCHERBAKOVA', 'Nicole SCHOTT'), ('Loena HENDRICKX', 'Olga MIKUTINA'), ('Ekaterina KURAKOVA', 'Jenni SAARINEN'), ('Mariah BELL', 'Nicole SCHOTT'), ('Ekaterina KURAKOVA', 'Kailani CRAINE'), ('Mariah BELL', 'Ekaterina RYABOVA'), ('Anna SHCHERBAKOVA', 'Jenni SAARINEN'), ('Mariah BELL', 'Jenni SAARINEN'), ('Nicole SCHOTT', 'Olga MIKUTINA'), ('Loena HENDRICKX', 'Nicole SCHOTT'), ('Alexandra FEIGIN', 'Jenni SAARINEN'), ('Mariah BELL', 'Loena HENDRICKX'), ('Kaori SAKAMOTO', 'Nicole SCHOTT'), ('Alexandra TRUSOVA', 'Kailani CRAINE'), ('Anna SHCHERBAKOVA', 'Madeline SCHIZAS'), ('Nicole SCHOTT', 'Kailani CRAINE'), ('Mariah BELL', 'Ekaterina KURAKOVA'), ('Loena HENDRICKX', 'Eva-Lotta KIIBUS'), ('Eva-Lotta KIIBUS', 'Madeline SCHIZAS'), ('Olga MIKUTINA', 'Madeline SCHIZAS'), ('Ekaterina KURAKOVA', 'Madeline SCHIZAS'), ('Alexandra TRUSOVA', 'Nicole SCHOTT'), ('Wakaba HIGUCHI', 'Ekaterina RYABOVA'), ('Loena HENDRICKX', 'Kailani CRAINE'), ('Loena HENDRICKX', 'Madeline SCHIZAS'), ('Wakaba HIGUCHI', 'Olga MIKUTINA'), ('Alexandra TRUSOVA', 'Mariah BELL'), ('Anna SHCHERBAKOVA', 'Eliska BREZINOVA'), ('Eva-Lotta KIIBUS', 'Kailani CRAINE'), ('Mariah BELL', 'Eva-Lotta KIIBUS'), ('Ekaterina RYABOVA', 'Eliska BREZINOVA')}\n",
            "{('Anna SHCHERBAKOVA', 'Kailani CRAINE'), ('Madeline SCHIZAS', 'Eva-Lotta KIIBUS'), ('Ekaterina RYABOVA', 'Kailani CRAINE'), ('Wakaba HIGUCHI', 'Loena HENDRICKX'), ('Mariah BELL', 'Kailani CRAINE'), ('Olga MIKUTINA', 'Jenni SAARINEN'), ('Alexandra TRUSOVA', 'Loena HENDRICKX'), ('Wakaba HIGUCHI', 'Madeline SCHIZAS'), ('Ekaterina RYABOVA', 'Madeline SCHIZAS'), ('Nicole SCHOTT', 'Ekaterina KURAKOVA'), ('Karen CHEN', 'Kailani CRAINE'), ('Wakaba HIGUCHI', 'Nicole SCHOTT'), ('Olga MIKUTINA', 'Nicole SCHOTT'), ('Kaori SAKAMOTO', 'Olga MIKUTINA'), ('Alexandra TRUSOVA', 'Ekaterina RYABOVA'), ('Madeline SCHIZAS', 'Eliska BREZINOVA'), ('Eliska BREZINOVA', 'Kailani CRAINE'), ('Wakaba HIGUCHI', 'Mariah BELL'), ('Anna SHCHERBAKOVA', 'Kaori SAKAMOTO'), ('Karen CHEN', 'Ekaterina KURAKOVA'), ('Anna SHCHERBAKOVA', 'Wakaba HIGUCHI'), ('Anna SHCHERBAKOVA', 'Alexandra FEIGIN'), ('Anna SHCHERBAKOVA', 'Ekaterina RYABOVA'), ('Karen CHEN', 'Ekaterina RYABOVA'), ('Anna SHCHERBAKOVA', 'Loena HENDRICKX'), ('Loena HENDRICKX', 'Alexandra FEIGIN'), ('Wakaba HIGUCHI', 'Eliska BREZINOVA'), ('Kaori SAKAMOTO', 'Alexandra TRUSOVA'), ('Nicole SCHOTT', 'Jenni SAARINEN'), ('Anna SHCHERBAKOVA', 'Ekaterina KURAKOVA'), ('Eva-Lotta KIIBUS', 'Alexandra FEIGIN'), ('Eva-Lotta KIIBUS', 'Ekaterina KURAKOVA'), ('Loena HENDRICKX', 'Mariah BELL'), ('Olga MIKUTINA', 'Kailani CRAINE'), ('Ekaterina RYABOVA', 'Ekaterina KURAKOVA'), ('Karen CHEN', 'Jenni SAARINEN'), ('Kaori SAKAMOTO', 'Mariah BELL'), ('Kaori SAKAMOTO', 'Ekaterina KURAKOVA'), ('Olga MIKUTINA', 'Eliska BREZINOVA'), ('Karen CHEN', 'Eva-Lotta KIIBUS'), ('Loena HENDRICKX', 'Ekaterina KURAKOVA'), ('Karen CHEN', 'Loena HENDRICKX'), ('Anna SHCHERBAKOVA', 'Mariah BELL'), ('Alexandra TRUSOVA', 'Eliska BREZINOVA'), ('Madeline SCHIZAS', 'Alexandra FEIGIN'), ('Jenni SAARINEN', 'Ekaterina KURAKOVA'), ('Nicole SCHOTT', 'Alexandra FEIGIN'), ('Kaori SAKAMOTO', 'Ekaterina RYABOVA'), ('Loena HENDRICKX', 'Jenni SAARINEN'), ('Ekaterina RYABOVA', 'Alexandra FEIGIN'), ('Karen CHEN', 'Madeline SCHIZAS'), ('Loena HENDRICKX', 'Eliska BREZINOVA'), ('Nicole SCHOTT', 'Eliska BREZINOVA'), ('Karen CHEN', 'Nicole SCHOTT'), ('Kaori SAKAMOTO', 'Eva-Lotta KIIBUS'), ('Mariah BELL', 'Alexandra FEIGIN'), ('Kaori SAKAMOTO', 'Loena HENDRICKX'), ('Eva-Lotta KIIBUS', 'Jenni SAARINEN'), ('Anna SHCHERBAKOVA', 'Eva-Lotta KIIBUS'), ('Wakaba HIGUCHI', 'Karen CHEN'), ('Eva-Lotta KIIBUS', 'Eliska BREZINOVA'), ('Alexandra TRUSOVA', 'Madeline SCHIZAS'), ('Karen CHEN', 'Mariah BELL'), ('Ekaterina RYABOVA', 'Eva-Lotta KIIBUS'), ('Mariah BELL', 'Madeline SCHIZAS'), ('Wakaba HIGUCHI', 'Alexandra FEIGIN'), ('Olga MIKUTINA', 'Ekaterina KURAKOVA'), ('Kaori SAKAMOTO', 'Alexandra FEIGIN'), ('Wakaba HIGUCHI', 'Ekaterina KURAKOVA'), ('Kaori SAKAMOTO', 'Wakaba HIGUCHI'), ('Olga MIKUTINA', 'Alexandra FEIGIN'), ('Alexandra TRUSOVA', 'Jenni SAARINEN'), ('Alexandra FEIGIN', 'Ekaterina KURAKOVA'), ('Kailani CRAINE', 'Ekaterina KURAKOVA'), ('Alexandra TRUSOVA', 'Alexandra FEIGIN'), ('Kaori SAKAMOTO', 'Madeline SCHIZAS'), ('Olga MIKUTINA', 'Ekaterina RYABOVA'), ('Karen CHEN', 'Eliska BREZINOVA'), ('Mariah BELL', 'Eliska BREZINOVA'), ('Alexandra TRUSOVA', 'Eva-Lotta KIIBUS'), ('Kailani CRAINE', 'Jenni SAARINEN'), ('Anna SHCHERBAKOVA', 'Alexandra TRUSOVA'), ('Alexandra TRUSOVA', 'Karen CHEN'), ('Ekaterina RYABOVA', 'Jenni SAARINEN'), ('Kaori SAKAMOTO', 'Kailani CRAINE'), ('Wakaba HIGUCHI', 'Jenni SAARINEN'), ('Karen CHEN', 'Olga MIKUTINA'), ('Wakaba HIGUCHI', 'Eva-Lotta KIIBUS'), ('Kaori SAKAMOTO', 'Eliska BREZINOVA'), ('Madeline SCHIZAS', 'Jenni SAARINEN'), ('Madeline SCHIZAS', 'Kailani CRAINE'), ('Alexandra TRUSOVA', 'Olga MIKUTINA'), ('Mariah BELL', 'Olga MIKUTINA'), ('Kaori SAKAMOTO', 'Karen CHEN'), ('Alexandra TRUSOVA', 'Ekaterina KURAKOVA'), ('Alexandra FEIGIN', 'Kailani CRAINE'), ('Alexandra FEIGIN', 'Eliska BREZINOVA'), ('Anna SHCHERBAKOVA', 'Karen CHEN'), ('Madeline SCHIZAS', 'Nicole SCHOTT'), ('Anna SHCHERBAKOVA', 'Olga MIKUTINA'), ('Eliska BREZINOVA', 'Jenni SAARINEN'), ('Ekaterina RYABOVA', 'Nicole SCHOTT'), ('Kaori SAKAMOTO', 'Jenni SAARINEN'), ('Wakaba HIGUCHI', 'Kailani CRAINE'), ('Loena HENDRICKX', 'Ekaterina RYABOVA'), ('Alexandra TRUSOVA', 'Wakaba HIGUCHI'), ('Karen CHEN', 'Alexandra FEIGIN'), ('Anna SHCHERBAKOVA', 'Nicole SCHOTT'), ('Loena HENDRICKX', 'Olga MIKUTINA'), ('Mariah BELL', 'Nicole SCHOTT'), ('Mariah BELL', 'Ekaterina RYABOVA'), ('Anna SHCHERBAKOVA', 'Jenni SAARINEN'), ('Madeline SCHIZAS', 'Ekaterina KURAKOVA'), ('Mariah BELL', 'Jenni SAARINEN'), ('Loena HENDRICKX', 'Nicole SCHOTT'), ('Alexandra FEIGIN', 'Jenni SAARINEN'), ('Kaori SAKAMOTO', 'Nicole SCHOTT'), ('Alexandra TRUSOVA', 'Kailani CRAINE'), ('Anna SHCHERBAKOVA', 'Madeline SCHIZAS'), ('Nicole SCHOTT', 'Kailani CRAINE'), ('Mariah BELL', 'Ekaterina KURAKOVA'), ('Loena HENDRICKX', 'Eva-Lotta KIIBUS'), ('Olga MIKUTINA', 'Madeline SCHIZAS'), ('Eva-Lotta KIIBUS', 'Nicole SCHOTT'), ('Alexandra TRUSOVA', 'Nicole SCHOTT'), ('Wakaba HIGUCHI', 'Ekaterina RYABOVA'), ('Loena HENDRICKX', 'Kailani CRAINE'), ('Loena HENDRICKX', 'Madeline SCHIZAS'), ('Olga MIKUTINA', 'Eva-Lotta KIIBUS'), ('Eliska BREZINOVA', 'Ekaterina KURAKOVA'), ('Wakaba HIGUCHI', 'Olga MIKUTINA'), ('Anna SHCHERBAKOVA', 'Eliska BREZINOVA'), ('Alexandra TRUSOVA', 'Mariah BELL'), ('Eva-Lotta KIIBUS', 'Kailani CRAINE'), ('Mariah BELL', 'Eva-Lotta KIIBUS'), ('Ekaterina RYABOVA', 'Eliska BREZINOVA')}\n",
            "{('Anna SHCHERBAKOVA', 'Kailani CRAINE'), ('Ekaterina RYABOVA', 'Kailani CRAINE'), ('Kaori SAKAMOTO', 'Anna SHCHERBAKOVA'), ('Wakaba HIGUCHI', 'Loena HENDRICKX'), ('Mariah BELL', 'Kailani CRAINE'), ('Mariah BELL', 'Anna SHCHERBAKOVA'), ('Olga MIKUTINA', 'Jenni SAARINEN'), ('Alexandra TRUSOVA', 'Loena HENDRICKX'), ('Wakaba HIGUCHI', 'Madeline SCHIZAS'), ('Karen CHEN', 'Anna SHCHERBAKOVA'), ('Ekaterina RYABOVA', 'Madeline SCHIZAS'), ('Nicole SCHOTT', 'Ekaterina KURAKOVA'), ('Karen CHEN', 'Kailani CRAINE'), ('Wakaba HIGUCHI', 'Nicole SCHOTT'), ('Kaori SAKAMOTO', 'Olga MIKUTINA'), ('Mariah BELL', 'Karen CHEN'), ('Alexandra TRUSOVA', 'Ekaterina RYABOVA'), ('Madeline SCHIZAS', 'Eliska BREZINOVA'), ('Karen CHEN', 'Ekaterina KURAKOVA'), ('Anna SHCHERBAKOVA', 'Alexandra FEIGIN'), ('Ekaterina KURAKOVA', 'Alexandra FEIGIN'), ('Anna SHCHERBAKOVA', 'Ekaterina RYABOVA'), ('Karen CHEN', 'Ekaterina RYABOVA'), ('Anna SHCHERBAKOVA', 'Loena HENDRICKX'), ('Loena HENDRICKX', 'Alexandra FEIGIN'), ('Wakaba HIGUCHI', 'Eliska BREZINOVA'), ('Alexandra TRUSOVA', 'Anna SHCHERBAKOVA'), ('Nicole SCHOTT', 'Jenni SAARINEN'), ('Anna SHCHERBAKOVA', 'Ekaterina KURAKOVA'), ('Eva-Lotta KIIBUS', 'Alexandra FEIGIN'), ('Olga MIKUTINA', 'Kailani CRAINE'), ('Ekaterina RYABOVA', 'Ekaterina KURAKOVA'), ('Karen CHEN', 'Jenni SAARINEN'), ('Kaori SAKAMOTO', 'Ekaterina KURAKOVA'), ('Olga MIKUTINA', 'Eliska BREZINOVA'), ('Karen CHEN', 'Eva-Lotta KIIBUS'), ('Loena HENDRICKX', 'Ekaterina KURAKOVA'), ('Karen CHEN', 'Loena HENDRICKX'), ('Alexandra TRUSOVA', 'Eliska BREZINOVA'), ('Madeline SCHIZAS', 'Alexandra FEIGIN'), ('Nicole SCHOTT', 'Alexandra FEIGIN'), ('Kaori SAKAMOTO', 'Ekaterina RYABOVA'), ('Loena HENDRICKX', 'Jenni SAARINEN'), ('Ekaterina RYABOVA', 'Alexandra FEIGIN'), ('Karen CHEN', 'Madeline SCHIZAS'), ('Wakaba HIGUCHI', 'Anna SHCHERBAKOVA'), ('Loena HENDRICKX', 'Eliska BREZINOVA'), ('Nicole SCHOTT', 'Eliska BREZINOVA'), ('Karen CHEN', 'Nicole SCHOTT'), ('Kaori SAKAMOTO', 'Eva-Lotta KIIBUS'), ('Mariah BELL', 'Alexandra FEIGIN'), ('Kaori SAKAMOTO', 'Loena HENDRICKX'), ('Eva-Lotta KIIBUS', 'Jenni SAARINEN'), ('Anna SHCHERBAKOVA', 'Eva-Lotta KIIBUS'), ('Ekaterina RYABOVA', 'Loena HENDRICKX'), ('Eva-Lotta KIIBUS', 'Eliska BREZINOVA'), ('Alexandra TRUSOVA', 'Madeline SCHIZAS'), ('Ekaterina RYABOVA', 'Eva-Lotta KIIBUS'), ('Mariah BELL', 'Madeline SCHIZAS'), ('Wakaba HIGUCHI', 'Alexandra FEIGIN'), ('Kaori SAKAMOTO', 'Alexandra FEIGIN'), ('Wakaba HIGUCHI', 'Ekaterina KURAKOVA'), ('Kaori SAKAMOTO', 'Wakaba HIGUCHI'), ('Olga MIKUTINA', 'Alexandra FEIGIN'), ('Alexandra TRUSOVA', 'Jenni SAARINEN'), ('Alexandra TRUSOVA', 'Alexandra FEIGIN'), ('Kaori SAKAMOTO', 'Madeline SCHIZAS'), ('Ekaterina RYABOVA', 'Olga MIKUTINA'), ('Nicole SCHOTT', 'Eva-Lotta KIIBUS'), ('Mariah BELL', 'Wakaba HIGUCHI'), ('Mariah BELL', 'Kaori SAKAMOTO'), ('Karen CHEN', 'Eliska BREZINOVA'), ('Karen CHEN', 'Wakaba HIGUCHI'), ('Kailani CRAINE', 'Alexandra FEIGIN'), ('Mariah BELL', 'Eliska BREZINOVA'), ('Alexandra TRUSOVA', 'Eva-Lotta KIIBUS'), ('Kailani CRAINE', 'Jenni SAARINEN'), ('Alexandra TRUSOVA', 'Karen CHEN'), ('Ekaterina RYABOVA', 'Jenni SAARINEN'), ('Kaori SAKAMOTO', 'Kailani CRAINE'), ('Wakaba HIGUCHI', 'Jenni SAARINEN'), ('Karen CHEN', 'Olga MIKUTINA'), ('Wakaba HIGUCHI', 'Eva-Lotta KIIBUS'), ('Kaori SAKAMOTO', 'Eliska BREZINOVA'), ('Ekaterina KURAKOVA', 'Eva-Lotta KIIBUS'), ('Madeline SCHIZAS', 'Jenni SAARINEN'), ('Eliska BREZINOVA', 'Alexandra FEIGIN'), ('Madeline SCHIZAS', 'Kailani CRAINE'), ('Alexandra TRUSOVA', 'Olga MIKUTINA'), ('Mariah BELL', 'Olga MIKUTINA'), ('Kaori SAKAMOTO', 'Karen CHEN'), ('Alexandra TRUSOVA', 'Ekaterina KURAKOVA'), ('Nicole SCHOTT', 'Madeline SCHIZAS'), ('Ekaterina KURAKOVA', 'Olga MIKUTINA'), ('Kailani CRAINE', 'Eliska BREZINOVA'), ('Anna SHCHERBAKOVA', 'Olga MIKUTINA'), ('Eva-Lotta KIIBUS', 'Olga MIKUTINA'), ('Alexandra TRUSOVA', 'Kaori SAKAMOTO'), ('Eliska BREZINOVA', 'Jenni SAARINEN'), ('Ekaterina RYABOVA', 'Nicole SCHOTT'), ('Kaori SAKAMOTO', 'Jenni SAARINEN'), ('Wakaba HIGUCHI', 'Kailani CRAINE'), ('Alexandra TRUSOVA', 'Wakaba HIGUCHI'), ('Ekaterina KURAKOVA', 'Eliska BREZINOVA'), ('Karen CHEN', 'Alexandra FEIGIN'), ('Anna SHCHERBAKOVA', 'Nicole SCHOTT'), ('Loena HENDRICKX', 'Olga MIKUTINA'), ('Ekaterina KURAKOVA', 'Jenni SAARINEN'), ('Mariah BELL', 'Nicole SCHOTT'), ('Ekaterina KURAKOVA', 'Kailani CRAINE'), ('Mariah BELL', 'Ekaterina RYABOVA'), ('Anna SHCHERBAKOVA', 'Jenni SAARINEN'), ('Mariah BELL', 'Jenni SAARINEN'), ('Nicole SCHOTT', 'Olga MIKUTINA'), ('Loena HENDRICKX', 'Nicole SCHOTT'), ('Alexandra FEIGIN', 'Jenni SAARINEN'), ('Mariah BELL', 'Loena HENDRICKX'), ('Kaori SAKAMOTO', 'Nicole SCHOTT'), ('Alexandra TRUSOVA', 'Kailani CRAINE'), ('Anna SHCHERBAKOVA', 'Madeline SCHIZAS'), ('Nicole SCHOTT', 'Kailani CRAINE'), ('Mariah BELL', 'Ekaterina KURAKOVA'), ('Loena HENDRICKX', 'Eva-Lotta KIIBUS'), ('Eva-Lotta KIIBUS', 'Madeline SCHIZAS'), ('Olga MIKUTINA', 'Madeline SCHIZAS'), ('Ekaterina KURAKOVA', 'Madeline SCHIZAS'), ('Alexandra TRUSOVA', 'Nicole SCHOTT'), ('Wakaba HIGUCHI', 'Ekaterina RYABOVA'), ('Loena HENDRICKX', 'Kailani CRAINE'), ('Loena HENDRICKX', 'Madeline SCHIZAS'), ('Wakaba HIGUCHI', 'Olga MIKUTINA'), ('Alexandra TRUSOVA', 'Mariah BELL'), ('Anna SHCHERBAKOVA', 'Eliska BREZINOVA'), ('Eva-Lotta KIIBUS', 'Kailani CRAINE'), ('Mariah BELL', 'Eva-Lotta KIIBUS'), ('Ekaterina RYABOVA', 'Eliska BREZINOVA')}\n",
            "{('Anna SHCHERBAKOVA', 'Kailani CRAINE'), ('Madeline SCHIZAS', 'Eva-Lotta KIIBUS'), ('Ekaterina RYABOVA', 'Kailani CRAINE'), ('Wakaba HIGUCHI', 'Loena HENDRICKX'), ('Mariah BELL', 'Kailani CRAINE'), ('Olga MIKUTINA', 'Jenni SAARINEN'), ('Alexandra TRUSOVA', 'Loena HENDRICKX'), ('Wakaba HIGUCHI', 'Madeline SCHIZAS'), ('Ekaterina RYABOVA', 'Madeline SCHIZAS'), ('Nicole SCHOTT', 'Ekaterina KURAKOVA'), ('Karen CHEN', 'Kailani CRAINE'), ('Wakaba HIGUCHI', 'Nicole SCHOTT'), ('Olga MIKUTINA', 'Nicole SCHOTT'), ('Kaori SAKAMOTO', 'Olga MIKUTINA'), ('Alexandra TRUSOVA', 'Ekaterina RYABOVA'), ('Madeline SCHIZAS', 'Eliska BREZINOVA'), ('Eliska BREZINOVA', 'Kailani CRAINE'), ('Wakaba HIGUCHI', 'Mariah BELL'), ('Anna SHCHERBAKOVA', 'Kaori SAKAMOTO'), ('Karen CHEN', 'Ekaterina KURAKOVA'), ('Anna SHCHERBAKOVA', 'Wakaba HIGUCHI'), ('Anna SHCHERBAKOVA', 'Alexandra FEIGIN'), ('Anna SHCHERBAKOVA', 'Ekaterina RYABOVA'), ('Karen CHEN', 'Ekaterina RYABOVA'), ('Anna SHCHERBAKOVA', 'Loena HENDRICKX'), ('Loena HENDRICKX', 'Alexandra FEIGIN'), ('Wakaba HIGUCHI', 'Eliska BREZINOVA'), ('Kaori SAKAMOTO', 'Alexandra TRUSOVA'), ('Nicole SCHOTT', 'Jenni SAARINEN'), ('Anna SHCHERBAKOVA', 'Ekaterina KURAKOVA'), ('Eva-Lotta KIIBUS', 'Alexandra FEIGIN'), ('Eva-Lotta KIIBUS', 'Ekaterina KURAKOVA'), ('Loena HENDRICKX', 'Mariah BELL'), ('Olga MIKUTINA', 'Kailani CRAINE'), ('Ekaterina RYABOVA', 'Ekaterina KURAKOVA'), ('Karen CHEN', 'Jenni SAARINEN'), ('Kaori SAKAMOTO', 'Mariah BELL'), ('Kaori SAKAMOTO', 'Ekaterina KURAKOVA'), ('Olga MIKUTINA', 'Eliska BREZINOVA'), ('Karen CHEN', 'Eva-Lotta KIIBUS'), ('Loena HENDRICKX', 'Ekaterina KURAKOVA'), ('Karen CHEN', 'Loena HENDRICKX'), ('Anna SHCHERBAKOVA', 'Mariah BELL'), ('Alexandra TRUSOVA', 'Eliska BREZINOVA'), ('Madeline SCHIZAS', 'Alexandra FEIGIN'), ('Jenni SAARINEN', 'Ekaterina KURAKOVA'), ('Nicole SCHOTT', 'Alexandra FEIGIN'), ('Kaori SAKAMOTO', 'Ekaterina RYABOVA'), ('Loena HENDRICKX', 'Jenni SAARINEN'), ('Ekaterina RYABOVA', 'Alexandra FEIGIN'), ('Karen CHEN', 'Madeline SCHIZAS'), ('Loena HENDRICKX', 'Eliska BREZINOVA'), ('Nicole SCHOTT', 'Eliska BREZINOVA'), ('Karen CHEN', 'Nicole SCHOTT'), ('Kaori SAKAMOTO', 'Eva-Lotta KIIBUS'), ('Mariah BELL', 'Alexandra FEIGIN'), ('Kaori SAKAMOTO', 'Loena HENDRICKX'), ('Eva-Lotta KIIBUS', 'Jenni SAARINEN'), ('Anna SHCHERBAKOVA', 'Eva-Lotta KIIBUS'), ('Wakaba HIGUCHI', 'Karen CHEN'), ('Eva-Lotta KIIBUS', 'Eliska BREZINOVA'), ('Alexandra TRUSOVA', 'Madeline SCHIZAS'), ('Karen CHEN', 'Mariah BELL'), ('Ekaterina RYABOVA', 'Eva-Lotta KIIBUS'), ('Mariah BELL', 'Madeline SCHIZAS'), ('Wakaba HIGUCHI', 'Alexandra FEIGIN'), ('Olga MIKUTINA', 'Ekaterina KURAKOVA'), ('Kaori SAKAMOTO', 'Alexandra FEIGIN'), ('Wakaba HIGUCHI', 'Ekaterina KURAKOVA'), ('Kaori SAKAMOTO', 'Wakaba HIGUCHI'), ('Olga MIKUTINA', 'Alexandra FEIGIN'), ('Alexandra TRUSOVA', 'Jenni SAARINEN'), ('Alexandra FEIGIN', 'Ekaterina KURAKOVA'), ('Kailani CRAINE', 'Ekaterina KURAKOVA'), ('Alexandra TRUSOVA', 'Alexandra FEIGIN'), ('Kaori SAKAMOTO', 'Madeline SCHIZAS'), ('Olga MIKUTINA', 'Ekaterina RYABOVA'), ('Karen CHEN', 'Eliska BREZINOVA'), ('Mariah BELL', 'Eliska BREZINOVA'), ('Alexandra TRUSOVA', 'Eva-Lotta KIIBUS'), ('Kailani CRAINE', 'Jenni SAARINEN'), ('Anna SHCHERBAKOVA', 'Alexandra TRUSOVA'), ('Alexandra TRUSOVA', 'Karen CHEN'), ('Ekaterina RYABOVA', 'Jenni SAARINEN'), ('Kaori SAKAMOTO', 'Kailani CRAINE'), ('Wakaba HIGUCHI', 'Jenni SAARINEN'), ('Karen CHEN', 'Olga MIKUTINA'), ('Wakaba HIGUCHI', 'Eva-Lotta KIIBUS'), ('Kaori SAKAMOTO', 'Eliska BREZINOVA'), ('Madeline SCHIZAS', 'Jenni SAARINEN'), ('Madeline SCHIZAS', 'Kailani CRAINE'), ('Alexandra TRUSOVA', 'Olga MIKUTINA'), ('Mariah BELL', 'Olga MIKUTINA'), ('Kaori SAKAMOTO', 'Karen CHEN'), ('Alexandra TRUSOVA', 'Ekaterina KURAKOVA'), ('Alexandra FEIGIN', 'Kailani CRAINE'), ('Alexandra FEIGIN', 'Eliska BREZINOVA'), ('Anna SHCHERBAKOVA', 'Karen CHEN'), ('Madeline SCHIZAS', 'Nicole SCHOTT'), ('Anna SHCHERBAKOVA', 'Olga MIKUTINA'), ('Eliska BREZINOVA', 'Jenni SAARINEN'), ('Ekaterina RYABOVA', 'Nicole SCHOTT'), ('Kaori SAKAMOTO', 'Jenni SAARINEN'), ('Wakaba HIGUCHI', 'Kailani CRAINE'), ('Loena HENDRICKX', 'Ekaterina RYABOVA'), ('Alexandra TRUSOVA', 'Wakaba HIGUCHI'), ('Karen CHEN', 'Alexandra FEIGIN'), ('Anna SHCHERBAKOVA', 'Nicole SCHOTT'), ('Loena HENDRICKX', 'Olga MIKUTINA'), ('Mariah BELL', 'Nicole SCHOTT'), ('Mariah BELL', 'Ekaterina RYABOVA'), ('Anna SHCHERBAKOVA', 'Jenni SAARINEN'), ('Madeline SCHIZAS', 'Ekaterina KURAKOVA'), ('Mariah BELL', 'Jenni SAARINEN'), ('Loena HENDRICKX', 'Nicole SCHOTT'), ('Alexandra FEIGIN', 'Jenni SAARINEN'), ('Kaori SAKAMOTO', 'Nicole SCHOTT'), ('Alexandra TRUSOVA', 'Kailani CRAINE'), ('Anna SHCHERBAKOVA', 'Madeline SCHIZAS'), ('Nicole SCHOTT', 'Kailani CRAINE'), ('Mariah BELL', 'Ekaterina KURAKOVA'), ('Loena HENDRICKX', 'Eva-Lotta KIIBUS'), ('Olga MIKUTINA', 'Madeline SCHIZAS'), ('Eva-Lotta KIIBUS', 'Nicole SCHOTT'), ('Alexandra TRUSOVA', 'Nicole SCHOTT'), ('Wakaba HIGUCHI', 'Ekaterina RYABOVA'), ('Loena HENDRICKX', 'Kailani CRAINE'), ('Loena HENDRICKX', 'Madeline SCHIZAS'), ('Olga MIKUTINA', 'Eva-Lotta KIIBUS'), ('Eliska BREZINOVA', 'Ekaterina KURAKOVA'), ('Wakaba HIGUCHI', 'Olga MIKUTINA'), ('Anna SHCHERBAKOVA', 'Eliska BREZINOVA'), ('Alexandra TRUSOVA', 'Mariah BELL'), ('Eva-Lotta KIIBUS', 'Kailani CRAINE'), ('Mariah BELL', 'Eva-Lotta KIIBUS'), ('Ekaterina RYABOVA', 'Eliska BREZINOVA')}\n",
            "{('Anna SHCHERBAKOVA', 'Kailani CRAINE'), ('Ekaterina RYABOVA', 'Kailani CRAINE'), ('Kaori SAKAMOTO', 'Anna SHCHERBAKOVA'), ('Wakaba HIGUCHI', 'Loena HENDRICKX'), ('Mariah BELL', 'Kailani CRAINE'), ('Mariah BELL', 'Anna SHCHERBAKOVA'), ('Olga MIKUTINA', 'Jenni SAARINEN'), ('Alexandra TRUSOVA', 'Loena HENDRICKX'), ('Wakaba HIGUCHI', 'Madeline SCHIZAS'), ('Karen CHEN', 'Anna SHCHERBAKOVA'), ('Ekaterina RYABOVA', 'Madeline SCHIZAS'), ('Nicole SCHOTT', 'Ekaterina KURAKOVA'), ('Karen CHEN', 'Kailani CRAINE'), ('Wakaba HIGUCHI', 'Nicole SCHOTT'), ('Kaori SAKAMOTO', 'Olga MIKUTINA'), ('Mariah BELL', 'Karen CHEN'), ('Alexandra TRUSOVA', 'Ekaterina RYABOVA'), ('Madeline SCHIZAS', 'Eliska BREZINOVA'), ('Karen CHEN', 'Ekaterina KURAKOVA'), ('Anna SHCHERBAKOVA', 'Alexandra FEIGIN'), ('Ekaterina KURAKOVA', 'Alexandra FEIGIN'), ('Anna SHCHERBAKOVA', 'Ekaterina RYABOVA'), ('Karen CHEN', 'Ekaterina RYABOVA'), ('Anna SHCHERBAKOVA', 'Loena HENDRICKX'), ('Loena HENDRICKX', 'Alexandra FEIGIN'), ('Wakaba HIGUCHI', 'Eliska BREZINOVA'), ('Alexandra TRUSOVA', 'Anna SHCHERBAKOVA'), ('Nicole SCHOTT', 'Jenni SAARINEN'), ('Anna SHCHERBAKOVA', 'Ekaterina KURAKOVA'), ('Eva-Lotta KIIBUS', 'Alexandra FEIGIN'), ('Olga MIKUTINA', 'Kailani CRAINE'), ('Ekaterina RYABOVA', 'Ekaterina KURAKOVA'), ('Karen CHEN', 'Jenni SAARINEN'), ('Kaori SAKAMOTO', 'Ekaterina KURAKOVA'), ('Olga MIKUTINA', 'Eliska BREZINOVA'), ('Karen CHEN', 'Eva-Lotta KIIBUS'), ('Loena HENDRICKX', 'Ekaterina KURAKOVA'), ('Karen CHEN', 'Loena HENDRICKX'), ('Alexandra TRUSOVA', 'Eliska BREZINOVA'), ('Madeline SCHIZAS', 'Alexandra FEIGIN'), ('Nicole SCHOTT', 'Alexandra FEIGIN'), ('Kaori SAKAMOTO', 'Ekaterina RYABOVA'), ('Loena HENDRICKX', 'Jenni SAARINEN'), ('Ekaterina RYABOVA', 'Alexandra FEIGIN'), ('Karen CHEN', 'Madeline SCHIZAS'), ('Wakaba HIGUCHI', 'Anna SHCHERBAKOVA'), ('Loena HENDRICKX', 'Eliska BREZINOVA'), ('Nicole SCHOTT', 'Eliska BREZINOVA'), ('Karen CHEN', 'Nicole SCHOTT'), ('Kaori SAKAMOTO', 'Eva-Lotta KIIBUS'), ('Mariah BELL', 'Alexandra FEIGIN'), ('Kaori SAKAMOTO', 'Loena HENDRICKX'), ('Eva-Lotta KIIBUS', 'Jenni SAARINEN'), ('Anna SHCHERBAKOVA', 'Eva-Lotta KIIBUS'), ('Ekaterina RYABOVA', 'Loena HENDRICKX'), ('Eva-Lotta KIIBUS', 'Eliska BREZINOVA'), ('Alexandra TRUSOVA', 'Madeline SCHIZAS'), ('Ekaterina RYABOVA', 'Eva-Lotta KIIBUS'), ('Mariah BELL', 'Madeline SCHIZAS'), ('Wakaba HIGUCHI', 'Alexandra FEIGIN'), ('Kaori SAKAMOTO', 'Alexandra FEIGIN'), ('Wakaba HIGUCHI', 'Ekaterina KURAKOVA'), ('Kaori SAKAMOTO', 'Wakaba HIGUCHI'), ('Olga MIKUTINA', 'Alexandra FEIGIN'), ('Alexandra TRUSOVA', 'Jenni SAARINEN'), ('Alexandra TRUSOVA', 'Alexandra FEIGIN'), ('Kaori SAKAMOTO', 'Madeline SCHIZAS'), ('Ekaterina RYABOVA', 'Olga MIKUTINA'), ('Nicole SCHOTT', 'Eva-Lotta KIIBUS'), ('Mariah BELL', 'Wakaba HIGUCHI'), ('Mariah BELL', 'Kaori SAKAMOTO'), ('Karen CHEN', 'Eliska BREZINOVA'), ('Karen CHEN', 'Wakaba HIGUCHI'), ('Kailani CRAINE', 'Alexandra FEIGIN'), ('Mariah BELL', 'Eliska BREZINOVA'), ('Alexandra TRUSOVA', 'Eva-Lotta KIIBUS'), ('Kailani CRAINE', 'Jenni SAARINEN'), ('Alexandra TRUSOVA', 'Karen CHEN'), ('Ekaterina RYABOVA', 'Jenni SAARINEN'), ('Kaori SAKAMOTO', 'Kailani CRAINE'), ('Wakaba HIGUCHI', 'Jenni SAARINEN'), ('Karen CHEN', 'Olga MIKUTINA'), ('Wakaba HIGUCHI', 'Eva-Lotta KIIBUS'), ('Kaori SAKAMOTO', 'Eliska BREZINOVA'), ('Ekaterina KURAKOVA', 'Eva-Lotta KIIBUS'), ('Madeline SCHIZAS', 'Jenni SAARINEN'), ('Eliska BREZINOVA', 'Alexandra FEIGIN'), ('Madeline SCHIZAS', 'Kailani CRAINE'), ('Alexandra TRUSOVA', 'Olga MIKUTINA'), ('Mariah BELL', 'Olga MIKUTINA'), ('Kaori SAKAMOTO', 'Karen CHEN'), ('Alexandra TRUSOVA', 'Ekaterina KURAKOVA'), ('Nicole SCHOTT', 'Madeline SCHIZAS'), ('Ekaterina KURAKOVA', 'Olga MIKUTINA'), ('Kailani CRAINE', 'Eliska BREZINOVA'), ('Anna SHCHERBAKOVA', 'Olga MIKUTINA'), ('Eva-Lotta KIIBUS', 'Olga MIKUTINA'), ('Alexandra TRUSOVA', 'Kaori SAKAMOTO'), ('Eliska BREZINOVA', 'Jenni SAARINEN'), ('Ekaterina RYABOVA', 'Nicole SCHOTT'), ('Kaori SAKAMOTO', 'Jenni SAARINEN'), ('Wakaba HIGUCHI', 'Kailani CRAINE'), ('Alexandra TRUSOVA', 'Wakaba HIGUCHI'), ('Ekaterina KURAKOVA', 'Eliska BREZINOVA'), ('Karen CHEN', 'Alexandra FEIGIN'), ('Anna SHCHERBAKOVA', 'Nicole SCHOTT'), ('Loena HENDRICKX', 'Olga MIKUTINA'), ('Ekaterina KURAKOVA', 'Jenni SAARINEN'), ('Mariah BELL', 'Nicole SCHOTT'), ('Ekaterina KURAKOVA', 'Kailani CRAINE'), ('Mariah BELL', 'Ekaterina RYABOVA'), ('Anna SHCHERBAKOVA', 'Jenni SAARINEN'), ('Mariah BELL', 'Jenni SAARINEN'), ('Nicole SCHOTT', 'Olga MIKUTINA'), ('Loena HENDRICKX', 'Nicole SCHOTT'), ('Alexandra FEIGIN', 'Jenni SAARINEN'), ('Mariah BELL', 'Loena HENDRICKX'), ('Kaori SAKAMOTO', 'Nicole SCHOTT'), ('Alexandra TRUSOVA', 'Kailani CRAINE'), ('Anna SHCHERBAKOVA', 'Madeline SCHIZAS'), ('Nicole SCHOTT', 'Kailani CRAINE'), ('Mariah BELL', 'Ekaterina KURAKOVA'), ('Loena HENDRICKX', 'Eva-Lotta KIIBUS'), ('Eva-Lotta KIIBUS', 'Madeline SCHIZAS'), ('Olga MIKUTINA', 'Madeline SCHIZAS'), ('Ekaterina KURAKOVA', 'Madeline SCHIZAS'), ('Alexandra TRUSOVA', 'Nicole SCHOTT'), ('Wakaba HIGUCHI', 'Ekaterina RYABOVA'), ('Loena HENDRICKX', 'Kailani CRAINE'), ('Loena HENDRICKX', 'Madeline SCHIZAS'), ('Wakaba HIGUCHI', 'Olga MIKUTINA'), ('Alexandra TRUSOVA', 'Mariah BELL'), ('Anna SHCHERBAKOVA', 'Eliska BREZINOVA'), ('Eva-Lotta KIIBUS', 'Kailani CRAINE'), ('Mariah BELL', 'Eva-Lotta KIIBUS'), ('Ekaterina RYABOVA', 'Eliska BREZINOVA')}\n",
            "{('Anna SHCHERBAKOVA', 'Kailani CRAINE'), ('Madeline SCHIZAS', 'Eva-Lotta KIIBUS'), ('Ekaterina RYABOVA', 'Kailani CRAINE'), ('Wakaba HIGUCHI', 'Loena HENDRICKX'), ('Mariah BELL', 'Kailani CRAINE'), ('Olga MIKUTINA', 'Jenni SAARINEN'), ('Alexandra TRUSOVA', 'Loena HENDRICKX'), ('Wakaba HIGUCHI', 'Madeline SCHIZAS'), ('Ekaterina RYABOVA', 'Madeline SCHIZAS'), ('Nicole SCHOTT', 'Ekaterina KURAKOVA'), ('Karen CHEN', 'Kailani CRAINE'), ('Wakaba HIGUCHI', 'Nicole SCHOTT'), ('Olga MIKUTINA', 'Nicole SCHOTT'), ('Kaori SAKAMOTO', 'Olga MIKUTINA'), ('Alexandra TRUSOVA', 'Ekaterina RYABOVA'), ('Madeline SCHIZAS', 'Eliska BREZINOVA'), ('Eliska BREZINOVA', 'Kailani CRAINE'), ('Wakaba HIGUCHI', 'Mariah BELL'), ('Anna SHCHERBAKOVA', 'Kaori SAKAMOTO'), ('Karen CHEN', 'Ekaterina KURAKOVA'), ('Anna SHCHERBAKOVA', 'Wakaba HIGUCHI'), ('Anna SHCHERBAKOVA', 'Alexandra FEIGIN'), ('Anna SHCHERBAKOVA', 'Ekaterina RYABOVA'), ('Karen CHEN', 'Ekaterina RYABOVA'), ('Anna SHCHERBAKOVA', 'Loena HENDRICKX'), ('Loena HENDRICKX', 'Alexandra FEIGIN'), ('Wakaba HIGUCHI', 'Eliska BREZINOVA'), ('Kaori SAKAMOTO', 'Alexandra TRUSOVA'), ('Nicole SCHOTT', 'Jenni SAARINEN'), ('Anna SHCHERBAKOVA', 'Ekaterina KURAKOVA'), ('Eva-Lotta KIIBUS', 'Alexandra FEIGIN'), ('Eva-Lotta KIIBUS', 'Ekaterina KURAKOVA'), ('Loena HENDRICKX', 'Mariah BELL'), ('Olga MIKUTINA', 'Kailani CRAINE'), ('Ekaterina RYABOVA', 'Ekaterina KURAKOVA'), ('Karen CHEN', 'Jenni SAARINEN'), ('Kaori SAKAMOTO', 'Mariah BELL'), ('Kaori SAKAMOTO', 'Ekaterina KURAKOVA'), ('Olga MIKUTINA', 'Eliska BREZINOVA'), ('Karen CHEN', 'Eva-Lotta KIIBUS'), ('Loena HENDRICKX', 'Ekaterina KURAKOVA'), ('Karen CHEN', 'Loena HENDRICKX'), ('Anna SHCHERBAKOVA', 'Mariah BELL'), ('Alexandra TRUSOVA', 'Eliska BREZINOVA'), ('Madeline SCHIZAS', 'Alexandra FEIGIN'), ('Jenni SAARINEN', 'Ekaterina KURAKOVA'), ('Nicole SCHOTT', 'Alexandra FEIGIN'), ('Kaori SAKAMOTO', 'Ekaterina RYABOVA'), ('Loena HENDRICKX', 'Jenni SAARINEN'), ('Ekaterina RYABOVA', 'Alexandra FEIGIN'), ('Karen CHEN', 'Madeline SCHIZAS'), ('Loena HENDRICKX', 'Eliska BREZINOVA'), ('Nicole SCHOTT', 'Eliska BREZINOVA'), ('Karen CHEN', 'Nicole SCHOTT'), ('Kaori SAKAMOTO', 'Eva-Lotta KIIBUS'), ('Mariah BELL', 'Alexandra FEIGIN'), ('Kaori SAKAMOTO', 'Loena HENDRICKX'), ('Eva-Lotta KIIBUS', 'Jenni SAARINEN'), ('Anna SHCHERBAKOVA', 'Eva-Lotta KIIBUS'), ('Wakaba HIGUCHI', 'Karen CHEN'), ('Eva-Lotta KIIBUS', 'Eliska BREZINOVA'), ('Alexandra TRUSOVA', 'Madeline SCHIZAS'), ('Karen CHEN', 'Mariah BELL'), ('Ekaterina RYABOVA', 'Eva-Lotta KIIBUS'), ('Mariah BELL', 'Madeline SCHIZAS'), ('Wakaba HIGUCHI', 'Alexandra FEIGIN'), ('Olga MIKUTINA', 'Ekaterina KURAKOVA'), ('Kaori SAKAMOTO', 'Alexandra FEIGIN'), ('Wakaba HIGUCHI', 'Ekaterina KURAKOVA'), ('Kaori SAKAMOTO', 'Wakaba HIGUCHI'), ('Olga MIKUTINA', 'Alexandra FEIGIN'), ('Alexandra TRUSOVA', 'Jenni SAARINEN'), ('Alexandra FEIGIN', 'Ekaterina KURAKOVA'), ('Kailani CRAINE', 'Ekaterina KURAKOVA'), ('Alexandra TRUSOVA', 'Alexandra FEIGIN'), ('Kaori SAKAMOTO', 'Madeline SCHIZAS'), ('Olga MIKUTINA', 'Ekaterina RYABOVA'), ('Karen CHEN', 'Eliska BREZINOVA'), ('Mariah BELL', 'Eliska BREZINOVA'), ('Alexandra TRUSOVA', 'Eva-Lotta KIIBUS'), ('Kailani CRAINE', 'Jenni SAARINEN'), ('Anna SHCHERBAKOVA', 'Alexandra TRUSOVA'), ('Alexandra TRUSOVA', 'Karen CHEN'), ('Ekaterina RYABOVA', 'Jenni SAARINEN'), ('Kaori SAKAMOTO', 'Kailani CRAINE'), ('Wakaba HIGUCHI', 'Jenni SAARINEN'), ('Karen CHEN', 'Olga MIKUTINA'), ('Wakaba HIGUCHI', 'Eva-Lotta KIIBUS'), ('Kaori SAKAMOTO', 'Eliska BREZINOVA'), ('Madeline SCHIZAS', 'Jenni SAARINEN'), ('Madeline SCHIZAS', 'Kailani CRAINE'), ('Alexandra TRUSOVA', 'Olga MIKUTINA'), ('Mariah BELL', 'Olga MIKUTINA'), ('Kaori SAKAMOTO', 'Karen CHEN'), ('Alexandra TRUSOVA', 'Ekaterina KURAKOVA'), ('Alexandra FEIGIN', 'Kailani CRAINE'), ('Alexandra FEIGIN', 'Eliska BREZINOVA'), ('Anna SHCHERBAKOVA', 'Karen CHEN'), ('Madeline SCHIZAS', 'Nicole SCHOTT'), ('Anna SHCHERBAKOVA', 'Olga MIKUTINA'), ('Eliska BREZINOVA', 'Jenni SAARINEN'), ('Ekaterina RYABOVA', 'Nicole SCHOTT'), ('Kaori SAKAMOTO', 'Jenni SAARINEN'), ('Wakaba HIGUCHI', 'Kailani CRAINE'), ('Loena HENDRICKX', 'Ekaterina RYABOVA'), ('Alexandra TRUSOVA', 'Wakaba HIGUCHI'), ('Karen CHEN', 'Alexandra FEIGIN'), ('Anna SHCHERBAKOVA', 'Nicole SCHOTT'), ('Loena HENDRICKX', 'Olga MIKUTINA'), ('Mariah BELL', 'Nicole SCHOTT'), ('Mariah BELL', 'Ekaterina RYABOVA'), ('Anna SHCHERBAKOVA', 'Jenni SAARINEN'), ('Madeline SCHIZAS', 'Ekaterina KURAKOVA'), ('Mariah BELL', 'Jenni SAARINEN'), ('Loena HENDRICKX', 'Nicole SCHOTT'), ('Alexandra FEIGIN', 'Jenni SAARINEN'), ('Kaori SAKAMOTO', 'Nicole SCHOTT'), ('Alexandra TRUSOVA', 'Kailani CRAINE'), ('Anna SHCHERBAKOVA', 'Madeline SCHIZAS'), ('Nicole SCHOTT', 'Kailani CRAINE'), ('Mariah BELL', 'Ekaterina KURAKOVA'), ('Loena HENDRICKX', 'Eva-Lotta KIIBUS'), ('Olga MIKUTINA', 'Madeline SCHIZAS'), ('Eva-Lotta KIIBUS', 'Nicole SCHOTT'), ('Alexandra TRUSOVA', 'Nicole SCHOTT'), ('Wakaba HIGUCHI', 'Ekaterina RYABOVA'), ('Loena HENDRICKX', 'Kailani CRAINE'), ('Loena HENDRICKX', 'Madeline SCHIZAS'), ('Olga MIKUTINA', 'Eva-Lotta KIIBUS'), ('Eliska BREZINOVA', 'Ekaterina KURAKOVA'), ('Wakaba HIGUCHI', 'Olga MIKUTINA'), ('Anna SHCHERBAKOVA', 'Eliska BREZINOVA'), ('Alexandra TRUSOVA', 'Mariah BELL'), ('Eva-Lotta KIIBUS', 'Kailani CRAINE'), ('Mariah BELL', 'Eva-Lotta KIIBUS'), ('Ekaterina RYABOVA', 'Eliska BREZINOVA')}\n",
            "{('Anna SHCHERBAKOVA', 'Kailani CRAINE'), ('Ekaterina RYABOVA', 'Kailani CRAINE'), ('Kaori SAKAMOTO', 'Anna SHCHERBAKOVA'), ('Wakaba HIGUCHI', 'Loena HENDRICKX'), ('Mariah BELL', 'Kailani CRAINE'), ('Mariah BELL', 'Anna SHCHERBAKOVA'), ('Olga MIKUTINA', 'Jenni SAARINEN'), ('Alexandra TRUSOVA', 'Loena HENDRICKX'), ('Wakaba HIGUCHI', 'Madeline SCHIZAS'), ('Karen CHEN', 'Anna SHCHERBAKOVA'), ('Ekaterina RYABOVA', 'Madeline SCHIZAS'), ('Nicole SCHOTT', 'Ekaterina KURAKOVA'), ('Karen CHEN', 'Kailani CRAINE'), ('Wakaba HIGUCHI', 'Nicole SCHOTT'), ('Kaori SAKAMOTO', 'Olga MIKUTINA'), ('Mariah BELL', 'Karen CHEN'), ('Alexandra TRUSOVA', 'Ekaterina RYABOVA'), ('Madeline SCHIZAS', 'Eliska BREZINOVA'), ('Karen CHEN', 'Ekaterina KURAKOVA'), ('Anna SHCHERBAKOVA', 'Wakaba HIGUCHI'), ('Anna SHCHERBAKOVA', 'Alexandra FEIGIN'), ('Ekaterina KURAKOVA', 'Alexandra FEIGIN'), ('Anna SHCHERBAKOVA', 'Ekaterina RYABOVA'), ('Karen CHEN', 'Ekaterina RYABOVA'), ('Anna SHCHERBAKOVA', 'Loena HENDRICKX'), ('Loena HENDRICKX', 'Alexandra FEIGIN'), ('Wakaba HIGUCHI', 'Eliska BREZINOVA'), ('Alexandra TRUSOVA', 'Anna SHCHERBAKOVA'), ('Nicole SCHOTT', 'Jenni SAARINEN'), ('Anna SHCHERBAKOVA', 'Ekaterina KURAKOVA'), ('Eva-Lotta KIIBUS', 'Alexandra FEIGIN'), ('Olga MIKUTINA', 'Kailani CRAINE'), ('Ekaterina RYABOVA', 'Ekaterina KURAKOVA'), ('Karen CHEN', 'Jenni SAARINEN'), ('Kaori SAKAMOTO', 'Ekaterina KURAKOVA'), ('Olga MIKUTINA', 'Eliska BREZINOVA'), ('Karen CHEN', 'Eva-Lotta KIIBUS'), ('Loena HENDRICKX', 'Ekaterina KURAKOVA'), ('Karen CHEN', 'Loena HENDRICKX'), ('Alexandra TRUSOVA', 'Eliska BREZINOVA'), ('Madeline SCHIZAS', 'Alexandra FEIGIN'), ('Nicole SCHOTT', 'Alexandra FEIGIN'), ('Kaori SAKAMOTO', 'Ekaterina RYABOVA'), ('Loena HENDRICKX', 'Jenni SAARINEN'), ('Ekaterina RYABOVA', 'Alexandra FEIGIN'), ('Karen CHEN', 'Madeline SCHIZAS'), ('Loena HENDRICKX', 'Eliska BREZINOVA'), ('Nicole SCHOTT', 'Eliska BREZINOVA'), ('Karen CHEN', 'Nicole SCHOTT'), ('Kaori SAKAMOTO', 'Eva-Lotta KIIBUS'), ('Mariah BELL', 'Alexandra FEIGIN'), ('Kaori SAKAMOTO', 'Loena HENDRICKX'), ('Eva-Lotta KIIBUS', 'Jenni SAARINEN'), ('Anna SHCHERBAKOVA', 'Eva-Lotta KIIBUS'), ('Ekaterina RYABOVA', 'Loena HENDRICKX'), ('Eva-Lotta KIIBUS', 'Eliska BREZINOVA'), ('Alexandra TRUSOVA', 'Madeline SCHIZAS'), ('Ekaterina RYABOVA', 'Eva-Lotta KIIBUS'), ('Mariah BELL', 'Madeline SCHIZAS'), ('Wakaba HIGUCHI', 'Alexandra FEIGIN'), ('Kaori SAKAMOTO', 'Alexandra FEIGIN'), ('Wakaba HIGUCHI', 'Ekaterina KURAKOVA'), ('Kaori SAKAMOTO', 'Wakaba HIGUCHI'), ('Olga MIKUTINA', 'Alexandra FEIGIN'), ('Alexandra TRUSOVA', 'Jenni SAARINEN'), ('Alexandra TRUSOVA', 'Alexandra FEIGIN'), ('Kaori SAKAMOTO', 'Madeline SCHIZAS'), ('Ekaterina RYABOVA', 'Olga MIKUTINA'), ('Nicole SCHOTT', 'Eva-Lotta KIIBUS'), ('Mariah BELL', 'Wakaba HIGUCHI'), ('Mariah BELL', 'Kaori SAKAMOTO'), ('Karen CHEN', 'Eliska BREZINOVA'), ('Karen CHEN', 'Wakaba HIGUCHI'), ('Kailani CRAINE', 'Alexandra FEIGIN'), ('Mariah BELL', 'Eliska BREZINOVA'), ('Alexandra TRUSOVA', 'Eva-Lotta KIIBUS'), ('Kailani CRAINE', 'Jenni SAARINEN'), ('Alexandra TRUSOVA', 'Karen CHEN'), ('Ekaterina RYABOVA', 'Jenni SAARINEN'), ('Kaori SAKAMOTO', 'Kailani CRAINE'), ('Wakaba HIGUCHI', 'Jenni SAARINEN'), ('Karen CHEN', 'Olga MIKUTINA'), ('Wakaba HIGUCHI', 'Eva-Lotta KIIBUS'), ('Kaori SAKAMOTO', 'Eliska BREZINOVA'), ('Ekaterina KURAKOVA', 'Eva-Lotta KIIBUS'), ('Madeline SCHIZAS', 'Jenni SAARINEN'), ('Eliska BREZINOVA', 'Alexandra FEIGIN'), ('Madeline SCHIZAS', 'Kailani CRAINE'), ('Alexandra TRUSOVA', 'Olga MIKUTINA'), ('Mariah BELL', 'Olga MIKUTINA'), ('Kaori SAKAMOTO', 'Karen CHEN'), ('Alexandra TRUSOVA', 'Ekaterina KURAKOVA'), ('Nicole SCHOTT', 'Madeline SCHIZAS'), ('Ekaterina KURAKOVA', 'Olga MIKUTINA'), ('Kailani CRAINE', 'Eliska BREZINOVA'), ('Anna SHCHERBAKOVA', 'Olga MIKUTINA'), ('Eva-Lotta KIIBUS', 'Olga MIKUTINA'), ('Alexandra TRUSOVA', 'Kaori SAKAMOTO'), ('Eliska BREZINOVA', 'Jenni SAARINEN'), ('Ekaterina RYABOVA', 'Nicole SCHOTT'), ('Kaori SAKAMOTO', 'Jenni SAARINEN'), ('Wakaba HIGUCHI', 'Kailani CRAINE'), ('Alexandra TRUSOVA', 'Wakaba HIGUCHI'), ('Ekaterina KURAKOVA', 'Eliska BREZINOVA'), ('Karen CHEN', 'Alexandra FEIGIN'), ('Anna SHCHERBAKOVA', 'Nicole SCHOTT'), ('Loena HENDRICKX', 'Olga MIKUTINA'), ('Ekaterina KURAKOVA', 'Jenni SAARINEN'), ('Mariah BELL', 'Nicole SCHOTT'), ('Ekaterina KURAKOVA', 'Kailani CRAINE'), ('Mariah BELL', 'Ekaterina RYABOVA'), ('Anna SHCHERBAKOVA', 'Jenni SAARINEN'), ('Mariah BELL', 'Jenni SAARINEN'), ('Nicole SCHOTT', 'Olga MIKUTINA'), ('Loena HENDRICKX', 'Nicole SCHOTT'), ('Alexandra FEIGIN', 'Jenni SAARINEN'), ('Mariah BELL', 'Loena HENDRICKX'), ('Kaori SAKAMOTO', 'Nicole SCHOTT'), ('Alexandra TRUSOVA', 'Kailani CRAINE'), ('Anna SHCHERBAKOVA', 'Madeline SCHIZAS'), ('Nicole SCHOTT', 'Kailani CRAINE'), ('Mariah BELL', 'Ekaterina KURAKOVA'), ('Loena HENDRICKX', 'Eva-Lotta KIIBUS'), ('Eva-Lotta KIIBUS', 'Madeline SCHIZAS'), ('Olga MIKUTINA', 'Madeline SCHIZAS'), ('Ekaterina KURAKOVA', 'Madeline SCHIZAS'), ('Alexandra TRUSOVA', 'Nicole SCHOTT'), ('Wakaba HIGUCHI', 'Ekaterina RYABOVA'), ('Loena HENDRICKX', 'Kailani CRAINE'), ('Loena HENDRICKX', 'Madeline SCHIZAS'), ('Wakaba HIGUCHI', 'Olga MIKUTINA'), ('Alexandra TRUSOVA', 'Mariah BELL'), ('Anna SHCHERBAKOVA', 'Eliska BREZINOVA'), ('Eva-Lotta KIIBUS', 'Kailani CRAINE'), ('Mariah BELL', 'Eva-Lotta KIIBUS'), ('Ekaterina RYABOVA', 'Eliska BREZINOVA')}\n",
            "{('Anna SHCHERBAKOVA', 'Kailani CRAINE'), ('Madeline SCHIZAS', 'Eva-Lotta KIIBUS'), ('Ekaterina RYABOVA', 'Kailani CRAINE'), ('Wakaba HIGUCHI', 'Loena HENDRICKX'), ('Mariah BELL', 'Kailani CRAINE'), ('Olga MIKUTINA', 'Jenni SAARINEN'), ('Alexandra TRUSOVA', 'Loena HENDRICKX'), ('Wakaba HIGUCHI', 'Madeline SCHIZAS'), ('Ekaterina RYABOVA', 'Madeline SCHIZAS'), ('Nicole SCHOTT', 'Ekaterina KURAKOVA'), ('Karen CHEN', 'Kailani CRAINE'), ('Wakaba HIGUCHI', 'Nicole SCHOTT'), ('Olga MIKUTINA', 'Nicole SCHOTT'), ('Kaori SAKAMOTO', 'Olga MIKUTINA'), ('Alexandra TRUSOVA', 'Ekaterina RYABOVA'), ('Madeline SCHIZAS', 'Eliska BREZINOVA'), ('Eliska BREZINOVA', 'Kailani CRAINE'), ('Wakaba HIGUCHI', 'Mariah BELL'), ('Anna SHCHERBAKOVA', 'Kaori SAKAMOTO'), ('Karen CHEN', 'Ekaterina KURAKOVA'), ('Anna SHCHERBAKOVA', 'Wakaba HIGUCHI'), ('Anna SHCHERBAKOVA', 'Alexandra FEIGIN'), ('Anna SHCHERBAKOVA', 'Ekaterina RYABOVA'), ('Karen CHEN', 'Ekaterina RYABOVA'), ('Anna SHCHERBAKOVA', 'Loena HENDRICKX'), ('Loena HENDRICKX', 'Alexandra FEIGIN'), ('Wakaba HIGUCHI', 'Eliska BREZINOVA'), ('Kaori SAKAMOTO', 'Alexandra TRUSOVA'), ('Nicole SCHOTT', 'Jenni SAARINEN'), ('Anna SHCHERBAKOVA', 'Ekaterina KURAKOVA'), ('Eva-Lotta KIIBUS', 'Alexandra FEIGIN'), ('Eva-Lotta KIIBUS', 'Ekaterina KURAKOVA'), ('Loena HENDRICKX', 'Mariah BELL'), ('Olga MIKUTINA', 'Kailani CRAINE'), ('Ekaterina RYABOVA', 'Ekaterina KURAKOVA'), ('Karen CHEN', 'Jenni SAARINEN'), ('Kaori SAKAMOTO', 'Mariah BELL'), ('Kaori SAKAMOTO', 'Ekaterina KURAKOVA'), ('Olga MIKUTINA', 'Eliska BREZINOVA'), ('Karen CHEN', 'Eva-Lotta KIIBUS'), ('Loena HENDRICKX', 'Ekaterina KURAKOVA'), ('Karen CHEN', 'Loena HENDRICKX'), ('Anna SHCHERBAKOVA', 'Mariah BELL'), ('Alexandra TRUSOVA', 'Eliska BREZINOVA'), ('Madeline SCHIZAS', 'Alexandra FEIGIN'), ('Jenni SAARINEN', 'Ekaterina KURAKOVA'), ('Nicole SCHOTT', 'Alexandra FEIGIN'), ('Kaori SAKAMOTO', 'Ekaterina RYABOVA'), ('Loena HENDRICKX', 'Jenni SAARINEN'), ('Ekaterina RYABOVA', 'Alexandra FEIGIN'), ('Karen CHEN', 'Madeline SCHIZAS'), ('Loena HENDRICKX', 'Eliska BREZINOVA'), ('Nicole SCHOTT', 'Eliska BREZINOVA'), ('Karen CHEN', 'Nicole SCHOTT'), ('Kaori SAKAMOTO', 'Eva-Lotta KIIBUS'), ('Mariah BELL', 'Alexandra FEIGIN'), ('Kaori SAKAMOTO', 'Loena HENDRICKX'), ('Eva-Lotta KIIBUS', 'Jenni SAARINEN'), ('Anna SHCHERBAKOVA', 'Eva-Lotta KIIBUS'), ('Wakaba HIGUCHI', 'Karen CHEN'), ('Eva-Lotta KIIBUS', 'Eliska BREZINOVA'), ('Alexandra TRUSOVA', 'Madeline SCHIZAS'), ('Karen CHEN', 'Mariah BELL'), ('Ekaterina RYABOVA', 'Eva-Lotta KIIBUS'), ('Mariah BELL', 'Madeline SCHIZAS'), ('Wakaba HIGUCHI', 'Alexandra FEIGIN'), ('Olga MIKUTINA', 'Ekaterina KURAKOVA'), ('Kaori SAKAMOTO', 'Alexandra FEIGIN'), ('Wakaba HIGUCHI', 'Ekaterina KURAKOVA'), ('Kaori SAKAMOTO', 'Wakaba HIGUCHI'), ('Olga MIKUTINA', 'Alexandra FEIGIN'), ('Alexandra TRUSOVA', 'Jenni SAARINEN'), ('Alexandra FEIGIN', 'Ekaterina KURAKOVA'), ('Kailani CRAINE', 'Ekaterina KURAKOVA'), ('Alexandra TRUSOVA', 'Alexandra FEIGIN'), ('Kaori SAKAMOTO', 'Madeline SCHIZAS'), ('Olga MIKUTINA', 'Ekaterina RYABOVA'), ('Karen CHEN', 'Eliska BREZINOVA'), ('Mariah BELL', 'Eliska BREZINOVA'), ('Alexandra TRUSOVA', 'Eva-Lotta KIIBUS'), ('Kailani CRAINE', 'Jenni SAARINEN'), ('Anna SHCHERBAKOVA', 'Alexandra TRUSOVA'), ('Alexandra TRUSOVA', 'Karen CHEN'), ('Ekaterina RYABOVA', 'Jenni SAARINEN'), ('Kaori SAKAMOTO', 'Kailani CRAINE'), ('Wakaba HIGUCHI', 'Jenni SAARINEN'), ('Karen CHEN', 'Olga MIKUTINA'), ('Wakaba HIGUCHI', 'Eva-Lotta KIIBUS'), ('Kaori SAKAMOTO', 'Eliska BREZINOVA'), ('Madeline SCHIZAS', 'Jenni SAARINEN'), ('Madeline SCHIZAS', 'Kailani CRAINE'), ('Alexandra TRUSOVA', 'Olga MIKUTINA'), ('Mariah BELL', 'Olga MIKUTINA'), ('Kaori SAKAMOTO', 'Karen CHEN'), ('Alexandra TRUSOVA', 'Ekaterina KURAKOVA'), ('Alexandra FEIGIN', 'Kailani CRAINE'), ('Alexandra FEIGIN', 'Eliska BREZINOVA'), ('Anna SHCHERBAKOVA', 'Karen CHEN'), ('Madeline SCHIZAS', 'Nicole SCHOTT'), ('Anna SHCHERBAKOVA', 'Olga MIKUTINA'), ('Eliska BREZINOVA', 'Jenni SAARINEN'), ('Ekaterina RYABOVA', 'Nicole SCHOTT'), ('Kaori SAKAMOTO', 'Jenni SAARINEN'), ('Wakaba HIGUCHI', 'Kailani CRAINE'), ('Loena HENDRICKX', 'Ekaterina RYABOVA'), ('Alexandra TRUSOVA', 'Wakaba HIGUCHI'), ('Karen CHEN', 'Alexandra FEIGIN'), ('Anna SHCHERBAKOVA', 'Nicole SCHOTT'), ('Loena HENDRICKX', 'Olga MIKUTINA'), ('Mariah BELL', 'Nicole SCHOTT'), ('Mariah BELL', 'Ekaterina RYABOVA'), ('Anna SHCHERBAKOVA', 'Jenni SAARINEN'), ('Madeline SCHIZAS', 'Ekaterina KURAKOVA'), ('Mariah BELL', 'Jenni SAARINEN'), ('Loena HENDRICKX', 'Nicole SCHOTT'), ('Alexandra FEIGIN', 'Jenni SAARINEN'), ('Kaori SAKAMOTO', 'Nicole SCHOTT'), ('Alexandra TRUSOVA', 'Kailani CRAINE'), ('Anna SHCHERBAKOVA', 'Madeline SCHIZAS'), ('Nicole SCHOTT', 'Kailani CRAINE'), ('Mariah BELL', 'Ekaterina KURAKOVA'), ('Loena HENDRICKX', 'Eva-Lotta KIIBUS'), ('Olga MIKUTINA', 'Madeline SCHIZAS'), ('Eva-Lotta KIIBUS', 'Nicole SCHOTT'), ('Alexandra TRUSOVA', 'Nicole SCHOTT'), ('Wakaba HIGUCHI', 'Ekaterina RYABOVA'), ('Loena HENDRICKX', 'Kailani CRAINE'), ('Loena HENDRICKX', 'Madeline SCHIZAS'), ('Olga MIKUTINA', 'Eva-Lotta KIIBUS'), ('Eliska BREZINOVA', 'Ekaterina KURAKOVA'), ('Wakaba HIGUCHI', 'Olga MIKUTINA'), ('Anna SHCHERBAKOVA', 'Eliska BREZINOVA'), ('Alexandra TRUSOVA', 'Mariah BELL'), ('Eva-Lotta KIIBUS', 'Kailani CRAINE'), ('Mariah BELL', 'Eva-Lotta KIIBUS'), ('Ekaterina RYABOVA', 'Eliska BREZINOVA')}\n",
            "{('Anna SHCHERBAKOVA', 'Kailani CRAINE'), ('Ekaterina RYABOVA', 'Kailani CRAINE'), ('Kaori SAKAMOTO', 'Anna SHCHERBAKOVA'), ('Wakaba HIGUCHI', 'Loena HENDRICKX'), ('Mariah BELL', 'Kailani CRAINE'), ('Mariah BELL', 'Anna SHCHERBAKOVA'), ('Olga MIKUTINA', 'Jenni SAARINEN'), ('Alexandra TRUSOVA', 'Loena HENDRICKX'), ('Wakaba HIGUCHI', 'Madeline SCHIZAS'), ('Ekaterina RYABOVA', 'Madeline SCHIZAS'), ('Nicole SCHOTT', 'Ekaterina KURAKOVA'), ('Karen CHEN', 'Kailani CRAINE'), ('Wakaba HIGUCHI', 'Nicole SCHOTT'), ('Kaori SAKAMOTO', 'Olga MIKUTINA'), ('Mariah BELL', 'Karen CHEN'), ('Alexandra TRUSOVA', 'Ekaterina RYABOVA'), ('Madeline SCHIZAS', 'Eliska BREZINOVA'), ('Karen CHEN', 'Ekaterina KURAKOVA'), ('Anna SHCHERBAKOVA', 'Wakaba HIGUCHI'), ('Anna SHCHERBAKOVA', 'Alexandra FEIGIN'), ('Ekaterina KURAKOVA', 'Alexandra FEIGIN'), ('Anna SHCHERBAKOVA', 'Ekaterina RYABOVA'), ('Karen CHEN', 'Ekaterina RYABOVA'), ('Anna SHCHERBAKOVA', 'Loena HENDRICKX'), ('Loena HENDRICKX', 'Alexandra FEIGIN'), ('Wakaba HIGUCHI', 'Eliska BREZINOVA'), ('Alexandra TRUSOVA', 'Anna SHCHERBAKOVA'), ('Nicole SCHOTT', 'Jenni SAARINEN'), ('Anna SHCHERBAKOVA', 'Ekaterina KURAKOVA'), ('Eva-Lotta KIIBUS', 'Alexandra FEIGIN'), ('Olga MIKUTINA', 'Kailani CRAINE'), ('Ekaterina RYABOVA', 'Ekaterina KURAKOVA'), ('Karen CHEN', 'Jenni SAARINEN'), ('Kaori SAKAMOTO', 'Mariah BELL'), ('Kaori SAKAMOTO', 'Ekaterina KURAKOVA'), ('Olga MIKUTINA', 'Eliska BREZINOVA'), ('Karen CHEN', 'Eva-Lotta KIIBUS'), ('Loena HENDRICKX', 'Ekaterina KURAKOVA'), ('Karen CHEN', 'Loena HENDRICKX'), ('Alexandra TRUSOVA', 'Eliska BREZINOVA'), ('Madeline SCHIZAS', 'Alexandra FEIGIN'), ('Nicole SCHOTT', 'Alexandra FEIGIN'), ('Kaori SAKAMOTO', 'Ekaterina RYABOVA'), ('Loena HENDRICKX', 'Jenni SAARINEN'), ('Ekaterina RYABOVA', 'Alexandra FEIGIN'), ('Karen CHEN', 'Madeline SCHIZAS'), ('Loena HENDRICKX', 'Eliska BREZINOVA'), ('Nicole SCHOTT', 'Eliska BREZINOVA'), ('Karen CHEN', 'Nicole SCHOTT'), ('Kaori SAKAMOTO', 'Eva-Lotta KIIBUS'), ('Mariah BELL', 'Alexandra FEIGIN'), ('Kaori SAKAMOTO', 'Loena HENDRICKX'), ('Eva-Lotta KIIBUS', 'Jenni SAARINEN'), ('Anna SHCHERBAKOVA', 'Eva-Lotta KIIBUS'), ('Eva-Lotta KIIBUS', 'Eliska BREZINOVA'), ('Alexandra TRUSOVA', 'Madeline SCHIZAS'), ('Ekaterina RYABOVA', 'Eva-Lotta KIIBUS'), ('Mariah BELL', 'Madeline SCHIZAS'), ('Wakaba HIGUCHI', 'Alexandra FEIGIN'), ('Kaori SAKAMOTO', 'Alexandra FEIGIN'), ('Wakaba HIGUCHI', 'Ekaterina KURAKOVA'), ('Kaori SAKAMOTO', 'Wakaba HIGUCHI'), ('Olga MIKUTINA', 'Alexandra FEIGIN'), ('Alexandra TRUSOVA', 'Jenni SAARINEN'), ('Alexandra TRUSOVA', 'Alexandra FEIGIN'), ('Kaori SAKAMOTO', 'Madeline SCHIZAS'), ('Ekaterina RYABOVA', 'Olga MIKUTINA'), ('Nicole SCHOTT', 'Eva-Lotta KIIBUS'), ('Mariah BELL', 'Wakaba HIGUCHI'), ('Karen CHEN', 'Eliska BREZINOVA'), ('Karen CHEN', 'Wakaba HIGUCHI'), ('Kailani CRAINE', 'Alexandra FEIGIN'), ('Mariah BELL', 'Eliska BREZINOVA'), ('Alexandra TRUSOVA', 'Eva-Lotta KIIBUS'), ('Kailani CRAINE', 'Jenni SAARINEN'), ('Alexandra TRUSOVA', 'Karen CHEN'), ('Ekaterina RYABOVA', 'Jenni SAARINEN'), ('Kaori SAKAMOTO', 'Kailani CRAINE'), ('Wakaba HIGUCHI', 'Jenni SAARINEN'), ('Karen CHEN', 'Olga MIKUTINA'), ('Wakaba HIGUCHI', 'Eva-Lotta KIIBUS'), ('Kaori SAKAMOTO', 'Eliska BREZINOVA'), ('Ekaterina KURAKOVA', 'Eva-Lotta KIIBUS'), ('Madeline SCHIZAS', 'Jenni SAARINEN'), ('Eliska BREZINOVA', 'Alexandra FEIGIN'), ('Madeline SCHIZAS', 'Kailani CRAINE'), ('Alexandra TRUSOVA', 'Olga MIKUTINA'), ('Mariah BELL', 'Olga MIKUTINA'), ('Kaori SAKAMOTO', 'Karen CHEN'), ('Alexandra TRUSOVA', 'Ekaterina KURAKOVA'), ('Nicole SCHOTT', 'Madeline SCHIZAS'), ('Ekaterina KURAKOVA', 'Olga MIKUTINA'), ('Kailani CRAINE', 'Eliska BREZINOVA'), ('Anna SHCHERBAKOVA', 'Karen CHEN'), ('Anna SHCHERBAKOVA', 'Olga MIKUTINA'), ('Eva-Lotta KIIBUS', 'Olga MIKUTINA'), ('Alexandra TRUSOVA', 'Kaori SAKAMOTO'), ('Eliska BREZINOVA', 'Jenni SAARINEN'), ('Ekaterina RYABOVA', 'Nicole SCHOTT'), ('Kaori SAKAMOTO', 'Jenni SAARINEN'), ('Wakaba HIGUCHI', 'Kailani CRAINE'), ('Loena HENDRICKX', 'Ekaterina RYABOVA'), ('Alexandra TRUSOVA', 'Wakaba HIGUCHI'), ('Ekaterina KURAKOVA', 'Eliska BREZINOVA'), ('Karen CHEN', 'Alexandra FEIGIN'), ('Anna SHCHERBAKOVA', 'Nicole SCHOTT'), ('Loena HENDRICKX', 'Olga MIKUTINA'), ('Ekaterina KURAKOVA', 'Jenni SAARINEN'), ('Mariah BELL', 'Nicole SCHOTT'), ('Ekaterina KURAKOVA', 'Kailani CRAINE'), ('Mariah BELL', 'Ekaterina RYABOVA'), ('Anna SHCHERBAKOVA', 'Jenni SAARINEN'), ('Mariah BELL', 'Jenni SAARINEN'), ('Nicole SCHOTT', 'Olga MIKUTINA'), ('Loena HENDRICKX', 'Nicole SCHOTT'), ('Alexandra FEIGIN', 'Jenni SAARINEN'), ('Mariah BELL', 'Loena HENDRICKX'), ('Kaori SAKAMOTO', 'Nicole SCHOTT'), ('Alexandra TRUSOVA', 'Kailani CRAINE'), ('Anna SHCHERBAKOVA', 'Madeline SCHIZAS'), ('Nicole SCHOTT', 'Kailani CRAINE'), ('Mariah BELL', 'Ekaterina KURAKOVA'), ('Loena HENDRICKX', 'Eva-Lotta KIIBUS'), ('Eva-Lotta KIIBUS', 'Madeline SCHIZAS'), ('Olga MIKUTINA', 'Madeline SCHIZAS'), ('Ekaterina KURAKOVA', 'Madeline SCHIZAS'), ('Alexandra TRUSOVA', 'Nicole SCHOTT'), ('Wakaba HIGUCHI', 'Ekaterina RYABOVA'), ('Loena HENDRICKX', 'Kailani CRAINE'), ('Loena HENDRICKX', 'Madeline SCHIZAS'), ('Wakaba HIGUCHI', 'Olga MIKUTINA'), ('Alexandra TRUSOVA', 'Mariah BELL'), ('Anna SHCHERBAKOVA', 'Eliska BREZINOVA'), ('Eva-Lotta KIIBUS', 'Kailani CRAINE'), ('Mariah BELL', 'Eva-Lotta KIIBUS'), ('Ekaterina RYABOVA', 'Eliska BREZINOVA')}\n",
            "{('Anna SHCHERBAKOVA', 'Kailani CRAINE'), ('Madeline SCHIZAS', 'Eva-Lotta KIIBUS'), ('Ekaterina RYABOVA', 'Kailani CRAINE'), ('Wakaba HIGUCHI', 'Loena HENDRICKX'), ('Mariah BELL', 'Kailani CRAINE'), ('Olga MIKUTINA', 'Jenni SAARINEN'), ('Alexandra TRUSOVA', 'Loena HENDRICKX'), ('Wakaba HIGUCHI', 'Madeline SCHIZAS'), ('Ekaterina RYABOVA', 'Madeline SCHIZAS'), ('Nicole SCHOTT', 'Ekaterina KURAKOVA'), ('Karen CHEN', 'Kailani CRAINE'), ('Wakaba HIGUCHI', 'Nicole SCHOTT'), ('Olga MIKUTINA', 'Nicole SCHOTT'), ('Kaori SAKAMOTO', 'Olga MIKUTINA'), ('Alexandra TRUSOVA', 'Ekaterina RYABOVA'), ('Madeline SCHIZAS', 'Eliska BREZINOVA'), ('Eliska BREZINOVA', 'Kailani CRAINE'), ('Wakaba HIGUCHI', 'Mariah BELL'), ('Anna SHCHERBAKOVA', 'Kaori SAKAMOTO'), ('Karen CHEN', 'Ekaterina KURAKOVA'), ('Anna SHCHERBAKOVA', 'Wakaba HIGUCHI'), ('Anna SHCHERBAKOVA', 'Alexandra FEIGIN'), ('Anna SHCHERBAKOVA', 'Ekaterina RYABOVA'), ('Karen CHEN', 'Ekaterina RYABOVA'), ('Anna SHCHERBAKOVA', 'Loena HENDRICKX'), ('Loena HENDRICKX', 'Alexandra FEIGIN'), ('Wakaba HIGUCHI', 'Eliska BREZINOVA'), ('Kaori SAKAMOTO', 'Alexandra TRUSOVA'), ('Nicole SCHOTT', 'Jenni SAARINEN'), ('Anna SHCHERBAKOVA', 'Ekaterina KURAKOVA'), ('Eva-Lotta KIIBUS', 'Alexandra FEIGIN'), ('Eva-Lotta KIIBUS', 'Ekaterina KURAKOVA'), ('Loena HENDRICKX', 'Mariah BELL'), ('Olga MIKUTINA', 'Kailani CRAINE'), ('Ekaterina RYABOVA', 'Ekaterina KURAKOVA'), ('Karen CHEN', 'Jenni SAARINEN'), ('Kaori SAKAMOTO', 'Mariah BELL'), ('Kaori SAKAMOTO', 'Ekaterina KURAKOVA'), ('Olga MIKUTINA', 'Eliska BREZINOVA'), ('Karen CHEN', 'Eva-Lotta KIIBUS'), ('Loena HENDRICKX', 'Ekaterina KURAKOVA'), ('Karen CHEN', 'Loena HENDRICKX'), ('Anna SHCHERBAKOVA', 'Mariah BELL'), ('Alexandra TRUSOVA', 'Eliska BREZINOVA'), ('Madeline SCHIZAS', 'Alexandra FEIGIN'), ('Jenni SAARINEN', 'Ekaterina KURAKOVA'), ('Nicole SCHOTT', 'Alexandra FEIGIN'), ('Kaori SAKAMOTO', 'Ekaterina RYABOVA'), ('Loena HENDRICKX', 'Jenni SAARINEN'), ('Ekaterina RYABOVA', 'Alexandra FEIGIN'), ('Karen CHEN', 'Madeline SCHIZAS'), ('Loena HENDRICKX', 'Eliska BREZINOVA'), ('Nicole SCHOTT', 'Eliska BREZINOVA'), ('Karen CHEN', 'Nicole SCHOTT'), ('Kaori SAKAMOTO', 'Eva-Lotta KIIBUS'), ('Mariah BELL', 'Alexandra FEIGIN'), ('Kaori SAKAMOTO', 'Loena HENDRICKX'), ('Eva-Lotta KIIBUS', 'Jenni SAARINEN'), ('Anna SHCHERBAKOVA', 'Eva-Lotta KIIBUS'), ('Wakaba HIGUCHI', 'Karen CHEN'), ('Eva-Lotta KIIBUS', 'Eliska BREZINOVA'), ('Alexandra TRUSOVA', 'Madeline SCHIZAS'), ('Karen CHEN', 'Mariah BELL'), ('Ekaterina RYABOVA', 'Eva-Lotta KIIBUS'), ('Mariah BELL', 'Madeline SCHIZAS'), ('Wakaba HIGUCHI', 'Alexandra FEIGIN'), ('Olga MIKUTINA', 'Ekaterina KURAKOVA'), ('Kaori SAKAMOTO', 'Alexandra FEIGIN'), ('Wakaba HIGUCHI', 'Ekaterina KURAKOVA'), ('Kaori SAKAMOTO', 'Wakaba HIGUCHI'), ('Olga MIKUTINA', 'Alexandra FEIGIN'), ('Alexandra TRUSOVA', 'Jenni SAARINEN'), ('Alexandra FEIGIN', 'Ekaterina KURAKOVA'), ('Kailani CRAINE', 'Ekaterina KURAKOVA'), ('Alexandra TRUSOVA', 'Alexandra FEIGIN'), ('Kaori SAKAMOTO', 'Madeline SCHIZAS'), ('Olga MIKUTINA', 'Ekaterina RYABOVA'), ('Karen CHEN', 'Eliska BREZINOVA'), ('Mariah BELL', 'Eliska BREZINOVA'), ('Alexandra TRUSOVA', 'Eva-Lotta KIIBUS'), ('Kailani CRAINE', 'Jenni SAARINEN'), ('Anna SHCHERBAKOVA', 'Alexandra TRUSOVA'), ('Alexandra TRUSOVA', 'Karen CHEN'), ('Ekaterina RYABOVA', 'Jenni SAARINEN'), ('Kaori SAKAMOTO', 'Kailani CRAINE'), ('Wakaba HIGUCHI', 'Jenni SAARINEN'), ('Karen CHEN', 'Olga MIKUTINA'), ('Wakaba HIGUCHI', 'Eva-Lotta KIIBUS'), ('Kaori SAKAMOTO', 'Eliska BREZINOVA'), ('Madeline SCHIZAS', 'Jenni SAARINEN'), ('Madeline SCHIZAS', 'Kailani CRAINE'), ('Alexandra TRUSOVA', 'Olga MIKUTINA'), ('Mariah BELL', 'Olga MIKUTINA'), ('Kaori SAKAMOTO', 'Karen CHEN'), ('Alexandra TRUSOVA', 'Ekaterina KURAKOVA'), ('Alexandra FEIGIN', 'Kailani CRAINE'), ('Alexandra FEIGIN', 'Eliska BREZINOVA'), ('Anna SHCHERBAKOVA', 'Karen CHEN'), ('Madeline SCHIZAS', 'Nicole SCHOTT'), ('Anna SHCHERBAKOVA', 'Olga MIKUTINA'), ('Eliska BREZINOVA', 'Jenni SAARINEN'), ('Ekaterina RYABOVA', 'Nicole SCHOTT'), ('Kaori SAKAMOTO', 'Jenni SAARINEN'), ('Wakaba HIGUCHI', 'Kailani CRAINE'), ('Loena HENDRICKX', 'Ekaterina RYABOVA'), ('Alexandra TRUSOVA', 'Wakaba HIGUCHI'), ('Karen CHEN', 'Alexandra FEIGIN'), ('Anna SHCHERBAKOVA', 'Nicole SCHOTT'), ('Loena HENDRICKX', 'Olga MIKUTINA'), ('Mariah BELL', 'Nicole SCHOTT'), ('Mariah BELL', 'Ekaterina RYABOVA'), ('Anna SHCHERBAKOVA', 'Jenni SAARINEN'), ('Madeline SCHIZAS', 'Ekaterina KURAKOVA'), ('Mariah BELL', 'Jenni SAARINEN'), ('Loena HENDRICKX', 'Nicole SCHOTT'), ('Alexandra FEIGIN', 'Jenni SAARINEN'), ('Kaori SAKAMOTO', 'Nicole SCHOTT'), ('Alexandra TRUSOVA', 'Kailani CRAINE'), ('Anna SHCHERBAKOVA', 'Madeline SCHIZAS'), ('Nicole SCHOTT', 'Kailani CRAINE'), ('Mariah BELL', 'Ekaterina KURAKOVA'), ('Loena HENDRICKX', 'Eva-Lotta KIIBUS'), ('Olga MIKUTINA', 'Madeline SCHIZAS'), ('Eva-Lotta KIIBUS', 'Nicole SCHOTT'), ('Alexandra TRUSOVA', 'Nicole SCHOTT'), ('Wakaba HIGUCHI', 'Ekaterina RYABOVA'), ('Loena HENDRICKX', 'Kailani CRAINE'), ('Loena HENDRICKX', 'Madeline SCHIZAS'), ('Olga MIKUTINA', 'Eva-Lotta KIIBUS'), ('Eliska BREZINOVA', 'Ekaterina KURAKOVA'), ('Wakaba HIGUCHI', 'Olga MIKUTINA'), ('Anna SHCHERBAKOVA', 'Eliska BREZINOVA'), ('Alexandra TRUSOVA', 'Mariah BELL'), ('Eva-Lotta KIIBUS', 'Kailani CRAINE'), ('Mariah BELL', 'Eva-Lotta KIIBUS'), ('Ekaterina RYABOVA', 'Eliska BREZINOVA')}\n",
            "{('Anna SHCHERBAKOVA', 'Kailani CRAINE'), ('Ekaterina RYABOVA', 'Kailani CRAINE'), ('Mariah BELL', 'Kailani CRAINE'), ('Olga MIKUTINA', 'Jenni SAARINEN'), ('Alexandra TRUSOVA', 'Loena HENDRICKX'), ('Madeline SCHIZAS', 'Olga MIKUTINA'), ('Wakaba HIGUCHI', 'Madeline SCHIZAS'), ('Ekaterina RYABOVA', 'Madeline SCHIZAS'), ('Nicole SCHOTT', 'Ekaterina KURAKOVA'), ('Karen CHEN', 'Kailani CRAINE'), ('Wakaba HIGUCHI', 'Nicole SCHOTT'), ('Kaori SAKAMOTO', 'Olga MIKUTINA'), ('Mariah BELL', 'Karen CHEN'), ('Alexandra TRUSOVA', 'Ekaterina RYABOVA'), ('Madeline SCHIZAS', 'Eliska BREZINOVA'), ('Anna SHCHERBAKOVA', 'Kaori SAKAMOTO'), ('Karen CHEN', 'Ekaterina KURAKOVA'), ('Anna SHCHERBAKOVA', 'Wakaba HIGUCHI'), ('Anna SHCHERBAKOVA', 'Alexandra FEIGIN'), ('Ekaterina KURAKOVA', 'Alexandra FEIGIN'), ('Anna SHCHERBAKOVA', 'Ekaterina RYABOVA'), ('Karen CHEN', 'Ekaterina RYABOVA'), ('Anna SHCHERBAKOVA', 'Loena HENDRICKX'), ('Loena HENDRICKX', 'Alexandra FEIGIN'), ('Wakaba HIGUCHI', 'Eliska BREZINOVA'), ('Nicole SCHOTT', 'Jenni SAARINEN'), ('Anna SHCHERBAKOVA', 'Ekaterina KURAKOVA'), ('Eva-Lotta KIIBUS', 'Alexandra FEIGIN'), ('Loena HENDRICKX', 'Mariah BELL'), ('Loena HENDRICKX', 'Karen CHEN'), ('Ekaterina RYABOVA', 'Ekaterina KURAKOVA'), ('Karen CHEN', 'Jenni SAARINEN'), ('Kaori SAKAMOTO', 'Mariah BELL'), ('Kaori SAKAMOTO', 'Ekaterina KURAKOVA'), ('Olga MIKUTINA', 'Eliska BREZINOVA'), ('Karen CHEN', 'Eva-Lotta KIIBUS'), ('Loena HENDRICKX', 'Ekaterina KURAKOVA'), ('Anna SHCHERBAKOVA', 'Mariah BELL'), ('Alexandra TRUSOVA', 'Eliska BREZINOVA'), ('Madeline SCHIZAS', 'Alexandra FEIGIN'), ('Nicole SCHOTT', 'Alexandra FEIGIN'), ('Kaori SAKAMOTO', 'Ekaterina RYABOVA'), ('Loena HENDRICKX', 'Jenni SAARINEN'), ('Ekaterina RYABOVA', 'Alexandra FEIGIN'), ('Karen CHEN', 'Madeline SCHIZAS'), ('Loena HENDRICKX', 'Eliska BREZINOVA'), ('Nicole SCHOTT', 'Eliska BREZINOVA'), ('Karen CHEN', 'Nicole SCHOTT'), ('Kaori SAKAMOTO', 'Eva-Lotta KIIBUS'), ('Mariah BELL', 'Alexandra FEIGIN'), ('Kaori SAKAMOTO', 'Loena HENDRICKX'), ('Eva-Lotta KIIBUS', 'Jenni SAARINEN'), ('Anna SHCHERBAKOVA', 'Eva-Lotta KIIBUS'), ('Wakaba HIGUCHI', 'Karen CHEN'), ('Eva-Lotta KIIBUS', 'Eliska BREZINOVA'), ('Alexandra TRUSOVA', 'Madeline SCHIZAS'), ('Ekaterina RYABOVA', 'Eva-Lotta KIIBUS'), ('Mariah BELL', 'Madeline SCHIZAS'), ('Wakaba HIGUCHI', 'Alexandra FEIGIN'), ('Kaori SAKAMOTO', 'Alexandra FEIGIN'), ('Wakaba HIGUCHI', 'Ekaterina KURAKOVA'), ('Kaori SAKAMOTO', 'Wakaba HIGUCHI'), ('Olga MIKUTINA', 'Alexandra FEIGIN'), ('Alexandra TRUSOVA', 'Jenni SAARINEN'), ('Alexandra TRUSOVA', 'Alexandra FEIGIN'), ('Kailani CRAINE', 'Olga MIKUTINA'), ('Kaori SAKAMOTO', 'Madeline SCHIZAS'), ('Ekaterina RYABOVA', 'Olga MIKUTINA'), ('Nicole SCHOTT', 'Eva-Lotta KIIBUS'), ('Mariah BELL', 'Wakaba HIGUCHI'), ('Karen CHEN', 'Eliska BREZINOVA'), ('Kailani CRAINE', 'Alexandra FEIGIN'), ('Mariah BELL', 'Eliska BREZINOVA'), ('Alexandra TRUSOVA', 'Eva-Lotta KIIBUS'), ('Kailani CRAINE', 'Jenni SAARINEN'), ('Anna SHCHERBAKOVA', 'Alexandra TRUSOVA'), ('Alexandra TRUSOVA', 'Karen CHEN'), ('Ekaterina RYABOVA', 'Jenni SAARINEN'), ('Kaori SAKAMOTO', 'Kailani CRAINE'), ('Wakaba HIGUCHI', 'Jenni SAARINEN'), ('Karen CHEN', 'Olga MIKUTINA'), ('Wakaba HIGUCHI', 'Eva-Lotta KIIBUS'), ('Kaori SAKAMOTO', 'Eliska BREZINOVA'), ('Ekaterina KURAKOVA', 'Eva-Lotta KIIBUS'), ('Madeline SCHIZAS', 'Jenni SAARINEN'), ('Alexandra TRUSOVA', 'Olga MIKUTINA'), ('Mariah BELL', 'Olga MIKUTINA'), ('Kaori SAKAMOTO', 'Karen CHEN'), ('Alexandra TRUSOVA', 'Ekaterina KURAKOVA'), ('Nicole SCHOTT', 'Madeline SCHIZAS'), ('Alexandra FEIGIN', 'Eliska BREZINOVA'), ('Kailani CRAINE', 'Madeline SCHIZAS'), ('Ekaterina KURAKOVA', 'Olga MIKUTINA'), ('Loena HENDRICKX', 'Wakaba HIGUCHI'), ('Kailani CRAINE', 'Eliska BREZINOVA'), ('Anna SHCHERBAKOVA', 'Karen CHEN'), ('Anna SHCHERBAKOVA', 'Olga MIKUTINA'), ('Eva-Lotta KIIBUS', 'Olga MIKUTINA'), ('Alexandra TRUSOVA', 'Kaori SAKAMOTO'), ('Eliska BREZINOVA', 'Jenni SAARINEN'), ('Ekaterina RYABOVA', 'Nicole SCHOTT'), ('Kaori SAKAMOTO', 'Jenni SAARINEN'), ('Loena HENDRICKX', 'Ekaterina RYABOVA'), ('Wakaba HIGUCHI', 'Kailani CRAINE'), ('Alexandra TRUSOVA', 'Wakaba HIGUCHI'), ('Ekaterina KURAKOVA', 'Eliska BREZINOVA'), ('Karen CHEN', 'Alexandra FEIGIN'), ('Anna SHCHERBAKOVA', 'Nicole SCHOTT'), ('Loena HENDRICKX', 'Olga MIKUTINA'), ('Ekaterina KURAKOVA', 'Jenni SAARINEN'), ('Mariah BELL', 'Nicole SCHOTT'), ('Ekaterina KURAKOVA', 'Kailani CRAINE'), ('Mariah BELL', 'Ekaterina RYABOVA'), ('Anna SHCHERBAKOVA', 'Jenni SAARINEN'), ('Mariah BELL', 'Jenni SAARINEN'), ('Nicole SCHOTT', 'Olga MIKUTINA'), ('Loena HENDRICKX', 'Nicole SCHOTT'), ('Alexandra FEIGIN', 'Jenni SAARINEN'), ('Kaori SAKAMOTO', 'Nicole SCHOTT'), ('Alexandra TRUSOVA', 'Kailani CRAINE'), ('Anna SHCHERBAKOVA', 'Madeline SCHIZAS'), ('Nicole SCHOTT', 'Kailani CRAINE'), ('Mariah BELL', 'Ekaterina KURAKOVA'), ('Loena HENDRICKX', 'Eva-Lotta KIIBUS'), ('Eva-Lotta KIIBUS', 'Madeline SCHIZAS'), ('Ekaterina KURAKOVA', 'Madeline SCHIZAS'), ('Alexandra TRUSOVA', 'Nicole SCHOTT'), ('Loena HENDRICKX', 'Kailani CRAINE'), ('Wakaba HIGUCHI', 'Ekaterina RYABOVA'), ('Loena HENDRICKX', 'Madeline SCHIZAS'), ('Wakaba HIGUCHI', 'Olga MIKUTINA'), ('Anna SHCHERBAKOVA', 'Eliska BREZINOVA'), ('Alexandra TRUSOVA', 'Mariah BELL'), ('Eva-Lotta KIIBUS', 'Kailani CRAINE'), ('Mariah BELL', 'Eva-Lotta KIIBUS'), ('Ekaterina RYABOVA', 'Eliska BREZINOVA')}\n",
            "{('Anna SHCHERBAKOVA', 'Kailani CRAINE'), ('Madeline SCHIZAS', 'Eva-Lotta KIIBUS'), ('Ekaterina RYABOVA', 'Kailani CRAINE'), ('Wakaba HIGUCHI', 'Loena HENDRICKX'), ('Mariah BELL', 'Kailani CRAINE'), ('Olga MIKUTINA', 'Jenni SAARINEN'), ('Alexandra TRUSOVA', 'Loena HENDRICKX'), ('Wakaba HIGUCHI', 'Madeline SCHIZAS'), ('Ekaterina RYABOVA', 'Madeline SCHIZAS'), ('Nicole SCHOTT', 'Ekaterina KURAKOVA'), ('Karen CHEN', 'Kailani CRAINE'), ('Wakaba HIGUCHI', 'Nicole SCHOTT'), ('Olga MIKUTINA', 'Nicole SCHOTT'), ('Kaori SAKAMOTO', 'Olga MIKUTINA'), ('Alexandra TRUSOVA', 'Ekaterina RYABOVA'), ('Madeline SCHIZAS', 'Eliska BREZINOVA'), ('Eliska BREZINOVA', 'Kailani CRAINE'), ('Wakaba HIGUCHI', 'Mariah BELL'), ('Anna SHCHERBAKOVA', 'Kaori SAKAMOTO'), ('Karen CHEN', 'Ekaterina KURAKOVA'), ('Anna SHCHERBAKOVA', 'Wakaba HIGUCHI'), ('Anna SHCHERBAKOVA', 'Alexandra FEIGIN'), ('Anna SHCHERBAKOVA', 'Ekaterina RYABOVA'), ('Karen CHEN', 'Ekaterina RYABOVA'), ('Anna SHCHERBAKOVA', 'Loena HENDRICKX'), ('Loena HENDRICKX', 'Alexandra FEIGIN'), ('Wakaba HIGUCHI', 'Eliska BREZINOVA'), ('Kaori SAKAMOTO', 'Alexandra TRUSOVA'), ('Nicole SCHOTT', 'Jenni SAARINEN'), ('Anna SHCHERBAKOVA', 'Ekaterina KURAKOVA'), ('Eva-Lotta KIIBUS', 'Alexandra FEIGIN'), ('Eva-Lotta KIIBUS', 'Ekaterina KURAKOVA'), ('Loena HENDRICKX', 'Mariah BELL'), ('Olga MIKUTINA', 'Kailani CRAINE'), ('Ekaterina RYABOVA', 'Ekaterina KURAKOVA'), ('Karen CHEN', 'Jenni SAARINEN'), ('Kaori SAKAMOTO', 'Mariah BELL'), ('Kaori SAKAMOTO', 'Ekaterina KURAKOVA'), ('Olga MIKUTINA', 'Eliska BREZINOVA'), ('Karen CHEN', 'Eva-Lotta KIIBUS'), ('Loena HENDRICKX', 'Ekaterina KURAKOVA'), ('Karen CHEN', 'Loena HENDRICKX'), ('Anna SHCHERBAKOVA', 'Mariah BELL'), ('Alexandra TRUSOVA', 'Eliska BREZINOVA'), ('Madeline SCHIZAS', 'Alexandra FEIGIN'), ('Jenni SAARINEN', 'Ekaterina KURAKOVA'), ('Nicole SCHOTT', 'Alexandra FEIGIN'), ('Kaori SAKAMOTO', 'Ekaterina RYABOVA'), ('Loena HENDRICKX', 'Jenni SAARINEN'), ('Ekaterina RYABOVA', 'Alexandra FEIGIN'), ('Karen CHEN', 'Madeline SCHIZAS'), ('Loena HENDRICKX', 'Eliska BREZINOVA'), ('Nicole SCHOTT', 'Eliska BREZINOVA'), ('Karen CHEN', 'Nicole SCHOTT'), ('Kaori SAKAMOTO', 'Eva-Lotta KIIBUS'), ('Mariah BELL', 'Alexandra FEIGIN'), ('Kaori SAKAMOTO', 'Loena HENDRICKX'), ('Eva-Lotta KIIBUS', 'Jenni SAARINEN'), ('Anna SHCHERBAKOVA', 'Eva-Lotta KIIBUS'), ('Wakaba HIGUCHI', 'Karen CHEN'), ('Eva-Lotta KIIBUS', 'Eliska BREZINOVA'), ('Alexandra TRUSOVA', 'Madeline SCHIZAS'), ('Karen CHEN', 'Mariah BELL'), ('Ekaterina RYABOVA', 'Eva-Lotta KIIBUS'), ('Mariah BELL', 'Madeline SCHIZAS'), ('Wakaba HIGUCHI', 'Alexandra FEIGIN'), ('Olga MIKUTINA', 'Ekaterina KURAKOVA'), ('Kaori SAKAMOTO', 'Alexandra FEIGIN'), ('Wakaba HIGUCHI', 'Ekaterina KURAKOVA'), ('Kaori SAKAMOTO', 'Wakaba HIGUCHI'), ('Olga MIKUTINA', 'Alexandra FEIGIN'), ('Alexandra TRUSOVA', 'Jenni SAARINEN'), ('Alexandra FEIGIN', 'Ekaterina KURAKOVA'), ('Kailani CRAINE', 'Ekaterina KURAKOVA'), ('Alexandra TRUSOVA', 'Alexandra FEIGIN'), ('Kaori SAKAMOTO', 'Madeline SCHIZAS'), ('Olga MIKUTINA', 'Ekaterina RYABOVA'), ('Karen CHEN', 'Eliska BREZINOVA'), ('Mariah BELL', 'Eliska BREZINOVA'), ('Alexandra TRUSOVA', 'Eva-Lotta KIIBUS'), ('Kailani CRAINE', 'Jenni SAARINEN'), ('Anna SHCHERBAKOVA', 'Alexandra TRUSOVA'), ('Alexandra TRUSOVA', 'Karen CHEN'), ('Ekaterina RYABOVA', 'Jenni SAARINEN'), ('Kaori SAKAMOTO', 'Kailani CRAINE'), ('Wakaba HIGUCHI', 'Jenni SAARINEN'), ('Karen CHEN', 'Olga MIKUTINA'), ('Wakaba HIGUCHI', 'Eva-Lotta KIIBUS'), ('Kaori SAKAMOTO', 'Eliska BREZINOVA'), ('Madeline SCHIZAS', 'Jenni SAARINEN'), ('Madeline SCHIZAS', 'Kailani CRAINE'), ('Alexandra TRUSOVA', 'Olga MIKUTINA'), ('Mariah BELL', 'Olga MIKUTINA'), ('Kaori SAKAMOTO', 'Karen CHEN'), ('Alexandra TRUSOVA', 'Ekaterina KURAKOVA'), ('Alexandra FEIGIN', 'Kailani CRAINE'), ('Alexandra FEIGIN', 'Eliska BREZINOVA'), ('Anna SHCHERBAKOVA', 'Karen CHEN'), ('Madeline SCHIZAS', 'Nicole SCHOTT'), ('Anna SHCHERBAKOVA', 'Olga MIKUTINA'), ('Eliska BREZINOVA', 'Jenni SAARINEN'), ('Ekaterina RYABOVA', 'Nicole SCHOTT'), ('Kaori SAKAMOTO', 'Jenni SAARINEN'), ('Wakaba HIGUCHI', 'Kailani CRAINE'), ('Loena HENDRICKX', 'Ekaterina RYABOVA'), ('Alexandra TRUSOVA', 'Wakaba HIGUCHI'), ('Karen CHEN', 'Alexandra FEIGIN'), ('Anna SHCHERBAKOVA', 'Nicole SCHOTT'), ('Loena HENDRICKX', 'Olga MIKUTINA'), ('Mariah BELL', 'Nicole SCHOTT'), ('Mariah BELL', 'Ekaterina RYABOVA'), ('Anna SHCHERBAKOVA', 'Jenni SAARINEN'), ('Madeline SCHIZAS', 'Ekaterina KURAKOVA'), ('Mariah BELL', 'Jenni SAARINEN'), ('Loena HENDRICKX', 'Nicole SCHOTT'), ('Alexandra FEIGIN', 'Jenni SAARINEN'), ('Kaori SAKAMOTO', 'Nicole SCHOTT'), ('Alexandra TRUSOVA', 'Kailani CRAINE'), ('Anna SHCHERBAKOVA', 'Madeline SCHIZAS'), ('Nicole SCHOTT', 'Kailani CRAINE'), ('Mariah BELL', 'Ekaterina KURAKOVA'), ('Loena HENDRICKX', 'Eva-Lotta KIIBUS'), ('Olga MIKUTINA', 'Madeline SCHIZAS'), ('Eva-Lotta KIIBUS', 'Nicole SCHOTT'), ('Alexandra TRUSOVA', 'Nicole SCHOTT'), ('Wakaba HIGUCHI', 'Ekaterina RYABOVA'), ('Loena HENDRICKX', 'Kailani CRAINE'), ('Loena HENDRICKX', 'Madeline SCHIZAS'), ('Olga MIKUTINA', 'Eva-Lotta KIIBUS'), ('Eliska BREZINOVA', 'Ekaterina KURAKOVA'), ('Wakaba HIGUCHI', 'Olga MIKUTINA'), ('Anna SHCHERBAKOVA', 'Eliska BREZINOVA'), ('Alexandra TRUSOVA', 'Mariah BELL'), ('Eva-Lotta KIIBUS', 'Kailani CRAINE'), ('Mariah BELL', 'Eva-Lotta KIIBUS'), ('Ekaterina RYABOVA', 'Eliska BREZINOVA')}\n",
            "{('Anna SHCHERBAKOVA', 'Kailani CRAINE'), ('Ekaterina RYABOVA', 'Kailani CRAINE'), ('Mariah BELL', 'Kailani CRAINE'), ('Olga MIKUTINA', 'Jenni SAARINEN'), ('Alexandra TRUSOVA', 'Loena HENDRICKX'), ('Madeline SCHIZAS', 'Olga MIKUTINA'), ('Wakaba HIGUCHI', 'Madeline SCHIZAS'), ('Ekaterina RYABOVA', 'Madeline SCHIZAS'), ('Karen CHEN', 'Kailani CRAINE'), ('Wakaba HIGUCHI', 'Nicole SCHOTT'), ('Kaori SAKAMOTO', 'Olga MIKUTINA'), ('Mariah BELL', 'Karen CHEN'), ('Alexandra TRUSOVA', 'Ekaterina RYABOVA'), ('Madeline SCHIZAS', 'Eliska BREZINOVA'), ('Anna SHCHERBAKOVA', 'Kaori SAKAMOTO'), ('Karen CHEN', 'Ekaterina KURAKOVA'), ('Anna SHCHERBAKOVA', 'Wakaba HIGUCHI'), ('Anna SHCHERBAKOVA', 'Alexandra FEIGIN'), ('Ekaterina KURAKOVA', 'Alexandra FEIGIN'), ('Anna SHCHERBAKOVA', 'Ekaterina RYABOVA'), ('Karen CHEN', 'Ekaterina RYABOVA'), ('Anna SHCHERBAKOVA', 'Loena HENDRICKX'), ('Loena HENDRICKX', 'Alexandra FEIGIN'), ('Wakaba HIGUCHI', 'Eliska BREZINOVA'), ('Nicole SCHOTT', 'Jenni SAARINEN'), ('Anna SHCHERBAKOVA', 'Ekaterina KURAKOVA'), ('Eva-Lotta KIIBUS', 'Alexandra FEIGIN'), ('Loena HENDRICKX', 'Mariah BELL'), ('Loena HENDRICKX', 'Karen CHEN'), ('Ekaterina RYABOVA', 'Ekaterina KURAKOVA'), ('Karen CHEN', 'Jenni SAARINEN'), ('Kaori SAKAMOTO', 'Mariah BELL'), ('Kaori SAKAMOTO', 'Ekaterina KURAKOVA'), ('Olga MIKUTINA', 'Eliska BREZINOVA'), ('Karen CHEN', 'Eva-Lotta KIIBUS'), ('Loena HENDRICKX', 'Ekaterina KURAKOVA'), ('Anna SHCHERBAKOVA', 'Mariah BELL'), ('Alexandra TRUSOVA', 'Eliska BREZINOVA'), ('Madeline SCHIZAS', 'Alexandra FEIGIN'), ('Nicole SCHOTT', 'Alexandra FEIGIN'), ('Kaori SAKAMOTO', 'Ekaterina RYABOVA'), ('Loena HENDRICKX', 'Jenni SAARINEN'), ('Ekaterina RYABOVA', 'Alexandra FEIGIN'), ('Karen CHEN', 'Madeline SCHIZAS'), ('Loena HENDRICKX', 'Eliska BREZINOVA'), ('Nicole SCHOTT', 'Eliska BREZINOVA'), ('Karen CHEN', 'Nicole SCHOTT'), ('Kaori SAKAMOTO', 'Eva-Lotta KIIBUS'), ('Mariah BELL', 'Alexandra FEIGIN'), ('Kaori SAKAMOTO', 'Loena HENDRICKX'), ('Eva-Lotta KIIBUS', 'Jenni SAARINEN'), ('Anna SHCHERBAKOVA', 'Eva-Lotta KIIBUS'), ('Wakaba HIGUCHI', 'Karen CHEN'), ('Eva-Lotta KIIBUS', 'Eliska BREZINOVA'), ('Alexandra TRUSOVA', 'Madeline SCHIZAS'), ('Ekaterina RYABOVA', 'Eva-Lotta KIIBUS'), ('Mariah BELL', 'Madeline SCHIZAS'), ('Wakaba HIGUCHI', 'Alexandra FEIGIN'), ('Kaori SAKAMOTO', 'Alexandra FEIGIN'), ('Wakaba HIGUCHI', 'Ekaterina KURAKOVA'), ('Kaori SAKAMOTO', 'Wakaba HIGUCHI'), ('Olga MIKUTINA', 'Alexandra FEIGIN'), ('Alexandra TRUSOVA', 'Jenni SAARINEN'), ('Alexandra TRUSOVA', 'Alexandra FEIGIN'), ('Kailani CRAINE', 'Olga MIKUTINA'), ('Kaori SAKAMOTO', 'Madeline SCHIZAS'), ('Ekaterina RYABOVA', 'Olga MIKUTINA'), ('Nicole SCHOTT', 'Eva-Lotta KIIBUS'), ('Mariah BELL', 'Wakaba HIGUCHI'), ('Karen CHEN', 'Eliska BREZINOVA'), ('Kailani CRAINE', 'Alexandra FEIGIN'), ('Mariah BELL', 'Eliska BREZINOVA'), ('Alexandra TRUSOVA', 'Eva-Lotta KIIBUS'), ('Ekaterina KURAKOVA', 'Nicole SCHOTT'), ('Kailani CRAINE', 'Jenni SAARINEN'), ('Anna SHCHERBAKOVA', 'Alexandra TRUSOVA'), ('Alexandra TRUSOVA', 'Karen CHEN'), ('Ekaterina RYABOVA', 'Jenni SAARINEN'), ('Kaori SAKAMOTO', 'Kailani CRAINE'), ('Wakaba HIGUCHI', 'Jenni SAARINEN'), ('Karen CHEN', 'Olga MIKUTINA'), ('Wakaba HIGUCHI', 'Eva-Lotta KIIBUS'), ('Kaori SAKAMOTO', 'Eliska BREZINOVA'), ('Ekaterina KURAKOVA', 'Eva-Lotta KIIBUS'), ('Madeline SCHIZAS', 'Jenni SAARINEN'), ('Madeline SCHIZAS', 'Kailani CRAINE'), ('Alexandra TRUSOVA', 'Olga MIKUTINA'), ('Mariah BELL', 'Olga MIKUTINA'), ('Kaori SAKAMOTO', 'Karen CHEN'), ('Alexandra TRUSOVA', 'Ekaterina KURAKOVA'), ('Nicole SCHOTT', 'Madeline SCHIZAS'), ('Alexandra FEIGIN', 'Eliska BREZINOVA'), ('Ekaterina KURAKOVA', 'Olga MIKUTINA'), ('Loena HENDRICKX', 'Wakaba HIGUCHI'), ('Kailani CRAINE', 'Eliska BREZINOVA'), ('Anna SHCHERBAKOVA', 'Karen CHEN'), ('Anna SHCHERBAKOVA', 'Olga MIKUTINA'), ('Eva-Lotta KIIBUS', 'Olga MIKUTINA'), ('Alexandra TRUSOVA', 'Kaori SAKAMOTO'), ('Eliska BREZINOVA', 'Jenni SAARINEN'), ('Ekaterina RYABOVA', 'Nicole SCHOTT'), ('Kaori SAKAMOTO', 'Jenni SAARINEN'), ('Loena HENDRICKX', 'Ekaterina RYABOVA'), ('Wakaba HIGUCHI', 'Kailani CRAINE'), ('Alexandra TRUSOVA', 'Wakaba HIGUCHI'), ('Ekaterina KURAKOVA', 'Eliska BREZINOVA'), ('Karen CHEN', 'Alexandra FEIGIN'), ('Anna SHCHERBAKOVA', 'Nicole SCHOTT'), ('Loena HENDRICKX', 'Olga MIKUTINA'), ('Ekaterina KURAKOVA', 'Jenni SAARINEN'), ('Mariah BELL', 'Nicole SCHOTT'), ('Ekaterina KURAKOVA', 'Kailani CRAINE'), ('Mariah BELL', 'Ekaterina RYABOVA'), ('Anna SHCHERBAKOVA', 'Jenni SAARINEN'), ('Mariah BELL', 'Jenni SAARINEN'), ('Nicole SCHOTT', 'Olga MIKUTINA'), ('Loena HENDRICKX', 'Nicole SCHOTT'), ('Alexandra FEIGIN', 'Jenni SAARINEN'), ('Kaori SAKAMOTO', 'Nicole SCHOTT'), ('Alexandra TRUSOVA', 'Kailani CRAINE'), ('Anna SHCHERBAKOVA', 'Madeline SCHIZAS'), ('Nicole SCHOTT', 'Kailani CRAINE'), ('Mariah BELL', 'Ekaterina KURAKOVA'), ('Loena HENDRICKX', 'Eva-Lotta KIIBUS'), ('Eva-Lotta KIIBUS', 'Madeline SCHIZAS'), ('Ekaterina KURAKOVA', 'Madeline SCHIZAS'), ('Alexandra TRUSOVA', 'Nicole SCHOTT'), ('Loena HENDRICKX', 'Kailani CRAINE'), ('Wakaba HIGUCHI', 'Ekaterina RYABOVA'), ('Loena HENDRICKX', 'Madeline SCHIZAS'), ('Wakaba HIGUCHI', 'Olga MIKUTINA'), ('Anna SHCHERBAKOVA', 'Eliska BREZINOVA'), ('Alexandra TRUSOVA', 'Mariah BELL'), ('Eva-Lotta KIIBUS', 'Kailani CRAINE'), ('Mariah BELL', 'Eva-Lotta KIIBUS'), ('Ekaterina RYABOVA', 'Eliska BREZINOVA')}\n",
            "{('Anna SHCHERBAKOVA', 'Kailani CRAINE'), ('Madeline SCHIZAS', 'Eva-Lotta KIIBUS'), ('Ekaterina RYABOVA', 'Kailani CRAINE'), ('Wakaba HIGUCHI', 'Loena HENDRICKX'), ('Mariah BELL', 'Kailani CRAINE'), ('Olga MIKUTINA', 'Jenni SAARINEN'), ('Alexandra TRUSOVA', 'Loena HENDRICKX'), ('Wakaba HIGUCHI', 'Madeline SCHIZAS'), ('Ekaterina RYABOVA', 'Madeline SCHIZAS'), ('Nicole SCHOTT', 'Ekaterina KURAKOVA'), ('Karen CHEN', 'Kailani CRAINE'), ('Wakaba HIGUCHI', 'Nicole SCHOTT'), ('Olga MIKUTINA', 'Nicole SCHOTT'), ('Kaori SAKAMOTO', 'Olga MIKUTINA'), ('Alexandra TRUSOVA', 'Ekaterina RYABOVA'), ('Madeline SCHIZAS', 'Eliska BREZINOVA'), ('Eliska BREZINOVA', 'Kailani CRAINE'), ('Wakaba HIGUCHI', 'Mariah BELL'), ('Anna SHCHERBAKOVA', 'Kaori SAKAMOTO'), ('Karen CHEN', 'Ekaterina KURAKOVA'), ('Anna SHCHERBAKOVA', 'Wakaba HIGUCHI'), ('Anna SHCHERBAKOVA', 'Alexandra FEIGIN'), ('Anna SHCHERBAKOVA', 'Ekaterina RYABOVA'), ('Karen CHEN', 'Ekaterina RYABOVA'), ('Anna SHCHERBAKOVA', 'Loena HENDRICKX'), ('Loena HENDRICKX', 'Alexandra FEIGIN'), ('Wakaba HIGUCHI', 'Eliska BREZINOVA'), ('Kaori SAKAMOTO', 'Alexandra TRUSOVA'), ('Nicole SCHOTT', 'Jenni SAARINEN'), ('Anna SHCHERBAKOVA', 'Ekaterina KURAKOVA'), ('Eva-Lotta KIIBUS', 'Alexandra FEIGIN'), ('Eva-Lotta KIIBUS', 'Ekaterina KURAKOVA'), ('Loena HENDRICKX', 'Mariah BELL'), ('Olga MIKUTINA', 'Kailani CRAINE'), ('Ekaterina RYABOVA', 'Ekaterina KURAKOVA'), ('Karen CHEN', 'Jenni SAARINEN'), ('Kaori SAKAMOTO', 'Mariah BELL'), ('Kaori SAKAMOTO', 'Ekaterina KURAKOVA'), ('Olga MIKUTINA', 'Eliska BREZINOVA'), ('Karen CHEN', 'Eva-Lotta KIIBUS'), ('Loena HENDRICKX', 'Ekaterina KURAKOVA'), ('Karen CHEN', 'Loena HENDRICKX'), ('Anna SHCHERBAKOVA', 'Mariah BELL'), ('Alexandra TRUSOVA', 'Eliska BREZINOVA'), ('Madeline SCHIZAS', 'Alexandra FEIGIN'), ('Jenni SAARINEN', 'Ekaterina KURAKOVA'), ('Nicole SCHOTT', 'Alexandra FEIGIN'), ('Kaori SAKAMOTO', 'Ekaterina RYABOVA'), ('Loena HENDRICKX', 'Jenni SAARINEN'), ('Ekaterina RYABOVA', 'Alexandra FEIGIN'), ('Karen CHEN', 'Madeline SCHIZAS'), ('Loena HENDRICKX', 'Eliska BREZINOVA'), ('Nicole SCHOTT', 'Eliska BREZINOVA'), ('Karen CHEN', 'Nicole SCHOTT'), ('Kaori SAKAMOTO', 'Eva-Lotta KIIBUS'), ('Mariah BELL', 'Alexandra FEIGIN'), ('Kaori SAKAMOTO', 'Loena HENDRICKX'), ('Eva-Lotta KIIBUS', 'Jenni SAARINEN'), ('Anna SHCHERBAKOVA', 'Eva-Lotta KIIBUS'), ('Wakaba HIGUCHI', 'Karen CHEN'), ('Eva-Lotta KIIBUS', 'Eliska BREZINOVA'), ('Alexandra TRUSOVA', 'Madeline SCHIZAS'), ('Karen CHEN', 'Mariah BELL'), ('Ekaterina RYABOVA', 'Eva-Lotta KIIBUS'), ('Mariah BELL', 'Madeline SCHIZAS'), ('Wakaba HIGUCHI', 'Alexandra FEIGIN'), ('Olga MIKUTINA', 'Ekaterina KURAKOVA'), ('Kaori SAKAMOTO', 'Alexandra FEIGIN'), ('Wakaba HIGUCHI', 'Ekaterina KURAKOVA'), ('Kaori SAKAMOTO', 'Wakaba HIGUCHI'), ('Olga MIKUTINA', 'Alexandra FEIGIN'), ('Alexandra TRUSOVA', 'Jenni SAARINEN'), ('Alexandra FEIGIN', 'Ekaterina KURAKOVA'), ('Kailani CRAINE', 'Ekaterina KURAKOVA'), ('Alexandra TRUSOVA', 'Alexandra FEIGIN'), ('Kaori SAKAMOTO', 'Madeline SCHIZAS'), ('Olga MIKUTINA', 'Ekaterina RYABOVA'), ('Karen CHEN', 'Eliska BREZINOVA'), ('Mariah BELL', 'Eliska BREZINOVA'), ('Alexandra TRUSOVA', 'Eva-Lotta KIIBUS'), ('Kailani CRAINE', 'Jenni SAARINEN'), ('Anna SHCHERBAKOVA', 'Alexandra TRUSOVA'), ('Alexandra TRUSOVA', 'Karen CHEN'), ('Ekaterina RYABOVA', 'Jenni SAARINEN'), ('Kaori SAKAMOTO', 'Kailani CRAINE'), ('Wakaba HIGUCHI', 'Jenni SAARINEN'), ('Karen CHEN', 'Olga MIKUTINA'), ('Wakaba HIGUCHI', 'Eva-Lotta KIIBUS'), ('Kaori SAKAMOTO', 'Eliska BREZINOVA'), ('Madeline SCHIZAS', 'Jenni SAARINEN'), ('Madeline SCHIZAS', 'Kailani CRAINE'), ('Alexandra TRUSOVA', 'Olga MIKUTINA'), ('Mariah BELL', 'Olga MIKUTINA'), ('Kaori SAKAMOTO', 'Karen CHEN'), ('Alexandra TRUSOVA', 'Ekaterina KURAKOVA'), ('Alexandra FEIGIN', 'Kailani CRAINE'), ('Alexandra FEIGIN', 'Eliska BREZINOVA'), ('Anna SHCHERBAKOVA', 'Karen CHEN'), ('Madeline SCHIZAS', 'Nicole SCHOTT'), ('Anna SHCHERBAKOVA', 'Olga MIKUTINA'), ('Eliska BREZINOVA', 'Jenni SAARINEN'), ('Ekaterina RYABOVA', 'Nicole SCHOTT'), ('Kaori SAKAMOTO', 'Jenni SAARINEN'), ('Wakaba HIGUCHI', 'Kailani CRAINE'), ('Loena HENDRICKX', 'Ekaterina RYABOVA'), ('Alexandra TRUSOVA', 'Wakaba HIGUCHI'), ('Karen CHEN', 'Alexandra FEIGIN'), ('Anna SHCHERBAKOVA', 'Nicole SCHOTT'), ('Loena HENDRICKX', 'Olga MIKUTINA'), ('Mariah BELL', 'Nicole SCHOTT'), ('Mariah BELL', 'Ekaterina RYABOVA'), ('Anna SHCHERBAKOVA', 'Jenni SAARINEN'), ('Madeline SCHIZAS', 'Ekaterina KURAKOVA'), ('Mariah BELL', 'Jenni SAARINEN'), ('Loena HENDRICKX', 'Nicole SCHOTT'), ('Alexandra FEIGIN', 'Jenni SAARINEN'), ('Kaori SAKAMOTO', 'Nicole SCHOTT'), ('Alexandra TRUSOVA', 'Kailani CRAINE'), ('Anna SHCHERBAKOVA', 'Madeline SCHIZAS'), ('Nicole SCHOTT', 'Kailani CRAINE'), ('Mariah BELL', 'Ekaterina KURAKOVA'), ('Loena HENDRICKX', 'Eva-Lotta KIIBUS'), ('Olga MIKUTINA', 'Madeline SCHIZAS'), ('Eva-Lotta KIIBUS', 'Nicole SCHOTT'), ('Alexandra TRUSOVA', 'Nicole SCHOTT'), ('Wakaba HIGUCHI', 'Ekaterina RYABOVA'), ('Loena HENDRICKX', 'Kailani CRAINE'), ('Loena HENDRICKX', 'Madeline SCHIZAS'), ('Olga MIKUTINA', 'Eva-Lotta KIIBUS'), ('Eliska BREZINOVA', 'Ekaterina KURAKOVA'), ('Wakaba HIGUCHI', 'Olga MIKUTINA'), ('Anna SHCHERBAKOVA', 'Eliska BREZINOVA'), ('Alexandra TRUSOVA', 'Mariah BELL'), ('Eva-Lotta KIIBUS', 'Kailani CRAINE'), ('Mariah BELL', 'Eva-Lotta KIIBUS'), ('Ekaterina RYABOVA', 'Eliska BREZINOVA')}\n",
            "{('Anna SHCHERBAKOVA', 'Kailani CRAINE'), ('Madeline SCHIZAS', 'Eva-Lotta KIIBUS'), ('Ekaterina RYABOVA', 'Kailani CRAINE'), ('Mariah BELL', 'Kailani CRAINE'), ('Olga MIKUTINA', 'Jenni SAARINEN'), ('Alexandra TRUSOVA', 'Loena HENDRICKX'), ('Madeline SCHIZAS', 'Olga MIKUTINA'), ('Wakaba HIGUCHI', 'Madeline SCHIZAS'), ('Ekaterina RYABOVA', 'Madeline SCHIZAS'), ('Karen CHEN', 'Kailani CRAINE'), ('Wakaba HIGUCHI', 'Nicole SCHOTT'), ('Kaori SAKAMOTO', 'Olga MIKUTINA'), ('Mariah BELL', 'Karen CHEN'), ('Alexandra TRUSOVA', 'Ekaterina RYABOVA'), ('Madeline SCHIZAS', 'Eliska BREZINOVA'), ('Anna SHCHERBAKOVA', 'Kaori SAKAMOTO'), ('Karen CHEN', 'Ekaterina KURAKOVA'), ('Anna SHCHERBAKOVA', 'Wakaba HIGUCHI'), ('Anna SHCHERBAKOVA', 'Alexandra FEIGIN'), ('Ekaterina KURAKOVA', 'Alexandra FEIGIN'), ('Anna SHCHERBAKOVA', 'Ekaterina RYABOVA'), ('Karen CHEN', 'Ekaterina RYABOVA'), ('Anna SHCHERBAKOVA', 'Loena HENDRICKX'), ('Loena HENDRICKX', 'Alexandra FEIGIN'), ('Wakaba HIGUCHI', 'Eliska BREZINOVA'), ('Nicole SCHOTT', 'Jenni SAARINEN'), ('Anna SHCHERBAKOVA', 'Ekaterina KURAKOVA'), ('Eva-Lotta KIIBUS', 'Alexandra FEIGIN'), ('Loena HENDRICKX', 'Mariah BELL'), ('Loena HENDRICKX', 'Karen CHEN'), ('Ekaterina RYABOVA', 'Ekaterina KURAKOVA'), ('Karen CHEN', 'Jenni SAARINEN'), ('Kaori SAKAMOTO', 'Mariah BELL'), ('Kaori SAKAMOTO', 'Ekaterina KURAKOVA'), ('Olga MIKUTINA', 'Eliska BREZINOVA'), ('Karen CHEN', 'Eva-Lotta KIIBUS'), ('Loena HENDRICKX', 'Ekaterina KURAKOVA'), ('Anna SHCHERBAKOVA', 'Mariah BELL'), ('Alexandra TRUSOVA', 'Eliska BREZINOVA'), ('Madeline SCHIZAS', 'Alexandra FEIGIN'), ('Nicole SCHOTT', 'Alexandra FEIGIN'), ('Kaori SAKAMOTO', 'Ekaterina RYABOVA'), ('Loena HENDRICKX', 'Jenni SAARINEN'), ('Ekaterina RYABOVA', 'Alexandra FEIGIN'), ('Karen CHEN', 'Madeline SCHIZAS'), ('Loena HENDRICKX', 'Eliska BREZINOVA'), ('Nicole SCHOTT', 'Eliska BREZINOVA'), ('Karen CHEN', 'Nicole SCHOTT'), ('Kaori SAKAMOTO', 'Eva-Lotta KIIBUS'), ('Mariah BELL', 'Alexandra FEIGIN'), ('Kaori SAKAMOTO', 'Loena HENDRICKX'), ('Eva-Lotta KIIBUS', 'Jenni SAARINEN'), ('Anna SHCHERBAKOVA', 'Eva-Lotta KIIBUS'), ('Wakaba HIGUCHI', 'Karen CHEN'), ('Eva-Lotta KIIBUS', 'Eliska BREZINOVA'), ('Alexandra TRUSOVA', 'Madeline SCHIZAS'), ('Ekaterina RYABOVA', 'Eva-Lotta KIIBUS'), ('Mariah BELL', 'Madeline SCHIZAS'), ('Wakaba HIGUCHI', 'Alexandra FEIGIN'), ('Kaori SAKAMOTO', 'Alexandra FEIGIN'), ('Wakaba HIGUCHI', 'Ekaterina KURAKOVA'), ('Kaori SAKAMOTO', 'Wakaba HIGUCHI'), ('Olga MIKUTINA', 'Alexandra FEIGIN'), ('Alexandra TRUSOVA', 'Jenni SAARINEN'), ('Alexandra TRUSOVA', 'Alexandra FEIGIN'), ('Kailani CRAINE', 'Olga MIKUTINA'), ('Kaori SAKAMOTO', 'Madeline SCHIZAS'), ('Ekaterina RYABOVA', 'Olga MIKUTINA'), ('Mariah BELL', 'Wakaba HIGUCHI'), ('Karen CHEN', 'Eliska BREZINOVA'), ('Kailani CRAINE', 'Alexandra FEIGIN'), ('Mariah BELL', 'Eliska BREZINOVA'), ('Alexandra TRUSOVA', 'Eva-Lotta KIIBUS'), ('Ekaterina KURAKOVA', 'Nicole SCHOTT'), ('Kailani CRAINE', 'Jenni SAARINEN'), ('Anna SHCHERBAKOVA', 'Alexandra TRUSOVA'), ('Alexandra TRUSOVA', 'Karen CHEN'), ('Ekaterina RYABOVA', 'Jenni SAARINEN'), ('Kaori SAKAMOTO', 'Kailani CRAINE'), ('Wakaba HIGUCHI', 'Jenni SAARINEN'), ('Karen CHEN', 'Olga MIKUTINA'), ('Wakaba HIGUCHI', 'Eva-Lotta KIIBUS'), ('Kaori SAKAMOTO', 'Eliska BREZINOVA'), ('Ekaterina KURAKOVA', 'Eva-Lotta KIIBUS'), ('Madeline SCHIZAS', 'Jenni SAARINEN'), ('Madeline SCHIZAS', 'Kailani CRAINE'), ('Alexandra TRUSOVA', 'Olga MIKUTINA'), ('Mariah BELL', 'Olga MIKUTINA'), ('Kaori SAKAMOTO', 'Karen CHEN'), ('Alexandra TRUSOVA', 'Ekaterina KURAKOVA'), ('Alexandra FEIGIN', 'Eliska BREZINOVA'), ('Ekaterina KURAKOVA', 'Olga MIKUTINA'), ('Loena HENDRICKX', 'Wakaba HIGUCHI'), ('Kailani CRAINE', 'Eliska BREZINOVA'), ('Anna SHCHERBAKOVA', 'Karen CHEN'), ('Madeline SCHIZAS', 'Nicole SCHOTT'), ('Anna SHCHERBAKOVA', 'Olga MIKUTINA'), ('Eva-Lotta KIIBUS', 'Olga MIKUTINA'), ('Alexandra TRUSOVA', 'Kaori SAKAMOTO'), ('Eliska BREZINOVA', 'Jenni SAARINEN'), ('Ekaterina RYABOVA', 'Nicole SCHOTT'), ('Kaori SAKAMOTO', 'Jenni SAARINEN'), ('Loena HENDRICKX', 'Ekaterina RYABOVA'), ('Wakaba HIGUCHI', 'Kailani CRAINE'), ('Alexandra TRUSOVA', 'Wakaba HIGUCHI'), ('Ekaterina KURAKOVA', 'Eliska BREZINOVA'), ('Karen CHEN', 'Alexandra FEIGIN'), ('Anna SHCHERBAKOVA', 'Nicole SCHOTT'), ('Loena HENDRICKX', 'Olga MIKUTINA'), ('Ekaterina KURAKOVA', 'Jenni SAARINEN'), ('Mariah BELL', 'Nicole SCHOTT'), ('Ekaterina KURAKOVA', 'Kailani CRAINE'), ('Mariah BELL', 'Ekaterina RYABOVA'), ('Anna SHCHERBAKOVA', 'Jenni SAARINEN'), ('Mariah BELL', 'Jenni SAARINEN'), ('Nicole SCHOTT', 'Olga MIKUTINA'), ('Loena HENDRICKX', 'Nicole SCHOTT'), ('Alexandra FEIGIN', 'Jenni SAARINEN'), ('Kaori SAKAMOTO', 'Nicole SCHOTT'), ('Alexandra TRUSOVA', 'Kailani CRAINE'), ('Anna SHCHERBAKOVA', 'Madeline SCHIZAS'), ('Nicole SCHOTT', 'Kailani CRAINE'), ('Mariah BELL', 'Ekaterina KURAKOVA'), ('Loena HENDRICKX', 'Eva-Lotta KIIBUS'), ('Ekaterina KURAKOVA', 'Madeline SCHIZAS'), ('Eva-Lotta KIIBUS', 'Nicole SCHOTT'), ('Alexandra TRUSOVA', 'Nicole SCHOTT'), ('Loena HENDRICKX', 'Kailani CRAINE'), ('Wakaba HIGUCHI', 'Ekaterina RYABOVA'), ('Loena HENDRICKX', 'Madeline SCHIZAS'), ('Wakaba HIGUCHI', 'Olga MIKUTINA'), ('Anna SHCHERBAKOVA', 'Eliska BREZINOVA'), ('Alexandra TRUSOVA', 'Mariah BELL'), ('Eva-Lotta KIIBUS', 'Kailani CRAINE'), ('Mariah BELL', 'Eva-Lotta KIIBUS'), ('Ekaterina RYABOVA', 'Eliska BREZINOVA')}\n",
            "{('Anna SHCHERBAKOVA', 'Kailani CRAINE'), ('Madeline SCHIZAS', 'Eva-Lotta KIIBUS'), ('Ekaterina RYABOVA', 'Kailani CRAINE'), ('Wakaba HIGUCHI', 'Loena HENDRICKX'), ('Mariah BELL', 'Kailani CRAINE'), ('Olga MIKUTINA', 'Jenni SAARINEN'), ('Alexandra TRUSOVA', 'Loena HENDRICKX'), ('Wakaba HIGUCHI', 'Madeline SCHIZAS'), ('Ekaterina RYABOVA', 'Madeline SCHIZAS'), ('Nicole SCHOTT', 'Ekaterina KURAKOVA'), ('Karen CHEN', 'Kailani CRAINE'), ('Wakaba HIGUCHI', 'Nicole SCHOTT'), ('Olga MIKUTINA', 'Nicole SCHOTT'), ('Kaori SAKAMOTO', 'Olga MIKUTINA'), ('Alexandra TRUSOVA', 'Ekaterina RYABOVA'), ('Madeline SCHIZAS', 'Eliska BREZINOVA'), ('Eliska BREZINOVA', 'Kailani CRAINE'), ('Wakaba HIGUCHI', 'Mariah BELL'), ('Anna SHCHERBAKOVA', 'Kaori SAKAMOTO'), ('Karen CHEN', 'Ekaterina KURAKOVA'), ('Anna SHCHERBAKOVA', 'Wakaba HIGUCHI'), ('Anna SHCHERBAKOVA', 'Alexandra FEIGIN'), ('Anna SHCHERBAKOVA', 'Ekaterina RYABOVA'), ('Karen CHEN', 'Ekaterina RYABOVA'), ('Anna SHCHERBAKOVA', 'Loena HENDRICKX'), ('Loena HENDRICKX', 'Alexandra FEIGIN'), ('Wakaba HIGUCHI', 'Eliska BREZINOVA'), ('Kaori SAKAMOTO', 'Alexandra TRUSOVA'), ('Nicole SCHOTT', 'Jenni SAARINEN'), ('Anna SHCHERBAKOVA', 'Ekaterina KURAKOVA'), ('Eva-Lotta KIIBUS', 'Alexandra FEIGIN'), ('Eva-Lotta KIIBUS', 'Ekaterina KURAKOVA'), ('Loena HENDRICKX', 'Mariah BELL'), ('Olga MIKUTINA', 'Kailani CRAINE'), ('Ekaterina RYABOVA', 'Ekaterina KURAKOVA'), ('Karen CHEN', 'Jenni SAARINEN'), ('Kaori SAKAMOTO', 'Mariah BELL'), ('Kaori SAKAMOTO', 'Ekaterina KURAKOVA'), ('Olga MIKUTINA', 'Eliska BREZINOVA'), ('Karen CHEN', 'Eva-Lotta KIIBUS'), ('Loena HENDRICKX', 'Ekaterina KURAKOVA'), ('Karen CHEN', 'Loena HENDRICKX'), ('Anna SHCHERBAKOVA', 'Mariah BELL'), ('Alexandra TRUSOVA', 'Eliska BREZINOVA'), ('Madeline SCHIZAS', 'Alexandra FEIGIN'), ('Jenni SAARINEN', 'Ekaterina KURAKOVA'), ('Nicole SCHOTT', 'Alexandra FEIGIN'), ('Kaori SAKAMOTO', 'Ekaterina RYABOVA'), ('Loena HENDRICKX', 'Jenni SAARINEN'), ('Ekaterina RYABOVA', 'Alexandra FEIGIN'), ('Karen CHEN', 'Madeline SCHIZAS'), ('Loena HENDRICKX', 'Eliska BREZINOVA'), ('Nicole SCHOTT', 'Eliska BREZINOVA'), ('Karen CHEN', 'Nicole SCHOTT'), ('Kaori SAKAMOTO', 'Eva-Lotta KIIBUS'), ('Mariah BELL', 'Alexandra FEIGIN'), ('Kaori SAKAMOTO', 'Loena HENDRICKX'), ('Eva-Lotta KIIBUS', 'Jenni SAARINEN'), ('Anna SHCHERBAKOVA', 'Eva-Lotta KIIBUS'), ('Wakaba HIGUCHI', 'Karen CHEN'), ('Eva-Lotta KIIBUS', 'Eliska BREZINOVA'), ('Alexandra TRUSOVA', 'Madeline SCHIZAS'), ('Karen CHEN', 'Mariah BELL'), ('Ekaterina RYABOVA', 'Eva-Lotta KIIBUS'), ('Mariah BELL', 'Madeline SCHIZAS'), ('Wakaba HIGUCHI', 'Alexandra FEIGIN'), ('Olga MIKUTINA', 'Ekaterina KURAKOVA'), ('Kaori SAKAMOTO', 'Alexandra FEIGIN'), ('Wakaba HIGUCHI', 'Ekaterina KURAKOVA'), ('Kaori SAKAMOTO', 'Wakaba HIGUCHI'), ('Olga MIKUTINA', 'Alexandra FEIGIN'), ('Alexandra TRUSOVA', 'Jenni SAARINEN'), ('Alexandra FEIGIN', 'Ekaterina KURAKOVA'), ('Kailani CRAINE', 'Ekaterina KURAKOVA'), ('Alexandra TRUSOVA', 'Alexandra FEIGIN'), ('Kaori SAKAMOTO', 'Madeline SCHIZAS'), ('Olga MIKUTINA', 'Ekaterina RYABOVA'), ('Karen CHEN', 'Eliska BREZINOVA'), ('Mariah BELL', 'Eliska BREZINOVA'), ('Alexandra TRUSOVA', 'Eva-Lotta KIIBUS'), ('Kailani CRAINE', 'Jenni SAARINEN'), ('Anna SHCHERBAKOVA', 'Alexandra TRUSOVA'), ('Alexandra TRUSOVA', 'Karen CHEN'), ('Ekaterina RYABOVA', 'Jenni SAARINEN'), ('Kaori SAKAMOTO', 'Kailani CRAINE'), ('Wakaba HIGUCHI', 'Jenni SAARINEN'), ('Karen CHEN', 'Olga MIKUTINA'), ('Wakaba HIGUCHI', 'Eva-Lotta KIIBUS'), ('Kaori SAKAMOTO', 'Eliska BREZINOVA'), ('Madeline SCHIZAS', 'Jenni SAARINEN'), ('Madeline SCHIZAS', 'Kailani CRAINE'), ('Alexandra TRUSOVA', 'Olga MIKUTINA'), ('Mariah BELL', 'Olga MIKUTINA'), ('Kaori SAKAMOTO', 'Karen CHEN'), ('Alexandra TRUSOVA', 'Ekaterina KURAKOVA'), ('Alexandra FEIGIN', 'Kailani CRAINE'), ('Alexandra FEIGIN', 'Eliska BREZINOVA'), ('Anna SHCHERBAKOVA', 'Karen CHEN'), ('Madeline SCHIZAS', 'Nicole SCHOTT'), ('Anna SHCHERBAKOVA', 'Olga MIKUTINA'), ('Eliska BREZINOVA', 'Jenni SAARINEN'), ('Ekaterina RYABOVA', 'Nicole SCHOTT'), ('Kaori SAKAMOTO', 'Jenni SAARINEN'), ('Wakaba HIGUCHI', 'Kailani CRAINE'), ('Loena HENDRICKX', 'Ekaterina RYABOVA'), ('Alexandra TRUSOVA', 'Wakaba HIGUCHI'), ('Karen CHEN', 'Alexandra FEIGIN'), ('Anna SHCHERBAKOVA', 'Nicole SCHOTT'), ('Loena HENDRICKX', 'Olga MIKUTINA'), ('Mariah BELL', 'Nicole SCHOTT'), ('Mariah BELL', 'Ekaterina RYABOVA'), ('Anna SHCHERBAKOVA', 'Jenni SAARINEN'), ('Madeline SCHIZAS', 'Ekaterina KURAKOVA'), ('Mariah BELL', 'Jenni SAARINEN'), ('Loena HENDRICKX', 'Nicole SCHOTT'), ('Alexandra FEIGIN', 'Jenni SAARINEN'), ('Kaori SAKAMOTO', 'Nicole SCHOTT'), ('Alexandra TRUSOVA', 'Kailani CRAINE'), ('Anna SHCHERBAKOVA', 'Madeline SCHIZAS'), ('Nicole SCHOTT', 'Kailani CRAINE'), ('Mariah BELL', 'Ekaterina KURAKOVA'), ('Loena HENDRICKX', 'Eva-Lotta KIIBUS'), ('Olga MIKUTINA', 'Madeline SCHIZAS'), ('Eva-Lotta KIIBUS', 'Nicole SCHOTT'), ('Alexandra TRUSOVA', 'Nicole SCHOTT'), ('Wakaba HIGUCHI', 'Ekaterina RYABOVA'), ('Loena HENDRICKX', 'Kailani CRAINE'), ('Loena HENDRICKX', 'Madeline SCHIZAS'), ('Olga MIKUTINA', 'Eva-Lotta KIIBUS'), ('Eliska BREZINOVA', 'Ekaterina KURAKOVA'), ('Wakaba HIGUCHI', 'Olga MIKUTINA'), ('Anna SHCHERBAKOVA', 'Eliska BREZINOVA'), ('Alexandra TRUSOVA', 'Mariah BELL'), ('Eva-Lotta KIIBUS', 'Kailani CRAINE'), ('Mariah BELL', 'Eva-Lotta KIIBUS'), ('Ekaterina RYABOVA', 'Eliska BREZINOVA')}\n",
            "{('Anna SHCHERBAKOVA', 'Kailani CRAINE'), ('Madeline SCHIZAS', 'Eva-Lotta KIIBUS'), ('Ekaterina RYABOVA', 'Kailani CRAINE'), ('Alexandra FEIGIN', 'Olga MIKUTINA'), ('Mariah BELL', 'Kailani CRAINE'), ('Olga MIKUTINA', 'Jenni SAARINEN'), ('Alexandra TRUSOVA', 'Loena HENDRICKX'), ('Madeline SCHIZAS', 'Olga MIKUTINA'), ('Wakaba HIGUCHI', 'Madeline SCHIZAS'), ('Ekaterina RYABOVA', 'Madeline SCHIZAS'), ('Karen CHEN', 'Kailani CRAINE'), ('Wakaba HIGUCHI', 'Nicole SCHOTT'), ('Kaori SAKAMOTO', 'Olga MIKUTINA'), ('Mariah BELL', 'Karen CHEN'), ('Alexandra TRUSOVA', 'Ekaterina RYABOVA'), ('Madeline SCHIZAS', 'Eliska BREZINOVA'), ('Anna SHCHERBAKOVA', 'Kaori SAKAMOTO'), ('Karen CHEN', 'Ekaterina KURAKOVA'), ('Anna SHCHERBAKOVA', 'Wakaba HIGUCHI'), ('Anna SHCHERBAKOVA', 'Alexandra FEIGIN'), ('Ekaterina KURAKOVA', 'Alexandra FEIGIN'), ('Anna SHCHERBAKOVA', 'Ekaterina RYABOVA'), ('Karen CHEN', 'Ekaterina RYABOVA'), ('Anna SHCHERBAKOVA', 'Loena HENDRICKX'), ('Loena HENDRICKX', 'Alexandra FEIGIN'), ('Wakaba HIGUCHI', 'Eliska BREZINOVA'), ('Nicole SCHOTT', 'Jenni SAARINEN'), ('Anna SHCHERBAKOVA', 'Ekaterina KURAKOVA'), ('Eva-Lotta KIIBUS', 'Alexandra FEIGIN'), ('Loena HENDRICKX', 'Mariah BELL'), ('Loena HENDRICKX', 'Karen CHEN'), ('Ekaterina RYABOVA', 'Ekaterina KURAKOVA'), ('Karen CHEN', 'Jenni SAARINEN'), ('Kaori SAKAMOTO', 'Mariah BELL'), ('Kaori SAKAMOTO', 'Ekaterina KURAKOVA'), ('Olga MIKUTINA', 'Eliska BREZINOVA'), ('Karen CHEN', 'Eva-Lotta KIIBUS'), ('Loena HENDRICKX', 'Ekaterina KURAKOVA'), ('Anna SHCHERBAKOVA', 'Mariah BELL'), ('Alexandra TRUSOVA', 'Eliska BREZINOVA'), ('Madeline SCHIZAS', 'Alexandra FEIGIN'), ('Nicole SCHOTT', 'Alexandra FEIGIN'), ('Kaori SAKAMOTO', 'Ekaterina RYABOVA'), ('Loena HENDRICKX', 'Jenni SAARINEN'), ('Ekaterina RYABOVA', 'Alexandra FEIGIN'), ('Karen CHEN', 'Madeline SCHIZAS'), ('Loena HENDRICKX', 'Eliska BREZINOVA'), ('Nicole SCHOTT', 'Eliska BREZINOVA'), ('Karen CHEN', 'Nicole SCHOTT'), ('Kaori SAKAMOTO', 'Eva-Lotta KIIBUS'), ('Mariah BELL', 'Alexandra FEIGIN'), ('Kaori SAKAMOTO', 'Loena HENDRICKX'), ('Eva-Lotta KIIBUS', 'Jenni SAARINEN'), ('Anna SHCHERBAKOVA', 'Eva-Lotta KIIBUS'), ('Wakaba HIGUCHI', 'Karen CHEN'), ('Eva-Lotta KIIBUS', 'Eliska BREZINOVA'), ('Alexandra TRUSOVA', 'Madeline SCHIZAS'), ('Ekaterina RYABOVA', 'Eva-Lotta KIIBUS'), ('Mariah BELL', 'Madeline SCHIZAS'), ('Wakaba HIGUCHI', 'Alexandra FEIGIN'), ('Kaori SAKAMOTO', 'Alexandra FEIGIN'), ('Wakaba HIGUCHI', 'Ekaterina KURAKOVA'), ('Kaori SAKAMOTO', 'Wakaba HIGUCHI'), ('Alexandra TRUSOVA', 'Jenni SAARINEN'), ('Alexandra TRUSOVA', 'Alexandra FEIGIN'), ('Kailani CRAINE', 'Olga MIKUTINA'), ('Kaori SAKAMOTO', 'Madeline SCHIZAS'), ('Ekaterina RYABOVA', 'Olga MIKUTINA'), ('Mariah BELL', 'Wakaba HIGUCHI'), ('Karen CHEN', 'Eliska BREZINOVA'), ('Kailani CRAINE', 'Alexandra FEIGIN'), ('Mariah BELL', 'Eliska BREZINOVA'), ('Alexandra TRUSOVA', 'Eva-Lotta KIIBUS'), ('Ekaterina KURAKOVA', 'Nicole SCHOTT'), ('Kailani CRAINE', 'Jenni SAARINEN'), ('Anna SHCHERBAKOVA', 'Alexandra TRUSOVA'), ('Alexandra TRUSOVA', 'Karen CHEN'), ('Ekaterina RYABOVA', 'Jenni SAARINEN'), ('Kaori SAKAMOTO', 'Kailani CRAINE'), ('Wakaba HIGUCHI', 'Jenni SAARINEN'), ('Karen CHEN', 'Olga MIKUTINA'), ('Wakaba HIGUCHI', 'Eva-Lotta KIIBUS'), ('Kaori SAKAMOTO', 'Eliska BREZINOVA'), ('Ekaterina KURAKOVA', 'Eva-Lotta KIIBUS'), ('Madeline SCHIZAS', 'Jenni SAARINEN'), ('Madeline SCHIZAS', 'Kailani CRAINE'), ('Alexandra TRUSOVA', 'Olga MIKUTINA'), ('Mariah BELL', 'Olga MIKUTINA'), ('Kaori SAKAMOTO', 'Karen CHEN'), ('Alexandra TRUSOVA', 'Ekaterina KURAKOVA'), ('Alexandra FEIGIN', 'Eliska BREZINOVA'), ('Ekaterina KURAKOVA', 'Olga MIKUTINA'), ('Loena HENDRICKX', 'Wakaba HIGUCHI'), ('Kailani CRAINE', 'Eliska BREZINOVA'), ('Anna SHCHERBAKOVA', 'Karen CHEN'), ('Madeline SCHIZAS', 'Nicole SCHOTT'), ('Anna SHCHERBAKOVA', 'Olga MIKUTINA'), ('Eva-Lotta KIIBUS', 'Olga MIKUTINA'), ('Alexandra TRUSOVA', 'Kaori SAKAMOTO'), ('Eliska BREZINOVA', 'Jenni SAARINEN'), ('Ekaterina RYABOVA', 'Nicole SCHOTT'), ('Kaori SAKAMOTO', 'Jenni SAARINEN'), ('Loena HENDRICKX', 'Ekaterina RYABOVA'), ('Wakaba HIGUCHI', 'Kailani CRAINE'), ('Alexandra TRUSOVA', 'Wakaba HIGUCHI'), ('Ekaterina KURAKOVA', 'Eliska BREZINOVA'), ('Karen CHEN', 'Alexandra FEIGIN'), ('Anna SHCHERBAKOVA', 'Nicole SCHOTT'), ('Loena HENDRICKX', 'Olga MIKUTINA'), ('Ekaterina KURAKOVA', 'Jenni SAARINEN'), ('Mariah BELL', 'Nicole SCHOTT'), ('Ekaterina KURAKOVA', 'Kailani CRAINE'), ('Mariah BELL', 'Ekaterina RYABOVA'), ('Anna SHCHERBAKOVA', 'Jenni SAARINEN'), ('Madeline SCHIZAS', 'Ekaterina KURAKOVA'), ('Mariah BELL', 'Jenni SAARINEN'), ('Nicole SCHOTT', 'Olga MIKUTINA'), ('Loena HENDRICKX', 'Nicole SCHOTT'), ('Alexandra FEIGIN', 'Jenni SAARINEN'), ('Kaori SAKAMOTO', 'Nicole SCHOTT'), ('Alexandra TRUSOVA', 'Kailani CRAINE'), ('Anna SHCHERBAKOVA', 'Madeline SCHIZAS'), ('Nicole SCHOTT', 'Kailani CRAINE'), ('Mariah BELL', 'Ekaterina KURAKOVA'), ('Loena HENDRICKX', 'Eva-Lotta KIIBUS'), ('Eva-Lotta KIIBUS', 'Nicole SCHOTT'), ('Alexandra TRUSOVA', 'Nicole SCHOTT'), ('Loena HENDRICKX', 'Kailani CRAINE'), ('Wakaba HIGUCHI', 'Ekaterina RYABOVA'), ('Loena HENDRICKX', 'Madeline SCHIZAS'), ('Wakaba HIGUCHI', 'Olga MIKUTINA'), ('Anna SHCHERBAKOVA', 'Eliska BREZINOVA'), ('Alexandra TRUSOVA', 'Mariah BELL'), ('Eva-Lotta KIIBUS', 'Kailani CRAINE'), ('Mariah BELL', 'Eva-Lotta KIIBUS'), ('Ekaterina RYABOVA', 'Eliska BREZINOVA')}\n",
            "{('Anna SHCHERBAKOVA', 'Kailani CRAINE'), ('Madeline SCHIZAS', 'Eva-Lotta KIIBUS'), ('Ekaterina RYABOVA', 'Kailani CRAINE'), ('Wakaba HIGUCHI', 'Loena HENDRICKX'), ('Mariah BELL', 'Kailani CRAINE'), ('Olga MIKUTINA', 'Jenni SAARINEN'), ('Alexandra TRUSOVA', 'Loena HENDRICKX'), ('Wakaba HIGUCHI', 'Madeline SCHIZAS'), ('Ekaterina RYABOVA', 'Madeline SCHIZAS'), ('Nicole SCHOTT', 'Ekaterina KURAKOVA'), ('Karen CHEN', 'Kailani CRAINE'), ('Wakaba HIGUCHI', 'Nicole SCHOTT'), ('Olga MIKUTINA', 'Nicole SCHOTT'), ('Kaori SAKAMOTO', 'Olga MIKUTINA'), ('Alexandra TRUSOVA', 'Ekaterina RYABOVA'), ('Madeline SCHIZAS', 'Eliska BREZINOVA'), ('Eliska BREZINOVA', 'Kailani CRAINE'), ('Wakaba HIGUCHI', 'Mariah BELL'), ('Anna SHCHERBAKOVA', 'Kaori SAKAMOTO'), ('Karen CHEN', 'Ekaterina KURAKOVA'), ('Anna SHCHERBAKOVA', 'Wakaba HIGUCHI'), ('Anna SHCHERBAKOVA', 'Alexandra FEIGIN'), ('Anna SHCHERBAKOVA', 'Ekaterina RYABOVA'), ('Karen CHEN', 'Ekaterina RYABOVA'), ('Anna SHCHERBAKOVA', 'Loena HENDRICKX'), ('Loena HENDRICKX', 'Alexandra FEIGIN'), ('Wakaba HIGUCHI', 'Eliska BREZINOVA'), ('Kaori SAKAMOTO', 'Alexandra TRUSOVA'), ('Nicole SCHOTT', 'Jenni SAARINEN'), ('Anna SHCHERBAKOVA', 'Ekaterina KURAKOVA'), ('Eva-Lotta KIIBUS', 'Alexandra FEIGIN'), ('Eva-Lotta KIIBUS', 'Ekaterina KURAKOVA'), ('Loena HENDRICKX', 'Mariah BELL'), ('Olga MIKUTINA', 'Kailani CRAINE'), ('Ekaterina RYABOVA', 'Ekaterina KURAKOVA'), ('Karen CHEN', 'Jenni SAARINEN'), ('Kaori SAKAMOTO', 'Mariah BELL'), ('Kaori SAKAMOTO', 'Ekaterina KURAKOVA'), ('Olga MIKUTINA', 'Eliska BREZINOVA'), ('Karen CHEN', 'Eva-Lotta KIIBUS'), ('Loena HENDRICKX', 'Ekaterina KURAKOVA'), ('Karen CHEN', 'Loena HENDRICKX'), ('Anna SHCHERBAKOVA', 'Mariah BELL'), ('Alexandra TRUSOVA', 'Eliska BREZINOVA'), ('Madeline SCHIZAS', 'Alexandra FEIGIN'), ('Jenni SAARINEN', 'Ekaterina KURAKOVA'), ('Nicole SCHOTT', 'Alexandra FEIGIN'), ('Kaori SAKAMOTO', 'Ekaterina RYABOVA'), ('Loena HENDRICKX', 'Jenni SAARINEN'), ('Ekaterina RYABOVA', 'Alexandra FEIGIN'), ('Karen CHEN', 'Madeline SCHIZAS'), ('Loena HENDRICKX', 'Eliska BREZINOVA'), ('Nicole SCHOTT', 'Eliska BREZINOVA'), ('Karen CHEN', 'Nicole SCHOTT'), ('Kaori SAKAMOTO', 'Eva-Lotta KIIBUS'), ('Mariah BELL', 'Alexandra FEIGIN'), ('Kaori SAKAMOTO', 'Loena HENDRICKX'), ('Eva-Lotta KIIBUS', 'Jenni SAARINEN'), ('Anna SHCHERBAKOVA', 'Eva-Lotta KIIBUS'), ('Wakaba HIGUCHI', 'Karen CHEN'), ('Eva-Lotta KIIBUS', 'Eliska BREZINOVA'), ('Alexandra TRUSOVA', 'Madeline SCHIZAS'), ('Karen CHEN', 'Mariah BELL'), ('Ekaterina RYABOVA', 'Eva-Lotta KIIBUS'), ('Mariah BELL', 'Madeline SCHIZAS'), ('Wakaba HIGUCHI', 'Alexandra FEIGIN'), ('Olga MIKUTINA', 'Ekaterina KURAKOVA'), ('Kaori SAKAMOTO', 'Alexandra FEIGIN'), ('Wakaba HIGUCHI', 'Ekaterina KURAKOVA'), ('Kaori SAKAMOTO', 'Wakaba HIGUCHI'), ('Olga MIKUTINA', 'Alexandra FEIGIN'), ('Alexandra TRUSOVA', 'Jenni SAARINEN'), ('Alexandra FEIGIN', 'Ekaterina KURAKOVA'), ('Kailani CRAINE', 'Ekaterina KURAKOVA'), ('Alexandra TRUSOVA', 'Alexandra FEIGIN'), ('Kaori SAKAMOTO', 'Madeline SCHIZAS'), ('Olga MIKUTINA', 'Ekaterina RYABOVA'), ('Karen CHEN', 'Eliska BREZINOVA'), ('Mariah BELL', 'Eliska BREZINOVA'), ('Alexandra TRUSOVA', 'Eva-Lotta KIIBUS'), ('Kailani CRAINE', 'Jenni SAARINEN'), ('Anna SHCHERBAKOVA', 'Alexandra TRUSOVA'), ('Alexandra TRUSOVA', 'Karen CHEN'), ('Ekaterina RYABOVA', 'Jenni SAARINEN'), ('Kaori SAKAMOTO', 'Kailani CRAINE'), ('Wakaba HIGUCHI', 'Jenni SAARINEN'), ('Karen CHEN', 'Olga MIKUTINA'), ('Wakaba HIGUCHI', 'Eva-Lotta KIIBUS'), ('Kaori SAKAMOTO', 'Eliska BREZINOVA'), ('Madeline SCHIZAS', 'Jenni SAARINEN'), ('Madeline SCHIZAS', 'Kailani CRAINE'), ('Alexandra TRUSOVA', 'Olga MIKUTINA'), ('Mariah BELL', 'Olga MIKUTINA'), ('Kaori SAKAMOTO', 'Karen CHEN'), ('Alexandra TRUSOVA', 'Ekaterina KURAKOVA'), ('Alexandra FEIGIN', 'Kailani CRAINE'), ('Alexandra FEIGIN', 'Eliska BREZINOVA'), ('Anna SHCHERBAKOVA', 'Karen CHEN'), ('Madeline SCHIZAS', 'Nicole SCHOTT'), ('Anna SHCHERBAKOVA', 'Olga MIKUTINA'), ('Eliska BREZINOVA', 'Jenni SAARINEN'), ('Ekaterina RYABOVA', 'Nicole SCHOTT'), ('Kaori SAKAMOTO', 'Jenni SAARINEN'), ('Wakaba HIGUCHI', 'Kailani CRAINE'), ('Loena HENDRICKX', 'Ekaterina RYABOVA'), ('Alexandra TRUSOVA', 'Wakaba HIGUCHI'), ('Karen CHEN', 'Alexandra FEIGIN'), ('Anna SHCHERBAKOVA', 'Nicole SCHOTT'), ('Loena HENDRICKX', 'Olga MIKUTINA'), ('Mariah BELL', 'Nicole SCHOTT'), ('Mariah BELL', 'Ekaterina RYABOVA'), ('Anna SHCHERBAKOVA', 'Jenni SAARINEN'), ('Madeline SCHIZAS', 'Ekaterina KURAKOVA'), ('Mariah BELL', 'Jenni SAARINEN'), ('Loena HENDRICKX', 'Nicole SCHOTT'), ('Alexandra FEIGIN', 'Jenni SAARINEN'), ('Kaori SAKAMOTO', 'Nicole SCHOTT'), ('Alexandra TRUSOVA', 'Kailani CRAINE'), ('Anna SHCHERBAKOVA', 'Madeline SCHIZAS'), ('Nicole SCHOTT', 'Kailani CRAINE'), ('Mariah BELL', 'Ekaterina KURAKOVA'), ('Loena HENDRICKX', 'Eva-Lotta KIIBUS'), ('Olga MIKUTINA', 'Madeline SCHIZAS'), ('Eva-Lotta KIIBUS', 'Nicole SCHOTT'), ('Alexandra TRUSOVA', 'Nicole SCHOTT'), ('Wakaba HIGUCHI', 'Ekaterina RYABOVA'), ('Loena HENDRICKX', 'Kailani CRAINE'), ('Loena HENDRICKX', 'Madeline SCHIZAS'), ('Olga MIKUTINA', 'Eva-Lotta KIIBUS'), ('Eliska BREZINOVA', 'Ekaterina KURAKOVA'), ('Wakaba HIGUCHI', 'Olga MIKUTINA'), ('Anna SHCHERBAKOVA', 'Eliska BREZINOVA'), ('Alexandra TRUSOVA', 'Mariah BELL'), ('Eva-Lotta KIIBUS', 'Kailani CRAINE'), ('Mariah BELL', 'Eva-Lotta KIIBUS'), ('Ekaterina RYABOVA', 'Eliska BREZINOVA')}\n",
            "{('Anna SHCHERBAKOVA', 'Kailani CRAINE'), ('Madeline SCHIZAS', 'Eva-Lotta KIIBUS'), ('Ekaterina RYABOVA', 'Kailani CRAINE'), ('Alexandra FEIGIN', 'Olga MIKUTINA'), ('Mariah BELL', 'Kailani CRAINE'), ('Olga MIKUTINA', 'Jenni SAARINEN'), ('Alexandra TRUSOVA', 'Loena HENDRICKX'), ('Madeline SCHIZAS', 'Olga MIKUTINA'), ('Wakaba HIGUCHI', 'Madeline SCHIZAS'), ('Karen CHEN', 'Kailani CRAINE'), ('Wakaba HIGUCHI', 'Nicole SCHOTT'), ('Kaori SAKAMOTO', 'Olga MIKUTINA'), ('Mariah BELL', 'Karen CHEN'), ('Alexandra TRUSOVA', 'Ekaterina RYABOVA'), ('Madeline SCHIZAS', 'Eliska BREZINOVA'), ('Wakaba HIGUCHI', 'Mariah BELL'), ('Anna SHCHERBAKOVA', 'Kaori SAKAMOTO'), ('Karen CHEN', 'Ekaterina KURAKOVA'), ('Anna SHCHERBAKOVA', 'Wakaba HIGUCHI'), ('Anna SHCHERBAKOVA', 'Alexandra FEIGIN'), ('Ekaterina KURAKOVA', 'Alexandra FEIGIN'), ('Anna SHCHERBAKOVA', 'Ekaterina RYABOVA'), ('Karen CHEN', 'Ekaterina RYABOVA'), ('Anna SHCHERBAKOVA', 'Loena HENDRICKX'), ('Loena HENDRICKX', 'Alexandra FEIGIN'), ('Wakaba HIGUCHI', 'Eliska BREZINOVA'), ('Nicole SCHOTT', 'Jenni SAARINEN'), ('Anna SHCHERBAKOVA', 'Ekaterina KURAKOVA'), ('Eva-Lotta KIIBUS', 'Alexandra FEIGIN'), ('Loena HENDRICKX', 'Mariah BELL'), ('Loena HENDRICKX', 'Karen CHEN'), ('Ekaterina RYABOVA', 'Ekaterina KURAKOVA'), ('Karen CHEN', 'Jenni SAARINEN'), ('Kaori SAKAMOTO', 'Mariah BELL'), ('Kaori SAKAMOTO', 'Ekaterina KURAKOVA'), ('Karen CHEN', 'Eva-Lotta KIIBUS'), ('Loena HENDRICKX', 'Ekaterina KURAKOVA'), ('Anna SHCHERBAKOVA', 'Mariah BELL'), ('Alexandra TRUSOVA', 'Eliska BREZINOVA'), ('Madeline SCHIZAS', 'Alexandra FEIGIN'), ('Nicole SCHOTT', 'Alexandra FEIGIN'), ('Kaori SAKAMOTO', 'Ekaterina RYABOVA'), ('Loena HENDRICKX', 'Jenni SAARINEN'), ('Ekaterina RYABOVA', 'Alexandra FEIGIN'), ('Karen CHEN', 'Madeline SCHIZAS'), ('Eliska BREZINOVA', 'Olga MIKUTINA'), ('Loena HENDRICKX', 'Eliska BREZINOVA'), ('Nicole SCHOTT', 'Eliska BREZINOVA'), ('Karen CHEN', 'Nicole SCHOTT'), ('Kaori SAKAMOTO', 'Eva-Lotta KIIBUS'), ('Mariah BELL', 'Alexandra FEIGIN'), ('Kaori SAKAMOTO', 'Loena HENDRICKX'), ('Eva-Lotta KIIBUS', 'Jenni SAARINEN'), ('Anna SHCHERBAKOVA', 'Eva-Lotta KIIBUS'), ('Wakaba HIGUCHI', 'Karen CHEN'), ('Eva-Lotta KIIBUS', 'Eliska BREZINOVA'), ('Alexandra TRUSOVA', 'Madeline SCHIZAS'), ('Ekaterina RYABOVA', 'Eva-Lotta KIIBUS'), ('Mariah BELL', 'Madeline SCHIZAS'), ('Wakaba HIGUCHI', 'Alexandra FEIGIN'), ('Kaori SAKAMOTO', 'Alexandra FEIGIN'), ('Wakaba HIGUCHI', 'Ekaterina KURAKOVA'), ('Kaori SAKAMOTO', 'Wakaba HIGUCHI'), ('Alexandra TRUSOVA', 'Jenni SAARINEN'), ('Alexandra TRUSOVA', 'Alexandra FEIGIN'), ('Kailani CRAINE', 'Olga MIKUTINA'), ('Kaori SAKAMOTO', 'Madeline SCHIZAS'), ('Ekaterina RYABOVA', 'Olga MIKUTINA'), ('Karen CHEN', 'Eliska BREZINOVA'), ('Kailani CRAINE', 'Alexandra FEIGIN'), ('Mariah BELL', 'Eliska BREZINOVA'), ('Alexandra TRUSOVA', 'Eva-Lotta KIIBUS'), ('Ekaterina KURAKOVA', 'Nicole SCHOTT'), ('Kailani CRAINE', 'Jenni SAARINEN'), ('Anna SHCHERBAKOVA', 'Alexandra TRUSOVA'), ('Alexandra TRUSOVA', 'Karen CHEN'), ('Ekaterina RYABOVA', 'Jenni SAARINEN'), ('Kaori SAKAMOTO', 'Kailani CRAINE'), ('Wakaba HIGUCHI', 'Jenni SAARINEN'), ('Karen CHEN', 'Olga MIKUTINA'), ('Wakaba HIGUCHI', 'Eva-Lotta KIIBUS'), ('Kaori SAKAMOTO', 'Eliska BREZINOVA'), ('Ekaterina KURAKOVA', 'Eva-Lotta KIIBUS'), ('Madeline SCHIZAS', 'Jenni SAARINEN'), ('Madeline SCHIZAS', 'Kailani CRAINE'), ('Alexandra TRUSOVA', 'Olga MIKUTINA'), ('Mariah BELL', 'Olga MIKUTINA'), ('Kaori SAKAMOTO', 'Karen CHEN'), ('Alexandra TRUSOVA', 'Ekaterina KURAKOVA'), ('Alexandra FEIGIN', 'Eliska BREZINOVA'), ('Ekaterina KURAKOVA', 'Olga MIKUTINA'), ('Loena HENDRICKX', 'Wakaba HIGUCHI'), ('Kailani CRAINE', 'Eliska BREZINOVA'), ('Anna SHCHERBAKOVA', 'Karen CHEN'), ('Madeline SCHIZAS', 'Nicole SCHOTT'), ('Anna SHCHERBAKOVA', 'Olga MIKUTINA'), ('Eva-Lotta KIIBUS', 'Olga MIKUTINA'), ('Alexandra TRUSOVA', 'Kaori SAKAMOTO'), ('Eliska BREZINOVA', 'Jenni SAARINEN'), ('Ekaterina RYABOVA', 'Nicole SCHOTT'), ('Kaori SAKAMOTO', 'Jenni SAARINEN'), ('Loena HENDRICKX', 'Ekaterina RYABOVA'), ('Wakaba HIGUCHI', 'Kailani CRAINE'), ('Alexandra TRUSOVA', 'Wakaba HIGUCHI'), ('Ekaterina KURAKOVA', 'Eliska BREZINOVA'), ('Karen CHEN', 'Alexandra FEIGIN'), ('Anna SHCHERBAKOVA', 'Nicole SCHOTT'), ('Loena HENDRICKX', 'Olga MIKUTINA'), ('Ekaterina KURAKOVA', 'Jenni SAARINEN'), ('Mariah BELL', 'Nicole SCHOTT'), ('Ekaterina KURAKOVA', 'Kailani CRAINE'), ('Mariah BELL', 'Ekaterina RYABOVA'), ('Anna SHCHERBAKOVA', 'Jenni SAARINEN'), ('Madeline SCHIZAS', 'Ekaterina KURAKOVA'), ('Mariah BELL', 'Jenni SAARINEN'), ('Nicole SCHOTT', 'Olga MIKUTINA'), ('Loena HENDRICKX', 'Nicole SCHOTT'), ('Alexandra FEIGIN', 'Jenni SAARINEN'), ('Kaori SAKAMOTO', 'Nicole SCHOTT'), ('Alexandra TRUSOVA', 'Kailani CRAINE'), ('Anna SHCHERBAKOVA', 'Madeline SCHIZAS'), ('Nicole SCHOTT', 'Kailani CRAINE'), ('Mariah BELL', 'Ekaterina KURAKOVA'), ('Loena HENDRICKX', 'Eva-Lotta KIIBUS'), ('Madeline SCHIZAS', 'Ekaterina RYABOVA'), ('Eva-Lotta KIIBUS', 'Nicole SCHOTT'), ('Alexandra TRUSOVA', 'Nicole SCHOTT'), ('Loena HENDRICKX', 'Kailani CRAINE'), ('Wakaba HIGUCHI', 'Ekaterina RYABOVA'), ('Loena HENDRICKX', 'Madeline SCHIZAS'), ('Wakaba HIGUCHI', 'Olga MIKUTINA'), ('Anna SHCHERBAKOVA', 'Eliska BREZINOVA'), ('Alexandra TRUSOVA', 'Mariah BELL'), ('Eva-Lotta KIIBUS', 'Kailani CRAINE'), ('Mariah BELL', 'Eva-Lotta KIIBUS'), ('Ekaterina RYABOVA', 'Eliska BREZINOVA')}\n",
            "{('Anna SHCHERBAKOVA', 'Kailani CRAINE'), ('Madeline SCHIZAS', 'Eva-Lotta KIIBUS'), ('Ekaterina RYABOVA', 'Kailani CRAINE'), ('Wakaba HIGUCHI', 'Loena HENDRICKX'), ('Mariah BELL', 'Kailani CRAINE'), ('Olga MIKUTINA', 'Jenni SAARINEN'), ('Alexandra TRUSOVA', 'Loena HENDRICKX'), ('Wakaba HIGUCHI', 'Madeline SCHIZAS'), ('Ekaterina RYABOVA', 'Madeline SCHIZAS'), ('Nicole SCHOTT', 'Ekaterina KURAKOVA'), ('Karen CHEN', 'Kailani CRAINE'), ('Wakaba HIGUCHI', 'Nicole SCHOTT'), ('Olga MIKUTINA', 'Nicole SCHOTT'), ('Kaori SAKAMOTO', 'Olga MIKUTINA'), ('Alexandra TRUSOVA', 'Ekaterina RYABOVA'), ('Madeline SCHIZAS', 'Eliska BREZINOVA'), ('Eliska BREZINOVA', 'Kailani CRAINE'), ('Wakaba HIGUCHI', 'Mariah BELL'), ('Anna SHCHERBAKOVA', 'Kaori SAKAMOTO'), ('Karen CHEN', 'Ekaterina KURAKOVA'), ('Anna SHCHERBAKOVA', 'Wakaba HIGUCHI'), ('Anna SHCHERBAKOVA', 'Alexandra FEIGIN'), ('Anna SHCHERBAKOVA', 'Ekaterina RYABOVA'), ('Karen CHEN', 'Ekaterina RYABOVA'), ('Anna SHCHERBAKOVA', 'Loena HENDRICKX'), ('Loena HENDRICKX', 'Alexandra FEIGIN'), ('Wakaba HIGUCHI', 'Eliska BREZINOVA'), ('Kaori SAKAMOTO', 'Alexandra TRUSOVA'), ('Nicole SCHOTT', 'Jenni SAARINEN'), ('Anna SHCHERBAKOVA', 'Ekaterina KURAKOVA'), ('Eva-Lotta KIIBUS', 'Alexandra FEIGIN'), ('Eva-Lotta KIIBUS', 'Ekaterina KURAKOVA'), ('Loena HENDRICKX', 'Mariah BELL'), ('Olga MIKUTINA', 'Kailani CRAINE'), ('Ekaterina RYABOVA', 'Ekaterina KURAKOVA'), ('Karen CHEN', 'Jenni SAARINEN'), ('Kaori SAKAMOTO', 'Mariah BELL'), ('Kaori SAKAMOTO', 'Ekaterina KURAKOVA'), ('Olga MIKUTINA', 'Eliska BREZINOVA'), ('Karen CHEN', 'Eva-Lotta KIIBUS'), ('Loena HENDRICKX', 'Ekaterina KURAKOVA'), ('Karen CHEN', 'Loena HENDRICKX'), ('Anna SHCHERBAKOVA', 'Mariah BELL'), ('Alexandra TRUSOVA', 'Eliska BREZINOVA'), ('Madeline SCHIZAS', 'Alexandra FEIGIN'), ('Jenni SAARINEN', 'Ekaterina KURAKOVA'), ('Nicole SCHOTT', 'Alexandra FEIGIN'), ('Kaori SAKAMOTO', 'Ekaterina RYABOVA'), ('Loena HENDRICKX', 'Jenni SAARINEN'), ('Ekaterina RYABOVA', 'Alexandra FEIGIN'), ('Karen CHEN', 'Madeline SCHIZAS'), ('Loena HENDRICKX', 'Eliska BREZINOVA'), ('Nicole SCHOTT', 'Eliska BREZINOVA'), ('Karen CHEN', 'Nicole SCHOTT'), ('Kaori SAKAMOTO', 'Eva-Lotta KIIBUS'), ('Mariah BELL', 'Alexandra FEIGIN'), ('Kaori SAKAMOTO', 'Loena HENDRICKX'), ('Eva-Lotta KIIBUS', 'Jenni SAARINEN'), ('Anna SHCHERBAKOVA', 'Eva-Lotta KIIBUS'), ('Wakaba HIGUCHI', 'Karen CHEN'), ('Eva-Lotta KIIBUS', 'Eliska BREZINOVA'), ('Alexandra TRUSOVA', 'Madeline SCHIZAS'), ('Karen CHEN', 'Mariah BELL'), ('Ekaterina RYABOVA', 'Eva-Lotta KIIBUS'), ('Mariah BELL', 'Madeline SCHIZAS'), ('Wakaba HIGUCHI', 'Alexandra FEIGIN'), ('Olga MIKUTINA', 'Ekaterina KURAKOVA'), ('Kaori SAKAMOTO', 'Alexandra FEIGIN'), ('Wakaba HIGUCHI', 'Ekaterina KURAKOVA'), ('Kaori SAKAMOTO', 'Wakaba HIGUCHI'), ('Olga MIKUTINA', 'Alexandra FEIGIN'), ('Alexandra TRUSOVA', 'Jenni SAARINEN'), ('Alexandra FEIGIN', 'Ekaterina KURAKOVA'), ('Kailani CRAINE', 'Ekaterina KURAKOVA'), ('Alexandra TRUSOVA', 'Alexandra FEIGIN'), ('Kaori SAKAMOTO', 'Madeline SCHIZAS'), ('Olga MIKUTINA', 'Ekaterina RYABOVA'), ('Karen CHEN', 'Eliska BREZINOVA'), ('Mariah BELL', 'Eliska BREZINOVA'), ('Alexandra TRUSOVA', 'Eva-Lotta KIIBUS'), ('Kailani CRAINE', 'Jenni SAARINEN'), ('Anna SHCHERBAKOVA', 'Alexandra TRUSOVA'), ('Alexandra TRUSOVA', 'Karen CHEN'), ('Ekaterina RYABOVA', 'Jenni SAARINEN'), ('Kaori SAKAMOTO', 'Kailani CRAINE'), ('Wakaba HIGUCHI', 'Jenni SAARINEN'), ('Karen CHEN', 'Olga MIKUTINA'), ('Wakaba HIGUCHI', 'Eva-Lotta KIIBUS'), ('Kaori SAKAMOTO', 'Eliska BREZINOVA'), ('Madeline SCHIZAS', 'Jenni SAARINEN'), ('Madeline SCHIZAS', 'Kailani CRAINE'), ('Alexandra TRUSOVA', 'Olga MIKUTINA'), ('Mariah BELL', 'Olga MIKUTINA'), ('Kaori SAKAMOTO', 'Karen CHEN'), ('Alexandra TRUSOVA', 'Ekaterina KURAKOVA'), ('Alexandra FEIGIN', 'Kailani CRAINE'), ('Alexandra FEIGIN', 'Eliska BREZINOVA'), ('Anna SHCHERBAKOVA', 'Karen CHEN'), ('Madeline SCHIZAS', 'Nicole SCHOTT'), ('Anna SHCHERBAKOVA', 'Olga MIKUTINA'), ('Eliska BREZINOVA', 'Jenni SAARINEN'), ('Ekaterina RYABOVA', 'Nicole SCHOTT'), ('Kaori SAKAMOTO', 'Jenni SAARINEN'), ('Wakaba HIGUCHI', 'Kailani CRAINE'), ('Loena HENDRICKX', 'Ekaterina RYABOVA'), ('Alexandra TRUSOVA', 'Wakaba HIGUCHI'), ('Karen CHEN', 'Alexandra FEIGIN'), ('Anna SHCHERBAKOVA', 'Nicole SCHOTT'), ('Loena HENDRICKX', 'Olga MIKUTINA'), ('Mariah BELL', 'Nicole SCHOTT'), ('Mariah BELL', 'Ekaterina RYABOVA'), ('Anna SHCHERBAKOVA', 'Jenni SAARINEN'), ('Madeline SCHIZAS', 'Ekaterina KURAKOVA'), ('Mariah BELL', 'Jenni SAARINEN'), ('Loena HENDRICKX', 'Nicole SCHOTT'), ('Alexandra FEIGIN', 'Jenni SAARINEN'), ('Kaori SAKAMOTO', 'Nicole SCHOTT'), ('Alexandra TRUSOVA', 'Kailani CRAINE'), ('Anna SHCHERBAKOVA', 'Madeline SCHIZAS'), ('Nicole SCHOTT', 'Kailani CRAINE'), ('Mariah BELL', 'Ekaterina KURAKOVA'), ('Loena HENDRICKX', 'Eva-Lotta KIIBUS'), ('Olga MIKUTINA', 'Madeline SCHIZAS'), ('Eva-Lotta KIIBUS', 'Nicole SCHOTT'), ('Alexandra TRUSOVA', 'Nicole SCHOTT'), ('Wakaba HIGUCHI', 'Ekaterina RYABOVA'), ('Loena HENDRICKX', 'Kailani CRAINE'), ('Loena HENDRICKX', 'Madeline SCHIZAS'), ('Olga MIKUTINA', 'Eva-Lotta KIIBUS'), ('Eliska BREZINOVA', 'Ekaterina KURAKOVA'), ('Wakaba HIGUCHI', 'Olga MIKUTINA'), ('Anna SHCHERBAKOVA', 'Eliska BREZINOVA'), ('Alexandra TRUSOVA', 'Mariah BELL'), ('Eva-Lotta KIIBUS', 'Kailani CRAINE'), ('Mariah BELL', 'Eva-Lotta KIIBUS'), ('Ekaterina RYABOVA', 'Eliska BREZINOVA')}\n",
            "{('Anna SHCHERBAKOVA', 'Kailani CRAINE'), ('Madeline SCHIZAS', 'Eva-Lotta KIIBUS'), ('Ekaterina RYABOVA', 'Kailani CRAINE'), ('Alexandra FEIGIN', 'Olga MIKUTINA'), ('Mariah BELL', 'Kailani CRAINE'), ('Olga MIKUTINA', 'Jenni SAARINEN'), ('Alexandra TRUSOVA', 'Loena HENDRICKX'), ('Madeline SCHIZAS', 'Olga MIKUTINA'), ('Wakaba HIGUCHI', 'Madeline SCHIZAS'), ('Karen CHEN', 'Kailani CRAINE'), ('Wakaba HIGUCHI', 'Nicole SCHOTT'), ('Kaori SAKAMOTO', 'Olga MIKUTINA'), ('Mariah BELL', 'Karen CHEN'), ('Alexandra TRUSOVA', 'Ekaterina RYABOVA'), ('Madeline SCHIZAS', 'Eliska BREZINOVA'), ('Wakaba HIGUCHI', 'Mariah BELL'), ('Anna SHCHERBAKOVA', 'Kaori SAKAMOTO'), ('Karen CHEN', 'Ekaterina KURAKOVA'), ('Anna SHCHERBAKOVA', 'Wakaba HIGUCHI'), ('Anna SHCHERBAKOVA', 'Alexandra FEIGIN'), ('Ekaterina KURAKOVA', 'Alexandra FEIGIN'), ('Anna SHCHERBAKOVA', 'Ekaterina RYABOVA'), ('Karen CHEN', 'Ekaterina RYABOVA'), ('Anna SHCHERBAKOVA', 'Loena HENDRICKX'), ('Loena HENDRICKX', 'Alexandra FEIGIN'), ('Wakaba HIGUCHI', 'Eliska BREZINOVA'), ('Nicole SCHOTT', 'Jenni SAARINEN'), ('Anna SHCHERBAKOVA', 'Ekaterina KURAKOVA'), ('Eva-Lotta KIIBUS', 'Alexandra FEIGIN'), ('Loena HENDRICKX', 'Mariah BELL'), ('Loena HENDRICKX', 'Karen CHEN'), ('Ekaterina RYABOVA', 'Ekaterina KURAKOVA'), ('Karen CHEN', 'Jenni SAARINEN'), ('Kaori SAKAMOTO', 'Mariah BELL'), ('Kaori SAKAMOTO', 'Ekaterina KURAKOVA'), ('Karen CHEN', 'Eva-Lotta KIIBUS'), ('Loena HENDRICKX', 'Ekaterina KURAKOVA'), ('Anna SHCHERBAKOVA', 'Mariah BELL'), ('Alexandra TRUSOVA', 'Eliska BREZINOVA'), ('Madeline SCHIZAS', 'Alexandra FEIGIN'), ('Nicole SCHOTT', 'Alexandra FEIGIN'), ('Kaori SAKAMOTO', 'Ekaterina RYABOVA'), ('Loena HENDRICKX', 'Jenni SAARINEN'), ('Ekaterina RYABOVA', 'Alexandra FEIGIN'), ('Karen CHEN', 'Madeline SCHIZAS'), ('Eliska BREZINOVA', 'Olga MIKUTINA'), ('Loena HENDRICKX', 'Eliska BREZINOVA'), ('Nicole SCHOTT', 'Eliska BREZINOVA'), ('Karen CHEN', 'Nicole SCHOTT'), ('Kaori SAKAMOTO', 'Eva-Lotta KIIBUS'), ('Mariah BELL', 'Alexandra FEIGIN'), ('Kaori SAKAMOTO', 'Loena HENDRICKX'), ('Eva-Lotta KIIBUS', 'Jenni SAARINEN'), ('Anna SHCHERBAKOVA', 'Eva-Lotta KIIBUS'), ('Wakaba HIGUCHI', 'Karen CHEN'), ('Eva-Lotta KIIBUS', 'Eliska BREZINOVA'), ('Alexandra TRUSOVA', 'Madeline SCHIZAS'), ('Ekaterina RYABOVA', 'Eva-Lotta KIIBUS'), ('Mariah BELL', 'Madeline SCHIZAS'), ('Wakaba HIGUCHI', 'Alexandra FEIGIN'), ('Kaori SAKAMOTO', 'Alexandra FEIGIN'), ('Wakaba HIGUCHI', 'Ekaterina KURAKOVA'), ('Kaori SAKAMOTO', 'Wakaba HIGUCHI'), ('Alexandra TRUSOVA', 'Jenni SAARINEN'), ('Alexandra TRUSOVA', 'Alexandra FEIGIN'), ('Kailani CRAINE', 'Olga MIKUTINA'), ('Kaori SAKAMOTO', 'Madeline SCHIZAS'), ('Ekaterina RYABOVA', 'Olga MIKUTINA'), ('Karen CHEN', 'Eliska BREZINOVA'), ('Mariah BELL', 'Eliska BREZINOVA'), ('Alexandra TRUSOVA', 'Eva-Lotta KIIBUS'), ('Ekaterina KURAKOVA', 'Nicole SCHOTT'), ('Kailani CRAINE', 'Jenni SAARINEN'), ('Anna SHCHERBAKOVA', 'Alexandra TRUSOVA'), ('Alexandra TRUSOVA', 'Karen CHEN'), ('Ekaterina RYABOVA', 'Jenni SAARINEN'), ('Kaori SAKAMOTO', 'Kailani CRAINE'), ('Wakaba HIGUCHI', 'Jenni SAARINEN'), ('Karen CHEN', 'Olga MIKUTINA'), ('Wakaba HIGUCHI', 'Eva-Lotta KIIBUS'), ('Kaori SAKAMOTO', 'Eliska BREZINOVA'), ('Ekaterina KURAKOVA', 'Eva-Lotta KIIBUS'), ('Madeline SCHIZAS', 'Jenni SAARINEN'), ('Madeline SCHIZAS', 'Kailani CRAINE'), ('Alexandra TRUSOVA', 'Olga MIKUTINA'), ('Mariah BELL', 'Olga MIKUTINA'), ('Kaori SAKAMOTO', 'Karen CHEN'), ('Alexandra TRUSOVA', 'Ekaterina KURAKOVA'), ('Alexandra FEIGIN', 'Kailani CRAINE'), ('Alexandra FEIGIN', 'Eliska BREZINOVA'), ('Ekaterina KURAKOVA', 'Olga MIKUTINA'), ('Loena HENDRICKX', 'Wakaba HIGUCHI'), ('Kailani CRAINE', 'Eliska BREZINOVA'), ('Anna SHCHERBAKOVA', 'Karen CHEN'), ('Madeline SCHIZAS', 'Nicole SCHOTT'), ('Anna SHCHERBAKOVA', 'Olga MIKUTINA'), ('Eva-Lotta KIIBUS', 'Olga MIKUTINA'), ('Alexandra TRUSOVA', 'Kaori SAKAMOTO'), ('Eliska BREZINOVA', 'Jenni SAARINEN'), ('Ekaterina RYABOVA', 'Nicole SCHOTT'), ('Kaori SAKAMOTO', 'Jenni SAARINEN'), ('Loena HENDRICKX', 'Ekaterina RYABOVA'), ('Wakaba HIGUCHI', 'Kailani CRAINE'), ('Alexandra TRUSOVA', 'Wakaba HIGUCHI'), ('Ekaterina KURAKOVA', 'Eliska BREZINOVA'), ('Karen CHEN', 'Alexandra FEIGIN'), ('Anna SHCHERBAKOVA', 'Nicole SCHOTT'), ('Loena HENDRICKX', 'Olga MIKUTINA'), ('Ekaterina KURAKOVA', 'Jenni SAARINEN'), ('Mariah BELL', 'Nicole SCHOTT'), ('Ekaterina KURAKOVA', 'Kailani CRAINE'), ('Mariah BELL', 'Ekaterina RYABOVA'), ('Anna SHCHERBAKOVA', 'Jenni SAARINEN'), ('Madeline SCHIZAS', 'Ekaterina KURAKOVA'), ('Mariah BELL', 'Jenni SAARINEN'), ('Nicole SCHOTT', 'Olga MIKUTINA'), ('Loena HENDRICKX', 'Nicole SCHOTT'), ('Alexandra FEIGIN', 'Jenni SAARINEN'), ('Kaori SAKAMOTO', 'Nicole SCHOTT'), ('Alexandra TRUSOVA', 'Kailani CRAINE'), ('Anna SHCHERBAKOVA', 'Madeline SCHIZAS'), ('Nicole SCHOTT', 'Kailani CRAINE'), ('Mariah BELL', 'Ekaterina KURAKOVA'), ('Loena HENDRICKX', 'Eva-Lotta KIIBUS'), ('Madeline SCHIZAS', 'Ekaterina RYABOVA'), ('Eva-Lotta KIIBUS', 'Nicole SCHOTT'), ('Alexandra TRUSOVA', 'Nicole SCHOTT'), ('Loena HENDRICKX', 'Kailani CRAINE'), ('Wakaba HIGUCHI', 'Ekaterina RYABOVA'), ('Loena HENDRICKX', 'Madeline SCHIZAS'), ('Wakaba HIGUCHI', 'Olga MIKUTINA'), ('Anna SHCHERBAKOVA', 'Eliska BREZINOVA'), ('Alexandra TRUSOVA', 'Mariah BELL'), ('Eva-Lotta KIIBUS', 'Kailani CRAINE'), ('Mariah BELL', 'Eva-Lotta KIIBUS'), ('Ekaterina RYABOVA', 'Eliska BREZINOVA')}\n",
            "{('Anna SHCHERBAKOVA', 'Kailani CRAINE'), ('Madeline SCHIZAS', 'Eva-Lotta KIIBUS'), ('Ekaterina RYABOVA', 'Kailani CRAINE'), ('Wakaba HIGUCHI', 'Loena HENDRICKX'), ('Mariah BELL', 'Kailani CRAINE'), ('Olga MIKUTINA', 'Jenni SAARINEN'), ('Alexandra TRUSOVA', 'Loena HENDRICKX'), ('Wakaba HIGUCHI', 'Madeline SCHIZAS'), ('Ekaterina RYABOVA', 'Madeline SCHIZAS'), ('Nicole SCHOTT', 'Ekaterina KURAKOVA'), ('Karen CHEN', 'Kailani CRAINE'), ('Wakaba HIGUCHI', 'Nicole SCHOTT'), ('Olga MIKUTINA', 'Nicole SCHOTT'), ('Kaori SAKAMOTO', 'Olga MIKUTINA'), ('Alexandra TRUSOVA', 'Ekaterina RYABOVA'), ('Madeline SCHIZAS', 'Eliska BREZINOVA'), ('Eliska BREZINOVA', 'Kailani CRAINE'), ('Wakaba HIGUCHI', 'Mariah BELL'), ('Anna SHCHERBAKOVA', 'Kaori SAKAMOTO'), ('Karen CHEN', 'Ekaterina KURAKOVA'), ('Anna SHCHERBAKOVA', 'Wakaba HIGUCHI'), ('Anna SHCHERBAKOVA', 'Alexandra FEIGIN'), ('Anna SHCHERBAKOVA', 'Ekaterina RYABOVA'), ('Karen CHEN', 'Ekaterina RYABOVA'), ('Anna SHCHERBAKOVA', 'Loena HENDRICKX'), ('Loena HENDRICKX', 'Alexandra FEIGIN'), ('Wakaba HIGUCHI', 'Eliska BREZINOVA'), ('Kaori SAKAMOTO', 'Alexandra TRUSOVA'), ('Nicole SCHOTT', 'Jenni SAARINEN'), ('Anna SHCHERBAKOVA', 'Ekaterina KURAKOVA'), ('Eva-Lotta KIIBUS', 'Alexandra FEIGIN'), ('Eva-Lotta KIIBUS', 'Ekaterina KURAKOVA'), ('Loena HENDRICKX', 'Mariah BELL'), ('Olga MIKUTINA', 'Kailani CRAINE'), ('Ekaterina RYABOVA', 'Ekaterina KURAKOVA'), ('Karen CHEN', 'Jenni SAARINEN'), ('Kaori SAKAMOTO', 'Mariah BELL'), ('Kaori SAKAMOTO', 'Ekaterina KURAKOVA'), ('Olga MIKUTINA', 'Eliska BREZINOVA'), ('Karen CHEN', 'Eva-Lotta KIIBUS'), ('Loena HENDRICKX', 'Ekaterina KURAKOVA'), ('Karen CHEN', 'Loena HENDRICKX'), ('Anna SHCHERBAKOVA', 'Mariah BELL'), ('Alexandra TRUSOVA', 'Eliska BREZINOVA'), ('Madeline SCHIZAS', 'Alexandra FEIGIN'), ('Jenni SAARINEN', 'Ekaterina KURAKOVA'), ('Nicole SCHOTT', 'Alexandra FEIGIN'), ('Kaori SAKAMOTO', 'Ekaterina RYABOVA'), ('Loena HENDRICKX', 'Jenni SAARINEN'), ('Ekaterina RYABOVA', 'Alexandra FEIGIN'), ('Karen CHEN', 'Madeline SCHIZAS'), ('Loena HENDRICKX', 'Eliska BREZINOVA'), ('Nicole SCHOTT', 'Eliska BREZINOVA'), ('Karen CHEN', 'Nicole SCHOTT'), ('Kaori SAKAMOTO', 'Eva-Lotta KIIBUS'), ('Mariah BELL', 'Alexandra FEIGIN'), ('Kaori SAKAMOTO', 'Loena HENDRICKX'), ('Eva-Lotta KIIBUS', 'Jenni SAARINEN'), ('Anna SHCHERBAKOVA', 'Eva-Lotta KIIBUS'), ('Wakaba HIGUCHI', 'Karen CHEN'), ('Eva-Lotta KIIBUS', 'Eliska BREZINOVA'), ('Alexandra TRUSOVA', 'Madeline SCHIZAS'), ('Karen CHEN', 'Mariah BELL'), ('Ekaterina RYABOVA', 'Eva-Lotta KIIBUS'), ('Mariah BELL', 'Madeline SCHIZAS'), ('Wakaba HIGUCHI', 'Alexandra FEIGIN'), ('Olga MIKUTINA', 'Ekaterina KURAKOVA'), ('Kaori SAKAMOTO', 'Alexandra FEIGIN'), ('Wakaba HIGUCHI', 'Ekaterina KURAKOVA'), ('Kaori SAKAMOTO', 'Wakaba HIGUCHI'), ('Olga MIKUTINA', 'Alexandra FEIGIN'), ('Alexandra TRUSOVA', 'Jenni SAARINEN'), ('Alexandra FEIGIN', 'Ekaterina KURAKOVA'), ('Kailani CRAINE', 'Ekaterina KURAKOVA'), ('Alexandra TRUSOVA', 'Alexandra FEIGIN'), ('Kaori SAKAMOTO', 'Madeline SCHIZAS'), ('Olga MIKUTINA', 'Ekaterina RYABOVA'), ('Karen CHEN', 'Eliska BREZINOVA'), ('Mariah BELL', 'Eliska BREZINOVA'), ('Alexandra TRUSOVA', 'Eva-Lotta KIIBUS'), ('Kailani CRAINE', 'Jenni SAARINEN'), ('Anna SHCHERBAKOVA', 'Alexandra TRUSOVA'), ('Alexandra TRUSOVA', 'Karen CHEN'), ('Ekaterina RYABOVA', 'Jenni SAARINEN'), ('Kaori SAKAMOTO', 'Kailani CRAINE'), ('Wakaba HIGUCHI', 'Jenni SAARINEN'), ('Karen CHEN', 'Olga MIKUTINA'), ('Wakaba HIGUCHI', 'Eva-Lotta KIIBUS'), ('Kaori SAKAMOTO', 'Eliska BREZINOVA'), ('Madeline SCHIZAS', 'Jenni SAARINEN'), ('Madeline SCHIZAS', 'Kailani CRAINE'), ('Alexandra TRUSOVA', 'Olga MIKUTINA'), ('Mariah BELL', 'Olga MIKUTINA'), ('Kaori SAKAMOTO', 'Karen CHEN'), ('Alexandra TRUSOVA', 'Ekaterina KURAKOVA'), ('Alexandra FEIGIN', 'Kailani CRAINE'), ('Alexandra FEIGIN', 'Eliska BREZINOVA'), ('Anna SHCHERBAKOVA', 'Karen CHEN'), ('Madeline SCHIZAS', 'Nicole SCHOTT'), ('Anna SHCHERBAKOVA', 'Olga MIKUTINA'), ('Eliska BREZINOVA', 'Jenni SAARINEN'), ('Ekaterina RYABOVA', 'Nicole SCHOTT'), ('Kaori SAKAMOTO', 'Jenni SAARINEN'), ('Wakaba HIGUCHI', 'Kailani CRAINE'), ('Loena HENDRICKX', 'Ekaterina RYABOVA'), ('Alexandra TRUSOVA', 'Wakaba HIGUCHI'), ('Karen CHEN', 'Alexandra FEIGIN'), ('Anna SHCHERBAKOVA', 'Nicole SCHOTT'), ('Loena HENDRICKX', 'Olga MIKUTINA'), ('Mariah BELL', 'Nicole SCHOTT'), ('Mariah BELL', 'Ekaterina RYABOVA'), ('Anna SHCHERBAKOVA', 'Jenni SAARINEN'), ('Madeline SCHIZAS', 'Ekaterina KURAKOVA'), ('Mariah BELL', 'Jenni SAARINEN'), ('Loena HENDRICKX', 'Nicole SCHOTT'), ('Alexandra FEIGIN', 'Jenni SAARINEN'), ('Kaori SAKAMOTO', 'Nicole SCHOTT'), ('Alexandra TRUSOVA', 'Kailani CRAINE'), ('Anna SHCHERBAKOVA', 'Madeline SCHIZAS'), ('Nicole SCHOTT', 'Kailani CRAINE'), ('Mariah BELL', 'Ekaterina KURAKOVA'), ('Loena HENDRICKX', 'Eva-Lotta KIIBUS'), ('Olga MIKUTINA', 'Madeline SCHIZAS'), ('Eva-Lotta KIIBUS', 'Nicole SCHOTT'), ('Alexandra TRUSOVA', 'Nicole SCHOTT'), ('Wakaba HIGUCHI', 'Ekaterina RYABOVA'), ('Loena HENDRICKX', 'Kailani CRAINE'), ('Loena HENDRICKX', 'Madeline SCHIZAS'), ('Olga MIKUTINA', 'Eva-Lotta KIIBUS'), ('Eliska BREZINOVA', 'Ekaterina KURAKOVA'), ('Wakaba HIGUCHI', 'Olga MIKUTINA'), ('Anna SHCHERBAKOVA', 'Eliska BREZINOVA'), ('Alexandra TRUSOVA', 'Mariah BELL'), ('Eva-Lotta KIIBUS', 'Kailani CRAINE'), ('Mariah BELL', 'Eva-Lotta KIIBUS'), ('Ekaterina RYABOVA', 'Eliska BREZINOVA')}\n",
            "{('Anna SHCHERBAKOVA', 'Kailani CRAINE'), ('Madeline SCHIZAS', 'Eva-Lotta KIIBUS'), ('Ekaterina RYABOVA', 'Kailani CRAINE'), ('Alexandra FEIGIN', 'Olga MIKUTINA'), ('Mariah BELL', 'Kailani CRAINE'), ('Olga MIKUTINA', 'Jenni SAARINEN'), ('Alexandra TRUSOVA', 'Loena HENDRICKX'), ('Madeline SCHIZAS', 'Olga MIKUTINA'), ('Wakaba HIGUCHI', 'Madeline SCHIZAS'), ('Karen CHEN', 'Kailani CRAINE'), ('Wakaba HIGUCHI', 'Nicole SCHOTT'), ('Kaori SAKAMOTO', 'Olga MIKUTINA'), ('Mariah BELL', 'Karen CHEN'), ('Alexandra TRUSOVA', 'Ekaterina RYABOVA'), ('Madeline SCHIZAS', 'Eliska BREZINOVA'), ('Wakaba HIGUCHI', 'Mariah BELL'), ('Anna SHCHERBAKOVA', 'Kaori SAKAMOTO'), ('Karen CHEN', 'Ekaterina KURAKOVA'), ('Anna SHCHERBAKOVA', 'Wakaba HIGUCHI'), ('Anna SHCHERBAKOVA', 'Alexandra FEIGIN'), ('Ekaterina KURAKOVA', 'Alexandra FEIGIN'), ('Anna SHCHERBAKOVA', 'Ekaterina RYABOVA'), ('Karen CHEN', 'Ekaterina RYABOVA'), ('Anna SHCHERBAKOVA', 'Loena HENDRICKX'), ('Loena HENDRICKX', 'Alexandra FEIGIN'), ('Wakaba HIGUCHI', 'Eliska BREZINOVA'), ('Nicole SCHOTT', 'Jenni SAARINEN'), ('Anna SHCHERBAKOVA', 'Ekaterina KURAKOVA'), ('Eva-Lotta KIIBUS', 'Alexandra FEIGIN'), ('Loena HENDRICKX', 'Mariah BELL'), ('Loena HENDRICKX', 'Karen CHEN'), ('Ekaterina RYABOVA', 'Ekaterina KURAKOVA'), ('Karen CHEN', 'Jenni SAARINEN'), ('Kaori SAKAMOTO', 'Mariah BELL'), ('Kaori SAKAMOTO', 'Ekaterina KURAKOVA'), ('Karen CHEN', 'Eva-Lotta KIIBUS'), ('Loena HENDRICKX', 'Ekaterina KURAKOVA'), ('Anna SHCHERBAKOVA', 'Mariah BELL'), ('Alexandra TRUSOVA', 'Eliska BREZINOVA'), ('Madeline SCHIZAS', 'Alexandra FEIGIN'), ('Nicole SCHOTT', 'Alexandra FEIGIN'), ('Kaori SAKAMOTO', 'Ekaterina RYABOVA'), ('Loena HENDRICKX', 'Jenni SAARINEN'), ('Ekaterina RYABOVA', 'Alexandra FEIGIN'), ('Karen CHEN', 'Madeline SCHIZAS'), ('Eliska BREZINOVA', 'Olga MIKUTINA'), ('Loena HENDRICKX', 'Eliska BREZINOVA'), ('Nicole SCHOTT', 'Eliska BREZINOVA'), ('Karen CHEN', 'Nicole SCHOTT'), ('Kaori SAKAMOTO', 'Eva-Lotta KIIBUS'), ('Mariah BELL', 'Alexandra FEIGIN'), ('Kaori SAKAMOTO', 'Loena HENDRICKX'), ('Eva-Lotta KIIBUS', 'Jenni SAARINEN'), ('Anna SHCHERBAKOVA', 'Eva-Lotta KIIBUS'), ('Wakaba HIGUCHI', 'Karen CHEN'), ('Eva-Lotta KIIBUS', 'Eliska BREZINOVA'), ('Alexandra TRUSOVA', 'Madeline SCHIZAS'), ('Ekaterina RYABOVA', 'Eva-Lotta KIIBUS'), ('Mariah BELL', 'Madeline SCHIZAS'), ('Wakaba HIGUCHI', 'Alexandra FEIGIN'), ('Kaori SAKAMOTO', 'Alexandra FEIGIN'), ('Wakaba HIGUCHI', 'Ekaterina KURAKOVA'), ('Kaori SAKAMOTO', 'Wakaba HIGUCHI'), ('Alexandra TRUSOVA', 'Jenni SAARINEN'), ('Alexandra TRUSOVA', 'Alexandra FEIGIN'), ('Kailani CRAINE', 'Olga MIKUTINA'), ('Kaori SAKAMOTO', 'Madeline SCHIZAS'), ('Ekaterina RYABOVA', 'Olga MIKUTINA'), ('Karen CHEN', 'Eliska BREZINOVA'), ('Mariah BELL', 'Eliska BREZINOVA'), ('Alexandra TRUSOVA', 'Eva-Lotta KIIBUS'), ('Ekaterina KURAKOVA', 'Nicole SCHOTT'), ('Kailani CRAINE', 'Jenni SAARINEN'), ('Anna SHCHERBAKOVA', 'Alexandra TRUSOVA'), ('Alexandra TRUSOVA', 'Karen CHEN'), ('Ekaterina RYABOVA', 'Jenni SAARINEN'), ('Kaori SAKAMOTO', 'Kailani CRAINE'), ('Wakaba HIGUCHI', 'Jenni SAARINEN'), ('Karen CHEN', 'Olga MIKUTINA'), ('Wakaba HIGUCHI', 'Eva-Lotta KIIBUS'), ('Kaori SAKAMOTO', 'Eliska BREZINOVA'), ('Ekaterina KURAKOVA', 'Eva-Lotta KIIBUS'), ('Madeline SCHIZAS', 'Jenni SAARINEN'), ('Madeline SCHIZAS', 'Kailani CRAINE'), ('Alexandra TRUSOVA', 'Olga MIKUTINA'), ('Mariah BELL', 'Olga MIKUTINA'), ('Kaori SAKAMOTO', 'Karen CHEN'), ('Alexandra TRUSOVA', 'Ekaterina KURAKOVA'), ('Alexandra FEIGIN', 'Kailani CRAINE'), ('Alexandra FEIGIN', 'Eliska BREZINOVA'), ('Ekaterina KURAKOVA', 'Olga MIKUTINA'), ('Loena HENDRICKX', 'Wakaba HIGUCHI'), ('Kailani CRAINE', 'Eliska BREZINOVA'), ('Anna SHCHERBAKOVA', 'Karen CHEN'), ('Madeline SCHIZAS', 'Nicole SCHOTT'), ('Anna SHCHERBAKOVA', 'Olga MIKUTINA'), ('Eva-Lotta KIIBUS', 'Olga MIKUTINA'), ('Alexandra TRUSOVA', 'Kaori SAKAMOTO'), ('Eliska BREZINOVA', 'Jenni SAARINEN'), ('Ekaterina RYABOVA', 'Nicole SCHOTT'), ('Kaori SAKAMOTO', 'Jenni SAARINEN'), ('Loena HENDRICKX', 'Ekaterina RYABOVA'), ('Wakaba HIGUCHI', 'Kailani CRAINE'), ('Alexandra TRUSOVA', 'Wakaba HIGUCHI'), ('Ekaterina KURAKOVA', 'Eliska BREZINOVA'), ('Karen CHEN', 'Alexandra FEIGIN'), ('Anna SHCHERBAKOVA', 'Nicole SCHOTT'), ('Loena HENDRICKX', 'Olga MIKUTINA'), ('Ekaterina KURAKOVA', 'Jenni SAARINEN'), ('Mariah BELL', 'Nicole SCHOTT'), ('Ekaterina KURAKOVA', 'Kailani CRAINE'), ('Mariah BELL', 'Ekaterina RYABOVA'), ('Anna SHCHERBAKOVA', 'Jenni SAARINEN'), ('Madeline SCHIZAS', 'Ekaterina KURAKOVA'), ('Mariah BELL', 'Jenni SAARINEN'), ('Nicole SCHOTT', 'Olga MIKUTINA'), ('Loena HENDRICKX', 'Nicole SCHOTT'), ('Alexandra FEIGIN', 'Jenni SAARINEN'), ('Kaori SAKAMOTO', 'Nicole SCHOTT'), ('Alexandra TRUSOVA', 'Kailani CRAINE'), ('Anna SHCHERBAKOVA', 'Madeline SCHIZAS'), ('Nicole SCHOTT', 'Kailani CRAINE'), ('Mariah BELL', 'Ekaterina KURAKOVA'), ('Loena HENDRICKX', 'Eva-Lotta KIIBUS'), ('Madeline SCHIZAS', 'Ekaterina RYABOVA'), ('Eva-Lotta KIIBUS', 'Nicole SCHOTT'), ('Alexandra TRUSOVA', 'Nicole SCHOTT'), ('Loena HENDRICKX', 'Kailani CRAINE'), ('Wakaba HIGUCHI', 'Ekaterina RYABOVA'), ('Loena HENDRICKX', 'Madeline SCHIZAS'), ('Wakaba HIGUCHI', 'Olga MIKUTINA'), ('Anna SHCHERBAKOVA', 'Eliska BREZINOVA'), ('Alexandra TRUSOVA', 'Mariah BELL'), ('Eva-Lotta KIIBUS', 'Kailani CRAINE'), ('Mariah BELL', 'Eva-Lotta KIIBUS'), ('Ekaterina RYABOVA', 'Eliska BREZINOVA')}\n",
            "{('Anna SHCHERBAKOVA', 'Kailani CRAINE'), ('Madeline SCHIZAS', 'Eva-Lotta KIIBUS'), ('Ekaterina RYABOVA', 'Kailani CRAINE'), ('Wakaba HIGUCHI', 'Loena HENDRICKX'), ('Mariah BELL', 'Kailani CRAINE'), ('Olga MIKUTINA', 'Jenni SAARINEN'), ('Alexandra TRUSOVA', 'Loena HENDRICKX'), ('Wakaba HIGUCHI', 'Madeline SCHIZAS'), ('Ekaterina RYABOVA', 'Madeline SCHIZAS'), ('Nicole SCHOTT', 'Ekaterina KURAKOVA'), ('Karen CHEN', 'Kailani CRAINE'), ('Wakaba HIGUCHI', 'Nicole SCHOTT'), ('Olga MIKUTINA', 'Nicole SCHOTT'), ('Kaori SAKAMOTO', 'Olga MIKUTINA'), ('Alexandra TRUSOVA', 'Ekaterina RYABOVA'), ('Madeline SCHIZAS', 'Eliska BREZINOVA'), ('Eliska BREZINOVA', 'Kailani CRAINE'), ('Wakaba HIGUCHI', 'Mariah BELL'), ('Anna SHCHERBAKOVA', 'Kaori SAKAMOTO'), ('Karen CHEN', 'Ekaterina KURAKOVA'), ('Anna SHCHERBAKOVA', 'Wakaba HIGUCHI'), ('Anna SHCHERBAKOVA', 'Alexandra FEIGIN'), ('Anna SHCHERBAKOVA', 'Ekaterina RYABOVA'), ('Karen CHEN', 'Ekaterina RYABOVA'), ('Anna SHCHERBAKOVA', 'Loena HENDRICKX'), ('Loena HENDRICKX', 'Alexandra FEIGIN'), ('Wakaba HIGUCHI', 'Eliska BREZINOVA'), ('Kaori SAKAMOTO', 'Alexandra TRUSOVA'), ('Nicole SCHOTT', 'Jenni SAARINEN'), ('Anna SHCHERBAKOVA', 'Ekaterina KURAKOVA'), ('Eva-Lotta KIIBUS', 'Alexandra FEIGIN'), ('Eva-Lotta KIIBUS', 'Ekaterina KURAKOVA'), ('Loena HENDRICKX', 'Mariah BELL'), ('Olga MIKUTINA', 'Kailani CRAINE'), ('Ekaterina RYABOVA', 'Ekaterina KURAKOVA'), ('Karen CHEN', 'Jenni SAARINEN'), ('Kaori SAKAMOTO', 'Mariah BELL'), ('Kaori SAKAMOTO', 'Ekaterina KURAKOVA'), ('Olga MIKUTINA', 'Eliska BREZINOVA'), ('Karen CHEN', 'Eva-Lotta KIIBUS'), ('Loena HENDRICKX', 'Ekaterina KURAKOVA'), ('Karen CHEN', 'Loena HENDRICKX'), ('Anna SHCHERBAKOVA', 'Mariah BELL'), ('Alexandra TRUSOVA', 'Eliska BREZINOVA'), ('Madeline SCHIZAS', 'Alexandra FEIGIN'), ('Jenni SAARINEN', 'Ekaterina KURAKOVA'), ('Nicole SCHOTT', 'Alexandra FEIGIN'), ('Kaori SAKAMOTO', 'Ekaterina RYABOVA'), ('Loena HENDRICKX', 'Jenni SAARINEN'), ('Ekaterina RYABOVA', 'Alexandra FEIGIN'), ('Karen CHEN', 'Madeline SCHIZAS'), ('Loena HENDRICKX', 'Eliska BREZINOVA'), ('Nicole SCHOTT', 'Eliska BREZINOVA'), ('Karen CHEN', 'Nicole SCHOTT'), ('Kaori SAKAMOTO', 'Eva-Lotta KIIBUS'), ('Mariah BELL', 'Alexandra FEIGIN'), ('Kaori SAKAMOTO', 'Loena HENDRICKX'), ('Eva-Lotta KIIBUS', 'Jenni SAARINEN'), ('Anna SHCHERBAKOVA', 'Eva-Lotta KIIBUS'), ('Wakaba HIGUCHI', 'Karen CHEN'), ('Eva-Lotta KIIBUS', 'Eliska BREZINOVA'), ('Alexandra TRUSOVA', 'Madeline SCHIZAS'), ('Karen CHEN', 'Mariah BELL'), ('Ekaterina RYABOVA', 'Eva-Lotta KIIBUS'), ('Mariah BELL', 'Madeline SCHIZAS'), ('Wakaba HIGUCHI', 'Alexandra FEIGIN'), ('Olga MIKUTINA', 'Ekaterina KURAKOVA'), ('Kaori SAKAMOTO', 'Alexandra FEIGIN'), ('Wakaba HIGUCHI', 'Ekaterina KURAKOVA'), ('Kaori SAKAMOTO', 'Wakaba HIGUCHI'), ('Olga MIKUTINA', 'Alexandra FEIGIN'), ('Alexandra TRUSOVA', 'Jenni SAARINEN'), ('Alexandra FEIGIN', 'Ekaterina KURAKOVA'), ('Kailani CRAINE', 'Ekaterina KURAKOVA'), ('Alexandra TRUSOVA', 'Alexandra FEIGIN'), ('Kaori SAKAMOTO', 'Madeline SCHIZAS'), ('Olga MIKUTINA', 'Ekaterina RYABOVA'), ('Karen CHEN', 'Eliska BREZINOVA'), ('Mariah BELL', 'Eliska BREZINOVA'), ('Alexandra TRUSOVA', 'Eva-Lotta KIIBUS'), ('Kailani CRAINE', 'Jenni SAARINEN'), ('Anna SHCHERBAKOVA', 'Alexandra TRUSOVA'), ('Alexandra TRUSOVA', 'Karen CHEN'), ('Ekaterina RYABOVA', 'Jenni SAARINEN'), ('Kaori SAKAMOTO', 'Kailani CRAINE'), ('Wakaba HIGUCHI', 'Jenni SAARINEN'), ('Karen CHEN', 'Olga MIKUTINA'), ('Wakaba HIGUCHI', 'Eva-Lotta KIIBUS'), ('Kaori SAKAMOTO', 'Eliska BREZINOVA'), ('Madeline SCHIZAS', 'Jenni SAARINEN'), ('Madeline SCHIZAS', 'Kailani CRAINE'), ('Alexandra TRUSOVA', 'Olga MIKUTINA'), ('Mariah BELL', 'Olga MIKUTINA'), ('Kaori SAKAMOTO', 'Karen CHEN'), ('Alexandra TRUSOVA', 'Ekaterina KURAKOVA'), ('Alexandra FEIGIN', 'Kailani CRAINE'), ('Alexandra FEIGIN', 'Eliska BREZINOVA'), ('Anna SHCHERBAKOVA', 'Karen CHEN'), ('Madeline SCHIZAS', 'Nicole SCHOTT'), ('Anna SHCHERBAKOVA', 'Olga MIKUTINA'), ('Eliska BREZINOVA', 'Jenni SAARINEN'), ('Ekaterina RYABOVA', 'Nicole SCHOTT'), ('Kaori SAKAMOTO', 'Jenni SAARINEN'), ('Wakaba HIGUCHI', 'Kailani CRAINE'), ('Loena HENDRICKX', 'Ekaterina RYABOVA'), ('Alexandra TRUSOVA', 'Wakaba HIGUCHI'), ('Karen CHEN', 'Alexandra FEIGIN'), ('Anna SHCHERBAKOVA', 'Nicole SCHOTT'), ('Loena HENDRICKX', 'Olga MIKUTINA'), ('Mariah BELL', 'Nicole SCHOTT'), ('Mariah BELL', 'Ekaterina RYABOVA'), ('Anna SHCHERBAKOVA', 'Jenni SAARINEN'), ('Madeline SCHIZAS', 'Ekaterina KURAKOVA'), ('Mariah BELL', 'Jenni SAARINEN'), ('Loena HENDRICKX', 'Nicole SCHOTT'), ('Alexandra FEIGIN', 'Jenni SAARINEN'), ('Kaori SAKAMOTO', 'Nicole SCHOTT'), ('Alexandra TRUSOVA', 'Kailani CRAINE'), ('Anna SHCHERBAKOVA', 'Madeline SCHIZAS'), ('Nicole SCHOTT', 'Kailani CRAINE'), ('Mariah BELL', 'Ekaterina KURAKOVA'), ('Loena HENDRICKX', 'Eva-Lotta KIIBUS'), ('Olga MIKUTINA', 'Madeline SCHIZAS'), ('Eva-Lotta KIIBUS', 'Nicole SCHOTT'), ('Alexandra TRUSOVA', 'Nicole SCHOTT'), ('Wakaba HIGUCHI', 'Ekaterina RYABOVA'), ('Loena HENDRICKX', 'Kailani CRAINE'), ('Loena HENDRICKX', 'Madeline SCHIZAS'), ('Olga MIKUTINA', 'Eva-Lotta KIIBUS'), ('Eliska BREZINOVA', 'Ekaterina KURAKOVA'), ('Wakaba HIGUCHI', 'Olga MIKUTINA'), ('Anna SHCHERBAKOVA', 'Eliska BREZINOVA'), ('Alexandra TRUSOVA', 'Mariah BELL'), ('Eva-Lotta KIIBUS', 'Kailani CRAINE'), ('Mariah BELL', 'Eva-Lotta KIIBUS'), ('Ekaterina RYABOVA', 'Eliska BREZINOVA')}\n",
            "{('Anna SHCHERBAKOVA', 'Kailani CRAINE'), ('Madeline SCHIZAS', 'Eva-Lotta KIIBUS'), ('Ekaterina RYABOVA', 'Kailani CRAINE'), ('Alexandra FEIGIN', 'Olga MIKUTINA'), ('Mariah BELL', 'Kailani CRAINE'), ('Olga MIKUTINA', 'Jenni SAARINEN'), ('Alexandra TRUSOVA', 'Loena HENDRICKX'), ('Madeline SCHIZAS', 'Olga MIKUTINA'), ('Wakaba HIGUCHI', 'Madeline SCHIZAS'), ('Karen CHEN', 'Kailani CRAINE'), ('Wakaba HIGUCHI', 'Nicole SCHOTT'), ('Kaori SAKAMOTO', 'Olga MIKUTINA'), ('Mariah BELL', 'Karen CHEN'), ('Alexandra TRUSOVA', 'Ekaterina RYABOVA'), ('Madeline SCHIZAS', 'Eliska BREZINOVA'), ('Wakaba HIGUCHI', 'Mariah BELL'), ('Anna SHCHERBAKOVA', 'Kaori SAKAMOTO'), ('Karen CHEN', 'Ekaterina KURAKOVA'), ('Anna SHCHERBAKOVA', 'Wakaba HIGUCHI'), ('Anna SHCHERBAKOVA', 'Alexandra FEIGIN'), ('Ekaterina KURAKOVA', 'Alexandra FEIGIN'), ('Anna SHCHERBAKOVA', 'Ekaterina RYABOVA'), ('Karen CHEN', 'Ekaterina RYABOVA'), ('Anna SHCHERBAKOVA', 'Loena HENDRICKX'), ('Loena HENDRICKX', 'Alexandra FEIGIN'), ('Wakaba HIGUCHI', 'Eliska BREZINOVA'), ('Nicole SCHOTT', 'Jenni SAARINEN'), ('Anna SHCHERBAKOVA', 'Ekaterina KURAKOVA'), ('Eva-Lotta KIIBUS', 'Alexandra FEIGIN'), ('Loena HENDRICKX', 'Mariah BELL'), ('Loena HENDRICKX', 'Karen CHEN'), ('Ekaterina RYABOVA', 'Ekaterina KURAKOVA'), ('Karen CHEN', 'Jenni SAARINEN'), ('Kaori SAKAMOTO', 'Mariah BELL'), ('Kaori SAKAMOTO', 'Ekaterina KURAKOVA'), ('Karen CHEN', 'Eva-Lotta KIIBUS'), ('Loena HENDRICKX', 'Ekaterina KURAKOVA'), ('Anna SHCHERBAKOVA', 'Mariah BELL'), ('Alexandra TRUSOVA', 'Eliska BREZINOVA'), ('Madeline SCHIZAS', 'Alexandra FEIGIN'), ('Nicole SCHOTT', 'Alexandra FEIGIN'), ('Kaori SAKAMOTO', 'Ekaterina RYABOVA'), ('Loena HENDRICKX', 'Jenni SAARINEN'), ('Ekaterina RYABOVA', 'Alexandra FEIGIN'), ('Karen CHEN', 'Madeline SCHIZAS'), ('Eliska BREZINOVA', 'Olga MIKUTINA'), ('Loena HENDRICKX', 'Eliska BREZINOVA'), ('Nicole SCHOTT', 'Eliska BREZINOVA'), ('Karen CHEN', 'Nicole SCHOTT'), ('Kaori SAKAMOTO', 'Eva-Lotta KIIBUS'), ('Mariah BELL', 'Alexandra FEIGIN'), ('Kaori SAKAMOTO', 'Loena HENDRICKX'), ('Eva-Lotta KIIBUS', 'Jenni SAARINEN'), ('Anna SHCHERBAKOVA', 'Eva-Lotta KIIBUS'), ('Wakaba HIGUCHI', 'Karen CHEN'), ('Eva-Lotta KIIBUS', 'Eliska BREZINOVA'), ('Alexandra TRUSOVA', 'Madeline SCHIZAS'), ('Ekaterina RYABOVA', 'Eva-Lotta KIIBUS'), ('Mariah BELL', 'Madeline SCHIZAS'), ('Wakaba HIGUCHI', 'Alexandra FEIGIN'), ('Kaori SAKAMOTO', 'Alexandra FEIGIN'), ('Wakaba HIGUCHI', 'Ekaterina KURAKOVA'), ('Kaori SAKAMOTO', 'Wakaba HIGUCHI'), ('Alexandra TRUSOVA', 'Jenni SAARINEN'), ('Alexandra TRUSOVA', 'Alexandra FEIGIN'), ('Kailani CRAINE', 'Olga MIKUTINA'), ('Kaori SAKAMOTO', 'Madeline SCHIZAS'), ('Ekaterina RYABOVA', 'Olga MIKUTINA'), ('Karen CHEN', 'Eliska BREZINOVA'), ('Mariah BELL', 'Eliska BREZINOVA'), ('Alexandra TRUSOVA', 'Eva-Lotta KIIBUS'), ('Ekaterina KURAKOVA', 'Nicole SCHOTT'), ('Kailani CRAINE', 'Jenni SAARINEN'), ('Anna SHCHERBAKOVA', 'Alexandra TRUSOVA'), ('Alexandra TRUSOVA', 'Karen CHEN'), ('Ekaterina RYABOVA', 'Jenni SAARINEN'), ('Kaori SAKAMOTO', 'Kailani CRAINE'), ('Wakaba HIGUCHI', 'Jenni SAARINEN'), ('Karen CHEN', 'Olga MIKUTINA'), ('Wakaba HIGUCHI', 'Eva-Lotta KIIBUS'), ('Kaori SAKAMOTO', 'Eliska BREZINOVA'), ('Ekaterina KURAKOVA', 'Eva-Lotta KIIBUS'), ('Madeline SCHIZAS', 'Jenni SAARINEN'), ('Madeline SCHIZAS', 'Kailani CRAINE'), ('Alexandra TRUSOVA', 'Olga MIKUTINA'), ('Mariah BELL', 'Olga MIKUTINA'), ('Kaori SAKAMOTO', 'Karen CHEN'), ('Alexandra TRUSOVA', 'Ekaterina KURAKOVA'), ('Alexandra FEIGIN', 'Kailani CRAINE'), ('Alexandra FEIGIN', 'Eliska BREZINOVA'), ('Ekaterina KURAKOVA', 'Olga MIKUTINA'), ('Loena HENDRICKX', 'Wakaba HIGUCHI'), ('Kailani CRAINE', 'Eliska BREZINOVA'), ('Anna SHCHERBAKOVA', 'Karen CHEN'), ('Madeline SCHIZAS', 'Nicole SCHOTT'), ('Anna SHCHERBAKOVA', 'Olga MIKUTINA'), ('Eva-Lotta KIIBUS', 'Olga MIKUTINA'), ('Alexandra TRUSOVA', 'Kaori SAKAMOTO'), ('Eliska BREZINOVA', 'Jenni SAARINEN'), ('Ekaterina RYABOVA', 'Nicole SCHOTT'), ('Kaori SAKAMOTO', 'Jenni SAARINEN'), ('Loena HENDRICKX', 'Ekaterina RYABOVA'), ('Wakaba HIGUCHI', 'Kailani CRAINE'), ('Alexandra TRUSOVA', 'Wakaba HIGUCHI'), ('Ekaterina KURAKOVA', 'Eliska BREZINOVA'), ('Karen CHEN', 'Alexandra FEIGIN'), ('Anna SHCHERBAKOVA', 'Nicole SCHOTT'), ('Loena HENDRICKX', 'Olga MIKUTINA'), ('Ekaterina KURAKOVA', 'Jenni SAARINEN'), ('Mariah BELL', 'Nicole SCHOTT'), ('Ekaterina KURAKOVA', 'Kailani CRAINE'), ('Mariah BELL', 'Ekaterina RYABOVA'), ('Anna SHCHERBAKOVA', 'Jenni SAARINEN'), ('Madeline SCHIZAS', 'Ekaterina KURAKOVA'), ('Mariah BELL', 'Jenni SAARINEN'), ('Nicole SCHOTT', 'Olga MIKUTINA'), ('Loena HENDRICKX', 'Nicole SCHOTT'), ('Alexandra FEIGIN', 'Jenni SAARINEN'), ('Kaori SAKAMOTO', 'Nicole SCHOTT'), ('Alexandra TRUSOVA', 'Kailani CRAINE'), ('Anna SHCHERBAKOVA', 'Madeline SCHIZAS'), ('Nicole SCHOTT', 'Kailani CRAINE'), ('Mariah BELL', 'Ekaterina KURAKOVA'), ('Loena HENDRICKX', 'Eva-Lotta KIIBUS'), ('Madeline SCHIZAS', 'Ekaterina RYABOVA'), ('Eva-Lotta KIIBUS', 'Nicole SCHOTT'), ('Alexandra TRUSOVA', 'Nicole SCHOTT'), ('Loena HENDRICKX', 'Kailani CRAINE'), ('Wakaba HIGUCHI', 'Ekaterina RYABOVA'), ('Loena HENDRICKX', 'Madeline SCHIZAS'), ('Wakaba HIGUCHI', 'Olga MIKUTINA'), ('Anna SHCHERBAKOVA', 'Eliska BREZINOVA'), ('Alexandra TRUSOVA', 'Mariah BELL'), ('Eva-Lotta KIIBUS', 'Kailani CRAINE'), ('Mariah BELL', 'Eva-Lotta KIIBUS'), ('Ekaterina RYABOVA', 'Eliska BREZINOVA')}\n",
            "{('Anna SHCHERBAKOVA', 'Kailani CRAINE'), ('Madeline SCHIZAS', 'Eva-Lotta KIIBUS'), ('Ekaterina RYABOVA', 'Kailani CRAINE'), ('Wakaba HIGUCHI', 'Loena HENDRICKX'), ('Mariah BELL', 'Kailani CRAINE'), ('Olga MIKUTINA', 'Jenni SAARINEN'), ('Alexandra TRUSOVA', 'Loena HENDRICKX'), ('Wakaba HIGUCHI', 'Madeline SCHIZAS'), ('Ekaterina RYABOVA', 'Madeline SCHIZAS'), ('Nicole SCHOTT', 'Ekaterina KURAKOVA'), ('Karen CHEN', 'Kailani CRAINE'), ('Wakaba HIGUCHI', 'Nicole SCHOTT'), ('Olga MIKUTINA', 'Nicole SCHOTT'), ('Kaori SAKAMOTO', 'Olga MIKUTINA'), ('Alexandra TRUSOVA', 'Ekaterina RYABOVA'), ('Madeline SCHIZAS', 'Eliska BREZINOVA'), ('Eliska BREZINOVA', 'Kailani CRAINE'), ('Wakaba HIGUCHI', 'Mariah BELL'), ('Anna SHCHERBAKOVA', 'Kaori SAKAMOTO'), ('Karen CHEN', 'Ekaterina KURAKOVA'), ('Anna SHCHERBAKOVA', 'Wakaba HIGUCHI'), ('Anna SHCHERBAKOVA', 'Alexandra FEIGIN'), ('Anna SHCHERBAKOVA', 'Ekaterina RYABOVA'), ('Karen CHEN', 'Ekaterina RYABOVA'), ('Anna SHCHERBAKOVA', 'Loena HENDRICKX'), ('Loena HENDRICKX', 'Alexandra FEIGIN'), ('Wakaba HIGUCHI', 'Eliska BREZINOVA'), ('Kaori SAKAMOTO', 'Alexandra TRUSOVA'), ('Nicole SCHOTT', 'Jenni SAARINEN'), ('Anna SHCHERBAKOVA', 'Ekaterina KURAKOVA'), ('Eva-Lotta KIIBUS', 'Alexandra FEIGIN'), ('Eva-Lotta KIIBUS', 'Ekaterina KURAKOVA'), ('Loena HENDRICKX', 'Mariah BELL'), ('Olga MIKUTINA', 'Kailani CRAINE'), ('Ekaterina RYABOVA', 'Ekaterina KURAKOVA'), ('Karen CHEN', 'Jenni SAARINEN'), ('Kaori SAKAMOTO', 'Mariah BELL'), ('Kaori SAKAMOTO', 'Ekaterina KURAKOVA'), ('Olga MIKUTINA', 'Eliska BREZINOVA'), ('Karen CHEN', 'Eva-Lotta KIIBUS'), ('Loena HENDRICKX', 'Ekaterina KURAKOVA'), ('Karen CHEN', 'Loena HENDRICKX'), ('Anna SHCHERBAKOVA', 'Mariah BELL'), ('Alexandra TRUSOVA', 'Eliska BREZINOVA'), ('Madeline SCHIZAS', 'Alexandra FEIGIN'), ('Jenni SAARINEN', 'Ekaterina KURAKOVA'), ('Nicole SCHOTT', 'Alexandra FEIGIN'), ('Kaori SAKAMOTO', 'Ekaterina RYABOVA'), ('Loena HENDRICKX', 'Jenni SAARINEN'), ('Ekaterina RYABOVA', 'Alexandra FEIGIN'), ('Karen CHEN', 'Madeline SCHIZAS'), ('Loena HENDRICKX', 'Eliska BREZINOVA'), ('Nicole SCHOTT', 'Eliska BREZINOVA'), ('Karen CHEN', 'Nicole SCHOTT'), ('Kaori SAKAMOTO', 'Eva-Lotta KIIBUS'), ('Mariah BELL', 'Alexandra FEIGIN'), ('Kaori SAKAMOTO', 'Loena HENDRICKX'), ('Eva-Lotta KIIBUS', 'Jenni SAARINEN'), ('Anna SHCHERBAKOVA', 'Eva-Lotta KIIBUS'), ('Wakaba HIGUCHI', 'Karen CHEN'), ('Eva-Lotta KIIBUS', 'Eliska BREZINOVA'), ('Alexandra TRUSOVA', 'Madeline SCHIZAS'), ('Karen CHEN', 'Mariah BELL'), ('Ekaterina RYABOVA', 'Eva-Lotta KIIBUS'), ('Mariah BELL', 'Madeline SCHIZAS'), ('Wakaba HIGUCHI', 'Alexandra FEIGIN'), ('Olga MIKUTINA', 'Ekaterina KURAKOVA'), ('Kaori SAKAMOTO', 'Alexandra FEIGIN'), ('Wakaba HIGUCHI', 'Ekaterina KURAKOVA'), ('Kaori SAKAMOTO', 'Wakaba HIGUCHI'), ('Olga MIKUTINA', 'Alexandra FEIGIN'), ('Alexandra TRUSOVA', 'Jenni SAARINEN'), ('Alexandra FEIGIN', 'Ekaterina KURAKOVA'), ('Kailani CRAINE', 'Ekaterina KURAKOVA'), ('Alexandra TRUSOVA', 'Alexandra FEIGIN'), ('Kaori SAKAMOTO', 'Madeline SCHIZAS'), ('Olga MIKUTINA', 'Ekaterina RYABOVA'), ('Karen CHEN', 'Eliska BREZINOVA'), ('Mariah BELL', 'Eliska BREZINOVA'), ('Alexandra TRUSOVA', 'Eva-Lotta KIIBUS'), ('Kailani CRAINE', 'Jenni SAARINEN'), ('Anna SHCHERBAKOVA', 'Alexandra TRUSOVA'), ('Alexandra TRUSOVA', 'Karen CHEN'), ('Ekaterina RYABOVA', 'Jenni SAARINEN'), ('Kaori SAKAMOTO', 'Kailani CRAINE'), ('Wakaba HIGUCHI', 'Jenni SAARINEN'), ('Karen CHEN', 'Olga MIKUTINA'), ('Wakaba HIGUCHI', 'Eva-Lotta KIIBUS'), ('Kaori SAKAMOTO', 'Eliska BREZINOVA'), ('Madeline SCHIZAS', 'Jenni SAARINEN'), ('Madeline SCHIZAS', 'Kailani CRAINE'), ('Alexandra TRUSOVA', 'Olga MIKUTINA'), ('Mariah BELL', 'Olga MIKUTINA'), ('Kaori SAKAMOTO', 'Karen CHEN'), ('Alexandra TRUSOVA', 'Ekaterina KURAKOVA'), ('Alexandra FEIGIN', 'Kailani CRAINE'), ('Alexandra FEIGIN', 'Eliska BREZINOVA'), ('Anna SHCHERBAKOVA', 'Karen CHEN'), ('Madeline SCHIZAS', 'Nicole SCHOTT'), ('Anna SHCHERBAKOVA', 'Olga MIKUTINA'), ('Eliska BREZINOVA', 'Jenni SAARINEN'), ('Ekaterina RYABOVA', 'Nicole SCHOTT'), ('Kaori SAKAMOTO', 'Jenni SAARINEN'), ('Wakaba HIGUCHI', 'Kailani CRAINE'), ('Loena HENDRICKX', 'Ekaterina RYABOVA'), ('Alexandra TRUSOVA', 'Wakaba HIGUCHI'), ('Karen CHEN', 'Alexandra FEIGIN'), ('Anna SHCHERBAKOVA', 'Nicole SCHOTT'), ('Loena HENDRICKX', 'Olga MIKUTINA'), ('Mariah BELL', 'Nicole SCHOTT'), ('Mariah BELL', 'Ekaterina RYABOVA'), ('Anna SHCHERBAKOVA', 'Jenni SAARINEN'), ('Madeline SCHIZAS', 'Ekaterina KURAKOVA'), ('Mariah BELL', 'Jenni SAARINEN'), ('Loena HENDRICKX', 'Nicole SCHOTT'), ('Alexandra FEIGIN', 'Jenni SAARINEN'), ('Kaori SAKAMOTO', 'Nicole SCHOTT'), ('Alexandra TRUSOVA', 'Kailani CRAINE'), ('Anna SHCHERBAKOVA', 'Madeline SCHIZAS'), ('Nicole SCHOTT', 'Kailani CRAINE'), ('Mariah BELL', 'Ekaterina KURAKOVA'), ('Loena HENDRICKX', 'Eva-Lotta KIIBUS'), ('Olga MIKUTINA', 'Madeline SCHIZAS'), ('Eva-Lotta KIIBUS', 'Nicole SCHOTT'), ('Alexandra TRUSOVA', 'Nicole SCHOTT'), ('Wakaba HIGUCHI', 'Ekaterina RYABOVA'), ('Loena HENDRICKX', 'Kailani CRAINE'), ('Loena HENDRICKX', 'Madeline SCHIZAS'), ('Olga MIKUTINA', 'Eva-Lotta KIIBUS'), ('Eliska BREZINOVA', 'Ekaterina KURAKOVA'), ('Wakaba HIGUCHI', 'Olga MIKUTINA'), ('Anna SHCHERBAKOVA', 'Eliska BREZINOVA'), ('Alexandra TRUSOVA', 'Mariah BELL'), ('Eva-Lotta KIIBUS', 'Kailani CRAINE'), ('Mariah BELL', 'Eva-Lotta KIIBUS'), ('Ekaterina RYABOVA', 'Eliska BREZINOVA')}\n",
            "{('Anna SHCHERBAKOVA', 'Kailani CRAINE'), ('Madeline SCHIZAS', 'Eva-Lotta KIIBUS'), ('Ekaterina RYABOVA', 'Kailani CRAINE'), ('Alexandra FEIGIN', 'Olga MIKUTINA'), ('Mariah BELL', 'Kailani CRAINE'), ('Olga MIKUTINA', 'Jenni SAARINEN'), ('Alexandra TRUSOVA', 'Loena HENDRICKX'), ('Madeline SCHIZAS', 'Olga MIKUTINA'), ('Wakaba HIGUCHI', 'Madeline SCHIZAS'), ('Karen CHEN', 'Kailani CRAINE'), ('Wakaba HIGUCHI', 'Nicole SCHOTT'), ('Kaori SAKAMOTO', 'Olga MIKUTINA'), ('Mariah BELL', 'Karen CHEN'), ('Alexandra TRUSOVA', 'Ekaterina RYABOVA'), ('Madeline SCHIZAS', 'Eliska BREZINOVA'), ('Eliska BREZINOVA', 'Kailani CRAINE'), ('Wakaba HIGUCHI', 'Mariah BELL'), ('Anna SHCHERBAKOVA', 'Kaori SAKAMOTO'), ('Karen CHEN', 'Ekaterina KURAKOVA'), ('Anna SHCHERBAKOVA', 'Wakaba HIGUCHI'), ('Anna SHCHERBAKOVA', 'Alexandra FEIGIN'), ('Madeline SCHIZAS', 'Karen CHEN'), ('Ekaterina KURAKOVA', 'Alexandra FEIGIN'), ('Anna SHCHERBAKOVA', 'Ekaterina RYABOVA'), ('Karen CHEN', 'Ekaterina RYABOVA'), ('Anna SHCHERBAKOVA', 'Loena HENDRICKX'), ('Loena HENDRICKX', 'Alexandra FEIGIN'), ('Wakaba HIGUCHI', 'Eliska BREZINOVA'), ('Nicole SCHOTT', 'Jenni SAARINEN'), ('Anna SHCHERBAKOVA', 'Ekaterina KURAKOVA'), ('Eva-Lotta KIIBUS', 'Alexandra FEIGIN'), ('Loena HENDRICKX', 'Mariah BELL'), ('Loena HENDRICKX', 'Karen CHEN'), ('Ekaterina RYABOVA', 'Ekaterina KURAKOVA'), ('Karen CHEN', 'Jenni SAARINEN'), ('Kaori SAKAMOTO', 'Mariah BELL'), ('Kaori SAKAMOTO', 'Ekaterina KURAKOVA'), ('Karen CHEN', 'Eva-Lotta KIIBUS'), ('Loena HENDRICKX', 'Ekaterina KURAKOVA'), ('Anna SHCHERBAKOVA', 'Mariah BELL'), ('Alexandra TRUSOVA', 'Eliska BREZINOVA'), ('Madeline SCHIZAS', 'Alexandra FEIGIN'), ('Nicole SCHOTT', 'Alexandra FEIGIN'), ('Kaori SAKAMOTO', 'Ekaterina RYABOVA'), ('Loena HENDRICKX', 'Jenni SAARINEN'), ('Ekaterina RYABOVA', 'Alexandra FEIGIN'), ('Eliska BREZINOVA', 'Olga MIKUTINA'), ('Loena HENDRICKX', 'Eliska BREZINOVA'), ('Nicole SCHOTT', 'Eliska BREZINOVA'), ('Karen CHEN', 'Nicole SCHOTT'), ('Kaori SAKAMOTO', 'Eva-Lotta KIIBUS'), ('Mariah BELL', 'Alexandra FEIGIN'), ('Kaori SAKAMOTO', 'Loena HENDRICKX'), ('Eva-Lotta KIIBUS', 'Jenni SAARINEN'), ('Anna SHCHERBAKOVA', 'Eva-Lotta KIIBUS'), ('Wakaba HIGUCHI', 'Karen CHEN'), ('Eva-Lotta KIIBUS', 'Eliska BREZINOVA'), ('Alexandra TRUSOVA', 'Madeline SCHIZAS'), ('Ekaterina RYABOVA', 'Eva-Lotta KIIBUS'), ('Mariah BELL', 'Madeline SCHIZAS'), ('Wakaba HIGUCHI', 'Alexandra FEIGIN'), ('Kaori SAKAMOTO', 'Alexandra FEIGIN'), ('Wakaba HIGUCHI', 'Ekaterina KURAKOVA'), ('Kaori SAKAMOTO', 'Wakaba HIGUCHI'), ('Alexandra TRUSOVA', 'Jenni SAARINEN'), ('Alexandra TRUSOVA', 'Alexandra FEIGIN'), ('Kailani CRAINE', 'Olga MIKUTINA'), ('Kaori SAKAMOTO', 'Madeline SCHIZAS'), ('Ekaterina RYABOVA', 'Olga MIKUTINA'), ('Karen CHEN', 'Eliska BREZINOVA'), ('Mariah BELL', 'Eliska BREZINOVA'), ('Alexandra TRUSOVA', 'Eva-Lotta KIIBUS'), ('Ekaterina KURAKOVA', 'Nicole SCHOTT'), ('Kailani CRAINE', 'Jenni SAARINEN'), ('Anna SHCHERBAKOVA', 'Alexandra TRUSOVA'), ('Alexandra TRUSOVA', 'Karen CHEN'), ('Ekaterina RYABOVA', 'Jenni SAARINEN'), ('Kaori SAKAMOTO', 'Kailani CRAINE'), ('Wakaba HIGUCHI', 'Jenni SAARINEN'), ('Karen CHEN', 'Olga MIKUTINA'), ('Wakaba HIGUCHI', 'Eva-Lotta KIIBUS'), ('Kaori SAKAMOTO', 'Eliska BREZINOVA'), ('Ekaterina KURAKOVA', 'Eva-Lotta KIIBUS'), ('Madeline SCHIZAS', 'Jenni SAARINEN'), ('Madeline SCHIZAS', 'Kailani CRAINE'), ('Alexandra TRUSOVA', 'Olga MIKUTINA'), ('Mariah BELL', 'Olga MIKUTINA'), ('Kaori SAKAMOTO', 'Karen CHEN'), ('Alexandra TRUSOVA', 'Ekaterina KURAKOVA'), ('Alexandra FEIGIN', 'Kailani CRAINE'), ('Alexandra FEIGIN', 'Eliska BREZINOVA'), ('Ekaterina KURAKOVA', 'Olga MIKUTINA'), ('Loena HENDRICKX', 'Wakaba HIGUCHI'), ('Anna SHCHERBAKOVA', 'Karen CHEN'), ('Madeline SCHIZAS', 'Nicole SCHOTT'), ('Anna SHCHERBAKOVA', 'Olga MIKUTINA'), ('Eva-Lotta KIIBUS', 'Olga MIKUTINA'), ('Alexandra TRUSOVA', 'Kaori SAKAMOTO'), ('Eliska BREZINOVA', 'Jenni SAARINEN'), ('Ekaterina RYABOVA', 'Nicole SCHOTT'), ('Kaori SAKAMOTO', 'Jenni SAARINEN'), ('Loena HENDRICKX', 'Ekaterina RYABOVA'), ('Wakaba HIGUCHI', 'Kailani CRAINE'), ('Alexandra TRUSOVA', 'Wakaba HIGUCHI'), ('Ekaterina KURAKOVA', 'Eliska BREZINOVA'), ('Karen CHEN', 'Alexandra FEIGIN'), ('Anna SHCHERBAKOVA', 'Nicole SCHOTT'), ('Loena HENDRICKX', 'Olga MIKUTINA'), ('Ekaterina KURAKOVA', 'Jenni SAARINEN'), ('Mariah BELL', 'Nicole SCHOTT'), ('Ekaterina KURAKOVA', 'Kailani CRAINE'), ('Mariah BELL', 'Ekaterina RYABOVA'), ('Anna SHCHERBAKOVA', 'Jenni SAARINEN'), ('Madeline SCHIZAS', 'Ekaterina KURAKOVA'), ('Mariah BELL', 'Jenni SAARINEN'), ('Nicole SCHOTT', 'Olga MIKUTINA'), ('Loena HENDRICKX', 'Nicole SCHOTT'), ('Alexandra FEIGIN', 'Jenni SAARINEN'), ('Kaori SAKAMOTO', 'Nicole SCHOTT'), ('Alexandra TRUSOVA', 'Kailani CRAINE'), ('Anna SHCHERBAKOVA', 'Madeline SCHIZAS'), ('Nicole SCHOTT', 'Kailani CRAINE'), ('Mariah BELL', 'Ekaterina KURAKOVA'), ('Loena HENDRICKX', 'Eva-Lotta KIIBUS'), ('Madeline SCHIZAS', 'Ekaterina RYABOVA'), ('Eva-Lotta KIIBUS', 'Nicole SCHOTT'), ('Alexandra TRUSOVA', 'Nicole SCHOTT'), ('Loena HENDRICKX', 'Kailani CRAINE'), ('Wakaba HIGUCHI', 'Ekaterina RYABOVA'), ('Loena HENDRICKX', 'Madeline SCHIZAS'), ('Wakaba HIGUCHI', 'Olga MIKUTINA'), ('Anna SHCHERBAKOVA', 'Eliska BREZINOVA'), ('Alexandra TRUSOVA', 'Mariah BELL'), ('Eva-Lotta KIIBUS', 'Kailani CRAINE'), ('Mariah BELL', 'Eva-Lotta KIIBUS'), ('Ekaterina RYABOVA', 'Eliska BREZINOVA')}\n",
            "{('Anna SHCHERBAKOVA', 'Kailani CRAINE'), ('Madeline SCHIZAS', 'Eva-Lotta KIIBUS'), ('Ekaterina RYABOVA', 'Kailani CRAINE'), ('Wakaba HIGUCHI', 'Loena HENDRICKX'), ('Mariah BELL', 'Kailani CRAINE'), ('Olga MIKUTINA', 'Jenni SAARINEN'), ('Alexandra TRUSOVA', 'Loena HENDRICKX'), ('Wakaba HIGUCHI', 'Madeline SCHIZAS'), ('Ekaterina RYABOVA', 'Madeline SCHIZAS'), ('Nicole SCHOTT', 'Ekaterina KURAKOVA'), ('Karen CHEN', 'Kailani CRAINE'), ('Wakaba HIGUCHI', 'Nicole SCHOTT'), ('Olga MIKUTINA', 'Nicole SCHOTT'), ('Kaori SAKAMOTO', 'Olga MIKUTINA'), ('Alexandra TRUSOVA', 'Ekaterina RYABOVA'), ('Madeline SCHIZAS', 'Eliska BREZINOVA'), ('Eliska BREZINOVA', 'Kailani CRAINE'), ('Wakaba HIGUCHI', 'Mariah BELL'), ('Anna SHCHERBAKOVA', 'Kaori SAKAMOTO'), ('Karen CHEN', 'Ekaterina KURAKOVA'), ('Anna SHCHERBAKOVA', 'Wakaba HIGUCHI'), ('Anna SHCHERBAKOVA', 'Alexandra FEIGIN'), ('Anna SHCHERBAKOVA', 'Ekaterina RYABOVA'), ('Karen CHEN', 'Ekaterina RYABOVA'), ('Anna SHCHERBAKOVA', 'Loena HENDRICKX'), ('Loena HENDRICKX', 'Alexandra FEIGIN'), ('Wakaba HIGUCHI', 'Eliska BREZINOVA'), ('Kaori SAKAMOTO', 'Alexandra TRUSOVA'), ('Nicole SCHOTT', 'Jenni SAARINEN'), ('Anna SHCHERBAKOVA', 'Ekaterina KURAKOVA'), ('Eva-Lotta KIIBUS', 'Alexandra FEIGIN'), ('Eva-Lotta KIIBUS', 'Ekaterina KURAKOVA'), ('Loena HENDRICKX', 'Mariah BELL'), ('Olga MIKUTINA', 'Kailani CRAINE'), ('Ekaterina RYABOVA', 'Ekaterina KURAKOVA'), ('Karen CHEN', 'Jenni SAARINEN'), ('Kaori SAKAMOTO', 'Mariah BELL'), ('Kaori SAKAMOTO', 'Ekaterina KURAKOVA'), ('Olga MIKUTINA', 'Eliska BREZINOVA'), ('Karen CHEN', 'Eva-Lotta KIIBUS'), ('Loena HENDRICKX', 'Ekaterina KURAKOVA'), ('Karen CHEN', 'Loena HENDRICKX'), ('Anna SHCHERBAKOVA', 'Mariah BELL'), ('Alexandra TRUSOVA', 'Eliska BREZINOVA'), ('Madeline SCHIZAS', 'Alexandra FEIGIN'), ('Jenni SAARINEN', 'Ekaterina KURAKOVA'), ('Nicole SCHOTT', 'Alexandra FEIGIN'), ('Kaori SAKAMOTO', 'Ekaterina RYABOVA'), ('Loena HENDRICKX', 'Jenni SAARINEN'), ('Ekaterina RYABOVA', 'Alexandra FEIGIN'), ('Karen CHEN', 'Madeline SCHIZAS'), ('Loena HENDRICKX', 'Eliska BREZINOVA'), ('Nicole SCHOTT', 'Eliska BREZINOVA'), ('Karen CHEN', 'Nicole SCHOTT'), ('Kaori SAKAMOTO', 'Eva-Lotta KIIBUS'), ('Mariah BELL', 'Alexandra FEIGIN'), ('Kaori SAKAMOTO', 'Loena HENDRICKX'), ('Eva-Lotta KIIBUS', 'Jenni SAARINEN'), ('Anna SHCHERBAKOVA', 'Eva-Lotta KIIBUS'), ('Wakaba HIGUCHI', 'Karen CHEN'), ('Eva-Lotta KIIBUS', 'Eliska BREZINOVA'), ('Alexandra TRUSOVA', 'Madeline SCHIZAS'), ('Karen CHEN', 'Mariah BELL'), ('Ekaterina RYABOVA', 'Eva-Lotta KIIBUS'), ('Mariah BELL', 'Madeline SCHIZAS'), ('Wakaba HIGUCHI', 'Alexandra FEIGIN'), ('Olga MIKUTINA', 'Ekaterina KURAKOVA'), ('Kaori SAKAMOTO', 'Alexandra FEIGIN'), ('Wakaba HIGUCHI', 'Ekaterina KURAKOVA'), ('Kaori SAKAMOTO', 'Wakaba HIGUCHI'), ('Olga MIKUTINA', 'Alexandra FEIGIN'), ('Alexandra TRUSOVA', 'Jenni SAARINEN'), ('Alexandra FEIGIN', 'Ekaterina KURAKOVA'), ('Kailani CRAINE', 'Ekaterina KURAKOVA'), ('Alexandra TRUSOVA', 'Alexandra FEIGIN'), ('Kaori SAKAMOTO', 'Madeline SCHIZAS'), ('Olga MIKUTINA', 'Ekaterina RYABOVA'), ('Karen CHEN', 'Eliska BREZINOVA'), ('Mariah BELL', 'Eliska BREZINOVA'), ('Alexandra TRUSOVA', 'Eva-Lotta KIIBUS'), ('Kailani CRAINE', 'Jenni SAARINEN'), ('Anna SHCHERBAKOVA', 'Alexandra TRUSOVA'), ('Alexandra TRUSOVA', 'Karen CHEN'), ('Ekaterina RYABOVA', 'Jenni SAARINEN'), ('Kaori SAKAMOTO', 'Kailani CRAINE'), ('Wakaba HIGUCHI', 'Jenni SAARINEN'), ('Karen CHEN', 'Olga MIKUTINA'), ('Wakaba HIGUCHI', 'Eva-Lotta KIIBUS'), ('Kaori SAKAMOTO', 'Eliska BREZINOVA'), ('Madeline SCHIZAS', 'Jenni SAARINEN'), ('Madeline SCHIZAS', 'Kailani CRAINE'), ('Alexandra TRUSOVA', 'Olga MIKUTINA'), ('Mariah BELL', 'Olga MIKUTINA'), ('Kaori SAKAMOTO', 'Karen CHEN'), ('Alexandra TRUSOVA', 'Ekaterina KURAKOVA'), ('Alexandra FEIGIN', 'Kailani CRAINE'), ('Alexandra FEIGIN', 'Eliska BREZINOVA'), ('Anna SHCHERBAKOVA', 'Karen CHEN'), ('Madeline SCHIZAS', 'Nicole SCHOTT'), ('Anna SHCHERBAKOVA', 'Olga MIKUTINA'), ('Eliska BREZINOVA', 'Jenni SAARINEN'), ('Ekaterina RYABOVA', 'Nicole SCHOTT'), ('Kaori SAKAMOTO', 'Jenni SAARINEN'), ('Wakaba HIGUCHI', 'Kailani CRAINE'), ('Loena HENDRICKX', 'Ekaterina RYABOVA'), ('Alexandra TRUSOVA', 'Wakaba HIGUCHI'), ('Karen CHEN', 'Alexandra FEIGIN'), ('Anna SHCHERBAKOVA', 'Nicole SCHOTT'), ('Loena HENDRICKX', 'Olga MIKUTINA'), ('Mariah BELL', 'Nicole SCHOTT'), ('Mariah BELL', 'Ekaterina RYABOVA'), ('Anna SHCHERBAKOVA', 'Jenni SAARINEN'), ('Madeline SCHIZAS', 'Ekaterina KURAKOVA'), ('Mariah BELL', 'Jenni SAARINEN'), ('Loena HENDRICKX', 'Nicole SCHOTT'), ('Alexandra FEIGIN', 'Jenni SAARINEN'), ('Kaori SAKAMOTO', 'Nicole SCHOTT'), ('Alexandra TRUSOVA', 'Kailani CRAINE'), ('Anna SHCHERBAKOVA', 'Madeline SCHIZAS'), ('Nicole SCHOTT', 'Kailani CRAINE'), ('Mariah BELL', 'Ekaterina KURAKOVA'), ('Loena HENDRICKX', 'Eva-Lotta KIIBUS'), ('Olga MIKUTINA', 'Madeline SCHIZAS'), ('Eva-Lotta KIIBUS', 'Nicole SCHOTT'), ('Alexandra TRUSOVA', 'Nicole SCHOTT'), ('Wakaba HIGUCHI', 'Ekaterina RYABOVA'), ('Loena HENDRICKX', 'Kailani CRAINE'), ('Loena HENDRICKX', 'Madeline SCHIZAS'), ('Olga MIKUTINA', 'Eva-Lotta KIIBUS'), ('Eliska BREZINOVA', 'Ekaterina KURAKOVA'), ('Wakaba HIGUCHI', 'Olga MIKUTINA'), ('Anna SHCHERBAKOVA', 'Eliska BREZINOVA'), ('Alexandra TRUSOVA', 'Mariah BELL'), ('Eva-Lotta KIIBUS', 'Kailani CRAINE'), ('Mariah BELL', 'Eva-Lotta KIIBUS'), ('Ekaterina RYABOVA', 'Eliska BREZINOVA')}\n",
            "{('Anna SHCHERBAKOVA', 'Kailani CRAINE'), ('Madeline SCHIZAS', 'Eva-Lotta KIIBUS'), ('Ekaterina RYABOVA', 'Kailani CRAINE'), ('Alexandra FEIGIN', 'Olga MIKUTINA'), ('Mariah BELL', 'Kailani CRAINE'), ('Olga MIKUTINA', 'Jenni SAARINEN'), ('Alexandra TRUSOVA', 'Loena HENDRICKX'), ('Madeline SCHIZAS', 'Olga MIKUTINA'), ('Wakaba HIGUCHI', 'Madeline SCHIZAS'), ('Karen CHEN', 'Kailani CRAINE'), ('Wakaba HIGUCHI', 'Nicole SCHOTT'), ('Kaori SAKAMOTO', 'Olga MIKUTINA'), ('Mariah BELL', 'Karen CHEN'), ('Alexandra TRUSOVA', 'Ekaterina RYABOVA'), ('Madeline SCHIZAS', 'Eliska BREZINOVA'), ('Eliska BREZINOVA', 'Kailani CRAINE'), ('Wakaba HIGUCHI', 'Mariah BELL'), ('Anna SHCHERBAKOVA', 'Kaori SAKAMOTO'), ('Karen CHEN', 'Ekaterina KURAKOVA'), ('Anna SHCHERBAKOVA', 'Wakaba HIGUCHI'), ('Anna SHCHERBAKOVA', 'Alexandra FEIGIN'), ('Madeline SCHIZAS', 'Karen CHEN'), ('Ekaterina KURAKOVA', 'Alexandra FEIGIN'), ('Anna SHCHERBAKOVA', 'Ekaterina RYABOVA'), ('Karen CHEN', 'Ekaterina RYABOVA'), ('Anna SHCHERBAKOVA', 'Loena HENDRICKX'), ('Loena HENDRICKX', 'Alexandra FEIGIN'), ('Wakaba HIGUCHI', 'Eliska BREZINOVA'), ('Nicole SCHOTT', 'Jenni SAARINEN'), ('Anna SHCHERBAKOVA', 'Ekaterina KURAKOVA'), ('Eva-Lotta KIIBUS', 'Alexandra FEIGIN'), ('Loena HENDRICKX', 'Mariah BELL'), ('Loena HENDRICKX', 'Karen CHEN'), ('Ekaterina RYABOVA', 'Ekaterina KURAKOVA'), ('Karen CHEN', 'Jenni SAARINEN'), ('Kaori SAKAMOTO', 'Mariah BELL'), ('Kaori SAKAMOTO', 'Ekaterina KURAKOVA'), ('Karen CHEN', 'Eva-Lotta KIIBUS'), ('Loena HENDRICKX', 'Ekaterina KURAKOVA'), ('Anna SHCHERBAKOVA', 'Mariah BELL'), ('Alexandra TRUSOVA', 'Eliska BREZINOVA'), ('Madeline SCHIZAS', 'Alexandra FEIGIN'), ('Nicole SCHOTT', 'Alexandra FEIGIN'), ('Kaori SAKAMOTO', 'Ekaterina RYABOVA'), ('Loena HENDRICKX', 'Jenni SAARINEN'), ('Ekaterina RYABOVA', 'Alexandra FEIGIN'), ('Eliska BREZINOVA', 'Olga MIKUTINA'), ('Loena HENDRICKX', 'Eliska BREZINOVA'), ('Nicole SCHOTT', 'Eliska BREZINOVA'), ('Karen CHEN', 'Nicole SCHOTT'), ('Kaori SAKAMOTO', 'Eva-Lotta KIIBUS'), ('Mariah BELL', 'Alexandra FEIGIN'), ('Kaori SAKAMOTO', 'Loena HENDRICKX'), ('Eva-Lotta KIIBUS', 'Jenni SAARINEN'), ('Anna SHCHERBAKOVA', 'Eva-Lotta KIIBUS'), ('Wakaba HIGUCHI', 'Karen CHEN'), ('Eva-Lotta KIIBUS', 'Eliska BREZINOVA'), ('Alexandra TRUSOVA', 'Madeline SCHIZAS'), ('Ekaterina RYABOVA', 'Eva-Lotta KIIBUS'), ('Mariah BELL', 'Madeline SCHIZAS'), ('Wakaba HIGUCHI', 'Alexandra FEIGIN'), ('Kaori SAKAMOTO', 'Alexandra FEIGIN'), ('Wakaba HIGUCHI', 'Ekaterina KURAKOVA'), ('Kaori SAKAMOTO', 'Wakaba HIGUCHI'), ('Alexandra TRUSOVA', 'Jenni SAARINEN'), ('Alexandra TRUSOVA', 'Alexandra FEIGIN'), ('Kailani CRAINE', 'Olga MIKUTINA'), ('Kaori SAKAMOTO', 'Madeline SCHIZAS'), ('Ekaterina RYABOVA', 'Olga MIKUTINA'), ('Karen CHEN', 'Eliska BREZINOVA'), ('Mariah BELL', 'Eliska BREZINOVA'), ('Alexandra TRUSOVA', 'Eva-Lotta KIIBUS'), ('Ekaterina KURAKOVA', 'Nicole SCHOTT'), ('Kailani CRAINE', 'Jenni SAARINEN'), ('Anna SHCHERBAKOVA', 'Alexandra TRUSOVA'), ('Alexandra TRUSOVA', 'Karen CHEN'), ('Ekaterina RYABOVA', 'Jenni SAARINEN'), ('Kaori SAKAMOTO', 'Kailani CRAINE'), ('Wakaba HIGUCHI', 'Jenni SAARINEN'), ('Karen CHEN', 'Olga MIKUTINA'), ('Wakaba HIGUCHI', 'Eva-Lotta KIIBUS'), ('Kaori SAKAMOTO', 'Eliska BREZINOVA'), ('Ekaterina KURAKOVA', 'Eva-Lotta KIIBUS'), ('Madeline SCHIZAS', 'Jenni SAARINEN'), ('Madeline SCHIZAS', 'Kailani CRAINE'), ('Alexandra TRUSOVA', 'Olga MIKUTINA'), ('Mariah BELL', 'Olga MIKUTINA'), ('Kaori SAKAMOTO', 'Karen CHEN'), ('Alexandra TRUSOVA', 'Ekaterina KURAKOVA'), ('Alexandra FEIGIN', 'Kailani CRAINE'), ('Alexandra FEIGIN', 'Eliska BREZINOVA'), ('Ekaterina KURAKOVA', 'Olga MIKUTINA'), ('Loena HENDRICKX', 'Wakaba HIGUCHI'), ('Anna SHCHERBAKOVA', 'Karen CHEN'), ('Madeline SCHIZAS', 'Nicole SCHOTT'), ('Anna SHCHERBAKOVA', 'Olga MIKUTINA'), ('Eva-Lotta KIIBUS', 'Olga MIKUTINA'), ('Alexandra TRUSOVA', 'Kaori SAKAMOTO'), ('Eliska BREZINOVA', 'Jenni SAARINEN'), ('Ekaterina RYABOVA', 'Nicole SCHOTT'), ('Kaori SAKAMOTO', 'Jenni SAARINEN'), ('Loena HENDRICKX', 'Ekaterina RYABOVA'), ('Wakaba HIGUCHI', 'Kailani CRAINE'), ('Alexandra TRUSOVA', 'Wakaba HIGUCHI'), ('Ekaterina KURAKOVA', 'Eliska BREZINOVA'), ('Karen CHEN', 'Alexandra FEIGIN'), ('Anna SHCHERBAKOVA', 'Nicole SCHOTT'), ('Loena HENDRICKX', 'Olga MIKUTINA'), ('Ekaterina KURAKOVA', 'Jenni SAARINEN'), ('Mariah BELL', 'Nicole SCHOTT'), ('Ekaterina KURAKOVA', 'Kailani CRAINE'), ('Mariah BELL', 'Ekaterina RYABOVA'), ('Anna SHCHERBAKOVA', 'Jenni SAARINEN'), ('Madeline SCHIZAS', 'Ekaterina KURAKOVA'), ('Mariah BELL', 'Jenni SAARINEN'), ('Nicole SCHOTT', 'Olga MIKUTINA'), ('Loena HENDRICKX', 'Nicole SCHOTT'), ('Alexandra FEIGIN', 'Jenni SAARINEN'), ('Kaori SAKAMOTO', 'Nicole SCHOTT'), ('Alexandra TRUSOVA', 'Kailani CRAINE'), ('Anna SHCHERBAKOVA', 'Madeline SCHIZAS'), ('Nicole SCHOTT', 'Kailani CRAINE'), ('Mariah BELL', 'Ekaterina KURAKOVA'), ('Loena HENDRICKX', 'Eva-Lotta KIIBUS'), ('Madeline SCHIZAS', 'Ekaterina RYABOVA'), ('Eva-Lotta KIIBUS', 'Nicole SCHOTT'), ('Alexandra TRUSOVA', 'Nicole SCHOTT'), ('Loena HENDRICKX', 'Kailani CRAINE'), ('Wakaba HIGUCHI', 'Ekaterina RYABOVA'), ('Loena HENDRICKX', 'Madeline SCHIZAS'), ('Wakaba HIGUCHI', 'Olga MIKUTINA'), ('Anna SHCHERBAKOVA', 'Eliska BREZINOVA'), ('Alexandra TRUSOVA', 'Mariah BELL'), ('Eva-Lotta KIIBUS', 'Kailani CRAINE'), ('Mariah BELL', 'Eva-Lotta KIIBUS'), ('Ekaterina RYABOVA', 'Eliska BREZINOVA')}\n",
            "{('Anna SHCHERBAKOVA', 'Kailani CRAINE'), ('Madeline SCHIZAS', 'Eva-Lotta KIIBUS'), ('Ekaterina RYABOVA', 'Kailani CRAINE'), ('Wakaba HIGUCHI', 'Loena HENDRICKX'), ('Mariah BELL', 'Kailani CRAINE'), ('Olga MIKUTINA', 'Jenni SAARINEN'), ('Alexandra TRUSOVA', 'Loena HENDRICKX'), ('Wakaba HIGUCHI', 'Madeline SCHIZAS'), ('Ekaterina RYABOVA', 'Madeline SCHIZAS'), ('Nicole SCHOTT', 'Ekaterina KURAKOVA'), ('Karen CHEN', 'Kailani CRAINE'), ('Wakaba HIGUCHI', 'Nicole SCHOTT'), ('Olga MIKUTINA', 'Nicole SCHOTT'), ('Kaori SAKAMOTO', 'Olga MIKUTINA'), ('Alexandra TRUSOVA', 'Ekaterina RYABOVA'), ('Madeline SCHIZAS', 'Eliska BREZINOVA'), ('Eliska BREZINOVA', 'Kailani CRAINE'), ('Wakaba HIGUCHI', 'Mariah BELL'), ('Anna SHCHERBAKOVA', 'Kaori SAKAMOTO'), ('Karen CHEN', 'Ekaterina KURAKOVA'), ('Anna SHCHERBAKOVA', 'Wakaba HIGUCHI'), ('Anna SHCHERBAKOVA', 'Alexandra FEIGIN'), ('Anna SHCHERBAKOVA', 'Ekaterina RYABOVA'), ('Karen CHEN', 'Ekaterina RYABOVA'), ('Anna SHCHERBAKOVA', 'Loena HENDRICKX'), ('Loena HENDRICKX', 'Alexandra FEIGIN'), ('Wakaba HIGUCHI', 'Eliska BREZINOVA'), ('Kaori SAKAMOTO', 'Alexandra TRUSOVA'), ('Nicole SCHOTT', 'Jenni SAARINEN'), ('Anna SHCHERBAKOVA', 'Ekaterina KURAKOVA'), ('Eva-Lotta KIIBUS', 'Alexandra FEIGIN'), ('Eva-Lotta KIIBUS', 'Ekaterina KURAKOVA'), ('Loena HENDRICKX', 'Mariah BELL'), ('Olga MIKUTINA', 'Kailani CRAINE'), ('Ekaterina RYABOVA', 'Ekaterina KURAKOVA'), ('Karen CHEN', 'Jenni SAARINEN'), ('Kaori SAKAMOTO', 'Mariah BELL'), ('Kaori SAKAMOTO', 'Ekaterina KURAKOVA'), ('Olga MIKUTINA', 'Eliska BREZINOVA'), ('Karen CHEN', 'Eva-Lotta KIIBUS'), ('Loena HENDRICKX', 'Ekaterina KURAKOVA'), ('Karen CHEN', 'Loena HENDRICKX'), ('Anna SHCHERBAKOVA', 'Mariah BELL'), ('Alexandra TRUSOVA', 'Eliska BREZINOVA'), ('Madeline SCHIZAS', 'Alexandra FEIGIN'), ('Jenni SAARINEN', 'Ekaterina KURAKOVA'), ('Nicole SCHOTT', 'Alexandra FEIGIN'), ('Kaori SAKAMOTO', 'Ekaterina RYABOVA'), ('Loena HENDRICKX', 'Jenni SAARINEN'), ('Ekaterina RYABOVA', 'Alexandra FEIGIN'), ('Karen CHEN', 'Madeline SCHIZAS'), ('Loena HENDRICKX', 'Eliska BREZINOVA'), ('Nicole SCHOTT', 'Eliska BREZINOVA'), ('Karen CHEN', 'Nicole SCHOTT'), ('Kaori SAKAMOTO', 'Eva-Lotta KIIBUS'), ('Mariah BELL', 'Alexandra FEIGIN'), ('Kaori SAKAMOTO', 'Loena HENDRICKX'), ('Eva-Lotta KIIBUS', 'Jenni SAARINEN'), ('Anna SHCHERBAKOVA', 'Eva-Lotta KIIBUS'), ('Wakaba HIGUCHI', 'Karen CHEN'), ('Eva-Lotta KIIBUS', 'Eliska BREZINOVA'), ('Alexandra TRUSOVA', 'Madeline SCHIZAS'), ('Karen CHEN', 'Mariah BELL'), ('Ekaterina RYABOVA', 'Eva-Lotta KIIBUS'), ('Mariah BELL', 'Madeline SCHIZAS'), ('Wakaba HIGUCHI', 'Alexandra FEIGIN'), ('Olga MIKUTINA', 'Ekaterina KURAKOVA'), ('Kaori SAKAMOTO', 'Alexandra FEIGIN'), ('Wakaba HIGUCHI', 'Ekaterina KURAKOVA'), ('Kaori SAKAMOTO', 'Wakaba HIGUCHI'), ('Olga MIKUTINA', 'Alexandra FEIGIN'), ('Alexandra TRUSOVA', 'Jenni SAARINEN'), ('Alexandra FEIGIN', 'Ekaterina KURAKOVA'), ('Kailani CRAINE', 'Ekaterina KURAKOVA'), ('Alexandra TRUSOVA', 'Alexandra FEIGIN'), ('Kaori SAKAMOTO', 'Madeline SCHIZAS'), ('Olga MIKUTINA', 'Ekaterina RYABOVA'), ('Karen CHEN', 'Eliska BREZINOVA'), ('Mariah BELL', 'Eliska BREZINOVA'), ('Alexandra TRUSOVA', 'Eva-Lotta KIIBUS'), ('Kailani CRAINE', 'Jenni SAARINEN'), ('Anna SHCHERBAKOVA', 'Alexandra TRUSOVA'), ('Alexandra TRUSOVA', 'Karen CHEN'), ('Ekaterina RYABOVA', 'Jenni SAARINEN'), ('Kaori SAKAMOTO', 'Kailani CRAINE'), ('Wakaba HIGUCHI', 'Jenni SAARINEN'), ('Karen CHEN', 'Olga MIKUTINA'), ('Wakaba HIGUCHI', 'Eva-Lotta KIIBUS'), ('Kaori SAKAMOTO', 'Eliska BREZINOVA'), ('Madeline SCHIZAS', 'Jenni SAARINEN'), ('Madeline SCHIZAS', 'Kailani CRAINE'), ('Alexandra TRUSOVA', 'Olga MIKUTINA'), ('Mariah BELL', 'Olga MIKUTINA'), ('Kaori SAKAMOTO', 'Karen CHEN'), ('Alexandra TRUSOVA', 'Ekaterina KURAKOVA'), ('Alexandra FEIGIN', 'Kailani CRAINE'), ('Alexandra FEIGIN', 'Eliska BREZINOVA'), ('Anna SHCHERBAKOVA', 'Karen CHEN'), ('Madeline SCHIZAS', 'Nicole SCHOTT'), ('Anna SHCHERBAKOVA', 'Olga MIKUTINA'), ('Eliska BREZINOVA', 'Jenni SAARINEN'), ('Ekaterina RYABOVA', 'Nicole SCHOTT'), ('Kaori SAKAMOTO', 'Jenni SAARINEN'), ('Wakaba HIGUCHI', 'Kailani CRAINE'), ('Loena HENDRICKX', 'Ekaterina RYABOVA'), ('Alexandra TRUSOVA', 'Wakaba HIGUCHI'), ('Karen CHEN', 'Alexandra FEIGIN'), ('Anna SHCHERBAKOVA', 'Nicole SCHOTT'), ('Loena HENDRICKX', 'Olga MIKUTINA'), ('Mariah BELL', 'Nicole SCHOTT'), ('Mariah BELL', 'Ekaterina RYABOVA'), ('Anna SHCHERBAKOVA', 'Jenni SAARINEN'), ('Madeline SCHIZAS', 'Ekaterina KURAKOVA'), ('Mariah BELL', 'Jenni SAARINEN'), ('Loena HENDRICKX', 'Nicole SCHOTT'), ('Alexandra FEIGIN', 'Jenni SAARINEN'), ('Kaori SAKAMOTO', 'Nicole SCHOTT'), ('Alexandra TRUSOVA', 'Kailani CRAINE'), ('Anna SHCHERBAKOVA', 'Madeline SCHIZAS'), ('Nicole SCHOTT', 'Kailani CRAINE'), ('Mariah BELL', 'Ekaterina KURAKOVA'), ('Loena HENDRICKX', 'Eva-Lotta KIIBUS'), ('Olga MIKUTINA', 'Madeline SCHIZAS'), ('Eva-Lotta KIIBUS', 'Nicole SCHOTT'), ('Alexandra TRUSOVA', 'Nicole SCHOTT'), ('Wakaba HIGUCHI', 'Ekaterina RYABOVA'), ('Loena HENDRICKX', 'Kailani CRAINE'), ('Loena HENDRICKX', 'Madeline SCHIZAS'), ('Olga MIKUTINA', 'Eva-Lotta KIIBUS'), ('Eliska BREZINOVA', 'Ekaterina KURAKOVA'), ('Wakaba HIGUCHI', 'Olga MIKUTINA'), ('Anna SHCHERBAKOVA', 'Eliska BREZINOVA'), ('Alexandra TRUSOVA', 'Mariah BELL'), ('Eva-Lotta KIIBUS', 'Kailani CRAINE'), ('Mariah BELL', 'Eva-Lotta KIIBUS'), ('Ekaterina RYABOVA', 'Eliska BREZINOVA')}\n",
            "{('Anna SHCHERBAKOVA', 'Kailani CRAINE'), ('Madeline SCHIZAS', 'Eva-Lotta KIIBUS'), ('Ekaterina RYABOVA', 'Kailani CRAINE'), ('Alexandra FEIGIN', 'Olga MIKUTINA'), ('Mariah BELL', 'Kailani CRAINE'), ('Olga MIKUTINA', 'Jenni SAARINEN'), ('Alexandra TRUSOVA', 'Loena HENDRICKX'), ('Madeline SCHIZAS', 'Olga MIKUTINA'), ('Wakaba HIGUCHI', 'Madeline SCHIZAS'), ('Karen CHEN', 'Kailani CRAINE'), ('Wakaba HIGUCHI', 'Nicole SCHOTT'), ('Kaori SAKAMOTO', 'Olga MIKUTINA'), ('Mariah BELL', 'Karen CHEN'), ('Alexandra TRUSOVA', 'Ekaterina RYABOVA'), ('Madeline SCHIZAS', 'Eliska BREZINOVA'), ('Eliska BREZINOVA', 'Kailani CRAINE'), ('Wakaba HIGUCHI', 'Mariah BELL'), ('Anna SHCHERBAKOVA', 'Kaori SAKAMOTO'), ('Karen CHEN', 'Ekaterina KURAKOVA'), ('Anna SHCHERBAKOVA', 'Wakaba HIGUCHI'), ('Anna SHCHERBAKOVA', 'Alexandra FEIGIN'), ('Madeline SCHIZAS', 'Karen CHEN'), ('Ekaterina KURAKOVA', 'Alexandra FEIGIN'), ('Anna SHCHERBAKOVA', 'Ekaterina RYABOVA'), ('Karen CHEN', 'Ekaterina RYABOVA'), ('Anna SHCHERBAKOVA', 'Loena HENDRICKX'), ('Loena HENDRICKX', 'Alexandra FEIGIN'), ('Wakaba HIGUCHI', 'Eliska BREZINOVA'), ('Nicole SCHOTT', 'Jenni SAARINEN'), ('Anna SHCHERBAKOVA', 'Ekaterina KURAKOVA'), ('Eva-Lotta KIIBUS', 'Alexandra FEIGIN'), ('Loena HENDRICKX', 'Mariah BELL'), ('Loena HENDRICKX', 'Karen CHEN'), ('Ekaterina RYABOVA', 'Ekaterina KURAKOVA'), ('Karen CHEN', 'Jenni SAARINEN'), ('Kaori SAKAMOTO', 'Mariah BELL'), ('Kaori SAKAMOTO', 'Ekaterina KURAKOVA'), ('Karen CHEN', 'Eva-Lotta KIIBUS'), ('Loena HENDRICKX', 'Ekaterina KURAKOVA'), ('Anna SHCHERBAKOVA', 'Mariah BELL'), ('Alexandra TRUSOVA', 'Eliska BREZINOVA'), ('Madeline SCHIZAS', 'Alexandra FEIGIN'), ('Nicole SCHOTT', 'Alexandra FEIGIN'), ('Kaori SAKAMOTO', 'Ekaterina RYABOVA'), ('Loena HENDRICKX', 'Jenni SAARINEN'), ('Ekaterina RYABOVA', 'Alexandra FEIGIN'), ('Eliska BREZINOVA', 'Olga MIKUTINA'), ('Loena HENDRICKX', 'Eliska BREZINOVA'), ('Nicole SCHOTT', 'Eliska BREZINOVA'), ('Karen CHEN', 'Nicole SCHOTT'), ('Kaori SAKAMOTO', 'Eva-Lotta KIIBUS'), ('Mariah BELL', 'Alexandra FEIGIN'), ('Kaori SAKAMOTO', 'Loena HENDRICKX'), ('Eva-Lotta KIIBUS', 'Jenni SAARINEN'), ('Anna SHCHERBAKOVA', 'Eva-Lotta KIIBUS'), ('Wakaba HIGUCHI', 'Karen CHEN'), ('Eva-Lotta KIIBUS', 'Eliska BREZINOVA'), ('Alexandra TRUSOVA', 'Madeline SCHIZAS'), ('Ekaterina RYABOVA', 'Eva-Lotta KIIBUS'), ('Mariah BELL', 'Madeline SCHIZAS'), ('Wakaba HIGUCHI', 'Alexandra FEIGIN'), ('Kaori SAKAMOTO', 'Alexandra FEIGIN'), ('Wakaba HIGUCHI', 'Ekaterina KURAKOVA'), ('Kaori SAKAMOTO', 'Wakaba HIGUCHI'), ('Alexandra TRUSOVA', 'Jenni SAARINEN'), ('Alexandra TRUSOVA', 'Alexandra FEIGIN'), ('Kailani CRAINE', 'Olga MIKUTINA'), ('Kaori SAKAMOTO', 'Madeline SCHIZAS'), ('Ekaterina RYABOVA', 'Olga MIKUTINA'), ('Karen CHEN', 'Eliska BREZINOVA'), ('Mariah BELL', 'Eliska BREZINOVA'), ('Alexandra TRUSOVA', 'Eva-Lotta KIIBUS'), ('Ekaterina KURAKOVA', 'Nicole SCHOTT'), ('Kailani CRAINE', 'Jenni SAARINEN'), ('Anna SHCHERBAKOVA', 'Alexandra TRUSOVA'), ('Alexandra TRUSOVA', 'Karen CHEN'), ('Ekaterina RYABOVA', 'Jenni SAARINEN'), ('Kaori SAKAMOTO', 'Kailani CRAINE'), ('Wakaba HIGUCHI', 'Jenni SAARINEN'), ('Karen CHEN', 'Olga MIKUTINA'), ('Wakaba HIGUCHI', 'Eva-Lotta KIIBUS'), ('Kaori SAKAMOTO', 'Eliska BREZINOVA'), ('Ekaterina KURAKOVA', 'Eva-Lotta KIIBUS'), ('Madeline SCHIZAS', 'Jenni SAARINEN'), ('Madeline SCHIZAS', 'Kailani CRAINE'), ('Alexandra TRUSOVA', 'Olga MIKUTINA'), ('Mariah BELL', 'Olga MIKUTINA'), ('Kaori SAKAMOTO', 'Karen CHEN'), ('Alexandra TRUSOVA', 'Ekaterina KURAKOVA'), ('Alexandra FEIGIN', 'Kailani CRAINE'), ('Alexandra FEIGIN', 'Eliska BREZINOVA'), ('Ekaterina KURAKOVA', 'Olga MIKUTINA'), ('Loena HENDRICKX', 'Wakaba HIGUCHI'), ('Anna SHCHERBAKOVA', 'Karen CHEN'), ('Madeline SCHIZAS', 'Nicole SCHOTT'), ('Anna SHCHERBAKOVA', 'Olga MIKUTINA'), ('Eva-Lotta KIIBUS', 'Olga MIKUTINA'), ('Alexandra TRUSOVA', 'Kaori SAKAMOTO'), ('Eliska BREZINOVA', 'Jenni SAARINEN'), ('Ekaterina RYABOVA', 'Nicole SCHOTT'), ('Kaori SAKAMOTO', 'Jenni SAARINEN'), ('Loena HENDRICKX', 'Ekaterina RYABOVA'), ('Wakaba HIGUCHI', 'Kailani CRAINE'), ('Alexandra TRUSOVA', 'Wakaba HIGUCHI'), ('Ekaterina KURAKOVA', 'Eliska BREZINOVA'), ('Karen CHEN', 'Alexandra FEIGIN'), ('Anna SHCHERBAKOVA', 'Nicole SCHOTT'), ('Loena HENDRICKX', 'Olga MIKUTINA'), ('Ekaterina KURAKOVA', 'Jenni SAARINEN'), ('Mariah BELL', 'Nicole SCHOTT'), ('Ekaterina KURAKOVA', 'Kailani CRAINE'), ('Mariah BELL', 'Ekaterina RYABOVA'), ('Anna SHCHERBAKOVA', 'Jenni SAARINEN'), ('Madeline SCHIZAS', 'Ekaterina KURAKOVA'), ('Mariah BELL', 'Jenni SAARINEN'), ('Nicole SCHOTT', 'Olga MIKUTINA'), ('Loena HENDRICKX', 'Nicole SCHOTT'), ('Alexandra FEIGIN', 'Jenni SAARINEN'), ('Kaori SAKAMOTO', 'Nicole SCHOTT'), ('Alexandra TRUSOVA', 'Kailani CRAINE'), ('Anna SHCHERBAKOVA', 'Madeline SCHIZAS'), ('Nicole SCHOTT', 'Kailani CRAINE'), ('Mariah BELL', 'Ekaterina KURAKOVA'), ('Loena HENDRICKX', 'Eva-Lotta KIIBUS'), ('Madeline SCHIZAS', 'Ekaterina RYABOVA'), ('Eva-Lotta KIIBUS', 'Nicole SCHOTT'), ('Alexandra TRUSOVA', 'Nicole SCHOTT'), ('Loena HENDRICKX', 'Kailani CRAINE'), ('Wakaba HIGUCHI', 'Ekaterina RYABOVA'), ('Loena HENDRICKX', 'Madeline SCHIZAS'), ('Wakaba HIGUCHI', 'Olga MIKUTINA'), ('Anna SHCHERBAKOVA', 'Eliska BREZINOVA'), ('Alexandra TRUSOVA', 'Mariah BELL'), ('Eva-Lotta KIIBUS', 'Kailani CRAINE'), ('Mariah BELL', 'Eva-Lotta KIIBUS'), ('Ekaterina RYABOVA', 'Eliska BREZINOVA')}\n",
            "{('Anna SHCHERBAKOVA', 'Kailani CRAINE'), ('Madeline SCHIZAS', 'Eva-Lotta KIIBUS'), ('Ekaterina RYABOVA', 'Kailani CRAINE'), ('Wakaba HIGUCHI', 'Loena HENDRICKX'), ('Mariah BELL', 'Kailani CRAINE'), ('Olga MIKUTINA', 'Jenni SAARINEN'), ('Alexandra TRUSOVA', 'Loena HENDRICKX'), ('Wakaba HIGUCHI', 'Madeline SCHIZAS'), ('Ekaterina RYABOVA', 'Madeline SCHIZAS'), ('Nicole SCHOTT', 'Ekaterina KURAKOVA'), ('Karen CHEN', 'Kailani CRAINE'), ('Wakaba HIGUCHI', 'Nicole SCHOTT'), ('Olga MIKUTINA', 'Nicole SCHOTT'), ('Kaori SAKAMOTO', 'Olga MIKUTINA'), ('Alexandra TRUSOVA', 'Ekaterina RYABOVA'), ('Madeline SCHIZAS', 'Eliska BREZINOVA'), ('Eliska BREZINOVA', 'Kailani CRAINE'), ('Wakaba HIGUCHI', 'Mariah BELL'), ('Anna SHCHERBAKOVA', 'Kaori SAKAMOTO'), ('Karen CHEN', 'Ekaterina KURAKOVA'), ('Anna SHCHERBAKOVA', 'Wakaba HIGUCHI'), ('Anna SHCHERBAKOVA', 'Alexandra FEIGIN'), ('Anna SHCHERBAKOVA', 'Ekaterina RYABOVA'), ('Karen CHEN', 'Ekaterina RYABOVA'), ('Anna SHCHERBAKOVA', 'Loena HENDRICKX'), ('Loena HENDRICKX', 'Alexandra FEIGIN'), ('Wakaba HIGUCHI', 'Eliska BREZINOVA'), ('Kaori SAKAMOTO', 'Alexandra TRUSOVA'), ('Nicole SCHOTT', 'Jenni SAARINEN'), ('Anna SHCHERBAKOVA', 'Ekaterina KURAKOVA'), ('Eva-Lotta KIIBUS', 'Alexandra FEIGIN'), ('Eva-Lotta KIIBUS', 'Ekaterina KURAKOVA'), ('Loena HENDRICKX', 'Mariah BELL'), ('Olga MIKUTINA', 'Kailani CRAINE'), ('Ekaterina RYABOVA', 'Ekaterina KURAKOVA'), ('Karen CHEN', 'Jenni SAARINEN'), ('Kaori SAKAMOTO', 'Mariah BELL'), ('Kaori SAKAMOTO', 'Ekaterina KURAKOVA'), ('Olga MIKUTINA', 'Eliska BREZINOVA'), ('Karen CHEN', 'Eva-Lotta KIIBUS'), ('Loena HENDRICKX', 'Ekaterina KURAKOVA'), ('Karen CHEN', 'Loena HENDRICKX'), ('Anna SHCHERBAKOVA', 'Mariah BELL'), ('Alexandra TRUSOVA', 'Eliska BREZINOVA'), ('Madeline SCHIZAS', 'Alexandra FEIGIN'), ('Jenni SAARINEN', 'Ekaterina KURAKOVA'), ('Nicole SCHOTT', 'Alexandra FEIGIN'), ('Kaori SAKAMOTO', 'Ekaterina RYABOVA'), ('Loena HENDRICKX', 'Jenni SAARINEN'), ('Ekaterina RYABOVA', 'Alexandra FEIGIN'), ('Karen CHEN', 'Madeline SCHIZAS'), ('Loena HENDRICKX', 'Eliska BREZINOVA'), ('Nicole SCHOTT', 'Eliska BREZINOVA'), ('Karen CHEN', 'Nicole SCHOTT'), ('Kaori SAKAMOTO', 'Eva-Lotta KIIBUS'), ('Mariah BELL', 'Alexandra FEIGIN'), ('Kaori SAKAMOTO', 'Loena HENDRICKX'), ('Eva-Lotta KIIBUS', 'Jenni SAARINEN'), ('Anna SHCHERBAKOVA', 'Eva-Lotta KIIBUS'), ('Wakaba HIGUCHI', 'Karen CHEN'), ('Eva-Lotta KIIBUS', 'Eliska BREZINOVA'), ('Alexandra TRUSOVA', 'Madeline SCHIZAS'), ('Karen CHEN', 'Mariah BELL'), ('Ekaterina RYABOVA', 'Eva-Lotta KIIBUS'), ('Mariah BELL', 'Madeline SCHIZAS'), ('Wakaba HIGUCHI', 'Alexandra FEIGIN'), ('Olga MIKUTINA', 'Ekaterina KURAKOVA'), ('Kaori SAKAMOTO', 'Alexandra FEIGIN'), ('Wakaba HIGUCHI', 'Ekaterina KURAKOVA'), ('Kaori SAKAMOTO', 'Wakaba HIGUCHI'), ('Olga MIKUTINA', 'Alexandra FEIGIN'), ('Alexandra TRUSOVA', 'Jenni SAARINEN'), ('Alexandra FEIGIN', 'Ekaterina KURAKOVA'), ('Kailani CRAINE', 'Ekaterina KURAKOVA'), ('Alexandra TRUSOVA', 'Alexandra FEIGIN'), ('Kaori SAKAMOTO', 'Madeline SCHIZAS'), ('Olga MIKUTINA', 'Ekaterina RYABOVA'), ('Karen CHEN', 'Eliska BREZINOVA'), ('Mariah BELL', 'Eliska BREZINOVA'), ('Alexandra TRUSOVA', 'Eva-Lotta KIIBUS'), ('Kailani CRAINE', 'Jenni SAARINEN'), ('Anna SHCHERBAKOVA', 'Alexandra TRUSOVA'), ('Alexandra TRUSOVA', 'Karen CHEN'), ('Ekaterina RYABOVA', 'Jenni SAARINEN'), ('Kaori SAKAMOTO', 'Kailani CRAINE'), ('Wakaba HIGUCHI', 'Jenni SAARINEN'), ('Karen CHEN', 'Olga MIKUTINA'), ('Wakaba HIGUCHI', 'Eva-Lotta KIIBUS'), ('Kaori SAKAMOTO', 'Eliska BREZINOVA'), ('Madeline SCHIZAS', 'Jenni SAARINEN'), ('Madeline SCHIZAS', 'Kailani CRAINE'), ('Alexandra TRUSOVA', 'Olga MIKUTINA'), ('Mariah BELL', 'Olga MIKUTINA'), ('Kaori SAKAMOTO', 'Karen CHEN'), ('Alexandra TRUSOVA', 'Ekaterina KURAKOVA'), ('Alexandra FEIGIN', 'Kailani CRAINE'), ('Alexandra FEIGIN', 'Eliska BREZINOVA'), ('Anna SHCHERBAKOVA', 'Karen CHEN'), ('Madeline SCHIZAS', 'Nicole SCHOTT'), ('Anna SHCHERBAKOVA', 'Olga MIKUTINA'), ('Eliska BREZINOVA', 'Jenni SAARINEN'), ('Ekaterina RYABOVA', 'Nicole SCHOTT'), ('Kaori SAKAMOTO', 'Jenni SAARINEN'), ('Wakaba HIGUCHI', 'Kailani CRAINE'), ('Loena HENDRICKX', 'Ekaterina RYABOVA'), ('Alexandra TRUSOVA', 'Wakaba HIGUCHI'), ('Karen CHEN', 'Alexandra FEIGIN'), ('Anna SHCHERBAKOVA', 'Nicole SCHOTT'), ('Loena HENDRICKX', 'Olga MIKUTINA'), ('Mariah BELL', 'Nicole SCHOTT'), ('Mariah BELL', 'Ekaterina RYABOVA'), ('Anna SHCHERBAKOVA', 'Jenni SAARINEN'), ('Madeline SCHIZAS', 'Ekaterina KURAKOVA'), ('Mariah BELL', 'Jenni SAARINEN'), ('Loena HENDRICKX', 'Nicole SCHOTT'), ('Alexandra FEIGIN', 'Jenni SAARINEN'), ('Kaori SAKAMOTO', 'Nicole SCHOTT'), ('Alexandra TRUSOVA', 'Kailani CRAINE'), ('Anna SHCHERBAKOVA', 'Madeline SCHIZAS'), ('Nicole SCHOTT', 'Kailani CRAINE'), ('Mariah BELL', 'Ekaterina KURAKOVA'), ('Loena HENDRICKX', 'Eva-Lotta KIIBUS'), ('Olga MIKUTINA', 'Madeline SCHIZAS'), ('Eva-Lotta KIIBUS', 'Nicole SCHOTT'), ('Alexandra TRUSOVA', 'Nicole SCHOTT'), ('Wakaba HIGUCHI', 'Ekaterina RYABOVA'), ('Loena HENDRICKX', 'Kailani CRAINE'), ('Loena HENDRICKX', 'Madeline SCHIZAS'), ('Olga MIKUTINA', 'Eva-Lotta KIIBUS'), ('Eliska BREZINOVA', 'Ekaterina KURAKOVA'), ('Wakaba HIGUCHI', 'Olga MIKUTINA'), ('Anna SHCHERBAKOVA', 'Eliska BREZINOVA'), ('Alexandra TRUSOVA', 'Mariah BELL'), ('Eva-Lotta KIIBUS', 'Kailani CRAINE'), ('Mariah BELL', 'Eva-Lotta KIIBUS'), ('Ekaterina RYABOVA', 'Eliska BREZINOVA')}\n",
            "{('Anna SHCHERBAKOVA', 'Kailani CRAINE'), ('Madeline SCHIZAS', 'Eva-Lotta KIIBUS'), ('Ekaterina RYABOVA', 'Kailani CRAINE'), ('Alexandra FEIGIN', 'Olga MIKUTINA'), ('Mariah BELL', 'Kailani CRAINE'), ('Olga MIKUTINA', 'Jenni SAARINEN'), ('Alexandra TRUSOVA', 'Loena HENDRICKX'), ('Madeline SCHIZAS', 'Olga MIKUTINA'), ('Wakaba HIGUCHI', 'Madeline SCHIZAS'), ('Karen CHEN', 'Kailani CRAINE'), ('Wakaba HIGUCHI', 'Nicole SCHOTT'), ('Kaori SAKAMOTO', 'Olga MIKUTINA'), ('Mariah BELL', 'Karen CHEN'), ('Alexandra TRUSOVA', 'Ekaterina RYABOVA'), ('Madeline SCHIZAS', 'Eliska BREZINOVA'), ('Eliska BREZINOVA', 'Kailani CRAINE'), ('Wakaba HIGUCHI', 'Mariah BELL'), ('Anna SHCHERBAKOVA', 'Kaori SAKAMOTO'), ('Karen CHEN', 'Ekaterina KURAKOVA'), ('Anna SHCHERBAKOVA', 'Wakaba HIGUCHI'), ('Anna SHCHERBAKOVA', 'Alexandra FEIGIN'), ('Madeline SCHIZAS', 'Karen CHEN'), ('Ekaterina KURAKOVA', 'Alexandra FEIGIN'), ('Anna SHCHERBAKOVA', 'Ekaterina RYABOVA'), ('Karen CHEN', 'Ekaterina RYABOVA'), ('Anna SHCHERBAKOVA', 'Loena HENDRICKX'), ('Loena HENDRICKX', 'Alexandra FEIGIN'), ('Wakaba HIGUCHI', 'Eliska BREZINOVA'), ('Nicole SCHOTT', 'Jenni SAARINEN'), ('Anna SHCHERBAKOVA', 'Ekaterina KURAKOVA'), ('Eva-Lotta KIIBUS', 'Alexandra FEIGIN'), ('Loena HENDRICKX', 'Mariah BELL'), ('Loena HENDRICKX', 'Karen CHEN'), ('Ekaterina RYABOVA', 'Ekaterina KURAKOVA'), ('Karen CHEN', 'Jenni SAARINEN'), ('Kaori SAKAMOTO', 'Mariah BELL'), ('Kaori SAKAMOTO', 'Ekaterina KURAKOVA'), ('Karen CHEN', 'Eva-Lotta KIIBUS'), ('Loena HENDRICKX', 'Ekaterina KURAKOVA'), ('Anna SHCHERBAKOVA', 'Mariah BELL'), ('Alexandra TRUSOVA', 'Eliska BREZINOVA'), ('Madeline SCHIZAS', 'Alexandra FEIGIN'), ('Nicole SCHOTT', 'Alexandra FEIGIN'), ('Kaori SAKAMOTO', 'Ekaterina RYABOVA'), ('Loena HENDRICKX', 'Jenni SAARINEN'), ('Ekaterina RYABOVA', 'Alexandra FEIGIN'), ('Eliska BREZINOVA', 'Olga MIKUTINA'), ('Loena HENDRICKX', 'Eliska BREZINOVA'), ('Nicole SCHOTT', 'Eliska BREZINOVA'), ('Karen CHEN', 'Nicole SCHOTT'), ('Kaori SAKAMOTO', 'Eva-Lotta KIIBUS'), ('Mariah BELL', 'Alexandra FEIGIN'), ('Kaori SAKAMOTO', 'Loena HENDRICKX'), ('Eva-Lotta KIIBUS', 'Jenni SAARINEN'), ('Anna SHCHERBAKOVA', 'Eva-Lotta KIIBUS'), ('Wakaba HIGUCHI', 'Karen CHEN'), ('Eva-Lotta KIIBUS', 'Eliska BREZINOVA'), ('Alexandra TRUSOVA', 'Madeline SCHIZAS'), ('Ekaterina RYABOVA', 'Eva-Lotta KIIBUS'), ('Mariah BELL', 'Madeline SCHIZAS'), ('Wakaba HIGUCHI', 'Alexandra FEIGIN'), ('Kaori SAKAMOTO', 'Alexandra FEIGIN'), ('Wakaba HIGUCHI', 'Ekaterina KURAKOVA'), ('Kaori SAKAMOTO', 'Wakaba HIGUCHI'), ('Alexandra TRUSOVA', 'Jenni SAARINEN'), ('Alexandra TRUSOVA', 'Alexandra FEIGIN'), ('Kailani CRAINE', 'Olga MIKUTINA'), ('Kaori SAKAMOTO', 'Madeline SCHIZAS'), ('Ekaterina RYABOVA', 'Olga MIKUTINA'), ('Karen CHEN', 'Eliska BREZINOVA'), ('Mariah BELL', 'Eliska BREZINOVA'), ('Alexandra TRUSOVA', 'Eva-Lotta KIIBUS'), ('Ekaterina KURAKOVA', 'Nicole SCHOTT'), ('Kailani CRAINE', 'Jenni SAARINEN'), ('Anna SHCHERBAKOVA', 'Alexandra TRUSOVA'), ('Alexandra TRUSOVA', 'Karen CHEN'), ('Ekaterina RYABOVA', 'Jenni SAARINEN'), ('Kaori SAKAMOTO', 'Kailani CRAINE'), ('Wakaba HIGUCHI', 'Jenni SAARINEN'), ('Karen CHEN', 'Olga MIKUTINA'), ('Wakaba HIGUCHI', 'Eva-Lotta KIIBUS'), ('Kaori SAKAMOTO', 'Eliska BREZINOVA'), ('Ekaterina KURAKOVA', 'Eva-Lotta KIIBUS'), ('Madeline SCHIZAS', 'Jenni SAARINEN'), ('Madeline SCHIZAS', 'Kailani CRAINE'), ('Alexandra TRUSOVA', 'Olga MIKUTINA'), ('Mariah BELL', 'Olga MIKUTINA'), ('Kaori SAKAMOTO', 'Karen CHEN'), ('Alexandra TRUSOVA', 'Ekaterina KURAKOVA'), ('Alexandra FEIGIN', 'Kailani CRAINE'), ('Alexandra FEIGIN', 'Eliska BREZINOVA'), ('Ekaterina KURAKOVA', 'Olga MIKUTINA'), ('Loena HENDRICKX', 'Wakaba HIGUCHI'), ('Anna SHCHERBAKOVA', 'Karen CHEN'), ('Madeline SCHIZAS', 'Nicole SCHOTT'), ('Anna SHCHERBAKOVA', 'Olga MIKUTINA'), ('Eva-Lotta KIIBUS', 'Olga MIKUTINA'), ('Alexandra TRUSOVA', 'Kaori SAKAMOTO'), ('Eliska BREZINOVA', 'Jenni SAARINEN'), ('Ekaterina RYABOVA', 'Nicole SCHOTT'), ('Kaori SAKAMOTO', 'Jenni SAARINEN'), ('Loena HENDRICKX', 'Ekaterina RYABOVA'), ('Wakaba HIGUCHI', 'Kailani CRAINE'), ('Alexandra TRUSOVA', 'Wakaba HIGUCHI'), ('Ekaterina KURAKOVA', 'Eliska BREZINOVA'), ('Karen CHEN', 'Alexandra FEIGIN'), ('Anna SHCHERBAKOVA', 'Nicole SCHOTT'), ('Loena HENDRICKX', 'Olga MIKUTINA'), ('Ekaterina KURAKOVA', 'Jenni SAARINEN'), ('Mariah BELL', 'Nicole SCHOTT'), ('Ekaterina KURAKOVA', 'Kailani CRAINE'), ('Mariah BELL', 'Ekaterina RYABOVA'), ('Anna SHCHERBAKOVA', 'Jenni SAARINEN'), ('Madeline SCHIZAS', 'Ekaterina KURAKOVA'), ('Mariah BELL', 'Jenni SAARINEN'), ('Nicole SCHOTT', 'Olga MIKUTINA'), ('Loena HENDRICKX', 'Nicole SCHOTT'), ('Alexandra FEIGIN', 'Jenni SAARINEN'), ('Kaori SAKAMOTO', 'Nicole SCHOTT'), ('Alexandra TRUSOVA', 'Kailani CRAINE'), ('Anna SHCHERBAKOVA', 'Madeline SCHIZAS'), ('Nicole SCHOTT', 'Kailani CRAINE'), ('Mariah BELL', 'Ekaterina KURAKOVA'), ('Loena HENDRICKX', 'Eva-Lotta KIIBUS'), ('Madeline SCHIZAS', 'Ekaterina RYABOVA'), ('Eva-Lotta KIIBUS', 'Nicole SCHOTT'), ('Alexandra TRUSOVA', 'Nicole SCHOTT'), ('Loena HENDRICKX', 'Kailani CRAINE'), ('Wakaba HIGUCHI', 'Ekaterina RYABOVA'), ('Loena HENDRICKX', 'Madeline SCHIZAS'), ('Wakaba HIGUCHI', 'Olga MIKUTINA'), ('Anna SHCHERBAKOVA', 'Eliska BREZINOVA'), ('Alexandra TRUSOVA', 'Mariah BELL'), ('Eva-Lotta KIIBUS', 'Kailani CRAINE'), ('Mariah BELL', 'Eva-Lotta KIIBUS'), ('Ekaterina RYABOVA', 'Eliska BREZINOVA')}\n",
            "{('Anna SHCHERBAKOVA', 'Kailani CRAINE'), ('Madeline SCHIZAS', 'Eva-Lotta KIIBUS'), ('Ekaterina RYABOVA', 'Kailani CRAINE'), ('Wakaba HIGUCHI', 'Loena HENDRICKX'), ('Mariah BELL', 'Kailani CRAINE'), ('Olga MIKUTINA', 'Jenni SAARINEN'), ('Alexandra TRUSOVA', 'Loena HENDRICKX'), ('Wakaba HIGUCHI', 'Madeline SCHIZAS'), ('Ekaterina RYABOVA', 'Madeline SCHIZAS'), ('Nicole SCHOTT', 'Ekaterina KURAKOVA'), ('Karen CHEN', 'Kailani CRAINE'), ('Wakaba HIGUCHI', 'Nicole SCHOTT'), ('Olga MIKUTINA', 'Nicole SCHOTT'), ('Kaori SAKAMOTO', 'Olga MIKUTINA'), ('Alexandra TRUSOVA', 'Ekaterina RYABOVA'), ('Madeline SCHIZAS', 'Eliska BREZINOVA'), ('Eliska BREZINOVA', 'Kailani CRAINE'), ('Wakaba HIGUCHI', 'Mariah BELL'), ('Anna SHCHERBAKOVA', 'Kaori SAKAMOTO'), ('Karen CHEN', 'Ekaterina KURAKOVA'), ('Anna SHCHERBAKOVA', 'Wakaba HIGUCHI'), ('Anna SHCHERBAKOVA', 'Alexandra FEIGIN'), ('Anna SHCHERBAKOVA', 'Ekaterina RYABOVA'), ('Karen CHEN', 'Ekaterina RYABOVA'), ('Anna SHCHERBAKOVA', 'Loena HENDRICKX'), ('Loena HENDRICKX', 'Alexandra FEIGIN'), ('Wakaba HIGUCHI', 'Eliska BREZINOVA'), ('Kaori SAKAMOTO', 'Alexandra TRUSOVA'), ('Nicole SCHOTT', 'Jenni SAARINEN'), ('Anna SHCHERBAKOVA', 'Ekaterina KURAKOVA'), ('Eva-Lotta KIIBUS', 'Alexandra FEIGIN'), ('Eva-Lotta KIIBUS', 'Ekaterina KURAKOVA'), ('Loena HENDRICKX', 'Mariah BELL'), ('Olga MIKUTINA', 'Kailani CRAINE'), ('Ekaterina RYABOVA', 'Ekaterina KURAKOVA'), ('Karen CHEN', 'Jenni SAARINEN'), ('Kaori SAKAMOTO', 'Mariah BELL'), ('Kaori SAKAMOTO', 'Ekaterina KURAKOVA'), ('Olga MIKUTINA', 'Eliska BREZINOVA'), ('Karen CHEN', 'Eva-Lotta KIIBUS'), ('Loena HENDRICKX', 'Ekaterina KURAKOVA'), ('Karen CHEN', 'Loena HENDRICKX'), ('Anna SHCHERBAKOVA', 'Mariah BELL'), ('Alexandra TRUSOVA', 'Eliska BREZINOVA'), ('Madeline SCHIZAS', 'Alexandra FEIGIN'), ('Jenni SAARINEN', 'Ekaterina KURAKOVA'), ('Nicole SCHOTT', 'Alexandra FEIGIN'), ('Kaori SAKAMOTO', 'Ekaterina RYABOVA'), ('Loena HENDRICKX', 'Jenni SAARINEN'), ('Ekaterina RYABOVA', 'Alexandra FEIGIN'), ('Karen CHEN', 'Madeline SCHIZAS'), ('Loena HENDRICKX', 'Eliska BREZINOVA'), ('Nicole SCHOTT', 'Eliska BREZINOVA'), ('Karen CHEN', 'Nicole SCHOTT'), ('Kaori SAKAMOTO', 'Eva-Lotta KIIBUS'), ('Mariah BELL', 'Alexandra FEIGIN'), ('Kaori SAKAMOTO', 'Loena HENDRICKX'), ('Eva-Lotta KIIBUS', 'Jenni SAARINEN'), ('Anna SHCHERBAKOVA', 'Eva-Lotta KIIBUS'), ('Wakaba HIGUCHI', 'Karen CHEN'), ('Eva-Lotta KIIBUS', 'Eliska BREZINOVA'), ('Alexandra TRUSOVA', 'Madeline SCHIZAS'), ('Karen CHEN', 'Mariah BELL'), ('Ekaterina RYABOVA', 'Eva-Lotta KIIBUS'), ('Mariah BELL', 'Madeline SCHIZAS'), ('Wakaba HIGUCHI', 'Alexandra FEIGIN'), ('Olga MIKUTINA', 'Ekaterina KURAKOVA'), ('Kaori SAKAMOTO', 'Alexandra FEIGIN'), ('Wakaba HIGUCHI', 'Ekaterina KURAKOVA'), ('Kaori SAKAMOTO', 'Wakaba HIGUCHI'), ('Olga MIKUTINA', 'Alexandra FEIGIN'), ('Alexandra TRUSOVA', 'Jenni SAARINEN'), ('Alexandra FEIGIN', 'Ekaterina KURAKOVA'), ('Kailani CRAINE', 'Ekaterina KURAKOVA'), ('Alexandra TRUSOVA', 'Alexandra FEIGIN'), ('Kaori SAKAMOTO', 'Madeline SCHIZAS'), ('Olga MIKUTINA', 'Ekaterina RYABOVA'), ('Karen CHEN', 'Eliska BREZINOVA'), ('Mariah BELL', 'Eliska BREZINOVA'), ('Alexandra TRUSOVA', 'Eva-Lotta KIIBUS'), ('Kailani CRAINE', 'Jenni SAARINEN'), ('Anna SHCHERBAKOVA', 'Alexandra TRUSOVA'), ('Alexandra TRUSOVA', 'Karen CHEN'), ('Ekaterina RYABOVA', 'Jenni SAARINEN'), ('Kaori SAKAMOTO', 'Kailani CRAINE'), ('Wakaba HIGUCHI', 'Jenni SAARINEN'), ('Karen CHEN', 'Olga MIKUTINA'), ('Wakaba HIGUCHI', 'Eva-Lotta KIIBUS'), ('Kaori SAKAMOTO', 'Eliska BREZINOVA'), ('Madeline SCHIZAS', 'Jenni SAARINEN'), ('Madeline SCHIZAS', 'Kailani CRAINE'), ('Alexandra TRUSOVA', 'Olga MIKUTINA'), ('Mariah BELL', 'Olga MIKUTINA'), ('Kaori SAKAMOTO', 'Karen CHEN'), ('Alexandra TRUSOVA', 'Ekaterina KURAKOVA'), ('Alexandra FEIGIN', 'Kailani CRAINE'), ('Alexandra FEIGIN', 'Eliska BREZINOVA'), ('Anna SHCHERBAKOVA', 'Karen CHEN'), ('Madeline SCHIZAS', 'Nicole SCHOTT'), ('Anna SHCHERBAKOVA', 'Olga MIKUTINA'), ('Eliska BREZINOVA', 'Jenni SAARINEN'), ('Ekaterina RYABOVA', 'Nicole SCHOTT'), ('Kaori SAKAMOTO', 'Jenni SAARINEN'), ('Wakaba HIGUCHI', 'Kailani CRAINE'), ('Loena HENDRICKX', 'Ekaterina RYABOVA'), ('Alexandra TRUSOVA', 'Wakaba HIGUCHI'), ('Karen CHEN', 'Alexandra FEIGIN'), ('Anna SHCHERBAKOVA', 'Nicole SCHOTT'), ('Loena HENDRICKX', 'Olga MIKUTINA'), ('Mariah BELL', 'Nicole SCHOTT'), ('Mariah BELL', 'Ekaterina RYABOVA'), ('Anna SHCHERBAKOVA', 'Jenni SAARINEN'), ('Madeline SCHIZAS', 'Ekaterina KURAKOVA'), ('Mariah BELL', 'Jenni SAARINEN'), ('Loena HENDRICKX', 'Nicole SCHOTT'), ('Alexandra FEIGIN', 'Jenni SAARINEN'), ('Kaori SAKAMOTO', 'Nicole SCHOTT'), ('Alexandra TRUSOVA', 'Kailani CRAINE'), ('Anna SHCHERBAKOVA', 'Madeline SCHIZAS'), ('Nicole SCHOTT', 'Kailani CRAINE'), ('Mariah BELL', 'Ekaterina KURAKOVA'), ('Loena HENDRICKX', 'Eva-Lotta KIIBUS'), ('Olga MIKUTINA', 'Madeline SCHIZAS'), ('Eva-Lotta KIIBUS', 'Nicole SCHOTT'), ('Alexandra TRUSOVA', 'Nicole SCHOTT'), ('Wakaba HIGUCHI', 'Ekaterina RYABOVA'), ('Loena HENDRICKX', 'Kailani CRAINE'), ('Loena HENDRICKX', 'Madeline SCHIZAS'), ('Olga MIKUTINA', 'Eva-Lotta KIIBUS'), ('Eliska BREZINOVA', 'Ekaterina KURAKOVA'), ('Wakaba HIGUCHI', 'Olga MIKUTINA'), ('Anna SHCHERBAKOVA', 'Eliska BREZINOVA'), ('Alexandra TRUSOVA', 'Mariah BELL'), ('Eva-Lotta KIIBUS', 'Kailani CRAINE'), ('Mariah BELL', 'Eva-Lotta KIIBUS'), ('Ekaterina RYABOVA', 'Eliska BREZINOVA')}\n",
            "{('Anna SHCHERBAKOVA', 'Kailani CRAINE'), ('Madeline SCHIZAS', 'Eva-Lotta KIIBUS'), ('Ekaterina RYABOVA', 'Kailani CRAINE'), ('Alexandra FEIGIN', 'Olga MIKUTINA'), ('Mariah BELL', 'Kailani CRAINE'), ('Olga MIKUTINA', 'Jenni SAARINEN'), ('Alexandra TRUSOVA', 'Loena HENDRICKX'), ('Madeline SCHIZAS', 'Olga MIKUTINA'), ('Wakaba HIGUCHI', 'Madeline SCHIZAS'), ('Karen CHEN', 'Kailani CRAINE'), ('Wakaba HIGUCHI', 'Nicole SCHOTT'), ('Kaori SAKAMOTO', 'Olga MIKUTINA'), ('Mariah BELL', 'Karen CHEN'), ('Alexandra TRUSOVA', 'Ekaterina RYABOVA'), ('Madeline SCHIZAS', 'Eliska BREZINOVA'), ('Eliska BREZINOVA', 'Kailani CRAINE'), ('Wakaba HIGUCHI', 'Mariah BELL'), ('Anna SHCHERBAKOVA', 'Kaori SAKAMOTO'), ('Karen CHEN', 'Ekaterina KURAKOVA'), ('Anna SHCHERBAKOVA', 'Wakaba HIGUCHI'), ('Anna SHCHERBAKOVA', 'Alexandra FEIGIN'), ('Madeline SCHIZAS', 'Karen CHEN'), ('Ekaterina KURAKOVA', 'Alexandra FEIGIN'), ('Anna SHCHERBAKOVA', 'Ekaterina RYABOVA'), ('Karen CHEN', 'Ekaterina RYABOVA'), ('Anna SHCHERBAKOVA', 'Loena HENDRICKX'), ('Loena HENDRICKX', 'Alexandra FEIGIN'), ('Wakaba HIGUCHI', 'Eliska BREZINOVA'), ('Nicole SCHOTT', 'Jenni SAARINEN'), ('Anna SHCHERBAKOVA', 'Ekaterina KURAKOVA'), ('Eva-Lotta KIIBUS', 'Alexandra FEIGIN'), ('Loena HENDRICKX', 'Mariah BELL'), ('Loena HENDRICKX', 'Karen CHEN'), ('Ekaterina RYABOVA', 'Ekaterina KURAKOVA'), ('Karen CHEN', 'Jenni SAARINEN'), ('Kaori SAKAMOTO', 'Mariah BELL'), ('Kaori SAKAMOTO', 'Ekaterina KURAKOVA'), ('Karen CHEN', 'Eva-Lotta KIIBUS'), ('Loena HENDRICKX', 'Ekaterina KURAKOVA'), ('Anna SHCHERBAKOVA', 'Mariah BELL'), ('Alexandra TRUSOVA', 'Eliska BREZINOVA'), ('Madeline SCHIZAS', 'Alexandra FEIGIN'), ('Nicole SCHOTT', 'Alexandra FEIGIN'), ('Kaori SAKAMOTO', 'Ekaterina RYABOVA'), ('Loena HENDRICKX', 'Jenni SAARINEN'), ('Ekaterina RYABOVA', 'Alexandra FEIGIN'), ('Eliska BREZINOVA', 'Olga MIKUTINA'), ('Loena HENDRICKX', 'Eliska BREZINOVA'), ('Nicole SCHOTT', 'Eliska BREZINOVA'), ('Karen CHEN', 'Nicole SCHOTT'), ('Kaori SAKAMOTO', 'Eva-Lotta KIIBUS'), ('Mariah BELL', 'Alexandra FEIGIN'), ('Kaori SAKAMOTO', 'Loena HENDRICKX'), ('Eva-Lotta KIIBUS', 'Jenni SAARINEN'), ('Anna SHCHERBAKOVA', 'Eva-Lotta KIIBUS'), ('Wakaba HIGUCHI', 'Karen CHEN'), ('Eva-Lotta KIIBUS', 'Eliska BREZINOVA'), ('Alexandra TRUSOVA', 'Madeline SCHIZAS'), ('Ekaterina RYABOVA', 'Eva-Lotta KIIBUS'), ('Mariah BELL', 'Madeline SCHIZAS'), ('Wakaba HIGUCHI', 'Alexandra FEIGIN'), ('Kaori SAKAMOTO', 'Alexandra FEIGIN'), ('Wakaba HIGUCHI', 'Ekaterina KURAKOVA'), ('Kaori SAKAMOTO', 'Wakaba HIGUCHI'), ('Alexandra TRUSOVA', 'Jenni SAARINEN'), ('Alexandra TRUSOVA', 'Alexandra FEIGIN'), ('Kailani CRAINE', 'Olga MIKUTINA'), ('Kaori SAKAMOTO', 'Madeline SCHIZAS'), ('Ekaterina RYABOVA', 'Olga MIKUTINA'), ('Karen CHEN', 'Eliska BREZINOVA'), ('Mariah BELL', 'Eliska BREZINOVA'), ('Alexandra TRUSOVA', 'Eva-Lotta KIIBUS'), ('Ekaterina KURAKOVA', 'Nicole SCHOTT'), ('Kailani CRAINE', 'Jenni SAARINEN'), ('Anna SHCHERBAKOVA', 'Alexandra TRUSOVA'), ('Alexandra TRUSOVA', 'Karen CHEN'), ('Ekaterina RYABOVA', 'Jenni SAARINEN'), ('Kaori SAKAMOTO', 'Kailani CRAINE'), ('Wakaba HIGUCHI', 'Jenni SAARINEN'), ('Karen CHEN', 'Olga MIKUTINA'), ('Wakaba HIGUCHI', 'Eva-Lotta KIIBUS'), ('Kaori SAKAMOTO', 'Eliska BREZINOVA'), ('Ekaterina KURAKOVA', 'Eva-Lotta KIIBUS'), ('Madeline SCHIZAS', 'Jenni SAARINEN'), ('Madeline SCHIZAS', 'Kailani CRAINE'), ('Alexandra TRUSOVA', 'Olga MIKUTINA'), ('Mariah BELL', 'Olga MIKUTINA'), ('Kaori SAKAMOTO', 'Karen CHEN'), ('Alexandra TRUSOVA', 'Ekaterina KURAKOVA'), ('Alexandra FEIGIN', 'Kailani CRAINE'), ('Alexandra FEIGIN', 'Eliska BREZINOVA'), ('Ekaterina KURAKOVA', 'Olga MIKUTINA'), ('Loena HENDRICKX', 'Wakaba HIGUCHI'), ('Anna SHCHERBAKOVA', 'Karen CHEN'), ('Madeline SCHIZAS', 'Nicole SCHOTT'), ('Anna SHCHERBAKOVA', 'Olga MIKUTINA'), ('Eva-Lotta KIIBUS', 'Olga MIKUTINA'), ('Alexandra TRUSOVA', 'Kaori SAKAMOTO'), ('Eliska BREZINOVA', 'Jenni SAARINEN'), ('Ekaterina RYABOVA', 'Nicole SCHOTT'), ('Kaori SAKAMOTO', 'Jenni SAARINEN'), ('Loena HENDRICKX', 'Ekaterina RYABOVA'), ('Wakaba HIGUCHI', 'Kailani CRAINE'), ('Alexandra TRUSOVA', 'Wakaba HIGUCHI'), ('Ekaterina KURAKOVA', 'Eliska BREZINOVA'), ('Karen CHEN', 'Alexandra FEIGIN'), ('Anna SHCHERBAKOVA', 'Nicole SCHOTT'), ('Loena HENDRICKX', 'Olga MIKUTINA'), ('Ekaterina KURAKOVA', 'Jenni SAARINEN'), ('Mariah BELL', 'Nicole SCHOTT'), ('Ekaterina KURAKOVA', 'Kailani CRAINE'), ('Mariah BELL', 'Ekaterina RYABOVA'), ('Anna SHCHERBAKOVA', 'Jenni SAARINEN'), ('Madeline SCHIZAS', 'Ekaterina KURAKOVA'), ('Mariah BELL', 'Jenni SAARINEN'), ('Nicole SCHOTT', 'Olga MIKUTINA'), ('Loena HENDRICKX', 'Nicole SCHOTT'), ('Alexandra FEIGIN', 'Jenni SAARINEN'), ('Kaori SAKAMOTO', 'Nicole SCHOTT'), ('Alexandra TRUSOVA', 'Kailani CRAINE'), ('Anna SHCHERBAKOVA', 'Madeline SCHIZAS'), ('Nicole SCHOTT', 'Kailani CRAINE'), ('Mariah BELL', 'Ekaterina KURAKOVA'), ('Loena HENDRICKX', 'Eva-Lotta KIIBUS'), ('Madeline SCHIZAS', 'Ekaterina RYABOVA'), ('Eva-Lotta KIIBUS', 'Nicole SCHOTT'), ('Alexandra TRUSOVA', 'Nicole SCHOTT'), ('Loena HENDRICKX', 'Kailani CRAINE'), ('Wakaba HIGUCHI', 'Ekaterina RYABOVA'), ('Loena HENDRICKX', 'Madeline SCHIZAS'), ('Wakaba HIGUCHI', 'Olga MIKUTINA'), ('Anna SHCHERBAKOVA', 'Eliska BREZINOVA'), ('Alexandra TRUSOVA', 'Mariah BELL'), ('Eva-Lotta KIIBUS', 'Kailani CRAINE'), ('Mariah BELL', 'Eva-Lotta KIIBUS'), ('Ekaterina RYABOVA', 'Eliska BREZINOVA')}\n",
            "{('Anna SHCHERBAKOVA', 'Kailani CRAINE'), ('Madeline SCHIZAS', 'Eva-Lotta KIIBUS'), ('Ekaterina RYABOVA', 'Kailani CRAINE'), ('Wakaba HIGUCHI', 'Loena HENDRICKX'), ('Mariah BELL', 'Kailani CRAINE'), ('Olga MIKUTINA', 'Jenni SAARINEN'), ('Alexandra TRUSOVA', 'Loena HENDRICKX'), ('Wakaba HIGUCHI', 'Madeline SCHIZAS'), ('Ekaterina RYABOVA', 'Madeline SCHIZAS'), ('Nicole SCHOTT', 'Ekaterina KURAKOVA'), ('Karen CHEN', 'Kailani CRAINE'), ('Wakaba HIGUCHI', 'Nicole SCHOTT'), ('Olga MIKUTINA', 'Nicole SCHOTT'), ('Kaori SAKAMOTO', 'Olga MIKUTINA'), ('Alexandra TRUSOVA', 'Ekaterina RYABOVA'), ('Madeline SCHIZAS', 'Eliska BREZINOVA'), ('Eliska BREZINOVA', 'Kailani CRAINE'), ('Wakaba HIGUCHI', 'Mariah BELL'), ('Anna SHCHERBAKOVA', 'Kaori SAKAMOTO'), ('Karen CHEN', 'Ekaterina KURAKOVA'), ('Anna SHCHERBAKOVA', 'Wakaba HIGUCHI'), ('Anna SHCHERBAKOVA', 'Alexandra FEIGIN'), ('Anna SHCHERBAKOVA', 'Ekaterina RYABOVA'), ('Karen CHEN', 'Ekaterina RYABOVA'), ('Anna SHCHERBAKOVA', 'Loena HENDRICKX'), ('Loena HENDRICKX', 'Alexandra FEIGIN'), ('Wakaba HIGUCHI', 'Eliska BREZINOVA'), ('Kaori SAKAMOTO', 'Alexandra TRUSOVA'), ('Nicole SCHOTT', 'Jenni SAARINEN'), ('Anna SHCHERBAKOVA', 'Ekaterina KURAKOVA'), ('Eva-Lotta KIIBUS', 'Alexandra FEIGIN'), ('Eva-Lotta KIIBUS', 'Ekaterina KURAKOVA'), ('Loena HENDRICKX', 'Mariah BELL'), ('Olga MIKUTINA', 'Kailani CRAINE'), ('Ekaterina RYABOVA', 'Ekaterina KURAKOVA'), ('Karen CHEN', 'Jenni SAARINEN'), ('Kaori SAKAMOTO', 'Mariah BELL'), ('Kaori SAKAMOTO', 'Ekaterina KURAKOVA'), ('Olga MIKUTINA', 'Eliska BREZINOVA'), ('Karen CHEN', 'Eva-Lotta KIIBUS'), ('Loena HENDRICKX', 'Ekaterina KURAKOVA'), ('Karen CHEN', 'Loena HENDRICKX'), ('Anna SHCHERBAKOVA', 'Mariah BELL'), ('Alexandra TRUSOVA', 'Eliska BREZINOVA'), ('Madeline SCHIZAS', 'Alexandra FEIGIN'), ('Jenni SAARINEN', 'Ekaterina KURAKOVA'), ('Nicole SCHOTT', 'Alexandra FEIGIN'), ('Kaori SAKAMOTO', 'Ekaterina RYABOVA'), ('Loena HENDRICKX', 'Jenni SAARINEN'), ('Ekaterina RYABOVA', 'Alexandra FEIGIN'), ('Karen CHEN', 'Madeline SCHIZAS'), ('Loena HENDRICKX', 'Eliska BREZINOVA'), ('Nicole SCHOTT', 'Eliska BREZINOVA'), ('Karen CHEN', 'Nicole SCHOTT'), ('Kaori SAKAMOTO', 'Eva-Lotta KIIBUS'), ('Mariah BELL', 'Alexandra FEIGIN'), ('Kaori SAKAMOTO', 'Loena HENDRICKX'), ('Eva-Lotta KIIBUS', 'Jenni SAARINEN'), ('Anna SHCHERBAKOVA', 'Eva-Lotta KIIBUS'), ('Wakaba HIGUCHI', 'Karen CHEN'), ('Eva-Lotta KIIBUS', 'Eliska BREZINOVA'), ('Alexandra TRUSOVA', 'Madeline SCHIZAS'), ('Karen CHEN', 'Mariah BELL'), ('Ekaterina RYABOVA', 'Eva-Lotta KIIBUS'), ('Mariah BELL', 'Madeline SCHIZAS'), ('Wakaba HIGUCHI', 'Alexandra FEIGIN'), ('Olga MIKUTINA', 'Ekaterina KURAKOVA'), ('Kaori SAKAMOTO', 'Alexandra FEIGIN'), ('Wakaba HIGUCHI', 'Ekaterina KURAKOVA'), ('Kaori SAKAMOTO', 'Wakaba HIGUCHI'), ('Olga MIKUTINA', 'Alexandra FEIGIN'), ('Alexandra TRUSOVA', 'Jenni SAARINEN'), ('Alexandra FEIGIN', 'Ekaterina KURAKOVA'), ('Kailani CRAINE', 'Ekaterina KURAKOVA'), ('Alexandra TRUSOVA', 'Alexandra FEIGIN'), ('Kaori SAKAMOTO', 'Madeline SCHIZAS'), ('Olga MIKUTINA', 'Ekaterina RYABOVA'), ('Karen CHEN', 'Eliska BREZINOVA'), ('Mariah BELL', 'Eliska BREZINOVA'), ('Alexandra TRUSOVA', 'Eva-Lotta KIIBUS'), ('Kailani CRAINE', 'Jenni SAARINEN'), ('Anna SHCHERBAKOVA', 'Alexandra TRUSOVA'), ('Alexandra TRUSOVA', 'Karen CHEN'), ('Ekaterina RYABOVA', 'Jenni SAARINEN'), ('Kaori SAKAMOTO', 'Kailani CRAINE'), ('Wakaba HIGUCHI', 'Jenni SAARINEN'), ('Karen CHEN', 'Olga MIKUTINA'), ('Wakaba HIGUCHI', 'Eva-Lotta KIIBUS'), ('Kaori SAKAMOTO', 'Eliska BREZINOVA'), ('Madeline SCHIZAS', 'Jenni SAARINEN'), ('Madeline SCHIZAS', 'Kailani CRAINE'), ('Alexandra TRUSOVA', 'Olga MIKUTINA'), ('Mariah BELL', 'Olga MIKUTINA'), ('Kaori SAKAMOTO', 'Karen CHEN'), ('Alexandra TRUSOVA', 'Ekaterina KURAKOVA'), ('Alexandra FEIGIN', 'Kailani CRAINE'), ('Alexandra FEIGIN', 'Eliska BREZINOVA'), ('Anna SHCHERBAKOVA', 'Karen CHEN'), ('Madeline SCHIZAS', 'Nicole SCHOTT'), ('Anna SHCHERBAKOVA', 'Olga MIKUTINA'), ('Eliska BREZINOVA', 'Jenni SAARINEN'), ('Ekaterina RYABOVA', 'Nicole SCHOTT'), ('Kaori SAKAMOTO', 'Jenni SAARINEN'), ('Wakaba HIGUCHI', 'Kailani CRAINE'), ('Loena HENDRICKX', 'Ekaterina RYABOVA'), ('Alexandra TRUSOVA', 'Wakaba HIGUCHI'), ('Karen CHEN', 'Alexandra FEIGIN'), ('Anna SHCHERBAKOVA', 'Nicole SCHOTT'), ('Loena HENDRICKX', 'Olga MIKUTINA'), ('Mariah BELL', 'Nicole SCHOTT'), ('Mariah BELL', 'Ekaterina RYABOVA'), ('Anna SHCHERBAKOVA', 'Jenni SAARINEN'), ('Madeline SCHIZAS', 'Ekaterina KURAKOVA'), ('Mariah BELL', 'Jenni SAARINEN'), ('Loena HENDRICKX', 'Nicole SCHOTT'), ('Alexandra FEIGIN', 'Jenni SAARINEN'), ('Kaori SAKAMOTO', 'Nicole SCHOTT'), ('Alexandra TRUSOVA', 'Kailani CRAINE'), ('Anna SHCHERBAKOVA', 'Madeline SCHIZAS'), ('Nicole SCHOTT', 'Kailani CRAINE'), ('Mariah BELL', 'Ekaterina KURAKOVA'), ('Loena HENDRICKX', 'Eva-Lotta KIIBUS'), ('Olga MIKUTINA', 'Madeline SCHIZAS'), ('Eva-Lotta KIIBUS', 'Nicole SCHOTT'), ('Alexandra TRUSOVA', 'Nicole SCHOTT'), ('Wakaba HIGUCHI', 'Ekaterina RYABOVA'), ('Loena HENDRICKX', 'Kailani CRAINE'), ('Loena HENDRICKX', 'Madeline SCHIZAS'), ('Olga MIKUTINA', 'Eva-Lotta KIIBUS'), ('Eliska BREZINOVA', 'Ekaterina KURAKOVA'), ('Wakaba HIGUCHI', 'Olga MIKUTINA'), ('Anna SHCHERBAKOVA', 'Eliska BREZINOVA'), ('Alexandra TRUSOVA', 'Mariah BELL'), ('Eva-Lotta KIIBUS', 'Kailani CRAINE'), ('Mariah BELL', 'Eva-Lotta KIIBUS'), ('Ekaterina RYABOVA', 'Eliska BREZINOVA')}\n",
            "{('Anna SHCHERBAKOVA', 'Kailani CRAINE'), ('Madeline SCHIZAS', 'Eva-Lotta KIIBUS'), ('Ekaterina RYABOVA', 'Kailani CRAINE'), ('Alexandra FEIGIN', 'Olga MIKUTINA'), ('Mariah BELL', 'Kailani CRAINE'), ('Olga MIKUTINA', 'Jenni SAARINEN'), ('Alexandra TRUSOVA', 'Loena HENDRICKX'), ('Madeline SCHIZAS', 'Olga MIKUTINA'), ('Wakaba HIGUCHI', 'Madeline SCHIZAS'), ('Karen CHEN', 'Kailani CRAINE'), ('Wakaba HIGUCHI', 'Nicole SCHOTT'), ('Kaori SAKAMOTO', 'Olga MIKUTINA'), ('Mariah BELL', 'Karen CHEN'), ('Alexandra TRUSOVA', 'Ekaterina RYABOVA'), ('Madeline SCHIZAS', 'Eliska BREZINOVA'), ('Eliska BREZINOVA', 'Kailani CRAINE'), ('Wakaba HIGUCHI', 'Mariah BELL'), ('Anna SHCHERBAKOVA', 'Kaori SAKAMOTO'), ('Karen CHEN', 'Ekaterina KURAKOVA'), ('Anna SHCHERBAKOVA', 'Wakaba HIGUCHI'), ('Anna SHCHERBAKOVA', 'Alexandra FEIGIN'), ('Madeline SCHIZAS', 'Karen CHEN'), ('Ekaterina KURAKOVA', 'Alexandra FEIGIN'), ('Anna SHCHERBAKOVA', 'Ekaterina RYABOVA'), ('Karen CHEN', 'Ekaterina RYABOVA'), ('Anna SHCHERBAKOVA', 'Loena HENDRICKX'), ('Loena HENDRICKX', 'Alexandra FEIGIN'), ('Wakaba HIGUCHI', 'Eliska BREZINOVA'), ('Nicole SCHOTT', 'Jenni SAARINEN'), ('Anna SHCHERBAKOVA', 'Ekaterina KURAKOVA'), ('Eva-Lotta KIIBUS', 'Alexandra FEIGIN'), ('Loena HENDRICKX', 'Mariah BELL'), ('Loena HENDRICKX', 'Karen CHEN'), ('Ekaterina RYABOVA', 'Ekaterina KURAKOVA'), ('Karen CHEN', 'Jenni SAARINEN'), ('Kaori SAKAMOTO', 'Mariah BELL'), ('Kaori SAKAMOTO', 'Ekaterina KURAKOVA'), ('Karen CHEN', 'Eva-Lotta KIIBUS'), ('Loena HENDRICKX', 'Ekaterina KURAKOVA'), ('Anna SHCHERBAKOVA', 'Mariah BELL'), ('Alexandra TRUSOVA', 'Eliska BREZINOVA'), ('Madeline SCHIZAS', 'Alexandra FEIGIN'), ('Nicole SCHOTT', 'Alexandra FEIGIN'), ('Kaori SAKAMOTO', 'Ekaterina RYABOVA'), ('Loena HENDRICKX', 'Jenni SAARINEN'), ('Ekaterina RYABOVA', 'Alexandra FEIGIN'), ('Eliska BREZINOVA', 'Olga MIKUTINA'), ('Loena HENDRICKX', 'Eliska BREZINOVA'), ('Nicole SCHOTT', 'Eliska BREZINOVA'), ('Karen CHEN', 'Nicole SCHOTT'), ('Kaori SAKAMOTO', 'Eva-Lotta KIIBUS'), ('Mariah BELL', 'Alexandra FEIGIN'), ('Kaori SAKAMOTO', 'Loena HENDRICKX'), ('Eva-Lotta KIIBUS', 'Jenni SAARINEN'), ('Anna SHCHERBAKOVA', 'Eva-Lotta KIIBUS'), ('Wakaba HIGUCHI', 'Karen CHEN'), ('Eva-Lotta KIIBUS', 'Eliska BREZINOVA'), ('Alexandra TRUSOVA', 'Madeline SCHIZAS'), ('Ekaterina RYABOVA', 'Eva-Lotta KIIBUS'), ('Mariah BELL', 'Madeline SCHIZAS'), ('Wakaba HIGUCHI', 'Alexandra FEIGIN'), ('Kaori SAKAMOTO', 'Alexandra FEIGIN'), ('Wakaba HIGUCHI', 'Ekaterina KURAKOVA'), ('Kaori SAKAMOTO', 'Wakaba HIGUCHI'), ('Alexandra TRUSOVA', 'Jenni SAARINEN'), ('Alexandra TRUSOVA', 'Alexandra FEIGIN'), ('Kailani CRAINE', 'Olga MIKUTINA'), ('Kaori SAKAMOTO', 'Madeline SCHIZAS'), ('Ekaterina RYABOVA', 'Olga MIKUTINA'), ('Karen CHEN', 'Eliska BREZINOVA'), ('Mariah BELL', 'Eliska BREZINOVA'), ('Alexandra TRUSOVA', 'Eva-Lotta KIIBUS'), ('Ekaterina KURAKOVA', 'Nicole SCHOTT'), ('Kailani CRAINE', 'Jenni SAARINEN'), ('Anna SHCHERBAKOVA', 'Alexandra TRUSOVA'), ('Alexandra TRUSOVA', 'Karen CHEN'), ('Ekaterina RYABOVA', 'Jenni SAARINEN'), ('Kaori SAKAMOTO', 'Kailani CRAINE'), ('Wakaba HIGUCHI', 'Jenni SAARINEN'), ('Karen CHEN', 'Olga MIKUTINA'), ('Wakaba HIGUCHI', 'Eva-Lotta KIIBUS'), ('Kaori SAKAMOTO', 'Eliska BREZINOVA'), ('Ekaterina KURAKOVA', 'Eva-Lotta KIIBUS'), ('Madeline SCHIZAS', 'Jenni SAARINEN'), ('Madeline SCHIZAS', 'Kailani CRAINE'), ('Alexandra TRUSOVA', 'Olga MIKUTINA'), ('Mariah BELL', 'Olga MIKUTINA'), ('Kaori SAKAMOTO', 'Karen CHEN'), ('Alexandra TRUSOVA', 'Ekaterina KURAKOVA'), ('Alexandra FEIGIN', 'Kailani CRAINE'), ('Alexandra FEIGIN', 'Eliska BREZINOVA'), ('Ekaterina KURAKOVA', 'Olga MIKUTINA'), ('Loena HENDRICKX', 'Wakaba HIGUCHI'), ('Anna SHCHERBAKOVA', 'Karen CHEN'), ('Madeline SCHIZAS', 'Nicole SCHOTT'), ('Anna SHCHERBAKOVA', 'Olga MIKUTINA'), ('Eva-Lotta KIIBUS', 'Olga MIKUTINA'), ('Alexandra TRUSOVA', 'Kaori SAKAMOTO'), ('Eliska BREZINOVA', 'Jenni SAARINEN'), ('Ekaterina RYABOVA', 'Nicole SCHOTT'), ('Kaori SAKAMOTO', 'Jenni SAARINEN'), ('Loena HENDRICKX', 'Ekaterina RYABOVA'), ('Wakaba HIGUCHI', 'Kailani CRAINE'), ('Alexandra TRUSOVA', 'Wakaba HIGUCHI'), ('Ekaterina KURAKOVA', 'Eliska BREZINOVA'), ('Karen CHEN', 'Alexandra FEIGIN'), ('Anna SHCHERBAKOVA', 'Nicole SCHOTT'), ('Loena HENDRICKX', 'Olga MIKUTINA'), ('Ekaterina KURAKOVA', 'Jenni SAARINEN'), ('Mariah BELL', 'Nicole SCHOTT'), ('Ekaterina KURAKOVA', 'Kailani CRAINE'), ('Mariah BELL', 'Ekaterina RYABOVA'), ('Anna SHCHERBAKOVA', 'Jenni SAARINEN'), ('Madeline SCHIZAS', 'Ekaterina KURAKOVA'), ('Mariah BELL', 'Jenni SAARINEN'), ('Nicole SCHOTT', 'Olga MIKUTINA'), ('Loena HENDRICKX', 'Nicole SCHOTT'), ('Alexandra FEIGIN', 'Jenni SAARINEN'), ('Kaori SAKAMOTO', 'Nicole SCHOTT'), ('Alexandra TRUSOVA', 'Kailani CRAINE'), ('Anna SHCHERBAKOVA', 'Madeline SCHIZAS'), ('Nicole SCHOTT', 'Kailani CRAINE'), ('Mariah BELL', 'Ekaterina KURAKOVA'), ('Loena HENDRICKX', 'Eva-Lotta KIIBUS'), ('Madeline SCHIZAS', 'Ekaterina RYABOVA'), ('Eva-Lotta KIIBUS', 'Nicole SCHOTT'), ('Alexandra TRUSOVA', 'Nicole SCHOTT'), ('Loena HENDRICKX', 'Kailani CRAINE'), ('Wakaba HIGUCHI', 'Ekaterina RYABOVA'), ('Loena HENDRICKX', 'Madeline SCHIZAS'), ('Wakaba HIGUCHI', 'Olga MIKUTINA'), ('Anna SHCHERBAKOVA', 'Eliska BREZINOVA'), ('Alexandra TRUSOVA', 'Mariah BELL'), ('Eva-Lotta KIIBUS', 'Kailani CRAINE'), ('Mariah BELL', 'Eva-Lotta KIIBUS'), ('Ekaterina RYABOVA', 'Eliska BREZINOVA')}\n",
            "{('Anna SHCHERBAKOVA', 'Kailani CRAINE'), ('Madeline SCHIZAS', 'Eva-Lotta KIIBUS'), ('Ekaterina RYABOVA', 'Kailani CRAINE'), ('Wakaba HIGUCHI', 'Loena HENDRICKX'), ('Mariah BELL', 'Kailani CRAINE'), ('Olga MIKUTINA', 'Jenni SAARINEN'), ('Alexandra TRUSOVA', 'Loena HENDRICKX'), ('Wakaba HIGUCHI', 'Madeline SCHIZAS'), ('Ekaterina RYABOVA', 'Madeline SCHIZAS'), ('Nicole SCHOTT', 'Ekaterina KURAKOVA'), ('Karen CHEN', 'Kailani CRAINE'), ('Wakaba HIGUCHI', 'Nicole SCHOTT'), ('Olga MIKUTINA', 'Nicole SCHOTT'), ('Kaori SAKAMOTO', 'Olga MIKUTINA'), ('Alexandra TRUSOVA', 'Ekaterina RYABOVA'), ('Madeline SCHIZAS', 'Eliska BREZINOVA'), ('Eliska BREZINOVA', 'Kailani CRAINE'), ('Wakaba HIGUCHI', 'Mariah BELL'), ('Anna SHCHERBAKOVA', 'Kaori SAKAMOTO'), ('Karen CHEN', 'Ekaterina KURAKOVA'), ('Anna SHCHERBAKOVA', 'Wakaba HIGUCHI'), ('Anna SHCHERBAKOVA', 'Alexandra FEIGIN'), ('Anna SHCHERBAKOVA', 'Ekaterina RYABOVA'), ('Karen CHEN', 'Ekaterina RYABOVA'), ('Anna SHCHERBAKOVA', 'Loena HENDRICKX'), ('Loena HENDRICKX', 'Alexandra FEIGIN'), ('Wakaba HIGUCHI', 'Eliska BREZINOVA'), ('Kaori SAKAMOTO', 'Alexandra TRUSOVA'), ('Nicole SCHOTT', 'Jenni SAARINEN'), ('Anna SHCHERBAKOVA', 'Ekaterina KURAKOVA'), ('Eva-Lotta KIIBUS', 'Alexandra FEIGIN'), ('Eva-Lotta KIIBUS', 'Ekaterina KURAKOVA'), ('Loena HENDRICKX', 'Mariah BELL'), ('Olga MIKUTINA', 'Kailani CRAINE'), ('Ekaterina RYABOVA', 'Ekaterina KURAKOVA'), ('Karen CHEN', 'Jenni SAARINEN'), ('Kaori SAKAMOTO', 'Mariah BELL'), ('Kaori SAKAMOTO', 'Ekaterina KURAKOVA'), ('Olga MIKUTINA', 'Eliska BREZINOVA'), ('Karen CHEN', 'Eva-Lotta KIIBUS'), ('Loena HENDRICKX', 'Ekaterina KURAKOVA'), ('Karen CHEN', 'Loena HENDRICKX'), ('Anna SHCHERBAKOVA', 'Mariah BELL'), ('Alexandra TRUSOVA', 'Eliska BREZINOVA'), ('Madeline SCHIZAS', 'Alexandra FEIGIN'), ('Jenni SAARINEN', 'Ekaterina KURAKOVA'), ('Nicole SCHOTT', 'Alexandra FEIGIN'), ('Kaori SAKAMOTO', 'Ekaterina RYABOVA'), ('Loena HENDRICKX', 'Jenni SAARINEN'), ('Ekaterina RYABOVA', 'Alexandra FEIGIN'), ('Karen CHEN', 'Madeline SCHIZAS'), ('Loena HENDRICKX', 'Eliska BREZINOVA'), ('Nicole SCHOTT', 'Eliska BREZINOVA'), ('Karen CHEN', 'Nicole SCHOTT'), ('Kaori SAKAMOTO', 'Eva-Lotta KIIBUS'), ('Mariah BELL', 'Alexandra FEIGIN'), ('Kaori SAKAMOTO', 'Loena HENDRICKX'), ('Eva-Lotta KIIBUS', 'Jenni SAARINEN'), ('Anna SHCHERBAKOVA', 'Eva-Lotta KIIBUS'), ('Wakaba HIGUCHI', 'Karen CHEN'), ('Eva-Lotta KIIBUS', 'Eliska BREZINOVA'), ('Alexandra TRUSOVA', 'Madeline SCHIZAS'), ('Karen CHEN', 'Mariah BELL'), ('Ekaterina RYABOVA', 'Eva-Lotta KIIBUS'), ('Mariah BELL', 'Madeline SCHIZAS'), ('Wakaba HIGUCHI', 'Alexandra FEIGIN'), ('Olga MIKUTINA', 'Ekaterina KURAKOVA'), ('Kaori SAKAMOTO', 'Alexandra FEIGIN'), ('Wakaba HIGUCHI', 'Ekaterina KURAKOVA'), ('Kaori SAKAMOTO', 'Wakaba HIGUCHI'), ('Olga MIKUTINA', 'Alexandra FEIGIN'), ('Alexandra TRUSOVA', 'Jenni SAARINEN'), ('Alexandra FEIGIN', 'Ekaterina KURAKOVA'), ('Kailani CRAINE', 'Ekaterina KURAKOVA'), ('Alexandra TRUSOVA', 'Alexandra FEIGIN'), ('Kaori SAKAMOTO', 'Madeline SCHIZAS'), ('Olga MIKUTINA', 'Ekaterina RYABOVA'), ('Karen CHEN', 'Eliska BREZINOVA'), ('Mariah BELL', 'Eliska BREZINOVA'), ('Alexandra TRUSOVA', 'Eva-Lotta KIIBUS'), ('Kailani CRAINE', 'Jenni SAARINEN'), ('Anna SHCHERBAKOVA', 'Alexandra TRUSOVA'), ('Alexandra TRUSOVA', 'Karen CHEN'), ('Ekaterina RYABOVA', 'Jenni SAARINEN'), ('Kaori SAKAMOTO', 'Kailani CRAINE'), ('Wakaba HIGUCHI', 'Jenni SAARINEN'), ('Karen CHEN', 'Olga MIKUTINA'), ('Wakaba HIGUCHI', 'Eva-Lotta KIIBUS'), ('Kaori SAKAMOTO', 'Eliska BREZINOVA'), ('Madeline SCHIZAS', 'Jenni SAARINEN'), ('Madeline SCHIZAS', 'Kailani CRAINE'), ('Alexandra TRUSOVA', 'Olga MIKUTINA'), ('Mariah BELL', 'Olga MIKUTINA'), ('Kaori SAKAMOTO', 'Karen CHEN'), ('Alexandra TRUSOVA', 'Ekaterina KURAKOVA'), ('Alexandra FEIGIN', 'Kailani CRAINE'), ('Alexandra FEIGIN', 'Eliska BREZINOVA'), ('Anna SHCHERBAKOVA', 'Karen CHEN'), ('Madeline SCHIZAS', 'Nicole SCHOTT'), ('Anna SHCHERBAKOVA', 'Olga MIKUTINA'), ('Eliska BREZINOVA', 'Jenni SAARINEN'), ('Ekaterina RYABOVA', 'Nicole SCHOTT'), ('Kaori SAKAMOTO', 'Jenni SAARINEN'), ('Wakaba HIGUCHI', 'Kailani CRAINE'), ('Loena HENDRICKX', 'Ekaterina RYABOVA'), ('Alexandra TRUSOVA', 'Wakaba HIGUCHI'), ('Karen CHEN', 'Alexandra FEIGIN'), ('Anna SHCHERBAKOVA', 'Nicole SCHOTT'), ('Loena HENDRICKX', 'Olga MIKUTINA'), ('Mariah BELL', 'Nicole SCHOTT'), ('Mariah BELL', 'Ekaterina RYABOVA'), ('Anna SHCHERBAKOVA', 'Jenni SAARINEN'), ('Madeline SCHIZAS', 'Ekaterina KURAKOVA'), ('Mariah BELL', 'Jenni SAARINEN'), ('Loena HENDRICKX', 'Nicole SCHOTT'), ('Alexandra FEIGIN', 'Jenni SAARINEN'), ('Kaori SAKAMOTO', 'Nicole SCHOTT'), ('Alexandra TRUSOVA', 'Kailani CRAINE'), ('Anna SHCHERBAKOVA', 'Madeline SCHIZAS'), ('Nicole SCHOTT', 'Kailani CRAINE'), ('Mariah BELL', 'Ekaterina KURAKOVA'), ('Loena HENDRICKX', 'Eva-Lotta KIIBUS'), ('Olga MIKUTINA', 'Madeline SCHIZAS'), ('Eva-Lotta KIIBUS', 'Nicole SCHOTT'), ('Alexandra TRUSOVA', 'Nicole SCHOTT'), ('Wakaba HIGUCHI', 'Ekaterina RYABOVA'), ('Loena HENDRICKX', 'Kailani CRAINE'), ('Loena HENDRICKX', 'Madeline SCHIZAS'), ('Olga MIKUTINA', 'Eva-Lotta KIIBUS'), ('Eliska BREZINOVA', 'Ekaterina KURAKOVA'), ('Wakaba HIGUCHI', 'Olga MIKUTINA'), ('Anna SHCHERBAKOVA', 'Eliska BREZINOVA'), ('Alexandra TRUSOVA', 'Mariah BELL'), ('Eva-Lotta KIIBUS', 'Kailani CRAINE'), ('Mariah BELL', 'Eva-Lotta KIIBUS'), ('Ekaterina RYABOVA', 'Eliska BREZINOVA')}\n",
            "{('Anna SHCHERBAKOVA', 'Kailani CRAINE'), ('Madeline SCHIZAS', 'Eva-Lotta KIIBUS'), ('Ekaterina RYABOVA', 'Kailani CRAINE'), ('Alexandra FEIGIN', 'Olga MIKUTINA'), ('Mariah BELL', 'Kailani CRAINE'), ('Olga MIKUTINA', 'Jenni SAARINEN'), ('Alexandra TRUSOVA', 'Loena HENDRICKX'), ('Madeline SCHIZAS', 'Olga MIKUTINA'), ('Wakaba HIGUCHI', 'Madeline SCHIZAS'), ('Karen CHEN', 'Kailani CRAINE'), ('Wakaba HIGUCHI', 'Nicole SCHOTT'), ('Kaori SAKAMOTO', 'Olga MIKUTINA'), ('Mariah BELL', 'Karen CHEN'), ('Alexandra TRUSOVA', 'Ekaterina RYABOVA'), ('Madeline SCHIZAS', 'Eliska BREZINOVA'), ('Eliska BREZINOVA', 'Kailani CRAINE'), ('Wakaba HIGUCHI', 'Mariah BELL'), ('Anna SHCHERBAKOVA', 'Kaori SAKAMOTO'), ('Karen CHEN', 'Ekaterina KURAKOVA'), ('Anna SHCHERBAKOVA', 'Wakaba HIGUCHI'), ('Anna SHCHERBAKOVA', 'Alexandra FEIGIN'), ('Madeline SCHIZAS', 'Karen CHEN'), ('Ekaterina KURAKOVA', 'Alexandra FEIGIN'), ('Anna SHCHERBAKOVA', 'Ekaterina RYABOVA'), ('Karen CHEN', 'Ekaterina RYABOVA'), ('Anna SHCHERBAKOVA', 'Loena HENDRICKX'), ('Loena HENDRICKX', 'Alexandra FEIGIN'), ('Wakaba HIGUCHI', 'Eliska BREZINOVA'), ('Nicole SCHOTT', 'Jenni SAARINEN'), ('Anna SHCHERBAKOVA', 'Ekaterina KURAKOVA'), ('Eva-Lotta KIIBUS', 'Alexandra FEIGIN'), ('Loena HENDRICKX', 'Mariah BELL'), ('Loena HENDRICKX', 'Karen CHEN'), ('Ekaterina RYABOVA', 'Ekaterina KURAKOVA'), ('Karen CHEN', 'Jenni SAARINEN'), ('Kaori SAKAMOTO', 'Mariah BELL'), ('Kaori SAKAMOTO', 'Ekaterina KURAKOVA'), ('Karen CHEN', 'Eva-Lotta KIIBUS'), ('Loena HENDRICKX', 'Ekaterina KURAKOVA'), ('Anna SHCHERBAKOVA', 'Mariah BELL'), ('Alexandra TRUSOVA', 'Eliska BREZINOVA'), ('Madeline SCHIZAS', 'Alexandra FEIGIN'), ('Nicole SCHOTT', 'Alexandra FEIGIN'), ('Kaori SAKAMOTO', 'Ekaterina RYABOVA'), ('Loena HENDRICKX', 'Jenni SAARINEN'), ('Ekaterina RYABOVA', 'Alexandra FEIGIN'), ('Eliska BREZINOVA', 'Olga MIKUTINA'), ('Loena HENDRICKX', 'Eliska BREZINOVA'), ('Nicole SCHOTT', 'Eliska BREZINOVA'), ('Karen CHEN', 'Nicole SCHOTT'), ('Kaori SAKAMOTO', 'Eva-Lotta KIIBUS'), ('Mariah BELL', 'Alexandra FEIGIN'), ('Kaori SAKAMOTO', 'Loena HENDRICKX'), ('Eva-Lotta KIIBUS', 'Jenni SAARINEN'), ('Anna SHCHERBAKOVA', 'Eva-Lotta KIIBUS'), ('Wakaba HIGUCHI', 'Karen CHEN'), ('Eva-Lotta KIIBUS', 'Eliska BREZINOVA'), ('Alexandra TRUSOVA', 'Madeline SCHIZAS'), ('Ekaterina RYABOVA', 'Eva-Lotta KIIBUS'), ('Mariah BELL', 'Madeline SCHIZAS'), ('Wakaba HIGUCHI', 'Alexandra FEIGIN'), ('Kaori SAKAMOTO', 'Alexandra FEIGIN'), ('Wakaba HIGUCHI', 'Ekaterina KURAKOVA'), ('Kaori SAKAMOTO', 'Wakaba HIGUCHI'), ('Alexandra TRUSOVA', 'Jenni SAARINEN'), ('Alexandra TRUSOVA', 'Alexandra FEIGIN'), ('Kailani CRAINE', 'Olga MIKUTINA'), ('Kaori SAKAMOTO', 'Madeline SCHIZAS'), ('Ekaterina RYABOVA', 'Olga MIKUTINA'), ('Karen CHEN', 'Eliska BREZINOVA'), ('Mariah BELL', 'Eliska BREZINOVA'), ('Alexandra TRUSOVA', 'Eva-Lotta KIIBUS'), ('Ekaterina KURAKOVA', 'Nicole SCHOTT'), ('Kailani CRAINE', 'Jenni SAARINEN'), ('Anna SHCHERBAKOVA', 'Alexandra TRUSOVA'), ('Alexandra TRUSOVA', 'Karen CHEN'), ('Ekaterina RYABOVA', 'Jenni SAARINEN'), ('Kaori SAKAMOTO', 'Kailani CRAINE'), ('Wakaba HIGUCHI', 'Jenni SAARINEN'), ('Karen CHEN', 'Olga MIKUTINA'), ('Wakaba HIGUCHI', 'Eva-Lotta KIIBUS'), ('Kaori SAKAMOTO', 'Eliska BREZINOVA'), ('Ekaterina KURAKOVA', 'Eva-Lotta KIIBUS'), ('Madeline SCHIZAS', 'Jenni SAARINEN'), ('Madeline SCHIZAS', 'Kailani CRAINE'), ('Alexandra TRUSOVA', 'Olga MIKUTINA'), ('Mariah BELL', 'Olga MIKUTINA'), ('Kaori SAKAMOTO', 'Karen CHEN'), ('Alexandra TRUSOVA', 'Ekaterina KURAKOVA'), ('Alexandra FEIGIN', 'Kailani CRAINE'), ('Alexandra FEIGIN', 'Eliska BREZINOVA'), ('Ekaterina KURAKOVA', 'Olga MIKUTINA'), ('Loena HENDRICKX', 'Wakaba HIGUCHI'), ('Anna SHCHERBAKOVA', 'Karen CHEN'), ('Madeline SCHIZAS', 'Nicole SCHOTT'), ('Anna SHCHERBAKOVA', 'Olga MIKUTINA'), ('Eva-Lotta KIIBUS', 'Olga MIKUTINA'), ('Alexandra TRUSOVA', 'Kaori SAKAMOTO'), ('Eliska BREZINOVA', 'Jenni SAARINEN'), ('Ekaterina RYABOVA', 'Nicole SCHOTT'), ('Kaori SAKAMOTO', 'Jenni SAARINEN'), ('Loena HENDRICKX', 'Ekaterina RYABOVA'), ('Wakaba HIGUCHI', 'Kailani CRAINE'), ('Alexandra TRUSOVA', 'Wakaba HIGUCHI'), ('Ekaterina KURAKOVA', 'Eliska BREZINOVA'), ('Karen CHEN', 'Alexandra FEIGIN'), ('Anna SHCHERBAKOVA', 'Nicole SCHOTT'), ('Loena HENDRICKX', 'Olga MIKUTINA'), ('Ekaterina KURAKOVA', 'Jenni SAARINEN'), ('Mariah BELL', 'Nicole SCHOTT'), ('Ekaterina KURAKOVA', 'Kailani CRAINE'), ('Mariah BELL', 'Ekaterina RYABOVA'), ('Anna SHCHERBAKOVA', 'Jenni SAARINEN'), ('Madeline SCHIZAS', 'Ekaterina KURAKOVA'), ('Mariah BELL', 'Jenni SAARINEN'), ('Nicole SCHOTT', 'Olga MIKUTINA'), ('Loena HENDRICKX', 'Nicole SCHOTT'), ('Alexandra FEIGIN', 'Jenni SAARINEN'), ('Kaori SAKAMOTO', 'Nicole SCHOTT'), ('Alexandra TRUSOVA', 'Kailani CRAINE'), ('Anna SHCHERBAKOVA', 'Madeline SCHIZAS'), ('Nicole SCHOTT', 'Kailani CRAINE'), ('Mariah BELL', 'Ekaterina KURAKOVA'), ('Loena HENDRICKX', 'Eva-Lotta KIIBUS'), ('Madeline SCHIZAS', 'Ekaterina RYABOVA'), ('Eva-Lotta KIIBUS', 'Nicole SCHOTT'), ('Alexandra TRUSOVA', 'Nicole SCHOTT'), ('Loena HENDRICKX', 'Kailani CRAINE'), ('Wakaba HIGUCHI', 'Ekaterina RYABOVA'), ('Loena HENDRICKX', 'Madeline SCHIZAS'), ('Wakaba HIGUCHI', 'Olga MIKUTINA'), ('Anna SHCHERBAKOVA', 'Eliska BREZINOVA'), ('Alexandra TRUSOVA', 'Mariah BELL'), ('Eva-Lotta KIIBUS', 'Kailani CRAINE'), ('Mariah BELL', 'Eva-Lotta KIIBUS'), ('Ekaterina RYABOVA', 'Eliska BREZINOVA')}\n",
            "{('Anna SHCHERBAKOVA', 'Kailani CRAINE'), ('Madeline SCHIZAS', 'Eva-Lotta KIIBUS'), ('Ekaterina RYABOVA', 'Kailani CRAINE'), ('Wakaba HIGUCHI', 'Loena HENDRICKX'), ('Mariah BELL', 'Kailani CRAINE'), ('Olga MIKUTINA', 'Jenni SAARINEN'), ('Alexandra TRUSOVA', 'Loena HENDRICKX'), ('Wakaba HIGUCHI', 'Madeline SCHIZAS'), ('Ekaterina RYABOVA', 'Madeline SCHIZAS'), ('Nicole SCHOTT', 'Ekaterina KURAKOVA'), ('Karen CHEN', 'Kailani CRAINE'), ('Wakaba HIGUCHI', 'Nicole SCHOTT'), ('Olga MIKUTINA', 'Nicole SCHOTT'), ('Kaori SAKAMOTO', 'Olga MIKUTINA'), ('Alexandra TRUSOVA', 'Ekaterina RYABOVA'), ('Madeline SCHIZAS', 'Eliska BREZINOVA'), ('Eliska BREZINOVA', 'Kailani CRAINE'), ('Wakaba HIGUCHI', 'Mariah BELL'), ('Anna SHCHERBAKOVA', 'Kaori SAKAMOTO'), ('Karen CHEN', 'Ekaterina KURAKOVA'), ('Anna SHCHERBAKOVA', 'Wakaba HIGUCHI'), ('Anna SHCHERBAKOVA', 'Alexandra FEIGIN'), ('Anna SHCHERBAKOVA', 'Ekaterina RYABOVA'), ('Karen CHEN', 'Ekaterina RYABOVA'), ('Anna SHCHERBAKOVA', 'Loena HENDRICKX'), ('Loena HENDRICKX', 'Alexandra FEIGIN'), ('Wakaba HIGUCHI', 'Eliska BREZINOVA'), ('Kaori SAKAMOTO', 'Alexandra TRUSOVA'), ('Nicole SCHOTT', 'Jenni SAARINEN'), ('Anna SHCHERBAKOVA', 'Ekaterina KURAKOVA'), ('Eva-Lotta KIIBUS', 'Alexandra FEIGIN'), ('Eva-Lotta KIIBUS', 'Ekaterina KURAKOVA'), ('Loena HENDRICKX', 'Mariah BELL'), ('Olga MIKUTINA', 'Kailani CRAINE'), ('Ekaterina RYABOVA', 'Ekaterina KURAKOVA'), ('Karen CHEN', 'Jenni SAARINEN'), ('Kaori SAKAMOTO', 'Mariah BELL'), ('Kaori SAKAMOTO', 'Ekaterina KURAKOVA'), ('Olga MIKUTINA', 'Eliska BREZINOVA'), ('Karen CHEN', 'Eva-Lotta KIIBUS'), ('Loena HENDRICKX', 'Ekaterina KURAKOVA'), ('Karen CHEN', 'Loena HENDRICKX'), ('Anna SHCHERBAKOVA', 'Mariah BELL'), ('Alexandra TRUSOVA', 'Eliska BREZINOVA'), ('Madeline SCHIZAS', 'Alexandra FEIGIN'), ('Jenni SAARINEN', 'Ekaterina KURAKOVA'), ('Nicole SCHOTT', 'Alexandra FEIGIN'), ('Kaori SAKAMOTO', 'Ekaterina RYABOVA'), ('Loena HENDRICKX', 'Jenni SAARINEN'), ('Ekaterina RYABOVA', 'Alexandra FEIGIN'), ('Karen CHEN', 'Madeline SCHIZAS'), ('Loena HENDRICKX', 'Eliska BREZINOVA'), ('Nicole SCHOTT', 'Eliska BREZINOVA'), ('Karen CHEN', 'Nicole SCHOTT'), ('Kaori SAKAMOTO', 'Eva-Lotta KIIBUS'), ('Mariah BELL', 'Alexandra FEIGIN'), ('Kaori SAKAMOTO', 'Loena HENDRICKX'), ('Eva-Lotta KIIBUS', 'Jenni SAARINEN'), ('Anna SHCHERBAKOVA', 'Eva-Lotta KIIBUS'), ('Wakaba HIGUCHI', 'Karen CHEN'), ('Eva-Lotta KIIBUS', 'Eliska BREZINOVA'), ('Alexandra TRUSOVA', 'Madeline SCHIZAS'), ('Karen CHEN', 'Mariah BELL'), ('Ekaterina RYABOVA', 'Eva-Lotta KIIBUS'), ('Mariah BELL', 'Madeline SCHIZAS'), ('Wakaba HIGUCHI', 'Alexandra FEIGIN'), ('Olga MIKUTINA', 'Ekaterina KURAKOVA'), ('Kaori SAKAMOTO', 'Alexandra FEIGIN'), ('Wakaba HIGUCHI', 'Ekaterina KURAKOVA'), ('Kaori SAKAMOTO', 'Wakaba HIGUCHI'), ('Olga MIKUTINA', 'Alexandra FEIGIN'), ('Alexandra TRUSOVA', 'Jenni SAARINEN'), ('Alexandra FEIGIN', 'Ekaterina KURAKOVA'), ('Kailani CRAINE', 'Ekaterina KURAKOVA'), ('Alexandra TRUSOVA', 'Alexandra FEIGIN'), ('Kaori SAKAMOTO', 'Madeline SCHIZAS'), ('Olga MIKUTINA', 'Ekaterina RYABOVA'), ('Karen CHEN', 'Eliska BREZINOVA'), ('Mariah BELL', 'Eliska BREZINOVA'), ('Alexandra TRUSOVA', 'Eva-Lotta KIIBUS'), ('Kailani CRAINE', 'Jenni SAARINEN'), ('Anna SHCHERBAKOVA', 'Alexandra TRUSOVA'), ('Alexandra TRUSOVA', 'Karen CHEN'), ('Ekaterina RYABOVA', 'Jenni SAARINEN'), ('Kaori SAKAMOTO', 'Kailani CRAINE'), ('Wakaba HIGUCHI', 'Jenni SAARINEN'), ('Karen CHEN', 'Olga MIKUTINA'), ('Wakaba HIGUCHI', 'Eva-Lotta KIIBUS'), ('Kaori SAKAMOTO', 'Eliska BREZINOVA'), ('Madeline SCHIZAS', 'Jenni SAARINEN'), ('Madeline SCHIZAS', 'Kailani CRAINE'), ('Alexandra TRUSOVA', 'Olga MIKUTINA'), ('Mariah BELL', 'Olga MIKUTINA'), ('Kaori SAKAMOTO', 'Karen CHEN'), ('Alexandra TRUSOVA', 'Ekaterina KURAKOVA'), ('Alexandra FEIGIN', 'Kailani CRAINE'), ('Alexandra FEIGIN', 'Eliska BREZINOVA'), ('Anna SHCHERBAKOVA', 'Karen CHEN'), ('Madeline SCHIZAS', 'Nicole SCHOTT'), ('Anna SHCHERBAKOVA', 'Olga MIKUTINA'), ('Eliska BREZINOVA', 'Jenni SAARINEN'), ('Ekaterina RYABOVA', 'Nicole SCHOTT'), ('Kaori SAKAMOTO', 'Jenni SAARINEN'), ('Wakaba HIGUCHI', 'Kailani CRAINE'), ('Loena HENDRICKX', 'Ekaterina RYABOVA'), ('Alexandra TRUSOVA', 'Wakaba HIGUCHI'), ('Karen CHEN', 'Alexandra FEIGIN'), ('Anna SHCHERBAKOVA', 'Nicole SCHOTT'), ('Loena HENDRICKX', 'Olga MIKUTINA'), ('Mariah BELL', 'Nicole SCHOTT'), ('Mariah BELL', 'Ekaterina RYABOVA'), ('Anna SHCHERBAKOVA', 'Jenni SAARINEN'), ('Madeline SCHIZAS', 'Ekaterina KURAKOVA'), ('Mariah BELL', 'Jenni SAARINEN'), ('Loena HENDRICKX', 'Nicole SCHOTT'), ('Alexandra FEIGIN', 'Jenni SAARINEN'), ('Kaori SAKAMOTO', 'Nicole SCHOTT'), ('Alexandra TRUSOVA', 'Kailani CRAINE'), ('Anna SHCHERBAKOVA', 'Madeline SCHIZAS'), ('Nicole SCHOTT', 'Kailani CRAINE'), ('Mariah BELL', 'Ekaterina KURAKOVA'), ('Loena HENDRICKX', 'Eva-Lotta KIIBUS'), ('Olga MIKUTINA', 'Madeline SCHIZAS'), ('Eva-Lotta KIIBUS', 'Nicole SCHOTT'), ('Alexandra TRUSOVA', 'Nicole SCHOTT'), ('Wakaba HIGUCHI', 'Ekaterina RYABOVA'), ('Loena HENDRICKX', 'Kailani CRAINE'), ('Loena HENDRICKX', 'Madeline SCHIZAS'), ('Olga MIKUTINA', 'Eva-Lotta KIIBUS'), ('Eliska BREZINOVA', 'Ekaterina KURAKOVA'), ('Wakaba HIGUCHI', 'Olga MIKUTINA'), ('Anna SHCHERBAKOVA', 'Eliska BREZINOVA'), ('Alexandra TRUSOVA', 'Mariah BELL'), ('Eva-Lotta KIIBUS', 'Kailani CRAINE'), ('Mariah BELL', 'Eva-Lotta KIIBUS'), ('Ekaterina RYABOVA', 'Eliska BREZINOVA')}\n",
            "{('Anna SHCHERBAKOVA', 'Kailani CRAINE'), ('Madeline SCHIZAS', 'Eva-Lotta KIIBUS'), ('Ekaterina RYABOVA', 'Kailani CRAINE'), ('Alexandra FEIGIN', 'Olga MIKUTINA'), ('Mariah BELL', 'Kailani CRAINE'), ('Olga MIKUTINA', 'Jenni SAARINEN'), ('Alexandra TRUSOVA', 'Loena HENDRICKX'), ('Madeline SCHIZAS', 'Olga MIKUTINA'), ('Wakaba HIGUCHI', 'Madeline SCHIZAS'), ('Karen CHEN', 'Kailani CRAINE'), ('Wakaba HIGUCHI', 'Nicole SCHOTT'), ('Kaori SAKAMOTO', 'Olga MIKUTINA'), ('Mariah BELL', 'Karen CHEN'), ('Alexandra TRUSOVA', 'Ekaterina RYABOVA'), ('Madeline SCHIZAS', 'Eliska BREZINOVA'), ('Eliska BREZINOVA', 'Kailani CRAINE'), ('Wakaba HIGUCHI', 'Mariah BELL'), ('Anna SHCHERBAKOVA', 'Kaori SAKAMOTO'), ('Karen CHEN', 'Ekaterina KURAKOVA'), ('Anna SHCHERBAKOVA', 'Wakaba HIGUCHI'), ('Anna SHCHERBAKOVA', 'Alexandra FEIGIN'), ('Madeline SCHIZAS', 'Karen CHEN'), ('Ekaterina KURAKOVA', 'Alexandra FEIGIN'), ('Anna SHCHERBAKOVA', 'Ekaterina RYABOVA'), ('Karen CHEN', 'Ekaterina RYABOVA'), ('Anna SHCHERBAKOVA', 'Loena HENDRICKX'), ('Loena HENDRICKX', 'Alexandra FEIGIN'), ('Wakaba HIGUCHI', 'Eliska BREZINOVA'), ('Nicole SCHOTT', 'Jenni SAARINEN'), ('Anna SHCHERBAKOVA', 'Ekaterina KURAKOVA'), ('Eva-Lotta KIIBUS', 'Alexandra FEIGIN'), ('Loena HENDRICKX', 'Mariah BELL'), ('Loena HENDRICKX', 'Karen CHEN'), ('Ekaterina RYABOVA', 'Ekaterina KURAKOVA'), ('Karen CHEN', 'Jenni SAARINEN'), ('Kaori SAKAMOTO', 'Mariah BELL'), ('Kaori SAKAMOTO', 'Ekaterina KURAKOVA'), ('Karen CHEN', 'Eva-Lotta KIIBUS'), ('Loena HENDRICKX', 'Ekaterina KURAKOVA'), ('Anna SHCHERBAKOVA', 'Mariah BELL'), ('Alexandra TRUSOVA', 'Eliska BREZINOVA'), ('Madeline SCHIZAS', 'Alexandra FEIGIN'), ('Nicole SCHOTT', 'Alexandra FEIGIN'), ('Kaori SAKAMOTO', 'Ekaterina RYABOVA'), ('Loena HENDRICKX', 'Jenni SAARINEN'), ('Ekaterina RYABOVA', 'Alexandra FEIGIN'), ('Eliska BREZINOVA', 'Olga MIKUTINA'), ('Loena HENDRICKX', 'Eliska BREZINOVA'), ('Nicole SCHOTT', 'Eliska BREZINOVA'), ('Karen CHEN', 'Nicole SCHOTT'), ('Kaori SAKAMOTO', 'Eva-Lotta KIIBUS'), ('Mariah BELL', 'Alexandra FEIGIN'), ('Kaori SAKAMOTO', 'Loena HENDRICKX'), ('Eva-Lotta KIIBUS', 'Jenni SAARINEN'), ('Anna SHCHERBAKOVA', 'Eva-Lotta KIIBUS'), ('Wakaba HIGUCHI', 'Karen CHEN'), ('Eva-Lotta KIIBUS', 'Eliska BREZINOVA'), ('Alexandra TRUSOVA', 'Madeline SCHIZAS'), ('Ekaterina RYABOVA', 'Eva-Lotta KIIBUS'), ('Mariah BELL', 'Madeline SCHIZAS'), ('Wakaba HIGUCHI', 'Alexandra FEIGIN'), ('Kaori SAKAMOTO', 'Alexandra FEIGIN'), ('Wakaba HIGUCHI', 'Ekaterina KURAKOVA'), ('Kaori SAKAMOTO', 'Wakaba HIGUCHI'), ('Alexandra TRUSOVA', 'Jenni SAARINEN'), ('Alexandra TRUSOVA', 'Alexandra FEIGIN'), ('Kailani CRAINE', 'Olga MIKUTINA'), ('Kaori SAKAMOTO', 'Madeline SCHIZAS'), ('Ekaterina RYABOVA', 'Olga MIKUTINA'), ('Karen CHEN', 'Eliska BREZINOVA'), ('Mariah BELL', 'Eliska BREZINOVA'), ('Alexandra TRUSOVA', 'Eva-Lotta KIIBUS'), ('Ekaterina KURAKOVA', 'Nicole SCHOTT'), ('Kailani CRAINE', 'Jenni SAARINEN'), ('Anna SHCHERBAKOVA', 'Alexandra TRUSOVA'), ('Alexandra TRUSOVA', 'Karen CHEN'), ('Ekaterina RYABOVA', 'Jenni SAARINEN'), ('Kaori SAKAMOTO', 'Kailani CRAINE'), ('Wakaba HIGUCHI', 'Jenni SAARINEN'), ('Karen CHEN', 'Olga MIKUTINA'), ('Wakaba HIGUCHI', 'Eva-Lotta KIIBUS'), ('Kaori SAKAMOTO', 'Eliska BREZINOVA'), ('Ekaterina KURAKOVA', 'Eva-Lotta KIIBUS'), ('Madeline SCHIZAS', 'Jenni SAARINEN'), ('Madeline SCHIZAS', 'Kailani CRAINE'), ('Alexandra TRUSOVA', 'Olga MIKUTINA'), ('Mariah BELL', 'Olga MIKUTINA'), ('Kaori SAKAMOTO', 'Karen CHEN'), ('Alexandra TRUSOVA', 'Ekaterina KURAKOVA'), ('Alexandra FEIGIN', 'Kailani CRAINE'), ('Alexandra FEIGIN', 'Eliska BREZINOVA'), ('Ekaterina KURAKOVA', 'Olga MIKUTINA'), ('Loena HENDRICKX', 'Wakaba HIGUCHI'), ('Anna SHCHERBAKOVA', 'Karen CHEN'), ('Madeline SCHIZAS', 'Nicole SCHOTT'), ('Anna SHCHERBAKOVA', 'Olga MIKUTINA'), ('Eva-Lotta KIIBUS', 'Olga MIKUTINA'), ('Alexandra TRUSOVA', 'Kaori SAKAMOTO'), ('Eliska BREZINOVA', 'Jenni SAARINEN'), ('Ekaterina RYABOVA', 'Nicole SCHOTT'), ('Kaori SAKAMOTO', 'Jenni SAARINEN'), ('Loena HENDRICKX', 'Ekaterina RYABOVA'), ('Wakaba HIGUCHI', 'Kailani CRAINE'), ('Alexandra TRUSOVA', 'Wakaba HIGUCHI'), ('Ekaterina KURAKOVA', 'Eliska BREZINOVA'), ('Karen CHEN', 'Alexandra FEIGIN'), ('Anna SHCHERBAKOVA', 'Nicole SCHOTT'), ('Loena HENDRICKX', 'Olga MIKUTINA'), ('Ekaterina KURAKOVA', 'Jenni SAARINEN'), ('Mariah BELL', 'Nicole SCHOTT'), ('Ekaterina KURAKOVA', 'Kailani CRAINE'), ('Mariah BELL', 'Ekaterina RYABOVA'), ('Anna SHCHERBAKOVA', 'Jenni SAARINEN'), ('Madeline SCHIZAS', 'Ekaterina KURAKOVA'), ('Mariah BELL', 'Jenni SAARINEN'), ('Nicole SCHOTT', 'Olga MIKUTINA'), ('Loena HENDRICKX', 'Nicole SCHOTT'), ('Alexandra FEIGIN', 'Jenni SAARINEN'), ('Kaori SAKAMOTO', 'Nicole SCHOTT'), ('Alexandra TRUSOVA', 'Kailani CRAINE'), ('Anna SHCHERBAKOVA', 'Madeline SCHIZAS'), ('Nicole SCHOTT', 'Kailani CRAINE'), ('Mariah BELL', 'Ekaterina KURAKOVA'), ('Loena HENDRICKX', 'Eva-Lotta KIIBUS'), ('Madeline SCHIZAS', 'Ekaterina RYABOVA'), ('Eva-Lotta KIIBUS', 'Nicole SCHOTT'), ('Alexandra TRUSOVA', 'Nicole SCHOTT'), ('Loena HENDRICKX', 'Kailani CRAINE'), ('Wakaba HIGUCHI', 'Ekaterina RYABOVA'), ('Loena HENDRICKX', 'Madeline SCHIZAS'), ('Wakaba HIGUCHI', 'Olga MIKUTINA'), ('Anna SHCHERBAKOVA', 'Eliska BREZINOVA'), ('Alexandra TRUSOVA', 'Mariah BELL'), ('Eva-Lotta KIIBUS', 'Kailani CRAINE'), ('Mariah BELL', 'Eva-Lotta KIIBUS'), ('Ekaterina RYABOVA', 'Eliska BREZINOVA')}\n",
            "{('Anna SHCHERBAKOVA', 'Kailani CRAINE'), ('Madeline SCHIZAS', 'Eva-Lotta KIIBUS'), ('Ekaterina RYABOVA', 'Kailani CRAINE'), ('Wakaba HIGUCHI', 'Loena HENDRICKX'), ('Mariah BELL', 'Kailani CRAINE'), ('Olga MIKUTINA', 'Jenni SAARINEN'), ('Alexandra TRUSOVA', 'Loena HENDRICKX'), ('Wakaba HIGUCHI', 'Madeline SCHIZAS'), ('Ekaterina RYABOVA', 'Madeline SCHIZAS'), ('Nicole SCHOTT', 'Ekaterina KURAKOVA'), ('Karen CHEN', 'Kailani CRAINE'), ('Wakaba HIGUCHI', 'Nicole SCHOTT'), ('Olga MIKUTINA', 'Nicole SCHOTT'), ('Kaori SAKAMOTO', 'Olga MIKUTINA'), ('Alexandra TRUSOVA', 'Ekaterina RYABOVA'), ('Madeline SCHIZAS', 'Eliska BREZINOVA'), ('Eliska BREZINOVA', 'Kailani CRAINE'), ('Wakaba HIGUCHI', 'Mariah BELL'), ('Anna SHCHERBAKOVA', 'Kaori SAKAMOTO'), ('Karen CHEN', 'Ekaterina KURAKOVA'), ('Anna SHCHERBAKOVA', 'Wakaba HIGUCHI'), ('Anna SHCHERBAKOVA', 'Alexandra FEIGIN'), ('Anna SHCHERBAKOVA', 'Ekaterina RYABOVA'), ('Karen CHEN', 'Ekaterina RYABOVA'), ('Anna SHCHERBAKOVA', 'Loena HENDRICKX'), ('Loena HENDRICKX', 'Alexandra FEIGIN'), ('Wakaba HIGUCHI', 'Eliska BREZINOVA'), ('Kaori SAKAMOTO', 'Alexandra TRUSOVA'), ('Nicole SCHOTT', 'Jenni SAARINEN'), ('Anna SHCHERBAKOVA', 'Ekaterina KURAKOVA'), ('Eva-Lotta KIIBUS', 'Alexandra FEIGIN'), ('Eva-Lotta KIIBUS', 'Ekaterina KURAKOVA'), ('Loena HENDRICKX', 'Mariah BELL'), ('Olga MIKUTINA', 'Kailani CRAINE'), ('Ekaterina RYABOVA', 'Ekaterina KURAKOVA'), ('Karen CHEN', 'Jenni SAARINEN'), ('Kaori SAKAMOTO', 'Mariah BELL'), ('Kaori SAKAMOTO', 'Ekaterina KURAKOVA'), ('Olga MIKUTINA', 'Eliska BREZINOVA'), ('Karen CHEN', 'Eva-Lotta KIIBUS'), ('Loena HENDRICKX', 'Ekaterina KURAKOVA'), ('Karen CHEN', 'Loena HENDRICKX'), ('Anna SHCHERBAKOVA', 'Mariah BELL'), ('Alexandra TRUSOVA', 'Eliska BREZINOVA'), ('Madeline SCHIZAS', 'Alexandra FEIGIN'), ('Jenni SAARINEN', 'Ekaterina KURAKOVA'), ('Nicole SCHOTT', 'Alexandra FEIGIN'), ('Kaori SAKAMOTO', 'Ekaterina RYABOVA'), ('Loena HENDRICKX', 'Jenni SAARINEN'), ('Ekaterina RYABOVA', 'Alexandra FEIGIN'), ('Karen CHEN', 'Madeline SCHIZAS'), ('Loena HENDRICKX', 'Eliska BREZINOVA'), ('Nicole SCHOTT', 'Eliska BREZINOVA'), ('Karen CHEN', 'Nicole SCHOTT'), ('Kaori SAKAMOTO', 'Eva-Lotta KIIBUS'), ('Mariah BELL', 'Alexandra FEIGIN'), ('Kaori SAKAMOTO', 'Loena HENDRICKX'), ('Eva-Lotta KIIBUS', 'Jenni SAARINEN'), ('Anna SHCHERBAKOVA', 'Eva-Lotta KIIBUS'), ('Wakaba HIGUCHI', 'Karen CHEN'), ('Eva-Lotta KIIBUS', 'Eliska BREZINOVA'), ('Alexandra TRUSOVA', 'Madeline SCHIZAS'), ('Karen CHEN', 'Mariah BELL'), ('Ekaterina RYABOVA', 'Eva-Lotta KIIBUS'), ('Mariah BELL', 'Madeline SCHIZAS'), ('Wakaba HIGUCHI', 'Alexandra FEIGIN'), ('Olga MIKUTINA', 'Ekaterina KURAKOVA'), ('Kaori SAKAMOTO', 'Alexandra FEIGIN'), ('Wakaba HIGUCHI', 'Ekaterina KURAKOVA'), ('Kaori SAKAMOTO', 'Wakaba HIGUCHI'), ('Olga MIKUTINA', 'Alexandra FEIGIN'), ('Alexandra TRUSOVA', 'Jenni SAARINEN'), ('Alexandra FEIGIN', 'Ekaterina KURAKOVA'), ('Kailani CRAINE', 'Ekaterina KURAKOVA'), ('Alexandra TRUSOVA', 'Alexandra FEIGIN'), ('Kaori SAKAMOTO', 'Madeline SCHIZAS'), ('Olga MIKUTINA', 'Ekaterina RYABOVA'), ('Karen CHEN', 'Eliska BREZINOVA'), ('Mariah BELL', 'Eliska BREZINOVA'), ('Alexandra TRUSOVA', 'Eva-Lotta KIIBUS'), ('Kailani CRAINE', 'Jenni SAARINEN'), ('Anna SHCHERBAKOVA', 'Alexandra TRUSOVA'), ('Alexandra TRUSOVA', 'Karen CHEN'), ('Ekaterina RYABOVA', 'Jenni SAARINEN'), ('Kaori SAKAMOTO', 'Kailani CRAINE'), ('Wakaba HIGUCHI', 'Jenni SAARINEN'), ('Karen CHEN', 'Olga MIKUTINA'), ('Wakaba HIGUCHI', 'Eva-Lotta KIIBUS'), ('Kaori SAKAMOTO', 'Eliska BREZINOVA'), ('Madeline SCHIZAS', 'Jenni SAARINEN'), ('Madeline SCHIZAS', 'Kailani CRAINE'), ('Alexandra TRUSOVA', 'Olga MIKUTINA'), ('Mariah BELL', 'Olga MIKUTINA'), ('Kaori SAKAMOTO', 'Karen CHEN'), ('Alexandra TRUSOVA', 'Ekaterina KURAKOVA'), ('Alexandra FEIGIN', 'Kailani CRAINE'), ('Alexandra FEIGIN', 'Eliska BREZINOVA'), ('Anna SHCHERBAKOVA', 'Karen CHEN'), ('Madeline SCHIZAS', 'Nicole SCHOTT'), ('Anna SHCHERBAKOVA', 'Olga MIKUTINA'), ('Eliska BREZINOVA', 'Jenni SAARINEN'), ('Ekaterina RYABOVA', 'Nicole SCHOTT'), ('Kaori SAKAMOTO', 'Jenni SAARINEN'), ('Wakaba HIGUCHI', 'Kailani CRAINE'), ('Loena HENDRICKX', 'Ekaterina RYABOVA'), ('Alexandra TRUSOVA', 'Wakaba HIGUCHI'), ('Karen CHEN', 'Alexandra FEIGIN'), ('Anna SHCHERBAKOVA', 'Nicole SCHOTT'), ('Loena HENDRICKX', 'Olga MIKUTINA'), ('Mariah BELL', 'Nicole SCHOTT'), ('Mariah BELL', 'Ekaterina RYABOVA'), ('Anna SHCHERBAKOVA', 'Jenni SAARINEN'), ('Madeline SCHIZAS', 'Ekaterina KURAKOVA'), ('Mariah BELL', 'Jenni SAARINEN'), ('Loena HENDRICKX', 'Nicole SCHOTT'), ('Alexandra FEIGIN', 'Jenni SAARINEN'), ('Kaori SAKAMOTO', 'Nicole SCHOTT'), ('Alexandra TRUSOVA', 'Kailani CRAINE'), ('Anna SHCHERBAKOVA', 'Madeline SCHIZAS'), ('Nicole SCHOTT', 'Kailani CRAINE'), ('Mariah BELL', 'Ekaterina KURAKOVA'), ('Loena HENDRICKX', 'Eva-Lotta KIIBUS'), ('Olga MIKUTINA', 'Madeline SCHIZAS'), ('Eva-Lotta KIIBUS', 'Nicole SCHOTT'), ('Alexandra TRUSOVA', 'Nicole SCHOTT'), ('Wakaba HIGUCHI', 'Ekaterina RYABOVA'), ('Loena HENDRICKX', 'Kailani CRAINE'), ('Loena HENDRICKX', 'Madeline SCHIZAS'), ('Olga MIKUTINA', 'Eva-Lotta KIIBUS'), ('Eliska BREZINOVA', 'Ekaterina KURAKOVA'), ('Wakaba HIGUCHI', 'Olga MIKUTINA'), ('Anna SHCHERBAKOVA', 'Eliska BREZINOVA'), ('Alexandra TRUSOVA', 'Mariah BELL'), ('Eva-Lotta KIIBUS', 'Kailani CRAINE'), ('Mariah BELL', 'Eva-Lotta KIIBUS'), ('Ekaterina RYABOVA', 'Eliska BREZINOVA')}\n",
            "{('Anna SHCHERBAKOVA', 'Kailani CRAINE'), ('Madeline SCHIZAS', 'Eva-Lotta KIIBUS'), ('Ekaterina RYABOVA', 'Kailani CRAINE'), ('Alexandra FEIGIN', 'Olga MIKUTINA'), ('Mariah BELL', 'Kailani CRAINE'), ('Olga MIKUTINA', 'Jenni SAARINEN'), ('Alexandra TRUSOVA', 'Loena HENDRICKX'), ('Madeline SCHIZAS', 'Olga MIKUTINA'), ('Wakaba HIGUCHI', 'Madeline SCHIZAS'), ('Karen CHEN', 'Kailani CRAINE'), ('Wakaba HIGUCHI', 'Nicole SCHOTT'), ('Kaori SAKAMOTO', 'Olga MIKUTINA'), ('Mariah BELL', 'Karen CHEN'), ('Alexandra TRUSOVA', 'Ekaterina RYABOVA'), ('Madeline SCHIZAS', 'Eliska BREZINOVA'), ('Eliska BREZINOVA', 'Kailani CRAINE'), ('Wakaba HIGUCHI', 'Mariah BELL'), ('Anna SHCHERBAKOVA', 'Kaori SAKAMOTO'), ('Karen CHEN', 'Ekaterina KURAKOVA'), ('Anna SHCHERBAKOVA', 'Wakaba HIGUCHI'), ('Anna SHCHERBAKOVA', 'Alexandra FEIGIN'), ('Madeline SCHIZAS', 'Karen CHEN'), ('Ekaterina KURAKOVA', 'Alexandra FEIGIN'), ('Anna SHCHERBAKOVA', 'Ekaterina RYABOVA'), ('Karen CHEN', 'Ekaterina RYABOVA'), ('Anna SHCHERBAKOVA', 'Loena HENDRICKX'), ('Loena HENDRICKX', 'Alexandra FEIGIN'), ('Wakaba HIGUCHI', 'Eliska BREZINOVA'), ('Nicole SCHOTT', 'Jenni SAARINEN'), ('Anna SHCHERBAKOVA', 'Ekaterina KURAKOVA'), ('Eva-Lotta KIIBUS', 'Alexandra FEIGIN'), ('Loena HENDRICKX', 'Mariah BELL'), ('Loena HENDRICKX', 'Karen CHEN'), ('Ekaterina RYABOVA', 'Ekaterina KURAKOVA'), ('Karen CHEN', 'Jenni SAARINEN'), ('Kaori SAKAMOTO', 'Mariah BELL'), ('Kaori SAKAMOTO', 'Ekaterina KURAKOVA'), ('Karen CHEN', 'Eva-Lotta KIIBUS'), ('Loena HENDRICKX', 'Ekaterina KURAKOVA'), ('Anna SHCHERBAKOVA', 'Mariah BELL'), ('Alexandra TRUSOVA', 'Eliska BREZINOVA'), ('Madeline SCHIZAS', 'Alexandra FEIGIN'), ('Nicole SCHOTT', 'Alexandra FEIGIN'), ('Kaori SAKAMOTO', 'Ekaterina RYABOVA'), ('Loena HENDRICKX', 'Jenni SAARINEN'), ('Ekaterina RYABOVA', 'Alexandra FEIGIN'), ('Eliska BREZINOVA', 'Olga MIKUTINA'), ('Loena HENDRICKX', 'Eliska BREZINOVA'), ('Nicole SCHOTT', 'Eliska BREZINOVA'), ('Karen CHEN', 'Nicole SCHOTT'), ('Kaori SAKAMOTO', 'Eva-Lotta KIIBUS'), ('Mariah BELL', 'Alexandra FEIGIN'), ('Kaori SAKAMOTO', 'Loena HENDRICKX'), ('Eva-Lotta KIIBUS', 'Jenni SAARINEN'), ('Anna SHCHERBAKOVA', 'Eva-Lotta KIIBUS'), ('Wakaba HIGUCHI', 'Karen CHEN'), ('Eva-Lotta KIIBUS', 'Eliska BREZINOVA'), ('Alexandra TRUSOVA', 'Madeline SCHIZAS'), ('Ekaterina RYABOVA', 'Eva-Lotta KIIBUS'), ('Mariah BELL', 'Madeline SCHIZAS'), ('Wakaba HIGUCHI', 'Alexandra FEIGIN'), ('Kaori SAKAMOTO', 'Alexandra FEIGIN'), ('Wakaba HIGUCHI', 'Ekaterina KURAKOVA'), ('Kaori SAKAMOTO', 'Wakaba HIGUCHI'), ('Alexandra TRUSOVA', 'Jenni SAARINEN'), ('Alexandra TRUSOVA', 'Alexandra FEIGIN'), ('Kailani CRAINE', 'Olga MIKUTINA'), ('Kaori SAKAMOTO', 'Madeline SCHIZAS'), ('Ekaterina RYABOVA', 'Olga MIKUTINA'), ('Karen CHEN', 'Eliska BREZINOVA'), ('Mariah BELL', 'Eliska BREZINOVA'), ('Alexandra TRUSOVA', 'Eva-Lotta KIIBUS'), ('Ekaterina KURAKOVA', 'Nicole SCHOTT'), ('Kailani CRAINE', 'Jenni SAARINEN'), ('Anna SHCHERBAKOVA', 'Alexandra TRUSOVA'), ('Alexandra TRUSOVA', 'Karen CHEN'), ('Ekaterina RYABOVA', 'Jenni SAARINEN'), ('Kaori SAKAMOTO', 'Kailani CRAINE'), ('Wakaba HIGUCHI', 'Jenni SAARINEN'), ('Karen CHEN', 'Olga MIKUTINA'), ('Wakaba HIGUCHI', 'Eva-Lotta KIIBUS'), ('Kaori SAKAMOTO', 'Eliska BREZINOVA'), ('Ekaterina KURAKOVA', 'Eva-Lotta KIIBUS'), ('Madeline SCHIZAS', 'Jenni SAARINEN'), ('Madeline SCHIZAS', 'Kailani CRAINE'), ('Alexandra TRUSOVA', 'Olga MIKUTINA'), ('Mariah BELL', 'Olga MIKUTINA'), ('Kaori SAKAMOTO', 'Karen CHEN'), ('Alexandra TRUSOVA', 'Ekaterina KURAKOVA'), ('Alexandra FEIGIN', 'Kailani CRAINE'), ('Alexandra FEIGIN', 'Eliska BREZINOVA'), ('Ekaterina KURAKOVA', 'Olga MIKUTINA'), ('Loena HENDRICKX', 'Wakaba HIGUCHI'), ('Anna SHCHERBAKOVA', 'Karen CHEN'), ('Madeline SCHIZAS', 'Nicole SCHOTT'), ('Anna SHCHERBAKOVA', 'Olga MIKUTINA'), ('Eva-Lotta KIIBUS', 'Olga MIKUTINA'), ('Alexandra TRUSOVA', 'Kaori SAKAMOTO'), ('Eliska BREZINOVA', 'Jenni SAARINEN'), ('Ekaterina RYABOVA', 'Nicole SCHOTT'), ('Kaori SAKAMOTO', 'Jenni SAARINEN'), ('Loena HENDRICKX', 'Ekaterina RYABOVA'), ('Wakaba HIGUCHI', 'Kailani CRAINE'), ('Alexandra TRUSOVA', 'Wakaba HIGUCHI'), ('Ekaterina KURAKOVA', 'Eliska BREZINOVA'), ('Karen CHEN', 'Alexandra FEIGIN'), ('Anna SHCHERBAKOVA', 'Nicole SCHOTT'), ('Loena HENDRICKX', 'Olga MIKUTINA'), ('Ekaterina KURAKOVA', 'Jenni SAARINEN'), ('Mariah BELL', 'Nicole SCHOTT'), ('Ekaterina KURAKOVA', 'Kailani CRAINE'), ('Mariah BELL', 'Ekaterina RYABOVA'), ('Anna SHCHERBAKOVA', 'Jenni SAARINEN'), ('Madeline SCHIZAS', 'Ekaterina KURAKOVA'), ('Mariah BELL', 'Jenni SAARINEN'), ('Nicole SCHOTT', 'Olga MIKUTINA'), ('Loena HENDRICKX', 'Nicole SCHOTT'), ('Alexandra FEIGIN', 'Jenni SAARINEN'), ('Kaori SAKAMOTO', 'Nicole SCHOTT'), ('Alexandra TRUSOVA', 'Kailani CRAINE'), ('Anna SHCHERBAKOVA', 'Madeline SCHIZAS'), ('Nicole SCHOTT', 'Kailani CRAINE'), ('Mariah BELL', 'Ekaterina KURAKOVA'), ('Loena HENDRICKX', 'Eva-Lotta KIIBUS'), ('Madeline SCHIZAS', 'Ekaterina RYABOVA'), ('Eva-Lotta KIIBUS', 'Nicole SCHOTT'), ('Alexandra TRUSOVA', 'Nicole SCHOTT'), ('Loena HENDRICKX', 'Kailani CRAINE'), ('Wakaba HIGUCHI', 'Ekaterina RYABOVA'), ('Loena HENDRICKX', 'Madeline SCHIZAS'), ('Wakaba HIGUCHI', 'Olga MIKUTINA'), ('Anna SHCHERBAKOVA', 'Eliska BREZINOVA'), ('Alexandra TRUSOVA', 'Mariah BELL'), ('Eva-Lotta KIIBUS', 'Kailani CRAINE'), ('Mariah BELL', 'Eva-Lotta KIIBUS'), ('Ekaterina RYABOVA', 'Eliska BREZINOVA')}\n",
            "{('Anna SHCHERBAKOVA', 'Kailani CRAINE'), ('Madeline SCHIZAS', 'Eva-Lotta KIIBUS'), ('Ekaterina RYABOVA', 'Kailani CRAINE'), ('Wakaba HIGUCHI', 'Loena HENDRICKX'), ('Mariah BELL', 'Kailani CRAINE'), ('Olga MIKUTINA', 'Jenni SAARINEN'), ('Alexandra TRUSOVA', 'Loena HENDRICKX'), ('Wakaba HIGUCHI', 'Madeline SCHIZAS'), ('Ekaterina RYABOVA', 'Madeline SCHIZAS'), ('Nicole SCHOTT', 'Ekaterina KURAKOVA'), ('Karen CHEN', 'Kailani CRAINE'), ('Wakaba HIGUCHI', 'Nicole SCHOTT'), ('Olga MIKUTINA', 'Nicole SCHOTT'), ('Kaori SAKAMOTO', 'Olga MIKUTINA'), ('Alexandra TRUSOVA', 'Ekaterina RYABOVA'), ('Madeline SCHIZAS', 'Eliska BREZINOVA'), ('Eliska BREZINOVA', 'Kailani CRAINE'), ('Wakaba HIGUCHI', 'Mariah BELL'), ('Anna SHCHERBAKOVA', 'Kaori SAKAMOTO'), ('Karen CHEN', 'Ekaterina KURAKOVA'), ('Anna SHCHERBAKOVA', 'Wakaba HIGUCHI'), ('Anna SHCHERBAKOVA', 'Alexandra FEIGIN'), ('Anna SHCHERBAKOVA', 'Ekaterina RYABOVA'), ('Karen CHEN', 'Ekaterina RYABOVA'), ('Anna SHCHERBAKOVA', 'Loena HENDRICKX'), ('Loena HENDRICKX', 'Alexandra FEIGIN'), ('Wakaba HIGUCHI', 'Eliska BREZINOVA'), ('Kaori SAKAMOTO', 'Alexandra TRUSOVA'), ('Nicole SCHOTT', 'Jenni SAARINEN'), ('Anna SHCHERBAKOVA', 'Ekaterina KURAKOVA'), ('Eva-Lotta KIIBUS', 'Alexandra FEIGIN'), ('Eva-Lotta KIIBUS', 'Ekaterina KURAKOVA'), ('Loena HENDRICKX', 'Mariah BELL'), ('Olga MIKUTINA', 'Kailani CRAINE'), ('Ekaterina RYABOVA', 'Ekaterina KURAKOVA'), ('Karen CHEN', 'Jenni SAARINEN'), ('Kaori SAKAMOTO', 'Mariah BELL'), ('Kaori SAKAMOTO', 'Ekaterina KURAKOVA'), ('Olga MIKUTINA', 'Eliska BREZINOVA'), ('Karen CHEN', 'Eva-Lotta KIIBUS'), ('Loena HENDRICKX', 'Ekaterina KURAKOVA'), ('Karen CHEN', 'Loena HENDRICKX'), ('Anna SHCHERBAKOVA', 'Mariah BELL'), ('Alexandra TRUSOVA', 'Eliska BREZINOVA'), ('Madeline SCHIZAS', 'Alexandra FEIGIN'), ('Jenni SAARINEN', 'Ekaterina KURAKOVA'), ('Nicole SCHOTT', 'Alexandra FEIGIN'), ('Kaori SAKAMOTO', 'Ekaterina RYABOVA'), ('Loena HENDRICKX', 'Jenni SAARINEN'), ('Ekaterina RYABOVA', 'Alexandra FEIGIN'), ('Karen CHEN', 'Madeline SCHIZAS'), ('Loena HENDRICKX', 'Eliska BREZINOVA'), ('Nicole SCHOTT', 'Eliska BREZINOVA'), ('Karen CHEN', 'Nicole SCHOTT'), ('Kaori SAKAMOTO', 'Eva-Lotta KIIBUS'), ('Mariah BELL', 'Alexandra FEIGIN'), ('Kaori SAKAMOTO', 'Loena HENDRICKX'), ('Eva-Lotta KIIBUS', 'Jenni SAARINEN'), ('Anna SHCHERBAKOVA', 'Eva-Lotta KIIBUS'), ('Wakaba HIGUCHI', 'Karen CHEN'), ('Eva-Lotta KIIBUS', 'Eliska BREZINOVA'), ('Alexandra TRUSOVA', 'Madeline SCHIZAS'), ('Karen CHEN', 'Mariah BELL'), ('Ekaterina RYABOVA', 'Eva-Lotta KIIBUS'), ('Mariah BELL', 'Madeline SCHIZAS'), ('Wakaba HIGUCHI', 'Alexandra FEIGIN'), ('Olga MIKUTINA', 'Ekaterina KURAKOVA'), ('Kaori SAKAMOTO', 'Alexandra FEIGIN'), ('Wakaba HIGUCHI', 'Ekaterina KURAKOVA'), ('Kaori SAKAMOTO', 'Wakaba HIGUCHI'), ('Olga MIKUTINA', 'Alexandra FEIGIN'), ('Alexandra TRUSOVA', 'Jenni SAARINEN'), ('Alexandra FEIGIN', 'Ekaterina KURAKOVA'), ('Kailani CRAINE', 'Ekaterina KURAKOVA'), ('Alexandra TRUSOVA', 'Alexandra FEIGIN'), ('Kaori SAKAMOTO', 'Madeline SCHIZAS'), ('Olga MIKUTINA', 'Ekaterina RYABOVA'), ('Karen CHEN', 'Eliska BREZINOVA'), ('Mariah BELL', 'Eliska BREZINOVA'), ('Alexandra TRUSOVA', 'Eva-Lotta KIIBUS'), ('Kailani CRAINE', 'Jenni SAARINEN'), ('Anna SHCHERBAKOVA', 'Alexandra TRUSOVA'), ('Alexandra TRUSOVA', 'Karen CHEN'), ('Ekaterina RYABOVA', 'Jenni SAARINEN'), ('Kaori SAKAMOTO', 'Kailani CRAINE'), ('Wakaba HIGUCHI', 'Jenni SAARINEN'), ('Karen CHEN', 'Olga MIKUTINA'), ('Wakaba HIGUCHI', 'Eva-Lotta KIIBUS'), ('Kaori SAKAMOTO', 'Eliska BREZINOVA'), ('Madeline SCHIZAS', 'Jenni SAARINEN'), ('Madeline SCHIZAS', 'Kailani CRAINE'), ('Alexandra TRUSOVA', 'Olga MIKUTINA'), ('Mariah BELL', 'Olga MIKUTINA'), ('Kaori SAKAMOTO', 'Karen CHEN'), ('Alexandra TRUSOVA', 'Ekaterina KURAKOVA'), ('Alexandra FEIGIN', 'Kailani CRAINE'), ('Alexandra FEIGIN', 'Eliska BREZINOVA'), ('Anna SHCHERBAKOVA', 'Karen CHEN'), ('Madeline SCHIZAS', 'Nicole SCHOTT'), ('Anna SHCHERBAKOVA', 'Olga MIKUTINA'), ('Eliska BREZINOVA', 'Jenni SAARINEN'), ('Ekaterina RYABOVA', 'Nicole SCHOTT'), ('Kaori SAKAMOTO', 'Jenni SAARINEN'), ('Wakaba HIGUCHI', 'Kailani CRAINE'), ('Loena HENDRICKX', 'Ekaterina RYABOVA'), ('Alexandra TRUSOVA', 'Wakaba HIGUCHI'), ('Karen CHEN', 'Alexandra FEIGIN'), ('Anna SHCHERBAKOVA', 'Nicole SCHOTT'), ('Loena HENDRICKX', 'Olga MIKUTINA'), ('Mariah BELL', 'Nicole SCHOTT'), ('Mariah BELL', 'Ekaterina RYABOVA'), ('Anna SHCHERBAKOVA', 'Jenni SAARINEN'), ('Madeline SCHIZAS', 'Ekaterina KURAKOVA'), ('Mariah BELL', 'Jenni SAARINEN'), ('Loena HENDRICKX', 'Nicole SCHOTT'), ('Alexandra FEIGIN', 'Jenni SAARINEN'), ('Kaori SAKAMOTO', 'Nicole SCHOTT'), ('Alexandra TRUSOVA', 'Kailani CRAINE'), ('Anna SHCHERBAKOVA', 'Madeline SCHIZAS'), ('Nicole SCHOTT', 'Kailani CRAINE'), ('Mariah BELL', 'Ekaterina KURAKOVA'), ('Loena HENDRICKX', 'Eva-Lotta KIIBUS'), ('Olga MIKUTINA', 'Madeline SCHIZAS'), ('Eva-Lotta KIIBUS', 'Nicole SCHOTT'), ('Alexandra TRUSOVA', 'Nicole SCHOTT'), ('Wakaba HIGUCHI', 'Ekaterina RYABOVA'), ('Loena HENDRICKX', 'Kailani CRAINE'), ('Loena HENDRICKX', 'Madeline SCHIZAS'), ('Olga MIKUTINA', 'Eva-Lotta KIIBUS'), ('Eliska BREZINOVA', 'Ekaterina KURAKOVA'), ('Wakaba HIGUCHI', 'Olga MIKUTINA'), ('Anna SHCHERBAKOVA', 'Eliska BREZINOVA'), ('Alexandra TRUSOVA', 'Mariah BELL'), ('Eva-Lotta KIIBUS', 'Kailani CRAINE'), ('Mariah BELL', 'Eva-Lotta KIIBUS'), ('Ekaterina RYABOVA', 'Eliska BREZINOVA')}\n",
            "{('Anna SHCHERBAKOVA', 'Kailani CRAINE'), ('Madeline SCHIZAS', 'Eva-Lotta KIIBUS'), ('Ekaterina RYABOVA', 'Kailani CRAINE'), ('Alexandra FEIGIN', 'Olga MIKUTINA'), ('Mariah BELL', 'Kailani CRAINE'), ('Olga MIKUTINA', 'Jenni SAARINEN'), ('Alexandra TRUSOVA', 'Loena HENDRICKX'), ('Madeline SCHIZAS', 'Olga MIKUTINA'), ('Wakaba HIGUCHI', 'Madeline SCHIZAS'), ('Karen CHEN', 'Kailani CRAINE'), ('Wakaba HIGUCHI', 'Nicole SCHOTT'), ('Kaori SAKAMOTO', 'Olga MIKUTINA'), ('Mariah BELL', 'Karen CHEN'), ('Alexandra TRUSOVA', 'Ekaterina RYABOVA'), ('Madeline SCHIZAS', 'Eliska BREZINOVA'), ('Eliska BREZINOVA', 'Kailani CRAINE'), ('Wakaba HIGUCHI', 'Mariah BELL'), ('Anna SHCHERBAKOVA', 'Kaori SAKAMOTO'), ('Karen CHEN', 'Ekaterina KURAKOVA'), ('Anna SHCHERBAKOVA', 'Wakaba HIGUCHI'), ('Anna SHCHERBAKOVA', 'Alexandra FEIGIN'), ('Madeline SCHIZAS', 'Karen CHEN'), ('Ekaterina KURAKOVA', 'Alexandra FEIGIN'), ('Anna SHCHERBAKOVA', 'Ekaterina RYABOVA'), ('Karen CHEN', 'Ekaterina RYABOVA'), ('Anna SHCHERBAKOVA', 'Loena HENDRICKX'), ('Loena HENDRICKX', 'Alexandra FEIGIN'), ('Wakaba HIGUCHI', 'Eliska BREZINOVA'), ('Nicole SCHOTT', 'Jenni SAARINEN'), ('Anna SHCHERBAKOVA', 'Ekaterina KURAKOVA'), ('Eva-Lotta KIIBUS', 'Alexandra FEIGIN'), ('Loena HENDRICKX', 'Mariah BELL'), ('Loena HENDRICKX', 'Karen CHEN'), ('Ekaterina RYABOVA', 'Ekaterina KURAKOVA'), ('Karen CHEN', 'Jenni SAARINEN'), ('Kaori SAKAMOTO', 'Mariah BELL'), ('Kaori SAKAMOTO', 'Ekaterina KURAKOVA'), ('Karen CHEN', 'Eva-Lotta KIIBUS'), ('Loena HENDRICKX', 'Ekaterina KURAKOVA'), ('Anna SHCHERBAKOVA', 'Mariah BELL'), ('Alexandra TRUSOVA', 'Eliska BREZINOVA'), ('Madeline SCHIZAS', 'Alexandra FEIGIN'), ('Nicole SCHOTT', 'Alexandra FEIGIN'), ('Kaori SAKAMOTO', 'Ekaterina RYABOVA'), ('Loena HENDRICKX', 'Jenni SAARINEN'), ('Ekaterina RYABOVA', 'Alexandra FEIGIN'), ('Eliska BREZINOVA', 'Olga MIKUTINA'), ('Loena HENDRICKX', 'Eliska BREZINOVA'), ('Nicole SCHOTT', 'Eliska BREZINOVA'), ('Karen CHEN', 'Nicole SCHOTT'), ('Kaori SAKAMOTO', 'Eva-Lotta KIIBUS'), ('Mariah BELL', 'Alexandra FEIGIN'), ('Kaori SAKAMOTO', 'Loena HENDRICKX'), ('Eva-Lotta KIIBUS', 'Jenni SAARINEN'), ('Anna SHCHERBAKOVA', 'Eva-Lotta KIIBUS'), ('Wakaba HIGUCHI', 'Karen CHEN'), ('Eva-Lotta KIIBUS', 'Eliska BREZINOVA'), ('Alexandra TRUSOVA', 'Madeline SCHIZAS'), ('Ekaterina RYABOVA', 'Eva-Lotta KIIBUS'), ('Mariah BELL', 'Madeline SCHIZAS'), ('Wakaba HIGUCHI', 'Alexandra FEIGIN'), ('Kaori SAKAMOTO', 'Alexandra FEIGIN'), ('Wakaba HIGUCHI', 'Ekaterina KURAKOVA'), ('Kaori SAKAMOTO', 'Wakaba HIGUCHI'), ('Alexandra TRUSOVA', 'Jenni SAARINEN'), ('Alexandra TRUSOVA', 'Alexandra FEIGIN'), ('Kailani CRAINE', 'Olga MIKUTINA'), ('Kaori SAKAMOTO', 'Madeline SCHIZAS'), ('Ekaterina RYABOVA', 'Olga MIKUTINA'), ('Karen CHEN', 'Eliska BREZINOVA'), ('Mariah BELL', 'Eliska BREZINOVA'), ('Alexandra TRUSOVA', 'Eva-Lotta KIIBUS'), ('Ekaterina KURAKOVA', 'Nicole SCHOTT'), ('Kailani CRAINE', 'Jenni SAARINEN'), ('Anna SHCHERBAKOVA', 'Alexandra TRUSOVA'), ('Alexandra TRUSOVA', 'Karen CHEN'), ('Ekaterina RYABOVA', 'Jenni SAARINEN'), ('Kaori SAKAMOTO', 'Kailani CRAINE'), ('Wakaba HIGUCHI', 'Jenni SAARINEN'), ('Karen CHEN', 'Olga MIKUTINA'), ('Wakaba HIGUCHI', 'Eva-Lotta KIIBUS'), ('Kaori SAKAMOTO', 'Eliska BREZINOVA'), ('Ekaterina KURAKOVA', 'Eva-Lotta KIIBUS'), ('Madeline SCHIZAS', 'Jenni SAARINEN'), ('Madeline SCHIZAS', 'Kailani CRAINE'), ('Alexandra TRUSOVA', 'Olga MIKUTINA'), ('Mariah BELL', 'Olga MIKUTINA'), ('Kaori SAKAMOTO', 'Karen CHEN'), ('Alexandra TRUSOVA', 'Ekaterina KURAKOVA'), ('Alexandra FEIGIN', 'Kailani CRAINE'), ('Alexandra FEIGIN', 'Eliska BREZINOVA'), ('Ekaterina KURAKOVA', 'Olga MIKUTINA'), ('Loena HENDRICKX', 'Wakaba HIGUCHI'), ('Anna SHCHERBAKOVA', 'Karen CHEN'), ('Madeline SCHIZAS', 'Nicole SCHOTT'), ('Anna SHCHERBAKOVA', 'Olga MIKUTINA'), ('Eva-Lotta KIIBUS', 'Olga MIKUTINA'), ('Alexandra TRUSOVA', 'Kaori SAKAMOTO'), ('Eliska BREZINOVA', 'Jenni SAARINEN'), ('Ekaterina RYABOVA', 'Nicole SCHOTT'), ('Kaori SAKAMOTO', 'Jenni SAARINEN'), ('Loena HENDRICKX', 'Ekaterina RYABOVA'), ('Wakaba HIGUCHI', 'Kailani CRAINE'), ('Alexandra TRUSOVA', 'Wakaba HIGUCHI'), ('Ekaterina KURAKOVA', 'Eliska BREZINOVA'), ('Karen CHEN', 'Alexandra FEIGIN'), ('Anna SHCHERBAKOVA', 'Nicole SCHOTT'), ('Loena HENDRICKX', 'Olga MIKUTINA'), ('Ekaterina KURAKOVA', 'Jenni SAARINEN'), ('Mariah BELL', 'Nicole SCHOTT'), ('Ekaterina KURAKOVA', 'Kailani CRAINE'), ('Mariah BELL', 'Ekaterina RYABOVA'), ('Anna SHCHERBAKOVA', 'Jenni SAARINEN'), ('Madeline SCHIZAS', 'Ekaterina KURAKOVA'), ('Mariah BELL', 'Jenni SAARINEN'), ('Nicole SCHOTT', 'Olga MIKUTINA'), ('Loena HENDRICKX', 'Nicole SCHOTT'), ('Alexandra FEIGIN', 'Jenni SAARINEN'), ('Kaori SAKAMOTO', 'Nicole SCHOTT'), ('Alexandra TRUSOVA', 'Kailani CRAINE'), ('Anna SHCHERBAKOVA', 'Madeline SCHIZAS'), ('Nicole SCHOTT', 'Kailani CRAINE'), ('Mariah BELL', 'Ekaterina KURAKOVA'), ('Loena HENDRICKX', 'Eva-Lotta KIIBUS'), ('Madeline SCHIZAS', 'Ekaterina RYABOVA'), ('Eva-Lotta KIIBUS', 'Nicole SCHOTT'), ('Alexandra TRUSOVA', 'Nicole SCHOTT'), ('Loena HENDRICKX', 'Kailani CRAINE'), ('Wakaba HIGUCHI', 'Ekaterina RYABOVA'), ('Loena HENDRICKX', 'Madeline SCHIZAS'), ('Wakaba HIGUCHI', 'Olga MIKUTINA'), ('Anna SHCHERBAKOVA', 'Eliska BREZINOVA'), ('Alexandra TRUSOVA', 'Mariah BELL'), ('Eva-Lotta KIIBUS', 'Kailani CRAINE'), ('Mariah BELL', 'Eva-Lotta KIIBUS'), ('Ekaterina RYABOVA', 'Eliska BREZINOVA')}\n",
            "{('Anna SHCHERBAKOVA', 'Kailani CRAINE'), ('Madeline SCHIZAS', 'Eva-Lotta KIIBUS'), ('Ekaterina RYABOVA', 'Kailani CRAINE'), ('Wakaba HIGUCHI', 'Loena HENDRICKX'), ('Mariah BELL', 'Kailani CRAINE'), ('Olga MIKUTINA', 'Jenni SAARINEN'), ('Alexandra TRUSOVA', 'Loena HENDRICKX'), ('Wakaba HIGUCHI', 'Madeline SCHIZAS'), ('Ekaterina RYABOVA', 'Madeline SCHIZAS'), ('Nicole SCHOTT', 'Ekaterina KURAKOVA'), ('Karen CHEN', 'Kailani CRAINE'), ('Wakaba HIGUCHI', 'Nicole SCHOTT'), ('Olga MIKUTINA', 'Nicole SCHOTT'), ('Kaori SAKAMOTO', 'Olga MIKUTINA'), ('Alexandra TRUSOVA', 'Ekaterina RYABOVA'), ('Madeline SCHIZAS', 'Eliska BREZINOVA'), ('Eliska BREZINOVA', 'Kailani CRAINE'), ('Wakaba HIGUCHI', 'Mariah BELL'), ('Anna SHCHERBAKOVA', 'Kaori SAKAMOTO'), ('Karen CHEN', 'Ekaterina KURAKOVA'), ('Anna SHCHERBAKOVA', 'Wakaba HIGUCHI'), ('Anna SHCHERBAKOVA', 'Alexandra FEIGIN'), ('Anna SHCHERBAKOVA', 'Ekaterina RYABOVA'), ('Karen CHEN', 'Ekaterina RYABOVA'), ('Anna SHCHERBAKOVA', 'Loena HENDRICKX'), ('Loena HENDRICKX', 'Alexandra FEIGIN'), ('Wakaba HIGUCHI', 'Eliska BREZINOVA'), ('Kaori SAKAMOTO', 'Alexandra TRUSOVA'), ('Nicole SCHOTT', 'Jenni SAARINEN'), ('Anna SHCHERBAKOVA', 'Ekaterina KURAKOVA'), ('Eva-Lotta KIIBUS', 'Alexandra FEIGIN'), ('Eva-Lotta KIIBUS', 'Ekaterina KURAKOVA'), ('Loena HENDRICKX', 'Mariah BELL'), ('Olga MIKUTINA', 'Kailani CRAINE'), ('Ekaterina RYABOVA', 'Ekaterina KURAKOVA'), ('Karen CHEN', 'Jenni SAARINEN'), ('Kaori SAKAMOTO', 'Mariah BELL'), ('Kaori SAKAMOTO', 'Ekaterina KURAKOVA'), ('Olga MIKUTINA', 'Eliska BREZINOVA'), ('Karen CHEN', 'Eva-Lotta KIIBUS'), ('Loena HENDRICKX', 'Ekaterina KURAKOVA'), ('Karen CHEN', 'Loena HENDRICKX'), ('Anna SHCHERBAKOVA', 'Mariah BELL'), ('Alexandra TRUSOVA', 'Eliska BREZINOVA'), ('Madeline SCHIZAS', 'Alexandra FEIGIN'), ('Jenni SAARINEN', 'Ekaterina KURAKOVA'), ('Nicole SCHOTT', 'Alexandra FEIGIN'), ('Kaori SAKAMOTO', 'Ekaterina RYABOVA'), ('Loena HENDRICKX', 'Jenni SAARINEN'), ('Ekaterina RYABOVA', 'Alexandra FEIGIN'), ('Karen CHEN', 'Madeline SCHIZAS'), ('Loena HENDRICKX', 'Eliska BREZINOVA'), ('Nicole SCHOTT', 'Eliska BREZINOVA'), ('Karen CHEN', 'Nicole SCHOTT'), ('Kaori SAKAMOTO', 'Eva-Lotta KIIBUS'), ('Mariah BELL', 'Alexandra FEIGIN'), ('Kaori SAKAMOTO', 'Loena HENDRICKX'), ('Eva-Lotta KIIBUS', 'Jenni SAARINEN'), ('Anna SHCHERBAKOVA', 'Eva-Lotta KIIBUS'), ('Wakaba HIGUCHI', 'Karen CHEN'), ('Eva-Lotta KIIBUS', 'Eliska BREZINOVA'), ('Alexandra TRUSOVA', 'Madeline SCHIZAS'), ('Karen CHEN', 'Mariah BELL'), ('Ekaterina RYABOVA', 'Eva-Lotta KIIBUS'), ('Mariah BELL', 'Madeline SCHIZAS'), ('Wakaba HIGUCHI', 'Alexandra FEIGIN'), ('Olga MIKUTINA', 'Ekaterina KURAKOVA'), ('Kaori SAKAMOTO', 'Alexandra FEIGIN'), ('Wakaba HIGUCHI', 'Ekaterina KURAKOVA'), ('Kaori SAKAMOTO', 'Wakaba HIGUCHI'), ('Olga MIKUTINA', 'Alexandra FEIGIN'), ('Alexandra TRUSOVA', 'Jenni SAARINEN'), ('Alexandra FEIGIN', 'Ekaterina KURAKOVA'), ('Kailani CRAINE', 'Ekaterina KURAKOVA'), ('Alexandra TRUSOVA', 'Alexandra FEIGIN'), ('Kaori SAKAMOTO', 'Madeline SCHIZAS'), ('Olga MIKUTINA', 'Ekaterina RYABOVA'), ('Karen CHEN', 'Eliska BREZINOVA'), ('Mariah BELL', 'Eliska BREZINOVA'), ('Alexandra TRUSOVA', 'Eva-Lotta KIIBUS'), ('Kailani CRAINE', 'Jenni SAARINEN'), ('Anna SHCHERBAKOVA', 'Alexandra TRUSOVA'), ('Alexandra TRUSOVA', 'Karen CHEN'), ('Ekaterina RYABOVA', 'Jenni SAARINEN'), ('Kaori SAKAMOTO', 'Kailani CRAINE'), ('Wakaba HIGUCHI', 'Jenni SAARINEN'), ('Karen CHEN', 'Olga MIKUTINA'), ('Wakaba HIGUCHI', 'Eva-Lotta KIIBUS'), ('Kaori SAKAMOTO', 'Eliska BREZINOVA'), ('Madeline SCHIZAS', 'Jenni SAARINEN'), ('Madeline SCHIZAS', 'Kailani CRAINE'), ('Alexandra TRUSOVA', 'Olga MIKUTINA'), ('Mariah BELL', 'Olga MIKUTINA'), ('Kaori SAKAMOTO', 'Karen CHEN'), ('Alexandra TRUSOVA', 'Ekaterina KURAKOVA'), ('Alexandra FEIGIN', 'Kailani CRAINE'), ('Alexandra FEIGIN', 'Eliska BREZINOVA'), ('Anna SHCHERBAKOVA', 'Karen CHEN'), ('Madeline SCHIZAS', 'Nicole SCHOTT'), ('Anna SHCHERBAKOVA', 'Olga MIKUTINA'), ('Eliska BREZINOVA', 'Jenni SAARINEN'), ('Ekaterina RYABOVA', 'Nicole SCHOTT'), ('Kaori SAKAMOTO', 'Jenni SAARINEN'), ('Wakaba HIGUCHI', 'Kailani CRAINE'), ('Loena HENDRICKX', 'Ekaterina RYABOVA'), ('Alexandra TRUSOVA', 'Wakaba HIGUCHI'), ('Karen CHEN', 'Alexandra FEIGIN'), ('Anna SHCHERBAKOVA', 'Nicole SCHOTT'), ('Loena HENDRICKX', 'Olga MIKUTINA'), ('Mariah BELL', 'Nicole SCHOTT'), ('Mariah BELL', 'Ekaterina RYABOVA'), ('Anna SHCHERBAKOVA', 'Jenni SAARINEN'), ('Madeline SCHIZAS', 'Ekaterina KURAKOVA'), ('Mariah BELL', 'Jenni SAARINEN'), ('Loena HENDRICKX', 'Nicole SCHOTT'), ('Alexandra FEIGIN', 'Jenni SAARINEN'), ('Kaori SAKAMOTO', 'Nicole SCHOTT'), ('Alexandra TRUSOVA', 'Kailani CRAINE'), ('Anna SHCHERBAKOVA', 'Madeline SCHIZAS'), ('Nicole SCHOTT', 'Kailani CRAINE'), ('Mariah BELL', 'Ekaterina KURAKOVA'), ('Loena HENDRICKX', 'Eva-Lotta KIIBUS'), ('Olga MIKUTINA', 'Madeline SCHIZAS'), ('Eva-Lotta KIIBUS', 'Nicole SCHOTT'), ('Alexandra TRUSOVA', 'Nicole SCHOTT'), ('Wakaba HIGUCHI', 'Ekaterina RYABOVA'), ('Loena HENDRICKX', 'Kailani CRAINE'), ('Loena HENDRICKX', 'Madeline SCHIZAS'), ('Olga MIKUTINA', 'Eva-Lotta KIIBUS'), ('Eliska BREZINOVA', 'Ekaterina KURAKOVA'), ('Wakaba HIGUCHI', 'Olga MIKUTINA'), ('Anna SHCHERBAKOVA', 'Eliska BREZINOVA'), ('Alexandra TRUSOVA', 'Mariah BELL'), ('Eva-Lotta KIIBUS', 'Kailani CRAINE'), ('Mariah BELL', 'Eva-Lotta KIIBUS'), ('Ekaterina RYABOVA', 'Eliska BREZINOVA')}\n"
          ]
        }
      ]
    },
    {
      "cell_type": "code",
      "source": [
        "# Rerun hybrid model with large number of iterations (10000)\n",
        "baseline, event_scores, skater_scores = batch_gd(season_scores, alpha=0.0005, n_iter=10000)"
      ],
      "metadata": {
        "colab": {
          "base_uri": "https://localhost:8080/"
        },
        "id": "7w1atrSCjfoH",
        "outputId": "01b42006-a32f-4f0c-dd27-75aa808a6454"
      },
      "id": "7w1atrSCjfoH",
      "execution_count": 124,
      "outputs": [
        {
          "output_type": "stream",
          "name": "stdout",
          "text": [
            "Alpha: 0.0005, Iter: 10000, Last RMSE: 7.3, Delta RMSE: -8.247e-07\n"
          ]
        }
      ]
    },
    {
      "cell_type": "code",
      "source": [
        "baseline"
      ],
      "metadata": {
        "colab": {
          "base_uri": "https://localhost:8080/"
        },
        "id": "dID4TRJKjj31",
        "outputId": "92e67352-1bcc-4e05-bb41-ab0d76c916d9"
      },
      "id": "dID4TRJKjj31",
      "execution_count": 125,
      "outputs": [
        {
          "output_type": "execute_result",
          "data": {
            "text/plain": [
              "44.66484727210831"
            ]
          },
          "metadata": {},
          "execution_count": 125
        }
      ]
    },
    {
      "cell_type": "code",
      "source": [
        "skater_scores.head()"
      ],
      "metadata": {
        "colab": {
          "base_uri": "https://localhost:8080/"
        },
        "id": "Ug5c4as2jmzT",
        "outputId": "a7ae1826-855b-4df4-a03f-9099b570b49f"
      },
      "id": "Ug5c4as2jmzT",
      "execution_count": 126,
      "outputs": [
        {
          "output_type": "execute_result",
          "data": {
            "text/plain": [
              "Anna SHCHERBAKOVA    13.509276\n",
              "Alexandra TRUSOVA    12.933258\n",
              "Kaori SAKAMOTO       11.523581\n",
              "Alysa LIU            11.201159\n",
              "Loena HENDRICKX      11.038469\n",
              "dtype: float64"
            ]
          },
          "metadata": {},
          "execution_count": 126
        }
      ]
    },
    {
      "cell_type": "code",
      "source": [
        "event_scores"
      ],
      "metadata": {
        "colab": {
          "base_uri": "https://localhost:8080/"
        },
        "id": "oQ9tQkHVjnMj",
        "outputId": "2340c73c-066e-4127-f671-3621e62b6fef"
      },
      "id": "oQ9tQkHVjnMj",
      "execution_count": 127,
      "outputs": [
        {
          "output_type": "execute_result",
          "data": {
            "text/plain": [
              "SA     15.088406\n",
              "I      14.836066\n",
              "GP     14.534799\n",
              "RC     14.341082\n",
              "NHK    14.334084\n",
              "4C     14.321145\n",
              "SC     14.241826\n",
              "F      14.027340\n",
              "HC     13.265695\n",
              "EC     13.245664\n",
              "dtype: float64"
            ]
          },
          "metadata": {},
          "execution_count": 127
        }
      ]
    },
    {
      "cell_type": "code",
      "source": [
        "df_compare_hyb = pd.merge(season_scores, event_scores.to_frame(name='event_score'), how='left', left_on='event', right_index=True)\n",
        "df_compare_hyb = pd.merge(df_compare_hyb, skater_scores.to_frame(name='skater_score'), how='left', left_on='name', right_index=True)\n",
        "df_compare_hyb['predicted'] = baseline + df_compare_hyb['event_score'] * df_compare_hyb['skater_score']\n",
        "df_compare_hyb['residual'] = df_compare_hyb['predicted'] - df_compare_hyb['score']\n",
        "df_compare_hyb.head()"
      ],
      "metadata": {
        "colab": {
          "base_uri": "https://localhost:8080/",
          "height": 206
        },
        "id": "1VkPGpVUjqKT",
        "outputId": "eb89f704-987a-4fcc-dbd0-c0734ba1f43f"
      },
      "id": "1VkPGpVUjqKT",
      "execution_count": 128,
      "outputs": [
        {
          "output_type": "execute_result",
          "data": {
            "text/html": [
              "\n",
              "  <div id=\"df-b11e84d6-75bc-4cbb-aa5f-6d6567d08c36\">\n",
              "    <div class=\"colab-df-container\">\n",
              "      <div>\n",
              "<style scoped>\n",
              "    .dataframe tbody tr th:only-of-type {\n",
              "        vertical-align: middle;\n",
              "    }\n",
              "\n",
              "    .dataframe tbody tr th {\n",
              "        vertical-align: top;\n",
              "    }\n",
              "\n",
              "    .dataframe thead th {\n",
              "        text-align: right;\n",
              "    }\n",
              "</style>\n",
              "<table border=\"1\" class=\"dataframe\">\n",
              "  <thead>\n",
              "    <tr style=\"text-align: right;\">\n",
              "      <th></th>\n",
              "      <th>name</th>\n",
              "      <th>score</th>\n",
              "      <th>year</th>\n",
              "      <th>event</th>\n",
              "      <th>event_score</th>\n",
              "      <th>skater_score</th>\n",
              "      <th>predicted</th>\n",
              "      <th>residual</th>\n",
              "    </tr>\n",
              "  </thead>\n",
              "  <tbody>\n",
              "    <tr>\n",
              "      <th>0</th>\n",
              "      <td>Anna SHCHERBAKOVA</td>\n",
              "      <td>237.759995</td>\n",
              "      <td>2020</td>\n",
              "      <td>EC</td>\n",
              "      <td>13.245664</td>\n",
              "      <td>13.509276</td>\n",
              "      <td>223.604182</td>\n",
              "      <td>-14.155812</td>\n",
              "    </tr>\n",
              "    <tr>\n",
              "      <th>1</th>\n",
              "      <td>Alexandra TRUSOVA</td>\n",
              "      <td>225.339996</td>\n",
              "      <td>2020</td>\n",
              "      <td>EC</td>\n",
              "      <td>13.245664</td>\n",
              "      <td>12.933258</td>\n",
              "      <td>215.974447</td>\n",
              "      <td>-9.365549</td>\n",
              "    </tr>\n",
              "    <tr>\n",
              "      <th>2</th>\n",
              "      <td>Ekaterina RYABOVA</td>\n",
              "      <td>181.490005</td>\n",
              "      <td>2020</td>\n",
              "      <td>EC</td>\n",
              "      <td>13.245664</td>\n",
              "      <td>9.596608</td>\n",
              "      <td>171.778297</td>\n",
              "      <td>-9.711708</td>\n",
              "    </tr>\n",
              "    <tr>\n",
              "      <th>3</th>\n",
              "      <td>Ekaterina KURAKOVA</td>\n",
              "      <td>170.240005</td>\n",
              "      <td>2020</td>\n",
              "      <td>EC</td>\n",
              "      <td>13.245664</td>\n",
              "      <td>9.407527</td>\n",
              "      <td>169.273800</td>\n",
              "      <td>-0.966206</td>\n",
              "    </tr>\n",
              "    <tr>\n",
              "      <th>4</th>\n",
              "      <td>Nicole SCHOTT</td>\n",
              "      <td>162.259995</td>\n",
              "      <td>2020</td>\n",
              "      <td>EC</td>\n",
              "      <td>13.245664</td>\n",
              "      <td>8.660223</td>\n",
              "      <td>159.375256</td>\n",
              "      <td>-2.884738</td>\n",
              "    </tr>\n",
              "  </tbody>\n",
              "</table>\n",
              "</div>\n",
              "      <button class=\"colab-df-convert\" onclick=\"convertToInteractive('df-b11e84d6-75bc-4cbb-aa5f-6d6567d08c36')\"\n",
              "              title=\"Convert this dataframe to an interactive table.\"\n",
              "              style=\"display:none;\">\n",
              "        \n",
              "  <svg xmlns=\"http://www.w3.org/2000/svg\" height=\"24px\"viewBox=\"0 0 24 24\"\n",
              "       width=\"24px\">\n",
              "    <path d=\"M0 0h24v24H0V0z\" fill=\"none\"/>\n",
              "    <path d=\"M18.56 5.44l.94 2.06.94-2.06 2.06-.94-2.06-.94-.94-2.06-.94 2.06-2.06.94zm-11 1L8.5 8.5l.94-2.06 2.06-.94-2.06-.94L8.5 2.5l-.94 2.06-2.06.94zm10 10l.94 2.06.94-2.06 2.06-.94-2.06-.94-.94-2.06-.94 2.06-2.06.94z\"/><path d=\"M17.41 7.96l-1.37-1.37c-.4-.4-.92-.59-1.43-.59-.52 0-1.04.2-1.43.59L10.3 9.45l-7.72 7.72c-.78.78-.78 2.05 0 2.83L4 21.41c.39.39.9.59 1.41.59.51 0 1.02-.2 1.41-.59l7.78-7.78 2.81-2.81c.8-.78.8-2.07 0-2.86zM5.41 20L4 18.59l7.72-7.72 1.47 1.35L5.41 20z\"/>\n",
              "  </svg>\n",
              "      </button>\n",
              "      \n",
              "  <style>\n",
              "    .colab-df-container {\n",
              "      display:flex;\n",
              "      flex-wrap:wrap;\n",
              "      gap: 12px;\n",
              "    }\n",
              "\n",
              "    .colab-df-convert {\n",
              "      background-color: #E8F0FE;\n",
              "      border: none;\n",
              "      border-radius: 50%;\n",
              "      cursor: pointer;\n",
              "      display: none;\n",
              "      fill: #1967D2;\n",
              "      height: 32px;\n",
              "      padding: 0 0 0 0;\n",
              "      width: 32px;\n",
              "    }\n",
              "\n",
              "    .colab-df-convert:hover {\n",
              "      background-color: #E2EBFA;\n",
              "      box-shadow: 0px 1px 2px rgba(60, 64, 67, 0.3), 0px 1px 3px 1px rgba(60, 64, 67, 0.15);\n",
              "      fill: #174EA6;\n",
              "    }\n",
              "\n",
              "    [theme=dark] .colab-df-convert {\n",
              "      background-color: #3B4455;\n",
              "      fill: #D2E3FC;\n",
              "    }\n",
              "\n",
              "    [theme=dark] .colab-df-convert:hover {\n",
              "      background-color: #434B5C;\n",
              "      box-shadow: 0px 1px 3px 1px rgba(0, 0, 0, 0.15);\n",
              "      filter: drop-shadow(0px 1px 2px rgba(0, 0, 0, 0.3));\n",
              "      fill: #FFFFFF;\n",
              "    }\n",
              "  </style>\n",
              "\n",
              "      <script>\n",
              "        const buttonEl =\n",
              "          document.querySelector('#df-b11e84d6-75bc-4cbb-aa5f-6d6567d08c36 button.colab-df-convert');\n",
              "        buttonEl.style.display =\n",
              "          google.colab.kernel.accessAllowed ? 'block' : 'none';\n",
              "\n",
              "        async function convertToInteractive(key) {\n",
              "          const element = document.querySelector('#df-b11e84d6-75bc-4cbb-aa5f-6d6567d08c36');\n",
              "          const dataTable =\n",
              "            await google.colab.kernel.invokeFunction('convertToInteractive',\n",
              "                                                     [key], {});\n",
              "          if (!dataTable) return;\n",
              "\n",
              "          const docLinkHtml = 'Like what you see? Visit the ' +\n",
              "            '<a target=\"_blank\" href=https://colab.research.google.com/notebooks/data_table.ipynb>data table notebook</a>'\n",
              "            + ' to learn more about interactive tables.';\n",
              "          element.innerHTML = '';\n",
              "          dataTable['output_type'] = 'display_data';\n",
              "          await google.colab.output.renderOutput(dataTable, element);\n",
              "          const docLink = document.createElement('div');\n",
              "          docLink.innerHTML = docLinkHtml;\n",
              "          element.appendChild(docLink);\n",
              "        }\n",
              "      </script>\n",
              "    </div>\n",
              "  </div>\n",
              "  "
            ],
            "text/plain": [
              "                 name       score  year  ... skater_score   predicted   residual\n",
              "0   Anna SHCHERBAKOVA  237.759995  2020  ...    13.509276  223.604182 -14.155812\n",
              "1   Alexandra TRUSOVA  225.339996  2020  ...    12.933258  215.974447  -9.365549\n",
              "2   Ekaterina RYABOVA  181.490005  2020  ...     9.596608  171.778297  -9.711708\n",
              "3  Ekaterina KURAKOVA  170.240005  2020  ...     9.407527  169.273800  -0.966206\n",
              "4       Nicole SCHOTT  162.259995  2020  ...     8.660223  159.375256  -2.884738\n",
              "\n",
              "[5 rows x 8 columns]"
            ]
          },
          "metadata": {},
          "execution_count": 128
        }
      ]
    },
    {
      "cell_type": "code",
      "source": [
        "df_compare_hyb.loc[df_compare_hyb['name']=='Anna SHCHERBAKOVA']"
      ],
      "metadata": {
        "colab": {
          "base_uri": "https://localhost:8080/",
          "height": 488
        },
        "id": "SJuHJKmrkIqD",
        "outputId": "ad7d28ab-8bbc-44b6-c616-ad56459e84da"
      },
      "id": "SJuHJKmrkIqD",
      "execution_count": 129,
      "outputs": [
        {
          "output_type": "execute_result",
          "data": {
            "text/html": [
              "\n",
              "  <div id=\"df-f0dffb5a-9555-47a5-9381-6ee3f528c0f2\">\n",
              "    <div class=\"colab-df-container\">\n",
              "      <div>\n",
              "<style scoped>\n",
              "    .dataframe tbody tr th:only-of-type {\n",
              "        vertical-align: middle;\n",
              "    }\n",
              "\n",
              "    .dataframe tbody tr th {\n",
              "        vertical-align: top;\n",
              "    }\n",
              "\n",
              "    .dataframe thead th {\n",
              "        text-align: right;\n",
              "    }\n",
              "</style>\n",
              "<table border=\"1\" class=\"dataframe\">\n",
              "  <thead>\n",
              "    <tr style=\"text-align: right;\">\n",
              "      <th></th>\n",
              "      <th>name</th>\n",
              "      <th>score</th>\n",
              "      <th>year</th>\n",
              "      <th>event</th>\n",
              "      <th>event_score</th>\n",
              "      <th>skater_score</th>\n",
              "      <th>predicted</th>\n",
              "      <th>residual</th>\n",
              "    </tr>\n",
              "  </thead>\n",
              "  <tbody>\n",
              "    <tr>\n",
              "      <th>0</th>\n",
              "      <td>Anna SHCHERBAKOVA</td>\n",
              "      <td>237.759995</td>\n",
              "      <td>2020</td>\n",
              "      <td>EC</td>\n",
              "      <td>13.245664</td>\n",
              "      <td>13.509276</td>\n",
              "      <td>223.604182</td>\n",
              "      <td>-14.155812</td>\n",
              "    </tr>\n",
              "    <tr>\n",
              "      <th>39</th>\n",
              "      <td>Anna SHCHERBAKOVA</td>\n",
              "      <td>240.919998</td>\n",
              "      <td>2019</td>\n",
              "      <td>GP</td>\n",
              "      <td>14.534799</td>\n",
              "      <td>13.509276</td>\n",
              "      <td>241.019461</td>\n",
              "      <td>0.099463</td>\n",
              "    </tr>\n",
              "    <tr>\n",
              "      <th>56</th>\n",
              "      <td>Anna SHCHERBAKOVA</td>\n",
              "      <td>237.759995</td>\n",
              "      <td>2020</td>\n",
              "      <td>EC</td>\n",
              "      <td>13.245664</td>\n",
              "      <td>13.509276</td>\n",
              "      <td>223.604182</td>\n",
              "      <td>-14.155812</td>\n",
              "    </tr>\n",
              "    <tr>\n",
              "      <th>71</th>\n",
              "      <td>Anna SHCHERBAKOVA</td>\n",
              "      <td>229.690002</td>\n",
              "      <td>2021</td>\n",
              "      <td>F</td>\n",
              "      <td>14.027340</td>\n",
              "      <td>13.509276</td>\n",
              "      <td>234.164047</td>\n",
              "      <td>4.474044</td>\n",
              "    </tr>\n",
              "    <tr>\n",
              "      <th>85</th>\n",
              "      <td>Anna SHCHERBAKOVA</td>\n",
              "      <td>229.690002</td>\n",
              "      <td>2020</td>\n",
              "      <td>F</td>\n",
              "      <td>14.027340</td>\n",
              "      <td>13.509276</td>\n",
              "      <td>234.164047</td>\n",
              "      <td>4.474044</td>\n",
              "    </tr>\n",
              "    <tr>\n",
              "      <th>118</th>\n",
              "      <td>Anna SHCHERBAKOVA</td>\n",
              "      <td>229.690002</td>\n",
              "      <td>2021</td>\n",
              "      <td>F</td>\n",
              "      <td>14.027340</td>\n",
              "      <td>13.509276</td>\n",
              "      <td>234.164047</td>\n",
              "      <td>4.474044</td>\n",
              "    </tr>\n",
              "    <tr>\n",
              "      <th>131</th>\n",
              "      <td>Anna SHCHERBAKOVA</td>\n",
              "      <td>236.779999</td>\n",
              "      <td>2021</td>\n",
              "      <td>I</td>\n",
              "      <td>14.836066</td>\n",
              "      <td>13.509276</td>\n",
              "      <td>245.089356</td>\n",
              "      <td>8.309358</td>\n",
              "    </tr>\n",
              "    <tr>\n",
              "      <th>135</th>\n",
              "      <td>Anna SHCHERBAKOVA</td>\n",
              "      <td>237.759995</td>\n",
              "      <td>2020</td>\n",
              "      <td>EC</td>\n",
              "      <td>13.245664</td>\n",
              "      <td>13.509276</td>\n",
              "      <td>223.604182</td>\n",
              "      <td>-14.155812</td>\n",
              "    </tr>\n",
              "    <tr>\n",
              "      <th>174</th>\n",
              "      <td>Anna SHCHERBAKOVA</td>\n",
              "      <td>240.919998</td>\n",
              "      <td>2019</td>\n",
              "      <td>GP</td>\n",
              "      <td>14.534799</td>\n",
              "      <td>13.509276</td>\n",
              "      <td>241.019461</td>\n",
              "      <td>0.099463</td>\n",
              "    </tr>\n",
              "    <tr>\n",
              "      <th>191</th>\n",
              "      <td>Anna SHCHERBAKOVA</td>\n",
              "      <td>237.759995</td>\n",
              "      <td>2020</td>\n",
              "      <td>EC</td>\n",
              "      <td>13.245664</td>\n",
              "      <td>13.509276</td>\n",
              "      <td>223.604182</td>\n",
              "      <td>-14.155812</td>\n",
              "    </tr>\n",
              "    <tr>\n",
              "      <th>206</th>\n",
              "      <td>Anna SHCHERBAKOVA</td>\n",
              "      <td>229.690002</td>\n",
              "      <td>2021</td>\n",
              "      <td>F</td>\n",
              "      <td>14.027340</td>\n",
              "      <td>13.509276</td>\n",
              "      <td>234.164047</td>\n",
              "      <td>4.474044</td>\n",
              "    </tr>\n",
              "    <tr>\n",
              "      <th>220</th>\n",
              "      <td>Anna SHCHERBAKOVA</td>\n",
              "      <td>229.690002</td>\n",
              "      <td>2020</td>\n",
              "      <td>F</td>\n",
              "      <td>14.027340</td>\n",
              "      <td>13.509276</td>\n",
              "      <td>234.164047</td>\n",
              "      <td>4.474044</td>\n",
              "    </tr>\n",
              "    <tr>\n",
              "      <th>253</th>\n",
              "      <td>Anna SHCHERBAKOVA</td>\n",
              "      <td>229.690002</td>\n",
              "      <td>2021</td>\n",
              "      <td>F</td>\n",
              "      <td>14.027340</td>\n",
              "      <td>13.509276</td>\n",
              "      <td>234.164047</td>\n",
              "      <td>4.474044</td>\n",
              "    </tr>\n",
              "    <tr>\n",
              "      <th>266</th>\n",
              "      <td>Anna SHCHERBAKOVA</td>\n",
              "      <td>236.779999</td>\n",
              "      <td>2021</td>\n",
              "      <td>I</td>\n",
              "      <td>14.836066</td>\n",
              "      <td>13.509276</td>\n",
              "      <td>245.089356</td>\n",
              "      <td>8.309358</td>\n",
              "    </tr>\n",
              "  </tbody>\n",
              "</table>\n",
              "</div>\n",
              "      <button class=\"colab-df-convert\" onclick=\"convertToInteractive('df-f0dffb5a-9555-47a5-9381-6ee3f528c0f2')\"\n",
              "              title=\"Convert this dataframe to an interactive table.\"\n",
              "              style=\"display:none;\">\n",
              "        \n",
              "  <svg xmlns=\"http://www.w3.org/2000/svg\" height=\"24px\"viewBox=\"0 0 24 24\"\n",
              "       width=\"24px\">\n",
              "    <path d=\"M0 0h24v24H0V0z\" fill=\"none\"/>\n",
              "    <path d=\"M18.56 5.44l.94 2.06.94-2.06 2.06-.94-2.06-.94-.94-2.06-.94 2.06-2.06.94zm-11 1L8.5 8.5l.94-2.06 2.06-.94-2.06-.94L8.5 2.5l-.94 2.06-2.06.94zm10 10l.94 2.06.94-2.06 2.06-.94-2.06-.94-.94-2.06-.94 2.06-2.06.94z\"/><path d=\"M17.41 7.96l-1.37-1.37c-.4-.4-.92-.59-1.43-.59-.52 0-1.04.2-1.43.59L10.3 9.45l-7.72 7.72c-.78.78-.78 2.05 0 2.83L4 21.41c.39.39.9.59 1.41.59.51 0 1.02-.2 1.41-.59l7.78-7.78 2.81-2.81c.8-.78.8-2.07 0-2.86zM5.41 20L4 18.59l7.72-7.72 1.47 1.35L5.41 20z\"/>\n",
              "  </svg>\n",
              "      </button>\n",
              "      \n",
              "  <style>\n",
              "    .colab-df-container {\n",
              "      display:flex;\n",
              "      flex-wrap:wrap;\n",
              "      gap: 12px;\n",
              "    }\n",
              "\n",
              "    .colab-df-convert {\n",
              "      background-color: #E8F0FE;\n",
              "      border: none;\n",
              "      border-radius: 50%;\n",
              "      cursor: pointer;\n",
              "      display: none;\n",
              "      fill: #1967D2;\n",
              "      height: 32px;\n",
              "      padding: 0 0 0 0;\n",
              "      width: 32px;\n",
              "    }\n",
              "\n",
              "    .colab-df-convert:hover {\n",
              "      background-color: #E2EBFA;\n",
              "      box-shadow: 0px 1px 2px rgba(60, 64, 67, 0.3), 0px 1px 3px 1px rgba(60, 64, 67, 0.15);\n",
              "      fill: #174EA6;\n",
              "    }\n",
              "\n",
              "    [theme=dark] .colab-df-convert {\n",
              "      background-color: #3B4455;\n",
              "      fill: #D2E3FC;\n",
              "    }\n",
              "\n",
              "    [theme=dark] .colab-df-convert:hover {\n",
              "      background-color: #434B5C;\n",
              "      box-shadow: 0px 1px 3px 1px rgba(0, 0, 0, 0.15);\n",
              "      filter: drop-shadow(0px 1px 2px rgba(0, 0, 0, 0.3));\n",
              "      fill: #FFFFFF;\n",
              "    }\n",
              "  </style>\n",
              "\n",
              "      <script>\n",
              "        const buttonEl =\n",
              "          document.querySelector('#df-f0dffb5a-9555-47a5-9381-6ee3f528c0f2 button.colab-df-convert');\n",
              "        buttonEl.style.display =\n",
              "          google.colab.kernel.accessAllowed ? 'block' : 'none';\n",
              "\n",
              "        async function convertToInteractive(key) {\n",
              "          const element = document.querySelector('#df-f0dffb5a-9555-47a5-9381-6ee3f528c0f2');\n",
              "          const dataTable =\n",
              "            await google.colab.kernel.invokeFunction('convertToInteractive',\n",
              "                                                     [key], {});\n",
              "          if (!dataTable) return;\n",
              "\n",
              "          const docLinkHtml = 'Like what you see? Visit the ' +\n",
              "            '<a target=\"_blank\" href=https://colab.research.google.com/notebooks/data_table.ipynb>data table notebook</a>'\n",
              "            + ' to learn more about interactive tables.';\n",
              "          element.innerHTML = '';\n",
              "          dataTable['output_type'] = 'display_data';\n",
              "          await google.colab.output.renderOutput(dataTable, element);\n",
              "          const docLink = document.createElement('div');\n",
              "          docLink.innerHTML = docLinkHtml;\n",
              "          element.appendChild(docLink);\n",
              "        }\n",
              "      </script>\n",
              "    </div>\n",
              "  </div>\n",
              "  "
            ],
            "text/plain": [
              "                  name       score  year  ... skater_score   predicted   residual\n",
              "0    Anna SHCHERBAKOVA  237.759995  2020  ...    13.509276  223.604182 -14.155812\n",
              "39   Anna SHCHERBAKOVA  240.919998  2019  ...    13.509276  241.019461   0.099463\n",
              "56   Anna SHCHERBAKOVA  237.759995  2020  ...    13.509276  223.604182 -14.155812\n",
              "71   Anna SHCHERBAKOVA  229.690002  2021  ...    13.509276  234.164047   4.474044\n",
              "85   Anna SHCHERBAKOVA  229.690002  2020  ...    13.509276  234.164047   4.474044\n",
              "118  Anna SHCHERBAKOVA  229.690002  2021  ...    13.509276  234.164047   4.474044\n",
              "131  Anna SHCHERBAKOVA  236.779999  2021  ...    13.509276  245.089356   8.309358\n",
              "135  Anna SHCHERBAKOVA  237.759995  2020  ...    13.509276  223.604182 -14.155812\n",
              "174  Anna SHCHERBAKOVA  240.919998  2019  ...    13.509276  241.019461   0.099463\n",
              "191  Anna SHCHERBAKOVA  237.759995  2020  ...    13.509276  223.604182 -14.155812\n",
              "206  Anna SHCHERBAKOVA  229.690002  2021  ...    13.509276  234.164047   4.474044\n",
              "220  Anna SHCHERBAKOVA  229.690002  2020  ...    13.509276  234.164047   4.474044\n",
              "253  Anna SHCHERBAKOVA  229.690002  2021  ...    13.509276  234.164047   4.474044\n",
              "266  Anna SHCHERBAKOVA  236.779999  2021  ...    13.509276  245.089356   8.309358\n",
              "\n",
              "[14 rows x 8 columns]"
            ]
          },
          "metadata": {},
          "execution_count": 129
        }
      ]
    },
    {
      "cell_type": "code",
      "source": [
        "skater_scores = pd.DataFrame(skater_scores)\n",
        "skater_scores.columns = ['score']\n"
      ],
      "metadata": {
        "id": "Z3KtRXoTkgd2"
      },
      "id": "Z3KtRXoTkgd2",
      "execution_count": 133,
      "outputs": []
    },
    {
      "cell_type": "code",
      "source": [
        "season_ranking, world_ranking = return_ranking(skater_scores, world_scores)\n",
        "hyb_tau, hyb_concord = calculate_kendall_tau(season_ranking, world_ranking, verbose=False)\n",
        "hyb_tau, hyb_concord"
      ],
      "metadata": {
        "colab": {
          "base_uri": "https://localhost:8080/"
        },
        "id": "YzLJW1rKj6AU",
        "outputId": "603141d3-3a07-4cbf-fb71-b656e9c83e77"
      },
      "id": "YzLJW1rKj6AU",
      "execution_count": 138,
      "outputs": [
        {
          "output_type": "stream",
          "name": "stdout",
          "text": [
            "{('Anna SHCHERBAKOVA', 'Kailani CRAINE'), ('Madeline SCHIZAS', 'Eva-Lotta KIIBUS'), ('Ekaterina RYABOVA', 'Kailani CRAINE'), ('Alexandra FEIGIN', 'Olga MIKUTINA'), ('Mariah BELL', 'Kailani CRAINE'), ('Olga MIKUTINA', 'Jenni SAARINEN'), ('Alexandra TRUSOVA', 'Loena HENDRICKX'), ('Madeline SCHIZAS', 'Olga MIKUTINA'), ('Wakaba HIGUCHI', 'Madeline SCHIZAS'), ('Karen CHEN', 'Kailani CRAINE'), ('Wakaba HIGUCHI', 'Nicole SCHOTT'), ('Kaori SAKAMOTO', 'Olga MIKUTINA'), ('Mariah BELL', 'Karen CHEN'), ('Alexandra TRUSOVA', 'Ekaterina RYABOVA'), ('Madeline SCHIZAS', 'Eliska BREZINOVA'), ('Eliska BREZINOVA', 'Kailani CRAINE'), ('Wakaba HIGUCHI', 'Mariah BELL'), ('Anna SHCHERBAKOVA', 'Kaori SAKAMOTO'), ('Karen CHEN', 'Ekaterina KURAKOVA'), ('Anna SHCHERBAKOVA', 'Wakaba HIGUCHI'), ('Anna SHCHERBAKOVA', 'Alexandra FEIGIN'), ('Madeline SCHIZAS', 'Karen CHEN'), ('Ekaterina KURAKOVA', 'Alexandra FEIGIN'), ('Anna SHCHERBAKOVA', 'Ekaterina RYABOVA'), ('Karen CHEN', 'Ekaterina RYABOVA'), ('Anna SHCHERBAKOVA', 'Loena HENDRICKX'), ('Loena HENDRICKX', 'Alexandra FEIGIN'), ('Wakaba HIGUCHI', 'Eliska BREZINOVA'), ('Nicole SCHOTT', 'Jenni SAARINEN'), ('Anna SHCHERBAKOVA', 'Ekaterina KURAKOVA'), ('Eva-Lotta KIIBUS', 'Alexandra FEIGIN'), ('Loena HENDRICKX', 'Mariah BELL'), ('Loena HENDRICKX', 'Karen CHEN'), ('Ekaterina RYABOVA', 'Ekaterina KURAKOVA'), ('Karen CHEN', 'Jenni SAARINEN'), ('Kaori SAKAMOTO', 'Mariah BELL'), ('Kaori SAKAMOTO', 'Ekaterina KURAKOVA'), ('Karen CHEN', 'Eva-Lotta KIIBUS'), ('Loena HENDRICKX', 'Ekaterina KURAKOVA'), ('Anna SHCHERBAKOVA', 'Mariah BELL'), ('Alexandra TRUSOVA', 'Eliska BREZINOVA'), ('Madeline SCHIZAS', 'Alexandra FEIGIN'), ('Nicole SCHOTT', 'Alexandra FEIGIN'), ('Kaori SAKAMOTO', 'Ekaterina RYABOVA'), ('Loena HENDRICKX', 'Jenni SAARINEN'), ('Ekaterina RYABOVA', 'Alexandra FEIGIN'), ('Eliska BREZINOVA', 'Olga MIKUTINA'), ('Loena HENDRICKX', 'Eliska BREZINOVA'), ('Nicole SCHOTT', 'Eliska BREZINOVA'), ('Karen CHEN', 'Nicole SCHOTT'), ('Kaori SAKAMOTO', 'Eva-Lotta KIIBUS'), ('Mariah BELL', 'Alexandra FEIGIN'), ('Kaori SAKAMOTO', 'Loena HENDRICKX'), ('Eva-Lotta KIIBUS', 'Jenni SAARINEN'), ('Anna SHCHERBAKOVA', 'Eva-Lotta KIIBUS'), ('Wakaba HIGUCHI', 'Karen CHEN'), ('Eva-Lotta KIIBUS', 'Eliska BREZINOVA'), ('Alexandra TRUSOVA', 'Madeline SCHIZAS'), ('Ekaterina RYABOVA', 'Eva-Lotta KIIBUS'), ('Mariah BELL', 'Madeline SCHIZAS'), ('Wakaba HIGUCHI', 'Alexandra FEIGIN'), ('Kaori SAKAMOTO', 'Alexandra FEIGIN'), ('Wakaba HIGUCHI', 'Ekaterina KURAKOVA'), ('Kaori SAKAMOTO', 'Wakaba HIGUCHI'), ('Alexandra TRUSOVA', 'Jenni SAARINEN'), ('Alexandra TRUSOVA', 'Alexandra FEIGIN'), ('Kailani CRAINE', 'Olga MIKUTINA'), ('Kaori SAKAMOTO', 'Madeline SCHIZAS'), ('Ekaterina RYABOVA', 'Olga MIKUTINA'), ('Karen CHEN', 'Eliska BREZINOVA'), ('Mariah BELL', 'Eliska BREZINOVA'), ('Alexandra TRUSOVA', 'Eva-Lotta KIIBUS'), ('Ekaterina KURAKOVA', 'Nicole SCHOTT'), ('Kailani CRAINE', 'Jenni SAARINEN'), ('Anna SHCHERBAKOVA', 'Alexandra TRUSOVA'), ('Alexandra TRUSOVA', 'Karen CHEN'), ('Ekaterina RYABOVA', 'Jenni SAARINEN'), ('Kaori SAKAMOTO', 'Kailani CRAINE'), ('Wakaba HIGUCHI', 'Jenni SAARINEN'), ('Karen CHEN', 'Olga MIKUTINA'), ('Wakaba HIGUCHI', 'Eva-Lotta KIIBUS'), ('Kaori SAKAMOTO', 'Eliska BREZINOVA'), ('Ekaterina KURAKOVA', 'Eva-Lotta KIIBUS'), ('Madeline SCHIZAS', 'Jenni SAARINEN'), ('Madeline SCHIZAS', 'Kailani CRAINE'), ('Alexandra TRUSOVA', 'Olga MIKUTINA'), ('Mariah BELL', 'Olga MIKUTINA'), ('Kaori SAKAMOTO', 'Karen CHEN'), ('Alexandra TRUSOVA', 'Ekaterina KURAKOVA'), ('Alexandra FEIGIN', 'Kailani CRAINE'), ('Alexandra FEIGIN', 'Eliska BREZINOVA'), ('Ekaterina KURAKOVA', 'Olga MIKUTINA'), ('Loena HENDRICKX', 'Wakaba HIGUCHI'), ('Anna SHCHERBAKOVA', 'Karen CHEN'), ('Madeline SCHIZAS', 'Nicole SCHOTT'), ('Anna SHCHERBAKOVA', 'Olga MIKUTINA'), ('Eva-Lotta KIIBUS', 'Olga MIKUTINA'), ('Alexandra TRUSOVA', 'Kaori SAKAMOTO'), ('Eliska BREZINOVA', 'Jenni SAARINEN'), ('Ekaterina RYABOVA', 'Nicole SCHOTT'), ('Kaori SAKAMOTO', 'Jenni SAARINEN'), ('Loena HENDRICKX', 'Ekaterina RYABOVA'), ('Wakaba HIGUCHI', 'Kailani CRAINE'), ('Alexandra TRUSOVA', 'Wakaba HIGUCHI'), ('Ekaterina KURAKOVA', 'Eliska BREZINOVA'), ('Karen CHEN', 'Alexandra FEIGIN'), ('Anna SHCHERBAKOVA', 'Nicole SCHOTT'), ('Loena HENDRICKX', 'Olga MIKUTINA'), ('Ekaterina KURAKOVA', 'Jenni SAARINEN'), ('Mariah BELL', 'Nicole SCHOTT'), ('Ekaterina KURAKOVA', 'Kailani CRAINE'), ('Mariah BELL', 'Ekaterina RYABOVA'), ('Anna SHCHERBAKOVA', 'Jenni SAARINEN'), ('Madeline SCHIZAS', 'Ekaterina KURAKOVA'), ('Mariah BELL', 'Jenni SAARINEN'), ('Nicole SCHOTT', 'Olga MIKUTINA'), ('Loena HENDRICKX', 'Nicole SCHOTT'), ('Alexandra FEIGIN', 'Jenni SAARINEN'), ('Kaori SAKAMOTO', 'Nicole SCHOTT'), ('Alexandra TRUSOVA', 'Kailani CRAINE'), ('Anna SHCHERBAKOVA', 'Madeline SCHIZAS'), ('Nicole SCHOTT', 'Kailani CRAINE'), ('Mariah BELL', 'Ekaterina KURAKOVA'), ('Loena HENDRICKX', 'Eva-Lotta KIIBUS'), ('Madeline SCHIZAS', 'Ekaterina RYABOVA'), ('Eva-Lotta KIIBUS', 'Nicole SCHOTT'), ('Alexandra TRUSOVA', 'Nicole SCHOTT'), ('Loena HENDRICKX', 'Kailani CRAINE'), ('Wakaba HIGUCHI', 'Ekaterina RYABOVA'), ('Loena HENDRICKX', 'Madeline SCHIZAS'), ('Wakaba HIGUCHI', 'Olga MIKUTINA'), ('Anna SHCHERBAKOVA', 'Eliska BREZINOVA'), ('Alexandra TRUSOVA', 'Mariah BELL'), ('Eva-Lotta KIIBUS', 'Kailani CRAINE'), ('Mariah BELL', 'Eva-Lotta KIIBUS'), ('Ekaterina RYABOVA', 'Eliska BREZINOVA')}\n",
            "{('Anna SHCHERBAKOVA', 'Kailani CRAINE'), ('Madeline SCHIZAS', 'Eva-Lotta KIIBUS'), ('Ekaterina RYABOVA', 'Kailani CRAINE'), ('Wakaba HIGUCHI', 'Loena HENDRICKX'), ('Mariah BELL', 'Kailani CRAINE'), ('Olga MIKUTINA', 'Jenni SAARINEN'), ('Alexandra TRUSOVA', 'Loena HENDRICKX'), ('Wakaba HIGUCHI', 'Madeline SCHIZAS'), ('Ekaterina RYABOVA', 'Madeline SCHIZAS'), ('Nicole SCHOTT', 'Ekaterina KURAKOVA'), ('Karen CHEN', 'Kailani CRAINE'), ('Wakaba HIGUCHI', 'Nicole SCHOTT'), ('Olga MIKUTINA', 'Nicole SCHOTT'), ('Kaori SAKAMOTO', 'Olga MIKUTINA'), ('Alexandra TRUSOVA', 'Ekaterina RYABOVA'), ('Madeline SCHIZAS', 'Eliska BREZINOVA'), ('Eliska BREZINOVA', 'Kailani CRAINE'), ('Wakaba HIGUCHI', 'Mariah BELL'), ('Anna SHCHERBAKOVA', 'Kaori SAKAMOTO'), ('Karen CHEN', 'Ekaterina KURAKOVA'), ('Anna SHCHERBAKOVA', 'Wakaba HIGUCHI'), ('Anna SHCHERBAKOVA', 'Alexandra FEIGIN'), ('Anna SHCHERBAKOVA', 'Ekaterina RYABOVA'), ('Karen CHEN', 'Ekaterina RYABOVA'), ('Anna SHCHERBAKOVA', 'Loena HENDRICKX'), ('Loena HENDRICKX', 'Alexandra FEIGIN'), ('Wakaba HIGUCHI', 'Eliska BREZINOVA'), ('Kaori SAKAMOTO', 'Alexandra TRUSOVA'), ('Nicole SCHOTT', 'Jenni SAARINEN'), ('Anna SHCHERBAKOVA', 'Ekaterina KURAKOVA'), ('Eva-Lotta KIIBUS', 'Alexandra FEIGIN'), ('Eva-Lotta KIIBUS', 'Ekaterina KURAKOVA'), ('Loena HENDRICKX', 'Mariah BELL'), ('Olga MIKUTINA', 'Kailani CRAINE'), ('Ekaterina RYABOVA', 'Ekaterina KURAKOVA'), ('Karen CHEN', 'Jenni SAARINEN'), ('Kaori SAKAMOTO', 'Mariah BELL'), ('Kaori SAKAMOTO', 'Ekaterina KURAKOVA'), ('Olga MIKUTINA', 'Eliska BREZINOVA'), ('Karen CHEN', 'Eva-Lotta KIIBUS'), ('Loena HENDRICKX', 'Ekaterina KURAKOVA'), ('Karen CHEN', 'Loena HENDRICKX'), ('Anna SHCHERBAKOVA', 'Mariah BELL'), ('Alexandra TRUSOVA', 'Eliska BREZINOVA'), ('Madeline SCHIZAS', 'Alexandra FEIGIN'), ('Jenni SAARINEN', 'Ekaterina KURAKOVA'), ('Nicole SCHOTT', 'Alexandra FEIGIN'), ('Kaori SAKAMOTO', 'Ekaterina RYABOVA'), ('Loena HENDRICKX', 'Jenni SAARINEN'), ('Ekaterina RYABOVA', 'Alexandra FEIGIN'), ('Karen CHEN', 'Madeline SCHIZAS'), ('Loena HENDRICKX', 'Eliska BREZINOVA'), ('Nicole SCHOTT', 'Eliska BREZINOVA'), ('Karen CHEN', 'Nicole SCHOTT'), ('Kaori SAKAMOTO', 'Eva-Lotta KIIBUS'), ('Mariah BELL', 'Alexandra FEIGIN'), ('Kaori SAKAMOTO', 'Loena HENDRICKX'), ('Eva-Lotta KIIBUS', 'Jenni SAARINEN'), ('Anna SHCHERBAKOVA', 'Eva-Lotta KIIBUS'), ('Wakaba HIGUCHI', 'Karen CHEN'), ('Eva-Lotta KIIBUS', 'Eliska BREZINOVA'), ('Alexandra TRUSOVA', 'Madeline SCHIZAS'), ('Karen CHEN', 'Mariah BELL'), ('Ekaterina RYABOVA', 'Eva-Lotta KIIBUS'), ('Mariah BELL', 'Madeline SCHIZAS'), ('Wakaba HIGUCHI', 'Alexandra FEIGIN'), ('Olga MIKUTINA', 'Ekaterina KURAKOVA'), ('Kaori SAKAMOTO', 'Alexandra FEIGIN'), ('Wakaba HIGUCHI', 'Ekaterina KURAKOVA'), ('Kaori SAKAMOTO', 'Wakaba HIGUCHI'), ('Olga MIKUTINA', 'Alexandra FEIGIN'), ('Alexandra TRUSOVA', 'Jenni SAARINEN'), ('Alexandra FEIGIN', 'Ekaterina KURAKOVA'), ('Kailani CRAINE', 'Ekaterina KURAKOVA'), ('Alexandra TRUSOVA', 'Alexandra FEIGIN'), ('Kaori SAKAMOTO', 'Madeline SCHIZAS'), ('Olga MIKUTINA', 'Ekaterina RYABOVA'), ('Karen CHEN', 'Eliska BREZINOVA'), ('Mariah BELL', 'Eliska BREZINOVA'), ('Alexandra TRUSOVA', 'Eva-Lotta KIIBUS'), ('Kailani CRAINE', 'Jenni SAARINEN'), ('Anna SHCHERBAKOVA', 'Alexandra TRUSOVA'), ('Alexandra TRUSOVA', 'Karen CHEN'), ('Ekaterina RYABOVA', 'Jenni SAARINEN'), ('Kaori SAKAMOTO', 'Kailani CRAINE'), ('Wakaba HIGUCHI', 'Jenni SAARINEN'), ('Karen CHEN', 'Olga MIKUTINA'), ('Wakaba HIGUCHI', 'Eva-Lotta KIIBUS'), ('Kaori SAKAMOTO', 'Eliska BREZINOVA'), ('Madeline SCHIZAS', 'Jenni SAARINEN'), ('Madeline SCHIZAS', 'Kailani CRAINE'), ('Alexandra TRUSOVA', 'Olga MIKUTINA'), ('Mariah BELL', 'Olga MIKUTINA'), ('Kaori SAKAMOTO', 'Karen CHEN'), ('Alexandra TRUSOVA', 'Ekaterina KURAKOVA'), ('Alexandra FEIGIN', 'Kailani CRAINE'), ('Alexandra FEIGIN', 'Eliska BREZINOVA'), ('Anna SHCHERBAKOVA', 'Karen CHEN'), ('Madeline SCHIZAS', 'Nicole SCHOTT'), ('Anna SHCHERBAKOVA', 'Olga MIKUTINA'), ('Eliska BREZINOVA', 'Jenni SAARINEN'), ('Ekaterina RYABOVA', 'Nicole SCHOTT'), ('Kaori SAKAMOTO', 'Jenni SAARINEN'), ('Wakaba HIGUCHI', 'Kailani CRAINE'), ('Loena HENDRICKX', 'Ekaterina RYABOVA'), ('Alexandra TRUSOVA', 'Wakaba HIGUCHI'), ('Karen CHEN', 'Alexandra FEIGIN'), ('Anna SHCHERBAKOVA', 'Nicole SCHOTT'), ('Loena HENDRICKX', 'Olga MIKUTINA'), ('Mariah BELL', 'Nicole SCHOTT'), ('Mariah BELL', 'Ekaterina RYABOVA'), ('Anna SHCHERBAKOVA', 'Jenni SAARINEN'), ('Madeline SCHIZAS', 'Ekaterina KURAKOVA'), ('Mariah BELL', 'Jenni SAARINEN'), ('Loena HENDRICKX', 'Nicole SCHOTT'), ('Alexandra FEIGIN', 'Jenni SAARINEN'), ('Kaori SAKAMOTO', 'Nicole SCHOTT'), ('Alexandra TRUSOVA', 'Kailani CRAINE'), ('Anna SHCHERBAKOVA', 'Madeline SCHIZAS'), ('Nicole SCHOTT', 'Kailani CRAINE'), ('Mariah BELL', 'Ekaterina KURAKOVA'), ('Loena HENDRICKX', 'Eva-Lotta KIIBUS'), ('Olga MIKUTINA', 'Madeline SCHIZAS'), ('Eva-Lotta KIIBUS', 'Nicole SCHOTT'), ('Alexandra TRUSOVA', 'Nicole SCHOTT'), ('Wakaba HIGUCHI', 'Ekaterina RYABOVA'), ('Loena HENDRICKX', 'Kailani CRAINE'), ('Loena HENDRICKX', 'Madeline SCHIZAS'), ('Olga MIKUTINA', 'Eva-Lotta KIIBUS'), ('Eliska BREZINOVA', 'Ekaterina KURAKOVA'), ('Wakaba HIGUCHI', 'Olga MIKUTINA'), ('Anna SHCHERBAKOVA', 'Eliska BREZINOVA'), ('Alexandra TRUSOVA', 'Mariah BELL'), ('Eva-Lotta KIIBUS', 'Kailani CRAINE'), ('Mariah BELL', 'Eva-Lotta KIIBUS'), ('Ekaterina RYABOVA', 'Eliska BREZINOVA')}\n"
          ]
        },
        {
          "output_type": "execute_result",
          "data": {
            "text/plain": [
              "(0.7058823529411765, 116)"
            ]
          },
          "metadata": {},
          "execution_count": 138
        }
      ]
    }
  ],
  "metadata": {
    "colab": {
      "name": "Hybrid Model.ipynb",
      "provenance": [],
      "collapsed_sections": [],
      "include_colab_link": true
    },
    "kernelspec": {
      "display_name": "Python 3 (ipykernel)",
      "language": "python",
      "name": "python3"
    },
    "language_info": {
      "codemirror_mode": {
        "name": "ipython",
        "version": 3
      },
      "file_extension": ".py",
      "mimetype": "text/x-python",
      "name": "python",
      "nbconvert_exporter": "python",
      "pygments_lexer": "ipython3",
      "version": "3.10.1"
    }
  },
  "nbformat": 4,
  "nbformat_minor": 5
}