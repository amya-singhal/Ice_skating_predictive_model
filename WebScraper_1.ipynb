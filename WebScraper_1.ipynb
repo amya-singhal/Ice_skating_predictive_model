{
  "nbformat": 4,
  "nbformat_minor": 0,
  "metadata": {
    "colab": {
      "name": "WebScraper_1.ipynb",
      "provenance": [],
      "collapsed_sections": [],
      "include_colab_link": true
    },
    "kernelspec": {
      "name": "python3",
      "display_name": "Python 3"
    },
    "language_info": {
      "name": "python"
    }
  },
  "cells": [
    {
      "cell_type": "markdown",
      "metadata": {
        "id": "view-in-github",
        "colab_type": "text"
      },
      "source": [
        "<a href=\"https://colab.research.google.com/github/amya-singhal/Ice_skating_predictive_model/blob/main/WebScraper_1.ipynb\" target=\"_parent\"><img src=\"https://colab.research.google.com/assets/colab-badge.svg\" alt=\"Open In Colab\"/></a>"
      ]
    },
    {
      "cell_type": "code",
      "execution_count": 9,
      "metadata": {
        "id": "UwlxFcNrmlce"
      },
      "outputs": [],
      "source": [
        "import requests \n",
        "from bs4 import BeautifulSoup \n",
        "import os\n",
        "import time\n",
        "import json\n",
        "import re\n",
        "import pandas as pd\n",
        "from unicodedata import normalize"
      ]
    },
    {
      "cell_type": "code",
      "source": [
        "url = \"http://www.isuresults.com/results/season2021/gpjpn2020/data0290.htm\""
      ],
      "metadata": {
        "id": "42fohVWkmubS"
      },
      "execution_count": 10,
      "outputs": []
    },
    {
      "cell_type": "code",
      "source": [
        "headers = { \"User-Agent\": \"Mozilla/5.0 (Macintosh; Intel Mac OS X 10_13_6) AppleWebKit/537.36 (KHTML, like Gecko) Chrome/97.0.4692.71 Safari/537.36\"}"
      ],
      "metadata": {
        "id": "9x6SVdEWm1kC"
      },
      "execution_count": 11,
      "outputs": []
    },
    {
      "cell_type": "code",
      "source": [
        "def ParseHTML(url, printHTML = False):\n",
        "    r = requests.get(url,headers=headers)\n",
        "        \n",
        "    if r.status_code != 200:        \n",
        "        print(\"Page %s must have been blocked by eBay as the status code was %d\"%(url,r.status_code))\n",
        "        return None\n",
        "    \n",
        "    print(\"Successfully parsed page\")\n",
        "    soup = BeautifulSoup(r.content, features=\"lxml\")\n",
        "    \n",
        "    if (printHTML):\n",
        "        print(soup)\n",
        "    \n",
        "    return soup"
      ],
      "metadata": {
        "id": "t1LUnkUlnPkX"
      },
      "execution_count": 12,
      "outputs": []
    },
    {
      "cell_type": "code",
      "source": [
        "html = ParseHTML(url, False)\n"
      ],
      "metadata": {
        "id": "I8wl4Xw3nSgZ",
        "colab": {
          "base_uri": "https://localhost:8080/"
        },
        "outputId": "867d38a5-ce6b-4d53-afca-ea47bdd38590"
      },
      "execution_count": 13,
      "outputs": [
        {
          "output_type": "stream",
          "name": "stdout",
          "text": [
            "Successfully parsed page\n"
          ]
        }
      ]
    },
    {
      "cell_type": "code",
      "source": [
        "first_half_extracted_list = html.find_all(\"tr\",{\"class\":\"Red0\"})\n",
        "second_half_extracted_list = html.find_all(\"tr\",{\"class\":\"Red1\"})\n",
        "\n"
      ],
      "metadata": {
        "id": "GMZtiCbdnlh9"
      },
      "execution_count": 14,
      "outputs": []
    },
    {
      "cell_type": "code",
      "source": [
        "def get_name_n_score(l1,l2):\n",
        "  final_list = []\n",
        "  for i in range(0, len(first_half_extracted_list)):\n",
        "    name1 = first_half_extracted_list[i].find(\"a\") \n",
        "    score1 = first_half_extracted_list[i].find_all(\"td\")\n",
        "    final_list.append([normalize('NFKD', name1.text), score1[-1].text, ])\n",
        "\n",
        "    try:\n",
        "      name2 = second_half_extracted_list[i].find(\"a\")\n",
        "      score2 = second_half_extracted_list[i].find_all(\"td\")\n",
        "      final_list.append([normalize('NFKD', name2.text), score2[-1].text])\n",
        "    except IndexError:\n",
        "      pass\n"
      ],
      "metadata": {
        "id": "9MpXmri8pFWj"
      },
      "execution_count": 15,
      "outputs": []
    },
    {
      "cell_type": "code",
      "source": [
        "get_name_n_score(first_half_extracted_list, second_half_extracted_list)"
      ],
      "metadata": {
        "id": "t32ltdj7zRJC"
      },
      "execution_count": 16,
      "outputs": []
    }
  ]
}