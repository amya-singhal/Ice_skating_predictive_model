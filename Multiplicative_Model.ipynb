{
  "cells": [
    {
      "cell_type": "markdown",
      "metadata": {
        "id": "view-in-github",
        "colab_type": "text"
      },
      "source": [
        "<a href=\"https://colab.research.google.com/github/amya-singhal/Ice_skating_predictive_model/blob/main/Multiplicative_Model.ipynb\" target=\"_parent\"><img src=\"https://colab.research.google.com/assets/colab-badge.svg\" alt=\"Open In Colab\"/></a>"
      ]
    },
    {
      "cell_type": "code",
      "execution_count": 59,
      "id": "8896b738-f025-449e-9df8-ca9d24fcf052",
      "metadata": {
        "id": "8896b738-f025-449e-9df8-ca9d24fcf052"
      },
      "outputs": [],
      "source": [
        "import csv\n",
        "import pandas as pd\n",
        "import numpy as np\n",
        "from sklearn.linear_model import LinearRegression\n",
        "from sklearn.metrics import mean_squared_error\n",
        "from itertools import combinations\n",
        "from scipy.stats import kendalltau, norm\n",
        "from math import sqrt\n",
        "import matplotlib.pyplot as plt\n",
        "from matplotlib.patches import ConnectionPatch\n",
        "from matplotlib import rc\n",
        "import matplotlib as mpl\n",
        "import seaborn as sns\n",
        "\n",
        "plt.style.use('seaborn')\n",
        "rc('text', usetex=False)\n",
        "%matplotlib inline"
      ]
    },
    {
      "cell_type": "code",
      "execution_count": 60,
      "id": "91e1e9d2-6a4f-4339-ae01-c5e1f5109e00",
      "metadata": {
        "id": "91e1e9d2-6a4f-4339-ae01-c5e1f5109e00",
        "outputId": "d93ae103-b4dd-437a-c3c4-b7662eefcffa",
        "colab": {
          "base_uri": "https://localhost:8080/"
        }
      },
      "outputs": [
        {
          "output_type": "stream",
          "name": "stdout",
          "text": [
            "Requirement already satisfied: utils in /usr/local/lib/python3.7/dist-packages (1.0.1)\n",
            "The autoreload extension is already loaded. To reload it, use:\n",
            "  %reload_ext autoreload\n"
          ]
        }
      ],
      "source": [
        "!pip install utils\n",
        "%load_ext autoreload\n",
        "%aimport utils\n",
        "%autoreload 1\n",
        "from utils import *"
      ]
    },
    {
      "cell_type": "code",
      "execution_count": 61,
      "id": "04b0d664-cd03-4c89-b144-8d53315d667d",
      "metadata": {
        "id": "04b0d664-cd03-4c89-b144-8d53315d667d"
      },
      "outputs": [],
      "source": [
        "def add_data(skaters_list, year, comp):\n",
        "  new = []\n",
        "  for i in skaters_list:\n",
        "    new.append(i + [year, comp])\n",
        "  return new"
      ]
    },
    {
      "cell_type": "code",
      "execution_count": 62,
      "id": "f61501c8-9158-4afd-9511-e0705a0c2218",
      "metadata": {
        "id": "f61501c8-9158-4afd-9511-e0705a0c2218",
        "outputId": "6bc6e29a-3e8c-410f-d86e-7dd97c5b9aa9",
        "colab": {
          "base_uri": "https://localhost:8080/"
        }
      },
      "outputs": [
        {
          "output_type": "stream",
          "name": "stdout",
          "text": [
            "Drive already mounted at /content/drive; to attempt to forcibly remount, call drive.mount(\"/content/drive\", force_remount=True).\n"
          ]
        }
      ],
      "source": [
        "from google.colab import drive\n",
        "drive.mount('/content/drive')"
      ]
    },
    {
      "cell_type": "code",
      "execution_count": 63,
      "id": "9e2b0ffd-6318-46b4-983b-b69492fabea0",
      "metadata": {
        "id": "9e2b0ffd-6318-46b4-983b-b69492fabea0"
      },
      "outputs": [],
      "source": [
        "skaters_list = ['Kailani Craine', 'Olga Mikutina', 'Ekaterina Ryabova', 'Viktoriia Safonova', 'Loena Hendrickx', 'Alexandra Feigin', 'Madeline Schizas', 'Yi Zhu', 'Eliska Brezinova', 'Eva-Lotta Kiibus', 'Jenni Saarinen', 'Anastasiia Gubanova', 'Nicole Schott', 'Natasha McKay', 'Lara Naki Gutmann*', 'Wakaba Higuchi', 'Mana Kawabe', 'Kaori Sakamoto', 'Lindsay van Zundert', 'Ekaterina Kurakova', 'Anna Shcherbakova', 'Alexandra Trusova', 'Kamila Valieva' 'Yelim Kim', 'You Young', 'Josefin Taljegard', '\tAlexia Paganini', 'Anastasiia Shabotova', 'Mariah Bell', 'Karen Chen', 'Alysa Liu']\n",
        "# changed yelim kim and eliska brezinova\n",
        "skaters_country_dict = {'Olga Mikutina': 'Austria', 'Ekaterina Ryabova': 'Azerbaijan', 'Loena Hendrickx': 'Belgium', 'Alexandra Feigin': 'Bulgaria', 'Madeline Schizas': 'Canada', 'TBD': 'Finland', 'Eliška Březinová': 'Czech Republic', 'Nicole Schott': 'Germany', 'Natasha McKay': 'Great Britain', 'Lara Naki Gutmann*': 'Italy', 'Wakaba Higuchi': 'Japan', 'Mana Kawabe': 'Japan', 'Kaori Sakamoto': 'Japan', 'Lindsay van Zundert': 'Netherlands', 'Ekaterina Kurakova': 'Poland', 'Kim Ye-lim': 'South Korea', 'You Young': 'South Korea', 'Mariah Bell': 'United States', 'Karen Chen': 'United States', 'Alysa Liu': 'United States'}"
      ]
    },
    {
      "cell_type": "code",
      "execution_count": 64,
      "id": "979399ff-2776-4e24-be02-6e06d8261a9d",
      "metadata": {
        "id": "979399ff-2776-4e24-be02-6e06d8261a9d"
      },
      "outputs": [],
      "source": [
        "list_1=[['Alena KOSTORNAIA', '240.81'], ['Anna SHCHERBAKOVA', '237.76'], ['Alexandra TRUSOVA', '225.34'], ['Alexia PAGANINI', '192.88'], ['Emmi PELTONEN', '181.79'], ['Ekaterina RYABOVA', '181.49'], ['Eva Lotta KIIBUS', '181.24'], ['Alessia TORNAGHI', '172.17'], ['Mae Berenice MEITE', '172.08'], ['Ekaterina KURAKOVA', '170.24'], ['Maia MAZZARA', '170.06'], ['Linnea CEDER', '166.16'], ['Nicole SCHOTT', '162.26'], ['Viktoriia SAFONOVA', '159.91'], ['Alina URUSHADZE', '154.81'], ['Lea SERNA', '154.73'], ['Alexandra FEIGIN', '154.43'], ['Anita OSTLUND', '152.91'], ['Yasmine Kimiko YAMADA', '152.62'], ['Dasa GRM', '150.90'], ['Ivett TOTH', '150.36'], ['Eliska BREZINOVA', '145.35'], ['Natasha McKAY', '142.14'], ['Olga MIKUTINA', '130.15'], ['Nelli IOFFE', '51.70'], ['Aleksandra GOLOVKINA', '50.88'], ['Anastasiya GALUSTYAN', '50.08'], ['Valentina MATOS', '49.02'], ['Ema DOBOSZOVA', '46.27'], ['Angelina KUCHVALSKA', '45.09'], ['Antonina DUBININA', '43.62'], ['Sinem KUYUCU', '43.16'], ['Jenni SAARINEN', '42.61'], ['Anastasia GOZHVA', '40.49'], ['Niki WORIES', '38.19'], ['Klara STEPANOVA', '37.83'], ['Hana CVIJANOVIC', '36.22']]"
      ]
    },
    {
      "cell_type": "code",
      "execution_count": 65,
      "id": "31473ad7-a295-4f81-84dc-30b84df739c9",
      "metadata": {
        "id": "31473ad7-a295-4f81-84dc-30b84df739c9"
      },
      "outputs": [],
      "source": [
        "list_2=[['Kaetlyn OSMOND', '223.23'], ['Wakaba HIGUCHI', '210.90'], ['Satoko MIYAHARA', '210.08'], ['Carolina KOSTNER', '208.88'], ['Alina ZAGITOVA', '207.72'], ['Bradie TENNELL', '199.89'], ['Gabrielle DALEMAN', '196.72'], ['Maria SOTSKOVA', '196.61'], ['Loena HENDRICKX', '192.31'], ['Mirai NAGASU', '187.52'], ['Elizabet TURSYNBAEVA', '186.85'], ['Mariah BELL', '174.40'], ['Nicole SCHOTT', '174.13'], ['Laurine LECAVELIER', '173.23'], ['Hanul KIM', '170.68'], ['Viveca LINDFORS', '166.23'], ['Kailani CRAINE', '154.41'], ['Eliska BREZINOVA', '153.14'], ['Stanislava KONSTANTINOVA', '153.03'], ['Alexia PAGANINI', '149.66'], ['Elisabetta LECCARDI', '149.17'], ['Dasa GRM', '144.51'], ['Ivett TOTH', '136.87']]"
      ]
    },
    {
      "cell_type": "code",
      "execution_count": 66,
      "id": "35930127-eba4-41a2-97dd-9e2d59e3c37d",
      "metadata": {
        "id": "35930127-eba4-41a2-97dd-9e2d59e3c37d"
      },
      "outputs": [],
      "source": [
        "list_3=[['Alina ZAGITOVA', '238.24'], ['Evgenia MEDVEDEVA', '232.86'], ['Carolina KOSTNER', '204.25'], ['Maria SOTSKOVA', '200.81'], ['Loena HENDRICKX', '176.91'], ['Nicole RAJICOVA', '171.90'], ['Alexia PAGANINI', '161.62'], ['Mae Berenice MEITE', '159.70'], ['Emmi PELTONEN', '159.48'], ['Nicole SCHOTT', '157.84'], ['Laurine LECAVELIER', '154.11'], ['Eliska BREZINOVA', '149.69'], ['Ivett TOTH', '148.98'], ['Viveca LINDFORS', '147.89'], ['Micol CRISTINI', '147.80'], ['Lea Johanna DASTICH', '146.82'], ['Anita ÖSTLUND', '145.14'], ['Anne Line GJERSEM', '142.68'], ['Giada RUSSO', '142.38'], ['Dasa GRM', '137.31'], ['Pernille SORENSEN', '133.94'], ['Elzbieta KROPA', '133.87'], ['Anna KHNYCHENKOVA', '132.70'], ['Silvia HUGEC', '123.45']]"
      ]
    },
    {
      "cell_type": "code",
      "execution_count": 67,
      "id": "d9ddd3bd-bf01-4c40-a3d5-4e1bae0f9dc9",
      "metadata": {
        "id": "d9ddd3bd-bf01-4c40-a3d5-4e1bae0f9dc9"
      },
      "outputs": [],
      "source": [
        "list_4=[['Satoko MIYAHARA', '219.71'], ['Kaori SAKAMOTO', '213.90'], ['Sofia SAMODUROVA', '198.70'], ['Bradie TENNELL', '192.89'], ['Laurine LECAVELIER', '172.41'], ['Megan WESSENBERG', '170.33'], ['Polina TSURSKAYA', '159.45'], ['Marin HONDA', '158.04'], ['Alaine CHARTRAND', '155.49'], ['Starr ANDREWS', '150.56']]"
      ]
    },
    {
      "cell_type": "code",
      "execution_count": 68,
      "id": "fb06a422-93a3-43af-a194-0fb2e6853e54",
      "metadata": {
        "id": "fb06a422-93a3-43af-a194-0fb2e6853e54"
      },
      "outputs": [],
      "source": [
        "list_5=[['Elizaveta TUKTAMYSHEVA', '203.32'], ['Mako YAMASHITA', '203.06'], ['Evgenia MEDVEDEVA', '197.91'], ['Mariah BELL', '190.25'], ['Elizabet TURSYNBAEVA', '185.71'], ['Wakaba HIGUCHI', '181.29'], ['Starr ANDREWS', '174.72'], ['Alaine CHARTRAND', '172.17'], ['Daria PANENKOVA', '168.54'], ['Alicia PINEAULT', '158.29'], ['Yura MATSUDA', '157.59']]"
      ]
    },
    {
      "cell_type": "code",
      "execution_count": 69,
      "id": "9033c3d9-ac6b-490f-af6f-67a7fbfca8d2",
      "metadata": {
        "id": "9033c3d9-ac6b-490f-af6f-67a7fbfca8d2"
      },
      "outputs": [],
      "source": [
        "list_6=[['Alina ZAGITOVA', '215.29'], ['Stanislava KONSTANTINOVA', '197.57'], ['Kaori SAKAMOTO', '197.42'], ['Yuna SHIRAIWA', '191.46'], ['Loena HENDRICKX', '191.22'], ['Daria PANENKOVA', '161.48'], ['Hanul KIM', '160.15'], ['Viveca LINDFORS', '159.62'], ['Emmi PELTONEN', '158.72'], ['Rika HONGO', '156.59'], ['Angela WANG', '149.57']]"
      ]
    },
    {
      "cell_type": "code",
      "execution_count": 70,
      "id": "886655cc-9e9c-4857-a51b-ea619d84eaca",
      "metadata": {
        "id": "886655cc-9e9c-4857-a51b-ea619d84eaca"
      },
      "outputs": [],
      "source": [
        "list_7=[['Rika KIHIRA', '224.31'], ['Satoko MIYAHARA', '219.47'], ['Elizaveta TUKTAMYSHEVA', '219.02'], ['Mai MIHARA', '204.20'], ['Mariah BELL', '198.96'], ['Eunsoo LIM', '196.31'], ['Alena LEONOVA', '194.15'], ['Courtney HICKS', '178.07'], ['Maria SOTSKOVA', '176.99'], ['Mae Berenice MEITE', '162.58'], ['Angela WANG', '159.36'], ['Kailani CRAINE', '154.22']]"
      ]
    },
    {
      "cell_type": "code",
      "execution_count": 71,
      "id": "03848a47-cf8c-485e-8626-8f295765ddb8",
      "metadata": {
        "id": "03848a47-cf8c-485e-8626-8f295765ddb8"
      },
      "outputs": [],
      "source": [
        "list_8=[['Alina ZAGITOVA', '222.95'], ['Sofia SAMODUROVA', '198.01'], ['Eunsoo LIM', '185.67'], ['Alexia PAGANINI', '182.50'], ['Yuna SHIRAIWA', '180.93'], ['Elizabet TURSYNBAEVA', '180.45'], ['Mako YAMASHITA', '161.22'], ['Polina TSURSKAYA', '149.45'], ['Yura MATSUDA', '137.99'], ['Gracie GOLD', '\\xa0']]"
      ]
    },
    {
      "cell_type": "code",
      "execution_count": 72,
      "id": "ada4b724-8705-4523-b893-44ae3ad074eb",
      "metadata": {
        "id": "ada4b724-8705-4523-b893-44ae3ad074eb"
      },
      "outputs": [],
      "source": [
        "list_9=[['Rika KIHIRA', '205.92'], ['Mai MIHARA', '202.81'], ['Bradie TENNELL', '197.78'], ['Evgenia MEDVEDEVA', '192.81'], ['Stanislava KONSTANTINOVA', '189.67'], ['Marin HONDA', '188.61'], ['Maria SOTSKOVA', '177.59'], ['Mae Berenice MEITE', '168.02'], ['Laurine LECAVELIER', '157.24'], ['Alexia PAGANINI', '156.51'], ['Lea SERNA', '149.49'], ['Matilda ALGOTSSON', '146.35']]"
      ]
    },
    {
      "cell_type": "code",
      "execution_count": 73,
      "id": "e7e6a9fe-d75c-4dd3-847c-4b2b742b1c6f",
      "metadata": {
        "id": "e7e6a9fe-d75c-4dd3-847c-4b2b742b1c6f"
      },
      "outputs": [],
      "source": [
        "list_10=[['Rika KIHIRA', '233.12'], ['Alina ZAGITOVA', '226.53'], ['Elizaveta TUKTAMYSHEVA', '215.32'], ['Kaori SAKAMOTO', '211.68'], ['Sofia SAMODUROVA', '204.33'], ['Satoko MIYAHARA', '201.31']]"
      ]
    },
    {
      "cell_type": "code",
      "execution_count": 74,
      "id": "1b68fbbe-d606-4ddc-af61-8a4ff9884491",
      "metadata": {
        "id": "1b68fbbe-d606-4ddc-af61-8a4ff9884491"
      },
      "outputs": [],
      "source": [
        "list_11=[['Rika KIHIRA', '205.92'], ['Mai MIHARA', '202.81'], ['Bradie TENNELL', '197.78'], ['Evgenia MEDVEDEVA', '192.81'], ['Stanislava KONSTANTINOVA', '189.67'], ['Marin HONDA', '188.61'], ['Maria SOTSKOVA', '177.59'], ['Mae Berenice MEITE', '168.02'], ['Laurine LECAVELIER', '157.24'], ['Alexia PAGANINI', '156.51'], ['Lea SERNA', '149.49'], ['Matilda ALGOTSSON', '146.35']]"
      ]
    },
    {
      "cell_type": "code",
      "execution_count": 75,
      "id": "8cdf654b-9f0a-47ec-8f8e-d2ad7d382e6c",
      "metadata": {
        "id": "8cdf654b-9f0a-47ec-8f8e-d2ad7d382e6c"
      },
      "outputs": [],
      "source": [
        "list_12=[['Satoko MIYAHARA', '219.71'], ['Kaori SAKAMOTO', '213.90'], ['Sofia SAMODUROVA', '198.70'], ['Bradie TENNELL', '192.89'], ['Laurine LECAVELIER', '172.41'], ['Megan WESSENBERG', '170.33'], ['Polina TSURSKAYA', '159.45'], ['Marin HONDA', '158.04'], ['Alaine CHARTRAND', '155.49'], ['Starr ANDREWS', '150.56']]"
      ]
    },
    {
      "cell_type": "code",
      "execution_count": 76,
      "id": "39a73e5e-c621-4968-a520-75c5990f7f38",
      "metadata": {
        "id": "39a73e5e-c621-4968-a520-75c5990f7f38"
      },
      "outputs": [],
      "source": [
        "list_13=[['Alexandra TRUSOVA', '241.02'], ['Rika KIHIRA', '230.33'], ['Young YOU', '217.49'], ['Bradie TENNELL', '211.31'], ['Evgenia MEDVEDEVA', '209.62'], ['Marin HONDA', '179.26'], ['Yelim KIM', '176.93'], ['Serafima SAKHANOVICH', '175.97'], ['Alexia PAGANINI', '166.20'], ['Gabrielle DALEMAN', '164.34'], ['Alicia PINEAULT', '161.37'], ['Veronik MALLET', '147.79']]\n"
      ]
    },
    {
      "cell_type": "code",
      "execution_count": 77,
      "id": "be850e0d-e114-4a2e-9a34-c80eedb01a6f",
      "metadata": {
        "id": "be850e0d-e114-4a2e-9a34-c80eedb01a6f"
      },
      "outputs": [],
      "source": [
        "list_14=[['Alena KOSTORNAIA', '240.00'], ['Rika KIHIRA', '231.84'], ['Alina ZAGITOVA', '217.99'], ['Yuhana YOKOI', '189.54'], ['Mako YAMASHITA', '189.25'], ['Sofia SAMODUROVA', '183.27'], ['Eunsoo LIM', '172.47'], ['Starr ANDREWS', '166.72'], ['Karen CHEN', '165.70'], ['Kailani CRAINE', '165.46'], ['Mae Berenice MEITE', '159.98'], ['Megan WESSENBERG', '131.73']]\n"
      ]
    },
    {
      "cell_type": "code",
      "execution_count": 78,
      "id": "6bf81db3-d2e0-48df-8e9d-15b290e59990",
      "metadata": {
        "id": "6bf81db3-d2e0-48df-8e9d-15b290e59990"
      },
      "outputs": [],
      "source": [
        "list_15=[['Alexandra TRUSOVA', '234.47'], ['Evgenia MEDVEDEVA', '225.76'], ['Mariah BELL', '205.67'], ['Satoko MIYAHARA', '192.42'], ['Ekaterina RYABOVA', '187.77'], ['Yuhana YOKOI', '182.68'], ['Alexia PAGANINI', '179.69'], ['Hongyi CHEN', '175.77'], ['Nicole SCHOTT', '172.08'], ['Yuna SHIRAIWA', '170.03'], ['Stanislava KONSTANTINOVA', '156.94'], ['Emmi PELTONEN', '152.50']]\n"
      ]
    },
    {
      "cell_type": "code",
      "execution_count": 79,
      "id": "9fc1f35c-cb5d-47c3-bf95-20c9adb1b948",
      "metadata": {
        "id": "9fc1f35c-cb5d-47c3-bf95-20c9adb1b948"
      },
      "outputs": [],
      "source": [
        "list_16=[['Alena KOSTORNAIA', '236.00'], ['Alina ZAGITOVA', '216.06'], ['Mariah BELL', '212.89'], ['Kaori SAKAMOTO', '199.24'], ['Starr ANDREWS', '180.54'], ['Wakaba HIGUCHI', '174.12'], ['Nicole SCHOTT', '166.89'], ['Lea SERNA', '166.02'], ['Yuna SHIRAIWA', '161.71'], ['Mae Berenice MEITE', '157.45'], ['Maria SOTSKOVA', '144.89'], ['Laurine LECAVELIER', '']]\n"
      ]
    },
    {
      "cell_type": "code",
      "execution_count": 80,
      "id": "de8f6c9d-13e2-441e-b601-7c31d5a0ace3",
      "metadata": {
        "id": "de8f6c9d-13e2-441e-b601-7c31d5a0ace3"
      },
      "outputs": [],
      "source": [
        "list_17=[['Alena KOSTORNAIA', '247.59'], ['Anna SHCHERBAKOVA', '240.92'], ['Alexandra TRUSOVA', '233.18'], ['Rika KIHIRA', '216.47'], ['Bradie TENNELL', '212.18'], ['Alina ZAGITOVA', '205.23']]\n"
      ]
    },
    {
      "cell_type": "code",
      "execution_count": 81,
      "id": "aec258a4-0c92-4b3b-b851-475f4f6ebfe7",
      "metadata": {
        "id": "aec258a4-0c92-4b3b-b851-475f4f6ebfe7"
      },
      "outputs": [],
      "source": [
        "list_18=[['Alina ZAGITOVA', '237.50'], ['Elizabet TURSYNBAEVA', '224.76'], ['Evgenia MEDVEDEVA', '223.80'], ['Rika KIHIRA', '223.49'], ['Kaori SAKAMOTO', '222.83'], ['Satoko MIYAHARA', '215.95'], ['Bradie TENNELL', '213.47'], ['Sofia SAMODUROVA', '208.58'], ['Mariah BELL', '208.07'], ['Eunsoo LIM', '205.57'], ['Gabrielle DALEMAN', '192.67'], ['Loena HENDRICKX', '186.29'], ['Ekaterina RYABOVA', '179.88'], ['Yi Christy LEUNG', '177.22'], ['Laurine LECAVELIER', '170.59'], ['Nicole SCHOTT', '170.56'], ['Alexandra FEIGIN', '165.31'], ['Dasa GRM', '161.16'], ['Hongyi CHEN', '157.59'], ['Eliska BREZINOVA', '153.45'], ['Natasha MCKAY', '151.56'], ['Eva Lotta KIIBUS', '149.99'], ['Alaine CHARTRAND', '148.97'], ['Isadora WILLIAMS', '143.22'], ['Ivett TOTH', '54.87'], ['Pernille SORENSEN', '54.36'], ['Marina PIREDDA', '53.27'], ['Emmi PELTONEN', '53.22'], ['Julia SAUTER', '53.11'], ['Anita OSTLUND', '53.07'], ['Roberta RODEGHIERO', '51.50'], ['Nicole RAJICOVA', '51.22'], ['Alexia PAGANINI', '50.51'], ['Valentina MATOS', '50.25'], ['Aurora COTOP', '48.83'], ['Kailani CRAINE', '48.82'], ['Sophia SCHALLER', '48.72'], ['Elzbieta KROPA', '47.95'], ['Anastasiya GALUSTYAN', '47.75'], ['Kyarha VAN TIEL', '41.85']]\n"
      ]
    },
    {
      "cell_type": "code",
      "execution_count": 82,
      "id": "cf965d38-24c5-429d-9d80-992f9bf63ee6",
      "metadata": {
        "id": "cf965d38-24c5-429d-9d80-992f9bf63ee6"
      },
      "outputs": [],
      "source": [
        "list_19=[['Rika KIHIRA', '221.99'], ['Elizabet TURSYNBAEVA', '207.46'], ['Mai MIHARA', '207.12'], ['Kaori SAKAMOTO', '206.79'], ['Bradie TENNELL', '202.07'], ['Mariah BELL', '193.94'], ['Eunsoo LIM', '191.85'], ['Yelim KIM', '187.93'], ['Veronik MALLET', '170.46'], ['Larkyn AUSTMAN', '165.21'], ['Ting CUI', '164.84'], ['Yi Christy LEUNG', '164.79'], ['Hanul KIM', '162.48'], ['Hongyi CHEN', '150.50'], ['Kailani CRAINE', '149.52'], ['Alaine CHARTRAND', '147.54'], ['Isadora WILLIAMS', '138.26'], ['Alisson Krystle PERTICHETO', '136.97'], ['Amy LIN', '134.56'], ['Andrea MONTESINOS CANTU', '124.51'], ['Joanna SO', '117.82'], ['Brooklee HAN', '\\xa0']]\n"
      ]
    },
    {
      "cell_type": "code",
      "execution_count": 83,
      "id": "38fadd4f-eaa3-4046-9e51-38e1e4ad2938",
      "metadata": {
        "id": "38fadd4f-eaa3-4046-9e51-38e1e4ad2938"
      },
      "outputs": [],
      "source": [
        "list_20=[['Sofia SAMODUROVA', '213.84'], ['Alina ZAGITOVA', '198.34'], ['Viveca LINDFORS', '194.40'], ['Stanislava KONSTANTINOVA', '189.72'], ['Laurine LECAVELIER', '180.05'], ['Alexia PAGANINI', '179.90'], ['Mae Berenice MEITE', '177.10'], ['Emmi PELTONEN', '170.03'], ['Nicole RAJICOVA', '169.03'], ['Eliska BREZINOVA', '166.77'], ['Alexandra FEIGIN', '164.20'], ['Ekaterina RYABOVA', '163.17'], ['Ivett TOTH', '160.83'], ['Julia SAUTER', '153.15'], ['Yasmine Kimiko YAMADA', '151.12'], ['Nicole SCHOTT', '149.26'], ['Dasa GRM', '147.29'], ['Anita ÖSTLUND', '144.66'], ['Lucrezia GENNARO', '143.10'], ['Natasha MCKAY', '140.08'], ['Nathalie WEINZIERL', '134.58'], ['Anastasiya GALUSTYAN', '132.63'], ['Pernille SORENSEN', '131.78'], ['Antonina DUBININA', '120.25'], ['Elzbieta GABRYSZAK', '45.77'], ['Sophia SCHALLER', '44.20'], ['Gerli LIINAMÄE', '44.08'], ['Kyarha VAN TIEL', '44.00'], ['Lara Naki GUTMANN', '43.96'], ['Silvia HUGEC', '43.33'], ['Valentina MATOS', '42.86'], ['Paulina RAMANAUSKAITE', '42.31'], ['Camilla GJERSEM', '39.81'], ['Hana CVIJANOVIC', '38.00'], ['Elizabete JUBKANE', '37.75'], ['Anastasia GOZHVA', '35.51']]\n",
        "\n",
        "\n",
        "list_21=[['Alena KOSTORNAIA', '240.81'], ['Anna SHCHERBAKOVA', '237.76'], ['Alexandra TRUSOVA', '225.34'], ['Alexia PAGANINI', '192.88'], ['Emmi PELTONEN', '181.79'], ['Ekaterina RYABOVA', '181.49'], ['Eva Lotta KIIBUS', '181.24'], ['Alessia TORNAGHI', '172.17'], ['Mae Berenice MEITE', '172.08'], ['Ekaterina KURAKOVA', '170.24'], ['Maia MAZZARA', '170.06'], ['Linnea CEDER', '166.16'], ['Nicole SCHOTT', '162.26'], ['Viktoriia SAFONOVA', '159.91'], ['Alina URUSHADZE', '154.81'], ['Lea SERNA', '154.73'], ['Alexandra FEIGIN', '154.43'], ['Anita OSTLUND', '152.91'], ['Yasmine Kimiko YAMADA', '152.62'], ['Dasa GRM', '150.90'], ['Ivett TOTH', '150.36'], ['Eliska BREZINOVA', '145.35'], ['Natasha McKAY', '142.14'], ['Olga MIKUTINA', '130.15'], ['Nelli IOFFE', '51.70'], ['Aleksandra GOLOVKINA', '50.88'], ['Anastasiya GALUSTYAN', '50.08'], ['Valentina MATOS', '49.02'], ['Ema DOBOSZOVA', '46.27'], ['Angelina KUCHVALSKA', '45.09'], ['Antonina DUBININA', '43.62'], ['Sinem KUYUCU', '43.16'], ['Jenni SAARINEN', '42.61'], ['Anastasia GOZHVA', '40.49'], ['Niki WORIES', '38.19'], ['Klara STEPANOVA', '37.83'], ['Hana CVIJANOVIC', '36.22']]\n",
        "\n",
        "\n",
        "list_22=[['Rika KIHIRA', '232.34'], ['Young YOU', '223.23'], ['Bradie TENNELL', '222.97'], ['Wakaba HIGUCHI', '207.46'], ['Kaori SAKAMOTO', '202.79'], ['Yelim KIM', '202.76'], ['Karen CHEN', '201.06'], ['Eunsoo LIM', '200.59'], ['Amber GLENN', '190.83'], ['Alicia PINEAULT', '173.55'], ['Hongyi CHEN', '167.26'], ['Kailani CRAINE', '161.15'], ['Yi ZHU', '155.41'], ['Alison SCHUMACHER', '150.73'], ['Emily BAUSBACK', '147.23'], ['Andrea MONTESINOS CANTU', '135.24'], ['Jenny SHYU', '134.80'], ['Alisson Krystle PERTICHETO', '129.99'], ['Cheuk Ka Kahlen CHEUNG', '121.29'], ['Amy LIN', '116.97'], ['Aiza MAMBEKOVA', '107.68']]\n",
        "\n",
        "\n",
        "list_23=[['Anna SHCHERBAKOVA', '229.69'], ['Alena KOSTORNAIA', '221.85'], ['Wakaba HIGUCHI', '204.91'], ['Kseniia SINITSYNA', '198.76'], ['Karen CHEN', '194.00'], ['Mariah BELL', '190.79'], ['Ekaterina RYABOVA', '186.65'], ['Yeonjeong PARK', '186.11'], ['Yuhana YOKOI', '176.93'], ['Haein LEE', '171.32'], ['Lea SERNA', '170.33'], ['Starr ANDREWS', '']]\n",
        "\n",
        "\n",
        "list_24=[['Kaori SAKAMOTO', '229.51'], ['Wakaba HIGUCHI', '200.98'], ['Rino MATSUIKE', '198.97'], ['Mai MIHARA', '194.73'], ['Mako YAMASHITA', '186.13'], ['Mana KAWABE', '185.70'], ['Young YOU', '181.73'], ['Yuhana YOKOI', '176.49'], ['Marin HONDA', '162.57'], ['Tomoe KAWABATA', '162.24'], ['Nana ARAKI', '162.15'], ['Chisato URAMATSU', '162.14']]\n",
        "\n",
        "\n",
        "list_25=[['Mariah BELL', '212.73'], ['Bradie TENNELL', '211.07'], ['Audrey SHIN', '206.15'], ['Karen CHEN', '204.90'], ['Amber GLENN', '190.09'], ['Shan LIN', '182.11'], ['Paige RYDBERG', '178.13'], ['Starr ANDREWS', '171.70'], ['Sierra VENETTA', '170.72'], ['Pooja KALYAN', '158.95'], ['Finley HAWK', '154.25'], ['Gracie GOLD', '127.82']]\n",
        "\n",
        "\n",
        "list_27=[['Elizaveta TUKTAMYSHEVA', '223.39'], ['Alena KOSTORNAIA', '220.78'], ['Anastasiia GULIAKOVA', '199.03'], ['Alexandra TRUSOVA', '198.93'], ['Elizaveta NUGUMANOVA', '191.52'], ['Eva-Lotta KIIBUS', '186.00'], ['Sofia SAMODUROVA', '184.81'], ['Viktoriia SAFONOVA', '184.57'], ['Ekaterina RYABOVA', '167.85'], ['Alina URUSHADZE', '150.68'], ['Anastasiya GALUSTYAN', '52.06']]\n",
        "\n",
        "list_28=[['Hongyi CHEN', '186.53'], ['Angel LI', '148.33'], ['Minzhi JIN', '135.43'], ['Siyang ZHANG', '128.20'], ['Lu ZHENG', '86.48']]\n",
        "\n",
        "\n",
        "list_29=[['Anna SHCHERBAKOVA', '229.69'], ['Alena KOSTORNAIA', '221.85'], ['Wakaba HIGUCHI', '204.91'], ['Kseniia SINITSYNA', '198.76'], ['Karen CHEN', '194.00'], ['Mariah BELL', '190.79'], ['Ekaterina RYABOVA', '186.65'], ['Yeonjeong PARK', '186.11'], ['Yuhana YOKOI', '176.93'], ['Haein LEE', '171.32'], ['Lea SERNA', '170.33'], ['Starr ANDREWS', '']]\n",
        "\n",
        "\n",
        "list_30=[['Anna SHCHERBAKOVA', '233.17'], ['Elizaveta TUKTAMYSHEVA', '220.46'], ['Alexandra TRUSOVA', '217.20'], ['Karen CHEN', '208.63'], ['Loena HENDRICKX', '208.44'], ['Kaori SAKAMOTO', '207.80'], ['Rika KIHIRA', '205.70'], ['Olga MIKUTINA', '198.77'], ['Bradie TENNELL', '197.81'], ['Haein LEE', '193.44'], ['Yelim KIM', '191.78'], ['Ekaterina RYABOVA', '189.46'], ['Madeline SCHIZAS', '185.78'], ['Eva-Lotta KIIBUS', '181.47'], ['Josefin TALJEGARD', '178.10'], ['Lindsay van ZUNDERT', '174.50'], ['Alexandra FEIGIN', '173.52'], ['Nicole SCHOTT', '172.80'], ['Satoko MIYAHARA', '172.30'], ['Alina URUSHADZE', '169.01'], ['Hongyi CHEN', '162.79'], ['Eliska BREZINOVA', '155.14'], ['Natasha McKAY', '153.46'], ['Jenni SAARINEN', '146.54'], ['Alexia PAGANINI', '57.23'], ['Kailani CRAINE', '56.86'], ['Emily BAUSBACK', '55.74'], ['Lara Naki GUTMANN', '55.64'], ['Emmy MA', '55.63'], ['Julia LANG', '54.20'], ['Nelli IOFFE', '52.43'], ['Ekaterina KURAKOVA', '52.28'], ['Angelina KUCHVALSKA', '47.94'], ['Dasa GRM', '47.76'], ['Anastasiia ARKHIPOVA', '45.07'], ['Emilea ZINGAS', '43.20'], ['Elzbieta KROPA', '41.31'], ['Mae Berenice MEITE', ''], ['Yi Christy LEUNG', '']]\n",
        "\n",
        "\n",
        "list_31=[['Kaori SAKAMOTO', '223.34'], ['Mana KAWABE', '205.44'], ['Young YOU', '203.60'], ['Alysa LIU', '202.90'], ['Eunsoo LIM', '186.68'], ['Rino MATSUIKE', '186.17'], ['Amber GLENN', '175.83'], ['Nicole SCHOTT', '172.37'], ['Seoyeong WI', '170.54'], ['Daria USACHEVA', '']]\n",
        "\n",
        "\n",
        "list_32=[['Alexandra TRUSOVA', '232.37'], ['Daria USACHEVA', '217.31'], ['Young YOU', '216.97'], ['Kaori SAKAMOTO', '215.93'], ['Kseniia SINITSYNA', '205.76'], ['Amber GLENN', '201.02'], ['Satoko MIYAHARA', '200.51'], ['Yelim KIM', '199.34'], ['Ekaterina KURAKOVA', '188.60'], ['Starr ANDREWS', '177.63'], ['Yuhana YOKOI', '174.07'], ['Audrey SHIN', '160.78']]\n",
        "\n",
        "\n",
        "list_33=[['Kamila VALIEVA', '265.08'], ['Elizaveta TUKTAMYSHEVA', '232.88'], ['Alena KOSTORNAIA', '214.54'], ['Mai MIHARA', '210.01'], ['Alysa LIU', '206.53'], ['Wakaba HIGUCHI', '205.27'], ['Haein LEE', '190.00'], ['Madeline SCHIZAS', '186.56'], ['Mana KAWABE', '186.52'], ['Karen CHEN', '183.41'], ['Emily BAUSBACK', '159.88'], ['Alison SCHUMACHER', '151.19']]\n",
        "\n",
        "\n",
        "list_34=[['Anna SHCHERBAKOVA', '229.69'], ['Alena KOSTORNAIA', '221.85'], ['Wakaba HIGUCHI', '204.91'], ['Kseniia SINITSYNA', '198.76'], ['Karen CHEN', '194.00'], ['Mariah BELL', '190.79'], ['Ekaterina RYABOVA', '186.65'], ['Yeonjeong PARK', '186.11'], ['Yuhana YOKOI', '176.93'], ['Haein LEE', '171.32'], ['Lea SERNA', '170.33'], ['Starr ANDREWS', '']]\n",
        "\n",
        "\n",
        "list_35=[['Kamila VALIEVA', '272.71'], ['Elizaveta TUKTAMYSHEVA', '229.23'], ['Maiia KHROMYKH', '219.69'], ['Mariah BELL', '210.35'], ['Loena HENDRICKX', '203.69'], ['Madeline SCHIZAS', '192.14'], ['Viktoriia SAFONOVA', '185.64'], ['Rino MATSUIKE', '184.36'], ['Ekaterina KURAKOVA', '175.64'], ['Ekaterina RYABOVA', '175.24'], ['Eva-Lotta KIIBUS', '163.11'], ['Olga MIKUTINA', '161.09']]\n",
        "\n",
        "\n",
        "list_36=[['Anna SHCHERBAKOVA', '236.78'], ['Maiia KHROMYKH', '226.35'], ['Loena HENDRICKX', '219.05'], ['Mai MIHARA', '214.95'], ['Satoko MIYAHARA', '209.57'], ['Yelim KIM', '193.50'], ['Sofia SAMODUROVA', '180.59'], ['Eunsoo LIM', '179.58'], ['Yi ZHU', '171.25'], ['Nicole SCHOTT', '167.20'], ['Lara Naki GUTMANN', '158.57'], ['Lucrezia BECCARI', '148.29']]\n"
      ]
    },
    {
      "cell_type": "code",
      "execution_count": 84,
      "id": "2491939b-9c9b-436f-8efd-c61d2b280ee4",
      "metadata": {
        "id": "2491939b-9c9b-436f-8efd-c61d2b280ee4"
      },
      "outputs": [],
      "source": [
        "list_1 = add_data(list_1, '2020', 'EC')\n",
        "list_2 = add_data(list_2, '2018', 'WC')\n",
        "list_3 = add_data(list_3, '2018', 'EC')\n",
        "list_4 = add_data(list_4, '2018', 'SA')\n",
        "list_5 = add_data(list_5, '2018', 'SC')\n",
        "list_6 = add_data(list_6, '2018', 'HC')\n",
        "list_7 = add_data(list_7, '2018', 'NHK')\n",
        "list_8 = add_data(list_8, '2018', 'RC')\n",
        "list_9 = add_data(list_9, '2018', 'F')\n",
        "list_10 = add_data(list_10, '2018', 'GP')\n",
        "list_11 = add_data(list_11, '2019', 'F')\n",
        "list_12 = add_data(list_12, '2019', 'SA')\n",
        "list_13 = add_data(list_13,\"2019\",\"SC\")\n",
        "list_14 = add_data(list_14,\"2019\",\"NHK\")\n",
        "list_15 = add_data(list_15,\"2019\",\"RC\")\n",
        "list_16 = add_data(list_16,\"2019\",\"F\")\n",
        "list_17 = add_data(list_17,\"2019\",\"GP\")\n",
        "list_18 = add_data(list_18,\"2019\",\"WC\")\n",
        "list_19 = add_data(list_19,\"2019\",\"4C\")\n",
        "list_20 = add_data(list_20,\"2019\",\"EC\")\n",
        "list_21 = add_data(list_21,\"2020\",\"EC\")\n",
        "list_22 = add_data(list_22,\"2020\",\"4C\")\n",
        "list_23 = add_data(list_23,\"2021\",\"F\")\n",
        "list_24 = add_data(list_24,\"2020\",\"NHK\")\n",
        "list_25 = add_data(list_25, \"2020\", \"SA\")\n",
        "list_27 = add_data(list_27, \"2020\", \"RC\")\n",
        "list_28 = add_data(list_28, \"2020\", \"CC\")\n",
        "list_29 = add_data(list_29, \"2020\", \"F\")\n",
        "list_30 = add_data(list_30, \"2021\", \"WC\")\n",
        "list_31 = add_data(list_31, \"2021\", \"NHK\")\n",
        "list_32 = add_data(list_32, \"2021\", \"SA\")\n",
        "list_33 = add_data(list_33, \"2021\", \"SC\")\n",
        "list_34 = add_data(list_34, \"2021\", \"F\")\n",
        "list_35 = add_data(list_35, \"2021\", \"SC\")\n",
        "list_36 = add_data(list_36, \"2021\", \"I\")"
      ]
    },
    {
      "cell_type": "code",
      "execution_count": 85,
      "id": "3a839a34-dcc4-4fc9-8795-d5f32fe79eec",
      "metadata": {
        "id": "3a839a34-dcc4-4fc9-8795-d5f32fe79eec"
      },
      "outputs": [],
      "source": [
        "final_list= list_1+list_2+list_3+list_4+list_5+list_6+list_7+list_8+list_9+list_10+list_11+list_12+list_13+list_14+list_15+list_16+list_17+list_18+list_19+list_20+list_21+list_22+list_23+list_24+list_25+list_27+list_28+list_29+list_30+list_31+list_32+list_33+list_34+list_35+list_36\n"
      ]
    },
    {
      "cell_type": "code",
      "execution_count": 86,
      "id": "7f2f255b-86de-4794-b8de-93dcb8a7d440",
      "metadata": {
        "id": "7f2f255b-86de-4794-b8de-93dcb8a7d440"
      },
      "outputs": [],
      "source": [
        "with open('ice_skating.csv','w') as f:\n",
        "    for row in final_list:\n",
        "        for x in row:\n",
        "          if x == row[-1]:\n",
        "            f.write(str(x))\n",
        "          else:\n",
        "            f.write(str(x) + ',')\n",
        "        f.write('\\n')"
      ]
    },
    {
      "cell_type": "code",
      "execution_count": 87,
      "id": "d2300d60-69e6-4c99-8e0d-625b8b62e1e2",
      "metadata": {
        "id": "d2300d60-69e6-4c99-8e0d-625b8b62e1e2"
      },
      "outputs": [],
      "source": [
        "trimmed_list = []\n",
        "with open('ice_skating.csv', 'r') as file:\n",
        "    reader = csv.reader(file)\n",
        "    for row in reader:\n",
        "      if row[0].title() in skaters_list:\n",
        "        trimmed_list.append(row) "
      ]
    },
    {
      "cell_type": "code",
      "execution_count": 88,
      "id": "2ffabccb-9998-4f22-9bf3-4ef2e9e794e3",
      "metadata": {
        "id": "2ffabccb-9998-4f22-9bf3-4ef2e9e794e3"
      },
      "outputs": [],
      "source": [
        "with open('trimmed_ice_skating.csv','w') as f:\n",
        "  csvwriter = csv.writer(f, delimiter=',')\n",
        "  csvwriter.writerow(['name','score','year','event'])\n",
        "  csvwriter.writerows(trimmed_list)\n",
        "  \n",
        "  for row in trimmed_list:\n",
        "      for x in row:\n",
        "        if x == row[-1]:\n",
        "          f.write(str(x))\n",
        "        else :\n",
        "          f.write(str(x) + ',')\n",
        "      f.write('\\n')      "
      ]
    },
    {
      "cell_type": "code",
      "execution_count": 89,
      "id": "5b482b8d-3cd5-4e84-aadc-0978180d2f00",
      "metadata": {
        "id": "5b482b8d-3cd5-4e84-aadc-0978180d2f00"
      },
      "outputs": [],
      "source": [
        "with open('trimmed_ice_skating.csv','r') as f:\n",
        "  data = f.read()"
      ]
    },
    {
      "cell_type": "code",
      "execution_count": 90,
      "id": "c71e004f-42b1-45f5-8ba4-ab1fdc853f53",
      "metadata": {
        "id": "c71e004f-42b1-45f5-8ba4-ab1fdc853f53"
      },
      "outputs": [],
      "source": [
        "ice_skating_final = pd.read_csv('trimmed_ice_skating.csv')\n",
        "ice_skating_final[\"score\"] = pd.to_numeric(ice_skating_final[\"score\"], downcast=\"float\")"
      ]
    },
    {
      "cell_type": "code",
      "execution_count": 91,
      "id": "9e16b8db-d198-4c5c-9e88-3ce4fa84a458",
      "metadata": {
        "id": "9e16b8db-d198-4c5c-9e88-3ce4fa84a458",
        "outputId": "de453702-d930-42ac-efd5-60cce1696032",
        "colab": {
          "base_uri": "https://localhost:8080/"
        }
      },
      "outputs": [
        {
          "output_type": "execute_result",
          "data": {
            "text/plain": [
              "([2018, 2019, 2020], [2021])"
            ]
          },
          "metadata": {},
          "execution_count": 91
        }
      ],
      "source": [
        "years_before_last = range(2018, 2021)\n",
        "# year_seed = np.random.RandomState(seed=42)\n",
        "train_years = [2018,2019,2020]\n",
        "test_years = [2021]\n",
        "train_years, test_years"
      ]
    },
    {
      "cell_type": "code",
      "execution_count": 92,
      "id": "2f72df56-bb8c-4b19-8e68-49dac3f1e9c2",
      "metadata": {
        "id": "2f72df56-bb8c-4b19-8e68-49dac3f1e9c2"
      },
      "outputs": [],
      "source": [
        "def train_test_split(scores, train_years, test_years):\n",
        "    ''' Take all scores (for either male and female) \n",
        "    and split them into 4 different tables: \n",
        "    1. Season scores for training years\n",
        "    2. World scores for training years\n",
        "    3. Season scores for testing years\n",
        "    4. World scores for testing years\n",
        "    '''\n",
        "    season_scores = scores.loc[scores['event']!='WC']\n",
        "    world_scores = scores.loc[scores['event']=='WC']\n",
        "    \n",
        "    season_train = season_scores.loc[season_scores['year'].isin(train_years)]\n",
        "    world_train = world_scores.loc[world_scores['year'].isin(train_years)]\n",
        "    season_test = season_scores.loc[season_scores['year'].isin(test_years)]\n",
        "    world_test = world_scores.loc[world_scores['year'].isin(test_years)]    \n",
        "    \n",
        "    return season_scores, world_scores, season_train, world_train, season_test, world_test"
      ]
    },
    {
      "cell_type": "code",
      "execution_count": 93,
      "id": "ad3040f2-7013-462b-a372-69e90eae604c",
      "metadata": {
        "id": "ad3040f2-7013-462b-a372-69e90eae604c",
        "outputId": "fb325602-6e93-4579-c3ee-fa781f38055b",
        "colab": {
          "base_uri": "https://localhost:8080/"
        }
      },
      "outputs": [
        {
          "output_type": "stream",
          "name": "stdout",
          "text": [
            "                   name       score  year event\n",
            "0     Anna SHCHERBAKOVA  237.759995  2020    EC\n",
            "1     Alexandra TRUSOVA  225.339996  2020    EC\n",
            "2     Ekaterina RYABOVA  181.490005  2020    EC\n",
            "3    Ekaterina KURAKOVA  170.240005  2020    EC\n",
            "4         Nicole SCHOTT  162.259995  2020    EC\n",
            "..                  ...         ...   ...   ...\n",
            "265       Olga MIKUTINA  161.089996  2021    SC\n",
            "266   Anna SHCHERBAKOVA  236.779999  2021     I\n",
            "267     Loena HENDRICKX  219.050003  2021     I\n",
            "268              Yi ZHU  171.250000  2021     I\n",
            "269       Nicole SCHOTT  167.199997  2021     I\n",
            "\n",
            "[210 rows x 4 columns]\n"
          ]
        }
      ],
      "source": [
        "season_scores, world_scores,season_train, world_train, season_test, world_test = train_test_split(ice_skating_final, train_years, test_years)\n",
        "season_train.shape, world_train.shape, season_test.shape, world_test.shape\n",
        "print (season_scores)"
      ]
    },
    {
      "cell_type": "code",
      "execution_count": 94,
      "id": "f113c208-2750-49a4-b519-48ff5395c85b",
      "metadata": {
        "id": "f113c208-2750-49a4-b519-48ff5395c85b"
      },
      "outputs": [],
      "source": [
        "def return_ranking(skater_scores, world_scores):\n",
        "    '''\n",
        "    Return predicted ranking and world rankings (as lists)\n",
        "    from Series of corresponding scores.\n",
        "    The reason why both rankings are returned at once is because\n",
        "    not all skaters in the season will participate in the world championship,\n",
        "    and vice versa. Therefore, only skaters who participated in both\n",
        "    will be of interest.    \n",
        "    '''\n",
        "    skater_scores= skater_scores.sort_values('score',ascending= False)\n",
        "    world_scores = world_scores.sort_values('score',ascending= False)\n",
        "    skater_ranking = list(skater_scores.index.intersection(world_scores.index))\n",
        "    print (skater_ranking)\n",
        "    world_ranking = list(world_scores.index.intersection(skater_scores.index))\n",
        "    print (world_ranking)\n",
        "    return skater_ranking, world_ranking"
      ]
    },
    {
      "cell_type": "code",
      "execution_count": 95,
      "id": "0a961f31-73d8-4f7b-a112-0524a2ad67ea",
      "metadata": {
        "id": "0a961f31-73d8-4f7b-a112-0524a2ad67ea"
      },
      "outputs": [],
      "source": [
        "def calculate_kendall_tau(skater_ranking, world_ranking, verbose=True):\n",
        "    '''\n",
        "    Caluculate kendall's tau from two ranking lists of the same size\n",
        "    '''\n",
        "    # Generate set of ordered pairs from each ranking\n",
        "    skater_pairs = set(combinations(skater_ranking, 2))\n",
        "    print(skater_pairs)\n",
        "    world_pairs = set(combinations(world_ranking, 2))\n",
        "    print(world_pairs)\n",
        "    # Calculate number of total, concordant & discordant pairs and tau\n",
        "    n_pairs = len(skater_pairs)\n",
        "    n_concordant_pairs = len(skater_pairs & world_pairs)\n",
        "    \n",
        "    if verbose:\n",
        "        print(f'There are {n_concordant_pairs} concordant_pairs out of {n_pairs} pairs')\n",
        "        \n",
        "    # Calculate Kendall's tau from pair counts\n",
        "    tau = (2 * n_concordant_pairs - n_pairs) / n_pairs\n",
        "    return tau "
      ]
    },
    {
      "cell_type": "code",
      "execution_count": 96,
      "id": "62c1c64f-dc1e-40c5-928b-bfd1f4472c16",
      "metadata": {
        "id": "62c1c64f-dc1e-40c5-928b-bfd1f4472c16",
        "outputId": "526ba6f7-559d-47d6-8991-09e4cbe39219",
        "colab": {
          "base_uri": "https://localhost:8080/"
        }
      },
      "outputs": [
        {
          "output_type": "stream",
          "name": "stdout",
          "text": [
            "                         score         year\n",
            "name                                       \n",
            "Anna SHCHERBAKOVA   234.612854  2020.285714\n",
            "Alexandra TRUSOVA   227.235718  2019.714286\n",
            "Kaori SAKAMOTO      211.449997  2019.300000\n",
            "Alysa LIU           204.714996  2021.000000\n",
            "Mariah BELL         199.716003  2019.600000\n",
            "Wakaba HIGUCHI      197.981247  2020.000000\n",
            "Loena HENDRICKX     197.717499  2019.500000\n",
            "Mana KAWABE         192.553329  2020.666667\n",
            "Karen CHEN          191.009995  2020.285714\n",
            "Madeline SCHIZAS    189.350006  2021.000000\n",
            "Ekaterina RYABOVA   179.662216  2020.111111\n",
            "Ekaterina KURAKOVA  176.180008  2020.500000\n",
            "Eva-Lotta KIIBUS    174.554993  2020.500000\n",
            "Viktoriia SAFONOVA  172.507507  2020.250000\n",
            "Nicole SCHOTT       163.769989  2019.625000\n",
            "Yi ZHU              163.330002  2020.500000\n",
            "Alexandra FEIGIN    157.686661  2019.666667\n",
            "Kailani CRAINE      157.587494  2019.000000\n",
            "Eliska BREZINOVA    151.790009  2019.250000\n",
            "Olga MIKUTINA       140.463333  2020.333333\n",
            "Jenni SAARINEN       42.610001  2020.000000\n",
            "\n",
            "                         score         year\n",
            "name                                       \n",
            "Anna SHCHERBAKOVA   233.169998  2021.000000\n",
            "Alexandra TRUSOVA   217.199997  2021.000000\n",
            "Kaori SAKAMOTO      215.315002  2020.000000\n",
            "Wakaba HIGUCHI      210.899994  2018.000000\n",
            "Karen CHEN          208.630005  2021.000000\n",
            "Olga MIKUTINA       198.770004  2021.000000\n",
            "Loena HENDRICKX     195.679993  2019.333333\n",
            "Mariah BELL         191.235001  2018.500000\n",
            "Madeline SCHIZAS    185.779999  2021.000000\n",
            "Ekaterina RYABOVA   184.670013  2020.000000\n",
            "Eva-Lotta KIIBUS    181.470001  2021.000000\n",
            "Josefin TALJEGARD   178.100006  2021.000000\n",
            "Nicole SCHOTT       172.496674  2019.333333\n",
            "Alexandra FEIGIN    169.415009  2020.000000\n",
            "Eliska BREZINOVA    153.910004  2019.333333\n",
            "Jenni SAARINEN      146.539993  2021.000000\n",
            "Kailani CRAINE       86.696671  2019.333333\n",
            "Ekaterina KURAKOVA   52.279999  2021.000000\n"
          ]
        }
      ],
      "source": [
        "season_avg = season_scores.groupby(['name']).mean().sort_values('score',ascending=False)\n",
        "world_avg = world_scores.groupby(['name']).mean().sort_values('score',ascending=False)\n",
        "print (season_avg)\n",
        "print ()\n",
        "print (world_avg)\n",
        "season_avg.head()\n",
        "season_avg.to_csv('ice_skating_final.csv')"
      ]
    },
    {
      "cell_type": "code",
      "execution_count": 97,
      "id": "6a4d0691-9662-4599-830b-79826851fd8d",
      "metadata": {
        "id": "6a4d0691-9662-4599-830b-79826851fd8d",
        "outputId": "9ce3ada5-be6c-473e-8341-5025c261f2e8",
        "colab": {
          "base_uri": "https://localhost:8080/"
        }
      },
      "outputs": [
        {
          "output_type": "stream",
          "name": "stdout",
          "text": [
            "['Anna SHCHERBAKOVA', 'Alexandra TRUSOVA', 'Kaori SAKAMOTO', 'Mariah BELL', 'Wakaba HIGUCHI', 'Loena HENDRICKX', 'Karen CHEN', 'Madeline SCHIZAS', 'Ekaterina RYABOVA', 'Ekaterina KURAKOVA', 'Eva-Lotta KIIBUS', 'Nicole SCHOTT', 'Alexandra FEIGIN', 'Kailani CRAINE', 'Eliska BREZINOVA', 'Olga MIKUTINA', 'Jenni SAARINEN']\n",
            "['Anna SHCHERBAKOVA', 'Alexandra TRUSOVA', 'Kaori SAKAMOTO', 'Wakaba HIGUCHI', 'Karen CHEN', 'Olga MIKUTINA', 'Loena HENDRICKX', 'Mariah BELL', 'Madeline SCHIZAS', 'Ekaterina RYABOVA', 'Eva-Lotta KIIBUS', 'Nicole SCHOTT', 'Alexandra FEIGIN', 'Eliska BREZINOVA', 'Jenni SAARINEN', 'Kailani CRAINE', 'Ekaterina KURAKOVA']\n",
            "{('Ekaterina KURAKOVA', 'Jenni SAARINEN'), ('Anna SHCHERBAKOVA', 'Ekaterina RYABOVA'), ('Loena HENDRICKX', 'Eliska BREZINOVA'), ('Eva-Lotta KIIBUS', 'Alexandra FEIGIN'), ('Ekaterina RYABOVA', 'Kailani CRAINE'), ('Eva-Lotta KIIBUS', 'Nicole SCHOTT'), ('Wakaba HIGUCHI', 'Ekaterina RYABOVA'), ('Alexandra TRUSOVA', 'Wakaba HIGUCHI'), ('Alexandra FEIGIN', 'Eliska BREZINOVA'), ('Karen CHEN', 'Madeline SCHIZAS'), ('Ekaterina KURAKOVA', 'Nicole SCHOTT'), ('Kailani CRAINE', 'Eliska BREZINOVA'), ('Anna SHCHERBAKOVA', 'Loena HENDRICKX'), ('Loena HENDRICKX', 'Alexandra FEIGIN'), ('Mariah BELL', 'Loena HENDRICKX'), ('Mariah BELL', 'Ekaterina RYABOVA'), ('Anna SHCHERBAKOVA', 'Kailani CRAINE'), ('Loena HENDRICKX', 'Madeline SCHIZAS'), ('Ekaterina RYABOVA', 'Eliska BREZINOVA'), ('Kaori SAKAMOTO', 'Madeline SCHIZAS'), ('Mariah BELL', 'Karen CHEN'), ('Wakaba HIGUCHI', 'Madeline SCHIZAS'), ('Madeline SCHIZAS', 'Ekaterina KURAKOVA'), ('Kaori SAKAMOTO', 'Olga MIKUTINA'), ('Karen CHEN', 'Alexandra FEIGIN'), ('Karen CHEN', 'Nicole SCHOTT'), ('Madeline SCHIZAS', 'Eliska BREZINOVA'), ('Mariah BELL', 'Jenni SAARINEN'), ('Madeline SCHIZAS', 'Eva-Lotta KIIBUS'), ('Kaori SAKAMOTO', 'Eliska BREZINOVA'), ('Ekaterina KURAKOVA', 'Eliska BREZINOVA'), ('Anna SHCHERBAKOVA', 'Eliska BREZINOVA'), ('Kaori SAKAMOTO', 'Eva-Lotta KIIBUS'), ('Loena HENDRICKX', 'Ekaterina RYABOVA'), ('Ekaterina RYABOVA', 'Alexandra FEIGIN'), ('Madeline SCHIZAS', 'Alexandra FEIGIN'), ('Karen CHEN', 'Jenni SAARINEN'), ('Eliska BREZINOVA', 'Olga MIKUTINA'), ('Alexandra TRUSOVA', 'Kailani CRAINE'), ('Karen CHEN', 'Eliska BREZINOVA'), ('Kaori SAKAMOTO', 'Wakaba HIGUCHI'), ('Madeline SCHIZAS', 'Ekaterina RYABOVA'), ('Alexandra TRUSOVA', 'Nicole SCHOTT'), ('Mariah BELL', 'Nicole SCHOTT'), ('Anna SHCHERBAKOVA', 'Olga MIKUTINA'), ('Alexandra TRUSOVA', 'Kaori SAKAMOTO'), ('Ekaterina RYABOVA', 'Eva-Lotta KIIBUS'), ('Karen CHEN', 'Ekaterina KURAKOVA'), ('Ekaterina KURAKOVA', 'Olga MIKUTINA'), ('Kailani CRAINE', 'Jenni SAARINEN'), ('Anna SHCHERBAKOVA', 'Alexandra TRUSOVA'), ('Alexandra TRUSOVA', 'Madeline SCHIZAS'), ('Kaori SAKAMOTO', 'Kailani CRAINE'), ('Alexandra TRUSOVA', 'Karen CHEN'), ('Wakaba HIGUCHI', 'Nicole SCHOTT'), ('Madeline SCHIZAS', 'Olga MIKUTINA'), ('Ekaterina KURAKOVA', 'Kailani CRAINE'), ('Alexandra TRUSOVA', 'Jenni SAARINEN'), ('Ekaterina KURAKOVA', 'Eva-Lotta KIIBUS'), ('Anna SHCHERBAKOVA', 'Eva-Lotta KIIBUS'), ('Loena HENDRICKX', 'Olga MIKUTINA'), ('Anna SHCHERBAKOVA', 'Madeline SCHIZAS'), ('Alexandra TRUSOVA', 'Mariah BELL'), ('Mariah BELL', 'Ekaterina KURAKOVA'), ('Eva-Lotta KIIBUS', 'Eliska BREZINOVA'), ('Wakaba HIGUCHI', 'Kailani CRAINE'), ('Nicole SCHOTT', 'Kailani CRAINE'), ('Wakaba HIGUCHI', 'Jenni SAARINEN'), ('Anna SHCHERBAKOVA', 'Wakaba HIGUCHI'), ('Mariah BELL', 'Alexandra FEIGIN'), ('Kaori SAKAMOTO', 'Loena HENDRICKX'), ('Kaori SAKAMOTO', 'Ekaterina RYABOVA'), ('Alexandra TRUSOVA', 'Loena HENDRICKX'), ('Eva-Lotta KIIBUS', 'Olga MIKUTINA'), ('Wakaba HIGUCHI', 'Karen CHEN'), ('Nicole SCHOTT', 'Olga MIKUTINA'), ('Loena HENDRICKX', 'Eva-Lotta KIIBUS'), ('Ekaterina RYABOVA', 'Jenni SAARINEN'), ('Mariah BELL', 'Olga MIKUTINA'), ('Alexandra FEIGIN', 'Kailani CRAINE'), ('Wakaba HIGUCHI', 'Loena HENDRICKX'), ('Alexandra TRUSOVA', 'Ekaterina KURAKOVA'), ('Loena HENDRICKX', 'Ekaterina KURAKOVA'), ('Nicole SCHOTT', 'Alexandra FEIGIN'), ('Alexandra FEIGIN', 'Olga MIKUTINA'), ('Ekaterina RYABOVA', 'Nicole SCHOTT'), ('Alexandra TRUSOVA', 'Eva-Lotta KIIBUS'), ('Karen CHEN', 'Ekaterina RYABOVA'), ('Kailani CRAINE', 'Olga MIKUTINA'), ('Alexandra TRUSOVA', 'Alexandra FEIGIN'), ('Mariah BELL', 'Wakaba HIGUCHI'), ('Anna SHCHERBAKOVA', 'Karen CHEN'), ('Madeline SCHIZAS', 'Kailani CRAINE'), ('Nicole SCHOTT', 'Eliska BREZINOVA'), ('Eliska BREZINOVA', 'Jenni SAARINEN'), ('Mariah BELL', 'Kailani CRAINE'), ('Anna SHCHERBAKOVA', 'Kaori SAKAMOTO'), ('Wakaba HIGUCHI', 'Ekaterina KURAKOVA'), ('Anna SHCHERBAKOVA', 'Jenni SAARINEN'), ('Ekaterina RYABOVA', 'Ekaterina KURAKOVA'), ('Karen CHEN', 'Eva-Lotta KIIBUS'), ('Mariah BELL', 'Madeline SCHIZAS'), ('Alexandra TRUSOVA', 'Eliska BREZINOVA'), ('Kaori SAKAMOTO', 'Karen CHEN'), ('Wakaba HIGUCHI', 'Eva-Lotta KIIBUS'), ('Karen CHEN', 'Kailani CRAINE'), ('Loena HENDRICKX', 'Karen CHEN'), ('Madeline SCHIZAS', 'Jenni SAARINEN'), ('Kaori SAKAMOTO', 'Ekaterina KURAKOVA'), ('Ekaterina KURAKOVA', 'Alexandra FEIGIN'), ('Anna SHCHERBAKOVA', 'Alexandra FEIGIN'), ('Wakaba HIGUCHI', 'Alexandra FEIGIN'), ('Kaori SAKAMOTO', 'Mariah BELL'), ('Anna SHCHERBAKOVA', 'Nicole SCHOTT'), ('Kaori SAKAMOTO', 'Jenni SAARINEN'), ('Anna SHCHERBAKOVA', 'Mariah BELL'), ('Kaori SAKAMOTO', 'Alexandra FEIGIN'), ('Karen CHEN', 'Olga MIKUTINA'), ('Loena HENDRICKX', 'Jenni SAARINEN'), ('Mariah BELL', 'Eliska BREZINOVA'), ('Anna SHCHERBAKOVA', 'Ekaterina KURAKOVA'), ('Loena HENDRICKX', 'Kailani CRAINE'), ('Nicole SCHOTT', 'Jenni SAARINEN'), ('Olga MIKUTINA', 'Jenni SAARINEN'), ('Mariah BELL', 'Eva-Lotta KIIBUS'), ('Alexandra TRUSOVA', 'Ekaterina RYABOVA'), ('Wakaba HIGUCHI', 'Olga MIKUTINA'), ('Madeline SCHIZAS', 'Nicole SCHOTT'), ('Kaori SAKAMOTO', 'Nicole SCHOTT'), ('Eva-Lotta KIIBUS', 'Jenni SAARINEN'), ('Loena HENDRICKX', 'Nicole SCHOTT'), ('Eva-Lotta KIIBUS', 'Kailani CRAINE'), ('Wakaba HIGUCHI', 'Eliska BREZINOVA'), ('Alexandra FEIGIN', 'Jenni SAARINEN'), ('Alexandra TRUSOVA', 'Olga MIKUTINA'), ('Ekaterina RYABOVA', 'Olga MIKUTINA')}\n",
            "{('Anna SHCHERBAKOVA', 'Ekaterina RYABOVA'), ('Loena HENDRICKX', 'Eliska BREZINOVA'), ('Eva-Lotta KIIBUS', 'Alexandra FEIGIN'), ('Jenni SAARINEN', 'Ekaterina KURAKOVA'), ('Ekaterina RYABOVA', 'Kailani CRAINE'), ('Eva-Lotta KIIBUS', 'Nicole SCHOTT'), ('Wakaba HIGUCHI', 'Ekaterina RYABOVA'), ('Alexandra TRUSOVA', 'Wakaba HIGUCHI'), ('Alexandra FEIGIN', 'Eliska BREZINOVA'), ('Karen CHEN', 'Madeline SCHIZAS'), ('Anna SHCHERBAKOVA', 'Loena HENDRICKX'), ('Alexandra FEIGIN', 'Ekaterina KURAKOVA'), ('Loena HENDRICKX', 'Alexandra FEIGIN'), ('Mariah BELL', 'Ekaterina RYABOVA'), ('Anna SHCHERBAKOVA', 'Kailani CRAINE'), ('Loena HENDRICKX', 'Madeline SCHIZAS'), ('Ekaterina RYABOVA', 'Eliska BREZINOVA'), ('Kaori SAKAMOTO', 'Madeline SCHIZAS'), ('Wakaba HIGUCHI', 'Madeline SCHIZAS'), ('Madeline SCHIZAS', 'Ekaterina KURAKOVA'), ('Kaori SAKAMOTO', 'Olga MIKUTINA'), ('Karen CHEN', 'Alexandra FEIGIN'), ('Karen CHEN', 'Nicole SCHOTT'), ('Madeline SCHIZAS', 'Eliska BREZINOVA'), ('Mariah BELL', 'Jenni SAARINEN'), ('Madeline SCHIZAS', 'Eva-Lotta KIIBUS'), ('Kaori SAKAMOTO', 'Eliska BREZINOVA'), ('Anna SHCHERBAKOVA', 'Eliska BREZINOVA'), ('Kaori SAKAMOTO', 'Eva-Lotta KIIBUS'), ('Loena HENDRICKX', 'Ekaterina RYABOVA'), ('Ekaterina RYABOVA', 'Alexandra FEIGIN'), ('Madeline SCHIZAS', 'Alexandra FEIGIN'), ('Eliska BREZINOVA', 'Ekaterina KURAKOVA'), ('Olga MIKUTINA', 'Ekaterina RYABOVA'), ('Karen CHEN', 'Jenni SAARINEN'), ('Alexandra TRUSOVA', 'Kailani CRAINE'), ('Karen CHEN', 'Eliska BREZINOVA'), ('Kaori SAKAMOTO', 'Wakaba HIGUCHI'), ('Madeline SCHIZAS', 'Ekaterina RYABOVA'), ('Alexandra TRUSOVA', 'Nicole SCHOTT'), ('Mariah BELL', 'Nicole SCHOTT'), ('Anna SHCHERBAKOVA', 'Olga MIKUTINA'), ('Alexandra TRUSOVA', 'Kaori SAKAMOTO'), ('Ekaterina RYABOVA', 'Eva-Lotta KIIBUS'), ('Olga MIKUTINA', 'Alexandra FEIGIN'), ('Karen CHEN', 'Ekaterina KURAKOVA'), ('Anna SHCHERBAKOVA', 'Alexandra TRUSOVA'), ('Alexandra TRUSOVA', 'Madeline SCHIZAS'), ('Kaori SAKAMOTO', 'Kailani CRAINE'), ('Alexandra TRUSOVA', 'Karen CHEN'), ('Olga MIKUTINA', 'Eva-Lotta KIIBUS'), ('Wakaba HIGUCHI', 'Mariah BELL'), ('Wakaba HIGUCHI', 'Nicole SCHOTT'), ('Olga MIKUTINA', 'Eliska BREZINOVA'), ('Alexandra TRUSOVA', 'Jenni SAARINEN'), ('Olga MIKUTINA', 'Ekaterina KURAKOVA'), ('Anna SHCHERBAKOVA', 'Eva-Lotta KIIBUS'), ('Anna SHCHERBAKOVA', 'Madeline SCHIZAS'), ('Alexandra TRUSOVA', 'Mariah BELL'), ('Mariah BELL', 'Ekaterina KURAKOVA'), ('Eva-Lotta KIIBUS', 'Eliska BREZINOVA'), ('Wakaba HIGUCHI', 'Kailani CRAINE'), ('Nicole SCHOTT', 'Kailani CRAINE'), ('Wakaba HIGUCHI', 'Jenni SAARINEN'), ('Anna SHCHERBAKOVA', 'Wakaba HIGUCHI'), ('Mariah BELL', 'Alexandra FEIGIN'), ('Kaori SAKAMOTO', 'Loena HENDRICKX'), ('Kaori SAKAMOTO', 'Ekaterina RYABOVA'), ('Alexandra TRUSOVA', 'Loena HENDRICKX'), ('Kailani CRAINE', 'Ekaterina KURAKOVA'), ('Wakaba HIGUCHI', 'Karen CHEN'), ('Loena HENDRICKX', 'Eva-Lotta KIIBUS'), ('Ekaterina RYABOVA', 'Jenni SAARINEN'), ('Olga MIKUTINA', 'Mariah BELL'), ('Jenni SAARINEN', 'Kailani CRAINE'), ('Alexandra FEIGIN', 'Kailani CRAINE'), ('Wakaba HIGUCHI', 'Loena HENDRICKX'), ('Loena HENDRICKX', 'Mariah BELL'), ('Alexandra TRUSOVA', 'Ekaterina KURAKOVA'), ('Loena HENDRICKX', 'Ekaterina KURAKOVA'), ('Nicole SCHOTT', 'Alexandra FEIGIN'), ('Ekaterina RYABOVA', 'Nicole SCHOTT'), ('Karen CHEN', 'Loena HENDRICKX'), ('Alexandra TRUSOVA', 'Eva-Lotta KIIBUS'), ('Karen CHEN', 'Ekaterina RYABOVA'), ('Eva-Lotta KIIBUS', 'Ekaterina KURAKOVA'), ('Alexandra TRUSOVA', 'Alexandra FEIGIN'), ('Karen CHEN', 'Mariah BELL'), ('Anna SHCHERBAKOVA', 'Karen CHEN'), ('Madeline SCHIZAS', 'Kailani CRAINE'), ('Nicole SCHOTT', 'Eliska BREZINOVA'), ('Eliska BREZINOVA', 'Jenni SAARINEN'), ('Mariah BELL', 'Kailani CRAINE'), ('Eliska BREZINOVA', 'Kailani CRAINE'), ('Anna SHCHERBAKOVA', 'Kaori SAKAMOTO'), ('Wakaba HIGUCHI', 'Ekaterina KURAKOVA'), ('Anna SHCHERBAKOVA', 'Jenni SAARINEN'), ('Ekaterina RYABOVA', 'Ekaterina KURAKOVA'), ('Nicole SCHOTT', 'Ekaterina KURAKOVA'), ('Karen CHEN', 'Eva-Lotta KIIBUS'), ('Olga MIKUTINA', 'Loena HENDRICKX'), ('Olga MIKUTINA', 'Nicole SCHOTT'), ('Mariah BELL', 'Madeline SCHIZAS'), ('Alexandra TRUSOVA', 'Eliska BREZINOVA'), ('Kaori SAKAMOTO', 'Karen CHEN'), ('Wakaba HIGUCHI', 'Eva-Lotta KIIBUS'), ('Karen CHEN', 'Kailani CRAINE'), ('Madeline SCHIZAS', 'Jenni SAARINEN'), ('Kaori SAKAMOTO', 'Ekaterina KURAKOVA'), ('Anna SHCHERBAKOVA', 'Alexandra FEIGIN'), ('Wakaba HIGUCHI', 'Alexandra FEIGIN'), ('Kaori SAKAMOTO', 'Mariah BELL'), ('Anna SHCHERBAKOVA', 'Nicole SCHOTT'), ('Kaori SAKAMOTO', 'Jenni SAARINEN'), ('Anna SHCHERBAKOVA', 'Mariah BELL'), ('Kaori SAKAMOTO', 'Alexandra FEIGIN'), ('Karen CHEN', 'Olga MIKUTINA'), ('Loena HENDRICKX', 'Jenni SAARINEN'), ('Mariah BELL', 'Eliska BREZINOVA'), ('Anna SHCHERBAKOVA', 'Ekaterina KURAKOVA'), ('Loena HENDRICKX', 'Kailani CRAINE'), ('Nicole SCHOTT', 'Jenni SAARINEN'), ('Olga MIKUTINA', 'Jenni SAARINEN'), ('Olga MIKUTINA', 'Kailani CRAINE'), ('Mariah BELL', 'Eva-Lotta KIIBUS'), ('Alexandra TRUSOVA', 'Ekaterina RYABOVA'), ('Wakaba HIGUCHI', 'Olga MIKUTINA'), ('Madeline SCHIZAS', 'Nicole SCHOTT'), ('Kaori SAKAMOTO', 'Nicole SCHOTT'), ('Eva-Lotta KIIBUS', 'Jenni SAARINEN'), ('Olga MIKUTINA', 'Madeline SCHIZAS'), ('Loena HENDRICKX', 'Nicole SCHOTT'), ('Eva-Lotta KIIBUS', 'Kailani CRAINE'), ('Wakaba HIGUCHI', 'Eliska BREZINOVA'), ('Alexandra FEIGIN', 'Jenni SAARINEN'), ('Alexandra TRUSOVA', 'Olga MIKUTINA')}\n",
            "There are 114 concordant_pairs out of 136 pairs\n"
          ]
        },
        {
          "output_type": "execute_result",
          "data": {
            "text/plain": [
              "0.6764705882352942"
            ]
          },
          "metadata": {},
          "execution_count": 97
        }
      ],
      "source": [
        "avg_ranking, world_ranking = return_ranking(season_avg, world_avg)\n",
        "\n",
        "avg_kendall_tau = calculate_kendall_tau(avg_ranking, world_ranking)\n",
        "avg_kendall_tau"
      ]
    },
    {
      "cell_type": "code",
      "execution_count": 98,
      "id": "d7b2d3aa-64a2-4704-bc55-ab3e26207c5f",
      "metadata": {
        "id": "d7b2d3aa-64a2-4704-bc55-ab3e26207c5f",
        "outputId": "98368a12-042e-4511-a0f9-04c5379d22d7",
        "colab": {
          "base_uri": "https://localhost:8080/"
        }
      },
      "outputs": [
        {
          "output_type": "execute_result",
          "data": {
            "text/plain": [
              "KendalltauResult(correlation=0.676470588235294, pvalue=5.18722751399025e-05)"
            ]
          },
          "metadata": {},
          "execution_count": 98
        }
      ],
      "source": [
        "season_numeric_rank = list(range(len(avg_ranking)))\n",
        "world_numeric_rank = [avg_ranking.index(skater) for skater in world_ranking]\n",
        "kendalltau(season_numeric_rank, world_numeric_rank)"
      ]
    },
    {
      "cell_type": "code",
      "execution_count": 99,
      "id": "2338b45e-a406-46eb-8ebf-fb2409567af4",
      "metadata": {
        "id": "2338b45e-a406-46eb-8ebf-fb2409567af4",
        "outputId": "4a4f2ecd-a061-4165-dcf3-eb0d0e79496b",
        "colab": {
          "base_uri": "https://localhost:8080/"
        }
      },
      "outputs": [
        {
          "output_type": "execute_result",
          "data": {
            "text/plain": [
              "9.721671398241694"
            ]
          },
          "metadata": {},
          "execution_count": 99
        }
      ],
      "source": [
        "score_comparison = pd.merge(season_scores, season_avg, left_on='name', right_index=True, suffixes=['', '_avg'])\n",
        "score_comparison['sq_error'] = (score_comparison['score'] - score_comparison['score_avg'])**2\n",
        "np.sqrt(score_comparison['sq_error'].mean())"
      ]
    },
    {
      "cell_type": "code",
      "execution_count": 100,
      "id": "f7c385e9-a51d-4143-b404-d0d7c07aa78e",
      "metadata": {
        "id": "f7c385e9-a51d-4143-b404-d0d7c07aa78e"
      },
      "outputs": [],
      "source": [
        "dummies = pd.get_dummies(season_scores[['name', 'event']], prefix=['', ''], prefix_sep='', drop_first=True)\n",
        "unique_skaters = season_scores['name'].unique()\n",
        "unique_events = season_scores['event'].unique()\n",
        "\n",
        "dummies_skater_count = len(unique_skaters) - 1\n",
        "dummies_skaters = dummies.columns[:dummies_skater_count]\n",
        "dummies_events = dummies.columns[dummies_skater_count:]\n",
        "\n",
        "dropped_skater = list(set(unique_skaters) - set(dummies_skaters))[0]\n",
        "dropped_event = list(set(unique_events) - set(dummies_events))[0]"
      ]
    },
    {
      "cell_type": "code",
      "execution_count": 101,
      "id": "e64419f3-2abb-4406-b544-a1bb281b66e7",
      "metadata": {
        "id": "e64419f3-2abb-4406-b544-a1bb281b66e7",
        "outputId": "8068ccf5-fc16-4085-85e6-bd42406d56f4",
        "colab": {
          "base_uri": "https://localhost:8080/"
        }
      },
      "outputs": [
        {
          "output_type": "stream",
          "name": "stdout",
          "text": [
            "[237.76 225.34 181.49 170.24 162.26 159.91 154.43 145.35 130.15  42.61\n",
            " 176.91 157.84 149.69 213.9  190.25 181.29 197.42 191.22 198.96 154.22\n",
            " 211.68 213.9  241.02 165.7  165.46 234.47 205.67 187.77 172.08 212.89\n",
            " 199.24 174.12 166.89 240.92 233.18 206.79 193.94 149.52 166.77 164.2\n",
            " 163.17 149.26 237.76 225.34 181.49 170.24 162.26 159.91 154.43 145.35\n",
            " 130.15  42.61 207.46 202.79 201.06 161.15 155.41 229.69 204.91 194.\n",
            " 190.79 186.65 229.51 200.98 185.7  212.73 204.9  198.93 186.   184.57\n",
            " 167.85 229.69 204.91 194.   190.79 186.65 223.34 205.44 202.9  172.37\n",
            " 232.37 215.93 188.6  206.53 205.27 186.56 186.52 183.41 229.69 204.91\n",
            " 194.   190.79 186.65 210.35 203.69 192.14 185.64 175.64 175.24 163.11\n",
            " 161.09 236.78 219.05 171.25 167.2  237.76 225.34 181.49 170.24 162.26\n",
            " 159.91 154.43 145.35 130.15  42.61 176.91 157.84 149.69 213.9  190.25\n",
            " 181.29 197.42 191.22 198.96 154.22 211.68 213.9  241.02 165.7  165.46\n",
            " 234.47 205.67 187.77 172.08 212.89 199.24 174.12 166.89 240.92 233.18\n",
            " 206.79 193.94 149.52 166.77 164.2  163.17 149.26 237.76 225.34 181.49\n",
            " 170.24 162.26 159.91 154.43 145.35 130.15  42.61 207.46 202.79 201.06\n",
            " 161.15 155.41 229.69 204.91 194.   190.79 186.65 229.51 200.98 185.7\n",
            " 212.73 204.9  198.93 186.   184.57 167.85 229.69 204.91 194.   190.79\n",
            " 186.65 223.34 205.44 202.9  172.37 232.37 215.93 188.6  206.53 205.27\n",
            " 186.56 186.52 183.41 229.69 204.91 194.   190.79 186.65 210.35 203.69\n",
            " 192.14 185.64 175.64 175.24 163.11 161.09 236.78 219.05 171.25 167.2 ]\n"
          ]
        },
        {
          "output_type": "execute_result",
          "data": {
            "text/plain": [
              "array([ 167.79056449,   60.9518312 ,   35.51979791,   68.77295196,\n",
              "         11.46653397,   15.98050933,   -5.89599609,    7.39298573,\n",
              "       -115.07600403,  -11.74131002])"
            ]
          },
          "metadata": {},
          "execution_count": 101
        }
      ],
      "source": [
        "X = dummies.values\n",
        "y = season_scores['score'].values\n",
        "print(y)\n",
        "# Append column of all 1's to the left of feature matrix\n",
        "X = np.insert(X, obj=0, values=1, axis=1)\n",
        "\n",
        "# Apply normal equation to find linear regression coefficients (including intercept)\n",
        "coefs_linear = np.linalg.inv(X.T @ X) @ (X.T @ y)\n",
        "coefs_linear[:10]"
      ]
    },
    {
      "cell_type": "code",
      "execution_count": 102,
      "id": "170b4120-a375-4915-a81f-2623c996b423",
      "metadata": {
        "id": "170b4120-a375-4915-a81f-2623c996b423",
        "outputId": "5dfaf2a6-1856-4c75-82f0-a2850a3e1673",
        "colab": {
          "base_uri": "https://localhost:8080/"
        }
      },
      "outputs": [
        {
          "output_type": "execute_result",
          "data": {
            "text/plain": [
              "8.593198370238037"
            ]
          },
          "metadata": {},
          "execution_count": 102
        }
      ],
      "source": [
        "linear_rmse = np.sqrt(np.mean((y - X @ coefs_linear)**2))\n",
        "linear_rmse"
      ]
    },
    {
      "cell_type": "code",
      "execution_count": 103,
      "id": "19630bb3-b134-440e-ae6b-fbdfd504fc51",
      "metadata": {
        "id": "19630bb3-b134-440e-ae6b-fbdfd504fc51",
        "outputId": "d745ec22-3a8e-4230-8851-e040c182ae6a",
        "colab": {
          "base_uri": "https://localhost:8080/"
        }
      },
      "outputs": [
        {
          "output_type": "execute_result",
          "data": {
            "text/plain": [
              "(array([ 167.79179231,   60.95104746,   35.51892172,   68.77214685,\n",
              "          11.46578622,   15.97974431,   -5.89665604,    7.39219   ,\n",
              "        -115.07666016,  -11.74237633]), 0.0)"
            ]
          },
          "metadata": {},
          "execution_count": 103
        }
      ],
      "source": [
        "lin = LinearRegression(fit_intercept=False)\n",
        "lin.fit(X, y)\n",
        "lin.coef_[:10], lin.intercept_"
      ]
    },
    {
      "cell_type": "code",
      "execution_count": 104,
      "id": "92c572fe-1a66-4c08-8d61-20d789b0941f",
      "metadata": {
        "id": "92c572fe-1a66-4c08-8d61-20d789b0941f",
        "outputId": "4469d3e2-1502-4baf-953b-e46c32391224",
        "colab": {
          "base_uri": "https://localhost:8080/"
        }
      },
      "outputs": [
        {
          "output_type": "execute_result",
          "data": {
            "text/plain": [
              "8.593198368897761"
            ]
          },
          "metadata": {},
          "execution_count": 104
        }
      ],
      "source": [
        "np.sqrt(mean_squared_error(y, X @ lin.coef_))\n"
      ]
    },
    {
      "cell_type": "code",
      "execution_count": 105,
      "id": "e19ec61a-b509-4898-80c8-e19b691a0710",
      "metadata": {
        "id": "e19ec61a-b509-4898-80c8-e19b691a0710",
        "outputId": "5ec8a83d-658e-4bf9-9555-44d71bfd677d",
        "colab": {
          "base_uri": "https://localhost:8080/"
        }
      },
      "outputs": [
        {
          "output_type": "stream",
          "name": "stdout",
          "text": [
            "                         score\n",
            "Anna SHCHERBAKOVA    68.772952\n",
            "Alexandra TRUSOVA    60.951831\n",
            "Kaori SAKAMOTO       41.459034\n",
            "Alysa LIU            35.519798\n",
            "Loena HENDRICKX      33.442148\n",
            "Mariah BELL          31.542621\n",
            "Wakaba HIGUCHI       30.609426\n",
            "Mana KAWABE          22.800865\n",
            "Karen CHEN           22.282564\n",
            "Madeline SCHIZAS     21.826653\n",
            "Ekaterina RYABOVA    15.980509\n",
            "Ekaterina KURAKOVA   11.466534\n",
            "Viktoriia SAFONOVA   10.083502\n",
            "Eva-Lotta KIIBUS      7.392986\n",
            "Nicole SCHOTT         0.051015\n",
            "Alexandra FEIGIN      0.000000\n",
            "Eliska BREZINOVA     -5.895996\n",
            "Yi ZHU               -8.076594\n",
            "Kailani CRAINE      -11.741310\n",
            "Olga MIKUTINA       -20.501793\n",
            "Jenni SAARINEN     -115.076004\n"
          ]
        }
      ],
      "source": [
        "# Extract baseline, skater, and event scores from regression coefficients\n",
        "baseline_score = coefs_linear[0]\n",
        "skater_scores = pd.Series(coefs_linear[1:dummies_skater_count+1], index=dummies_skaters)\n",
        "event_scores = pd.Series(coefs_linear[dummies_skater_count+1:], index=dummies_events)\n",
        "\n",
        "'''\n",
        "print(type(skater_scores))\n",
        "\n",
        "skater_scores = pd.Series(skater_scores, name = '')\n",
        "skater_scores = skater_scores.to_frame()\n",
        "'''\n",
        "\n",
        "# Add back scores of dropped skater and dropped event\n",
        "skater_scores[dropped_skater] = 0\n",
        "event_scores[dropped_event] = 0\n",
        "\n",
        "skater_scores = pd.DataFrame(skater_scores)\n",
        "skater_scores.columns = ['score']\n",
        "\n",
        "# Sort skater scores and event scores from highest to lowest\n",
        "skater_scores.sort_values('score', ascending=False, inplace=True)\n",
        "event_scores.sort_values(ascending=False, inplace=True)\n",
        "\n",
        "#skater_scores.index.name = 'name'\n",
        "#skater_scores.reset_index(inplace = True)\n",
        "#skater_scores.rename(columns={skater_scores.index.name: \"name\"})\n",
        "print(skater_scores)"
      ]
    },
    {
      "cell_type": "code",
      "source": [
        "baseline_score"
      ],
      "metadata": {
        "id": "Cok0BXoSjJI7",
        "outputId": "1f378a72-d8b5-4ab7-bdfb-69bede6c0e01",
        "colab": {
          "base_uri": "https://localhost:8080/"
        }
      },
      "id": "Cok0BXoSjJI7",
      "execution_count": 106,
      "outputs": [
        {
          "output_type": "execute_result",
          "data": {
            "text/plain": [
              "167.7905644912763"
            ]
          },
          "metadata": {},
          "execution_count": 106
        }
      ]
    },
    {
      "cell_type": "code",
      "source": [
        "event_scores"
      ],
      "metadata": {
        "id": "HGWCJQzAjLyb",
        "outputId": "b3336a9d-c937-4256-8d04-bb3f115af4d6",
        "colab": {
          "base_uri": "https://localhost:8080/"
        }
      },
      "id": "HGWCJQzAjLyb",
      "execution_count": 107,
      "outputs": [
        {
          "output_type": "execute_result",
          "data": {
            "text/plain": [
              "SA      8.167908\n",
              "I       7.232062\n",
              "GP      3.741486\n",
              "NHK     3.076479\n",
              "4C      0.000000\n",
              "SC     -0.267211\n",
              "RC     -0.989904\n",
              "F      -1.473002\n",
              "EC    -10.104560\n",
              "HC    -10.921148\n",
              "dtype: float64"
            ]
          },
          "metadata": {},
          "execution_count": 107
        }
      ]
    },
    {
      "cell_type": "code",
      "source": [
        "#skater_scores.reset_index()\n",
        "print(skater_scores)"
      ],
      "metadata": {
        "id": "fOb3uTQwjNZI",
        "outputId": "8d1aac15-ba8b-4a9b-b2d7-c2bb6d9fd39a",
        "colab": {
          "base_uri": "https://localhost:8080/"
        }
      },
      "id": "fOb3uTQwjNZI",
      "execution_count": 108,
      "outputs": [
        {
          "output_type": "stream",
          "name": "stdout",
          "text": [
            "                         score\n",
            "Anna SHCHERBAKOVA    68.772952\n",
            "Alexandra TRUSOVA    60.951831\n",
            "Kaori SAKAMOTO       41.459034\n",
            "Alysa LIU            35.519798\n",
            "Loena HENDRICKX      33.442148\n",
            "Mariah BELL          31.542621\n",
            "Wakaba HIGUCHI       30.609426\n",
            "Mana KAWABE          22.800865\n",
            "Karen CHEN           22.282564\n",
            "Madeline SCHIZAS     21.826653\n",
            "Ekaterina RYABOVA    15.980509\n",
            "Ekaterina KURAKOVA   11.466534\n",
            "Viktoriia SAFONOVA   10.083502\n",
            "Eva-Lotta KIIBUS      7.392986\n",
            "Nicole SCHOTT         0.051015\n",
            "Alexandra FEIGIN      0.000000\n",
            "Eliska BREZINOVA     -5.895996\n",
            "Yi ZHU               -8.076594\n",
            "Kailani CRAINE      -11.741310\n",
            "Olga MIKUTINA       -20.501793\n",
            "Jenni SAARINEN     -115.076004\n"
          ]
        }
      ]
    },
    {
      "cell_type": "code",
      "source": [
        "#turning skater_scores into Dataframe with name, score\n",
        "skater_scores = pd.DataFrame(skater_scores)\n",
        "print(skater_scores)\n",
        "'''\n",
        "skater_scores.columns = ['score']\n",
        "print(skater_scores)\n",
        "skater_scores['name'] = skater_scores.index\n",
        "'''"
      ],
      "metadata": {
        "id": "QNBDfQKIRsZ-",
        "outputId": "0115ff54-a234-489b-c1b6-b8bf7ddc41a3",
        "colab": {
          "base_uri": "https://localhost:8080/",
          "height": 417
        }
      },
      "id": "QNBDfQKIRsZ-",
      "execution_count": 109,
      "outputs": [
        {
          "output_type": "stream",
          "name": "stdout",
          "text": [
            "                         score\n",
            "Anna SHCHERBAKOVA    68.772952\n",
            "Alexandra TRUSOVA    60.951831\n",
            "Kaori SAKAMOTO       41.459034\n",
            "Alysa LIU            35.519798\n",
            "Loena HENDRICKX      33.442148\n",
            "Mariah BELL          31.542621\n",
            "Wakaba HIGUCHI       30.609426\n",
            "Mana KAWABE          22.800865\n",
            "Karen CHEN           22.282564\n",
            "Madeline SCHIZAS     21.826653\n",
            "Ekaterina RYABOVA    15.980509\n",
            "Ekaterina KURAKOVA   11.466534\n",
            "Viktoriia SAFONOVA   10.083502\n",
            "Eva-Lotta KIIBUS      7.392986\n",
            "Nicole SCHOTT         0.051015\n",
            "Alexandra FEIGIN      0.000000\n",
            "Eliska BREZINOVA     -5.895996\n",
            "Yi ZHU               -8.076594\n",
            "Kailani CRAINE      -11.741310\n",
            "Olga MIKUTINA       -20.501793\n",
            "Jenni SAARINEN     -115.076004\n"
          ]
        },
        {
          "output_type": "execute_result",
          "data": {
            "application/vnd.google.colaboratory.intrinsic+json": {
              "type": "string"
            },
            "text/plain": [
              "\"\\nskater_scores.columns = ['score']\\nprint(skater_scores)\\nskater_scores['name'] = skater_scores.index\\n\""
            ]
          },
          "metadata": {},
          "execution_count": 109
        }
      ]
    },
    {
      "cell_type": "code",
      "source": [
        "\n",
        "world_scores = world_scores.set_index('name')\n",
        "world_scores"
      ],
      "metadata": {
        "id": "ab_agVbhgEof",
        "outputId": "63393e03-5381-4c61-b1de-b307595a542c",
        "colab": {
          "base_uri": "https://localhost:8080/",
          "height": 1000
        }
      },
      "id": "ab_agVbhgEof",
      "execution_count": 110,
      "outputs": [
        {
          "output_type": "execute_result",
          "data": {
            "text/html": [
              "\n",
              "  <div id=\"df-de7358ec-2e58-413e-82a1-da2eff3f5111\">\n",
              "    <div class=\"colab-df-container\">\n",
              "      <div>\n",
              "<style scoped>\n",
              "    .dataframe tbody tr th:only-of-type {\n",
              "        vertical-align: middle;\n",
              "    }\n",
              "\n",
              "    .dataframe tbody tr th {\n",
              "        vertical-align: top;\n",
              "    }\n",
              "\n",
              "    .dataframe thead th {\n",
              "        text-align: right;\n",
              "    }\n",
              "</style>\n",
              "<table border=\"1\" class=\"dataframe\">\n",
              "  <thead>\n",
              "    <tr style=\"text-align: right;\">\n",
              "      <th></th>\n",
              "      <th>score</th>\n",
              "      <th>year</th>\n",
              "      <th>event</th>\n",
              "    </tr>\n",
              "    <tr>\n",
              "      <th>name</th>\n",
              "      <th></th>\n",
              "      <th></th>\n",
              "      <th></th>\n",
              "    </tr>\n",
              "  </thead>\n",
              "  <tbody>\n",
              "    <tr>\n",
              "      <th>Wakaba HIGUCHI</th>\n",
              "      <td>210.899994</td>\n",
              "      <td>2018</td>\n",
              "      <td>WC</td>\n",
              "    </tr>\n",
              "    <tr>\n",
              "      <th>Loena HENDRICKX</th>\n",
              "      <td>192.309998</td>\n",
              "      <td>2018</td>\n",
              "      <td>WC</td>\n",
              "    </tr>\n",
              "    <tr>\n",
              "      <th>Mariah BELL</th>\n",
              "      <td>174.399994</td>\n",
              "      <td>2018</td>\n",
              "      <td>WC</td>\n",
              "    </tr>\n",
              "    <tr>\n",
              "      <th>Nicole SCHOTT</th>\n",
              "      <td>174.130005</td>\n",
              "      <td>2018</td>\n",
              "      <td>WC</td>\n",
              "    </tr>\n",
              "    <tr>\n",
              "      <th>Kailani CRAINE</th>\n",
              "      <td>154.410004</td>\n",
              "      <td>2018</td>\n",
              "      <td>WC</td>\n",
              "    </tr>\n",
              "    <tr>\n",
              "      <th>Eliska BREZINOVA</th>\n",
              "      <td>153.139999</td>\n",
              "      <td>2018</td>\n",
              "      <td>WC</td>\n",
              "    </tr>\n",
              "    <tr>\n",
              "      <th>Kaori SAKAMOTO</th>\n",
              "      <td>222.830002</td>\n",
              "      <td>2019</td>\n",
              "      <td>WC</td>\n",
              "    </tr>\n",
              "    <tr>\n",
              "      <th>Mariah BELL</th>\n",
              "      <td>208.070007</td>\n",
              "      <td>2019</td>\n",
              "      <td>WC</td>\n",
              "    </tr>\n",
              "    <tr>\n",
              "      <th>Loena HENDRICKX</th>\n",
              "      <td>186.289993</td>\n",
              "      <td>2019</td>\n",
              "      <td>WC</td>\n",
              "    </tr>\n",
              "    <tr>\n",
              "      <th>Ekaterina RYABOVA</th>\n",
              "      <td>179.880005</td>\n",
              "      <td>2019</td>\n",
              "      <td>WC</td>\n",
              "    </tr>\n",
              "    <tr>\n",
              "      <th>Nicole SCHOTT</th>\n",
              "      <td>170.559998</td>\n",
              "      <td>2019</td>\n",
              "      <td>WC</td>\n",
              "    </tr>\n",
              "    <tr>\n",
              "      <th>Alexandra FEIGIN</th>\n",
              "      <td>165.309998</td>\n",
              "      <td>2019</td>\n",
              "      <td>WC</td>\n",
              "    </tr>\n",
              "    <tr>\n",
              "      <th>Eliska BREZINOVA</th>\n",
              "      <td>153.449997</td>\n",
              "      <td>2019</td>\n",
              "      <td>WC</td>\n",
              "    </tr>\n",
              "    <tr>\n",
              "      <th>Kailani CRAINE</th>\n",
              "      <td>48.820000</td>\n",
              "      <td>2019</td>\n",
              "      <td>WC</td>\n",
              "    </tr>\n",
              "    <tr>\n",
              "      <th>Anna SHCHERBAKOVA</th>\n",
              "      <td>233.169998</td>\n",
              "      <td>2021</td>\n",
              "      <td>WC</td>\n",
              "    </tr>\n",
              "    <tr>\n",
              "      <th>Alexandra TRUSOVA</th>\n",
              "      <td>217.199997</td>\n",
              "      <td>2021</td>\n",
              "      <td>WC</td>\n",
              "    </tr>\n",
              "    <tr>\n",
              "      <th>Karen CHEN</th>\n",
              "      <td>208.630005</td>\n",
              "      <td>2021</td>\n",
              "      <td>WC</td>\n",
              "    </tr>\n",
              "    <tr>\n",
              "      <th>Loena HENDRICKX</th>\n",
              "      <td>208.440002</td>\n",
              "      <td>2021</td>\n",
              "      <td>WC</td>\n",
              "    </tr>\n",
              "    <tr>\n",
              "      <th>Kaori SAKAMOTO</th>\n",
              "      <td>207.800003</td>\n",
              "      <td>2021</td>\n",
              "      <td>WC</td>\n",
              "    </tr>\n",
              "    <tr>\n",
              "      <th>Olga MIKUTINA</th>\n",
              "      <td>198.770004</td>\n",
              "      <td>2021</td>\n",
              "      <td>WC</td>\n",
              "    </tr>\n",
              "    <tr>\n",
              "      <th>Ekaterina RYABOVA</th>\n",
              "      <td>189.460007</td>\n",
              "      <td>2021</td>\n",
              "      <td>WC</td>\n",
              "    </tr>\n",
              "    <tr>\n",
              "      <th>Madeline SCHIZAS</th>\n",
              "      <td>185.779999</td>\n",
              "      <td>2021</td>\n",
              "      <td>WC</td>\n",
              "    </tr>\n",
              "    <tr>\n",
              "      <th>Eva-Lotta KIIBUS</th>\n",
              "      <td>181.470001</td>\n",
              "      <td>2021</td>\n",
              "      <td>WC</td>\n",
              "    </tr>\n",
              "    <tr>\n",
              "      <th>Josefin TALJEGARD</th>\n",
              "      <td>178.100006</td>\n",
              "      <td>2021</td>\n",
              "      <td>WC</td>\n",
              "    </tr>\n",
              "    <tr>\n",
              "      <th>Alexandra FEIGIN</th>\n",
              "      <td>173.520004</td>\n",
              "      <td>2021</td>\n",
              "      <td>WC</td>\n",
              "    </tr>\n",
              "    <tr>\n",
              "      <th>Nicole SCHOTT</th>\n",
              "      <td>172.800003</td>\n",
              "      <td>2021</td>\n",
              "      <td>WC</td>\n",
              "    </tr>\n",
              "    <tr>\n",
              "      <th>Eliska BREZINOVA</th>\n",
              "      <td>155.139999</td>\n",
              "      <td>2021</td>\n",
              "      <td>WC</td>\n",
              "    </tr>\n",
              "    <tr>\n",
              "      <th>Jenni SAARINEN</th>\n",
              "      <td>146.539993</td>\n",
              "      <td>2021</td>\n",
              "      <td>WC</td>\n",
              "    </tr>\n",
              "    <tr>\n",
              "      <th>Kailani CRAINE</th>\n",
              "      <td>56.860001</td>\n",
              "      <td>2021</td>\n",
              "      <td>WC</td>\n",
              "    </tr>\n",
              "    <tr>\n",
              "      <th>Ekaterina KURAKOVA</th>\n",
              "      <td>52.279999</td>\n",
              "      <td>2021</td>\n",
              "      <td>WC</td>\n",
              "    </tr>\n",
              "    <tr>\n",
              "      <th>Wakaba HIGUCHI</th>\n",
              "      <td>210.899994</td>\n",
              "      <td>2018</td>\n",
              "      <td>WC</td>\n",
              "    </tr>\n",
              "    <tr>\n",
              "      <th>Loena HENDRICKX</th>\n",
              "      <td>192.309998</td>\n",
              "      <td>2018</td>\n",
              "      <td>WC</td>\n",
              "    </tr>\n",
              "    <tr>\n",
              "      <th>Mariah BELL</th>\n",
              "      <td>174.399994</td>\n",
              "      <td>2018</td>\n",
              "      <td>WC</td>\n",
              "    </tr>\n",
              "    <tr>\n",
              "      <th>Nicole SCHOTT</th>\n",
              "      <td>174.130005</td>\n",
              "      <td>2018</td>\n",
              "      <td>WC</td>\n",
              "    </tr>\n",
              "    <tr>\n",
              "      <th>Kailani CRAINE</th>\n",
              "      <td>154.410004</td>\n",
              "      <td>2018</td>\n",
              "      <td>WC</td>\n",
              "    </tr>\n",
              "    <tr>\n",
              "      <th>Eliska BREZINOVA</th>\n",
              "      <td>153.139999</td>\n",
              "      <td>2018</td>\n",
              "      <td>WC</td>\n",
              "    </tr>\n",
              "    <tr>\n",
              "      <th>Kaori SAKAMOTO</th>\n",
              "      <td>222.830002</td>\n",
              "      <td>2019</td>\n",
              "      <td>WC</td>\n",
              "    </tr>\n",
              "    <tr>\n",
              "      <th>Mariah BELL</th>\n",
              "      <td>208.070007</td>\n",
              "      <td>2019</td>\n",
              "      <td>WC</td>\n",
              "    </tr>\n",
              "    <tr>\n",
              "      <th>Loena HENDRICKX</th>\n",
              "      <td>186.289993</td>\n",
              "      <td>2019</td>\n",
              "      <td>WC</td>\n",
              "    </tr>\n",
              "    <tr>\n",
              "      <th>Ekaterina RYABOVA</th>\n",
              "      <td>179.880005</td>\n",
              "      <td>2019</td>\n",
              "      <td>WC</td>\n",
              "    </tr>\n",
              "    <tr>\n",
              "      <th>Nicole SCHOTT</th>\n",
              "      <td>170.559998</td>\n",
              "      <td>2019</td>\n",
              "      <td>WC</td>\n",
              "    </tr>\n",
              "    <tr>\n",
              "      <th>Alexandra FEIGIN</th>\n",
              "      <td>165.309998</td>\n",
              "      <td>2019</td>\n",
              "      <td>WC</td>\n",
              "    </tr>\n",
              "    <tr>\n",
              "      <th>Eliska BREZINOVA</th>\n",
              "      <td>153.449997</td>\n",
              "      <td>2019</td>\n",
              "      <td>WC</td>\n",
              "    </tr>\n",
              "    <tr>\n",
              "      <th>Kailani CRAINE</th>\n",
              "      <td>48.820000</td>\n",
              "      <td>2019</td>\n",
              "      <td>WC</td>\n",
              "    </tr>\n",
              "    <tr>\n",
              "      <th>Anna SHCHERBAKOVA</th>\n",
              "      <td>233.169998</td>\n",
              "      <td>2021</td>\n",
              "      <td>WC</td>\n",
              "    </tr>\n",
              "    <tr>\n",
              "      <th>Alexandra TRUSOVA</th>\n",
              "      <td>217.199997</td>\n",
              "      <td>2021</td>\n",
              "      <td>WC</td>\n",
              "    </tr>\n",
              "    <tr>\n",
              "      <th>Karen CHEN</th>\n",
              "      <td>208.630005</td>\n",
              "      <td>2021</td>\n",
              "      <td>WC</td>\n",
              "    </tr>\n",
              "    <tr>\n",
              "      <th>Loena HENDRICKX</th>\n",
              "      <td>208.440002</td>\n",
              "      <td>2021</td>\n",
              "      <td>WC</td>\n",
              "    </tr>\n",
              "    <tr>\n",
              "      <th>Kaori SAKAMOTO</th>\n",
              "      <td>207.800003</td>\n",
              "      <td>2021</td>\n",
              "      <td>WC</td>\n",
              "    </tr>\n",
              "    <tr>\n",
              "      <th>Olga MIKUTINA</th>\n",
              "      <td>198.770004</td>\n",
              "      <td>2021</td>\n",
              "      <td>WC</td>\n",
              "    </tr>\n",
              "    <tr>\n",
              "      <th>Ekaterina RYABOVA</th>\n",
              "      <td>189.460007</td>\n",
              "      <td>2021</td>\n",
              "      <td>WC</td>\n",
              "    </tr>\n",
              "    <tr>\n",
              "      <th>Madeline SCHIZAS</th>\n",
              "      <td>185.779999</td>\n",
              "      <td>2021</td>\n",
              "      <td>WC</td>\n",
              "    </tr>\n",
              "    <tr>\n",
              "      <th>Eva-Lotta KIIBUS</th>\n",
              "      <td>181.470001</td>\n",
              "      <td>2021</td>\n",
              "      <td>WC</td>\n",
              "    </tr>\n",
              "    <tr>\n",
              "      <th>Josefin TALJEGARD</th>\n",
              "      <td>178.100006</td>\n",
              "      <td>2021</td>\n",
              "      <td>WC</td>\n",
              "    </tr>\n",
              "    <tr>\n",
              "      <th>Alexandra FEIGIN</th>\n",
              "      <td>173.520004</td>\n",
              "      <td>2021</td>\n",
              "      <td>WC</td>\n",
              "    </tr>\n",
              "    <tr>\n",
              "      <th>Nicole SCHOTT</th>\n",
              "      <td>172.800003</td>\n",
              "      <td>2021</td>\n",
              "      <td>WC</td>\n",
              "    </tr>\n",
              "    <tr>\n",
              "      <th>Eliska BREZINOVA</th>\n",
              "      <td>155.139999</td>\n",
              "      <td>2021</td>\n",
              "      <td>WC</td>\n",
              "    </tr>\n",
              "    <tr>\n",
              "      <th>Jenni SAARINEN</th>\n",
              "      <td>146.539993</td>\n",
              "      <td>2021</td>\n",
              "      <td>WC</td>\n",
              "    </tr>\n",
              "    <tr>\n",
              "      <th>Kailani CRAINE</th>\n",
              "      <td>56.860001</td>\n",
              "      <td>2021</td>\n",
              "      <td>WC</td>\n",
              "    </tr>\n",
              "    <tr>\n",
              "      <th>Ekaterina KURAKOVA</th>\n",
              "      <td>52.279999</td>\n",
              "      <td>2021</td>\n",
              "      <td>WC</td>\n",
              "    </tr>\n",
              "  </tbody>\n",
              "</table>\n",
              "</div>\n",
              "      <button class=\"colab-df-convert\" onclick=\"convertToInteractive('df-de7358ec-2e58-413e-82a1-da2eff3f5111')\"\n",
              "              title=\"Convert this dataframe to an interactive table.\"\n",
              "              style=\"display:none;\">\n",
              "        \n",
              "  <svg xmlns=\"http://www.w3.org/2000/svg\" height=\"24px\"viewBox=\"0 0 24 24\"\n",
              "       width=\"24px\">\n",
              "    <path d=\"M0 0h24v24H0V0z\" fill=\"none\"/>\n",
              "    <path d=\"M18.56 5.44l.94 2.06.94-2.06 2.06-.94-2.06-.94-.94-2.06-.94 2.06-2.06.94zm-11 1L8.5 8.5l.94-2.06 2.06-.94-2.06-.94L8.5 2.5l-.94 2.06-2.06.94zm10 10l.94 2.06.94-2.06 2.06-.94-2.06-.94-.94-2.06-.94 2.06-2.06.94z\"/><path d=\"M17.41 7.96l-1.37-1.37c-.4-.4-.92-.59-1.43-.59-.52 0-1.04.2-1.43.59L10.3 9.45l-7.72 7.72c-.78.78-.78 2.05 0 2.83L4 21.41c.39.39.9.59 1.41.59.51 0 1.02-.2 1.41-.59l7.78-7.78 2.81-2.81c.8-.78.8-2.07 0-2.86zM5.41 20L4 18.59l7.72-7.72 1.47 1.35L5.41 20z\"/>\n",
              "  </svg>\n",
              "      </button>\n",
              "      \n",
              "  <style>\n",
              "    .colab-df-container {\n",
              "      display:flex;\n",
              "      flex-wrap:wrap;\n",
              "      gap: 12px;\n",
              "    }\n",
              "\n",
              "    .colab-df-convert {\n",
              "      background-color: #E8F0FE;\n",
              "      border: none;\n",
              "      border-radius: 50%;\n",
              "      cursor: pointer;\n",
              "      display: none;\n",
              "      fill: #1967D2;\n",
              "      height: 32px;\n",
              "      padding: 0 0 0 0;\n",
              "      width: 32px;\n",
              "    }\n",
              "\n",
              "    .colab-df-convert:hover {\n",
              "      background-color: #E2EBFA;\n",
              "      box-shadow: 0px 1px 2px rgba(60, 64, 67, 0.3), 0px 1px 3px 1px rgba(60, 64, 67, 0.15);\n",
              "      fill: #174EA6;\n",
              "    }\n",
              "\n",
              "    [theme=dark] .colab-df-convert {\n",
              "      background-color: #3B4455;\n",
              "      fill: #D2E3FC;\n",
              "    }\n",
              "\n",
              "    [theme=dark] .colab-df-convert:hover {\n",
              "      background-color: #434B5C;\n",
              "      box-shadow: 0px 1px 3px 1px rgba(0, 0, 0, 0.15);\n",
              "      filter: drop-shadow(0px 1px 2px rgba(0, 0, 0, 0.3));\n",
              "      fill: #FFFFFF;\n",
              "    }\n",
              "  </style>\n",
              "\n",
              "      <script>\n",
              "        const buttonEl =\n",
              "          document.querySelector('#df-de7358ec-2e58-413e-82a1-da2eff3f5111 button.colab-df-convert');\n",
              "        buttonEl.style.display =\n",
              "          google.colab.kernel.accessAllowed ? 'block' : 'none';\n",
              "\n",
              "        async function convertToInteractive(key) {\n",
              "          const element = document.querySelector('#df-de7358ec-2e58-413e-82a1-da2eff3f5111');\n",
              "          const dataTable =\n",
              "            await google.colab.kernel.invokeFunction('convertToInteractive',\n",
              "                                                     [key], {});\n",
              "          if (!dataTable) return;\n",
              "\n",
              "          const docLinkHtml = 'Like what you see? Visit the ' +\n",
              "            '<a target=\"_blank\" href=https://colab.research.google.com/notebooks/data_table.ipynb>data table notebook</a>'\n",
              "            + ' to learn more about interactive tables.';\n",
              "          element.innerHTML = '';\n",
              "          dataTable['output_type'] = 'display_data';\n",
              "          await google.colab.output.renderOutput(dataTable, element);\n",
              "          const docLink = document.createElement('div');\n",
              "          docLink.innerHTML = docLinkHtml;\n",
              "          element.appendChild(docLink);\n",
              "        }\n",
              "      </script>\n",
              "    </div>\n",
              "  </div>\n",
              "  "
            ],
            "text/plain": [
              "                         score  year event\n",
              "name                                      \n",
              "Wakaba HIGUCHI      210.899994  2018    WC\n",
              "Loena HENDRICKX     192.309998  2018    WC\n",
              "Mariah BELL         174.399994  2018    WC\n",
              "Nicole SCHOTT       174.130005  2018    WC\n",
              "Kailani CRAINE      154.410004  2018    WC\n",
              "Eliska BREZINOVA    153.139999  2018    WC\n",
              "Kaori SAKAMOTO      222.830002  2019    WC\n",
              "Mariah BELL         208.070007  2019    WC\n",
              "Loena HENDRICKX     186.289993  2019    WC\n",
              "Ekaterina RYABOVA   179.880005  2019    WC\n",
              "Nicole SCHOTT       170.559998  2019    WC\n",
              "Alexandra FEIGIN    165.309998  2019    WC\n",
              "Eliska BREZINOVA    153.449997  2019    WC\n",
              "Kailani CRAINE       48.820000  2019    WC\n",
              "Anna SHCHERBAKOVA   233.169998  2021    WC\n",
              "Alexandra TRUSOVA   217.199997  2021    WC\n",
              "Karen CHEN          208.630005  2021    WC\n",
              "Loena HENDRICKX     208.440002  2021    WC\n",
              "Kaori SAKAMOTO      207.800003  2021    WC\n",
              "Olga MIKUTINA       198.770004  2021    WC\n",
              "Ekaterina RYABOVA   189.460007  2021    WC\n",
              "Madeline SCHIZAS    185.779999  2021    WC\n",
              "Eva-Lotta KIIBUS    181.470001  2021    WC\n",
              "Josefin TALJEGARD   178.100006  2021    WC\n",
              "Alexandra FEIGIN    173.520004  2021    WC\n",
              "Nicole SCHOTT       172.800003  2021    WC\n",
              "Eliska BREZINOVA    155.139999  2021    WC\n",
              "Jenni SAARINEN      146.539993  2021    WC\n",
              "Kailani CRAINE       56.860001  2021    WC\n",
              "Ekaterina KURAKOVA   52.279999  2021    WC\n",
              "Wakaba HIGUCHI      210.899994  2018    WC\n",
              "Loena HENDRICKX     192.309998  2018    WC\n",
              "Mariah BELL         174.399994  2018    WC\n",
              "Nicole SCHOTT       174.130005  2018    WC\n",
              "Kailani CRAINE      154.410004  2018    WC\n",
              "Eliska BREZINOVA    153.139999  2018    WC\n",
              "Kaori SAKAMOTO      222.830002  2019    WC\n",
              "Mariah BELL         208.070007  2019    WC\n",
              "Loena HENDRICKX     186.289993  2019    WC\n",
              "Ekaterina RYABOVA   179.880005  2019    WC\n",
              "Nicole SCHOTT       170.559998  2019    WC\n",
              "Alexandra FEIGIN    165.309998  2019    WC\n",
              "Eliska BREZINOVA    153.449997  2019    WC\n",
              "Kailani CRAINE       48.820000  2019    WC\n",
              "Anna SHCHERBAKOVA   233.169998  2021    WC\n",
              "Alexandra TRUSOVA   217.199997  2021    WC\n",
              "Karen CHEN          208.630005  2021    WC\n",
              "Loena HENDRICKX     208.440002  2021    WC\n",
              "Kaori SAKAMOTO      207.800003  2021    WC\n",
              "Olga MIKUTINA       198.770004  2021    WC\n",
              "Ekaterina RYABOVA   189.460007  2021    WC\n",
              "Madeline SCHIZAS    185.779999  2021    WC\n",
              "Eva-Lotta KIIBUS    181.470001  2021    WC\n",
              "Josefin TALJEGARD   178.100006  2021    WC\n",
              "Alexandra FEIGIN    173.520004  2021    WC\n",
              "Nicole SCHOTT       172.800003  2021    WC\n",
              "Eliska BREZINOVA    155.139999  2021    WC\n",
              "Jenni SAARINEN      146.539993  2021    WC\n",
              "Kailani CRAINE       56.860001  2021    WC\n",
              "Ekaterina KURAKOVA   52.279999  2021    WC"
            ]
          },
          "metadata": {},
          "execution_count": 110
        }
      ]
    },
    {
      "cell_type": "code",
      "source": [
        "linear_ranking, world_ranking = return_ranking(skater_scores, world_scores)"
      ],
      "metadata": {
        "id": "pnYQZRwUjQkK",
        "outputId": "dbc1778d-3b10-4a29-c88b-fd895da35b3b",
        "colab": {
          "base_uri": "https://localhost:8080/"
        }
      },
      "id": "pnYQZRwUjQkK",
      "execution_count": 111,
      "outputs": [
        {
          "output_type": "stream",
          "name": "stdout",
          "text": [
            "['Anna SHCHERBAKOVA', 'Alexandra TRUSOVA', 'Kaori SAKAMOTO', 'Loena HENDRICKX', 'Mariah BELL', 'Wakaba HIGUCHI', 'Karen CHEN', 'Madeline SCHIZAS', 'Ekaterina RYABOVA', 'Ekaterina KURAKOVA', 'Eva-Lotta KIIBUS', 'Nicole SCHOTT', 'Alexandra FEIGIN', 'Eliska BREZINOVA', 'Kailani CRAINE', 'Olga MIKUTINA', 'Jenni SAARINEN']\n",
            "['Anna SHCHERBAKOVA', 'Kaori SAKAMOTO', 'Alexandra TRUSOVA', 'Wakaba HIGUCHI', 'Karen CHEN', 'Loena HENDRICKX', 'Mariah BELL', 'Olga MIKUTINA', 'Ekaterina RYABOVA', 'Madeline SCHIZAS', 'Eva-Lotta KIIBUS', 'Nicole SCHOTT', 'Alexandra FEIGIN', 'Eliska BREZINOVA', 'Kailani CRAINE', 'Jenni SAARINEN', 'Ekaterina KURAKOVA']\n"
          ]
        }
      ]
    },
    {
      "cell_type": "code",
      "source": [
        "calculate_kendall_tau(linear_ranking, world_ranking)"
      ],
      "metadata": {
        "id": "OHCtvZURoxLL",
        "outputId": "b6f96f99-d704-416e-825a-f3ccb91f72a0",
        "colab": {
          "base_uri": "https://localhost:8080/"
        }
      },
      "id": "OHCtvZURoxLL",
      "execution_count": 112,
      "outputs": [
        {
          "output_type": "stream",
          "name": "stdout",
          "text": [
            "{('Ekaterina KURAKOVA', 'Jenni SAARINEN'), ('Anna SHCHERBAKOVA', 'Ekaterina RYABOVA'), ('Loena HENDRICKX', 'Eliska BREZINOVA'), ('Eva-Lotta KIIBUS', 'Alexandra FEIGIN'), ('Ekaterina RYABOVA', 'Kailani CRAINE'), ('Eva-Lotta KIIBUS', 'Nicole SCHOTT'), ('Wakaba HIGUCHI', 'Ekaterina RYABOVA'), ('Alexandra TRUSOVA', 'Wakaba HIGUCHI'), ('Alexandra FEIGIN', 'Eliska BREZINOVA'), ('Karen CHEN', 'Madeline SCHIZAS'), ('Ekaterina KURAKOVA', 'Nicole SCHOTT'), ('Anna SHCHERBAKOVA', 'Loena HENDRICKX'), ('Loena HENDRICKX', 'Alexandra FEIGIN'), ('Mariah BELL', 'Ekaterina RYABOVA'), ('Anna SHCHERBAKOVA', 'Kailani CRAINE'), ('Loena HENDRICKX', 'Madeline SCHIZAS'), ('Ekaterina RYABOVA', 'Eliska BREZINOVA'), ('Kaori SAKAMOTO', 'Madeline SCHIZAS'), ('Mariah BELL', 'Karen CHEN'), ('Wakaba HIGUCHI', 'Madeline SCHIZAS'), ('Madeline SCHIZAS', 'Ekaterina KURAKOVA'), ('Kaori SAKAMOTO', 'Olga MIKUTINA'), ('Karen CHEN', 'Alexandra FEIGIN'), ('Karen CHEN', 'Nicole SCHOTT'), ('Madeline SCHIZAS', 'Eliska BREZINOVA'), ('Mariah BELL', 'Jenni SAARINEN'), ('Madeline SCHIZAS', 'Eva-Lotta KIIBUS'), ('Kaori SAKAMOTO', 'Eliska BREZINOVA'), ('Ekaterina KURAKOVA', 'Eliska BREZINOVA'), ('Anna SHCHERBAKOVA', 'Eliska BREZINOVA'), ('Kaori SAKAMOTO', 'Eva-Lotta KIIBUS'), ('Loena HENDRICKX', 'Ekaterina RYABOVA'), ('Ekaterina RYABOVA', 'Alexandra FEIGIN'), ('Madeline SCHIZAS', 'Alexandra FEIGIN'), ('Karen CHEN', 'Jenni SAARINEN'), ('Eliska BREZINOVA', 'Olga MIKUTINA'), ('Alexandra TRUSOVA', 'Kailani CRAINE'), ('Karen CHEN', 'Eliska BREZINOVA'), ('Kaori SAKAMOTO', 'Wakaba HIGUCHI'), ('Madeline SCHIZAS', 'Ekaterina RYABOVA'), ('Alexandra TRUSOVA', 'Nicole SCHOTT'), ('Mariah BELL', 'Nicole SCHOTT'), ('Anna SHCHERBAKOVA', 'Olga MIKUTINA'), ('Alexandra TRUSOVA', 'Kaori SAKAMOTO'), ('Ekaterina RYABOVA', 'Eva-Lotta KIIBUS'), ('Karen CHEN', 'Ekaterina KURAKOVA'), ('Ekaterina KURAKOVA', 'Olga MIKUTINA'), ('Kailani CRAINE', 'Jenni SAARINEN'), ('Anna SHCHERBAKOVA', 'Alexandra TRUSOVA'), ('Alexandra TRUSOVA', 'Madeline SCHIZAS'), ('Kaori SAKAMOTO', 'Kailani CRAINE'), ('Alexandra TRUSOVA', 'Karen CHEN'), ('Wakaba HIGUCHI', 'Nicole SCHOTT'), ('Madeline SCHIZAS', 'Olga MIKUTINA'), ('Ekaterina KURAKOVA', 'Kailani CRAINE'), ('Alexandra TRUSOVA', 'Jenni SAARINEN'), ('Ekaterina KURAKOVA', 'Eva-Lotta KIIBUS'), ('Anna SHCHERBAKOVA', 'Eva-Lotta KIIBUS'), ('Loena HENDRICKX', 'Olga MIKUTINA'), ('Anna SHCHERBAKOVA', 'Madeline SCHIZAS'), ('Alexandra TRUSOVA', 'Mariah BELL'), ('Mariah BELL', 'Ekaterina KURAKOVA'), ('Eva-Lotta KIIBUS', 'Eliska BREZINOVA'), ('Wakaba HIGUCHI', 'Kailani CRAINE'), ('Nicole SCHOTT', 'Kailani CRAINE'), ('Wakaba HIGUCHI', 'Jenni SAARINEN'), ('Anna SHCHERBAKOVA', 'Wakaba HIGUCHI'), ('Mariah BELL', 'Alexandra FEIGIN'), ('Kaori SAKAMOTO', 'Loena HENDRICKX'), ('Kaori SAKAMOTO', 'Ekaterina RYABOVA'), ('Alexandra TRUSOVA', 'Loena HENDRICKX'), ('Eva-Lotta KIIBUS', 'Olga MIKUTINA'), ('Wakaba HIGUCHI', 'Karen CHEN'), ('Nicole SCHOTT', 'Olga MIKUTINA'), ('Loena HENDRICKX', 'Eva-Lotta KIIBUS'), ('Ekaterina RYABOVA', 'Jenni SAARINEN'), ('Mariah BELL', 'Olga MIKUTINA'), ('Alexandra FEIGIN', 'Kailani CRAINE'), ('Loena HENDRICKX', 'Mariah BELL'), ('Alexandra TRUSOVA', 'Ekaterina KURAKOVA'), ('Loena HENDRICKX', 'Ekaterina KURAKOVA'), ('Nicole SCHOTT', 'Alexandra FEIGIN'), ('Alexandra FEIGIN', 'Olga MIKUTINA'), ('Ekaterina RYABOVA', 'Nicole SCHOTT'), ('Alexandra TRUSOVA', 'Eva-Lotta KIIBUS'), ('Karen CHEN', 'Ekaterina RYABOVA'), ('Kailani CRAINE', 'Olga MIKUTINA'), ('Alexandra TRUSOVA', 'Alexandra FEIGIN'), ('Mariah BELL', 'Wakaba HIGUCHI'), ('Anna SHCHERBAKOVA', 'Karen CHEN'), ('Madeline SCHIZAS', 'Kailani CRAINE'), ('Nicole SCHOTT', 'Eliska BREZINOVA'), ('Eliska BREZINOVA', 'Jenni SAARINEN'), ('Mariah BELL', 'Kailani CRAINE'), ('Eliska BREZINOVA', 'Kailani CRAINE'), ('Anna SHCHERBAKOVA', 'Kaori SAKAMOTO'), ('Wakaba HIGUCHI', 'Ekaterina KURAKOVA'), ('Anna SHCHERBAKOVA', 'Jenni SAARINEN'), ('Ekaterina RYABOVA', 'Ekaterina KURAKOVA'), ('Karen CHEN', 'Eva-Lotta KIIBUS'), ('Mariah BELL', 'Madeline SCHIZAS'), ('Alexandra TRUSOVA', 'Eliska BREZINOVA'), ('Kaori SAKAMOTO', 'Karen CHEN'), ('Wakaba HIGUCHI', 'Eva-Lotta KIIBUS'), ('Karen CHEN', 'Kailani CRAINE'), ('Loena HENDRICKX', 'Karen CHEN'), ('Madeline SCHIZAS', 'Jenni SAARINEN'), ('Loena HENDRICKX', 'Wakaba HIGUCHI'), ('Kaori SAKAMOTO', 'Ekaterina KURAKOVA'), ('Ekaterina KURAKOVA', 'Alexandra FEIGIN'), ('Anna SHCHERBAKOVA', 'Alexandra FEIGIN'), ('Wakaba HIGUCHI', 'Alexandra FEIGIN'), ('Kaori SAKAMOTO', 'Mariah BELL'), ('Anna SHCHERBAKOVA', 'Nicole SCHOTT'), ('Kaori SAKAMOTO', 'Jenni SAARINEN'), ('Anna SHCHERBAKOVA', 'Mariah BELL'), ('Kaori SAKAMOTO', 'Alexandra FEIGIN'), ('Karen CHEN', 'Olga MIKUTINA'), ('Loena HENDRICKX', 'Jenni SAARINEN'), ('Mariah BELL', 'Eliska BREZINOVA'), ('Anna SHCHERBAKOVA', 'Ekaterina KURAKOVA'), ('Loena HENDRICKX', 'Kailani CRAINE'), ('Nicole SCHOTT', 'Jenni SAARINEN'), ('Olga MIKUTINA', 'Jenni SAARINEN'), ('Mariah BELL', 'Eva-Lotta KIIBUS'), ('Alexandra TRUSOVA', 'Ekaterina RYABOVA'), ('Wakaba HIGUCHI', 'Olga MIKUTINA'), ('Madeline SCHIZAS', 'Nicole SCHOTT'), ('Kaori SAKAMOTO', 'Nicole SCHOTT'), ('Eva-Lotta KIIBUS', 'Jenni SAARINEN'), ('Loena HENDRICKX', 'Nicole SCHOTT'), ('Eva-Lotta KIIBUS', 'Kailani CRAINE'), ('Wakaba HIGUCHI', 'Eliska BREZINOVA'), ('Alexandra FEIGIN', 'Jenni SAARINEN'), ('Alexandra TRUSOVA', 'Olga MIKUTINA'), ('Ekaterina RYABOVA', 'Olga MIKUTINA')}\n",
            "{('Anna SHCHERBAKOVA', 'Ekaterina RYABOVA'), ('Loena HENDRICKX', 'Eliska BREZINOVA'), ('Ekaterina RYABOVA', 'Madeline SCHIZAS'), ('Eva-Lotta KIIBUS', 'Alexandra FEIGIN'), ('Jenni SAARINEN', 'Ekaterina KURAKOVA'), ('Ekaterina RYABOVA', 'Kailani CRAINE'), ('Eva-Lotta KIIBUS', 'Nicole SCHOTT'), ('Wakaba HIGUCHI', 'Ekaterina RYABOVA'), ('Alexandra TRUSOVA', 'Wakaba HIGUCHI'), ('Alexandra FEIGIN', 'Eliska BREZINOVA'), ('Karen CHEN', 'Madeline SCHIZAS'), ('Anna SHCHERBAKOVA', 'Loena HENDRICKX'), ('Alexandra FEIGIN', 'Ekaterina KURAKOVA'), ('Loena HENDRICKX', 'Alexandra FEIGIN'), ('Mariah BELL', 'Ekaterina RYABOVA'), ('Anna SHCHERBAKOVA', 'Kailani CRAINE'), ('Loena HENDRICKX', 'Madeline SCHIZAS'), ('Ekaterina RYABOVA', 'Eliska BREZINOVA'), ('Kaori SAKAMOTO', 'Madeline SCHIZAS'), ('Wakaba HIGUCHI', 'Madeline SCHIZAS'), ('Madeline SCHIZAS', 'Ekaterina KURAKOVA'), ('Kaori SAKAMOTO', 'Olga MIKUTINA'), ('Karen CHEN', 'Alexandra FEIGIN'), ('Karen CHEN', 'Nicole SCHOTT'), ('Madeline SCHIZAS', 'Eliska BREZINOVA'), ('Mariah BELL', 'Jenni SAARINEN'), ('Madeline SCHIZAS', 'Eva-Lotta KIIBUS'), ('Kaori SAKAMOTO', 'Eliska BREZINOVA'), ('Anna SHCHERBAKOVA', 'Eliska BREZINOVA'), ('Kaori SAKAMOTO', 'Eva-Lotta KIIBUS'), ('Loena HENDRICKX', 'Ekaterina RYABOVA'), ('Ekaterina RYABOVA', 'Alexandra FEIGIN'), ('Madeline SCHIZAS', 'Alexandra FEIGIN'), ('Eliska BREZINOVA', 'Ekaterina KURAKOVA'), ('Olga MIKUTINA', 'Ekaterina RYABOVA'), ('Karen CHEN', 'Jenni SAARINEN'), ('Alexandra TRUSOVA', 'Kailani CRAINE'), ('Karen CHEN', 'Eliska BREZINOVA'), ('Kaori SAKAMOTO', 'Wakaba HIGUCHI'), ('Ekaterina RYABOVA', 'Eva-Lotta KIIBUS'), ('Alexandra TRUSOVA', 'Nicole SCHOTT'), ('Mariah BELL', 'Nicole SCHOTT'), ('Anna SHCHERBAKOVA', 'Olga MIKUTINA'), ('Olga MIKUTINA', 'Alexandra FEIGIN'), ('Karen CHEN', 'Ekaterina KURAKOVA'), ('Kailani CRAINE', 'Jenni SAARINEN'), ('Anna SHCHERBAKOVA', 'Alexandra TRUSOVA'), ('Alexandra TRUSOVA', 'Madeline SCHIZAS'), ('Kaori SAKAMOTO', 'Kailani CRAINE'), ('Alexandra TRUSOVA', 'Karen CHEN'), ('Olga MIKUTINA', 'Eva-Lotta KIIBUS'), ('Wakaba HIGUCHI', 'Mariah BELL'), ('Wakaba HIGUCHI', 'Nicole SCHOTT'), ('Olga MIKUTINA', 'Eliska BREZINOVA'), ('Alexandra TRUSOVA', 'Jenni SAARINEN'), ('Olga MIKUTINA', 'Ekaterina KURAKOVA'), ('Anna SHCHERBAKOVA', 'Eva-Lotta KIIBUS'), ('Loena HENDRICKX', 'Olga MIKUTINA'), ('Anna SHCHERBAKOVA', 'Madeline SCHIZAS'), ('Alexandra TRUSOVA', 'Mariah BELL'), ('Kaori SAKAMOTO', 'Alexandra TRUSOVA'), ('Mariah BELL', 'Ekaterina KURAKOVA'), ('Eva-Lotta KIIBUS', 'Eliska BREZINOVA'), ('Wakaba HIGUCHI', 'Kailani CRAINE'), ('Nicole SCHOTT', 'Kailani CRAINE'), ('Wakaba HIGUCHI', 'Jenni SAARINEN'), ('Anna SHCHERBAKOVA', 'Wakaba HIGUCHI'), ('Mariah BELL', 'Alexandra FEIGIN'), ('Kaori SAKAMOTO', 'Loena HENDRICKX'), ('Kaori SAKAMOTO', 'Ekaterina RYABOVA'), ('Alexandra TRUSOVA', 'Loena HENDRICKX'), ('Kailani CRAINE', 'Ekaterina KURAKOVA'), ('Wakaba HIGUCHI', 'Karen CHEN'), ('Loena HENDRICKX', 'Eva-Lotta KIIBUS'), ('Ekaterina RYABOVA', 'Jenni SAARINEN'), ('Mariah BELL', 'Olga MIKUTINA'), ('Alexandra FEIGIN', 'Kailani CRAINE'), ('Wakaba HIGUCHI', 'Loena HENDRICKX'), ('Loena HENDRICKX', 'Mariah BELL'), ('Alexandra TRUSOVA', 'Ekaterina KURAKOVA'), ('Loena HENDRICKX', 'Ekaterina KURAKOVA'), ('Nicole SCHOTT', 'Alexandra FEIGIN'), ('Ekaterina RYABOVA', 'Nicole SCHOTT'), ('Karen CHEN', 'Loena HENDRICKX'), ('Alexandra TRUSOVA', 'Eva-Lotta KIIBUS'), ('Karen CHEN', 'Ekaterina RYABOVA'), ('Eva-Lotta KIIBUS', 'Ekaterina KURAKOVA'), ('Alexandra TRUSOVA', 'Alexandra FEIGIN'), ('Karen CHEN', 'Mariah BELL'), ('Anna SHCHERBAKOVA', 'Karen CHEN'), ('Madeline SCHIZAS', 'Kailani CRAINE'), ('Nicole SCHOTT', 'Eliska BREZINOVA'), ('Eliska BREZINOVA', 'Jenni SAARINEN'), ('Mariah BELL', 'Kailani CRAINE'), ('Eliska BREZINOVA', 'Kailani CRAINE'), ('Anna SHCHERBAKOVA', 'Kaori SAKAMOTO'), ('Wakaba HIGUCHI', 'Ekaterina KURAKOVA'), ('Anna SHCHERBAKOVA', 'Jenni SAARINEN'), ('Ekaterina RYABOVA', 'Ekaterina KURAKOVA'), ('Nicole SCHOTT', 'Ekaterina KURAKOVA'), ('Karen CHEN', 'Eva-Lotta KIIBUS'), ('Olga MIKUTINA', 'Nicole SCHOTT'), ('Mariah BELL', 'Madeline SCHIZAS'), ('Alexandra TRUSOVA', 'Eliska BREZINOVA'), ('Kaori SAKAMOTO', 'Karen CHEN'), ('Wakaba HIGUCHI', 'Eva-Lotta KIIBUS'), ('Karen CHEN', 'Kailani CRAINE'), ('Madeline SCHIZAS', 'Jenni SAARINEN'), ('Kaori SAKAMOTO', 'Ekaterina KURAKOVA'), ('Anna SHCHERBAKOVA', 'Alexandra FEIGIN'), ('Wakaba HIGUCHI', 'Alexandra FEIGIN'), ('Kaori SAKAMOTO', 'Mariah BELL'), ('Anna SHCHERBAKOVA', 'Nicole SCHOTT'), ('Kaori SAKAMOTO', 'Jenni SAARINEN'), ('Anna SHCHERBAKOVA', 'Mariah BELL'), ('Kaori SAKAMOTO', 'Alexandra FEIGIN'), ('Karen CHEN', 'Olga MIKUTINA'), ('Loena HENDRICKX', 'Jenni SAARINEN'), ('Mariah BELL', 'Eliska BREZINOVA'), ('Anna SHCHERBAKOVA', 'Ekaterina KURAKOVA'), ('Loena HENDRICKX', 'Kailani CRAINE'), ('Nicole SCHOTT', 'Jenni SAARINEN'), ('Olga MIKUTINA', 'Jenni SAARINEN'), ('Olga MIKUTINA', 'Kailani CRAINE'), ('Mariah BELL', 'Eva-Lotta KIIBUS'), ('Alexandra TRUSOVA', 'Ekaterina RYABOVA'), ('Wakaba HIGUCHI', 'Olga MIKUTINA'), ('Madeline SCHIZAS', 'Nicole SCHOTT'), ('Kaori SAKAMOTO', 'Nicole SCHOTT'), ('Eva-Lotta KIIBUS', 'Jenni SAARINEN'), ('Olga MIKUTINA', 'Madeline SCHIZAS'), ('Loena HENDRICKX', 'Nicole SCHOTT'), ('Eva-Lotta KIIBUS', 'Kailani CRAINE'), ('Wakaba HIGUCHI', 'Eliska BREZINOVA'), ('Alexandra FEIGIN', 'Jenni SAARINEN'), ('Alexandra TRUSOVA', 'Olga MIKUTINA')}\n",
            "There are 116 concordant_pairs out of 136 pairs\n"
          ]
        },
        {
          "output_type": "execute_result",
          "data": {
            "text/plain": [
              "0.7058823529411765"
            ]
          },
          "metadata": {},
          "execution_count": 112
        }
      ]
    },
    {
      "cell_type": "code",
      "source": [
        "coefs_loglinear = np.linalg.inv(X.T @ X) @ (X.T @ np.log(y))\n",
        "coefs_loglinear[:10]"
      ],
      "metadata": {
        "colab": {
          "base_uri": "https://localhost:8080/"
        },
        "id": "Kenhcljn6Qee",
        "outputId": "5bcc7f2e-10e9-4066-8539-cd63a912a89d"
      },
      "id": "Kenhcljn6Qee",
      "execution_count": 113,
      "outputs": [
        {
          "output_type": "execute_result",
          "data": {
            "text/plain": [
              "array([ 5.11931634,  0.31424062,  0.1943665 ,  0.3500189 ,  0.07028326,\n",
              "        0.09247072, -0.03933827,  0.04147866, -1.30811707, -0.06768488])"
            ]
          },
          "metadata": {},
          "execution_count": 113
        }
      ]
    },
    {
      "cell_type": "code",
      "source": [
        "loglinear_rmse = np.sqrt(np.mean((y - np.exp(X @ coefs_loglinear))**2))\n",
        "loglinear_rmse"
      ],
      "metadata": {
        "colab": {
          "base_uri": "https://localhost:8080/"
        },
        "id": "Z_ns6b-m6QmK",
        "outputId": "47fdaac7-4fbe-4c35-c1a2-b68db6a7bbaf"
      },
      "id": "Z_ns6b-m6QmK",
      "execution_count": 114,
      "outputs": [
        {
          "output_type": "execute_result",
          "data": {
            "text/plain": [
              "8.772373361332418"
            ]
          },
          "metadata": {},
          "execution_count": 114
        }
      ]
    },
    {
      "cell_type": "code",
      "source": [
        "baseline_score = coefs_loglinear[0]\n",
        "skater_scores = pd.Series(coefs_loglinear[1:dummies_skater_count+1], index=dummies_skaters)\n",
        "event_scores = pd.Series(coefs_loglinear[dummies_skater_count+1:], index=dummies_events)\n",
        "\n",
        "skater_scores[dropped_skater] = 0\n",
        "event_scores[dropped_event] = 0\n",
        "\n",
        "skater_scores.sort_values(ascending=False, inplace=True)\n",
        "event_scores.sort_values(ascending=False, inplace=True)\n",
        "\n",
        "baseline_score = np.exp(baseline_score)\n",
        "skater_scores = np.exp(skater_scores)\n",
        "event_scores = np.exp(event_scores)"
      ],
      "metadata": {
        "id": "C5ay7NP66Qo6"
      },
      "id": "C5ay7NP66Qo6",
      "execution_count": 115,
      "outputs": []
    },
    {
      "cell_type": "code",
      "source": [
        "baseline_score\n"
      ],
      "metadata": {
        "colab": {
          "base_uri": "https://localhost:8080/"
        },
        "id": "d16SB3vu6o5t",
        "outputId": "e8ba32c2-86c1-4e50-f531-079c7d2778d8"
      },
      "id": "d16SB3vu6o5t",
      "execution_count": 116,
      "outputs": [
        {
          "output_type": "execute_result",
          "data": {
            "text/plain": [
              "167.2210087745456"
            ]
          },
          "metadata": {},
          "execution_count": 116
        }
      ]
    },
    {
      "cell_type": "code",
      "source": [
        "event_scores"
      ],
      "metadata": {
        "colab": {
          "base_uri": "https://localhost:8080/"
        },
        "id": "3AIqYC036o9J",
        "outputId": "8f95a3a8-2e17-4fd2-9d15-5f15a3dbae8d"
      },
      "id": "3AIqYC036o9J",
      "execution_count": 117,
      "outputs": [
        {
          "output_type": "execute_result",
          "data": {
            "text/plain": [
              "SA     1.042569\n",
              "I      1.038242\n",
              "GP     1.015736\n",
              "NHK    1.015291\n",
              "SC     1.000619\n",
              "4C     1.000000\n",
              "RC     0.997965\n",
              "F      0.994696\n",
              "HC     0.948873\n",
              "EC     0.942603\n",
              "dtype: float64"
            ]
          },
          "metadata": {},
          "execution_count": 117
        }
      ]
    },
    {
      "cell_type": "code",
      "source": [
        "skater_scores\n"
      ],
      "metadata": {
        "colab": {
          "base_uri": "https://localhost:8080/"
        },
        "id": "ml0q_Ccb6swq",
        "outputId": "4016e96e-5158-476b-c866-4c581a09bea0"
      },
      "id": "ml0q_Ccb6swq",
      "execution_count": 118,
      "outputs": [
        {
          "output_type": "execute_result",
          "data": {
            "text/plain": [
              "Anna SHCHERBAKOVA     1.419094\n",
              "Alexandra TRUSOVA     1.369219\n",
              "Kaori SAKAMOTO        1.248948\n",
              "Alysa LIU             1.214541\n",
              "Loena HENDRICKX       1.200557\n",
              "Mariah BELL           1.188914\n",
              "Wakaba HIGUCHI        1.182398\n",
              "Mana KAWABE           1.138414\n",
              "Karen CHEN            1.133126\n",
              "Madeline SCHIZAS      1.131511\n",
              "Ekaterina RYABOVA     1.096881\n",
              "Ekaterina KURAKOVA    1.072812\n",
              "Viktoriia SAFONOVA    1.060095\n",
              "Eva-Lotta KIIBUS      1.042351\n",
              "Nicole SCHOTT         1.002048\n",
              "Alexandra FEIGIN      1.000000\n",
              "Eliska BREZINOVA      0.961425\n",
              "Yi ZHU                0.957447\n",
              "Kailani CRAINE        0.934555\n",
              "Olga MIKUTINA         0.869066\n",
              "Jenni SAARINEN        0.270329\n",
              "dtype: float64"
            ]
          },
          "metadata": {},
          "execution_count": 118
        }
      ]
    },
    {
      "cell_type": "code",
      "source": [
        "lin = LinearRegression(fit_intercept=False)\n",
        "lin.fit(X, np.log(y))\n",
        "lin.coef_[:10], lin.intercept_"
      ],
      "metadata": {
        "colab": {
          "base_uri": "https://localhost:8080/"
        },
        "id": "ZYQpEeCA6u9H",
        "outputId": "026383e7-8955-44d3-b5a0-67c51f71af76"
      },
      "id": "ZYQpEeCA6u9H",
      "execution_count": 119,
      "outputs": [
        {
          "output_type": "execute_result",
          "data": {
            "text/plain": [
              "(array([ 5.11928563,  0.31426071,  0.19438958,  0.35003878,  0.07030294,\n",
              "         0.09249079, -0.03932126,  0.04150001, -1.30810006, -0.06765757]), 0.0)"
            ]
          },
          "metadata": {},
          "execution_count": 119
        }
      ]
    },
    {
      "cell_type": "code",
      "source": [
        "skater_scores = pd.DataFrame(skater_scores)\n",
        "skater_scores.columns = ['score']\n",
        "\n",
        "print (skater_scores)\n",
        "print (world_scores)"
      ],
      "metadata": {
        "colab": {
          "base_uri": "https://localhost:8080/"
        },
        "id": "7EXWyH3n7f4K",
        "outputId": "5091f91a-908e-4a58-e69b-c0266b8e8133"
      },
      "id": "7EXWyH3n7f4K",
      "execution_count": 122,
      "outputs": [
        {
          "output_type": "stream",
          "name": "stdout",
          "text": [
            "                       score\n",
            "Anna SHCHERBAKOVA   1.419094\n",
            "Alexandra TRUSOVA   1.369219\n",
            "Kaori SAKAMOTO      1.248948\n",
            "Alysa LIU           1.214541\n",
            "Loena HENDRICKX     1.200557\n",
            "Mariah BELL         1.188914\n",
            "Wakaba HIGUCHI      1.182398\n",
            "Mana KAWABE         1.138414\n",
            "Karen CHEN          1.133126\n",
            "Madeline SCHIZAS    1.131511\n",
            "Ekaterina RYABOVA   1.096881\n",
            "Ekaterina KURAKOVA  1.072812\n",
            "Viktoriia SAFONOVA  1.060095\n",
            "Eva-Lotta KIIBUS    1.042351\n",
            "Nicole SCHOTT       1.002048\n",
            "Alexandra FEIGIN    1.000000\n",
            "Eliska BREZINOVA    0.961425\n",
            "Yi ZHU              0.957447\n",
            "Kailani CRAINE      0.934555\n",
            "Olga MIKUTINA       0.869066\n",
            "Jenni SAARINEN      0.270329\n",
            "                         score  year event\n",
            "name                                      \n",
            "Wakaba HIGUCHI      210.899994  2018    WC\n",
            "Loena HENDRICKX     192.309998  2018    WC\n",
            "Mariah BELL         174.399994  2018    WC\n",
            "Nicole SCHOTT       174.130005  2018    WC\n",
            "Kailani CRAINE      154.410004  2018    WC\n",
            "Eliska BREZINOVA    153.139999  2018    WC\n",
            "Kaori SAKAMOTO      222.830002  2019    WC\n",
            "Mariah BELL         208.070007  2019    WC\n",
            "Loena HENDRICKX     186.289993  2019    WC\n",
            "Ekaterina RYABOVA   179.880005  2019    WC\n",
            "Nicole SCHOTT       170.559998  2019    WC\n",
            "Alexandra FEIGIN    165.309998  2019    WC\n",
            "Eliska BREZINOVA    153.449997  2019    WC\n",
            "Kailani CRAINE       48.820000  2019    WC\n",
            "Anna SHCHERBAKOVA   233.169998  2021    WC\n",
            "Alexandra TRUSOVA   217.199997  2021    WC\n",
            "Karen CHEN          208.630005  2021    WC\n",
            "Loena HENDRICKX     208.440002  2021    WC\n",
            "Kaori SAKAMOTO      207.800003  2021    WC\n",
            "Olga MIKUTINA       198.770004  2021    WC\n",
            "Ekaterina RYABOVA   189.460007  2021    WC\n",
            "Madeline SCHIZAS    185.779999  2021    WC\n",
            "Eva-Lotta KIIBUS    181.470001  2021    WC\n",
            "Josefin TALJEGARD   178.100006  2021    WC\n",
            "Alexandra FEIGIN    173.520004  2021    WC\n",
            "Nicole SCHOTT       172.800003  2021    WC\n",
            "Eliska BREZINOVA    155.139999  2021    WC\n",
            "Jenni SAARINEN      146.539993  2021    WC\n",
            "Kailani CRAINE       56.860001  2021    WC\n",
            "Ekaterina KURAKOVA   52.279999  2021    WC\n",
            "Wakaba HIGUCHI      210.899994  2018    WC\n",
            "Loena HENDRICKX     192.309998  2018    WC\n",
            "Mariah BELL         174.399994  2018    WC\n",
            "Nicole SCHOTT       174.130005  2018    WC\n",
            "Kailani CRAINE      154.410004  2018    WC\n",
            "Eliska BREZINOVA    153.139999  2018    WC\n",
            "Kaori SAKAMOTO      222.830002  2019    WC\n",
            "Mariah BELL         208.070007  2019    WC\n",
            "Loena HENDRICKX     186.289993  2019    WC\n",
            "Ekaterina RYABOVA   179.880005  2019    WC\n",
            "Nicole SCHOTT       170.559998  2019    WC\n",
            "Alexandra FEIGIN    165.309998  2019    WC\n",
            "Eliska BREZINOVA    153.449997  2019    WC\n",
            "Kailani CRAINE       48.820000  2019    WC\n",
            "Anna SHCHERBAKOVA   233.169998  2021    WC\n",
            "Alexandra TRUSOVA   217.199997  2021    WC\n",
            "Karen CHEN          208.630005  2021    WC\n",
            "Loena HENDRICKX     208.440002  2021    WC\n",
            "Kaori SAKAMOTO      207.800003  2021    WC\n",
            "Olga MIKUTINA       198.770004  2021    WC\n",
            "Ekaterina RYABOVA   189.460007  2021    WC\n",
            "Madeline SCHIZAS    185.779999  2021    WC\n",
            "Eva-Lotta KIIBUS    181.470001  2021    WC\n",
            "Josefin TALJEGARD   178.100006  2021    WC\n",
            "Alexandra FEIGIN    173.520004  2021    WC\n",
            "Nicole SCHOTT       172.800003  2021    WC\n",
            "Eliska BREZINOVA    155.139999  2021    WC\n",
            "Jenni SAARINEN      146.539993  2021    WC\n",
            "Kailani CRAINE       56.860001  2021    WC\n",
            "Ekaterina KURAKOVA   52.279999  2021    WC\n"
          ]
        }
      ]
    },
    {
      "cell_type": "code",
      "source": [
        "loglinear_ranking, world_ranking = return_ranking(skater_scores, world_scores)\n"
      ],
      "metadata": {
        "colab": {
          "base_uri": "https://localhost:8080/"
        },
        "id": "XPV4V1lY6xD3",
        "outputId": "71608b55-3ad6-470e-9483-cee7e998999e"
      },
      "id": "XPV4V1lY6xD3",
      "execution_count": 123,
      "outputs": [
        {
          "output_type": "stream",
          "name": "stdout",
          "text": [
            "['Anna SHCHERBAKOVA', 'Alexandra TRUSOVA', 'Kaori SAKAMOTO', 'Loena HENDRICKX', 'Mariah BELL', 'Wakaba HIGUCHI', 'Karen CHEN', 'Madeline SCHIZAS', 'Ekaterina RYABOVA', 'Ekaterina KURAKOVA', 'Eva-Lotta KIIBUS', 'Nicole SCHOTT', 'Alexandra FEIGIN', 'Eliska BREZINOVA', 'Kailani CRAINE', 'Olga MIKUTINA', 'Jenni SAARINEN']\n",
            "['Anna SHCHERBAKOVA', 'Kaori SAKAMOTO', 'Alexandra TRUSOVA', 'Wakaba HIGUCHI', 'Karen CHEN', 'Loena HENDRICKX', 'Mariah BELL', 'Olga MIKUTINA', 'Ekaterina RYABOVA', 'Madeline SCHIZAS', 'Eva-Lotta KIIBUS', 'Nicole SCHOTT', 'Alexandra FEIGIN', 'Eliska BREZINOVA', 'Kailani CRAINE', 'Jenni SAARINEN', 'Ekaterina KURAKOVA']\n"
          ]
        }
      ]
    },
    {
      "cell_type": "code",
      "source": [
        "calculate_kendall_tau(linear_ranking, world_ranking)\n"
      ],
      "metadata": {
        "colab": {
          "base_uri": "https://localhost:8080/"
        },
        "id": "-J1xv3rm6yv9",
        "outputId": "d621becf-8168-444b-8d2d-6cd97a82b228"
      },
      "id": "-J1xv3rm6yv9",
      "execution_count": 124,
      "outputs": [
        {
          "output_type": "stream",
          "name": "stdout",
          "text": [
            "{('Ekaterina KURAKOVA', 'Jenni SAARINEN'), ('Anna SHCHERBAKOVA', 'Ekaterina RYABOVA'), ('Loena HENDRICKX', 'Eliska BREZINOVA'), ('Eva-Lotta KIIBUS', 'Alexandra FEIGIN'), ('Ekaterina RYABOVA', 'Kailani CRAINE'), ('Eva-Lotta KIIBUS', 'Nicole SCHOTT'), ('Wakaba HIGUCHI', 'Ekaterina RYABOVA'), ('Alexandra TRUSOVA', 'Wakaba HIGUCHI'), ('Alexandra FEIGIN', 'Eliska BREZINOVA'), ('Karen CHEN', 'Madeline SCHIZAS'), ('Ekaterina KURAKOVA', 'Nicole SCHOTT'), ('Anna SHCHERBAKOVA', 'Loena HENDRICKX'), ('Loena HENDRICKX', 'Alexandra FEIGIN'), ('Mariah BELL', 'Ekaterina RYABOVA'), ('Anna SHCHERBAKOVA', 'Kailani CRAINE'), ('Loena HENDRICKX', 'Madeline SCHIZAS'), ('Ekaterina RYABOVA', 'Eliska BREZINOVA'), ('Kaori SAKAMOTO', 'Madeline SCHIZAS'), ('Mariah BELL', 'Karen CHEN'), ('Wakaba HIGUCHI', 'Madeline SCHIZAS'), ('Madeline SCHIZAS', 'Ekaterina KURAKOVA'), ('Kaori SAKAMOTO', 'Olga MIKUTINA'), ('Karen CHEN', 'Alexandra FEIGIN'), ('Karen CHEN', 'Nicole SCHOTT'), ('Madeline SCHIZAS', 'Eliska BREZINOVA'), ('Mariah BELL', 'Jenni SAARINEN'), ('Madeline SCHIZAS', 'Eva-Lotta KIIBUS'), ('Kaori SAKAMOTO', 'Eliska BREZINOVA'), ('Ekaterina KURAKOVA', 'Eliska BREZINOVA'), ('Anna SHCHERBAKOVA', 'Eliska BREZINOVA'), ('Kaori SAKAMOTO', 'Eva-Lotta KIIBUS'), ('Loena HENDRICKX', 'Ekaterina RYABOVA'), ('Ekaterina RYABOVA', 'Alexandra FEIGIN'), ('Madeline SCHIZAS', 'Alexandra FEIGIN'), ('Karen CHEN', 'Jenni SAARINEN'), ('Eliska BREZINOVA', 'Olga MIKUTINA'), ('Alexandra TRUSOVA', 'Kailani CRAINE'), ('Karen CHEN', 'Eliska BREZINOVA'), ('Kaori SAKAMOTO', 'Wakaba HIGUCHI'), ('Madeline SCHIZAS', 'Ekaterina RYABOVA'), ('Alexandra TRUSOVA', 'Nicole SCHOTT'), ('Mariah BELL', 'Nicole SCHOTT'), ('Anna SHCHERBAKOVA', 'Olga MIKUTINA'), ('Alexandra TRUSOVA', 'Kaori SAKAMOTO'), ('Ekaterina RYABOVA', 'Eva-Lotta KIIBUS'), ('Karen CHEN', 'Ekaterina KURAKOVA'), ('Ekaterina KURAKOVA', 'Olga MIKUTINA'), ('Kailani CRAINE', 'Jenni SAARINEN'), ('Anna SHCHERBAKOVA', 'Alexandra TRUSOVA'), ('Alexandra TRUSOVA', 'Madeline SCHIZAS'), ('Kaori SAKAMOTO', 'Kailani CRAINE'), ('Alexandra TRUSOVA', 'Karen CHEN'), ('Wakaba HIGUCHI', 'Nicole SCHOTT'), ('Madeline SCHIZAS', 'Olga MIKUTINA'), ('Ekaterina KURAKOVA', 'Kailani CRAINE'), ('Alexandra TRUSOVA', 'Jenni SAARINEN'), ('Ekaterina KURAKOVA', 'Eva-Lotta KIIBUS'), ('Anna SHCHERBAKOVA', 'Eva-Lotta KIIBUS'), ('Loena HENDRICKX', 'Olga MIKUTINA'), ('Anna SHCHERBAKOVA', 'Madeline SCHIZAS'), ('Alexandra TRUSOVA', 'Mariah BELL'), ('Mariah BELL', 'Ekaterina KURAKOVA'), ('Eva-Lotta KIIBUS', 'Eliska BREZINOVA'), ('Wakaba HIGUCHI', 'Kailani CRAINE'), ('Nicole SCHOTT', 'Kailani CRAINE'), ('Wakaba HIGUCHI', 'Jenni SAARINEN'), ('Anna SHCHERBAKOVA', 'Wakaba HIGUCHI'), ('Mariah BELL', 'Alexandra FEIGIN'), ('Kaori SAKAMOTO', 'Loena HENDRICKX'), ('Kaori SAKAMOTO', 'Ekaterina RYABOVA'), ('Alexandra TRUSOVA', 'Loena HENDRICKX'), ('Eva-Lotta KIIBUS', 'Olga MIKUTINA'), ('Wakaba HIGUCHI', 'Karen CHEN'), ('Nicole SCHOTT', 'Olga MIKUTINA'), ('Loena HENDRICKX', 'Eva-Lotta KIIBUS'), ('Ekaterina RYABOVA', 'Jenni SAARINEN'), ('Mariah BELL', 'Olga MIKUTINA'), ('Alexandra FEIGIN', 'Kailani CRAINE'), ('Loena HENDRICKX', 'Mariah BELL'), ('Alexandra TRUSOVA', 'Ekaterina KURAKOVA'), ('Loena HENDRICKX', 'Ekaterina KURAKOVA'), ('Nicole SCHOTT', 'Alexandra FEIGIN'), ('Alexandra FEIGIN', 'Olga MIKUTINA'), ('Ekaterina RYABOVA', 'Nicole SCHOTT'), ('Alexandra TRUSOVA', 'Eva-Lotta KIIBUS'), ('Karen CHEN', 'Ekaterina RYABOVA'), ('Kailani CRAINE', 'Olga MIKUTINA'), ('Alexandra TRUSOVA', 'Alexandra FEIGIN'), ('Mariah BELL', 'Wakaba HIGUCHI'), ('Anna SHCHERBAKOVA', 'Karen CHEN'), ('Madeline SCHIZAS', 'Kailani CRAINE'), ('Nicole SCHOTT', 'Eliska BREZINOVA'), ('Eliska BREZINOVA', 'Jenni SAARINEN'), ('Mariah BELL', 'Kailani CRAINE'), ('Eliska BREZINOVA', 'Kailani CRAINE'), ('Anna SHCHERBAKOVA', 'Kaori SAKAMOTO'), ('Wakaba HIGUCHI', 'Ekaterina KURAKOVA'), ('Anna SHCHERBAKOVA', 'Jenni SAARINEN'), ('Ekaterina RYABOVA', 'Ekaterina KURAKOVA'), ('Karen CHEN', 'Eva-Lotta KIIBUS'), ('Mariah BELL', 'Madeline SCHIZAS'), ('Alexandra TRUSOVA', 'Eliska BREZINOVA'), ('Kaori SAKAMOTO', 'Karen CHEN'), ('Wakaba HIGUCHI', 'Eva-Lotta KIIBUS'), ('Karen CHEN', 'Kailani CRAINE'), ('Loena HENDRICKX', 'Karen CHEN'), ('Madeline SCHIZAS', 'Jenni SAARINEN'), ('Loena HENDRICKX', 'Wakaba HIGUCHI'), ('Kaori SAKAMOTO', 'Ekaterina KURAKOVA'), ('Ekaterina KURAKOVA', 'Alexandra FEIGIN'), ('Anna SHCHERBAKOVA', 'Alexandra FEIGIN'), ('Wakaba HIGUCHI', 'Alexandra FEIGIN'), ('Kaori SAKAMOTO', 'Mariah BELL'), ('Anna SHCHERBAKOVA', 'Nicole SCHOTT'), ('Kaori SAKAMOTO', 'Jenni SAARINEN'), ('Anna SHCHERBAKOVA', 'Mariah BELL'), ('Kaori SAKAMOTO', 'Alexandra FEIGIN'), ('Karen CHEN', 'Olga MIKUTINA'), ('Loena HENDRICKX', 'Jenni SAARINEN'), ('Mariah BELL', 'Eliska BREZINOVA'), ('Anna SHCHERBAKOVA', 'Ekaterina KURAKOVA'), ('Loena HENDRICKX', 'Kailani CRAINE'), ('Nicole SCHOTT', 'Jenni SAARINEN'), ('Olga MIKUTINA', 'Jenni SAARINEN'), ('Mariah BELL', 'Eva-Lotta KIIBUS'), ('Alexandra TRUSOVA', 'Ekaterina RYABOVA'), ('Wakaba HIGUCHI', 'Olga MIKUTINA'), ('Madeline SCHIZAS', 'Nicole SCHOTT'), ('Kaori SAKAMOTO', 'Nicole SCHOTT'), ('Eva-Lotta KIIBUS', 'Jenni SAARINEN'), ('Loena HENDRICKX', 'Nicole SCHOTT'), ('Eva-Lotta KIIBUS', 'Kailani CRAINE'), ('Wakaba HIGUCHI', 'Eliska BREZINOVA'), ('Alexandra FEIGIN', 'Jenni SAARINEN'), ('Alexandra TRUSOVA', 'Olga MIKUTINA'), ('Ekaterina RYABOVA', 'Olga MIKUTINA')}\n",
            "{('Anna SHCHERBAKOVA', 'Ekaterina RYABOVA'), ('Loena HENDRICKX', 'Eliska BREZINOVA'), ('Ekaterina RYABOVA', 'Madeline SCHIZAS'), ('Eva-Lotta KIIBUS', 'Alexandra FEIGIN'), ('Jenni SAARINEN', 'Ekaterina KURAKOVA'), ('Ekaterina RYABOVA', 'Kailani CRAINE'), ('Eva-Lotta KIIBUS', 'Nicole SCHOTT'), ('Wakaba HIGUCHI', 'Ekaterina RYABOVA'), ('Alexandra TRUSOVA', 'Wakaba HIGUCHI'), ('Alexandra FEIGIN', 'Eliska BREZINOVA'), ('Karen CHEN', 'Madeline SCHIZAS'), ('Anna SHCHERBAKOVA', 'Loena HENDRICKX'), ('Alexandra FEIGIN', 'Ekaterina KURAKOVA'), ('Loena HENDRICKX', 'Alexandra FEIGIN'), ('Mariah BELL', 'Ekaterina RYABOVA'), ('Anna SHCHERBAKOVA', 'Kailani CRAINE'), ('Loena HENDRICKX', 'Madeline SCHIZAS'), ('Ekaterina RYABOVA', 'Eliska BREZINOVA'), ('Kaori SAKAMOTO', 'Madeline SCHIZAS'), ('Wakaba HIGUCHI', 'Madeline SCHIZAS'), ('Madeline SCHIZAS', 'Ekaterina KURAKOVA'), ('Kaori SAKAMOTO', 'Olga MIKUTINA'), ('Karen CHEN', 'Alexandra FEIGIN'), ('Karen CHEN', 'Nicole SCHOTT'), ('Madeline SCHIZAS', 'Eliska BREZINOVA'), ('Mariah BELL', 'Jenni SAARINEN'), ('Madeline SCHIZAS', 'Eva-Lotta KIIBUS'), ('Kaori SAKAMOTO', 'Eliska BREZINOVA'), ('Anna SHCHERBAKOVA', 'Eliska BREZINOVA'), ('Kaori SAKAMOTO', 'Eva-Lotta KIIBUS'), ('Loena HENDRICKX', 'Ekaterina RYABOVA'), ('Ekaterina RYABOVA', 'Alexandra FEIGIN'), ('Madeline SCHIZAS', 'Alexandra FEIGIN'), ('Eliska BREZINOVA', 'Ekaterina KURAKOVA'), ('Olga MIKUTINA', 'Ekaterina RYABOVA'), ('Karen CHEN', 'Jenni SAARINEN'), ('Alexandra TRUSOVA', 'Kailani CRAINE'), ('Karen CHEN', 'Eliska BREZINOVA'), ('Kaori SAKAMOTO', 'Wakaba HIGUCHI'), ('Ekaterina RYABOVA', 'Eva-Lotta KIIBUS'), ('Alexandra TRUSOVA', 'Nicole SCHOTT'), ('Mariah BELL', 'Nicole SCHOTT'), ('Anna SHCHERBAKOVA', 'Olga MIKUTINA'), ('Olga MIKUTINA', 'Alexandra FEIGIN'), ('Karen CHEN', 'Ekaterina KURAKOVA'), ('Kailani CRAINE', 'Jenni SAARINEN'), ('Anna SHCHERBAKOVA', 'Alexandra TRUSOVA'), ('Alexandra TRUSOVA', 'Madeline SCHIZAS'), ('Kaori SAKAMOTO', 'Kailani CRAINE'), ('Alexandra TRUSOVA', 'Karen CHEN'), ('Olga MIKUTINA', 'Eva-Lotta KIIBUS'), ('Wakaba HIGUCHI', 'Mariah BELL'), ('Wakaba HIGUCHI', 'Nicole SCHOTT'), ('Olga MIKUTINA', 'Eliska BREZINOVA'), ('Alexandra TRUSOVA', 'Jenni SAARINEN'), ('Olga MIKUTINA', 'Ekaterina KURAKOVA'), ('Anna SHCHERBAKOVA', 'Eva-Lotta KIIBUS'), ('Loena HENDRICKX', 'Olga MIKUTINA'), ('Anna SHCHERBAKOVA', 'Madeline SCHIZAS'), ('Alexandra TRUSOVA', 'Mariah BELL'), ('Kaori SAKAMOTO', 'Alexandra TRUSOVA'), ('Mariah BELL', 'Ekaterina KURAKOVA'), ('Eva-Lotta KIIBUS', 'Eliska BREZINOVA'), ('Wakaba HIGUCHI', 'Kailani CRAINE'), ('Nicole SCHOTT', 'Kailani CRAINE'), ('Wakaba HIGUCHI', 'Jenni SAARINEN'), ('Anna SHCHERBAKOVA', 'Wakaba HIGUCHI'), ('Mariah BELL', 'Alexandra FEIGIN'), ('Kaori SAKAMOTO', 'Loena HENDRICKX'), ('Kaori SAKAMOTO', 'Ekaterina RYABOVA'), ('Alexandra TRUSOVA', 'Loena HENDRICKX'), ('Kailani CRAINE', 'Ekaterina KURAKOVA'), ('Wakaba HIGUCHI', 'Karen CHEN'), ('Loena HENDRICKX', 'Eva-Lotta KIIBUS'), ('Ekaterina RYABOVA', 'Jenni SAARINEN'), ('Mariah BELL', 'Olga MIKUTINA'), ('Alexandra FEIGIN', 'Kailani CRAINE'), ('Wakaba HIGUCHI', 'Loena HENDRICKX'), ('Loena HENDRICKX', 'Mariah BELL'), ('Alexandra TRUSOVA', 'Ekaterina KURAKOVA'), ('Loena HENDRICKX', 'Ekaterina KURAKOVA'), ('Nicole SCHOTT', 'Alexandra FEIGIN'), ('Ekaterina RYABOVA', 'Nicole SCHOTT'), ('Karen CHEN', 'Loena HENDRICKX'), ('Alexandra TRUSOVA', 'Eva-Lotta KIIBUS'), ('Karen CHEN', 'Ekaterina RYABOVA'), ('Eva-Lotta KIIBUS', 'Ekaterina KURAKOVA'), ('Alexandra TRUSOVA', 'Alexandra FEIGIN'), ('Karen CHEN', 'Mariah BELL'), ('Anna SHCHERBAKOVA', 'Karen CHEN'), ('Madeline SCHIZAS', 'Kailani CRAINE'), ('Nicole SCHOTT', 'Eliska BREZINOVA'), ('Eliska BREZINOVA', 'Jenni SAARINEN'), ('Mariah BELL', 'Kailani CRAINE'), ('Eliska BREZINOVA', 'Kailani CRAINE'), ('Anna SHCHERBAKOVA', 'Kaori SAKAMOTO'), ('Wakaba HIGUCHI', 'Ekaterina KURAKOVA'), ('Anna SHCHERBAKOVA', 'Jenni SAARINEN'), ('Ekaterina RYABOVA', 'Ekaterina KURAKOVA'), ('Nicole SCHOTT', 'Ekaterina KURAKOVA'), ('Karen CHEN', 'Eva-Lotta KIIBUS'), ('Olga MIKUTINA', 'Nicole SCHOTT'), ('Mariah BELL', 'Madeline SCHIZAS'), ('Alexandra TRUSOVA', 'Eliska BREZINOVA'), ('Kaori SAKAMOTO', 'Karen CHEN'), ('Wakaba HIGUCHI', 'Eva-Lotta KIIBUS'), ('Karen CHEN', 'Kailani CRAINE'), ('Madeline SCHIZAS', 'Jenni SAARINEN'), ('Kaori SAKAMOTO', 'Ekaterina KURAKOVA'), ('Anna SHCHERBAKOVA', 'Alexandra FEIGIN'), ('Wakaba HIGUCHI', 'Alexandra FEIGIN'), ('Kaori SAKAMOTO', 'Mariah BELL'), ('Anna SHCHERBAKOVA', 'Nicole SCHOTT'), ('Kaori SAKAMOTO', 'Jenni SAARINEN'), ('Anna SHCHERBAKOVA', 'Mariah BELL'), ('Kaori SAKAMOTO', 'Alexandra FEIGIN'), ('Karen CHEN', 'Olga MIKUTINA'), ('Loena HENDRICKX', 'Jenni SAARINEN'), ('Mariah BELL', 'Eliska BREZINOVA'), ('Anna SHCHERBAKOVA', 'Ekaterina KURAKOVA'), ('Loena HENDRICKX', 'Kailani CRAINE'), ('Nicole SCHOTT', 'Jenni SAARINEN'), ('Olga MIKUTINA', 'Jenni SAARINEN'), ('Olga MIKUTINA', 'Kailani CRAINE'), ('Mariah BELL', 'Eva-Lotta KIIBUS'), ('Alexandra TRUSOVA', 'Ekaterina RYABOVA'), ('Wakaba HIGUCHI', 'Olga MIKUTINA'), ('Madeline SCHIZAS', 'Nicole SCHOTT'), ('Kaori SAKAMOTO', 'Nicole SCHOTT'), ('Eva-Lotta KIIBUS', 'Jenni SAARINEN'), ('Olga MIKUTINA', 'Madeline SCHIZAS'), ('Loena HENDRICKX', 'Nicole SCHOTT'), ('Eva-Lotta KIIBUS', 'Kailani CRAINE'), ('Wakaba HIGUCHI', 'Eliska BREZINOVA'), ('Alexandra FEIGIN', 'Jenni SAARINEN'), ('Alexandra TRUSOVA', 'Olga MIKUTINA')}\n",
            "There are 116 concordant_pairs out of 136 pairs\n"
          ]
        },
        {
          "output_type": "execute_result",
          "data": {
            "text/plain": [
              "0.7058823529411765"
            ]
          },
          "metadata": {},
          "execution_count": 124
        }
      ]
    },
    {
      "cell_type": "code",
      "source": [
        ""
      ],
      "metadata": {
        "id": "Y2tg3hZk60gT"
      },
      "id": "Y2tg3hZk60gT",
      "execution_count": 125,
      "outputs": []
    }
  ],
  "metadata": {
    "kernelspec": {
      "display_name": "Python 3 (ipykernel)",
      "language": "python",
      "name": "python3"
    },
    "language_info": {
      "codemirror_mode": {
        "name": "ipython",
        "version": 3
      },
      "file_extension": ".py",
      "mimetype": "text/x-python",
      "name": "python",
      "nbconvert_exporter": "python",
      "pygments_lexer": "ipython3",
      "version": "3.10.1"
    },
    "colab": {
      "name": "Multiplicative Model.ipynb",
      "provenance": [],
      "include_colab_link": true
    }
  },
  "nbformat": 4,
  "nbformat_minor": 5
}