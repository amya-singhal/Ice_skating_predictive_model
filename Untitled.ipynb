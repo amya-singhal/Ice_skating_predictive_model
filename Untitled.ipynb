{
 "cells": [
  {
   "cell_type": "code",
   "execution_count": 1,
   "id": "8896b738-f025-449e-9df8-ca9d24fcf052",
   "metadata": {},
   "outputs": [
    {
     "ename": "ModuleNotFoundError",
     "evalue": "No module named 'sklearn'",
     "output_type": "error",
     "traceback": [
      "\u001b[0;31m---------------------------------------------------------------------------\u001b[0m",
      "\u001b[0;31mModuleNotFoundError\u001b[0m                       Traceback (most recent call last)",
      "Input \u001b[0;32mIn [1]\u001b[0m, in \u001b[0;36m<module>\u001b[0;34m\u001b[0m\n\u001b[1;32m      2\u001b[0m \u001b[38;5;28;01mimport\u001b[39;00m \u001b[38;5;21;01mpandas\u001b[39;00m \u001b[38;5;28;01mas\u001b[39;00m \u001b[38;5;21;01mpd\u001b[39;00m\n\u001b[1;32m      3\u001b[0m \u001b[38;5;28;01mimport\u001b[39;00m \u001b[38;5;21;01mnumpy\u001b[39;00m \u001b[38;5;28;01mas\u001b[39;00m \u001b[38;5;21;01mnp\u001b[39;00m\n\u001b[0;32m----> 4\u001b[0m \u001b[38;5;28;01mfrom\u001b[39;00m \u001b[38;5;21;01msklearn\u001b[39;00m\u001b[38;5;21;01m.\u001b[39;00m\u001b[38;5;21;01mlinear_model\u001b[39;00m \u001b[38;5;28;01mimport\u001b[39;00m LinearRegression\n\u001b[1;32m      5\u001b[0m \u001b[38;5;28;01mfrom\u001b[39;00m \u001b[38;5;21;01msklearn\u001b[39;00m\u001b[38;5;21;01m.\u001b[39;00m\u001b[38;5;21;01mmetrics\u001b[39;00m \u001b[38;5;28;01mimport\u001b[39;00m mean_squared_error\n\u001b[1;32m      6\u001b[0m \u001b[38;5;28;01mfrom\u001b[39;00m \u001b[38;5;21;01mitertools\u001b[39;00m \u001b[38;5;28;01mimport\u001b[39;00m combinations\n",
      "\u001b[0;31mModuleNotFoundError\u001b[0m: No module named 'sklearn'"
     ]
    }
   ],
   "source": [
    "import csv\n",
    "import pandas as pd\n",
    "import numpy as np\n",
    "from sklearn.linear_model import LinearRegression\n",
    "from sklearn.metrics import mean_squared_error\n",
    "from itertools import combinations\n",
    "from scipy.stats import kendalltau, norm\n",
    "from math import sqrt\n",
    "import matplotlib.pyplot as plt\n",
    "from matplotlib.patches import ConnectionPatch\n",
    "from matplotlib import rc\n",
    "import matplotlib as mpl\n",
    "import seaborn as sns\n",
    "\n",
    "plt.style.use('seaborn')\n",
    "rc('text', usetex=False)\n",
    "%matplotlib inline"
   ]
  },
  {
   "cell_type": "code",
   "execution_count": null,
   "id": "91e1e9d2-6a4f-4339-ae01-c5e1f5109e00",
   "metadata": {},
   "outputs": [],
   "source": [
    "!pip install utils\n",
    "%load_ext autoreload\n",
    "%aimport utils\n",
    "%autoreload 1\n",
    "from utils import *"
   ]
  },
  {
   "cell_type": "code",
   "execution_count": null,
   "id": "04b0d664-cd03-4c89-b144-8d53315d667d",
   "metadata": {},
   "outputs": [],
   "source": [
    "def add_data(skaters_list, year, comp):\n",
    "  new = []\n",
    "  for i in skaters_list:\n",
    "    new.append(i + [year, comp])\n",
    "  return new"
   ]
  },
  {
   "cell_type": "code",
   "execution_count": null,
   "id": "f61501c8-9158-4afd-9511-e0705a0c2218",
   "metadata": {},
   "outputs": [],
   "source": [
    "from google.colab import drive\n",
    "drive.mount('/content/drive')"
   ]
  },
  {
   "cell_type": "code",
   "execution_count": null,
   "id": "9e2b0ffd-6318-46b4-983b-b69492fabea0",
   "metadata": {},
   "outputs": [],
   "source": [
    "skaters_list = ['Olga Mikutina', 'Ekaterina Ryabova', 'Loena Hendrickx', 'Alexandra Feigin', 'Madeline Schizas', 'TBD', 'Eliska Brezinova', 'TBD', 'TBD', 'Nicole Schott', 'Natasha McKay', 'Lara Naki Gutmann*', 'Wakaba Higuchi', 'Mana Kawabe', 'Kaori Sakamoto', 'Lindsay van Zundert', 'Ekaterina Kurakova', 'Yelim Kim', 'You Young', 'Mariah Bell', 'Karen Chen', 'Alysa Liu']\n",
    "# changed yelim kim and eliska brezinova\n",
    "skaters_country_dict = {'Olga Mikutina': 'Austria', 'Ekaterina Ryabova': 'Azerbaijan', 'Loena Hendrickx': 'Belgium', 'Alexandra Feigin': 'Bulgaria', 'Madeline Schizas': 'Canada', 'TBD': 'Finland', 'Eliška Březinová': 'Czech Republic', 'Nicole Schott': 'Germany', 'Natasha McKay': 'Great Britain', 'Lara Naki Gutmann*': 'Italy', 'Wakaba Higuchi': 'Japan', 'Mana Kawabe': 'Japan', 'Kaori Sakamoto': 'Japan', 'Lindsay van Zundert': 'Netherlands', 'Ekaterina Kurakova': 'Poland', 'Kim Ye-lim': 'South Korea', 'You Young': 'South Korea', 'Mariah Bell': 'United States', 'Karen Chen': 'United States', 'Alysa Liu': 'United States'}"
   ]
  },
  {
   "cell_type": "code",
   "execution_count": null,
   "id": "979399ff-2776-4e24-be02-6e06d8261a9d",
   "metadata": {},
   "outputs": [],
   "source": [
    "list_1=[['Alena KOSTORNAIA', '240.81'], ['Anna SHCHERBAKOVA', '237.76'], ['Alexandra TRUSOVA', '225.34'], ['Alexia PAGANINI', '192.88'], ['Emmi PELTONEN', '181.79'], ['Ekaterina RYABOVA', '181.49'], ['Eva Lotta KIIBUS', '181.24'], ['Alessia TORNAGHI', '172.17'], ['Mae Berenice MEITE', '172.08'], ['Ekaterina KURAKOVA', '170.24'], ['Maia MAZZARA', '170.06'], ['Linnea CEDER', '166.16'], ['Nicole SCHOTT', '162.26'], ['Viktoriia SAFONOVA', '159.91'], ['Alina URUSHADZE', '154.81'], ['Lea SERNA', '154.73'], ['Alexandra FEIGIN', '154.43'], ['Anita OSTLUND', '152.91'], ['Yasmine Kimiko YAMADA', '152.62'], ['Dasa GRM', '150.90'], ['Ivett TOTH', '150.36'], ['Eliska BREZINOVA', '145.35'], ['Natasha McKAY', '142.14'], ['Olga MIKUTINA', '130.15'], ['Nelli IOFFE', '51.70'], ['Aleksandra GOLOVKINA', '50.88'], ['Anastasiya GALUSTYAN', '50.08'], ['Valentina MATOS', '49.02'], ['Ema DOBOSZOVA', '46.27'], ['Angelina KUCHVALSKA', '45.09'], ['Antonina DUBININA', '43.62'], ['Sinem KUYUCU', '43.16'], ['Jenni SAARINEN', '42.61'], ['Anastasia GOZHVA', '40.49'], ['Niki WORIES', '38.19'], ['Klara STEPANOVA', '37.83'], ['Hana CVIJANOVIC', '36.22']]"
   ]
  },
  {
   "cell_type": "code",
   "execution_count": null,
   "id": "31473ad7-a295-4f81-84dc-30b84df739c9",
   "metadata": {},
   "outputs": [],
   "source": [
    "list_2=[['Kaetlyn OSMOND', '223.23'], ['Wakaba HIGUCHI', '210.90'], ['Satoko MIYAHARA', '210.08'], ['Carolina KOSTNER', '208.88'], ['Alina ZAGITOVA', '207.72'], ['Bradie TENNELL', '199.89'], ['Gabrielle DALEMAN', '196.72'], ['Maria SOTSKOVA', '196.61'], ['Loena HENDRICKX', '192.31'], ['Mirai NAGASU', '187.52'], ['Elizabet TURSYNBAEVA', '186.85'], ['Mariah BELL', '174.40'], ['Nicole SCHOTT', '174.13'], ['Laurine LECAVELIER', '173.23'], ['Hanul KIM', '170.68'], ['Viveca LINDFORS', '166.23'], ['Kailani CRAINE', '154.41'], ['Eliska BREZINOVA', '153.14'], ['Stanislava KONSTANTINOVA', '153.03'], ['Alexia PAGANINI', '149.66'], ['Elisabetta LECCARDI', '149.17'], ['Dasa GRM', '144.51'], ['Ivett TOTH', '136.87']]"
   ]
  },
  {
   "cell_type": "code",
   "execution_count": null,
   "id": "35930127-eba4-41a2-97dd-9e2d59e3c37d",
   "metadata": {},
   "outputs": [],
   "source": [
    "list_3=[['Alina ZAGITOVA', '238.24'], ['Evgenia MEDVEDEVA', '232.86'], ['Carolina KOSTNER', '204.25'], ['Maria SOTSKOVA', '200.81'], ['Loena HENDRICKX', '176.91'], ['Nicole RAJICOVA', '171.90'], ['Alexia PAGANINI', '161.62'], ['Mae Berenice MEITE', '159.70'], ['Emmi PELTONEN', '159.48'], ['Nicole SCHOTT', '157.84'], ['Laurine LECAVELIER', '154.11'], ['Eliska BREZINOVA', '149.69'], ['Ivett TOTH', '148.98'], ['Viveca LINDFORS', '147.89'], ['Micol CRISTINI', '147.80'], ['Lea Johanna DASTICH', '146.82'], ['Anita ÖSTLUND', '145.14'], ['Anne Line GJERSEM', '142.68'], ['Giada RUSSO', '142.38'], ['Dasa GRM', '137.31'], ['Pernille SORENSEN', '133.94'], ['Elzbieta KROPA', '133.87'], ['Anna KHNYCHENKOVA', '132.70'], ['Silvia HUGEC', '123.45']]"
   ]
  },
  {
   "cell_type": "code",
   "execution_count": null,
   "id": "d9ddd3bd-bf01-4c40-a3d5-4e1bae0f9dc9",
   "metadata": {},
   "outputs": [],
   "source": [
    "list_4=[['Satoko MIYAHARA', '219.71'], ['Kaori SAKAMOTO', '213.90'], ['Sofia SAMODUROVA', '198.70'], ['Bradie TENNELL', '192.89'], ['Laurine LECAVELIER', '172.41'], ['Megan WESSENBERG', '170.33'], ['Polina TSURSKAYA', '159.45'], ['Marin HONDA', '158.04'], ['Alaine CHARTRAND', '155.49'], ['Starr ANDREWS', '150.56']]"
   ]
  },
  {
   "cell_type": "code",
   "execution_count": null,
   "id": "fb06a422-93a3-43af-a194-0fb2e6853e54",
   "metadata": {},
   "outputs": [],
   "source": [
    "list_5=[['Elizaveta TUKTAMYSHEVA', '203.32'], ['Mako YAMASHITA', '203.06'], ['Evgenia MEDVEDEVA', '197.91'], ['Mariah BELL', '190.25'], ['Elizabet TURSYNBAEVA', '185.71'], ['Wakaba HIGUCHI', '181.29'], ['Starr ANDREWS', '174.72'], ['Alaine CHARTRAND', '172.17'], ['Daria PANENKOVA', '168.54'], ['Alicia PINEAULT', '158.29'], ['Yura MATSUDA', '157.59']]"
   ]
  },
  {
   "cell_type": "code",
   "execution_count": null,
   "id": "9033c3d9-ac6b-490f-af6f-67a7fbfca8d2",
   "metadata": {},
   "outputs": [],
   "source": [
    "list_6=[['Alina ZAGITOVA', '215.29'], ['Stanislava KONSTANTINOVA', '197.57'], ['Kaori SAKAMOTO', '197.42'], ['Yuna SHIRAIWA', '191.46'], ['Loena HENDRICKX', '191.22'], ['Daria PANENKOVA', '161.48'], ['Hanul KIM', '160.15'], ['Viveca LINDFORS', '159.62'], ['Emmi PELTONEN', '158.72'], ['Rika HONGO', '156.59'], ['Angela WANG', '149.57']]"
   ]
  },
  {
   "cell_type": "code",
   "execution_count": null,
   "id": "886655cc-9e9c-4857-a51b-ea619d84eaca",
   "metadata": {},
   "outputs": [],
   "source": [
    "list_7=[['Rika KIHIRA', '224.31'], ['Satoko MIYAHARA', '219.47'], ['Elizaveta TUKTAMYSHEVA', '219.02'], ['Mai MIHARA', '204.20'], ['Mariah BELL', '198.96'], ['Eunsoo LIM', '196.31'], ['Alena LEONOVA', '194.15'], ['Courtney HICKS', '178.07'], ['Maria SOTSKOVA', '176.99'], ['Mae Berenice MEITE', '162.58'], ['Angela WANG', '159.36'], ['Kailani CRAINE', '154.22']]"
   ]
  },
  {
   "cell_type": "code",
   "execution_count": null,
   "id": "03848a47-cf8c-485e-8626-8f295765ddb8",
   "metadata": {},
   "outputs": [],
   "source": [
    "list_8=[['Alina ZAGITOVA', '222.95'], ['Sofia SAMODUROVA', '198.01'], ['Eunsoo LIM', '185.67'], ['Alexia PAGANINI', '182.50'], ['Yuna SHIRAIWA', '180.93'], ['Elizabet TURSYNBAEVA', '180.45'], ['Mako YAMASHITA', '161.22'], ['Polina TSURSKAYA', '149.45'], ['Yura MATSUDA', '137.99'], ['Gracie GOLD', '\\xa0']]"
   ]
  },
  {
   "cell_type": "code",
   "execution_count": null,
   "id": "ada4b724-8705-4523-b893-44ae3ad074eb",
   "metadata": {},
   "outputs": [],
   "source": [
    "list_9=[['Rika KIHIRA', '205.92'], ['Mai MIHARA', '202.81'], ['Bradie TENNELL', '197.78'], ['Evgenia MEDVEDEVA', '192.81'], ['Stanislava KONSTANTINOVA', '189.67'], ['Marin HONDA', '188.61'], ['Maria SOTSKOVA', '177.59'], ['Mae Berenice MEITE', '168.02'], ['Laurine LECAVELIER', '157.24'], ['Alexia PAGANINI', '156.51'], ['Lea SERNA', '149.49'], ['Matilda ALGOTSSON', '146.35']]"
   ]
  },
  {
   "cell_type": "code",
   "execution_count": null,
   "id": "e7e6a9fe-d75c-4dd3-847c-4b2b742b1c6f",
   "metadata": {},
   "outputs": [],
   "source": [
    "list_10=[['Rika KIHIRA', '233.12'], ['Alina ZAGITOVA', '226.53'], ['Elizaveta TUKTAMYSHEVA', '215.32'], ['Kaori SAKAMOTO', '211.68'], ['Sofia SAMODUROVA', '204.33'], ['Satoko MIYAHARA', '201.31']]"
   ]
  },
  {
   "cell_type": "code",
   "execution_count": null,
   "id": "1b68fbbe-d606-4ddc-af61-8a4ff9884491",
   "metadata": {},
   "outputs": [],
   "source": [
    "list_11=[['Rika KIHIRA', '205.92'], ['Mai MIHARA', '202.81'], ['Bradie TENNELL', '197.78'], ['Evgenia MEDVEDEVA', '192.81'], ['Stanislava KONSTANTINOVA', '189.67'], ['Marin HONDA', '188.61'], ['Maria SOTSKOVA', '177.59'], ['Mae Berenice MEITE', '168.02'], ['Laurine LECAVELIER', '157.24'], ['Alexia PAGANINI', '156.51'], ['Lea SERNA', '149.49'], ['Matilda ALGOTSSON', '146.35']]"
   ]
  },
  {
   "cell_type": "code",
   "execution_count": null,
   "id": "8cdf654b-9f0a-47ec-8f8e-d2ad7d382e6c",
   "metadata": {},
   "outputs": [],
   "source": [
    "list_12=[['Satoko MIYAHARA', '219.71'], ['Kaori SAKAMOTO', '213.90'], ['Sofia SAMODUROVA', '198.70'], ['Bradie TENNELL', '192.89'], ['Laurine LECAVELIER', '172.41'], ['Megan WESSENBERG', '170.33'], ['Polina TSURSKAYA', '159.45'], ['Marin HONDA', '158.04'], ['Alaine CHARTRAND', '155.49'], ['Starr ANDREWS', '150.56']]"
   ]
  },
  {
   "cell_type": "code",
   "execution_count": null,
   "id": "39a73e5e-c621-4968-a520-75c5990f7f38",
   "metadata": {},
   "outputs": [],
   "source": [
    "list_13=[['Alexandra TRUSOVA', '241.02'], ['Rika KIHIRA', '230.33'], ['Young YOU', '217.49'], ['Bradie TENNELL', '211.31'], ['Evgenia MEDVEDEVA', '209.62'], ['Marin HONDA', '179.26'], ['Yelim KIM', '176.93'], ['Serafima SAKHANOVICH', '175.97'], ['Alexia PAGANINI', '166.20'], ['Gabrielle DALEMAN', '164.34'], ['Alicia PINEAULT', '161.37'], ['Veronik MALLET', '147.79']]\n"
   ]
  },
  {
   "cell_type": "code",
   "execution_count": null,
   "id": "be850e0d-e114-4a2e-9a34-c80eedb01a6f",
   "metadata": {},
   "outputs": [],
   "source": [
    "list_14=[['Alena KOSTORNAIA', '240.00'], ['Rika KIHIRA', '231.84'], ['Alina ZAGITOVA', '217.99'], ['Yuhana YOKOI', '189.54'], ['Mako YAMASHITA', '189.25'], ['Sofia SAMODUROVA', '183.27'], ['Eunsoo LIM', '172.47'], ['Starr ANDREWS', '166.72'], ['Karen CHEN', '165.70'], ['Kailani CRAINE', '165.46'], ['Mae Berenice MEITE', '159.98'], ['Megan WESSENBERG', '131.73']]\n"
   ]
  },
  {
   "cell_type": "code",
   "execution_count": null,
   "id": "6bf81db3-d2e0-48df-8e9d-15b290e59990",
   "metadata": {},
   "outputs": [],
   "source": [
    "list_15=[['Alexandra TRUSOVA', '234.47'], ['Evgenia MEDVEDEVA', '225.76'], ['Mariah BELL', '205.67'], ['Satoko MIYAHARA', '192.42'], ['Ekaterina RYABOVA', '187.77'], ['Yuhana YOKOI', '182.68'], ['Alexia PAGANINI', '179.69'], ['Hongyi CHEN', '175.77'], ['Nicole SCHOTT', '172.08'], ['Yuna SHIRAIWA', '170.03'], ['Stanislava KONSTANTINOVA', '156.94'], ['Emmi PELTONEN', '152.50']]\n"
   ]
  },
  {
   "cell_type": "code",
   "execution_count": null,
   "id": "9fc1f35c-cb5d-47c3-bf95-20c9adb1b948",
   "metadata": {},
   "outputs": [],
   "source": [
    "list_16=[['Alena KOSTORNAIA', '236.00'], ['Alina ZAGITOVA', '216.06'], ['Mariah BELL', '212.89'], ['Kaori SAKAMOTO', '199.24'], ['Starr ANDREWS', '180.54'], ['Wakaba HIGUCHI', '174.12'], ['Nicole SCHOTT', '166.89'], ['Lea SERNA', '166.02'], ['Yuna SHIRAIWA', '161.71'], ['Mae Berenice MEITE', '157.45'], ['Maria SOTSKOVA', '144.89'], ['Laurine LECAVELIER', '']]\n"
   ]
  },
  {
   "cell_type": "code",
   "execution_count": null,
   "id": "de8f6c9d-13e2-441e-b601-7c31d5a0ace3",
   "metadata": {},
   "outputs": [],
   "source": [
    "list_17=[['Alena KOSTORNAIA', '247.59'], ['Anna SHCHERBAKOVA', '240.92'], ['Alexandra TRUSOVA', '233.18'], ['Rika KIHIRA', '216.47'], ['Bradie TENNELL', '212.18'], ['Alina ZAGITOVA', '205.23']]\n"
   ]
  },
  {
   "cell_type": "code",
   "execution_count": null,
   "id": "aec258a4-0c92-4b3b-b851-475f4f6ebfe7",
   "metadata": {},
   "outputs": [],
   "source": [
    "list_18=[['Alina ZAGITOVA', '237.50'], ['Elizabet TURSYNBAEVA', '224.76'], ['Evgenia MEDVEDEVA', '223.80'], ['Rika KIHIRA', '223.49'], ['Kaori SAKAMOTO', '222.83'], ['Satoko MIYAHARA', '215.95'], ['Bradie TENNELL', '213.47'], ['Sofia SAMODUROVA', '208.58'], ['Mariah BELL', '208.07'], ['Eunsoo LIM', '205.57'], ['Gabrielle DALEMAN', '192.67'], ['Loena HENDRICKX', '186.29'], ['Ekaterina RYABOVA', '179.88'], ['Yi Christy LEUNG', '177.22'], ['Laurine LECAVELIER', '170.59'], ['Nicole SCHOTT', '170.56'], ['Alexandra FEIGIN', '165.31'], ['Dasa GRM', '161.16'], ['Hongyi CHEN', '157.59'], ['Eliska BREZINOVA', '153.45'], ['Natasha MCKAY', '151.56'], ['Eva Lotta KIIBUS', '149.99'], ['Alaine CHARTRAND', '148.97'], ['Isadora WILLIAMS', '143.22'], ['Ivett TOTH', '54.87'], ['Pernille SORENSEN', '54.36'], ['Marina PIREDDA', '53.27'], ['Emmi PELTONEN', '53.22'], ['Julia SAUTER', '53.11'], ['Anita OSTLUND', '53.07'], ['Roberta RODEGHIERO', '51.50'], ['Nicole RAJICOVA', '51.22'], ['Alexia PAGANINI', '50.51'], ['Valentina MATOS', '50.25'], ['Aurora COTOP', '48.83'], ['Kailani CRAINE', '48.82'], ['Sophia SCHALLER', '48.72'], ['Elzbieta KROPA', '47.95'], ['Anastasiya GALUSTYAN', '47.75'], ['Kyarha VAN TIEL', '41.85']]\n"
   ]
  },
  {
   "cell_type": "code",
   "execution_count": null,
   "id": "cf965d38-24c5-429d-9d80-992f9bf63ee6",
   "metadata": {},
   "outputs": [],
   "source": [
    "list_19=[['Rika KIHIRA', '221.99'], ['Elizabet TURSYNBAEVA', '207.46'], ['Mai MIHARA', '207.12'], ['Kaori SAKAMOTO', '206.79'], ['Bradie TENNELL', '202.07'], ['Mariah BELL', '193.94'], ['Eunsoo LIM', '191.85'], ['Yelim KIM', '187.93'], ['Veronik MALLET', '170.46'], ['Larkyn AUSTMAN', '165.21'], ['Ting CUI', '164.84'], ['Yi Christy LEUNG', '164.79'], ['Hanul KIM', '162.48'], ['Hongyi CHEN', '150.50'], ['Kailani CRAINE', '149.52'], ['Alaine CHARTRAND', '147.54'], ['Isadora WILLIAMS', '138.26'], ['Alisson Krystle PERTICHETO', '136.97'], ['Amy LIN', '134.56'], ['Andrea MONTESINOS CANTU', '124.51'], ['Joanna SO', '117.82'], ['Brooklee HAN', '\\xa0']]\n"
   ]
  },
  {
   "cell_type": "code",
   "execution_count": null,
   "id": "38fadd4f-eaa3-4046-9e51-38e1e4ad2938",
   "metadata": {},
   "outputs": [],
   "source": [
    "list_20=[['Sofia SAMODUROVA', '213.84'], ['Alina ZAGITOVA', '198.34'], ['Viveca LINDFORS', '194.40'], ['Stanislava KONSTANTINOVA', '189.72'], ['Laurine LECAVELIER', '180.05'], ['Alexia PAGANINI', '179.90'], ['Mae Berenice MEITE', '177.10'], ['Emmi PELTONEN', '170.03'], ['Nicole RAJICOVA', '169.03'], ['Eliska BREZINOVA', '166.77'], ['Alexandra FEIGIN', '164.20'], ['Ekaterina RYABOVA', '163.17'], ['Ivett TOTH', '160.83'], ['Julia SAUTER', '153.15'], ['Yasmine Kimiko YAMADA', '151.12'], ['Nicole SCHOTT', '149.26'], ['Dasa GRM', '147.29'], ['Anita ÖSTLUND', '144.66'], ['Lucrezia GENNARO', '143.10'], ['Natasha MCKAY', '140.08'], ['Nathalie WEINZIERL', '134.58'], ['Anastasiya GALUSTYAN', '132.63'], ['Pernille SORENSEN', '131.78'], ['Antonina DUBININA', '120.25'], ['Elzbieta GABRYSZAK', '45.77'], ['Sophia SCHALLER', '44.20'], ['Gerli LIINAMÄE', '44.08'], ['Kyarha VAN TIEL', '44.00'], ['Lara Naki GUTMANN', '43.96'], ['Silvia HUGEC', '43.33'], ['Valentina MATOS', '42.86'], ['Paulina RAMANAUSKAITE', '42.31'], ['Camilla GJERSEM', '39.81'], ['Hana CVIJANOVIC', '38.00'], ['Elizabete JUBKANE', '37.75'], ['Anastasia GOZHVA', '35.51']]\n",
    "\n",
    "\n",
    "list_21=[['Alena KOSTORNAIA', '240.81'], ['Anna SHCHERBAKOVA', '237.76'], ['Alexandra TRUSOVA', '225.34'], ['Alexia PAGANINI', '192.88'], ['Emmi PELTONEN', '181.79'], ['Ekaterina RYABOVA', '181.49'], ['Eva Lotta KIIBUS', '181.24'], ['Alessia TORNAGHI', '172.17'], ['Mae Berenice MEITE', '172.08'], ['Ekaterina KURAKOVA', '170.24'], ['Maia MAZZARA', '170.06'], ['Linnea CEDER', '166.16'], ['Nicole SCHOTT', '162.26'], ['Viktoriia SAFONOVA', '159.91'], ['Alina URUSHADZE', '154.81'], ['Lea SERNA', '154.73'], ['Alexandra FEIGIN', '154.43'], ['Anita OSTLUND', '152.91'], ['Yasmine Kimiko YAMADA', '152.62'], ['Dasa GRM', '150.90'], ['Ivett TOTH', '150.36'], ['Eliska BREZINOVA', '145.35'], ['Natasha McKAY', '142.14'], ['Olga MIKUTINA', '130.15'], ['Nelli IOFFE', '51.70'], ['Aleksandra GOLOVKINA', '50.88'], ['Anastasiya GALUSTYAN', '50.08'], ['Valentina MATOS', '49.02'], ['Ema DOBOSZOVA', '46.27'], ['Angelina KUCHVALSKA', '45.09'], ['Antonina DUBININA', '43.62'], ['Sinem KUYUCU', '43.16'], ['Jenni SAARINEN', '42.61'], ['Anastasia GOZHVA', '40.49'], ['Niki WORIES', '38.19'], ['Klara STEPANOVA', '37.83'], ['Hana CVIJANOVIC', '36.22']]\n",
    "\n",
    "\n",
    "list_22=[['Rika KIHIRA', '232.34'], ['Young YOU', '223.23'], ['Bradie TENNELL', '222.97'], ['Wakaba HIGUCHI', '207.46'], ['Kaori SAKAMOTO', '202.79'], ['Yelim KIM', '202.76'], ['Karen CHEN', '201.06'], ['Eunsoo LIM', '200.59'], ['Amber GLENN', '190.83'], ['Alicia PINEAULT', '173.55'], ['Hongyi CHEN', '167.26'], ['Kailani CRAINE', '161.15'], ['Yi ZHU', '155.41'], ['Alison SCHUMACHER', '150.73'], ['Emily BAUSBACK', '147.23'], ['Andrea MONTESINOS CANTU', '135.24'], ['Jenny SHYU', '134.80'], ['Alisson Krystle PERTICHETO', '129.99'], ['Cheuk Ka Kahlen CHEUNG', '121.29'], ['Amy LIN', '116.97'], ['Aiza MAMBEKOVA', '107.68']]\n",
    "\n",
    "\n",
    "list_23=[['Anna SHCHERBAKOVA', '229.69'], ['Alena KOSTORNAIA', '221.85'], ['Wakaba HIGUCHI', '204.91'], ['Kseniia SINITSYNA', '198.76'], ['Karen CHEN', '194.00'], ['Mariah BELL', '190.79'], ['Ekaterina RYABOVA', '186.65'], ['Yeonjeong PARK', '186.11'], ['Yuhana YOKOI', '176.93'], ['Haein LEE', '171.32'], ['Lea SERNA', '170.33'], ['Starr ANDREWS', '']]\n",
    "\n",
    "\n",
    "list_24=[['Kaori SAKAMOTO', '229.51'], ['Wakaba HIGUCHI', '200.98'], ['Rino MATSUIKE', '198.97'], ['Mai MIHARA', '194.73'], ['Mako YAMASHITA', '186.13'], ['Mana KAWABE', '185.70'], ['Young YOU', '181.73'], ['Yuhana YOKOI', '176.49'], ['Marin HONDA', '162.57'], ['Tomoe KAWABATA', '162.24'], ['Nana ARAKI', '162.15'], ['Chisato URAMATSU', '162.14']]\n",
    "\n",
    "\n",
    "list_25=[['Mariah BELL', '212.73'], ['Bradie TENNELL', '211.07'], ['Audrey SHIN', '206.15'], ['Karen CHEN', '204.90'], ['Amber GLENN', '190.09'], ['Shan LIN', '182.11'], ['Paige RYDBERG', '178.13'], ['Starr ANDREWS', '171.70'], ['Sierra VENETTA', '170.72'], ['Pooja KALYAN', '158.95'], ['Finley HAWK', '154.25'], ['Gracie GOLD', '127.82']]\n",
    "\n",
    "\n",
    "list_27=[['Elizaveta TUKTAMYSHEVA', '223.39'], ['Alena KOSTORNAIA', '220.78'], ['Anastasiia GULIAKOVA', '199.03'], ['Alexandra TRUSOVA', '198.93'], ['Elizaveta NUGUMANOVA', '191.52'], ['Eva-Lotta KIIBUS', '186.00'], ['Sofia SAMODUROVA', '184.81'], ['Viktoriia SAFONOVA', '184.57'], ['Ekaterina RYABOVA', '167.85'], ['Alina URUSHADZE', '150.68'], ['Anastasiya GALUSTYAN', '52.06'], ['Anna SHCHERBAKOVA', '']]\n",
    "\n",
    "list_28=[['Hongyi CHEN', '186.53'], ['Angel LI', '148.33'], ['Minzhi JIN', '135.43'], ['Siyang ZHANG', '128.20'], ['Lu ZHENG', '86.48']]\n",
    "\n",
    "\n",
    "list_29=[['Anna SHCHERBAKOVA', '229.69'], ['Alena KOSTORNAIA', '221.85'], ['Wakaba HIGUCHI', '204.91'], ['Kseniia SINITSYNA', '198.76'], ['Karen CHEN', '194.00'], ['Mariah BELL', '190.79'], ['Ekaterina RYABOVA', '186.65'], ['Yeonjeong PARK', '186.11'], ['Yuhana YOKOI', '176.93'], ['Haein LEE', '171.32'], ['Lea SERNA', '170.33'], ['Starr ANDREWS', '']]\n",
    "\n",
    "\n",
    "list_30=[['Anna SHCHERBAKOVA', '233.17'], ['Elizaveta TUKTAMYSHEVA', '220.46'], ['Alexandra TRUSOVA', '217.20'], ['Karen CHEN', '208.63'], ['Loena HENDRICKX', '208.44'], ['Kaori SAKAMOTO', '207.80'], ['Rika KIHIRA', '205.70'], ['Olga MIKUTINA', '198.77'], ['Bradie TENNELL', '197.81'], ['Haein LEE', '193.44'], ['Yelim KIM', '191.78'], ['Ekaterina RYABOVA', '189.46'], ['Madeline SCHIZAS', '185.78'], ['Eva-Lotta KIIBUS', '181.47'], ['Josefin TALJEGARD', '178.10'], ['Lindsay van ZUNDERT', '174.50'], ['Alexandra FEIGIN', '173.52'], ['Nicole SCHOTT', '172.80'], ['Satoko MIYAHARA', '172.30'], ['Alina URUSHADZE', '169.01'], ['Hongyi CHEN', '162.79'], ['Eliska BREZINOVA', '155.14'], ['Natasha McKAY', '153.46'], ['Jenni SAARINEN', '146.54'], ['Alexia PAGANINI', '57.23'], ['Kailani CRAINE', '56.86'], ['Emily BAUSBACK', '55.74'], ['Lara Naki GUTMANN', '55.64'], ['Emmy MA', '55.63'], ['Julia LANG', '54.20'], ['Nelli IOFFE', '52.43'], ['Ekaterina KURAKOVA', '52.28'], ['Angelina KUCHVALSKA', '47.94'], ['Dasa GRM', '47.76'], ['Anastasiia ARKHIPOVA', '45.07'], ['Emilea ZINGAS', '43.20'], ['Elzbieta KROPA', '41.31'], ['Mae Berenice MEITE', ''], ['Yi Christy LEUNG', '']]\n",
    "\n",
    "\n",
    "list_31=[['Kaori SAKAMOTO', '223.34'], ['Mana KAWABE', '205.44'], ['Young YOU', '203.60'], ['Alysa LIU', '202.90'], ['Eunsoo LIM', '186.68'], ['Rino MATSUIKE', '186.17'], ['Amber GLENN', '175.83'], ['Nicole SCHOTT', '172.37'], ['Seoyeong WI', '170.54'], ['Daria USACHEVA', '']]\n",
    "\n",
    "\n",
    "list_32=[['Alexandra TRUSOVA', '232.37'], ['Daria USACHEVA', '217.31'], ['Young YOU', '216.97'], ['Kaori SAKAMOTO', '215.93'], ['Kseniia SINITSYNA', '205.76'], ['Amber GLENN', '201.02'], ['Satoko MIYAHARA', '200.51'], ['Yelim KIM', '199.34'], ['Ekaterina KURAKOVA', '188.60'], ['Starr ANDREWS', '177.63'], ['Yuhana YOKOI', '174.07'], ['Audrey SHIN', '160.78']]\n",
    "\n",
    "\n",
    "list_33=[['Kamila VALIEVA', '265.08'], ['Elizaveta TUKTAMYSHEVA', '232.88'], ['Alena KOSTORNAIA', '214.54'], ['Mai MIHARA', '210.01'], ['Alysa LIU', '206.53'], ['Wakaba HIGUCHI', '205.27'], ['Haein LEE', '190.00'], ['Madeline SCHIZAS', '186.56'], ['Mana KAWABE', '186.52'], ['Karen CHEN', '183.41'], ['Emily BAUSBACK', '159.88'], ['Alison SCHUMACHER', '151.19']]\n",
    "\n",
    "\n",
    "list_34=[['Anna SHCHERBAKOVA', '229.69'], ['Alena KOSTORNAIA', '221.85'], ['Wakaba HIGUCHI', '204.91'], ['Kseniia SINITSYNA', '198.76'], ['Karen CHEN', '194.00'], ['Mariah BELL', '190.79'], ['Ekaterina RYABOVA', '186.65'], ['Yeonjeong PARK', '186.11'], ['Yuhana YOKOI', '176.93'], ['Haein LEE', '171.32'], ['Lea SERNA', '170.33'], ['Starr ANDREWS', '']]\n",
    "\n",
    "\n",
    "list_35=[['Kamila VALIEVA', '272.71'], ['Elizaveta TUKTAMYSHEVA', '229.23'], ['Maiia KHROMYKH', '219.69'], ['Mariah BELL', '210.35'], ['Loena HENDRICKX', '203.69'], ['Madeline SCHIZAS', '192.14'], ['Viktoriia SAFONOVA', '185.64'], ['Rino MATSUIKE', '184.36'], ['Ekaterina KURAKOVA', '175.64'], ['Ekaterina RYABOVA', '175.24'], ['Eva-Lotta KIIBUS', '163.11'], ['Olga MIKUTINA', '161.09']]\n",
    "\n",
    "\n",
    "list_36=[['Anna SHCHERBAKOVA', '236.78'], ['Maiia KHROMYKH', '226.35'], ['Loena HENDRICKX', '219.05'], ['Mai MIHARA', '214.95'], ['Satoko MIYAHARA', '209.57'], ['Yelim KIM', '193.50'], ['Sofia SAMODUROVA', '180.59'], ['Eunsoo LIM', '179.58'], ['Yi ZHU', '171.25'], ['Nicole SCHOTT', '167.20'], ['Lara Naki GUTMANN', '158.57'], ['Lucrezia BECCARI', '148.29']]\n"
   ]
  },
  {
   "cell_type": "code",
   "execution_count": null,
   "id": "2491939b-9c9b-436f-8efd-c61d2b280ee4",
   "metadata": {},
   "outputs": [],
   "source": [
    "list_1 = add_data(list_1, '2020', 'EC')\n",
    "list_2 = add_data(list_2, '2018', 'WC')\n",
    "list_3 = add_data(list_3, '2018', 'EC')\n",
    "list_4 = add_data(list_4, '2018', 'SA')\n",
    "list_5 = add_data(list_5, '2018', 'SC')\n",
    "list_6 = add_data(list_6, '2018', 'HC')\n",
    "list_7 = add_data(list_7, '2018', 'NHK')\n",
    "list_8 = add_data(list_8, '2018', 'RC')\n",
    "list_9 = add_data(list_9, '2018', 'F')\n",
    "list_10 = add_data(list_10, '2018', 'GP')\n",
    "list_11 = add_data(list_11, '2019', 'F')\n",
    "list_12 = add_data(list_12, '2019', 'SA')\n",
    "list_13 = add_data(list_13,\"2019\",\"SC\")\n",
    "list_14 = add_data(list_14,\"2019\",\"NHK\")\n",
    "list_15 = add_data(list_15,\"2019\",\"RC\")\n",
    "list_16 = add_data(list_16,\"2019\",\"F\")\n",
    "list_17 = add_data(list_17,\"2019\",\"GP\")\n",
    "list_18 = add_data(list_18,\"2019\",\"WC\")\n",
    "list_19 = add_data(list_19,\"2019\",\"4C\")\n",
    "list_20 = add_data(list_20,\"2019\",\"EC\")\n",
    "list_21 = add_data(list_21,\"2020\",\"EC\")\n",
    "list_22 = add_data(list_22,\"2020\",\"4C\")\n",
    "list_23 = add_data(list_23,\"2021\",\"F\")\n",
    "list_24 = add_data(list_24,\"2020\",\"NHK\")\n",
    "list_25 = add_data(list_25, \"2020\", \"SA\")\n",
    "list_27 = add_data(list_27, \"2020\", \"RC\")\n",
    "list_28 = add_data(list_28, \"2020\", \"CC\")\n",
    "list_29 = add_data(list_29, \"2020\", \"F\")\n",
    "list_30 = add_data(list_30, \"2021\", \"WC\")\n",
    "list_31 = add_data(list_31, \"2021\", \"NHK\")\n",
    "list_32 = add_data(list_32, \"2021\", \"SA\")\n",
    "list_33 = add_data(list_33, \"2021\", \"SC\")\n",
    "list_34 = add_data(list_34, \"2021\", \"F\")\n",
    "list_35 = add_data(list_35, \"2021\", \"SC\")\n",
    "list_36 = add_data(list_36, \"2021\", \"I\")"
   ]
  },
  {
   "cell_type": "code",
   "execution_count": null,
   "id": "3a839a34-dcc4-4fc9-8795-d5f32fe79eec",
   "metadata": {},
   "outputs": [],
   "source": [
    "final_list= list_1+list_2+list_3+list_4+list_5+list_6+list_7+list_8+list_9+list_10+list_11+list_12+list_13+list_14+list_15+list_16+list_17+list_18+list_19+list_20+list_21+list_22+list_23+list_24+list_25+list_27+list_28+list_29+list_30+list_31+list_32+list_33+list_34+list_35+list_36\n"
   ]
  },
  {
   "cell_type": "code",
   "execution_count": null,
   "id": "7f2f255b-86de-4794-b8de-93dcb8a7d440",
   "metadata": {},
   "outputs": [],
   "source": [
    "with open('ice_skating.csv','w') as f:\n",
    "    for row in final_list:\n",
    "        for x in row:\n",
    "          if x == row[-1]:\n",
    "            f.write(str(x))\n",
    "          else:\n",
    "            f.write(str(x) + ',')\n",
    "        f.write('\\n')"
   ]
  },
  {
   "cell_type": "code",
   "execution_count": null,
   "id": "d2300d60-69e6-4c99-8e0d-625b8b62e1e2",
   "metadata": {},
   "outputs": [],
   "source": [
    "trimmed_list = []\n",
    "with open('ice_skating.csv', 'r') as file:\n",
    "    reader = csv.reader(file)\n",
    "    for row in reader:\n",
    "      if row[0].title() in skaters_list:\n",
    "        trimmed_list.append(row) "
   ]
  },
  {
   "cell_type": "code",
   "execution_count": null,
   "id": "2ffabccb-9998-4f22-9bf3-4ef2e9e794e3",
   "metadata": {},
   "outputs": [],
   "source": [
    "with open('trimmed_ice_skating.csv','w') as f:\n",
    "  csvwriter = csv.writer(f, delimiter=',')\n",
    "  csvwriter.writerow(['name','score','year','event'])\n",
    "  csvwriter.writerows(trimmed_list)\n",
    "  \n",
    "  for row in trimmed_list:\n",
    "      for x in row:\n",
    "        if x == row[-1]:\n",
    "          f.write(str(x))\n",
    "        else :\n",
    "          f.write(str(x) + ',')\n",
    "      f.write('\\n')      "
   ]
  },
  {
   "cell_type": "code",
   "execution_count": null,
   "id": "5b482b8d-3cd5-4e84-aadc-0978180d2f00",
   "metadata": {},
   "outputs": [],
   "source": [
    "with open('trimmed_ice_skating.csv','r') as f:\n",
    "  data = f.read()"
   ]
  },
  {
   "cell_type": "code",
   "execution_count": null,
   "id": "c71e004f-42b1-45f5-8ba4-ab1fdc853f53",
   "metadata": {},
   "outputs": [],
   "source": [
    "ice_skating_final = pd.read_csv('trimmed_ice_skating.csv')\n",
    "ice_skating_final[\"score\"] = pd.to_numeric(ice_skating_final[\"score\"], downcast=\"float\")"
   ]
  },
  {
   "cell_type": "code",
   "execution_count": null,
   "id": "9e16b8db-d198-4c5c-9e88-3ce4fa84a458",
   "metadata": {},
   "outputs": [],
   "source": [
    "years_before_last = range(2018, 2021)\n",
    "# year_seed = np.random.RandomState(seed=42)\n",
    "train_years = [2018,2019,2020]\n",
    "test_years = [2021]\n",
    "train_years, test_years"
   ]
  },
  {
   "cell_type": "code",
   "execution_count": null,
   "id": "2f72df56-bb8c-4b19-8e68-49dac3f1e9c2",
   "metadata": {},
   "outputs": [],
   "source": [
    "def train_test_split(scores, train_years, test_years):\n",
    "    ''' Take all scores (for either male and female) \n",
    "    and split them into 4 different tables: \n",
    "    1. Season scores for training years\n",
    "    2. World scores for training years\n",
    "    3. Season scores for testing years\n",
    "    4. World scores for testing years\n",
    "    '''\n",
    "    season_scores = scores.loc[scores['event']!='WC']\n",
    "    world_scores = scores.loc[scores['event']=='WC']\n",
    "    \n",
    "    season_train = season_scores.loc[season_scores['year'].isin(train_years)]\n",
    "    world_train = world_scores.loc[world_scores['year'].isin(train_years)]\n",
    "    season_test = season_scores.loc[season_scores['year'].isin(test_years)]\n",
    "    world_test = world_scores.loc[world_scores['year'].isin(test_years)]    \n",
    "    \n",
    "    return season_scores, world_scores, season_train, world_train, season_test, world_test"
   ]
  },
  {
   "cell_type": "code",
   "execution_count": null,
   "id": "ad3040f2-7013-462b-a372-69e90eae604c",
   "metadata": {},
   "outputs": [],
   "source": [
    "season_scores, world_scores,season_train, world_train, season_test, world_test = train_test_split(ice_skating_final, train_years, test_years)\n",
    "season_train.shape, world_train.shape, season_test.shape, world_test.shape\n",
    "print (season_scores)"
   ]
  },
  {
   "cell_type": "code",
   "execution_count": null,
   "id": "f113c208-2750-49a4-b519-48ff5395c85b",
   "metadata": {},
   "outputs": [],
   "source": [
    "def return_ranking(skater_scores, world_scores):\n",
    "    '''\n",
    "    Return predicted ranking and world rankings (as lists)\n",
    "    from Series of corresponding scores.\n",
    "    The reason why both rankings are returned at once is because\n",
    "    not all skaters in the season will participate in the world championship,\n",
    "    and vice versa. Therefore, only skaters who participated in both\n",
    "    will be of interest.    \n",
    "    '''\n",
    "    skater_scores= skater_scores.sort_values('score',ascending= False)\n",
    "    world_scores = world_scores.sort_values( 'score',ascending= False)\n",
    "    print (skater_scores)\n",
    "    print()\n",
    "    print (world_scores)\n",
    "    skater_ranking = list(skater_scores.index.intersection(world_scores.index))\n",
    "    print (skater_ranking)\n",
    "    world_ranking = list(world_scores.index.intersection(skater_scores.index))\n",
    "    print (world_ranking)\n",
    "    return skater_ranking, world_ranking"
   ]
  },
  {
   "cell_type": "code",
   "execution_count": null,
   "id": "0a961f31-73d8-4f7b-a112-0524a2ad67ea",
   "metadata": {},
   "outputs": [],
   "source": [
    "def calculate_kendall_tau(skater_ranking, world_ranking, verbose=True):\n",
    "    '''\n",
    "    Caluculate kendall's tau from two ranking lists of the same size\n",
    "    '''\n",
    "    # Generate set of ordered pairs from each ranking\n",
    "    skater_pairs = set(combinations(skater_ranking, 2))\n",
    "    world_pairs = set(combinations(world_ranking, 2))\n",
    "    \n",
    "    # Calculate number of total, concordant & discordant pairs and tau\n",
    "    n_pairs = len(skater_pairs)\n",
    "    n_concordant_pairs = len(skater_pairs & world_pairs)\n",
    "    \n",
    "    if verbose:\n",
    "        print(f'There are {n_concordant_pairs} concordant_pairs out of {n_pairs} pairs')\n",
    "        \n",
    "    # Calculate Kendall's tau from pair counts\n",
    "    tau = (2 * n_concordant_pairs - n_pairs) / n_pairs\n",
    "    return tau "
   ]
  },
  {
   "cell_type": "code",
   "execution_count": null,
   "id": "62c1c64f-dc1e-40c5-928b-bfd1f4472c16",
   "metadata": {},
   "outputs": [],
   "source": [
    "season_avg = season_scores.groupby(['name']).mean().sort_values('score',ascending=False)\n",
    "world_avg = world_scores.groupby(['name']).mean().sort_values('score',ascending=False)\n",
    "print (season_avg)\n",
    "print ()\n",
    "print (world_avg)\n",
    "season_avg.head()\n",
    "season_avg.to_csv('ice_skating_final.csv')"
   ]
  },
  {
   "cell_type": "code",
   "execution_count": null,
   "id": "6a4d0691-9662-4599-830b-79826851fd8d",
   "metadata": {},
   "outputs": [],
   "source": [
    "avg_ranking, world_ranking = return_ranking(season_avg, world_avg)\n",
    "\n",
    "avg_kendall_tau = calculate_kendall_tau(avg_ranking, world_ranking)\n",
    "avg_kendall_tau"
   ]
  },
  {
   "cell_type": "code",
   "execution_count": null,
   "id": "d7b2d3aa-64a2-4704-bc55-ab3e26207c5f",
   "metadata": {},
   "outputs": [],
   "source": [
    "season_numeric_rank = list(range(len(avg_ranking)))\n",
    "world_numeric_rank = [avg_ranking.index(skater) for skater in world_ranking]\n",
    "kendalltau(season_numeric_rank, world_numeric_rank)"
   ]
  },
  {
   "cell_type": "code",
   "execution_count": null,
   "id": "2338b45e-a406-46eb-8ebf-fb2409567af4",
   "metadata": {},
   "outputs": [],
   "source": [
    "score_comparison = pd.merge(season_scores, season_avg, left_on='name', right_index=True, suffixes=['', '_avg'])\n",
    "score_comparison['sq_error'] = (score_comparison['score'] - score_comparison['score_avg'])**2\n",
    "np.sqrt(score_comparison['sq_error'].mean())"
   ]
  },
  {
   "cell_type": "code",
   "execution_count": null,
   "id": "f7c385e9-a51d-4143-b404-d0d7c07aa78e",
   "metadata": {},
   "outputs": [],
   "source": [
    "dummies = pd.get_dummies(season_scores[['name', 'event']], prefix=['', ''], prefix_sep='', drop_first=True)\n",
    "unique_skaters = season_scores['name'].unique()\n",
    "unique_events = season_scores['event'].unique()\n",
    "\n",
    "dummies_skater_count = len(unique_skaters) - 1\n",
    "dummies_skaters = dummies.columns[:dummies_skater_count]\n",
    "dummies_events = dummies.columns[dummies_skater_count:]\n",
    "\n",
    "dropped_skater = list(set(unique_skaters) - set(dummies_skaters))[0]\n",
    "dropped_event = list(set(unique_events) - set(dummies_events))[0]"
   ]
  },
  {
   "cell_type": "code",
   "execution_count": null,
   "id": "e64419f3-2abb-4406-b544-a1bb281b66e7",
   "metadata": {},
   "outputs": [],
   "source": [
    "X = dummies.values\n",
    "y = season_scores['score'].values\n",
    "\n",
    "# Append column of all 1's to the left of feature matrix\n",
    "X = np.insert(X, obj=0, values=1, axis=1)\n",
    "\n",
    "# Apply normal equation to find linear regression coefficients (including intercept)\n",
    "coefs_linear = np.linalg.inv(X.T @ X) @ (X.T @ y)\n",
    "coefs_linear[:10]"
   ]
  },
  {
   "cell_type": "code",
   "execution_count": null,
   "id": "170b4120-a375-4915-a81f-2623c996b423",
   "metadata": {},
   "outputs": [],
   "source": [
    "linear_rmse = np.sqrt(np.mean((y - X @ coefs_linear)**2))\n",
    "linear_rmse"
   ]
  },
  {
   "cell_type": "code",
   "execution_count": null,
   "id": "19630bb3-b134-440e-ae6b-fbdfd504fc51",
   "metadata": {},
   "outputs": [],
   "source": [
    "lin = LinearRegression(fit_intercept=False)\n",
    "lin.fit(X, y)\n",
    "lin.coef_[:10], lin.intercept_"
   ]
  },
  {
   "cell_type": "code",
   "execution_count": null,
   "id": "92c572fe-1a66-4c08-8d61-20d789b0941f",
   "metadata": {},
   "outputs": [],
   "source": []
  },
  {
   "cell_type": "code",
   "execution_count": null,
   "id": "e19ec61a-b509-4898-80c8-e19b691a0710",
   "metadata": {},
   "outputs": [],
   "source": []
  }
 ],
 "metadata": {
  "kernelspec": {
   "display_name": "Python 3 (ipykernel)",
   "language": "python",
   "name": "python3"
  },
  "language_info": {
   "codemirror_mode": {
    "name": "ipython",
    "version": 3
   },
   "file_extension": ".py",
   "mimetype": "text/x-python",
   "name": "python",
   "nbconvert_exporter": "python",
   "pygments_lexer": "ipython3",
   "version": "3.10.1"
  }
 },
 "nbformat": 4,
 "nbformat_minor": 5
}
